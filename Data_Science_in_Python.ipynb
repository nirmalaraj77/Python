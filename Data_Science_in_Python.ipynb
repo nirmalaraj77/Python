{
  "nbformat": 4,
  "nbformat_minor": 0,
  "metadata": {
    "colab": {
      "provenance": [],
      "authorship_tag": "ABX9TyMjkrlkWHojsMe0HDaAMdKG",
      "include_colab_link": true
    },
    "kernelspec": {
      "name": "python3",
      "display_name": "Python 3"
    },
    "language_info": {
      "name": "python"
    }
  },
  "cells": [
    {
      "cell_type": "markdown",
      "metadata": {
        "id": "view-in-github",
        "colab_type": "text"
      },
      "source": [
        "<a href=\"https://colab.research.google.com/github/nirmalaraj77/Python/blob/main/Data_Science_in_Python.ipynb\" target=\"_parent\"><img src=\"https://colab.research.google.com/assets/colab-badge.svg\" alt=\"Open In Colab\"/></a>"
      ]
    },
    {
      "cell_type": "markdown",
      "source": [
        "#**DATA SCIENCE IN PYTHON**"
      ],
      "metadata": {
        "id": "Qh4T5Qk0QdH4"
      }
    },
    {
      "cell_type": "markdown",
      "source": [
        "##**PANDAS**\n",
        "* DataFrame\n",
        "* Tabular Data\n",
        "\n",
        "##**LOAD AND INSPECT CSV**\n",
        "* df = pd.read_csv ('file_name.csv')\n",
        "* df.head () # 1st 5 rows\n",
        "* df.info () # Inspect DataFrame\n",
        "\n",
        "##**SELECT COLUMNS**\n",
        "* dataframe ['column_name'] # Select column with brackets and string notation for columns with spaces and special characters\n",
        "\n",
        "* dataframe.column_name # Select column with dot notation for columns with letters, numbers and underscores\n",
        "\n",
        "##**SELECT ROWS WITH LOGIC >, >=, <, <=, ==, !=**\n",
        "\n",
        "* dataframe[dataframe.column > x] # Select row with logic as index\n",
        "\n",
        "\n",
        "\n",
        "\n"
      ],
      "metadata": {
        "id": "SryUaPxbQf3g"
      }
    },
    {
      "cell_type": "code",
      "source": [
        "# Import packages\n",
        "import pandas as pd\n",
        "from matplotlib import pyplot as plt\n",
        "import statsmodels as sm\n",
        "import seaborn as sns\n",
        "import numpy as np\n",
        "\n",
        "\n",
        "# View all styles in plt\n",
        "print (plt.style.available)"
      ],
      "metadata": {
        "colab": {
          "base_uri": "https://localhost:8080/"
        },
        "id": "CVEjDRR3QmPm",
        "outputId": "cee26911-3f91-4d39-ccb0-9649feab84ee"
      },
      "execution_count": 2,
      "outputs": [
        {
          "output_type": "stream",
          "name": "stdout",
          "text": [
            "['Solarize_Light2', '_classic_test_patch', '_mpl-gallery', '_mpl-gallery-nogrid', 'bmh', 'classic', 'dark_background', 'fast', 'fivethirtyeight', 'ggplot', 'grayscale', 'seaborn-v0_8', 'seaborn-v0_8-bright', 'seaborn-v0_8-colorblind', 'seaborn-v0_8-dark', 'seaborn-v0_8-dark-palette', 'seaborn-v0_8-darkgrid', 'seaborn-v0_8-deep', 'seaborn-v0_8-muted', 'seaborn-v0_8-notebook', 'seaborn-v0_8-paper', 'seaborn-v0_8-pastel', 'seaborn-v0_8-poster', 'seaborn-v0_8-talk', 'seaborn-v0_8-ticks', 'seaborn-v0_8-white', 'seaborn-v0_8-whitegrid', 'tableau-colorblind10']\n"
          ]
        }
      ]
    },
    {
      "cell_type": "markdown",
      "source": [
        "##**MATPLOTLIB**\n",
        "\n",
        "##**Create 2D line plots from DataFrame - uses x and y columns from DataFrame**\n",
        "* Single line - plt.plot (data1.x_values, data1.y_values)\n",
        "* Multiple lines - plt.plot (data2.x_values, data2.y_values)\n",
        "* Add axes labels - plt.xlabel['x_label_name'] / plt.ylabel['y_label_name']\n",
        "* Add title - plt.title ('title')\n",
        "* Add legends - plt.plot (x, y, label = 'legend_name')\n",
        "* Display legends - plt.legend()\n",
        "* Arbitary text - plt.text (xcoord, ycoord, 'text')\n",
        "* Change font size - plt.title (\"Plotb Title\", fontsize=20)\n",
        "* Change font colour - plt.legend (color=\"green\")\n",
        "* Change line colour - plt.plot (x, y1, color = 'tomato')\n",
        "* Change line width - plt.plot (x, y1, linewidth=7) # Default 1\n",
        "* Change line style - plt.plot (x, y1, linestyle = '_' | '__' | '_.' | ':')\n",
        "* Add marker - plt.plot (x, y1, marker = 'x' | 's' | 'o' | 'd' | '*' | 'h' |)\n",
        "* Set style - plt.style.use ('fivethirtyeight' | 'ggplot' | 'seaborn' |\n",
        "'default')\n",
        "* **VIEW ALL STYLES - print (plt.style.available)\n",
        "* Add logarithmic scale - plt.yscale ('log') | plt.xscale ('log')\n",
        "* ADD ticks with lists - plt.x/yticks (tick_val, tick_lab)\n",
        "* Set Sizes to a NumPy Array\n",
        "* Add grid  - plt.grid(True)\n",
        "* plt.show\n",
        "\n",
        "##**Create Scatter Plot (XY Graph) from DataFrame**\n",
        "* plt.scatter (df_name.x ,df_name.y)\n",
        "* Change transparency  - plt.scatter (x ,y, alpha = 0.1) | alpha = 0 - 1\n",
        "\n",
        "##**Create Bar Chart from DataFrame**\n",
        "* Vertical Bar Chart - plt.bar (df.category, df.y)\n",
        "* Horizontal Bar Chart - plt.barh (df.category, df.y)\n",
        "* x axis labelled | label y axix only , label =\n",
        "* Add error bar - yerr= df.error\n",
        "\n",
        "\n",
        "##**Create Stacked Bar Chart from DataFrame**\n",
        "* plt.bar (df.precinc, df.dog, label = 'Dog')\n",
        "* plt.bar (df.precinct, df.cat, bottom = df.dog, label = 'Cat') # Stacks on top of bottom\n",
        "* plt.legend ()\n",
        "* plt.show ()\n",
        "\n",
        "##**Create Histogram from DataFrame - Visualises distribution of values**\n",
        "* Divide datapoints into bins # Default 10 bins\n",
        "* plt.hist(dataset)\n",
        "* Change bins - plt.hist(dataset, bins = 40)\n",
        "* Change range - plt.hist(dataset, range (xmin, xmax))\n",
        "* plt.show ()\n",
        "\n",
        "##**Normalisation to see proportion**\n",
        "* Unnormalised E.g.\n",
        "plt.hist (data1)\n",
        "plt.hist (data2)\n",
        "\n",
        "* Normalised E.g.\n",
        "plt.hist (data1, dendsity = True)\n",
        "plt.hist (data2, density = True)\n",
        "\n"
      ],
      "metadata": {
        "id": "Eo1TNlipQuVj"
      }
    },
    {
      "cell_type": "code",
      "source": [
        "# Creat world population lists for graph\n",
        "year = [1950, 1960, 1970, 1980, 1990, 2000, 2010, 2020]\n",
        "pop = [1.5, 1.8, 2.0, 2.3, 2.7, 3.2, 3.4, 3.9]\n",
        "\n",
        "# Create line plot with year on x -axis and pop on y-axis\n",
        "plt.plot (year, pop)"
      ],
      "metadata": {
        "colab": {
          "base_uri": "https://localhost:8080/",
          "height": 470
        },
        "id": "hWgZvEsXRMzh",
        "outputId": "926715b0-2963-4a89-e27c-8d8e44cf838b"
      },
      "execution_count": 5,
      "outputs": [
        {
          "output_type": "execute_result",
          "data": {
            "text/plain": [
              "[<matplotlib.lines.Line2D at 0x79b016de8ca0>]"
            ]
          },
          "metadata": {},
          "execution_count": 5
        },
        {
          "output_type": "display_data",
          "data": {
            "text/plain": [
              "<Figure size 640x480 with 1 Axes>"
            ],
            "image/png": "[encoded data removed]"
          },
          "metadata": {}
        }
      ]
    },
    {
      "cell_type": "code",
      "source": [
        "# Create scatter plot\n",
        "plt.scatter (year, pop)"
      ],
      "metadata": {
        "colab": {
          "base_uri": "https://localhost:8080/",
          "height": 470
        },
        "id": "-kpYkFTeRXNh",
        "outputId": "9af492fb-ca42-47f4-fe74-ad8eee0ef150"
      },
      "execution_count": 4,
      "outputs": [
        {
          "output_type": "execute_result",
          "data": {
            "text/plain": [
              "<matplotlib.collections.PathCollection at 0x79b018f35f00>"
            ]
          },
          "metadata": {},
          "execution_count": 4
        },
        {
          "output_type": "display_data",
          "data": {
            "text/plain": [
              "<Figure size 640x480 with 1 Axes>"
            ],
            "image/png": "[encoded data removed]"
          },
          "metadata": {}
        }
      ]
    },
    {
      "cell_type": "code",
      "source": [
        "# Create histogram\n",
        "plt.hist (pop)"
      ],
      "metadata": {
        "colab": {
          "base_uri": "https://localhost:8080/",
          "height": 335
        },
        "id": "SvmLqjj0RbPf",
        "outputId": "87bea6b0-5546-4677-d4b2-9ece64c0b8f3"
      },
      "execution_count": null,
      "outputs": [
        {
          "output_type": "execute_result",
          "data": {
            "text/plain": [
              "(array([1., 1., 1., 1., 0., 1., 0., 2., 0., 1.]),\n",
              " array([1.5 , 1.74, 1.98, 2.22, 2.46, 2.7 , 2.94, 3.18, 3.42, 3.66, 3.9 ]),\n",
              " <a list of 10 Patch objects>)"
            ]
          },
          "metadata": {},
          "execution_count": 4
        },
        {
          "output_type": "display_data",
          "data": {
            "text/plain": [
              "<Figure size 432x288 with 1 Axes>"
            ],
            "image/png": "[encoded data removed]"
          },
          "metadata": {
            "needs_background": "light"
          }
        }
      ]
    },
    {
      "cell_type": "code",
      "source": [
        "# Create histogram, bin size = 5\n",
        "plt.hist (pop, bins = 5)"
      ],
      "metadata": {
        "colab": {
          "base_uri": "https://localhost:8080/",
          "height": 335
        },
        "id": "ToflYkOARf02",
        "outputId": "4173e4bd-fe1a-49ab-d39e-16ff757e0045"
      },
      "execution_count": null,
      "outputs": [
        {
          "output_type": "execute_result",
          "data": {
            "text/plain": [
              "(array([2., 2., 1., 2., 1.]),\n",
              " array([1.5 , 1.98, 2.46, 2.94, 3.42, 3.9 ]),\n",
              " <a list of 5 Patch objects>)"
            ]
          },
          "metadata": {},
          "execution_count": 5
        },
        {
          "output_type": "display_data",
          "data": {
            "text/plain": [
              "<Figure size 432x288 with 1 Axes>"
            ],
            "image/png": "[encoded data removed]"
          },
          "metadata": {
            "needs_background": "light"
          }
        }
      ]
    },
    {
      "cell_type": "code",
      "source": [
        "# Import pyplot from matplotlib package\n",
        "import matplotlib.pyplot as plt\n",
        "import numpy as np\n",
        "\n",
        "# Create world population lists for graph\n",
        "year = [1950, 1960, 1970, 1980, 1990, 2000, 2010, 2020]\n",
        "pop = [1.5, 1.8, 2.0, 2.3, 2.7, 3.2, 3.4, 3.9]\n",
        "\n",
        "# Label x-axis with xlabel\n",
        "plt.xlabel ('Population in Billions')\n",
        "\n",
        "# Label y-axis with ylabel\n",
        "plt.ylabel ('Year')\n",
        "\n",
        "# Label plot name with title\n",
        "plt.title ('World Development')\n",
        "\n",
        "# Make y-axis logarithmic scale with yscale('log')\n",
        "plt.yscale ('log')\n",
        "\n",
        "# Create tick value lists\n",
        "tick_val = [1, 2, 3, 4]\n",
        "tick_lab = ['1k', '2k', '3k', '4k']\n",
        "\n",
        "# Adapt the ticks on the y-axis with yticks\n",
        "plt.yticks (tick_val, tick_lab)\n",
        "\n",
        "# Store pop as a numpy array: np_size and multipy as necessary for sizes of points\n",
        "np_size = np.array(pop)\n",
        "np_size = np_size ** 20\n",
        "\n",
        "# Store colours in np array np_col\n",
        "np_col = np.array (['b', 'g', 'r', 'c', 'm', 'y', 'k', 'b'])\n",
        "\n",
        "# Call texts at plot intersections\n",
        "plt.text(1970, 2.0, 'Iron Man')\n",
        "plt.text(2010, 3.4, 'Thor')\n",
        "\n",
        "# Add grid() call\n",
        "plt.grid(True)\n",
        "\n",
        "# Update: Set s (size) argument to np_pop and c (colour) argument to np_col, also set aplha to 0.8\n",
        "plt.scatter (year, pop, s = np_size, c = np_col, alpha = 0.8)"
      ],
      "metadata": {
        "colab": {
          "base_uri": "https://localhost:8080/",
          "height": 333
        },
        "id": "XgMG0tO0S0wS",
        "outputId": "cd4aae91-3502-4286-df6d-45ef5f6c1644"
      },
      "execution_count": null,
      "outputs": [
        {
          "output_type": "execute_result",
          "data": {
            "text/plain": [
              "<matplotlib.collections.PathCollection at 0x7efe048ec5e0>"
            ]
          },
          "metadata": {},
          "execution_count": 6
        },
        {
          "output_type": "display_data",
          "data": {
            "text/plain": [
              "<Figure size 432x288 with 1 Axes>"
            ],
            "image/png": "[encoded data removed]"
          },
          "metadata": {
            "needs_background": "light"
          }
        }
      ]
    }
  ]
}