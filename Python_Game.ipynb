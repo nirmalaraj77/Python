{
  "nbformat": 4,
  "nbformat_minor": 0,
  "metadata": {
    "colab": {
      "name": "Python_Game.ipynb",
      "provenance": [],
      "authorship_tag": "ABX9TyNtFEYPLcNehdqIjoz2T7IZ",
      "include_colab_link": true
    },
    "kernelspec": {
      "name": "python3",
      "display_name": "Python 3"
    },
    "language_info": {
      "name": "python"
    }
  },
  "cells": [
    {
      "cell_type": "markdown",
      "metadata": {
        "id": "view-in-github",
        "colab_type": "text"
      },
      "source": [
        "<a href=\"https://colab.research.google.com/github/nirmalaraj77/Python/blob/main/Python_Game.ipynb\" target=\"_parent\"><img src=\"https://colab.research.google.com/assets/colab-badge.svg\" alt=\"Open In Colab\"/></a>"
      ]
    },
    {
      "cell_type": "code",
      "execution_count": 76,
      "metadata": {
        "colab": {
          "base_uri": "https://localhost:8080/"
        },
        "id": "aRg2fIbouJzy",
        "outputId": "ad0a0b83-aa57-494f-e22c-70d91125649d"
      },
      "outputs": [
        {
          "output_type": "stream",
          "name": "stdout",
          "text": [
            "\n",
            " This is the first layout\n",
            "[['A' 'B' 'C']\n",
            " ['D' 'E' 'F']\n",
            " ['G' 'H' 'I']\n",
            " ['J' 'K' 'L']\n",
            " ['M' 'N' 'O']\n",
            " ['P' 'Q' 'R']\n",
            " ['S' 'T' 'U']]\n",
            "Think of a letter and input the column the letter is in : 1\n",
            "\n",
            " This is the second layout\n",
            "[array([], shape=(0, 3), dtype='<U1')\n",
            " array([['A', 'B', 'C'],\n",
            "        ['D', 'E', 'F'],\n",
            "        ['G', 'H', 'I'],\n",
            "        ['J', 'K', 'L'],\n",
            "        ['M', 'N', 'O'],\n",
            "        ['P', 'Q', 'R'],\n",
            "        ['S', 'T', 'U']], dtype='<U1')\n",
            " array([], shape=(0, 3), dtype='<U1')]\n"
          ]
        },
        {
          "output_type": "stream",
          "name": "stderr",
          "text": [
            "/usr/local/lib/python3.7/dist-packages/ipykernel_launcher.py:11: VisibleDeprecationWarning: Creating an ndarray from ragged nested sequences (which is a list-or-tuple of lists-or-tuples-or ndarrays with different lengths or shapes) is deprecated. If you meant to do this, you must specify 'dtype=object' when creating the ndarray.\n",
            "  # This is added back by InteractiveShellApp.init_path()\n"
          ]
        }
      ],
      "source": [
        "# Import NumPy and Pandas\n",
        "import numpy as np\n",
        "import pandas as pd\n",
        "\n",
        "\n",
        "\n",
        "# Define function to create and reshape arrays\n",
        "def create_reshape_array (my_arr, x=2) :\n",
        "  \"\"\"Define function to create and reshape arrays of 21 values based on x\"\"\"\n",
        "  if x == 1:\n",
        "    arr = np.array([my_arr[7:14], my_arr[:7], my_arr [14:]])\n",
        "\n",
        "  elif x == 2:\n",
        "    arr = np.array([my_arr[:7], my_arr[7:14], my_arr [14:]])\n",
        "\n",
        "  else :\n",
        "    arr = np.array([my_arr[:7], my_arr[14:], my_arr [14:]])\n",
        "\n",
        "  # Return array\n",
        "  return arr\n",
        "\n",
        "\n",
        "\n",
        "# Set string 21 charatcers\n",
        "string = 'ABCDEFGHIJKLMNOPQRSTU'\n",
        "\n",
        "# Store string as array of 21 values\n",
        "arr = np.array([x for x in string])\n",
        "\n",
        "# Create first array by calling function\n",
        "firstarr = create_reshape_array (arr)\n",
        "\n",
        "# Reshape firstarr\n",
        "firstre = firstarr.reshape(7,3)\n",
        "\n",
        "# Print first layout\n",
        "print (\"\\n This is the first layout\")\n",
        "print (firstre)\n",
        "\n",
        "# Input Choice\n",
        "while True:\n",
        "    try:\n",
        "        x = int (input ('Think of a letter and input the column the letter is in : '))\n",
        "        if x < 1 or x >= 4:\n",
        "            raise ValueError #this will send it to the print message and back to the input option\n",
        "        break\n",
        "    except ValueError:\n",
        "        print(\"Invalid choice. The number must be 1, 2 or 3\")\n",
        "\n",
        "\n",
        "# Call function again \n",
        "secondarr = create_reshape_array (firstre, x)\n",
        "\n",
        "# Print second layout\n",
        "print (\"\\n This is the second layout\")\n",
        "print (secondarr)\n",
        "\n",
        "\n",
        "\n",
        "\n"
      ]
    },
    {
      "cell_type": "code",
      "source": [
        "# Define function to create and reshape arrays\n",
        "def create_reshape_array (my_arr) :\n",
        "  \"\"\"Define function to create and reshape arrays of 21 values\"\"\"\n",
        "  # Create first array 3r 7c\n",
        "  arr = np.array([my_arr[:7], my_arr[7:14], my_arr [14:]])\n",
        "\n",
        "  # Reshape arr 7r 3c\n",
        "  re = arr.reshape (7,3)\n",
        "\n",
        "  # Return reshaped array\n",
        "  return re\n",
        "\n",
        "\n",
        "\n",
        "\n",
        "\n",
        "# Set string 21 charatcers\n",
        "string = 'ABCDEFGHIJKLMNOPQRSTU'\n",
        "\n",
        "# Store string as array of 21 values\n",
        "arr = np.array([x for x in string])\n",
        "\n",
        "# Call function \n",
        "second = create_reshape_array(arr)\n",
        "print (second)"
      ],
      "metadata": {
        "id": "4rTEHC0buc55",
        "outputId": "2bd54b64-5935-4d8f-bc15-ed5facee4e4d",
        "colab": {
          "base_uri": "https://localhost:8080/"
        }
      },
      "execution_count": 62,
      "outputs": [
        {
          "output_type": "stream",
          "name": "stdout",
          "text": [
            "[['A' 'B' 'C']\n",
            " ['D' 'E' 'F']\n",
            " ['G' 'H' 'I']\n",
            " ['J' 'K' 'L']\n",
            " ['M' 'N' 'O']\n",
            " ['P' 'Q' 'R']\n",
            " ['S' 'T' 'U']]\n"
          ]
        }
      ]
    },
    {
      "cell_type": "code",
      "source": [],
      "metadata": {
        "id": "anPjAs5bRAxy"
      },
      "execution_count": null,
      "outputs": []
    }
  ]
}