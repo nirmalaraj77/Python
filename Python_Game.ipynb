{
  "nbformat": 4,
  "nbformat_minor": 0,
  "metadata": {
    "colab": {
      "name": "Python_Game.ipynb",
      "provenance": [],
      "authorship_tag": "ABX9TyM0pHDxsGttDAzLzrMFdNAW",
      "include_colab_link": true
    },
    "kernelspec": {
      "name": "python3",
      "display_name": "Python 3"
    },
    "language_info": {
      "name": "python"
    }
  },
  "cells": [
    {
      "cell_type": "markdown",
      "metadata": {
        "id": "view-in-github",
        "colab_type": "text"
      },
      "source": [
        "<a href=\"https://colab.research.google.com/github/nirmalaraj77/Python/blob/main/Python_Game.ipynb\" target=\"_parent\"><img src=\"https://colab.research.google.com/assets/colab-badge.svg\" alt=\"Open In Colab\"/></a>"
      ]
    },
    {
      "cell_type": "code",
      "execution_count": 25,
      "metadata": {
        "colab": {
          "base_uri": "https://localhost:8080/"
        },
        "id": "aRg2fIbouJzy",
        "outputId": "e7f2b8bc-ce2e-4c77-c00a-00c25f44e226"
      },
      "outputs": [
        {
          "output_type": "stream",
          "name": "stdout",
          "text": [
            "\n",
            " This is the first array\n",
            "[['A' 'B' 'C' 'D' 'E' 'F' 'G']\n",
            " ['H' 'I' 'J' 'K' 'L' 'M' 'N']\n",
            " ['O' 'P' 'Q' 'R' 'S' 'T' 'U']]\n",
            "\n",
            " This is flattened first array\n",
            "['A' 'B' 'C' 'D' 'E' 'F' 'G' 'H' 'I' 'J' 'K' 'L' 'M' 'N' 'O' 'P' 'Q' 'R'\n",
            " 'S' 'T' 'U']\n",
            "\n",
            " This is reshaped first array 7r 3c\n",
            "[['A' 'B' 'C']\n",
            " ['D' 'E' 'F']\n",
            " ['G' 'H' 'I']\n",
            " ['J' 'K' 'L']\n",
            " ['M' 'N' 'O']\n",
            " ['P' 'Q' 'R']\n",
            " ['S' 'T' 'U']]\n",
            "Think of a letter and input the column the letter is in 1, 2 or 3 : 2\n",
            "\n",
            " This is the second array\n",
            "[['A' 'D' 'G' 'J' 'M' 'P' 'S']\n",
            " ['B' 'E' 'H' 'K' 'N' 'Q' 'T']\n",
            " ['C' 'F' 'I' 'L' 'O' 'R' 'U']]\n",
            "None\n",
            "\n",
            " This is flattened second array\n",
            "['A' 'D' 'G' 'J' 'M' 'P' 'S' 'B' 'E' 'H' 'K' 'N' 'Q' 'T' 'C' 'F' 'I' 'L'\n",
            " 'O' 'R' 'U']\n",
            "\n",
            " This is reshaped second array 7r 3c\n",
            "[['A' 'D' 'G']\n",
            " ['J' 'M' 'P']\n",
            " ['S' 'B' 'E']\n",
            " ['H' 'K' 'N']\n",
            " ['Q' 'T' 'C']\n",
            " ['F' 'I' 'L']\n",
            " ['O' 'R' 'U']]\n"
          ]
        }
      ],
      "source": [
        "# Import NumPy and Pandas\n",
        "import numpy as np\n",
        "import pandas as pd\n",
        "\n",
        "\n",
        "\n",
        "# Create first_array 3r 7c\n",
        "first_array = np.array([['A', 'B', 'C', 'D', 'E', 'F', 'G'],\n",
        "                      ['H', 'I', 'J', 'K', 'L','M', 'N'],\n",
        "                      ['O', 'P', 'Q', 'R', 'S', 'T', 'U']])\n",
        "\n",
        "# Print first_array\n",
        "print (\"\\n This is the first array\")\n",
        "print (first_array)\n",
        "\n",
        "# Flatten first_array\n",
        "first_array_flatten = first_array.flatten()\n",
        "print (\"\\n This is flattened first array\")\n",
        "print(first_array_flatten)\n",
        "\n",
        "# Reshape first array 7r 3c\n",
        "first_array_reshape = first_array.reshape(7,3)\n",
        "print (\"\\n This is reshaped first array 7r 3c\")\n",
        "print(first_array_reshape)\n",
        "\n",
        "# Input Choice\n",
        "while True:\n",
        "    try:\n",
        "        x = int (input ('Think of a letter and input the column the letter is in 1, 2 or 3 : '))\n",
        "        if x < 1 or x >= 4:\n",
        "            raise ValueError #this will send it to the print message and back to the input option\n",
        "        break\n",
        "    except ValueError:\n",
        "        print(\"Invalid choice. The number must be 1, 2 or 3\")\n",
        "\n",
        "\n",
        "# Create second array with if-else-elif and value of x\n",
        "if x == 1:\n",
        "  # Col index 0 in middle\n",
        "  second_array = np.array([first_array_reshape[:, 1], first_array_reshape [:, 0], first_array_reshape [:, 2]])\n",
        "  \n",
        "elif x == 2:\n",
        "   # Col index 1 in middle\n",
        "   second_array = np.array([first_array_reshape[:, 0], first_array_reshape [:, 1], first_array_reshape [:, 2]])\n",
        "    \n",
        "else :\n",
        "   # Col index 2 in middle\n",
        "   second_array = np.array([first_array_reshape[:, 0], first_array_reshape [:, 2], first_array_reshape [:, 1]])\n",
        "\n",
        "# Print second_array\n",
        "print (\"\\n This is the second array\")\n",
        "print (second_array)\n",
        "print (second_array_test)\n",
        "\n",
        "# Flatten second_array\n",
        "second_array_flatten = second_array.flatten()\n",
        "print (\"\\n This is flattened second array\")\n",
        "print(second_array_flatten)\n",
        "\n",
        "# Reshape second array 7r 3c\n",
        "second_array_reshape = second_array.reshape(7,3)\n",
        "print (\"\\n This is reshaped second array 7r 3c\")\n",
        "print(second_array_reshape)\n",
        "\n",
        "\n",
        "\n",
        "\n",
        "\n",
        "\n",
        "\n",
        "\n"
      ]
    },
    {
      "cell_type": "code",
      "source": [
        "\n",
        "\n",
        "\n",
        "\n",
        "# Define function to create array of 21 values with x subset in middle \n",
        "def create_array (my_array, x=2) :\n",
        "  \"\"\"Define function to create and reshape arrays of 21 values based on x\"\"\"\n",
        "  if x == 1: # 1 in middle\n",
        "    arr = np.array([my_arr[7:14], my_arr[:7], my_arr [14:]])\n",
        "\n",
        "  elif x == 2: # 2 in middle\n",
        "    arr = np.array([my_arr[:7], my_arr[7:14], my_arr [14:]])\n",
        "\n",
        "  else : # 3 in middle\n",
        "    arr = np.array([my_arr[:7], my_arr[14:], my_arr [14:]])\n",
        "\n",
        "    return arr\n",
        "\n",
        "\n",
        "\n",
        "# Create first array from my_arr by calling function, x = 2 is default\n",
        "firstarr = create_array (my_arr)\n",
        "\n",
        "# Reshape firstarr\n",
        "firstre = firstarr.reshape(7,3)\n",
        "\n",
        "\n",
        "\n",
        "\n",
        "\n",
        "\n",
        "\n",
        "# Reshape firstre and pass to firstreshape\n",
        "firstreshape = firstre.reshape (3, 7)\n",
        "\n",
        "\n",
        "# Flatten firstreshape and pass to firstreshapeflatten\n",
        "firstreshapeflatten = firstreshape.flatten()\n",
        "print (firstreshapeflatten)\n",
        "\n",
        "# Create second array by calling function\n",
        "secondarr = create_array (firstre, x)\n",
        "\n",
        "# Reshape firstarr\n",
        "secondre = secondarr.reshape(7,3)\n",
        "\n",
        "# Print first layout\n",
        "print (\"\\n This is the secons layout\")\n",
        "print (secndre)"
      ],
      "metadata": {
        "id": "anPjAs5bRAxy",
        "outputId": "05174734-edd3-4b13-c172-12636c7b80b9",
        "colab": {
          "base_uri": "https://localhost:8080/",
          "height": 236
        }
      },
      "execution_count": null,
      "outputs": [
        {
          "output_type": "error",
          "ename": "AttributeError",
          "evalue": "ignored",
          "traceback": [
            "\u001b[0;31m---------------------------------------------------------------------------\u001b[0m",
            "\u001b[0;31mAttributeError\u001b[0m                            Traceback (most recent call last)",
            "\u001b[0;32m<ipython-input-48-91dbfa9a556b>\u001b[0m in \u001b[0;36m<module>\u001b[0;34m\u001b[0m\n\u001b[1;32m     19\u001b[0m \u001b[0;34m\u001b[0m\u001b[0m\n\u001b[1;32m     20\u001b[0m \u001b[0;31m# Reshape firstarr\u001b[0m\u001b[0;34m\u001b[0m\u001b[0;34m\u001b[0m\u001b[0;34m\u001b[0m\u001b[0m\n\u001b[0;32m---> 21\u001b[0;31m \u001b[0mfirstre\u001b[0m \u001b[0;34m=\u001b[0m \u001b[0mfirstarr\u001b[0m\u001b[0;34m.\u001b[0m\u001b[0mreshape\u001b[0m\u001b[0;34m(\u001b[0m\u001b[0;36m7\u001b[0m\u001b[0;34m,\u001b[0m\u001b[0;36m3\u001b[0m\u001b[0;34m)\u001b[0m\u001b[0;34m\u001b[0m\u001b[0;34m\u001b[0m\u001b[0m\n\u001b[0m\u001b[1;32m     22\u001b[0m \u001b[0;34m\u001b[0m\u001b[0m\n\u001b[1;32m     23\u001b[0m \u001b[0;34m\u001b[0m\u001b[0m\n",
            "\u001b[0;31mAttributeError\u001b[0m: 'NoneType' object has no attribute 'reshape'"
          ]
        }
      ]
    },
    {
      "cell_type": "code",
      "source": [
        "t= np.array([[ 0., -1.,  0.,  0.],\n",
        "           [ 0.,  1.,  1.,  1.],\n",
        "           [ 0.,  0., -1.,  0.],\n",
        "          [ 0.,  0.,  0., -1.]])\n",
        "\n",
        "\n",
        "t[[0, 1]] = t[[1, 0]] # will swap the first two columns:\n",
        "\n",
        "print (t)"
      ],
      "metadata": {
        "id": "xq8EUyhrt0OC",
        "outputId": "9760ab95-6c0b-4cc9-9568-90252ee250de",
        "colab": {
          "base_uri": "https://localhost:8080/"
        }
      },
      "execution_count": null,
      "outputs": [
        {
          "output_type": "stream",
          "name": "stdout",
          "text": [
            "[[ 0.  1.  1.  1.]\n",
            " [ 0. -1.  0.  0.]\n",
            " [ 0.  0. -1.  0.]\n",
            " [ 0.  0.  0. -1.]]\n"
          ]
        }
      ]
    },
    {
      "cell_type": "code",
      "source": [],
      "metadata": {
        "id": "6kYUO_eNt65U"
      },
      "execution_count": null,
      "outputs": []
    }
  ]
}