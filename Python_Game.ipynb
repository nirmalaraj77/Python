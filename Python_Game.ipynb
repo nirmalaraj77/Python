{
  "nbformat": 4,
  "nbformat_minor": 0,
  "metadata": {
    "colab": {
      "name": "Python_Game.ipynb",
      "provenance": [],
      "authorship_tag": "ABX9TyNWulYAYI5DhBH5ucIzidSd",
      "include_colab_link": true
    },
    "kernelspec": {
      "name": "python3",
      "display_name": "Python 3"
    },
    "language_info": {
      "name": "python"
    }
  },
  "cells": [
    {
      "cell_type": "markdown",
      "metadata": {
        "id": "view-in-github",
        "colab_type": "text"
      },
      "source": [
        "<a href=\"https://colab.research.google.com/github/nirmalaraj77/Python/blob/main/Python_Game.ipynb\" target=\"_parent\"><img src=\"https://colab.research.google.com/assets/colab-badge.svg\" alt=\"Open In Colab\"/></a>"
      ]
    },
    {
      "cell_type": "code",
      "execution_count": 14,
      "metadata": {
        "colab": {
          "base_uri": "https://localhost:8080/"
        },
        "id": "aRg2fIbouJzy",
        "outputId": "d2168cc5-d9d3-4be6-95a1-2b6f3f75ed67"
      },
      "outputs": [
        {
          "output_type": "stream",
          "name": "stdout",
          "text": [
            "[1, 2, 3, 4, 5]\n"
          ]
        }
      ],
      "source": [
        "# Import NumPy\n",
        "import numpy as np\n",
        "\n",
        "# Set the first columns as dictionaries\n",
        "a = {1:'A',2:'B',3:'C',4:'D',5:'E',6:'F',7:'G'}\n",
        "b = {8,9,10,11,12,13,14}\n",
        "c = {15,16,17,18,19,20,21}\n",
        "\n",
        "\n",
        "\n",
        "a = [col for col in range(1, 6)]\n",
        "print (a)"
      ]
    },
    {
      "cell_type": "code",
      "source": [
        ""
      ],
      "metadata": {
        "id": "4rTEHC0buc55"
      },
      "execution_count": null,
      "outputs": []
    }
  ]
}