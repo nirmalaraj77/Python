{
  "nbformat": 4,
  "nbformat_minor": 0,
  "metadata": {
    "colab": {
      "name": "Python_Notes_DataCamp.ipynb",
      "provenance": [],
      "collapsed_sections": [
        "a4Bi06CaGDzK",
        "1664fd0c",
        "kUhzKSpDLROj",
        "ECXy09jlKn_A",
        "RiaDyM7tDwCX",
        "FsF2-3hgLszy",
        "4sO9p3axMCDp"
      ],
      "authorship_tag": "ABX9TyNfsGiHjSGsTwurfVZHHURq",
      "include_colab_link": true
    },
    "kernelspec": {
      "name": "python3",
      "display_name": "Python 3"
    },
    "language_info": {
      "name": "python"
    }
  },
  "cells": [
    {
      "cell_type": "markdown",
      "metadata": {
        "id": "view-in-github",
        "colab_type": "text"
      },
      "source": [
        "<a href=\"https://colab.research.google.com/github/nirmalaraj77/Python/blob/main/Python_Notes_DataCamp.ipynb\" target=\"_parent\"><img src=\"https://colab.research.google.com/assets/colab-badge.svg\" alt=\"Open In Colab\"/></a>"
      ]
    },
    {
      "cell_type": "markdown",
      "source": [
        ""
      ],
      "metadata": {
        "id": "KVr6-S-Aq3Vc"
      }
    },
    {
      "cell_type": "markdown",
      "source": [
        "# **PYTHON_NOTES_DATACAMP**\n",
        "\n",
        "\n",
        "\n",
        "\n"
      ],
      "metadata": {
        "id": "U3q71NiS17sl"
      }
    },
    {
      "cell_type": "markdown",
      "source": [
        "#**Note - Use += to add to existing value in a collection**"
      ],
      "metadata": {
        "id": "bQ1gF3NEZH2A"
      }
    },
    {
      "cell_type": "code",
      "source": [
        "# initialise variable\n",
        "x = 0\n",
        "\n",
        "# Define loop over range to add each value of y within range (10) to x\n",
        "for y in range (5):\n",
        "  x += y\n",
        "\n",
        "# Check final sum of x \n",
        "print (x)\n"
      ],
      "metadata": {
        "id": "xfkWAmamZPEi",
        "outputId": "5f3f99d2-e179-471d-b40f-50165ab57e92",
        "colab": {
          "base_uri": "https://localhost:8080/"
        }
      },
      "execution_count": 8,
      "outputs": [
        {
          "output_type": "stream",
          "name": "stdout",
          "text": [
            "10\n"
          ]
        }
      ]
    },
    {
      "cell_type": "markdown",
      "source": [
        "#**Note - Print beginning and end**"
      ],
      "metadata": {
        "id": "HXQDJMyyq6ow"
      }
    },
    {
      "cell_type": "code",
      "source": [
        "print(\"\\n BEGIN REPORT\")\n",
        "print(\"\\nEND REPORT\")\n"
      ],
      "metadata": {
        "id": "p8GUn-ISsYE7",
        "outputId": "6e9a7e7b-172a-4686-8b65-8dc2e7a54494",
        "colab": {
          "base_uri": "https://localhost:8080/"
        }
      },
      "execution_count": 1,
      "outputs": [
        {
          "output_type": "stream",
          "name": "stdout",
          "text": [
            "\n",
            " BEGIN REPORT\n",
            "\n",
            "END REPORT\n"
          ]
        }
      ]
    },
    {
      "cell_type": "markdown",
      "source": [
        "#**Note: Input Variables Typecast**"
      ],
      "metadata": {
        "id": "Y2EZ4nXh3hZk"
      }
    },
    {
      "cell_type": "code",
      "source": [
        "#Input Operator with Typecast \n",
        "\n",
        "x = int (input ('Your Integer Number: '))\n",
        "print (x)\n",
        "\n",
        "y = str (input ('Your String : '))\n",
        "print (y)\n",
        "\n",
        "z = float (input ('Your Float Number : '))\n",
        "print (z)\n",
        "\n",
        "b = bool (input ('Your Boolean : '))\n",
        "print (b)"
      ],
      "metadata": {
        "id": "3A5Nxk4e3ZTZ",
        "outputId": "c27d8576-5bfc-41ac-fdfd-304e4e329d62",
        "colab": {
          "base_uri": "https://localhost:8080/"
        }
      },
      "execution_count": null,
      "outputs": [
        {
          "output_type": "stream",
          "name": "stdout",
          "text": [
            "Your Integer Number: 1\n",
            "1\n",
            "Your String : aaaaa\n",
            "aaaaa\n",
            "Your Float Number : 1.2555\n",
            "1.2555\n",
            "Your Boolean : 0\n",
            "True\n"
          ]
        }
      ]
    },
    {
      "cell_type": "markdown",
      "source": [
        "#**Note: Unpack Collections by assigning variables**\n",
        "### - Assign no. of variables = no. of values in Collection\n",
        "### - Unpack collections of values in a List, Tuple, NumPy Array, Dictionary and String\n",
        "### - Assign variables to the Dictionary key-value pairs with .items "
      ],
      "metadata": {
        "id": "jm2FVts365xM"
      }
    },
    {
      "cell_type": "code",
      "source": [
        "# Define tuple: fruits\n",
        "fruits = (\"apple\", \"banana\", \"cherry\")\n",
        "\n",
        "# Assign variables to the tuple (no. of variables = no. of values)\n",
        "x, y, z = fruits\n",
        "print(x, y, z)\n",
        "\n",
        "\n",
        "\n",
        "# Define list: new_fruits\n",
        "new_fruits = ['berry', 'orange', 'pear']\n",
        "\n",
        "# Assign variables to the list (no. of variables = no. of values)\n",
        "a, b, c = new_fruits\n",
        "print(a, b, c)\n",
        "\n",
        "\n",
        "\n",
        "# Define NumPy array : latest_fruits\n",
        "import numpy as np\n",
        "latest_fruits = np.array (['gauva', 'pineapple', 'mango'])\n",
        "\n",
        "# Assign variables to the NumPy array (no. of variables = no. of values)\n",
        "p, q, r = latest_fruits\n",
        "print(p, q, r)\n",
        "\n",
        "\n",
        "\n",
        "# Define Dictionary : organic_fruits\n",
        "organic_fruits = {'africa': 'gauva', 'asia' : 'pineapple', 'india': 'mango'}\n",
        "\n",
        "# Assign variables to the Dictionary keys (no. of variables = no. of keys)\n",
        "# Assign variables to the Dictionary values (no. of variables = no. of values)\n",
        "# Assign variables to the Dictionary key-value pairs with .items (no. of variables = no. of values)\n",
        "p, q, r = organic_fruits.keys()\n",
        "s, t, u = organic_fruits.values()\n",
        "v, w, x = organic_fruits.items()\n",
        "print(p, q, r, s, t, u, v, w, x)\n",
        "\n",
        "\n",
        "# Define string \n",
        "fr = 'fruits'\n",
        "\n",
        "# Assign variables to the string (no. of variables = length of string / no. of characters)\n",
        "a, b, c, d, e, f = fr\n",
        "print (a, b, c, d, e, f)"
      ],
      "metadata": {
        "id": "tEisx03i7MXJ",
        "outputId": "1a3e700b-b5a9-47ff-f4bf-d9d219e6d788",
        "colab": {
          "base_uri": "https://localhost:8080/"
        }
      },
      "execution_count": null,
      "outputs": [
        {
          "output_type": "stream",
          "name": "stdout",
          "text": [
            "apple banana cherry\n",
            "berry orange pear\n",
            "gauva pineapple mango\n",
            "africa asia india gauva pineapple mango ('africa', 'gauva') ('asia', 'pineapple') ('india', 'mango')\n",
            "f r u i t s\n"
          ]
        }
      ]
    },
    {
      "cell_type": "markdown",
      "source": [
        "#**Note: Unpack Collections with For loop**\n",
        "### - Unpack collections of values in a List, Tuple, NumPy Array, Dictionary and String\n",
        "### - Assign variables to the Dictionary key-value pairs with .items"
      ],
      "metadata": {
        "id": "LLrtddZ4gTnD"
      }
    },
    {
      "cell_type": "code",
      "source": [
        "# Define tuple: fruits\n",
        "fruits = (\"apple\", \"banana\", \"cherry\")\n",
        "\n",
        "# Iterate over vales in tuple with For loop\n",
        "for x in fruits :\n",
        "  print(x)\n",
        "\n",
        "\n",
        "\n",
        "# Define list: new_fruits\n",
        "new_fruits = ['berry', 'orange', 'pear']\n",
        "\n",
        "# Iterate over vales in list with For loop\n",
        "for a in new_fruits :\n",
        "  print(a)\n",
        "\n",
        "\n",
        "\n",
        "# Define NumPy array : latest_fruits\n",
        "import numpy as np\n",
        "latest_fruits = np.array (['gauva', 'pineapple', 'mango'])\n",
        "\n",
        "# Iterate over vales in NumPy array with For loop\n",
        "for y in latest_fruits :\n",
        "  print(y)\n",
        "\n",
        "\n",
        "\n",
        "# Define Dictionary : organic_fruits\n",
        "organic_fruits = {'africa': 'gauva', 'asia' : 'pineapple', 'india': 'mango'}\n",
        "\n",
        "# Iterate over keys in dictionary with For loop\n",
        "# Iterate over values in dictionary with For loop \n",
        "# Iterate over key - value pairs in dictionary with For loop and .items\n",
        "for keys in organic_fruits.keys():\n",
        "  print (keys)\n",
        "\n",
        "for values in organic_fruits.values():\n",
        "  print (values)\n",
        "\n",
        "for keys, values in organic_fruits.items():\n",
        "  print (keys, values)\n",
        "\n",
        "\n",
        "\n",
        "# Define string \n",
        "fr = 'fruits'\n",
        "\n",
        "# Iterate of string characters with For loop\n",
        "for character in fr: \n",
        "  print (character)"
      ],
      "metadata": {
        "id": "U0azNVbAgcOV",
        "outputId": "53bf0bf7-cce9-4ec7-ad10-961d76ea4ba2",
        "colab": {
          "base_uri": "https://localhost:8080/"
        }
      },
      "execution_count": null,
      "outputs": [
        {
          "output_type": "stream",
          "name": "stdout",
          "text": [
            "apple\n",
            "banana\n",
            "cherry\n",
            "berry\n",
            "orange\n",
            "pear\n",
            "gauva\n",
            "pineapple\n",
            "mango\n",
            "africa\n",
            "asia\n",
            "india\n",
            "gauva\n",
            "pineapple\n",
            "mango\n",
            "africa gauva\n",
            "asia pineapple\n",
            "india mango\n",
            "f\n",
            "r\n",
            "u\n",
            "i\n",
            "t\n",
            "s\n"
          ]
        }
      ]
    },
    {
      "cell_type": "markdown",
      "source": [
        "#**Note: Unpack Collections by iterating with For loop in range (number of values) and passing result as index to collection**\n",
        "### - Unpack collections of values in a List, Tuple, NumPy Array and String\n",
        "### - **Cannot unpack Dictionary as dictonaries are accesses with unique key-valuye pairs and not index**"
      ],
      "metadata": {
        "id": "nVNbaU7jiCTb"
      }
    },
    {
      "cell_type": "code",
      "source": [
        "# Define tuple: fruits\n",
        "fruits = (\"apple\", \"banana\", \"cherry\")\n",
        "\n",
        "# Iterate tuple values with range and pass length as index \n",
        "for x in range (len(fruits)):\n",
        "  print (fruits [x])\n",
        "\n",
        "\n",
        "\n",
        "\n",
        "# Define list: new_fruits\n",
        "new_fruits = ['berry', 'orange', 'pear']\n",
        "\n",
        "# Iterate list values with range and pass length as index \n",
        "for a in range (len (new_fruits)):\n",
        "  print(new_fruits[a])\n",
        "\n",
        "\n",
        "\n",
        "\n",
        "# Define NumPy array : latest_fruits\n",
        "import numpy as np\n",
        "latest_fruits = np.array (['gauva', 'pineapple', 'mango'])\n",
        "\n",
        "# Iterate NumPy array values with range and pass length as index\n",
        "for y in range (len(latest_fruits)):\n",
        "  print (latest_fruits[y])\n",
        "\n",
        "\n",
        "\n",
        "\n",
        "# Define string \n",
        "fr = 'fruits'\n",
        "\n",
        "# Iterate string characters with range and pass length as index \n",
        "for character in range (len(fr)):\n",
        "  print (fr[character])"
      ],
      "metadata": {
        "id": "K6hJqZMwiPyD",
        "outputId": "5467e5aa-cf3d-49e9-ae2a-ea087c03542c",
        "colab": {
          "base_uri": "https://localhost:8080/"
        }
      },
      "execution_count": null,
      "outputs": [
        {
          "output_type": "stream",
          "name": "stdout",
          "text": [
            "apple\n",
            "banana\n",
            "cherry\n",
            "berry\n",
            "orange\n",
            "pear\n",
            "gauva\n",
            "pineapple\n",
            "mango\n",
            "f\n",
            "r\n",
            "u\n",
            "i\n",
            "t\n",
            "s\n"
          ]
        }
      ]
    },
    {
      "cell_type": "markdown",
      "source": [
        "#**Note: Unpack List of lists and ndarrays with For loop and passing result as index to collection**\n",
        "### - Unpack collections of variables in a List of lists\n",
        "### - Unpack collections of variables in a 2D NumPy array\n",
        "### - **No. of index calls = no. of sublists / array dimensions**"
      ],
      "metadata": {
        "id": "R-x_zUi8x1k2"
      }
    },
    {
      "cell_type": "code",
      "source": [
        "# Define 2D Numpy array\n",
        "np_2d = ([[0,1,2,], [3,4,5], [6,7,8]])\n",
        "for x in np_2d:\n",
        "  print (x [0], x [1], x[2])\n",
        "\n",
        "\n",
        "\n",
        "# Define list of lists\n",
        "house = [[\"hallway\", 11.25], \n",
        "         [\"kitchen\", 18.0], \n",
        "         [\"living room\", 20.0], \n",
        "         [\"bedroom\", 10.75], \n",
        "         [\"bathroom\", 9.50]]\n",
        "\n",
        "for x in house:\n",
        "  print (x[0], x [1])"
      ],
      "metadata": {
        "id": "A7b8xyLpyIQU",
        "outputId": "4bf87d85-f6b4-42ef-9ed9-298c7e854d68",
        "colab": {
          "base_uri": "https://localhost:8080/"
        }
      },
      "execution_count": null,
      "outputs": [
        {
          "output_type": "stream",
          "name": "stdout",
          "text": [
            "0 1 2\n",
            "3 4 5\n",
            "6 7 8\n",
            "hallway 11.25\n",
            "kitchen 18.0\n",
            "living room 20.0\n",
            "bedroom 10.75\n",
            "bathroom 9.5\n"
          ]
        }
      ]
    },
    {
      "cell_type": "markdown",
      "source": [
        "#**Note - Index, Subset and Slice Colletions**\n",
        "### - Index in square brackets [ ] \n",
        "### - Index starts at 0\n",
        "### - Colon : to slice\n",
        "### - Slice syntax: [start : end]\n",
        "### - **Start index included. End index excluded**\n",
        "### - Start and end indexes are included if denoted with colons : "
      ],
      "metadata": {
        "id": "9Ac1wob9aqqu"
      }
    },
    {
      "cell_type": "code",
      "source": [
        "# Define string\n",
        "my_string = '0123456789'\n",
        "\n",
        "# Define list\n",
        "my_list = [0, 1, 2, 3, 4, 5, 6, 7, 8, 9]\n",
        "\n",
        "# Define tuple \n",
        "my_tuple = (0, 1, 2, 3, 4, 5, 6, 7, 8, 9)\n",
        "\n",
        "# Define NumPy array\n",
        "import numpy as np\n",
        "my_array = ([0, 1, 2, 3, 4, 5, 6, 7, 8, 9])\n",
        "\n",
        "# Index string 3 \n",
        "print (my_string [2]) \n",
        "\n",
        "# List index 6 included - end index 9 excluded \n",
        "print (my_list [6 : 9]) \n",
        "\n",
        "# Tuple start index included with : \n",
        "print (my_tuple [: 3]) \n",
        "\n",
        "# Numpy array start index 7 incuded - end index included with :\n",
        "print (my_array [7 :]) \n",
        "\n",
        "# NumPy array 3rd from last index\n",
        "print (my_array [-3]) "
      ],
      "metadata": {
        "id": "Q2X0_ZhpdiBB",
        "outputId": "cc480016-6d81-417a-aeb0-e5b13670439b",
        "colab": {
          "base_uri": "https://localhost:8080/"
        }
      },
      "execution_count": null,
      "outputs": [
        {
          "output_type": "stream",
          "name": "stdout",
          "text": [
            "2\n",
            "[6, 7, 8]\n",
            "(0, 1, 2)\n",
            "[7, 8, 9]\n",
            "7\n"
          ]
        }
      ]
    },
    {
      "cell_type": "markdown",
      "source": [
        "#**Note - Index, Subset and Slice List of lists and multi-dimensional NumPy arrays**\n",
        "### - Syntax : [list / array index] [item index]\n",
        "### - **Cleaner Code syntax for nparray : [list /array index, item index]**  \n",
        "### - Index starts at 0\n",
        "### - Colon : to slice\n",
        "### - Slice syntax: [start : end]\n",
        "### - **Start index included. End index excluded**\n",
        "### - Start and end indexes are included if denoted with colons : "
      ],
      "metadata": {
        "id": "85OWjVXyqCi0"
      }
    },
    {
      "cell_type": "code",
      "source": [
        "# Define list of lists \n",
        "list_2d = ([[0, 1, 2, 3, 4, 5, 6, 7, 8, 9], [10, 11, 12, 13, 14, 15, 16, 17, 18, 19], [21, 22, 23, 24, 25, 26, 27, 28, 29]])\n",
        "\n",
        "# List index 2, item index 3 \n",
        "print (list_2d [2] [3]) \n",
        "\n",
        "# List index 1, all items\n",
        "print (list_2d [1] [:])\n",
        "\n",
        "# List index 0, item index 2 - 4 \n",
        "print (list_2d [0] [2:5])\n",
        "\n",
        "\n",
        "\n",
        "\n",
        "# Define 2D NumPy array\n",
        "import numpy as np\n",
        "np_2d = np.array ([[0, 1, 2, 3, 4, 5, 6, 7, 8, 9], [10, 11, 12, 13, 14, 15, 16, 17, 18, 19]])\n",
        "\n",
        "# NumPy array index 1, item index 6 - end included with :\n",
        "print (np_2d [1] [6:]) \n",
        "\n",
        "# NumPy array index 1, item index 6 - end included with : # Cleaner Code \n",
        "print (np_2d [1, 6:])"
      ],
      "metadata": {
        "id": "pOagfkbbqBst",
        "outputId": "5413c266-62ec-4163-e1a6-8c4f7829ef22",
        "colab": {
          "base_uri": "https://localhost:8080/"
        }
      },
      "execution_count": null,
      "outputs": [
        {
          "output_type": "stream",
          "name": "stdout",
          "text": [
            "24\n",
            "[10, 11, 12, 13, 14, 15, 16, 17, 18, 19]\n",
            "[2, 3, 4]\n",
            "[16 17 18 19]\n",
            "[16 17 18 19]\n"
          ]
        }
      ]
    },
    {
      "cell_type": "markdown",
      "source": [
        "#**Note - Arithmetic operations highest to lowest**\n"
      ],
      "metadata": {
        "id": "08BZrtJJ7_5c"
      }
    },
    {
      "cell_type": "code",
      "source": [
        "#Exponent\n",
        "print (5 ** 3)\n",
        "\n",
        "# Modulus \n",
        "print (10 % 4)   \n",
        "\n",
        "# Integer Division\n",
        "print (10 // 3) \n",
        "\n",
        "# Division\n",
        "print (4 / 9)\n",
        "\n",
        "# Multiply \n",
        "print (5 * 9 )\n",
        "\n",
        "# Substract\n",
        "print (9 - 81)\n",
        "\n",
        "# Sum\n",
        "print (54 + 56)"
      ],
      "metadata": {
        "id": "4TbBHO5l7-Yi",
        "outputId": "ad79fd6f-5a09-4baf-ffaf-8356260d4527",
        "colab": {
          "base_uri": "https://localhost:8080/"
        }
      },
      "execution_count": null,
      "outputs": [
        {
          "output_type": "stream",
          "name": "stdout",
          "text": [
            "125\n",
            "2\n",
            "3\n",
            "0.4444444444444444\n",
            "45\n",
            "-72\n",
            "110\n"
          ]
        }
      ]
    },
    {
      "cell_type": "markdown",
      "source": [
        "#**Note - Add Keys and Values to existing Dictionary**\n",
        "### - Build dictionary\n",
        "### - Use if-else construct to add to existing key-value or build new key-value"
      ],
      "metadata": {
        "id": "f5JdaFhiCbRb"
      }
    },
    {
      "cell_type": "code",
      "source": [
        "# Initialize adictionary dd with some values\n",
        "dd = {'a':3, 'b':11}\n",
        "print (dd)\n",
        "\n",
        "# Define a list ll\n",
        "ll = (['a', 'b', 'c', 'd', 'e'])\n",
        "print (ll)\n",
        "\n",
        "# Iterate over values in list ll \n",
        "for x in ll:\n",
        "  # If value is in dictionary dd, add 1\n",
        "  if x in dd.keys():\n",
        "    dd [x] += 1\n",
        "    \n",
        "    # Else add the value to dd, set the value to 1\n",
        "  else:\n",
        "    dd [x] = 1\n",
        "\n",
        "# Print dd dictionary\n",
        "print (dd)\n",
        "\n"
      ],
      "metadata": {
        "id": "nMgcZYXLCjhz",
        "outputId": "173214e3-160b-44dd-b7c6-74b76bc4ae23",
        "colab": {
          "base_uri": "https://localhost:8080/"
        }
      },
      "execution_count": null,
      "outputs": [
        {
          "output_type": "stream",
          "name": "stdout",
          "text": [
            "{'a': 3, 'b': 11}\n",
            "['a', 'b', 'c', 'd', 'e']\n",
            "{'a': 4, 'b': 12, 'c': 1, 'd': 1, 'e': 1}\n"
          ]
        }
      ]
    },
    {
      "cell_type": "markdown",
      "source": [
        "#**Note - Add keys and values to dictionary**\n",
        "### - **Syntax to add to the existing value of existing key in dictionary : dictionary [existing_key] += value_to_add**\n",
        "### - **Syntax to add new key to dictionary and set its value to new_value: dictionary [new_key] = new_value**\n",
        "### - **Works differently for different value types**\n",
        "### - **Python uses unique keys for Dictionaries so adding new value to existing key with = and not += results in changing original value**\n",
        "\n"
      ],
      "metadata": {
        "id": "nbvMwE2LCHBy"
      }
    },
    {
      "cell_type": "code",
      "source": [
        "# Define new dictionary \n",
        "lang = {'eng':1, 'spn':2, 'tam':3}\n",
        "print (lang)\n",
        "\n",
        "# Add 1 to the value of existing key 'eng' in dictionary 'lang' use lang['eng'] += 1\n",
        "lang ['eng'] += 1\n",
        "print (lang)\n",
        "\n",
        "#Add new key 'sin' to 'lang' and set its value to 1, use lang['sin'] = 1\n",
        "lang ['sin'] = 1\n",
        "print (lang)\n",
        "\n",
        "# Try to add value 5 to key 'eng' with = and not += results in changing the value\n",
        "lang ['eng'] = 5\n",
        "print (lang)\n",
        "\n",
        "\n",
        "\n",
        "\n",
        "\n",
        "\n",
        "# Define new dictionary \n",
        "country = {'eng':'london', 'spn': 'madrid', 'fr': 'paris'}\n",
        "print (country)\n",
        "\n",
        "# Add 'tower' to the value of existing key 'eng' in dictionary 'country' use country['eng'] += 'tower'\n",
        "country ['eng'] += 'tower'\n",
        "print (country)\n",
        "\n",
        "#Add new key 'ger' to 'country' and set its value to 'berlin, use country ['ger'] = 'berlin'\n",
        "country ['ger'] = 'berlin'\n",
        "print (country)\n",
        "\n",
        "# Try to add value 'tower' to key 'ger' with = and not += results in changing the value\n",
        "country ['ger'] = 'tower'\n",
        "print (country)\n",
        "\n",
        "\n"
      ],
      "metadata": {
        "outputId": "34a5b18e-66be-4eac-8c1f-73e40a1af4fc",
        "colab": {
          "base_uri": "https://localhost:8080/"
        },
        "id": "DfcrcwawCHBy"
      },
      "execution_count": null,
      "outputs": [
        {
          "output_type": "stream",
          "name": "stdout",
          "text": [
            "{'eng': 1, 'spn': 2, 'tam': 3}\n",
            "{'eng': 2, 'spn': 2, 'tam': 3}\n",
            "{'eng': 2, 'spn': 2, 'tam': 3, 'sin': 1}\n",
            "{'eng': 5, 'spn': 2, 'tam': 3, 'sin': 1}\n",
            "{'eng': 'london', 'spn': 'madrid', 'fr': 'paris'}\n",
            "{'eng': 'londontower', 'spn': 'madrid', 'fr': 'paris'}\n",
            "{'eng': 'londontower', 'spn': 'madrid', 'fr': 'paris', 'ger': 'berlin'}\n",
            "{'eng': 'londontower', 'spn': 'madrid', 'fr': 'paris', 'ger': 'tower'}\n"
          ]
        }
      ]
    },
    {
      "cell_type": "markdown",
      "source": [
        "#**Packages**\n",
        "### - Import packages as libraries\n",
        "### - Import packages as alias \n",
        "### - Import selctive packages"
      ],
      "metadata": {
        "id": "bUt0kVqT8tH7"
      }
    },
    {
      "cell_type": "code",
      "execution_count": null,
      "metadata": {
        "id": "JwcFZC065fnz"
      },
      "outputs": [],
      "source": [
        "# Import library\n",
        "import math \n",
        "\n",
        "# Import library as alias   \n",
        "import numpy as np  \n",
        "import matplotlib.pyplot as plt\n",
        "\n",
        "# Selective import  \n",
        "from math import pi\n",
        "from scipy.linalg import inv as my_inv"
      ]
    },
    {
      "cell_type": "markdown",
      "source": [
        "#**Functions**\n",
        "### - Call with round brackets ( )\n",
        "### - Syntax: output = function_name(input)\n",
        "### - Help syntax: help (function_name) or ? function_name\n",
        "\n"
      ],
      "metadata": {
        "id": "37RNfhi0h8O3"
      }
    },
    {
      "cell_type": "code",
      "source": [
        "# Define string from input \n",
        "a = str (input ('Your String:  '))\n",
        "\n",
        "# Call function: len \n",
        "print (len(a))\n",
        "\n",
        "# Call help \n",
        "help (len)\n",
        "? len"
      ],
      "metadata": {
        "id": "5AH4yqEUX-sE",
        "outputId": "414bf192-8959-415a-8268-e4feb3ade577",
        "colab": {
          "base_uri": "https://localhost:8080/"
        }
      },
      "execution_count": null,
      "outputs": [
        {
          "output_type": "stream",
          "name": "stdout",
          "text": [
            "Your String:  aaa\n",
            "3\n",
            "Help on built-in function len in module builtins:\n",
            "\n",
            "len(obj, /)\n",
            "    Return the number of items in a container.\n",
            "\n"
          ]
        }
      ]
    },
    {
      "cell_type": "markdown",
      "source": [
        "#**Methods**\n",
        "### - Call with dot. after data type name and round brackets\n",
        "### - Syntax : dtype.method_name ( )\n",
        "### - Each object and data type has associated attributes and methods\n",
        "### - Help syntax: help (dtype.method_name) or ? dtype.method_name"
      ],
      "metadata": {
        "id": "AHuD_9Yx9dks"
      }
    },
    {
      "cell_type": "code",
      "source": [
        "# Define string from input \n",
        "a = str (input ('Your String:  '))\n",
        "\n",
        "# Call method: upper\n",
        "print (a.upper())\n",
        "\n",
        "# Call help\n",
        "help (str.upper)\n",
        "? str.upper"
      ],
      "metadata": {
        "id": "Ovfp4JpMX3UR",
        "outputId": "e0298b4c-c9ac-4855-b744-6753d4a4167f",
        "colab": {
          "base_uri": "https://localhost:8080/"
        }
      },
      "execution_count": null,
      "outputs": [
        {
          "output_type": "stream",
          "name": "stdout",
          "text": [
            "Your String:  aa\n",
            "AA\n",
            "Help on method_descriptor:\n",
            "\n",
            "upper(self, /)\n",
            "    Return a copy of the string converted to uppercase.\n",
            "\n"
          ]
        }
      ]
    },
    {
      "cell_type": "markdown",
      "metadata": {
        "id": "1664fd0c"
      },
      "source": [
        "#**Variables and Data Types**\n",
        "\n",
        "\n",
        "\n"
      ]
    },
    {
      "cell_type": "markdown",
      "source": [
        "##Assign Variables\n",
        "### - Assign variables\n",
        "### - Assign Variables with type casting"
      ],
      "metadata": {
        "id": "kUhzKSpDLROj"
      }
    },
    {
      "cell_type": "code",
      "source": [
        "# Assign variable\n",
        "x = 6\n",
        "y = 7\n",
        "\n",
        "# Assign variable # Cleaner Code\n",
        "a, b = 8, 9 \n",
        "print (x , y, a, b)\n",
        "\n",
        "# Assign variable to variable and multiple variables to single value\n",
        "x = y = z = 25\n",
        "print (x, y, z)\n",
        "\n",
        "# Assign varibles with type casting \n",
        "x = str(3)    \n",
        "y = int(3)    \n",
        "z = float(3)\n",
        "t = bool (1)  \n",
        "print (x, y, z, t)"
      ],
      "metadata": {
        "id": "zGEHKhV_LTfw",
        "outputId": "efc2da96-a13d-47ad-c779-fcce7acdd828",
        "colab": {
          "base_uri": "https://localhost:8080/"
        }
      },
      "execution_count": null,
      "outputs": [
        {
          "output_type": "stream",
          "name": "stdout",
          "text": [
            "6 7 8 9\n",
            "25 25 25\n",
            "3 3 3.0 True\n"
          ]
        }
      ]
    },
    {
      "cell_type": "markdown",
      "source": [
        "## Type Conversion\n",
        "### - Variable to String, Integer, Float and Boolean "
      ],
      "metadata": {
        "id": "RiaDyM7tDwCX"
      }
    },
    {
      "cell_type": "code",
      "source": [
        "# Variable to String, Integer, Float and Boolean  \n",
        "print (str('5'), str(2.444), str('Manual'))  \n",
        "print (int ('1'), int (2.7), int (True))   \n",
        "print (float ('5.25'), float (1))  \n",
        "print (bool (True), bool (False), bool (1), bool(0), bool ('Amma@'))"
      ],
      "metadata": {
        "id": "6GRFH5ZmDkF4",
        "outputId": "22fa8ce1-7a85-4e04-ec73-6187901af406",
        "colab": {
          "base_uri": "https://localhost:8080/"
        }
      },
      "execution_count": null,
      "outputs": [
        {
          "output_type": "stream",
          "name": "stdout",
          "text": [
            "5 2.444 Manual\n",
            "1 2 1\n",
            "5.25 1.0\n",
            "True False True False True\n"
          ]
        }
      ]
    },
    {
      "cell_type": "markdown",
      "source": [
        "#**String Operations**\n",
        "### - Define with \"string\""
      ],
      "metadata": {
        "id": "5FbUdyaZ-qUM"
      }
    },
    {
      "cell_type": "code",
      "source": [
        "# Define string\n",
        "my_string = 'This String is Awesome'  \n",
        "\n",
        "# Multiply string\n",
        "print (my_string * 3) \n",
        "\n",
        "# Add strings (without space)\n",
        "print (my_string + my_string) \n",
        "\n",
        "# Add strings (adds a space) # Cleaner Code\n",
        "print (my_string, my_string, ' ', '!!!!')"
      ],
      "metadata": {
        "id": "f8UXGQg3Eo_V",
        "outputId": "31526249-1f3c-49fc-ccf8-e3b078e1f7d3",
        "colab": {
          "base_uri": "https://localhost:8080/"
        }
      },
      "execution_count": null,
      "outputs": [
        {
          "output_type": "stream",
          "name": "stdout",
          "text": [
            "This String is AwesomeThis String is AwesomeThis String is Awesome\n",
            "This String is AwesomeThis String is Awesome\n",
            "This String is Awesome This String is Awesome   !!!!\n"
          ]
        }
      ]
    },
    {
      "cell_type": "markdown",
      "source": [
        "#**String Methods and Functions**\n",
        "### - Call methods with dot. and round brackets after ( )\n",
        "### - Call functions with function name and round brackets "
      ],
      "metadata": {
        "id": "JWM0ONdnIpME"
      }
    },
    {
      "cell_type": "code",
      "execution_count": null,
      "metadata": {
        "scrolled": false,
        "id": "vSPEw77vInED",
        "outputId": "bd87a783-c587-4160-8dd7-45c11f8c0e8c",
        "colab": {
          "base_uri": "https://localhost:8080/"
        }
      },
      "outputs": [
        {
          "output_type": "stream",
          "name": "stdout",
          "text": [
            "26\n",
            "False\n",
            "  THIS STRING IS AWESOME  \n",
            "  this string is awesome  \n",
            "  this string is awesome  \n",
            "  This String Is Awesome  \n",
            "4\n",
            "  thiX Xtring iX aweXome  \n",
            "this string is awesome\n"
          ]
        }
      ],
      "source": [
        " # Assign string with whitespaces front and after for testing \n",
        "my_string = '  this string is awesome  '\n",
        "\n",
        "# String length\n",
        "print (len(my_string)) \n",
        "\n",
        "# Boolean if character is in string  \n",
        "print ('y' in my_string) \n",
        "\n",
        "# Uppercase\n",
        "print (my_string.upper ()) \n",
        "\n",
        "# Lowercase\n",
        "print (my_string.lower ())\n",
        "\n",
        "# Capitalize 1st Character\n",
        "print (my_string.capitalize ()) \n",
        "\n",
        "# Capitalise first character of all words\n",
        "print (my_string.title ()) \n",
        "\n",
        "# Count a character in string \n",
        "print (my_string.count ('s')) \n",
        "\n",
        "# Replace all occuarances of character with another\n",
        "print (my_string.replace ('s', 'X')) \n",
        "\n",
        "# Strip whitespaces beginning and end\n",
        "print (my_string.strip ()) "
      ]
    },
    {
      "cell_type": "markdown",
      "source": [
        "#**List Operations**\n",
        "### - Define with square brackets ([list])\n",
        "### - Mutable\n",
        "### - Can have different Types\n",
        "### - Copy, Replace, Extend and Delete List Elements\n",
        "### - Copying list with assigning a new name will point to same list (unlike variable)\n",
        "### - Copying a list with list ( ) or Colon : results in a seperate list with selected elements\n",
        "### - List of lists can contain any number of lists \n",
        "### - Define List of lists with double square brackets ([list1], [list2])"
      ],
      "metadata": {
        "id": "4sO9p3axMCDp"
      }
    },
    {
      "cell_type": "code",
      "source": [
        "# Define list # Cleaner Code\n",
        "hall, kit, liv, bed, bath, w, x, y, z = 11.25, 18.0, 20.0, 10.75, 9.5, 'Amman', True, 1>2, 10001\n",
        "\n",
        "# define list with variables of different data types\n",
        "x = [hall, kit, liv, bed, bath, w, x, y, z] \n",
        "print (x)\n",
        "print (type(x))\n",
        "\n",
        "\n",
        "\n",
        "\n",
        "\n",
        "\n",
        "# Define list\n",
        "l = ['p', 'q', 'r', 's', 't'] \n",
        "\n",
        "# Create copy by assigning another variable name points to same list\n",
        "l_copy = l \n",
        "\n",
        "# Print original and copy\n",
        "print (l, l_copy)\n",
        "\n",
        "# Delete index 2 in copy - Changes original list\n",
        "del l_copy [2] \n",
        "print (l, l_copy)\n",
        "\n",
        "\n",
        "\n",
        "\n",
        "\n",
        "# Define list \n",
        "l = ['a', 'b', 'c', 'd', 'e']\n",
        "\n",
        "# Copy all indexes to new list with list()\n",
        "l1 = list (l) \n",
        "\n",
        "# Copy index start to 2 to new list with Colon :\n",
        "l2 = l [:3] \n",
        "\n",
        "# Print original and copies\n",
        "print (l, l1, l2)\n",
        "\n",
        "# Delete index 2 in copy l1 and index 0 in copy l2\n",
        "del l1 [2] \n",
        "del l2 [0]\n",
        "\n",
        "# Print original and copies - Does not change original list\n",
        "print (l, l1, l2)\n",
        "\n",
        "\n",
        "\n",
        "\n",
        "\n",
        "\n",
        "# Define list\n",
        "x = [\"a\", \"b\", \"c\", \"d\"] \n",
        "\n",
        "# Replace index 1 and index 2 to end # Cleaner Code\n",
        "x[1], x[2:]  = \"r\", [\"s\", \"t\"]\n",
        "print (x)\n",
        "\n",
        "\n",
        "\n",
        "\n",
        "# Define list\n",
        "x = [\"a\", \"b\", \"c\", \"d\"]\n",
        "\n",
        "# Add elements\n",
        "x = x + [\"e\", \"f\"] \n",
        "print (x)\n",
        "\n",
        "\n",
        "\n",
        "\n",
        "# Add and multiply lists\n",
        "print (x + x) \n",
        "print (x * 5)\n",
        "\n",
        "\n",
        "\n",
        "\n",
        "# Assign variables \n",
        "hall = 11.25\n",
        "kit = 18.0\n",
        "liv = 20.0\n",
        "bed = 10.75\n",
        "bath = 9.50\n",
        "\n",
        "# Define List of Lists \n",
        "house = [[\"hallway\", hall],\n",
        "         [\"kitchen\", kit],\n",
        "         [\"living room\", liv],\n",
        "         [\"bedroom\", bed],\n",
        "         [\"bathroom\", bath]]\n",
        "\n",
        "print (house)\n",
        "print (len(house))\n",
        "print (type (house))"
      ],
      "metadata": {
        "colab": {
          "base_uri": "https://localhost:8080/"
        },
        "id": "oXLRbX6CMMbG",
        "outputId": "3469b526-1d46-4234-f576-daf6db8e73c2"
      },
      "execution_count": null,
      "outputs": [
        {
          "output_type": "stream",
          "name": "stdout",
          "text": [
            "[11.25, 18.0, 20.0, 10.75, 9.5, 'Amman', True, False, 10001]\n",
            "<class 'list'>\n",
            "['p', 'q', 'r', 's', 't'] ['p', 'q', 'r', 's', 't']\n",
            "['p', 'q', 's', 't'] ['p', 'q', 's', 't']\n",
            "['a', 'b', 'c', 'd', 'e'] ['a', 'b', 'c', 'd', 'e'] ['a', 'b', 'c']\n",
            "['a', 'b', 'c', 'd', 'e'] ['a', 'b', 'd', 'e'] ['b', 'c']\n",
            "['a', 'r', 's', 't']\n",
            "['a', 'b', 'c', 'd', 'e', 'f']\n",
            "['a', 'b', 'c', 'd', 'e', 'f', 'a', 'b', 'c', 'd', 'e', 'f']\n",
            "['a', 'b', 'c', 'd', 'e', 'f', 'a', 'b', 'c', 'd', 'e', 'f', 'a', 'b', 'c', 'd', 'e', 'f', 'a', 'b', 'c', 'd', 'e', 'f', 'a', 'b', 'c', 'd', 'e', 'f']\n",
            "[['hallway', 11.25], ['kitchen', 18.0], ['living room', 20.0], ['bedroom', 10.75], ['bathroom', 9.5]]\n",
            "5\n",
            "<class 'list'>\n"
          ]
        }
      ]
    },
    {
      "cell_type": "markdown",
      "source": [
        "#**List Methods**"
      ],
      "metadata": {
        "id": "ZIwJiYdnkDxo"
      }
    },
    {
      "cell_type": "code",
      "source": [
        "# Define list\n",
        "z = ['my', 'list', 'is', 'is', 'nice'] \n",
        "\n",
        "# Get first index of an element \n",
        "print (z.index ('is')) \n",
        "\n",
        "# Count an element\n",
        "print (z.count ('is')) \n",
        "\n",
        "# Append an element at a time\n",
        "z.append ('!!!') \n",
        "print (z)\n",
        "\n",
        "# Remove an item at a time\n",
        "z.remove ('is') \n",
        "print (z)\n",
        "\n",
        "# Extend list an element at a time \n",
        "z.extend ('2') \n",
        "print (z)\n",
        "\n",
        "# Remove index element 2nd to last\n",
        "z.pop (-2) \n",
        "print (z)\n",
        "\n",
        "# Insert an element before index position - 1\n",
        "z.insert (-1, 'NOT') \n",
        "print (z)\n",
        "\n",
        "# Sort list\n",
        "z.sort()\n",
        "print (z)\n",
        "\n",
        "# Reverse sort\n",
        "z.sort (reverse = True) \n",
        "print (z)\n",
        "\n",
        "# Reverse sort # Cleaner Code\n",
        "z.reverse () \n",
        "print (z)"
      ],
      "metadata": {
        "colab": {
          "base_uri": "https://localhost:8080/"
        },
        "id": "XCA90yotkHB8",
        "outputId": "db78a9ec-05d7-43e1-c509-8dbb5dea11eb"
      },
      "execution_count": null,
      "outputs": [
        {
          "output_type": "stream",
          "name": "stdout",
          "text": [
            "2\n",
            "2\n",
            "['my', 'list', 'is', 'is', 'nice', '!!!']\n",
            "['my', 'list', 'is', 'nice', '!!!']\n",
            "['my', 'list', 'is', 'nice', '!!!', '2']\n",
            "['my', 'list', 'is', 'nice', '2']\n",
            "['my', 'list', 'is', 'nice', 'NOT', '2']\n",
            "['2', 'NOT', 'is', 'list', 'my', 'nice']\n",
            "['nice', 'my', 'list', 'is', 'NOT', '2']\n",
            "['2', 'NOT', 'is', 'list', 'my', 'nice']\n"
          ]
        }
      ]
    },
    {
      "cell_type": "markdown",
      "source": [
        "#**NumPy Arrays**\n",
        "### - Creates n-dimensional array (ndarray) of any dimension\n",
        "### - **CAN ONLY CONTAIN ONE DATA TYPE**\n",
        "### - Different types will coerce array to strings\n",
        "### - Syntax : np.array ( [ ] )\n",
        "### - **Index starts at 0, start index included, end index excluded**\n",
        "### - NP attributes are called with dot. but are not methods - no ( ) after\n"
      ],
      "metadata": {
        "id": "0aExusyaH35N"
      }
    },
    {
      "cell_type": "markdown",
      "source": [
        "##1D NumPy Arrays"
      ],
      "metadata": {
        "id": "zdP6GNrQRECT"
      }
    },
    {
      "cell_type": "code",
      "source": [
        "# Create list baseball\n",
        "baseball = [180, 215, 210, 210, 188, 176, 209, 200] \n",
        "\n",
        "# Import the numpy package as np\n",
        "import numpy as np \n",
        "\n",
        "# Create NumPy array \n",
        "np_baseball_cm = np.array(baseball) \n",
        "\n",
        "# Create np array np_baseball_in by multiplying elements in np_baseball_cm by 0.394\n",
        "np_baseball_in = np_baseball_cm * 0.394 \n",
        "\n",
        "# Create boolean NP array of players < 80 in \n",
        "np_baseball_in_small = np_baseball_in < 80.00\n",
        "\n",
        "# Select players < 80 from array by passing bolean np array as index\n",
        "print (np_baseball_in [np_baseball_in_small]) "
      ],
      "metadata": {
        "colab": {
          "base_uri": "https://localhost:8080/"
        },
        "id": "F_Va4IHzIE1x",
        "outputId": "881e9119-2288-499f-d9b3-695c466c8a99"
      },
      "execution_count": null,
      "outputs": [
        {
          "output_type": "stream",
          "name": "stdout",
          "text": [
            "[70.92  74.072 69.344 78.8  ]\n"
          ]
        }
      ]
    },
    {
      "cell_type": "markdown",
      "source": [
        "##**Pass argument / boolean array as index to an array**"
      ],
      "metadata": {
        "id": "QtAZnlzw37XM"
      }
    },
    {
      "cell_type": "code",
      "source": [
        "# Import NumPy\n",
        "import numpy as np \n",
        "\n",
        "# Create nparray baseball_cm\n",
        "baseball = np.array ([180, 215, 210, 210, 188, 176, 209, 200])\n",
        "\n",
        "# Select players < 200 cm by pasing boolean array as index to array\n",
        "print (baseball [baseball < 200]) "
      ],
      "metadata": {
        "id": "4-6GtmHdPZZU",
        "outputId": "692ab532-1010-4856-a515-1edf41e8d06e",
        "colab": {
          "base_uri": "https://localhost:8080/"
        }
      },
      "execution_count": null,
      "outputs": [
        {
          "output_type": "stream",
          "name": "stdout",
          "text": [
            "[180 188 176]\n"
          ]
        }
      ]
    },
    {
      "cell_type": "markdown",
      "source": [
        "##2D NumPy Arrays\n",
        "### - Multi-demensional arrays work like improved list of lists\n",
        "### - Combine matrices with single numbers, vectors, and with other matrices\n",
        "### - Indexing, subsetting and slicing syntax : nparray [row index] [column index for that row]\n",
        "### - Indexing, subsetting and slicing Cleaner Code syntax : nparray [row index, column index for that row]\n"
      ],
      "metadata": {
        "id": "9hAgt0RNcrhO"
      }
    },
    {
      "cell_type": "code",
      "source": [
        "import numpy as np\n",
        "\n",
        "# Create 2d np array\n",
        "np_2d = np.array ([[0, 1, 2, 3, 4, 5], [10, 11, 12, 13, 14, 15]])\n",
        "\n",
        "# Use method dot.shape attribute (2 rows, 6 columns)\n",
        "print('Shape of nparray is (rows, columns) : ', np_2d.shape) \n",
        "\n",
        "# Transpose 2d np array \n",
        "np_2d_t = np.transpose(np_2d)\n",
        "print('Shape of transposed nparray is (rows, columns) : ', np_2d_t.shape) \n",
        "\n",
        "# Subset Row 0, Index 2 \n",
        "print (np_2d [0] [2]) \n",
        "\n",
        "# Subset Row 1, Index 3 # Cleaner Code\n",
        "print (np_2d [1, 3]) \n",
        "\n",
        "# Subset all Rows and column indexes 1-2 (3rd index not included)\n",
        "print (np_2d [:, 1:3 ]) \n",
        "\n",
        "# Subset Row index 2 and All columns\n",
        "print (np_2d [1, :]) \n",
        "\n",
        "# Multiply all elements \n",
        "print (np_2d * 5) \n",
        "\n",
        "# Add 2d array and 2d array\n",
        "print (np_2d + np_2d)\n",
        "\n",
        "# Add 10 to 1st element, 11 to second element and so forth in each array\n",
        "print (np_2d + np.array ([10, 11, 12, 13, 14, 15]))"
      ],
      "metadata": {
        "colab": {
          "base_uri": "https://localhost:8080/"
        },
        "id": "-g5Sb6SEcqrh",
        "outputId": "464a00f2-8667-4730-b468-9751ff9ed29d"
      },
      "execution_count": null,
      "outputs": [
        {
          "output_type": "stream",
          "name": "stdout",
          "text": [
            "Shape of nparray is (rows, columns) :  (2, 6)\n",
            "Shape of transposed nparray is (rows, columns) :  (6, 2)\n",
            "2\n",
            "13\n",
            "[[ 1  2]\n",
            " [11 12]]\n",
            "[10 11 12 13 14 15]\n",
            "[[ 0  5 10 15 20 25]\n",
            " [50 55 60 65 70 75]]\n",
            "[[ 0  2  4  6  8 10]\n",
            " [20 22 24 26 28 30]]\n",
            "[[10 12 14 16 18 20]\n",
            " [20 22 24 26 28 30]]\n"
          ]
        }
      ]
    },
    {
      "cell_type": "markdown",
      "source": [
        "##Numpy Attributes\n",
        "### - Called with . but are not methods"
      ],
      "metadata": {
        "id": "jP6eB4UcKOds"
      }
    },
    {
      "cell_type": "code",
      "source": [
        "# Import Numpy\n",
        "import numpy as np\n",
        "\n",
        "# Create 2d np array\n",
        "x = np.array ([[1.73, 1.68, 1.71, 1.89, 1.79], [65.4, 59.2, 63.6, 88.4, 68.7]]) \n",
        "\n",
        "# Array shape\n",
        "print (x.shape) \n",
        "\n",
        "# Mean / Average of 1st row, all columns\n",
        "print (np.mean (x [0, :])) \n",
        "\n",
        "# Median of 2nd row, all columns\n",
        "print (np.median(x [1, :])) \n",
        "\n",
        "# Standard Deviation on All Rows, 1st colummn\n",
        "print (np.std (x [:, 0])) \n",
        "\n",
        "# Correlation between 1st and 2nd rows, All columns\n",
        "print (np.corrcoef (x [0, :], x [1:, :]))\n",
        "\n",
        "# Transpose Array \n",
        "y = np.transpose(x)\n",
        "print (y)\n",
        "print (y.shape)\n",
        "print (type(y))"
      ],
      "metadata": {
        "id": "qjbIJldkKRMC",
        "outputId": "59ed31e2-0914-4c01-dc78-05ed10efcc79",
        "colab": {
          "base_uri": "https://localhost:8080/"
        }
      },
      "execution_count": null,
      "outputs": [
        {
          "output_type": "stream",
          "name": "stdout",
          "text": [
            "(2, 5)\n",
            "1.7600000000000002\n",
            "65.4\n",
            "31.835000000000004\n",
            "[[1.         0.97514969]\n",
            " [0.97514969 1.        ]]\n",
            "[[ 1.73 65.4 ]\n",
            " [ 1.68 59.2 ]\n",
            " [ 1.71 63.6 ]\n",
            " [ 1.89 88.4 ]\n",
            " [ 1.79 68.7 ]]\n",
            "(5, 2)\n",
            "<class 'numpy.ndarray'>\n"
          ]
        }
      ]
    },
    {
      "cell_type": "markdown",
      "source": [
        "## Numpy Advanced Statistics\n",
        "### - **Pass argument / boolean array as index to an array**"
      ],
      "metadata": {
        "id": "ug6HFeSrnZj6"
      }
    },
    {
      "cell_type": "code",
      "source": [
        "# Create numpy array positions\n",
        "np_positions = np.array (['GK', 'MA', 'DA', 'GK', 'MA', 'DA'])\n",
        "\n",
        "# Create numpy array heights\n",
        "np_heights = np.array ([17, 16, 18, 19, 14, 12])\n",
        "\n",
        "# Extract heights GK players by passing Boolean argument for positions index to heights \n",
        "np_GK = np.array (np_heights [np_positions =='GK'])\n",
        "\n",
        "# Extract heights other players by passing Boolean argument for positions index to heights \n",
        "np_nonGK = np.array (np_heights [np_positions !='GK'])\n",
        "\n",
        "# Print median heights of GK and non GK\n",
        "print (np.median (np_GK), np.median (np_nonGK))"
      ],
      "metadata": {
        "colab": {
          "base_uri": "https://localhost:8080/"
        },
        "id": "pi2fpDBPnfIk",
        "outputId": "de12d072-3e31-4350-b524-722f689631eb"
      },
      "execution_count": null,
      "outputs": [
        {
          "output_type": "stream",
          "name": "stdout",
          "text": [
            "18.0 15.0\n"
          ]
        }
      ]
    },
    {
      "cell_type": "markdown",
      "source": [
        "#**Tuples**\n",
        "### - Like list : contain multiple types\n",
        "### - Unlike list : immutable - cannot modify values\n",
        "### - Constructed using a parentheses ( )\n",
        "### - Can be unpacked by assigning variables\n",
        "### - Access by indexing"
      ],
      "metadata": {
        "id": "vRysJge55cJV"
      }
    },
    {
      "cell_type": "code",
      "source": [
        "# Assign variables # Cleaner Code\n",
        "hall, kit, liv, bed, bath, w, x, y, z = 11.25, 18.0, 20.0, 10.75, 9.5, 'Amman', True, 1>2, 10001\n",
        "\n",
        "# Construct tuple areas with variables of different data types\n",
        "areas = (hall, kit, liv, bed, bath, w, x, y, z)\n",
        "print (areas)\n",
        "print (type(areas))"
      ],
      "metadata": {
        "id": "AWzuisnF5uIc",
        "outputId": "ac185ff1-4c6f-4fdc-de44-dcdb8b8daa29",
        "colab": {
          "base_uri": "https://localhost:8080/"
        }
      },
      "execution_count": null,
      "outputs": [
        {
          "output_type": "stream",
          "name": "stdout",
          "text": [
            "(11.25, 18.0, 20.0, 10.75, 9.5, 'Amman', True, False, 10001)\n",
            "<class 'tuple'>\n"
          ]
        }
      ]
    },
    {
      "cell_type": "markdown",
      "source": [
        "#**Dictionaries**\n",
        "### - Create with curly brackets { }\n",
        "### - Has key - value pairs seperated with Colon:\n",
        "### - Syntax {key1 : value1, key2 : value2}\n",
        "### - Keys have to be unique - using same key again will retain last value\n",
        "### - Pass key [ ] to square brackets and get corresponding value \n",
        "### - **Extend dictionary syntax : dictionary [ new key ] = new value**\n",
        "### - **Update existing key value SAME SYNTAX : dictionary [ existing key ] = new value**\n",
        "### - **Python knows to create keys or update new values as using unique keys only**\n",
        "###  \n",
        "### - List and Dictionary - Select, update and remove with [ ]\n",
        "### - List indexed by range of numbers\n",
        "### - Dictionaries indexed with unique immutabele keys\n",
        "### - Use lists for collection of values, order matters, for selecting subsets\n",
        "### - Lookup table with unique keys\n",
        "\n",
        "\n",
        "\n"
      ],
      "metadata": {
        "id": "UJytuLsQMFD8"
      }
    },
    {
      "cell_type": "code",
      "source": [
        "# Create dictionary europe\n",
        "europe = {'spain':'madrid', 'france':'paris', 'germany':'berlin', 'norway':'oslo'}\n",
        "print (europe)\n",
        "\n",
        "# Print out the keys in europe\n",
        "print (europe.keys ())\n",
        "\n",
        "# Print out the values in europe\n",
        "print (europe.values ())\n",
        "\n",
        "# Print out value that belongs to key 'norway'\n",
        "print (europe ['norway'])\n",
        "\n",
        "# Extend dictionary europe with key Sri Lanka and value Colombo\n",
        "europe ['Sri Lanka'] = 'Colombo'\n",
        "print (europe)\n",
        "\n",
        "# Update value of key Sri Lanka's capital to Kandy\n",
        "europe ['Sri Lanka'] = 'Kandy '\n",
        "print (europe)\n",
        "\n",
        "# Add 'upper' to Value of Sri Lanka's capital Kandy\n",
        "europe ['Sri Lanka'] += 'Upper'\n",
        "print (europe)\n",
        "\n",
        "# Print boolen to check key in disctionary\n",
        "print ('spain' in europe)\n",
        "\n",
        "# Remove key value pair Sri Lanka : Kandy\n",
        "del europe ['Sri Lanka']\n",
        "print (europe)"
      ],
      "metadata": {
        "id": "A2_y_itg91Q_",
        "outputId": "515a8168-314e-4b84-cf11-28d0c1b09e9a",
        "colab": {
          "base_uri": "https://localhost:8080/"
        }
      },
      "execution_count": null,
      "outputs": [
        {
          "output_type": "stream",
          "name": "stdout",
          "text": [
            "{'spain': 'madrid', 'france': 'paris', 'germany': 'berlin', 'norway': 'oslo'}\n",
            "dict_keys(['spain', 'france', 'germany', 'norway'])\n",
            "dict_values(['madrid', 'paris', 'berlin', 'oslo'])\n",
            "oslo\n",
            "{'spain': 'madrid', 'france': 'paris', 'germany': 'berlin', 'norway': 'oslo', 'Sri Lanka': 'Colombo'}\n",
            "{'spain': 'madrid', 'france': 'paris', 'germany': 'berlin', 'norway': 'oslo', 'Sri Lanka': 'Kandy '}\n",
            "{'spain': 'madrid', 'france': 'paris', 'germany': 'berlin', 'norway': 'oslo', 'Sri Lanka': 'Kandy Upper'}\n",
            "True\n",
            "{'spain': 'madrid', 'france': 'paris', 'germany': 'berlin', 'norway': 'oslo'}\n"
          ]
        }
      ]
    },
    {
      "cell_type": "markdown",
      "source": [
        "#**Matplotlib**\n",
        "### - Use pyplot from matplotlib library"
      ],
      "metadata": {
        "id": "GX1P36pKrVFt"
      }
    },
    {
      "cell_type": "markdown",
      "source": [
        "##Line Plot"
      ],
      "metadata": {
        "id": "AHetUM2uulbC"
      }
    },
    {
      "cell_type": "code",
      "source": [
        "# Import pyplot from matplotlib package \n",
        "import matplotlib.pyplot as plt\n",
        "\n",
        "# Creat world population lists for graph\n",
        "year = [1950, 1960, 1970, 1980, 1990, 2000, 2010, 2020]\n",
        "pop = [1.5, 1.8, 2.0, 2.3, 2.7, 3.2, 3.4, 3.9]\n",
        "\n",
        "# Create line plot with year on x -axis and pop on y-axis\n",
        "plt.plot (year, pop)"
      ],
      "metadata": {
        "id": "sR8bkdIZtRJq"
      },
      "execution_count": null,
      "outputs": []
    },
    {
      "cell_type": "markdown",
      "source": [
        "##Scatter Plot"
      ],
      "metadata": {
        "id": "g4N0vpdYurnh"
      }
    },
    {
      "cell_type": "code",
      "source": [
        "# Create scatter plot with year on x -axis and pop on y-axis\n",
        "plt.scatter (year, pop)"
      ],
      "metadata": {
        "colab": {
          "base_uri": "https://localhost:8080/",
          "height": 285
        },
        "id": "BZmeGgq0uuSk",
        "outputId": "673b0ff6-02b5-41f7-8674-654e90204a98"
      },
      "execution_count": null,
      "outputs": [
        {
          "output_type": "execute_result",
          "data": {
            "text/plain": [
              "<matplotlib.collections.PathCollection at 0x7f47eac4c190>"
            ]
          },
          "metadata": {},
          "execution_count": 44
        },
        {
          "output_type": "display_data",
          "data": {
            "text/plain": [
              "<Figure size 432x288 with 1 Axes>"
            ],
            "image/png": "[encoded data removed]"
          },
          "metadata": {
            "needs_background": "light"
          }
        }
      ]
    },
    {
      "cell_type": "markdown",
      "source": [
        "##Histogram\n",
        "### - Distribution over single value\n",
        "### - Default bin size is 10"
      ],
      "metadata": {
        "id": "gqltR5HMvU-e"
      }
    },
    {
      "cell_type": "code",
      "source": [
        "# Create list of life expectancy for 10 countries\n",
        "life = [80, 75, 82, 69, 96, 79, 80, 75, 96, 100]\n",
        "\n",
        "# Create histogram of the life expectancy to find the distribution\n",
        "plt.hist (life)"
      ],
      "metadata": {
        "colab": {
          "base_uri": "https://localhost:8080/",
          "height": 338
        },
        "id": "njWl1wanvd1H",
        "outputId": "fe7761db-91c3-41bd-8b51-b53d129afe35"
      },
      "execution_count": null,
      "outputs": [
        {
          "output_type": "execute_result",
          "data": {
            "text/plain": [
              "(array([1., 2., 0., 3., 1., 0., 0., 0., 2., 1.]),\n",
              " array([ 69. ,  72.1,  75.2,  78.3,  81.4,  84.5,  87.6,  90.7,  93.8,\n",
              "         96.9, 100. ]),\n",
              " <a list of 10 Patch objects>)"
            ]
          },
          "metadata": {},
          "execution_count": 27
        },
        {
          "output_type": "display_data",
          "data": {
            "text/plain": [
              "<Figure size 432x288 with 1 Axes>"
            ],
            "image/png": "[encoded data removed]"
          },
          "metadata": {
            "needs_background": "light"
          }
        }
      ]
    },
    {
      "cell_type": "code",
      "source": [
        "# Create histogram of the life expectancy to find the distribution, bin size = 5\n",
        "plt.hist (life, bins = 5)"
      ],
      "metadata": {
        "colab": {
          "base_uri": "https://localhost:8080/",
          "height": 317
        },
        "id": "aTb23P4fv5nS",
        "outputId": "d29b5463-6a80-4d97-f6d1-5d19dc6617d9"
      },
      "execution_count": null,
      "outputs": [
        {
          "output_type": "execute_result",
          "data": {
            "text/plain": [
              "(array([3., 3., 1., 0., 3.]),\n",
              " array([ 69. ,  75.2,  81.4,  87.6,  93.8, 100. ]),\n",
              " <a list of 5 Patch objects>)"
            ]
          },
          "metadata": {},
          "execution_count": 48
        },
        {
          "output_type": "display_data",
          "data": {
            "text/plain": [
              "<Figure size 432x288 with 1 Axes>"
            ],
            "image/png": "[encoded data removed]"
          },
          "metadata": {
            "needs_background": "light"
          }
        }
      ]
    },
    {
      "cell_type": "markdown",
      "source": [
        "##Customise Plots \n",
        "### - Label x-axis plt.xlabel\n",
        "### - Label y-axis plt.ylabel\n",
        "### - Label plot title plt.title\n",
        "### - Make an axis logarithmic plt.yscale ('log') / plt.xscale ('log')\n",
        "### - Create Tick Value lists and assign plt.yticks (tick_val, tick_lab)\n",
        "### - Set Sizes to a NumPy Array\n",
        "### - Colors b (blue), g (green), r (red), c (cyan), m (magenta), y (yellow), k (black), w (white)\n",
        "### - Call texts at x-axis and y-axis intersections plt.text\n",
        "### - Grid plt.grid(True)"
      ],
      "metadata": {
        "id": "2-MZQhFfwcqu"
      }
    },
    {
      "cell_type": "code",
      "source": [
        "# Import pyplot from matplotlib package \n",
        "import matplotlib.pyplot as plt\n",
        "import numpy as np\n",
        "\n",
        "# Create world population lists for graph\n",
        "year = [1950, 1960, 1970, 1980, 1990, 2000, 2010, 2020]\n",
        "pop = [1.5, 1.8, 2.0, 2.3, 2.7, 3.2, 3.4, 3.9]\n",
        "\n",
        "# Label x-axis with xlabel\n",
        "plt.xlabel ('Population in Billions')\n",
        "\n",
        "# Label y-axis with ylabel\n",
        "plt.ylabel ('Year')\n",
        "\n",
        "# Label plot name with title\n",
        "plt.title ('World Development')\n",
        "\n",
        "# Make y-axis logarithmic scale with yscale('log')\n",
        "plt.yscale ('log')\n",
        "\n",
        "# Create tick value lists\n",
        "tick_val = [1, 2, 3, 4]\n",
        "tick_lab = ['1k', '2k', '3k', '4k']\n",
        "\n",
        "# Adapt the ticks on the y-axis with yticks\n",
        "plt.yticks (tick_val, tick_lab)\n",
        "\n",
        "# Store pop as a numpy array: np_size and multipy as necessary for sizes of points\n",
        "np_size = np.array(pop)\n",
        "np_size = np_size ** 200\n",
        "\n",
        "# Store colours in np array np_col\n",
        "np_col = np.array (['b', 'g', 'r', 'c', 'm', 'y', 'k', 'b'])\n",
        "\n",
        "# Call texts at plot intersections\n",
        "plt.text(1970, 2.0, 'Iron Man')\n",
        "plt.text(2010, 3.4, 'Thor')\n",
        "\n",
        "# Add grid() call\n",
        "plt.grid(True)\n",
        "\n",
        "# Update: Set s (size) argument to np_pop and c (colour) argument to np_col, also set aplha to 0.8\n",
        "plt.scatter (year, pop, s = np_size, c = np_col, alpha = 0.8)"
      ],
      "metadata": {
        "colab": {
          "base_uri": "https://localhost:8080/"
        },
        "id": "nhIQRveewhkb",
        "outputId": "34fb0245-a34a-4dca-9795-5c5d293fcbb9"
      },
      "execution_count": null,
      "outputs": [
        {
          "data": {
            "text/plain": [
              "<matplotlib.collections.PathCollection at 0x7fd9649b0410>"
            ]
          },
          "execution_count": 2,
          "metadata": {},
          "output_type": "execute_result"
        }
      ]
    },
    {
      "cell_type": "markdown",
      "source": [
        "##**Note - Add keys and values to dictionary**\n",
        "### - **To add 1 to the value of existing key 'entry' in dictionary 'd', use d[entry] += 1**\n",
        "### - **To add a new key to 'd' and set its value to 1, use d[entry] = 1**\n",
        "\n"
      ],
      "metadata": {
        "id": "vH36gLHmBpUY"
      }
    },
    {
      "cell_type": "code",
      "source": [
        "# Build new dictionary \n",
        "lang = {'eng':1, 'spn':2, 'tam':3}\n",
        "print (lang)\n",
        "\n",
        "# Add 1 to the value of existing key 'eng' in dictionary 'lang' use lang['eng'] += 1\n",
        "lang ['eng'] += 1\n",
        "print (lang)\n",
        "\n",
        "#Add new key 'sin' to 'lang' and set its value to 1, use lang['sin'] = 1\n",
        "lang ['sin'] = 1\n",
        "print (lang)"
      ],
      "metadata": {
        "id": "NjVO4WqaJa69",
        "outputId": "5a09643e-38b1-46a4-c120-c8994ad673e3",
        "colab": {
          "base_uri": "https://localhost:8080/"
        }
      },
      "execution_count": null,
      "outputs": [
        {
          "output_type": "stream",
          "name": "stdout",
          "text": [
            "{'eng': 1, 'spn': 2, 'tam': 3}\n",
            "{'eng': 2, 'spn': 2, 'tam': 3}\n",
            "{'eng': 2, 'spn': 2, 'tam': 3, 'sin': 1}\n"
          ]
        }
      ]
    },
    {
      "cell_type": "markdown",
      "source": [
        "##Dictionary of Dictionaries\n",
        "### - Values can be dictionaries or other lists \n",
        "### - Dictionaries can be contained in lists or np arrays\n",
        "### - Select sub-dictionary values with [ ]  [ ] \n",
        "### - Can craete manually or with pre-defined lists"
      ],
      "metadata": {
        "id": "SgsN8sqQpPmy"
      }
    },
    {
      "cell_type": "code",
      "source": [
        "# Create dictionary of dictionaries\n",
        "europe = { 'spain': { 'capital':'madrid', 'population':46.77 },\n",
        "           'france': { 'capital':'paris', 'population':66.03 },\n",
        "           'germany': { 'capital':'berlin', 'population':80.62 },\n",
        "           'norway': { 'capital':'oslo', 'population':5.084 } }\n",
        "\n",
        "\n",
        "# Print out details for spain\n",
        "print (europe ['spain'])\n",
        "\n",
        "# Print out the capital of France\n",
        "print(europe['france']['capital'])\n",
        "\n",
        "# Add sub-dictionary data for italy, capital rome and population 59.83 under key 'italy' # Cleaner Code\n",
        "europe['italy'] = {'capital':'rome', 'population':59.83}\n",
        "\n",
        "# Print updated dictionary europe\n",
        "print(europe)\n",
        "\n",
        "\n",
        "# Pre-defined lists\n",
        "names = ['United States', 'Australia', 'Japan', 'India', 'Russia', 'Morocco', 'Egypt']\n",
        "dr =  [True, False, False, False, True, True, True]\n",
        "cpc = [809, 731, 588, 18, 200, 70, 45]\n",
        "\n",
        "# Create dictionary my_dict with three key:value pairs: my_dict\n",
        "my_dict={'country':names, 'drives_right':dr,'cars_per_cap': cpc}\n",
        "\n",
        "# Print dictionary\n",
        "print (my_dict)"
      ],
      "metadata": {
        "id": "KZ5HwCpTM-y7",
        "outputId": "cd47703c-5f58-48ff-fc55-4721db33d63c",
        "colab": {
          "base_uri": "https://localhost:8080/"
        }
      },
      "execution_count": null,
      "outputs": [
        {
          "output_type": "stream",
          "name": "stdout",
          "text": [
            "{'capital': 'madrid', 'population': 46.77}\n",
            "paris\n",
            "{'spain': {'capital': 'madrid', 'population': 46.77}, 'france': {'capital': 'paris', 'population': 66.03}, 'germany': {'capital': 'berlin', 'population': 80.62}, 'norway': {'capital': 'oslo', 'population': 5.084}, 'italy': {'capital': 'rome', 'population': 59.83}}\n",
            "{'country': ['United States', 'Australia', 'Japan', 'India', 'Russia', 'Morocco', 'Egypt'], 'drives_right': [True, False, False, False, True, True, True], 'cars_per_cap': [809, 731, 588, 18, 200, 70, 45]}\n"
          ]
        }
      ]
    },
    {
      "cell_type": "code",
      "source": [
        "# Pre-defined lists\n",
        "names = ['United States', 'Australia', 'Japan', 'India', 'Russia', 'Morocco', 'Egypt']\n",
        "dr =  [True, False, False, False, True, True, True]\n",
        "cpc = [809, 731, 588, 18, 200, 70, 45]\n",
        "\n",
        "# Import pandas as pd\n",
        "import pandas as pd\n",
        "\n",
        "# Create dictionary my_dict with three key:value pairs: my_dict\n",
        "my_dict={'country':names, 'drives_right':dr,'cars_per_cap': cpc}\n",
        "\n",
        "# Build a DataFrame cars from my_dict: cars\n",
        "cars=pd.DataFrame(my_dict)\n",
        "\n",
        "# Print cars\n",
        "print(cars)\n",
        "\n",
        "# Define Row labels\n",
        "row_labels = row_labels = ['US', 'AUS', 'JPN', 'IN', 'RU', 'MOR', 'EG']\n",
        "\n",
        "# Specify row labels of cars\n",
        "cars.index=row_labels\n",
        "\n",
        "# Print cars again\n",
        "print(cars)\n"
      ],
      "metadata": {
        "id": "XpOmBtUOwh60",
        "outputId": "b56c8f7c-f510-4f0a-88c8-2637f68196cf",
        "colab": {
          "base_uri": "https://localhost:8080/"
        }
      },
      "execution_count": null,
      "outputs": [
        {
          "output_type": "stream",
          "name": "stdout",
          "text": [
            "         country  drives_right  cars_per_cap\n",
            "0  United States          True           809\n",
            "1      Australia         False           731\n",
            "2          Japan         False           588\n",
            "3          India         False            18\n",
            "4         Russia          True           200\n",
            "5        Morocco          True            70\n",
            "6          Egypt          True            45\n",
            "           country  drives_right  cars_per_cap\n",
            "US   United States          True           809\n",
            "AUS      Australia         False           731\n",
            "JPN          Japan         False           588\n",
            "IN           India         False            18\n",
            "RU          Russia          True           200\n",
            "MOR        Morocco          True            70\n",
            "EG           Egypt          True            45\n"
          ]
        }
      ]
    },
    {
      "cell_type": "markdown",
      "source": [
        "#**Pandas**\n",
        "### - Use pandas package\n",
        "### - Rectangular / Tabular / Table data is stored in a **Dataframe**\n",
        "### - Row = Observations with unique labels\n",
        "### - Columns = Each Row has same observations in Columns of different data types with unique labels\n",
        "### - Syntax : pd.DataFrame (list / dictionary)\n",
        "\n"
      ],
      "metadata": {
        "id": "p1SBPpDbtXh9"
      }
    },
    {
      "cell_type": "markdown",
      "source": [
        "##Create DataFrame manually\n",
        "### Use predefined lists and dictionaries"
      ],
      "metadata": {
        "id": "ueUf8F5mwbVk"
      }
    },
    {
      "cell_type": "markdown",
      "source": [
        "##Create DataFrame from CSV file\n",
        "### - Use pd.read_csv(csv-file)\n",
        "### - **index_col is argument of read_csv( ) to specify column in CSV file to be used as row label** "
      ],
      "metadata": {
        "id": "nSqO8g6JyaM1"
      }
    },
    {
      "cell_type": "code",
      "source": [
        "# Import pandas as pd\n",
        "import pandas as pd\n",
        "\n",
        "# Import cars.csv from GitHub url\n",
        "url = 'https://raw.githubusercontent.com/nirmalaraj77/Python/main/cars.csv'\n",
        "\n",
        "# Import the cars.csv data: cars\n",
        "cars = pd.DataFrame(pd.read_csv(url))\n",
        "\n",
        "# Print out cars\n",
        "print(cars)\n",
        "\n",
        "# Fix import by including index_col\n",
        "cars = pd.DataFrame(pd.read_csv(url, index_col=0))\n",
        "\n",
        "# Print out cars again with correct row labels\n",
        "print (cars)"
      ],
      "metadata": {
        "id": "L3kMkif2yjSL",
        "outputId": "9fcf2f53-0f48-424f-aaa6-8bbf9ae866fc",
        "colab": {
          "base_uri": "https://localhost:8080/"
        }
      },
      "execution_count": null,
      "outputs": [
        {
          "output_type": "stream",
          "name": "stdout",
          "text": [
            "  Unnamed: 0  cars_per_cap        country  drives_right\n",
            "0         US           809  United States          True\n",
            "1        AUS           731      Australia         False\n",
            "2        JAP           588          Japan         False\n",
            "3         IN            18          India         False\n",
            "4         RU           200         Russia          True\n",
            "5        MOR            70        Morocco          True\n",
            "6         EG            45          Egypt          True\n",
            "     cars_per_cap        country  drives_right\n",
            "US            809  United States          True\n",
            "AUS           731      Australia         False\n",
            "JAP           588          Japan         False\n",
            "IN             18          India         False\n",
            "RU            200         Russia          True\n",
            "MOR            70        Morocco          True\n",
            "EG             45          Egypt          True\n"
          ]
        }
      ]
    },
    {
      "cell_type": "markdown",
      "source": [
        "##Index and select data from DataFrames with square brackets [ ] \n",
        "### - Single square brackets returns dtype Pandas Series\n",
        "### - Double square brckets returns dtype dataFrame\n",
        "### - Column Access using labels\n",
        "### - Row access only through slicing [ : ] \n",
        "\n",
        "\n"
      ],
      "metadata": {
        "id": "L4y-Srul1mVE"
      }
    },
    {
      "cell_type": "code",
      "source": [
        "# Import pandas as pd\n",
        "import pandas as pd\n",
        "\n",
        "# Import brics.csv from GitHub url\n",
        "url = 'https://raw.githubusercontent.com/nirmalaraj77/Python/main/brics.csv'\n",
        "\n",
        "# Import the brics.csv data: brics and label by including index_col\n",
        "brics = pd.DataFrame (pd.read_csv(url, index_col = 0))\n",
        "\n",
        "# Access column 'country' and print out with row labels: Result is a Pandas Series \n",
        "print (brics ['country'])\n",
        "print (type (brics ['country']))\n",
        "\n",
        "# Access column 'country' with double square brackets and keep result in a DataFrame\n",
        "print (brics [['country']])\n",
        "print (type (brics [['country']]))\n",
        "\n",
        "# Extend call to access 2 columns with double square brackets and keep results in a DataFrame\n",
        "print (brics [['country', 'capital']])\n",
        "print (type (brics [['country', 'capital']]))\n",
        "\n",
        "# Access rows 1 - 4 from brics.csv \n",
        "print (brics [: 4])\n",
        "print (type(brics [: 4]))"
      ],
      "metadata": {
        "id": "AvxhG4p_1vkr",
        "outputId": "ec703da1-92ad-49e0-9646-528dd64a599e",
        "colab": {
          "base_uri": "https://localhost:8080/"
        }
      },
      "execution_count": null,
      "outputs": [
        {
          "output_type": "stream",
          "name": "stdout",
          "text": [
            "BR          Brazil\n",
            "RU          Russia\n",
            "IN           India\n",
            "CH           China\n",
            "SA    South Africa\n",
            "Name: country, dtype: object\n",
            "<class 'pandas.core.series.Series'>\n",
            "         country\n",
            "BR        Brazil\n",
            "RU        Russia\n",
            "IN         India\n",
            "CH         China\n",
            "SA  South Africa\n",
            "<class 'pandas.core.frame.DataFrame'>\n",
            "         country    capital\n",
            "BR        Brazil   Brasilia\n",
            "RU        Russia     Moscow\n",
            "IN         India  New Delhi\n",
            "CH         China    Beijing\n",
            "SA  South Africa   Pretoria\n",
            "<class 'pandas.core.frame.DataFrame'>\n",
            "   country    capital    area  population\n",
            "BR  Brazil   Brasilia   8.516       200.4\n",
            "RU  Russia     Moscow  17.100       143.5\n",
            "IN   India  New Delhi   3.286      1252.0\n",
            "CH   China    Beijing   9.597      1357.0\n",
            "<class 'pandas.core.frame.DataFrame'>\n"
          ]
        }
      ]
    },
    {
      "cell_type": "markdown",
      "source": [
        "##Index and select data from DataFrames with loc \n",
        "### - Single square brackets [ ] returns dtype Pandas Series on different lines\n",
        "### - Double square brckets [ [ ] ]  returns dtype dataFrameon tabular format\n",
        "### - **loc (label - based)**\n",
        "### - Row access \n",
        "### - Column acess\n",
        "### - Row and Column access - Use colon : for all rows"
      ],
      "metadata": {
        "id": "vAHDqtSr6wAb"
      }
    },
    {
      "cell_type": "code",
      "source": [
        "# Access row for RU with loc single brackets : Result is a Pandas Series\n",
        "print (brics.loc ['RU'])\n",
        "print(type (brics.loc ['RU']))\n",
        "\n",
        "# Access row for RU with loc double brackets : Result is a DataFrame\n",
        "print (brics.loc [['RU']])\n",
        "print(type (brics.loc [['RU']]))\n",
        "\n",
        "# Access multiple rows with loc double brackets : Result is a DataFrame\n",
        "print (brics.loc [['RU', 'IN', 'CH']])\n",
        "\n",
        "# Access multiple rows and colums with loc double brackets : Result is a DataFrame\n",
        "print (brics.loc [['RU', 'IN', 'CH'], ['country', 'capital']])\n",
        "\n",
        "# Access all rows with colon : and multiple colums with loc double brackets : Result is a DataFrame\n",
        "print (brics.loc [:, ['country', 'capital']])"
      ],
      "metadata": {
        "id": "ULrgHo6_7Q8r",
        "outputId": "6f73a1c8-d48a-42ba-8c59-d0559bc79de3",
        "colab": {
          "base_uri": "https://localhost:8080/"
        }
      },
      "execution_count": null,
      "outputs": [
        {
          "output_type": "stream",
          "name": "stdout",
          "text": [
            "country       Russia\n",
            "capital       Moscow\n",
            "area            17.1\n",
            "population     143.5\n",
            "Name: RU, dtype: object\n",
            "<class 'pandas.core.series.Series'>\n",
            "   country capital  area  population\n",
            "RU  Russia  Moscow  17.1       143.5\n",
            "<class 'pandas.core.frame.DataFrame'>\n",
            "   country    capital    area  population\n",
            "RU  Russia     Moscow  17.100       143.5\n",
            "IN   India  New Delhi   3.286      1252.0\n",
            "CH   China    Beijing   9.597      1357.0\n",
            "   country    capital\n",
            "RU  Russia     Moscow\n",
            "IN   India  New Delhi\n",
            "CH   China    Beijing\n",
            "         country    capital\n",
            "BR        Brazil   Brasilia\n",
            "RU        Russia     Moscow\n",
            "IN         India  New Delhi\n",
            "CH         China    Beijing\n",
            "SA  South Africa   Pretoria\n"
          ]
        }
      ]
    },
    {
      "cell_type": "markdown",
      "source": [
        "##Index and select data from DataFrames with iloc \n",
        "### - Single square brackets [ ] returns dtype Pandas Series on different lines\n",
        "### - Double square brckets [ [ ] ]  returns dtype dataFrameon tabular format\n",
        "### - **iloc (index - based)**\n",
        "### - Row access \n",
        "### - Column acess\n",
        "### - Row and Column access - Use colon : for all rows"
      ],
      "metadata": {
        "id": "pwrTZk63HKoY"
      }
    },
    {
      "cell_type": "code",
      "source": [
        "# Access row for RU with loc with labels in double brackets : Result is a DataFrame\n",
        "print (brics.loc [['RU']])\n",
        "\n",
        "# Access row for RU with iloc with index in double brackets : Result is a DataFrame\n",
        "print (brics.iloc [[1]])\n",
        "\n",
        "# Access multiple rows and colums with iloc with indexes for rows and columns in double brackets : Result is a DataFrame\n",
        "print (brics.iloc [[0, 1, 2], [0, 1]])\n",
        "\n",
        "# Access all rows with colon : and multiple colums with iloc double brackets : Result is a DataFrame\n",
        "print (brics.iloc [:, [0, 1]])"
      ],
      "metadata": {
        "id": "vjlmXuTHZYOw",
        "outputId": "5a22dea7-4e70-41e9-db61-bf2b7e41fc48",
        "colab": {
          "base_uri": "https://localhost:8080/"
        }
      },
      "execution_count": null,
      "outputs": [
        {
          "output_type": "stream",
          "name": "stdout",
          "text": [
            "   country capital  area  population\n",
            "RU  Russia  Moscow  17.1       143.5\n",
            "   country capital  area  population\n",
            "RU  Russia  Moscow  17.1       143.5\n",
            "   country    capital\n",
            "BR  Brazil   Brasilia\n",
            "RU  Russia     Moscow\n",
            "IN   India  New Delhi\n",
            "         country    capital\n",
            "BR        Brazil   Brasilia\n",
            "RU        Russia     Moscow\n",
            "IN         India  New Delhi\n",
            "CH         China    Beijing\n",
            "SA  South Africa   Pretoria\n"
          ]
        }
      ]
    },
    {
      "cell_type": "markdown",
      "source": [
        "##**Filtering pandas DataFrames**"
      ],
      "metadata": {
        "id": "f0-6URM7E0Gd"
      }
    },
    {
      "cell_type": "code",
      "source": [
        "# Import pandas as pd\n",
        "import pandas as pd\n",
        "\n",
        "# Import cars.csv from GitHub url\n",
        "url = 'https://raw.githubusercontent.com/nirmalaraj77/Python/main/cars.csv'\n",
        "\n",
        "# Import cars.csv and include correct index\n",
        "cars = pd.read_csv(url, index_col=0)\n",
        "\n",
        "# Extract drives_right column as Series: dr\n",
        "dr=cars['drives_right']\n",
        "print(dr)\n",
        "\n",
        "# Use dr to subset cars: sel\n",
        "sel=cars[dr]\n",
        "\n",
        "# Print sel\n",
        "print (sel)"
      ],
      "metadata": {
        "id": "zy0fulQXR0OD",
        "outputId": "15ff3a81-27fb-42a5-9f5c-11eeaa920cc6",
        "colab": {
          "base_uri": "https://localhost:8080/"
        }
      },
      "execution_count": null,
      "outputs": [
        {
          "output_type": "stream",
          "name": "stdout",
          "text": [
            "US      True\n",
            "AUS    False\n",
            "JAP    False\n",
            "IN     False\n",
            "RU      True\n",
            "MOR     True\n",
            "EG      True\n",
            "Name: drives_right, dtype: bool\n",
            "     cars_per_cap        country  drives_right\n",
            "US            809  United States          True\n",
            "RU            200         Russia          True\n",
            "MOR            70        Morocco          True\n",
            "EG             45          Egypt          True\n"
          ]
        }
      ]
    },
    {
      "cell_type": "code",
      "source": [
        "# Preparation\n",
        "import pandas as pd\n",
        "import numpy as np\n",
        "url = 'https://raw.githubusercontent.com/nirmalaraj77/Python/main/cars.csv'\n",
        "cars = pd.read_csv(url, index_col=0)\n",
        "\n",
        "# Combine above code to extract drives_right as sel\n",
        "sel=cars[cars['drives_right']]\n",
        "print (sel)\n",
        "\n",
        "\n",
        "# Create car_maniac: observations that have a cars_per_cap over 500\n",
        "car_maniac = cars [cars['cars_per_cap'] > 500]\n",
        "print(car_maniac)\n",
        "\n",
        "# Create medium: observations with cars_per_cap between 100 and 500\n",
        "medium = cars [np.logical_and (cars['cars_per_cap'] > 100, cars ['cars_per_cap'] < 500)]\n",
        "print (medium)\n",
        "\n",
        "\n"
      ],
      "metadata": {
        "id": "TMPQwz0W4SLr",
        "outputId": "d8424419-124f-46e5-eb1b-74fe11346ca3",
        "colab": {
          "base_uri": "https://localhost:8080/"
        }
      },
      "execution_count": null,
      "outputs": [
        {
          "output_type": "stream",
          "name": "stdout",
          "text": [
            "     cars_per_cap        country  drives_right\n",
            "US            809  United States          True\n",
            "RU            200         Russia          True\n",
            "MOR            70        Morocco          True\n",
            "EG             45          Egypt          True\n",
            "     cars_per_cap        country  drives_right\n",
            "US            809  United States          True\n",
            "AUS           731      Australia         False\n",
            "JAP           588          Japan         False\n",
            "    cars_per_cap country  drives_right\n",
            "RU           200  Russia          True\n"
          ]
        }
      ]
    },
    {
      "cell_type": "markdown",
      "source": [
        "##**Add New Column to the dataframe with apply function (no need for for loop)**\n",
        "### - Add new column to include data from each rows\n",
        "### - Use apply ( ) function\n",
        "### - Vectorised operations \n",
        "### - Apply () function adds new column from existing rows "
      ],
      "metadata": {
        "id": "82KohHxWKJIk"
      }
    },
    {
      "cell_type": "code",
      "source": [
        "# Preparation\n",
        "\n",
        "# Import pandas as pd, brics.csv from GitHub url, brics. csv data as df brics and  include index_col\n",
        "import pandas as pd\n",
        "url = 'https://raw.githubusercontent.com/nirmalaraj77/Python/main/brics.csv'\n",
        "brics = pd.read_csv(url, index_col=0)\n",
        "\n",
        "# Select 'country' column from 'brics' dataframe and apply the len function\n",
        "\n",
        "# The apply () function taked the input from the country column and produces a new set\n",
        "\n",
        "# Use apply () function to add column : lengh_name and lenght of characters from country name\n",
        "\n",
        "brics ['name_length'] = brics ['country'].apply (len)\n",
        "print (brics)"
      ],
      "metadata": {
        "id": "YAoWc2SUKIGU",
        "outputId": "3cf37a78-38a7-4794-8377-4d86e5a3ed96",
        "colab": {
          "base_uri": "https://localhost:8080/"
        }
      },
      "execution_count": null,
      "outputs": [
        {
          "output_type": "stream",
          "name": "stdout",
          "text": [
            "         country    capital    area  population  name_length\n",
            "BR        Brazil   Brasilia   8.516      200.40            6\n",
            "RU        Russia     Moscow  17.100      143.50            6\n",
            "IN         India  New Delhi   3.286     1252.00            5\n",
            "CH         China    Beijing   9.597     1357.00            5\n",
            "SA  South Africa   Pretoria   1.221       52.98           12\n"
          ]
        }
      ]
    },
    {
      "cell_type": "markdown",
      "source": [
        "#**Logical Operators**\n",
        "### - Boolean is either 1 or 0, True or False\n",
        "### - Comparision Operators : - >, >=, <, <=, ==, !=\n",
        "<br>\n",
        "\n",
        "##**Boolean Operators**\n",
        "<br>\n",
        "\n",
        "### - **AND**\n",
        "### - True and True = True, True and False = False, False and True = False, False and False = False          \n",
        "<br>\n",
        "\n",
        "### - **OR**\n",
        "### - True or True = True, False or True = True, True or False = True, False or False = False\n",
        "<br>\n",
        "\n",
        "### - **NOT** \n",
        "### - Negates boolean value\n",
        "### - Has higher priority than AND and OR, it is executed first\n",
        "### - Not True = False, Not False =  True\n",
        "<br>\n",
        "\n",
        "##**Boolean Operators do not work with numpy arrays**\n",
        "### - Numpy equivalent: \n",
        "### - logical_and( )\n",
        "### - logical_or( )\n",
        "### - logical_not ( )  "
      ],
      "metadata": {
        "id": "lbyK0ahOc7fD"
      }
    },
    {
      "cell_type": "code",
      "source": [
        "# AND\n",
        "print (True and True)\n",
        "print (True and False)\n",
        "print (False and True)\n",
        "print (False and False)"
      ],
      "metadata": {
        "id": "gfIs7nRfDAgA",
        "outputId": "5eb2b97a-b78a-4061-ad78-4fed94a23d05",
        "colab": {
          "base_uri": "https://localhost:8080/"
        }
      },
      "execution_count": null,
      "outputs": [
        {
          "output_type": "stream",
          "name": "stdout",
          "text": [
            "True\n",
            "False\n",
            "False\n",
            "False\n"
          ]
        }
      ]
    },
    {
      "cell_type": "code",
      "source": [
        "# OR\n",
        "print (True or True)\n",
        "print (True or False)\n",
        "print (False or True)\n",
        "print (False or False)"
      ],
      "metadata": {
        "id": "TUL2-I2KDQXc",
        "outputId": "4b1e6dab-517d-4923-d824-96fc930a1c94",
        "colab": {
          "base_uri": "https://localhost:8080/"
        }
      },
      "execution_count": null,
      "outputs": [
        {
          "output_type": "stream",
          "name": "stdout",
          "text": [
            "True\n",
            "True\n",
            "True\n",
            "False\n"
          ]
        }
      ]
    },
    {
      "cell_type": "code",
      "source": [
        "# NOT (flips boolean)\n",
        "print (not True) \n",
        "print (not False)\n",
        "\n",
        "print ((not True) == True) \n",
        "print ((not False) == True) \n"
      ],
      "metadata": {
        "id": "2g5iCLSiDjpR",
        "outputId": "3d07c1e2-9766-4805-c267-a6209c394253",
        "colab": {
          "base_uri": "https://localhost:8080/"
        }
      },
      "execution_count": null,
      "outputs": [
        {
          "output_type": "stream",
          "name": "stdout",
          "text": [
            "False\n",
            "True\n",
            "False\n",
            "True\n"
          ]
        }
      ]
    },
    {
      "cell_type": "code",
      "source": [
        "#False, True\n",
        "\n",
        "print (1 > 2) \n",
        "print (1 < 2) \n",
        "print (False == (1 > 2))  \n",
        "print (True  == (2 > 1)) "
      ],
      "metadata": {
        "id": "soMqOU2BLVfa",
        "outputId": "dba36bf3-4d56-48d9-fc29-4e3b6d041433",
        "colab": {
          "base_uri": "https://localhost:8080/"
        }
      },
      "execution_count": null,
      "outputs": [
        {
          "output_type": "stream",
          "name": "stdout",
          "text": [
            "False\n",
            "True\n",
            "True\n",
            "True\n"
          ]
        }
      ]
    },
    {
      "cell_type": "code",
      "source": [
        "# Logical and Comparision Operators\n",
        "x = 12\n",
        "print (x > 3 and x < 15)\n",
        "\n",
        "y = 5 \n",
        "print (y < 7 or y > 15)\n",
        "\n",
        "# Compare Arrays\n",
        "a_np = np.array ([1,3,5,7,9])\n",
        "b_np = np. array([9, 8, 7, 6, 5])\n",
        "print (a_np > b_np)\n",
        "print (a_np != b_np)"
      ],
      "metadata": {
        "id": "WcR5QBG_fYaV",
        "outputId": "6119aa8c-becb-491b-d3a3-2b8be7ba66dc",
        "colab": {
          "base_uri": "https://localhost:8080/"
        }
      },
      "execution_count": null,
      "outputs": [
        {
          "output_type": "stream",
          "name": "stdout",
          "text": [
            "True\n",
            "True\n",
            "[False False False  True  True]\n",
            "[ True  True  True  True  True]\n"
          ]
        }
      ]
    },
    {
      "cell_type": "code",
      "source": [
        "# AND, OR\n",
        "\n",
        "# Define variables\n",
        "my_kitchen = 18.0\n",
        "your_kitchen = 14.0\n",
        "\n",
        "# my_kitchen bigger than 10 and smaller than 18? False\n",
        "print (my_kitchen > 10 and my_kitchen < 18)\n",
        "\n",
        "# my_kitchen smaller than 14 or bigger than 17? True\n",
        "print (my_kitchen <14 or my_kitchen >17)\n",
        "\n",
        "# Double my_kitchen smaller than triple your_kitchen? True\n",
        "print (my_kitchen * 2 < your_kitchen * 3)"
      ],
      "metadata": {
        "id": "aLGl14IO_E2Z",
        "outputId": "9e065c08-060c-4978-df07-11e00e23015a",
        "colab": {
          "base_uri": "https://localhost:8080/"
        }
      },
      "execution_count": null,
      "outputs": [
        {
          "output_type": "stream",
          "name": "stdout",
          "text": [
            "False\n",
            "True\n",
            "True\n"
          ]
        }
      ]
    },
    {
      "cell_type": "code",
      "source": [
        "# AND , OR, NOT\n",
        "\n",
        "# Define variables\n",
        "x = 8\n",
        "y = 9\n",
        "\n",
        "# x < 3 is False\n",
        "print (x < 3) \n",
        "\n",
        "# Not x < 3 is True\n",
        "print (not (x < 3))\n",
        "\n",
        "# y > 14 is False\n",
        "print ( y > 14)\n",
        "\n",
        "# y > 10 is False\n",
        "print (y > 10)\n",
        "\n",
        "# y > 14 or y > 10 is False\n",
        "print(y > 14 or y > 10)\n",
        "\n",
        "# Not (y > 14 or y > 10) is True\n",
        "print (not(y > 14 or y > 10))\n",
        "\n",
        "# Not x < 3 (True) and not (y > 14 or y > 10) (True) is True\n",
        "print (not(x < 3) and not(y > 14 or y > 10))\n",
        "\n",
        "# NOT (Not x < 3 (True) and not (y > 14 or y > 10) (True)) is False\n",
        "print (not (not (x < 3) and not(y > 14 or y > 10)))"
      ],
      "metadata": {
        "id": "24COGg9a_RAD",
        "outputId": "946b52c5-3cbe-46d8-c096-d49099c14d07",
        "colab": {
          "base_uri": "https://localhost:8080/"
        }
      },
      "execution_count": null,
      "outputs": [
        {
          "output_type": "stream",
          "name": "stdout",
          "text": [
            "False\n",
            "True\n",
            "False\n",
            "False\n",
            "False\n",
            "True\n",
            "True\n",
            "False\n"
          ]
        }
      ]
    },
    {
      "cell_type": "code",
      "source": [
        "# Boolean Operators with Numpy\n",
        "\n",
        "# Create arrays\n",
        "import numpy as np\n",
        "my_house = np.array([18.0, 20.0, 10.75, 9.50])\n",
        "your_house = np.array([14.0, 24.0, 14.25, 9.0])\n",
        "\n",
        "# my_house greater than 18.5 or smaller than 10\n",
        "print(np.logical_or(my_house>18.5, my_house<10))\n",
        "\n",
        "# Both my_house and your_house smaller than 11\n",
        "print(np.logical_and(my_house<11, your_house<11))"
      ],
      "metadata": {
        "id": "8wdPCq4DC2c1",
        "outputId": "e061dac2-0721-4e9a-eb6f-388d970170e9",
        "colab": {
          "base_uri": "https://localhost:8080/"
        }
      },
      "execution_count": null,
      "outputs": [
        {
          "output_type": "stream",
          "name": "stdout",
          "text": [
            "[False  True False  True]\n",
            "[False False False  True]\n"
          ]
        }
      ]
    },
    {
      "cell_type": "markdown",
      "source": [
        "#**Control Flow with Conditional Statements**\n",
        "### - If\n",
        "### - Elif\n",
        "### - Else\n",
        "### - Starts with 'If', tries 'Elif' and finishes with 'Else' until one evaluates to True\n"
      ],
      "metadata": {
        "id": "eeWUlYHUIcE3"
      }
    },
    {
      "cell_type": "code",
      "source": [
        "# Execute IF and finish with ELSE if IF does not hold\n",
        "\n",
        "# Input Value\n",
        "x = int (input ('Your value: '))\n",
        "\n",
        "# Check if input is even and print 'Even'\n",
        "if x % 2 == 0:\n",
        "  print (str(x), ' is even')\n",
        "\n",
        "# Anything else, print 'Odd'\n",
        "else:  \n",
        "  print (str(x), ' is odd')"
      ],
      "metadata": {
        "id": "135nE-tXJq-a",
        "outputId": "0ea8a2ed-f30e-45e2-85c4-58dee9b93cef",
        "colab": {
          "base_uri": "https://localhost:8080/"
        }
      },
      "execution_count": null,
      "outputs": [
        {
          "output_type": "stream",
          "name": "stdout",
          "text": [
            "Your value: 5\n",
            "5  is odd\n"
          ]
        }
      ]
    },
    {
      "cell_type": "code",
      "source": [
        "# Execute IF, execute ELIF if IF does not hold and execute ELSE if ELIF does not hold\n",
        "\n",
        "# Eg.: Check if int is divisible by 2 or 3 \n",
        "\n",
        "\n",
        "# Input Value\n",
        "x = int (input ('Your value: '))\n",
        "\n",
        "# Check if x divisible by 2 and print 'x is divisble by 2'\n",
        "if x % 2 ==0:\n",
        "  print (str (x), ' is divisible by 2')\n",
        "\n",
        "# Check if x divisible by 3 and print 'x is divisble by 3'\n",
        "elif x % 3 ==0:\n",
        "  print (str (x), ' is divisible by 3')\n",
        "\n",
        "# Anything else, print ' x is not diviable by 2 or 3'\n",
        "else:\n",
        "  print (str (x), ' is not divisible by 2 or 3')"
      ],
      "metadata": {
        "id": "2qldUhMzL9fN",
        "outputId": "faaa5537-b86a-415f-8107-371368e17be6",
        "colab": {
          "base_uri": "https://localhost:8080/"
        }
      },
      "execution_count": null,
      "outputs": [
        {
          "output_type": "stream",
          "name": "stdout",
          "text": [
            "Your value: 5\n",
            "5  is not divisible by 2 or 3\n"
          ]
        }
      ]
    },
    {
      "cell_type": "code",
      "source": [
        "# Input Value\n",
        "\n",
        "# Eg.: Check whether float is big if greater than 50, medium if 50  and small if less than 50\n",
        "x = float (input ('Your Value: ')) \n",
        "\n",
        "#Check if input greater than 50 and print 'Big'\n",
        "if x > 50.0: \n",
        "  print ('Big')\n",
        "\n",
        "#Else check if input is equal to 25 and print 'Medium'\n",
        "elif x == 50.0: \n",
        "  print ('Medium')\n",
        "\n",
        "#Anything else, print 'Small'\n",
        "else: \n",
        "  print ('Small')"
      ],
      "metadata": {
        "id": "l9F2YphjM8i8",
        "outputId": "684d6583-fa62-426a-aea9-03f83d3f15fd",
        "colab": {
          "base_uri": "https://localhost:8080/"
        }
      },
      "execution_count": null,
      "outputs": [
        {
          "output_type": "stream",
          "name": "stdout",
          "text": [
            "Your Value: 47.88888\n",
            "Small\n"
          ]
        }
      ]
    },
    {
      "cell_type": "code",
      "source": [
        "# Combine multiple control flows\n",
        "\n",
        "# Input room name and area in sq. mt.\n",
        "room = str (input ('Room name: '))\n",
        "area = float (input ('Room area (10 - 20 sq. mt).: '))\n",
        "\n",
        "# if-elif-else construct for room\n",
        "if room == \"kit\" :\n",
        "    print(\"looking around in the kitchen.\")\n",
        "elif room == 'bed':\n",
        "    print (\"looking around in the bedroom.\")\n",
        "else :\n",
        "    print(\"looking around elsewhere.\")\n",
        "\n",
        "\n",
        "# if-elif-else construct for area\n",
        "if area > 15 :\n",
        "  print(\"big place!\")\n",
        "elif area > 10 :\n",
        "  print (\"medium size, nice!\")\n",
        "else :\n",
        "    print('pretty small.')"
      ],
      "metadata": {
        "id": "Mm66d9jTPF1t",
        "outputId": "4979e935-2f87-4ec6-f8f2-3445034630a8",
        "colab": {
          "base_uri": "https://localhost:8080/"
        }
      },
      "execution_count": null,
      "outputs": [
        {
          "output_type": "stream",
          "name": "stdout",
          "text": [
            "Room name: bath\n",
            "Room area (10 - 20 sq. mt).: 100\n",
            "looking around elsewhere.\n",
            "big place!\n"
          ]
        }
      ]
    },
    {
      "cell_type": "markdown",
      "source": [
        "##**Filtering pandas DataFrames**"
      ],
      "metadata": {
        "id": "e-J_Qy6ZRXue"
      }
    },
    {
      "cell_type": "markdown",
      "source": [
        "#**While Loop**\n",
        "### - Continues to execute expression until condition is met\n",
        "\n"
      ],
      "metadata": {
        "id": "peUq0ZxbWWMm"
      }
    },
    {
      "cell_type": "code",
      "source": [
        "# error = 50, keep calculating error / 4 and print error until value is less than 1\n",
        "error = 50\n",
        "while error > 1 :\n",
        "    error = error / 4\n",
        "    print (error)"
      ],
      "metadata": {
        "colab": {
          "base_uri": "https://localhost:8080/"
        },
        "id": "U3_ktaO8YX1A",
        "outputId": "f8e3398d-b073-47de-d8ef-e3f138a79422"
      },
      "execution_count": null,
      "outputs": [
        {
          "output_type": "stream",
          "name": "stdout",
          "text": [
            "12.5\n",
            "3.125\n",
            "0.78125\n"
          ]
        }
      ]
    },
    {
      "cell_type": "code",
      "source": [
        "# Number = 0, print number and add 1 to number until number is less than 10\n",
        "# NOTE: PRINTS 0 - 9 AS WHILE LOOP PRINTS NUMBER AND THEN UPDATES\n",
        "number = 0\n",
        "while number < 10 :\n",
        "    print (number)\n",
        "    number = number + 1"
      ],
      "metadata": {
        "id": "nTHSq-g9fAJr",
        "outputId": "7e28b308-ecd4-4407-ab4c-7077f3a0d175",
        "colab": {
          "base_uri": "https://localhost:8080/"
        }
      },
      "execution_count": null,
      "outputs": [
        {
          "output_type": "stream",
          "name": "stdout",
          "text": [
            "0\n",
            "1\n",
            "2\n",
            "3\n",
            "4\n",
            "5\n",
            "6\n",
            "7\n",
            "8\n",
            "9\n"
          ]
        }
      ]
    },
    {
      "cell_type": "code",
      "source": [
        "# number = 0, add 1 to number and print until number is less than 10\n",
        "# NOTE: PRINTS 1 - 10 AS WHILE LOOP UPDATES NUMBER AND THEN PRINTS \n",
        "\n",
        "number = 0\n",
        "while number < 10 :\n",
        "      number = number + 1\n",
        "      print (number)"
      ],
      "metadata": {
        "id": "0sSrSVT5fOes",
        "outputId": "8022e312-1015-4931-c953-275bb5da664e",
        "colab": {
          "base_uri": "https://localhost:8080/"
        }
      },
      "execution_count": null,
      "outputs": [
        {
          "output_type": "stream",
          "name": "stdout",
          "text": [
            "1\n",
            "2\n",
            "3\n",
            "4\n",
            "5\n",
            "6\n",
            "7\n",
            "8\n",
            "9\n",
            "10\n"
          ]
        }
      ]
    },
    {
      "cell_type": "code",
      "source": [
        "# Initialize offset\n",
        "offset = 8      \n",
        "\n",
        "# Code the while loop, print 'correcting' and deduct offset by 1 unril offset is > 0, then print 'offset'\n",
        "while offset > 0 :\n",
        "    print(\"correcting...\")\n",
        "    offset = offset - 1         \n",
        "    print(offset)"
      ],
      "metadata": {
        "colab": {
          "base_uri": "https://localhost:8080/"
        },
        "id": "jjfoiBiMY6ps",
        "outputId": "9f6c1045-f198-4495-8332-cd25bf368545"
      },
      "execution_count": null,
      "outputs": [
        {
          "output_type": "stream",
          "name": "stdout",
          "text": [
            "correcting...\n",
            "7\n",
            "correcting...\n",
            "6\n",
            "correcting...\n",
            "5\n",
            "correcting...\n",
            "4\n",
            "correcting...\n",
            "3\n",
            "correcting...\n",
            "2\n",
            "correcting...\n",
            "1\n",
            "correcting...\n",
            "0\n"
          ]
        }
      ]
    },
    {
      "cell_type": "markdown",
      "source": [
        "##If-Elif-Else within While loop"
      ],
      "metadata": {
        "id": "idRsYlnnqjFn"
      }
    },
    {
      "cell_type": "code",
      "source": [
        "# Above while loop to correct offset will not work if offset starts with negative\n",
        "# # Set while loop to run while offset is not equal to 0\n",
        "# Inside while loop, construct if-elif-else statement to decrease offset by 1 if offset > 0\n",
        "# Increase offset by 1 if offset is < 0 \n",
        "\n",
        "# Initialize offset\n",
        "offset = - 8\n",
        "\n",
        "# Code while loop to print 'corrrecting' while offset is not 0\n",
        "while offset != 0 :\n",
        "    print(\"correcting...\")\n",
        "# Construct if statement to decrease offset by 1 if offset > 0\n",
        "    if offset > 0 :\n",
        "      offset = offset - 1 \n",
        "# Construct ellse statement to increase offset by 1 if offset < 0       \n",
        "    else : \n",
        "      offset = offset + 1    \n",
        "# Complete while loop to print offset value when it reaches 0\n",
        "    print(offset)"
      ],
      "metadata": {
        "colab": {
          "base_uri": "https://localhost:8080/"
        },
        "id": "TIOZ_PM7mzmz",
        "outputId": "e61eee9a-d2ba-4111-8dd0-89318e9c82d4"
      },
      "execution_count": null,
      "outputs": [
        {
          "output_type": "stream",
          "name": "stdout",
          "text": [
            "correcting...\n",
            "-7\n",
            "correcting...\n",
            "-6\n",
            "correcting...\n",
            "-5\n",
            "correcting...\n",
            "-4\n",
            "correcting...\n",
            "-3\n",
            "correcting...\n",
            "-2\n",
            "correcting...\n",
            "-1\n",
            "correcting...\n",
            "0\n"
          ]
        }
      ]
    },
    {
      "cell_type": "markdown",
      "source": [
        "#**For Loop**\n",
        "### - For each variable in sequence, execute expression\n",
        "### - Use to iterate elements of lists, tuples, strings\n",
        "### - No access to index"
      ],
      "metadata": {
        "id": "EQdPmzcwqq_T"
      }
    },
    {
      "cell_type": "code",
      "source": [
        "# For Loop prints variable i for every element in list \n",
        "for i in [0, 1, 2]:\n",
        "  print (i)"
      ],
      "metadata": {
        "colab": {
          "base_uri": "https://localhost:8080/"
        },
        "id": "o9lre0fSrFUZ",
        "outputId": "8c28020e-57f8-49ff-bad2-2a1564e16242"
      },
      "execution_count": null,
      "outputs": [
        {
          "output_type": "stream",
          "name": "stdout",
          "text": [
            "0\n",
            "1\n",
            "2\n"
          ]
        }
      ]
    },
    {
      "cell_type": "code",
      "source": [
        "# For loop prints elements of list fam\n",
        "fam = ['Shana', 'Hari', 'Raji', 'Nirmalaraj']\n",
        "for member in fam :\n",
        "  print (member)"
      ],
      "metadata": {
        "id": "HgCFRUc3frLy",
        "outputId": "b887d7c1-12cd-4558-edc2-e9b24ba9026b",
        "colab": {
          "base_uri": "https://localhost:8080/"
        }
      },
      "execution_count": null,
      "outputs": [
        {
          "output_type": "stream",
          "name": "stdout",
          "text": [
            "Shana\n",
            "Hari\n",
            "Raji\n",
            "Nirmalaraj\n"
          ]
        }
      ]
    },
    {
      "cell_type": "code",
      "source": [
        "# For loop prints elements of tuple fam\n",
        "fam = ('Shana', 'Hari', 'Raji', 'Nirmalaraj')\n",
        "for member in fam :\n",
        "  print (member)"
      ],
      "metadata": {
        "id": "ZIlLENO6frCF",
        "outputId": "139f9cc4-8576-4021-a7ec-c0db0b6567e1",
        "colab": {
          "base_uri": "https://localhost:8080/"
        }
      },
      "execution_count": null,
      "outputs": [
        {
          "output_type": "stream",
          "name": "stdout",
          "text": [
            "Shana\n",
            "Hari\n",
            "Raji\n",
            "Nirmalaraj\n"
          ]
        }
      ]
    },
    {
      "cell_type": "code",
      "source": [
        "# For loop with enumerate iterates elements of list fam with index\n",
        "fam = ['Shana', 'Hari', 'Raji', 'Nirmalaraj']\n",
        "for x, y in enumerate (fam) :\n",
        "  print (x, y)"
      ],
      "metadata": {
        "id": "SCZ2UJQ5fq1P",
        "outputId": "3bfd1701-f300-49fc-8e65-8631d77faf31",
        "colab": {
          "base_uri": "https://localhost:8080/"
        }
      },
      "execution_count": null,
      "outputs": [
        {
          "output_type": "stream",
          "name": "stdout",
          "text": [
            "0 Shana\n",
            "1 Hari\n",
            "2 Raji\n",
            "3 Nirmalaraj\n"
          ]
        }
      ]
    },
    {
      "cell_type": "code",
      "source": [
        "# For loop iterates over string. Can use string methods on output\n",
        "string = str (input ('Your String :'))\n",
        "for m in string :\n",
        "  print (m.capitalize())"
      ],
      "metadata": {
        "id": "gGVtL0V4cYCK",
        "outputId": "f7dc129a-0cbe-47f9-f32c-3260e51ac643",
        "colab": {
          "base_uri": "https://localhost:8080/"
        }
      },
      "execution_count": null,
      "outputs": [
        {
          "output_type": "stream",
          "name": "stdout",
          "text": [
            "Your String :amma\n",
            "A\n",
            "M\n",
            "M\n",
            "A\n"
          ]
        }
      ]
    },
    {
      "cell_type": "markdown",
      "source": [
        "#**Loop Data Structures**\n",
        "### - Different Data Structures have different methods and functions"
      ],
      "metadata": {
        "id": "A1MAXnBLKVby"
      }
    },
    {
      "cell_type": "markdown",
      "source": [
        "##Dictionaries\n",
        "### - Use .items ( ) method to iterate over dictionary keys and values\n",
        "### - Dictionaries are inherently unordered\n",
        "### - Syntax: for key, val in dictonary_name.items ( ) :  "
      ],
      "metadata": {
        "id": "k-H3Xiz4m_nU"
      }
    },
    {
      "cell_type": "code",
      "source": [
        "# Build dictionary world\n",
        "world = {'Sri Lanka' : 'Colombo', 'India' : 'New Delhi', 'Pakistan' : 'Islamabad'}\n",
        "\n",
        "# Use .items to iterate key-value pairs\n",
        "# Define arbitary values for key and value\n",
        "for x, y in world.items() :\n",
        "  print (x, y)"
      ],
      "metadata": {
        "id": "wV4FiGUiKq8x",
        "outputId": "ec4f1645-9924-4a12-e3c8-8ce89985aeae",
        "colab": {
          "base_uri": "https://localhost:8080/"
        }
      },
      "execution_count": null,
      "outputs": [
        {
          "output_type": "stream",
          "name": "stdout",
          "text": [
            "Sri Lanka Colombo\n",
            "India New Delhi\n",
            "Pakistan Islamabad\n"
          ]
        }
      ]
    },
    {
      "cell_type": "markdown",
      "source": [
        "##Numpy Arrays\n",
        "### - Use np.nditer function to iterate over ndimensional numpy arrays\n",
        "### - Syntax: for val in np.nditer (array_name) :  "
      ],
      "metadata": {
        "id": "htCZ0iltmnYy"
      }
    },
    {
      "cell_type": "code",
      "source": [
        "# Build 2 np arrays\n",
        "import numpy as np\n",
        "np_height = np.array ([1.73, 1.68, 1.71, 7.89, 1.79])\n",
        "np_weight = np. array ([65.4, 59.2, 63.6, 88.4, 68.7])\n",
        "\n",
        "# Build 2d np array meas\n",
        "meas = np.array ([np_height, np_weight])\n",
        "\n",
        "# Printinng 2D nparray with a For Loop results in an entire array in each iteration\n",
        "for k in meas:\n",
        "  print (k)\n",
        "\n",
        "# Use nditer to itearte array elements \n",
        "for k in np.nditer (meas):\n",
        "  print (k) "
      ],
      "metadata": {
        "id": "_PvMiIITMMzb",
        "outputId": "07a863ce-65d1-4734-cc17-e42f65f28465",
        "colab": {
          "base_uri": "https://localhost:8080/"
        }
      },
      "execution_count": null,
      "outputs": [
        {
          "output_type": "stream",
          "name": "stdout",
          "text": [
            "[1.73 1.68 1.71 7.89 1.79]\n",
            "[65.4 59.2 63.6 88.4 68.7]\n",
            "1.73\n",
            "1.68\n",
            "1.71\n",
            "7.89\n",
            "1.79\n",
            "65.4\n",
            "59.2\n",
            "63.6\n",
            "88.4\n",
            "68.7\n"
          ]
        }
      ]
    },
    {
      "cell_type": "markdown",
      "source": [
        "##Pandas DataFrames\n",
        "### - Explicitly mention that want to iterate over rows\n",
        "### - Use .iterrows ( ) method to iterate over dataframe rows \n",
        "### - Syntax: for label, row in dataframe_name.iterrows ( ) :  \n",
        "### - Iterates over each row and returns the label and actual row information as a Pandas Series\n",
        "### - Can subset"
      ],
      "metadata": {
        "id": "o2XYnGp1mwz-"
      }
    },
    {
      "cell_type": "code",
      "source": [
        "# Preparation\n",
        "\n",
        "# Import pandas as pd, brics.csv from GitHub url, brics. csv data as df brics and  include index_col\n",
        "\n",
        "import pandas as pd\n",
        "url = 'https://raw.githubusercontent.com/nirmalaraj77/Python/main/brics.csv'\n",
        "brics = pd.read_csv(url, index_col=0)\n",
        "\n",
        "\n",
        "# Use iterrows method to iterate each row and return label and row information (series)\n",
        "for lab, row in brics.iterrows () :\n",
        "  print (lab)\n",
        "  print (row)\n",
        "\n",
        "# Use iterrows method and subsetting to print lables and 'capital' column from rows\n",
        "for lab, row in brics.iterrows () :\n",
        "  print (lab + ': ' + row ['capital'])\n",
        "\n"
      ],
      "metadata": {
        "id": "GXBn2yOYnP3G",
        "outputId": "1d93b360-7366-4660-c1ba-0c8cf66253c3",
        "colab": {
          "base_uri": "https://localhost:8080/"
        }
      },
      "execution_count": null,
      "outputs": [
        {
          "output_type": "stream",
          "name": "stdout",
          "text": [
            "BR\n",
            "country         Brazil\n",
            "capital       Brasilia\n",
            "area             8.516\n",
            "population       200.4\n",
            "Name: BR, dtype: object\n",
            "RU\n",
            "country       Russia\n",
            "capital       Moscow\n",
            "area            17.1\n",
            "population     143.5\n",
            "Name: RU, dtype: object\n",
            "IN\n",
            "country           India\n",
            "capital       New Delhi\n",
            "area              3.286\n",
            "population       1252.0\n",
            "Name: IN, dtype: object\n",
            "CH\n",
            "country         China\n",
            "capital       Beijing\n",
            "area            9.597\n",
            "population     1357.0\n",
            "Name: CH, dtype: object\n",
            "SA\n",
            "country       South Africa\n",
            "capital           Pretoria\n",
            "area                 1.221\n",
            "population           52.98\n",
            "Name: SA, dtype: object\n",
            "BR: Brasilia\n",
            "RU: Moscow\n",
            "IN: New Delhi\n",
            "CH: Beijing\n",
            "SA: Pretoria\n"
          ]
        }
      ]
    },
    {
      "cell_type": "markdown",
      "source": [
        "##Add New Column to the dataframe with For Loop\n",
        "### - Add new column to include data from each rows  \n",
        "### - Use loc for label based\n",
        "### - **Not efficient for large datasets**"
      ],
      "metadata": {
        "id": "LvS43v8BqbB0"
      }
    },
    {
      "cell_type": "code",
      "source": [
        "# Preparation\n",
        "\n",
        "# Import pandas as pd, brics.csv from GitHub url, brics. csv data as df brics and  include index_col\n",
        "import pandas as pd\n",
        "url = 'https://raw.githubusercontent.com/nirmalaraj77/Python/main/brics.csv'\n",
        "brics = pd.read_csv(url, index_col=0)\n",
        "\n",
        "\n",
        "# Use iterrows method to iterate each row and return label and row information as Pandas Series (lab, row)\n",
        "for lab, row in brics.iterrows () :\n",
        "    brics.loc [lab, 'name_length'] = len (row ['country'])\n",
        "  # Print length of country name in each row\n",
        "  # Create a series on everry iteration\n",
        "  # Select country column from each row and pass the number of characters in each string to new column 'name_length using label based loc function\n",
        "print (brics)\n"
      ],
      "metadata": {
        "id": "GPmftsZOqfZ5",
        "outputId": "5c1e1e65-42c9-4f1c-f7be-5bd0d6498ff6",
        "colab": {
          "base_uri": "https://localhost:8080/"
        }
      },
      "execution_count": null,
      "outputs": [
        {
          "output_type": "stream",
          "name": "stdout",
          "text": [
            "         country    capital    area  population  name_length\n",
            "BR        Brazil   Brasilia   8.516      200.40          6.0\n",
            "RU        Russia     Moscow  17.100      143.50          6.0\n",
            "IN         India  New Delhi   3.286     1252.00          5.0\n",
            "CH         China    Beijing   9.597     1357.00          5.0\n",
            "SA  South Africa   Pretoria   1.221       52.98         12.0\n"
          ]
        }
      ]
    },
    {
      "cell_type": "markdown",
      "source": [
        "#**Random Numbers**\n",
        "### - Use random package from Numpy  \n",
        "### - Rand generates random float between 0 and 1\n",
        "### - Randint generates random integers between 2 ints\n",
        "### - Random Genarators use mathematical formula from random seeds"
      ],
      "metadata": {
        "id": "qOCfenbU7N5v"
      }
    },
    {
      "cell_type": "code",
      "source": [
        "# Import numpy\n",
        "import numpy as np\n",
        "\n",
        "# Random float\n",
        "print (np.random.rand())\n",
        "\n",
        "# Random integer between 1 - 5\n",
        "print (np.random.randint(1, 6))\n",
        "\n",
        "# Simulate x times with For loop\n",
        "for i in range (3) :\n",
        "  print (np.random.rand())\n",
        "  print (np.random.randint (1, 6))\n"
      ],
      "metadata": {
        "id": "hwKi405Q73T1",
        "outputId": "6da3c4d1-8d1a-4598-c547-7e85adf1a8b7",
        "colab": {
          "base_uri": "https://localhost:8080/"
        }
      },
      "execution_count": null,
      "outputs": [
        {
          "output_type": "stream",
          "name": "stdout",
          "text": [
            "0.05510470406273782\n",
            "2\n",
            "0.2766999863748947\n",
            "3\n",
            "0.7266724063015315\n",
            "3\n",
            "0.24342736671698995\n",
            "1\n"
          ]
        }
      ]
    },
    {
      "cell_type": "markdown",
      "source": [
        "##Setting manual seed generates same pseudo-random numbers  \n",
        "### - Seed can be any number\n",
        "### - Manul seed ensures reproducibility"
      ],
      "metadata": {
        "id": "rQX65ZkwH1_4"
      }
    },
    {
      "cell_type": "code",
      "source": [
        "# Pseudo-random results with manual seed\n",
        "\n",
        "# Seed can be set to any number \n",
        "import numpy as np\n",
        "np.random.seed (711)\n",
        "\n",
        "# Simulate x times with For loop\n",
        "for i in range (3) :\n",
        "  print (np.random.rand())\n",
        "  print (np.random.randint (1, 6))"
      ],
      "metadata": {
        "id": "eOnqblyW9U-Q",
        "outputId": "cafc830c-c180-4266-e8c7-a899eb349f1b",
        "colab": {
          "base_uri": "https://localhost:8080/"
        }
      },
      "execution_count": null,
      "outputs": [
        {
          "output_type": "stream",
          "name": "stdout",
          "text": [
            "0.55735645227134\n",
            "3\n",
            "0.4117694455415377\n",
            "1\n",
            "0.6069960086668053\n",
            "4\n"
          ]
        }
      ]
    },
    {
      "cell_type": "markdown",
      "source": [
        "##Simulate Coin Toss 1\n",
        "### - Print Heads or Tails"
      ],
      "metadata": {
        "id": "1PryTxBoCpkF"
      }
    },
    {
      "cell_type": "code",
      "source": [
        "# Simulate Coin Toss using if-elif else construct \n",
        "# Use randint to randomly generate 0 or 1\n",
        "# Use For loop to simulate results over given number of times\n",
        "# Set seed to reproduce same results\n",
        "\n",
        "import numpy as np\n",
        "np.random.seed (555)\n",
        "\n",
        "for x in range (10) :\n",
        "  coin = np.random.randint (0, 2)\n",
        "  if coin == 0:\n",
        "    print ('Heads')\n",
        "  else:\n",
        "    print ('Tails')"
      ],
      "metadata": {
        "id": "n-LidawF9UQb",
        "outputId": "21e06078-2cc1-40b7-feff-ef81fba2f00b",
        "colab": {
          "base_uri": "https://localhost:8080/"
        }
      },
      "execution_count": null,
      "outputs": [
        {
          "output_type": "stream",
          "name": "stdout",
          "text": [
            "Heads\n",
            "Heads\n",
            "Tails\n",
            "Tails\n",
            "Heads\n",
            "Tails\n",
            "Heads\n",
            "Heads\n",
            "Tails\n",
            "Tails\n"
          ]
        }
      ]
    },
    {
      "cell_type": "markdown",
      "source": [
        "##Simulate Coin Toss 2\n",
        "### - Build list to update results using For loop for Coin Toss"
      ],
      "metadata": {
        "id": "axeinKRtFliM"
      }
    },
    {
      "cell_type": "code",
      "source": [
        "# Use For loop to build list to update results\n",
        "\n",
        "# Import numpy and set seed\n",
        "import numpy as np\n",
        "np.random.seed (124)\n",
        "\n",
        "# Initiate empty list outcomes\n",
        "outcomes = []\n",
        "\n",
        "# Simulate coin toss 10 times with For loop\n",
        "# Append Outcomes list with results\n",
        "for x in range (10):\n",
        "  coin = np.random.randint (0, 2)\n",
        "  if coin == 0:\n",
        "    outcomes.append ('heads')\n",
        "  else:\n",
        "    outcomes.append ('tails')\n",
        "\n",
        "print (outcomes)"
      ],
      "metadata": {
        "colab": {
          "base_uri": "https://localhost:8080/"
        },
        "id": "Mo64U1iaDIBC",
        "outputId": "9cd739f2-4e1a-4a1b-ab5f-73c24b69a002"
      },
      "execution_count": null,
      "outputs": [
        {
          "output_type": "stream",
          "name": "stdout",
          "text": [
            "['heads', 'heads', 'tails', 'tails', 'heads', 'tails', 'heads', 'heads', 'heads', 'heads']\n"
          ]
        }
      ]
    },
    {
      "cell_type": "markdown",
      "source": [
        "##Simulate Coin Toss 3 \n",
        "### - Build Random Walk list by appending total number of tails over given number of throws"
      ],
      "metadata": {
        "id": "xc3svbszKO3r"
      }
    },
    {
      "cell_type": "code",
      "source": [
        "# Track total number of results to simulate Random Walk\n",
        "\n",
        "# Import numpy and set seed\n",
        "import numpy as np\n",
        "np.random.seed (124)\n",
        "\n",
        "# Initiate empty list tails starting with 0\n",
        "tails = [0]\n",
        "\n",
        "# Add results of tails to list for each simulation to produce Random walk\n",
        "\n",
        "# USE x AS INDEX TO LIST TAILS AND INCREMENT 1 TO PREVIOUS RESULT ON EACH THROW\n",
        "\n",
        "# IF TAIL IS THROWN, ADD 1 TO PREVIOUS COUNT AND APPEND TO TAILS LIST\n",
        "for x in range (10) :\n",
        "  coin = np.random.randint (0, 2)\n",
        "  tails.append (tails [x] + coin)\n",
        "\n",
        "\n",
        "# FINAL RESULT IS HOW MANY TIMES TAILS WERE THROWN over 10 TOSSES\n",
        "print (tails)"
      ],
      "metadata": {
        "colab": {
          "base_uri": "https://localhost:8080/"
        },
        "id": "qnPhjUBtKcj9",
        "outputId": "ab353b42-a57e-4e14-a2b2-942e369fb26d"
      },
      "execution_count": null,
      "outputs": [
        {
          "output_type": "stream",
          "name": "stdout",
          "text": [
            "[0, 0, 0, 1, 2, 2, 3, 3, 3, 3, 3]\n"
          ]
        }
      ]
    },
    {
      "cell_type": "markdown",
      "source": [
        "##Simulate Coin Toss 4\n",
        "### - Simulate tossing coins 10 times over 100,000 times\n",
        "### - Get distribution of random walks\n",
        "### - Histogram shows that around 25,000 times, ended up with tails more than 5 times"
      ],
      "metadata": {
        "id": "fB3Kzrm7WnKm"
      }
    },
    {
      "cell_type": "code",
      "source": [
        "import numpy as np\n",
        "\n",
        "# Number of times tails are thrown 10 times if simulated 100,000 times \n",
        "# Initiate empty list final_throws\n",
        "final_tails = []\n",
        "\n",
        "for x in range (100000) :\n",
        "  tails = [0]\n",
        "  for x in range (10) :\n",
        "    coin = np.random.randint (0, 2) # Result is 0 or 1\n",
        "    # IF TAIL IS THROWN, ADD 1 TO PREVIOUS COUNT AND APPEND TO TAILS LIST\n",
        "    # USE x AS INDEX TO LIST TAILS AND INCREMENT 1 TO PREVIOUS RESULT ON EACH THROW\n",
        "    tails.append (tails [x] + coin)\n",
        "\n",
        "# Append last number of tails to final_tails\n",
        "  final_tails.append (tails [-1])\n",
        "\n",
        "# Make histogram to show distribution of final tails\n",
        "# Final tails contain 100,000 elements\n",
        "# Each element in the final result of how many tails were tossed in 10 tosses\n",
        "import matplotlib.pyplot as plt\n",
        "plt.hist (final_tails, bins = 10)\n",
        "plt.show()\n"
      ],
      "metadata": {
        "colab": {
          "base_uri": "https://localhost:8080/",
          "height": 265
        },
        "id": "2bNb2LtXWmOc",
        "outputId": "5c867048-c621-4a7e-8fd0-6713a8ac036b"
      },
      "execution_count": null,
      "outputs": [
        {
          "output_type": "display_data",
          "data": {
            "text/plain": [
              "<Figure size 432x288 with 1 Axes>"
            ],
            "image/png": "[encoded data removed]"
          },
          "metadata": {
            "needs_background": "light"
          }
        }
      ]
    },
    {
      "cell_type": "code",
      "source": [
        "# numpy and matplotlib imported, seed set\n",
        "import numpy as np\n",
        "import matplotlib.pyplot as plt\n",
        "np.random.seed (777)\n",
        "\n",
        "# Simulate random walk xxx times\n",
        "\n",
        "all_walks = [] # Initiate empty list all_walks\n",
        "for i in range(500) : # Simulate random walk 500 times\n",
        "    random_walk = [0] # Initiate empty list random_walk\n",
        "    for x in range(100) : # Simulate dice throw 100 times\n",
        "        step = random_walk[-1] # Final step is last element of random_walk\n",
        "        dice = np.random.randint(1,7) # Randint generates dice throw 1 - 6 \n",
        "        if dice <= 2: # Dice 1,2 = go down 1 step\n",
        "            step = max(0, step - 1) # Use max function to limit step at 0 and not negative\n",
        "        elif dice <= 5: # Dice 3, 4, 5 = go up 1 step\n",
        "            step = step + 1\n",
        "        else: # Dice 6, throw again and go up resulting steps\n",
        "            step = step + np.random.randint(1,7)\n",
        "        if np.random.rand() <= 0.001 : # Introduce 1% chance of falling down, go back to step 0\n",
        "            step = 0\n",
        "        random_walk.append(step) # Append resulting step to random_walk \n",
        "        \n",
        "    all_walks.append(random_walk) # Append last result of random_walk to all_walks\n",
        "\n",
        "# Create and plot np_aw_t\n",
        "np_aw_t = np.transpose(np.array(all_walks))\n",
        "\n",
        "# Select last row from np_aw_t: ends - Contains 500 integers, end point of 500 random walks\n",
        "ends = np_aw_t[-1,:]\n",
        "\n",
        "# Plot histogram of ends, display plot\n",
        "plt.hist(ends)\n",
        "plt.show()\n",
        "\n",
        "# Calculate % of reaching 60 steps from ends\n",
        "print (np.mean (ends >= 60))"
      ],
      "metadata": {
        "colab": {
          "base_uri": "https://localhost:8080/",
          "height": 282
        },
        "id": "Osg3jrO-Sv4P",
        "outputId": "f8de83bb-f5e3-4e2d-9efd-e56aad87dbed"
      },
      "execution_count": null,
      "outputs": [
        {
          "output_type": "display_data",
          "data": {
            "text/plain": [
              "<Figure size 432x288 with 1 Axes>"
            ],
            "image/png": "[encoded data removed]"
          },
          "metadata": {
            "needs_background": "light"
          }
        },
        {
          "output_type": "stream",
          "name": "stdout",
          "text": [
            "0.742\n"
          ]
        }
      ]
    },
    {
      "cell_type": "markdown",
      "source": [
        "#**User-Defined Functions**\n",
        "### - Parameters inside paranthesis\n",
        "### - Call function with name \n",
        "### - Docstrings describe what funcion does and serve as documentation\n",
        "### - Placed immediately after function header within triple quotation marks"
      ],
      "metadata": {
        "id": "BFYb9qFkmT90"
      }
    },
    {
      "cell_type": "markdown",
      "source": [
        "##Define Function to print square of 4\n",
        "### - No parametsrs defined\n",
        "### - Call function name with ( )"
      ],
      "metadata": {
        "id": "ReA0nLOX4a9t"
      }
    },
    {
      "cell_type": "code",
      "source": [
        "# Function Header\n",
        "def square () :\n",
        "  \"\"\"Defines square of a number\"\"\"\n",
        "  # Function Body\n",
        "  new_value = 4 ** 2\n",
        "  print (new_value)\n",
        "\n",
        "# Call function\n",
        "square()"
      ],
      "metadata": {
        "colab": {
          "base_uri": "https://localhost:8080/"
        },
        "id": "h1z0G2eVmYqx",
        "outputId": "f9bbe6cd-14c9-4987-f848-68b850b2b3e7"
      },
      "execution_count": null,
      "outputs": [
        {
          "output_type": "stream",
          "name": "stdout",
          "text": [
            "16\n"
          ]
        }
      ]
    },
    {
      "cell_type": "markdown",
      "source": [
        "##Define Function to print square of any number \n",
        "### - Add the parameter within the paranthesis in the function header\n",
        "### - Call function with the parameter number inside ( )"
      ],
      "metadata": {
        "id": "8tdxyYkV4kTX"
      }
    },
    {
      "cell_type": "code",
      "source": [
        "# Function Header\n",
        "# Add parameter within paranthesis\n",
        "def square (value) :\n",
        "  \"\"\"\"Defines square of a number\"\"\"\n",
        "  # Function Body\n",
        "  new_value = value ** 2 \n",
        "  print (new_value)\n",
        "\n",
        "# Call function\n",
        "square(21)"
      ],
      "metadata": {
        "colab": {
          "base_uri": "https://localhost:8080/"
        },
        "id": "zQUsN7GWmy2Y",
        "outputId": "4b238a6b-8525-4138-ff57-eb1b9345a2b1"
      },
      "execution_count": null,
      "outputs": [
        {
          "output_type": "stream",
          "name": "stdout",
          "text": [
            "441\n"
          ]
        }
      ]
    },
    {
      "cell_type": "markdown",
      "source": [
        "##Define Function to print square of any number \n",
        "### - Add the parameter within the paranthesis in the function header\n",
        "### - Return (don't Print) result and pass to a variable \n",
        "### - Call function with the parameter number inside ( )"
      ],
      "metadata": {
        "id": "c5515d7D5Ll5"
      }
    },
    {
      "cell_type": "code",
      "source": [
        "# Function Header\n",
        "# Add parameter within paranthesis\n",
        "def square (value) :\n",
        "  \"\"\"Defines square of a number\"\"\"\n",
        "  # Function Body\n",
        "  new_value = value ** 2 \n",
        "  # Return a value instead of print, this can be passed to another variable\n",
        "  return (new_value)\n",
        "\n",
        "# Call function and assign variable\n",
        "num = square(7)\n",
        "print (num)"
      ],
      "metadata": {
        "colab": {
          "base_uri": "https://localhost:8080/"
        },
        "id": "Tuf2-CsenYXu",
        "outputId": "de11d318-0195-4304-fe20-f11ff79f5a0a"
      },
      "execution_count": null,
      "outputs": [
        {
          "output_type": "stream",
          "name": "stdout",
          "text": [
            "49\n"
          ]
        }
      ]
    },
    {
      "cell_type": "markdown",
      "source": [
        "##Define Function to print square of any number # Cleaner Code\n",
        "### - Add the parameter within the paranthesis in the function header\n",
        "### - Return (don't Print) result and pass to a variable \n",
        "### - Call function with input operator \n",
        "### - Assign variable to input operator"
      ],
      "metadata": {
        "id": "mpqql1F09Q5Y"
      }
    },
    {
      "cell_type": "code",
      "source": [
        "# Function Header\n",
        "# Add parameter within paranthesis\n",
        "\n",
        "def square (value) :\n",
        "  \"\"\"Defines square of a number\"\"\"\n",
        "  # Function Body # Cleaner Code # Return a value instead of print, this can be passed to another variable\n",
        "  return (value ** 2)\n",
        "\n",
        "# Call function \n",
        "# Assign variable integer from input\n",
        "num = square(int (input ('Your Integer Number: ')))\n",
        "print (num)"
      ],
      "metadata": {
        "id": "bTn-zU9X8WM8",
        "outputId": "fdfa8573-6a9e-4090-c9b0-7dea2aeb7edf",
        "colab": {
          "base_uri": "https://localhost:8080/"
        }
      },
      "execution_count": null,
      "outputs": [
        {
          "output_type": "stream",
          "name": "stdout",
          "text": [
            "Your Integer Number: 55\n",
            "3025\n"
          ]
        }
      ]
    },
    {
      "cell_type": "markdown",
      "source": [
        "##Functions that return single values\n",
        "### - Define function shout( ) to concatenate string with three exclamation marks"
      ],
      "metadata": {
        "id": "EHgM1UIG-qvv"
      }
    },
    {
      "cell_type": "code",
      "source": [
        "# Define the function shout\n",
        "def shout():\n",
        "    \"\"\"Print a string with three exclamation marks\"\"\"\n",
        "    # Concatenate the strings: shout_word # Cleaner Code\n",
        "    print ('congratulations'+'!!!')\n",
        "\n",
        "# Call shout\n",
        "shout()"
      ],
      "metadata": {
        "id": "OyQt2ZviER9U",
        "outputId": "248fbfbd-4165-460f-e37a-4e7a1a2d2033",
        "colab": {
          "base_uri": "https://localhost:8080/"
        }
      },
      "execution_count": null,
      "outputs": [
        {
          "output_type": "stream",
          "name": "stdout",
          "text": [
            "congratulations!!!\n"
          ]
        }
      ]
    },
    {
      "cell_type": "code",
      "source": [
        "# Define shout with the parameter, word\n",
        "def shout(word):\n",
        "    \"\"\"Print a string with three exclamation marks\"\"\"\n",
        "    # Concatenate the strings: shout_word # Cleaner Code\n",
        "    print (word + '!!!')\n",
        "\n",
        "# Call shout with the string 'amma'\n",
        "shout('amma')"
      ],
      "metadata": {
        "id": "yXJnks7cEP1e",
        "outputId": "e42e722f-1009-4d32-d6cc-06eca7e2e247",
        "colab": {
          "base_uri": "https://localhost:8080/"
        }
      },
      "execution_count": null,
      "outputs": [
        {
          "output_type": "stream",
          "name": "stdout",
          "text": [
            "amma!!!\n"
          ]
        }
      ]
    },
    {
      "cell_type": "code",
      "source": [
        "# Define shout with the parameter, word\n",
        "def shout(word):\n",
        "    \"\"\"Return a string with three exclamation marks\"\"\"\n",
        "    # Concatenate the strings: shout_word\n",
        "    shout_word=word+'!!!'\n",
        "\n",
        "    # Replace print with return\n",
        "    return(shout_word)\n",
        "\n",
        "# Pass 'congratulations' to shout: yell\n",
        "yell = shout('congratulations')       \n",
        "\n",
        "# Print yell\n",
        "print (yell)"
      ],
      "metadata": {
        "id": "V-eGF9hcBtMO",
        "outputId": "f65d89cb-440f-4147-da68-84e3c6233f3e",
        "colab": {
          "base_uri": "https://localhost:8080/"
        }
      },
      "execution_count": null,
      "outputs": [
        {
          "output_type": "stream",
          "name": "stdout",
          "text": [
            "congratulations!!!\n"
          ]
        }
      ]
    },
    {
      "cell_type": "code",
      "source": [
        "# Define shout with the parameter, word # Cleaner Code\n",
        "def shout(word):\n",
        "    \"\"\"Print a string with three exclamation marks\"\"\"\n",
        "    # Concatenate the strings: shout_word\n",
        "    return (word + ' '+ '!!!')\n",
        "    \n",
        "# Call shout with input operator and pass to a variable \n",
        "x = shout (str ( input ('Your String : ')))\n",
        "print (x)"
      ],
      "metadata": {
        "id": "dPI4axMAADKv",
        "outputId": "4f38bacc-fb4d-4e44-bfa0-ee6387773385",
        "colab": {
          "base_uri": "https://localhost:8080/"
        }
      },
      "execution_count": null,
      "outputs": [
        {
          "output_type": "stream",
          "name": "stdout",
          "text": [
            "Your String : asssss\n",
            "asssss !!!\n"
          ]
        }
      ]
    },
    {
      "cell_type": "markdown",
      "source": [
        "##Multiple parameters \n",
        "### - Have function accept multiple parameters\n",
        "### - Call function:  no. of arguments = no. of parameters"
      ],
      "metadata": {
        "id": "g-OsveWnCL6o"
      }
    },
    {
      "cell_type": "code",
      "source": [
        "# Define funcion \n",
        "def raise_to_power (x, y):\n",
        "  \"\"\"Raises x to the power of y\"\"\"\n",
        "  z = x ** y\n",
        "  return (z)\n",
        "\n",
        "# Call function \n",
        "print (raise_to_power (6,2))\n"
      ],
      "metadata": {
        "id": "C0PcZsWuCZv1",
        "outputId": "79c79ed6-b78a-4c26-ec09-ba4ae72d6025",
        "colab": {
          "base_uri": "https://localhost:8080/"
        }
      },
      "execution_count": null,
      "outputs": [
        {
          "output_type": "stream",
          "name": "stdout",
          "text": [
            "36\n"
          ]
        }
      ]
    },
    {
      "cell_type": "code",
      "source": [
        "# Define funcion # Cleaner Code\n",
        "def raise_to_power (x, y):\n",
        "  \"\"\"Raises x to the power of y\"\"\"\n",
        "  return (x ** y)\n",
        "\n",
        "# Call function \n",
        "print (raise_to_power (5,6))"
      ],
      "metadata": {
        "id": "aIrcmMAqDKj3",
        "outputId": "be01bfd1-b213-48cd-90b6-e914f0aa1652",
        "colab": {
          "base_uri": "https://localhost:8080/"
        }
      },
      "execution_count": null,
      "outputs": [
        {
          "output_type": "stream",
          "name": "stdout",
          "text": [
            "15625\n"
          ]
        }
      ]
    },
    {
      "cell_type": "code",
      "source": [
        "# Define funcion # Cleaner Code\n",
        "def div_by (x, y):\n",
        "  \"\"\"Divides x by y\"\"\"\n",
        "  return (x / y)\n",
        "\n",
        "# Use input operators to get numbers\n",
        "x = int (input ('First No.: '))\n",
        "y = int (input ('Second No. : '))\n",
        "\n",
        "# Call function \n",
        "print (str (x), 'divided by', str (y), 'is', str(div_by (x, y)))"
      ],
      "metadata": {
        "id": "yXwkjOMrD4Cp",
        "outputId": "56ee9de5-64b0-4ae5-f457-eb56f4c3704c",
        "colab": {
          "base_uri": "https://localhost:8080/"
        }
      },
      "execution_count": null,
      "outputs": [
        {
          "output_type": "stream",
          "name": "stdout",
          "text": [
            "First No.: 5\n",
            "Second No. : 3\n",
            "5 divided by 3 is 1.6666666666666667\n"
          ]
        }
      ]
    },
    {
      "cell_type": "markdown",
      "source": [
        "##Multiple return values\n",
        "### - Construct tuple\n",
        "### - Unpack tuple\n",
        "### - Can work with strings"
      ],
      "metadata": {
        "id": "69oCSHN-WSTr"
      }
    },
    {
      "cell_type": "code",
      "source": [
        "# Raise both values to the power of the other number\n",
        "def raise_both (value1, value2):\n",
        "   '''Raise value1 to the power of valie2 and vice versa'''\n",
        "\n",
        "   new_value1 = value1 ** value2\n",
        "   new_value2 = value2 ** value1\n",
        "   # Construct a tuple\n",
        "   new_tuple = (new_value1, new_value2)\n",
        "   return new_tuple\n",
        "\n",
        "# Call function\n",
        "print (raise_both (4,2))"
      ],
      "metadata": {
        "id": "mHJ-Lm-pVEFl",
        "outputId": "4f52ccc8-abbe-4da5-e7aa-40602bcb960f",
        "colab": {
          "base_uri": "https://localhost:8080/"
        }
      },
      "execution_count": null,
      "outputs": [
        {
          "output_type": "stream",
          "name": "stdout",
          "text": [
            "(16, 16)\n"
          ]
        }
      ]
    },
    {
      "cell_type": "code",
      "source": [
        "# Raise both values to the power of the other number and divide both by other # Cleaner Code\n",
        "def raise_both_divide_both (a, b):\n",
        "  '''Raise a to the power of b and vice versa. Divide a by b and vice versa'''\n",
        "  # Contruct tuple\n",
        "  return (a**b, b**a, a/b, b/a)\n",
        "\n",
        "# Use input operators to get numbers\n",
        "x = int (input ('First No.: '))\n",
        "y = int (input ('Second No. : '))\n",
        "\n",
        "# Call function \n",
        "print (x, 'to the power of', y, ',',y, 'to the power of', x, 'and', x, 'divided by', y, ',', y, 'divided by', x, 'are', raise_both_divide_both (x, y))\n"
      ],
      "metadata": {
        "id": "J9SSV2EoS-ji",
        "outputId": "9f365de3-4737-4ad9-d4e9-b3d0c45fe8b6",
        "colab": {
          "base_uri": "https://localhost:8080/"
        }
      },
      "execution_count": null,
      "outputs": [
        {
          "output_type": "stream",
          "name": "stdout",
          "text": [
            "First No.: 5\n",
            "Second No. : 15\n",
            "5 to the power of 15 , 15 to the power of 5 and 5 divided by 15 , 15 divided by 5 are (30517578125, 759375, 0.3333333333333333, 3.0)\n"
          ]
        }
      ]
    },
    {
      "cell_type": "code",
      "source": [
        "# Define shout with parameters word1 and word2\n",
        "def shout(word1, word2):\n",
        "    \"\"\"Concatenate strings with three exclamation marks\"\"\"\n",
        "    # Concatenate word1 with '!!!': shout1\n",
        "    shout1=word1+'!!!'\n",
        "    \n",
        "    # Concatenate word2 with '!!!': shout2\n",
        "    shout2=word2+'!!!'\n",
        "    \n",
        "    # Concatenate shout1 with shout2: new_shout\n",
        "    new_shout = shout1+shout2\n",
        "\n",
        "    # Return new_shout\n",
        "    return (new_shout)\n",
        "\n",
        "# Pass 'congratulations' and 'you' to shout(): yell\n",
        "yell=shout('congratulations', 'you')\n",
        "\n",
        "# Print yell\n",
        "print(yell)"
      ],
      "metadata": {
        "id": "KBF0gQpbYcwX",
        "outputId": "61f525ba-1159-4ae6-bd57-4d95639e56e1",
        "colab": {
          "base_uri": "https://localhost:8080/"
        }
      },
      "execution_count": null,
      "outputs": [
        {
          "output_type": "stream",
          "name": "stdout",
          "text": [
            "congratulations!!!you!!!\n"
          ]
        }
      ]
    },
    {
      "cell_type": "code",
      "source": [
        "# Define shout with parameters word1 and word2 # Cleaner Code\n",
        "def shout(word1, word2):\n",
        "    \"\"\"Concatenate 2 strings with three exclamation marks\"\"\"\n",
        "    # Concatenate word1 with '!!!' and word2 with '!!!'\n",
        "    # Return is string \n",
        "    return (word1 + '!!!' + word2 + '!!!')\n",
        "\n",
        "# Pass 'first and second as string inputs \n",
        "first = str (input ('First Word :'))\n",
        "second = str (input ('Second Word :'))\n",
        "\n",
        "# Call function \n",
        "# Result is string \n",
        "print (shout (first, second))\n",
        "print (type (shout (first, second)))"
      ],
      "metadata": {
        "id": "lCQERouLA5Am",
        "outputId": "0b78a367-9d0c-41fa-8069-4d2ebcf9a1b3",
        "colab": {
          "base_uri": "https://localhost:8080/"
        }
      },
      "execution_count": null,
      "outputs": [
        {
          "output_type": "stream",
          "name": "stdout",
          "text": [
            "First Word :om\n",
            "Second Word :shanthi\n",
            "om!!!shanthi!!!\n",
            "<class 'str'>\n"
          ]
        }
      ]
    },
    {
      "cell_type": "markdown",
      "source": [
        "##Use functions to work with Twitter data"
      ],
      "metadata": {
        "id": "YtmlCbvoC_jM"
      }
    },
    {
      "cell_type": "markdown",
      "source": [
        "###Exercise 1\n",
        "### - Iterate over entries in a column to build a dictionary\n",
        "### - Keys are the names of languages\n",
        "### - Values are the number of tweets in the given language"
      ],
      "metadata": {
        "id": "S0-zxao4NXMq"
      }
    },
    {
      "cell_type": "code",
      "source": [
        "# Import pandas\n",
        "import pandas as pd\n",
        "\n",
        "# Import Twitter data as DataFrame: df\n",
        "df = pd.read_csv ('https://raw.githubusercontent.com/nirmalaraj77/Python/main/tweets.csv')\n",
        "\n",
        "# Initialize an empty dictionary: langs_count\n",
        "langs_count = {}\n",
        "\n",
        "# Extract column from DataFrame: col\n",
        "col = df['lang']\n",
        "\n",
        "# Iterate over lang column in DataFrame\n",
        "for entry in col:\n",
        "\n",
        "    # If the language is in langs_count, add 1 \n",
        "    if entry in langs_count.keys():\n",
        "        langs_count [entry] +=1\n",
        "    # Else add the language to langs_count, set the value to 1\n",
        "    else:\n",
        "        langs_count [entry] = 1\n",
        "        \n",
        "# Print the populated dictionary\n",
        "print(langs_count)"
      ],
      "metadata": {
        "id": "TfrAh_b0Go-O",
        "outputId": "aeb5cd5e-918c-4e61-d015-27b6c9a9152e",
        "colab": {
          "base_uri": "https://localhost:8080/"
        }
      },
      "execution_count": null,
      "outputs": [
        {
          "output_type": "stream",
          "name": "stdout",
          "text": [
            "{'en': 97, 'et': 1, 'und': 2}\n"
          ]
        }
      ]
    },
    {
      "cell_type": "markdown",
      "source": [
        "###Exercise 2\n",
        "### - Define a function \n",
        "### - Return the resulting dictionary from within the function\n",
        "### - Call the function with the appropriate arguments\n",
        "<br>\n",
        "\n",
        "### - Iterate over entries in a column to build a dictionary\n",
        "### - Keys are the names of languages\n",
        "### - Values are the number of tweets in the given language\n"
      ],
      "metadata": {
        "id": "TbK_B3a0NqbI"
      }
    },
    {
      "cell_type": "code",
      "source": [
        "# Import pandas\n",
        "import pandas as pd\n",
        "\n",
        "# Import Twitter data as DataFrame: df\n",
        "df = pd.read_csv ('https://raw.githubusercontent.com/nirmalaraj77/Python/main/tweets.csv')\n",
        "\n",
        "# Define function count_entries() with two parameters. First parameter is df for the DataFrame and second is col_name for the column name\n",
        "def count_entries (df, col_name) :\n",
        "  \"\"\"Return a dictionary with counts of occurrences as value for each key.\"\"\"\n",
        "\n",
        "  # Initialize an empty dictionary: langs_count\n",
        "  langs_count = {}\n",
        "\n",
        "  # Extract column from DataFrame: col\n",
        "  col = df['lang']\n",
        "\n",
        "  # Iterate over lang column in DataFrame\n",
        "  for entry in col:\n",
        "    # If the language is in langs_count, add 1 \n",
        "    if entry in langs_count.keys():\n",
        "        langs_count [entry] +=1\n",
        "    # Else add the language to langs_count, set the value to 1\n",
        "    else:\n",
        "        langs_count [entry] = 1\n",
        "        \n",
        "  # Return the populated dictionary\n",
        "  return (langs_count)\n",
        "\n",
        "# Call count_entries(): result\n",
        "result = count_entries (df, lang)\n",
        "\n",
        "# Print the result\n",
        "print(result)"
      ],
      "metadata": {
        "id": "uWG2c405ONh0",
        "outputId": "f764791c-1025-4166-c028-9472df8fbf51",
        "colab": {
          "base_uri": "https://localhost:8080/"
        }
      },
      "execution_count": null,
      "outputs": [
        {
          "output_type": "stream",
          "name": "stdout",
          "text": [
            "{'en': 97, 'et': 1, 'und': 2}\n"
          ]
        }
      ]
    },
    {
      "cell_type": "markdown",
      "source": [
        "#**Scope and user-defined functions**\n",
        "### - Not all objects are accessible everywhere in a script\n",
        "### - Scope - part of the program where an object or name may be accessed\n",
        "### - Name - refers to variables or function names\n",
        "### - Global scope - defined in main body of script\n",
        "### - Local scope - defined inside functions - ceases to exist after function executed - cannot access outside function\n",
        "### - Built-in-scope - names in the pre-defined built-ins Python module - print, sum"
      ],
      "metadata": {
        "id": "ePw7ZAkxQ2qL"
      }
    },
    {
      "cell_type": "markdown",
      "source": [
        "##Global vs. local scope\n",
        "### - Python looks first in local scope and then in global scope\n",
        "### - If python can't find name in local scope, then and only then Python will look in global scope\n",
        "### - Python will search built-ins scope if not found in local or global\n",
        "### - Can alter global name within function call with keyword 'global'"
      ],
      "metadata": {
        "id": "vhblciapSjHA"
      }
    },
    {
      "cell_type": "code",
      "source": [
        "# Define a test function\n",
        "def square (value):\n",
        "  \"\"\"test function\"\"\"\n",
        "  new_val = value **2\n",
        "  return new_val\n",
        "\n",
        "# Call function\n",
        "square (555)\n",
        "\n",
        "# The name new_val is local scope to the function square and does not exist after function is executed"
      ],
      "metadata": {
        "id": "i525BvZISqmU",
        "outputId": "e67d13a6-5675-4057-db38-d0f6ff3f570a",
        "colab": {
          "base_uri": "https://localhost:8080/"
        }
      },
      "execution_count": null,
      "outputs": [
        {
          "output_type": "execute_result",
          "data": {
            "text/plain": [
              "308025"
            ]
          },
          "metadata": {},
          "execution_count": 78
        }
      ]
    },
    {
      "cell_type": "code",
      "source": [
        "# Define new_val globally \n",
        "new_val = 10\n",
        "\n",
        "# Define a test function\n",
        "def square (value):\n",
        "  \"\"\"test function\"\"\"\n",
        "  new_val = value **2\n",
        "  return new_val\n",
        "\n",
        "# Print function - Python executes function from local scope first set to new_val\n",
        "print (square (555))\n",
        "\n",
        "# Print new_val will now print 10 because Python looks at global scope after function is executed\n",
        "print (new_val)\n"
      ],
      "metadata": {
        "id": "QdZipJqBTP9y",
        "outputId": "e8915c5b-a581-40b9-8317-9f4287e93155",
        "colab": {
          "base_uri": "https://localhost:8080/"
        }
      },
      "execution_count": null,
      "outputs": [
        {
          "output_type": "stream",
          "name": "stdout",
          "text": [
            "308025\n",
            "10\n"
          ]
        }
      ]
    },
    {
      "cell_type": "code",
      "source": [
        "# Define new_val globally \n",
        "new_val = 25\n",
        "\n",
        "# Define a test function\n",
        "def square (value):\n",
        "  \"\"\"test function\"\"\"\n",
        "  new_val2 = new_val **2\n",
        "  return new_val2\n",
        "\n",
        "# Print function - Python executes function from local scope first and then from global scope. Pythion selected 25 set to new_val as it is not defined in function\n",
        "print (square (3))\n",
        "\n"
      ],
      "metadata": {
        "id": "pO9t1st7U2Wf",
        "outputId": "0b6cf596-bb7a-4d42-96f4-068f75d5fd7c",
        "colab": {
          "base_uri": "https://localhost:8080/"
        }
      },
      "execution_count": null,
      "outputs": [
        {
          "output_type": "stream",
          "name": "stdout",
          "text": [
            "60493827148395061729\n"
          ]
        }
      ]
    },
    {
      "cell_type": "code",
      "source": [
        "# Define new_val\n",
        "new_val = 5\n",
        "\n",
        "# Define test function\n",
        "def square (value):\n",
        "  \"\"\"Test function to rtn no sq\"\"\"\n",
        "\n",
        "  # Set new_val to GLOBAL new_val with keyword global \n",
        "  global new_val\n",
        "  new_val = new_val**2\n",
        "  return new_val\n",
        "\n",
        "# Call function\n",
        "print (square (71))\n",
        "\n",
        "# Print new_val has now updated within function with keyword global\n",
        "print (new_val)"
      ],
      "metadata": {
        "id": "D5iAQ56DV7oX",
        "outputId": "10e7e042-d2e6-43a9-d9d9-0e6a4c5107f2",
        "colab": {
          "base_uri": "https://localhost:8080/"
        }
      },
      "execution_count": null,
      "outputs": [
        {
          "output_type": "stream",
          "name": "stdout",
          "text": [
            "25\n",
            "25\n"
          ]
        }
      ]
    },
    {
      "cell_type": "code",
      "source": [
        "# Create a string: team\n",
        "team = \"teen titans\"\n",
        "\n",
        "# Define change_team()\n",
        "def change_team():\n",
        "    \"\"\"Change the value of the global variable team.\"\"\"\n",
        "\n",
        "    # Use team in global scope\n",
        "    global team\n",
        "\n",
        "    # Change the value of team in global: team\n",
        "    team = \"justice league\"\n",
        "# Print team\n",
        "print(team)\n",
        "\n",
        "# Call change_team()\n",
        "change_team()\n",
        "\n",
        "# Print team\n",
        "print(team)"
      ],
      "metadata": {
        "id": "AiCqfjygXVED",
        "outputId": "176cb450-746f-4959-e7e4-68f173952c43",
        "colab": {
          "base_uri": "https://localhost:8080/"
        }
      },
      "execution_count": null,
      "outputs": [
        {
          "output_type": "stream",
          "name": "stdout",
          "text": [
            "teen titans\n",
            "justice league\n"
          ]
        }
      ]
    },
    {
      "cell_type": "markdown",
      "source": [
        "##Query built-ins scope"
      ],
      "metadata": {
        "id": "vBMPLzwpYNrx"
      }
    },
    {
      "cell_type": "code",
      "source": [
        "import builtins\n",
        "dir (builtins)"
      ],
      "metadata": {
        "id": "QANlW6taYRU0",
        "outputId": "93c9b9d7-ec57-4b00-b3ef-36d43f4e1216",
        "colab": {
          "base_uri": "https://localhost:8080/"
        }
      },
      "execution_count": null,
      "outputs": [
        {
          "output_type": "execute_result",
          "data": {
            "text/plain": [
              "['ArithmeticError',\n",
              " 'AssertionError',\n",
              " 'AttributeError',\n",
              " 'BaseException',\n",
              " 'BlockingIOError',\n",
              " 'BrokenPipeError',\n",
              " 'BufferError',\n",
              " 'BytesWarning',\n",
              " 'ChildProcessError',\n",
              " 'ConnectionAbortedError',\n",
              " 'ConnectionError',\n",
              " 'ConnectionRefusedError',\n",
              " 'ConnectionResetError',\n",
              " 'DeprecationWarning',\n",
              " 'EOFError',\n",
              " 'Ellipsis',\n",
              " 'EnvironmentError',\n",
              " 'Exception',\n",
              " 'False',\n",
              " 'FileExistsError',\n",
              " 'FileNotFoundError',\n",
              " 'FloatingPointError',\n",
              " 'FutureWarning',\n",
              " 'GeneratorExit',\n",
              " 'IOError',\n",
              " 'ImportError',\n",
              " 'ImportWarning',\n",
              " 'IndentationError',\n",
              " 'IndexError',\n",
              " 'InterruptedError',\n",
              " 'IsADirectoryError',\n",
              " 'KeyError',\n",
              " 'KeyboardInterrupt',\n",
              " 'LookupError',\n",
              " 'MemoryError',\n",
              " 'ModuleNotFoundError',\n",
              " 'NameError',\n",
              " 'None',\n",
              " 'NotADirectoryError',\n",
              " 'NotImplemented',\n",
              " 'NotImplementedError',\n",
              " 'OSError',\n",
              " 'OverflowError',\n",
              " 'PendingDeprecationWarning',\n",
              " 'PermissionError',\n",
              " 'ProcessLookupError',\n",
              " 'RecursionError',\n",
              " 'ReferenceError',\n",
              " 'ResourceWarning',\n",
              " 'RuntimeError',\n",
              " 'RuntimeWarning',\n",
              " 'StopAsyncIteration',\n",
              " 'StopIteration',\n",
              " 'SyntaxError',\n",
              " 'SyntaxWarning',\n",
              " 'SystemError',\n",
              " 'SystemExit',\n",
              " 'TabError',\n",
              " 'TimeoutError',\n",
              " 'True',\n",
              " 'TypeError',\n",
              " 'UnboundLocalError',\n",
              " 'UnicodeDecodeError',\n",
              " 'UnicodeEncodeError',\n",
              " 'UnicodeError',\n",
              " 'UnicodeTranslateError',\n",
              " 'UnicodeWarning',\n",
              " 'UserWarning',\n",
              " 'ValueError',\n",
              " 'Warning',\n",
              " 'ZeroDivisionError',\n",
              " '__IPYTHON__',\n",
              " '__build_class__',\n",
              " '__debug__',\n",
              " '__doc__',\n",
              " '__import__',\n",
              " '__loader__',\n",
              " '__name__',\n",
              " '__package__',\n",
              " '__spec__',\n",
              " 'abs',\n",
              " 'all',\n",
              " 'any',\n",
              " 'ascii',\n",
              " 'bin',\n",
              " 'bool',\n",
              " 'breakpoint',\n",
              " 'bytearray',\n",
              " 'bytes',\n",
              " 'callable',\n",
              " 'chr',\n",
              " 'classmethod',\n",
              " 'compile',\n",
              " 'complex',\n",
              " 'copyright',\n",
              " 'credits',\n",
              " 'delattr',\n",
              " 'dict',\n",
              " 'dir',\n",
              " 'display',\n",
              " 'divmod',\n",
              " 'dreload',\n",
              " 'enumerate',\n",
              " 'eval',\n",
              " 'exec',\n",
              " 'execfile',\n",
              " 'filter',\n",
              " 'float',\n",
              " 'format',\n",
              " 'frozenset',\n",
              " 'get_ipython',\n",
              " 'getattr',\n",
              " 'globals',\n",
              " 'hasattr',\n",
              " 'hash',\n",
              " 'help',\n",
              " 'hex',\n",
              " 'id',\n",
              " 'input',\n",
              " 'int',\n",
              " 'isinstance',\n",
              " 'issubclass',\n",
              " 'iter',\n",
              " 'len',\n",
              " 'license',\n",
              " 'list',\n",
              " 'locals',\n",
              " 'map',\n",
              " 'max',\n",
              " 'memoryview',\n",
              " 'min',\n",
              " 'next',\n",
              " 'object',\n",
              " 'oct',\n",
              " 'open',\n",
              " 'ord',\n",
              " 'pow',\n",
              " 'print',\n",
              " 'property',\n",
              " 'range',\n",
              " 'repr',\n",
              " 'reversed',\n",
              " 'round',\n",
              " 'runfile',\n",
              " 'set',\n",
              " 'setattr',\n",
              " 'slice',\n",
              " 'sorted',\n",
              " 'staticmethod',\n",
              " 'str',\n",
              " 'sum',\n",
              " 'super',\n",
              " 'tuple',\n",
              " 'type',\n",
              " 'vars',\n",
              " 'zip']"
            ]
          },
          "metadata": {},
          "execution_count": 55
        }
      ]
    },
    {
      "cell_type": "markdown",
      "source": [
        "#**Nested functions**\n",
        "### - Python looks in Local scope, Enclosing functions, Global scope and then Built-ins scope\n",
        "### - Known as the LEGB Rule\n",
        "### - Use nested functions to reuse a process many times within a function\n",
        "### - Assigning names can only create or change local names unless declared with keywords 'nonlocal' and 'global'\n",
        "### - Closure - nested or inner function remembers the state of its enclosing scope when called\n",
        "### - Anything defined locally in the enclosing scope is available to the inner function even when the outer function has finished execution"
      ],
      "metadata": {
        "id": "iWSXszJRYjEg"
      }
    },
    {
      "cell_type": "code",
      "source": [
        "# Define outer funtion\n",
        "def mod2plus5 (a, b, c) :\n",
        "  \"\"\"Returns remainder + 5 of 3 values\"\"\"\n",
        "\n",
        "  # Define inner function\n",
        "  def inner (x) :\n",
        "    \"\"\"Returns remainder + 5 of one value\"\"\"\n",
        "    # Result of inner function\n",
        "    return x % 2 + 5 \n",
        "\n",
        "  # Call outer function passing arguments to inner function\n",
        "  return (inner (a), inner (b), inner (c))\n",
        "\n",
        "# Call function\n",
        "print (mod2plus5 (7, 8, 9))\n",
        "  "
      ],
      "metadata": {
        "id": "dfp8HjVaZOXe",
        "outputId": "56f2b1cf-7cd1-4c1f-befd-55c1ab87d7ba",
        "colab": {
          "base_uri": "https://localhost:8080/"
        }
      },
      "execution_count": null,
      "outputs": [
        {
          "output_type": "stream",
          "name": "stdout",
          "text": [
            "(6, 5, 6)\n"
          ]
        }
      ]
    },
    {
      "cell_type": "code",
      "source": [
        "# Define outer function\n",
        "def raise_val(n) :\n",
        "  \"\"\"Returns the inner function\"\"\"\n",
        "\n",
        "  # Define inner function\n",
        "  def inner (x) :\n",
        "    \"\"\"Raise x to the power of n\"\"\"\n",
        "    raised = x ** n\n",
        "    return raised\n",
        "  # Outer function returns inner function and not result\n",
        "  return inner\n",
        "\n",
        "# Passing 2 to outer function raise_vals creates a function that squares (**2) any number. Here, n is net to 2 in outer function\n",
        "square = raise_val (2)\n",
        "\n",
        "# Passing 3 to outer function raise_vals creates a function that cubes (**3) any number. Here, n is set to 3 in outer function\n",
        "cube = raise_val (3)\n",
        "\n",
        "# Call outer function and pass 2 to be squared and 4 to be cubed \n",
        "print (square (2), cube (4))"
      ],
      "metadata": {
        "id": "eQ0qe1yVdG7u",
        "outputId": "2a7a9966-0d25-4fd7-d743-051b179954fb",
        "colab": {
          "base_uri": "https://localhost:8080/"
        }
      },
      "execution_count": null,
      "outputs": [
        {
          "output_type": "stream",
          "name": "stdout",
          "text": [
            "4 64\n"
          ]
        }
      ]
    },
    {
      "cell_type": "markdown",
      "source": [
        "##Can alter enclosing scope name with keyword 'nonlocal'\n",
        "##E.g. Alter value of n in inner function alters n in outer function becuase keyword nonlocal"
      ],
      "metadata": {
        "id": "2dpZCL-kgQCm"
      }
    },
    {
      "cell_type": "code",
      "source": [
        "def outer ():\n",
        "  \"\"\"prints value of n\"\"\"\n",
        "  n = 1\n",
        "\n",
        "  def inner ():\n",
        "    # Set n to NON LOCAL\n",
        "    nonlocal n\n",
        "    n = 71\n",
        "    print (n)\n",
        "\n",
        "  inner ()\n",
        "  print (n)\n",
        "\n",
        "# Call outer function\n",
        "outer ()"
      ],
      "metadata": {
        "id": "5ruQ2f1qgSvY",
        "outputId": "2feb61d2-7ae6-4fc1-9ec9-c924c5e661b5",
        "colab": {
          "base_uri": "https://localhost:8080/"
        }
      },
      "execution_count": null,
      "outputs": [
        {
          "output_type": "stream",
          "name": "stdout",
          "text": [
            "71\n",
            "71\n"
          ]
        }
      ]
    },
    {
      "cell_type": "code",
      "source": [
        "# Define three_shouts\n",
        "def three_shouts(word1, word2, word3):\n",
        "    \"\"\"Returns a tuple of strings\n",
        "    concatenated with '!!!'.\"\"\"\n",
        "\n",
        "    # Define inner\n",
        "    def inner(word):\n",
        "        \"\"\"Returns a string concatenated with '!!!'.\"\"\"\n",
        "        return word + '!!!'\n",
        "\n",
        "    # Outer function returns a tuple of strings when passed to inner function \n",
        "    return (inner(word1), inner(word2), inner(word3))\n",
        "\n",
        "# Call three_shouts() and print\n",
        "print(three_shouts('a', 'b', 'c',))"
      ],
      "metadata": {
        "id": "mpEaz3_qyLDC",
        "outputId": "97f352f9-e9ca-4c5e-a651-14e143f5eba2",
        "colab": {
          "base_uri": "https://localhost:8080/"
        }
      },
      "execution_count": null,
      "outputs": [
        {
          "output_type": "stream",
          "name": "stdout",
          "text": [
            "('a!!!', 'b!!!', 'c!!!')\n"
          ]
        }
      ]
    },
    {
      "cell_type": "code",
      "source": [
        "# Define echo\n",
        "def echo(n):\n",
        "    \"\"\"Return the inner_echo function.\"\"\"\n",
        "\n",
        "    # Define inner_echo\n",
        "    def inner_echo(word1):\n",
        "        \"\"\"Concatenate n copies of word1.\"\"\"\n",
        "        echo_word = word1 * n\n",
        "        return echo_word\n",
        "\n",
        "    # Return inner_echo. Return the inner function\n",
        "    return inner_echo\n",
        "\n",
        "# Call echo: twice\n",
        "twice = echo(2)\n",
        "\n",
        "# Call echo: thrice\n",
        "thrice = echo(3)\n",
        "\n",
        "# Call twice() and thrice() then print\n",
        "print(twice('hello'), thrice('hello'))\n"
      ],
      "metadata": {
        "id": "msGW0jAjy5TR",
        "outputId": "74cf27f9-4288-4ca8-877e-9af8ce293209",
        "colab": {
          "base_uri": "https://localhost:8080/"
        }
      },
      "execution_count": null,
      "outputs": [
        {
          "output_type": "stream",
          "name": "stdout",
          "text": [
            "hellohello hellohellohello\n"
          ]
        }
      ]
    },
    {
      "cell_type": "code",
      "source": [
        "# Define echo_shout()\n",
        "def echo_shout(word):\n",
        "    \"\"\"Change the value of a nonlocal variable\"\"\"\n",
        "    \n",
        "    # Concatenate word with itself: echo_word\n",
        "    echo_word = word*2\n",
        "    \n",
        "    # Print echo_word\n",
        "    print(echo_word)\n",
        "    \n",
        "    # Define inner function shout()\n",
        "    def shout():\n",
        "        \"\"\"Alter a variable in the enclosing scope\"\"\"    \n",
        "        # Use echo_word in nonlocal scope\n",
        "        nonlocal echo_word\n",
        "        \n",
        "        # Change echo_word to echo_word concatenated with '!!!'\n",
        "        echo_word = echo_word + '!!!'\n",
        "    \n",
        "    # Call function shout()\n",
        "    shout()\n",
        "\n",
        "    # Print echo_word\n",
        "    print(echo_word)\n",
        "\n",
        "# Call function echo_shout() with argument 'hello'\n",
        "echo_shout('hello')"
      ],
      "metadata": {
        "id": "zvmiCSun0163",
        "outputId": "7e8cf27c-d566-4018-cb9b-9741c3b5b7f1",
        "colab": {
          "base_uri": "https://localhost:8080/"
        }
      },
      "execution_count": null,
      "outputs": [
        {
          "output_type": "stream",
          "name": "stdout",
          "text": [
            "hellohello\n",
            "hellohello!!!\n"
          ]
        }
      ]
    },
    {
      "cell_type": "markdown",
      "source": [
        "#**Default and Flexible arguments**\n"
      ],
      "metadata": {
        "id": "rQWxqgJxZE94"
      }
    },
    {
      "cell_type": "markdown",
      "source": [
        "##Default Arguments\n",
        "\n",
        "### - Some parameters can have default arguments if not specified otherwise\n",
        "### - Add parameter with = sign with default value"
      ],
      "metadata": {
        "id": "hZPryLESaeOW"
      }
    },
    {
      "cell_type": "markdown",
      "source": [
        "##Function with 1 default argument"
      ],
      "metadata": {
        "id": "sxp87jTlgcDb"
      }
    },
    {
      "cell_type": "code",
      "source": [
        "# Test function with default argument\n",
        "def power (number, pow = 1) :\n",
        "  \"\"\"Raise number to power of pow\"\"\"\n",
        "  new_value = number ** pow\n",
        "  return new_value\n",
        "\n",
        "# Call function with no parametr for power - default power = 1\n",
        "print (power(5))\n",
        "\n",
        "\n",
        "# Call function specifying power = 5\n",
        "print (power(5, 5))"
      ],
      "metadata": {
        "id": "ah5cjEmoZZvG",
        "outputId": "8c538cba-5574-4904-9c0e-815affa1fcee",
        "colab": {
          "base_uri": "https://localhost:8080/"
        }
      },
      "execution_count": null,
      "outputs": [
        {
          "output_type": "stream",
          "name": "stdout",
          "text": [
            "5\n",
            "3125\n"
          ]
        }
      ]
    },
    {
      "cell_type": "code",
      "source": [
        "# Define shout_echo # Cleaner Code\n",
        "def shout_echo(word1, echo=1):\n",
        "    \"\"\"Concatenate echo copies of word1 and three\n",
        "     exclamation marks at the end of the string.\"\"\"\n",
        "    \n",
        "    # Concatenate echo copies of word1 using multiply by echo and concatenate '!!!'  \n",
        "    return (word1 * echo + '!!!')\n",
        "\n",
        "# Call shout_echo() with \"Hey\": no_echo\n",
        "no_echo = shout_echo('Hey')\n",
        "\n",
        "# Call shout_echo() with \"Hey\" and echo=5: with_echo\n",
        "with_echo = shout_echo('Hey', 5)\n",
        "\n",
        "# Print no_echo and with_echo\n",
        "print(no_echo)\n",
        "print(with_echo)"
      ],
      "metadata": {
        "colab": {
          "base_uri": "https://localhost:8080/"
        },
        "id": "qTwTgP1YfSSp",
        "outputId": "5e5c2245-4a82-42dd-f9af-e822e7980dce"
      },
      "execution_count": null,
      "outputs": [
        {
          "output_type": "stream",
          "name": "stdout",
          "text": [
            "Hey!!!\n",
            "HeyHeyHeyHeyHey!!!\n"
          ]
        }
      ]
    },
    {
      "cell_type": "markdown",
      "source": [
        "##Function with multiple default arguments"
      ],
      "metadata": {
        "id": "IF7xPvIIjxWK"
      }
    },
    {
      "cell_type": "code",
      "source": [
        "# Define shout_echo\n",
        "def shout_echo(word1, echo=1, intense=False) :\n",
        "    \"\"\"Concatenate echo copies of word1 and three\n",
        "    exclamation marks at the end of the string.\"\"\"\n",
        "\n",
        "    # Concatenate echo copies of word1 using *: echo_word\n",
        "    echo_word = word1 * echo\n",
        "\n",
        "    # Make echo_word uppercase if intense is True\n",
        "    if intense is True:\n",
        "        # Make uppercase and concatenate '!!!': echo_word_new\n",
        "        echo_word_new = echo_word.upper() + '!!!'\n",
        "    else:\n",
        "        # Concatenate '!!!' to echo_word: echo_word_new\n",
        "        echo_word_new = echo_word + '!!!'\n",
        "\n",
        "    # Return echo_word_new\n",
        "    return echo_word_new\n",
        "\n",
        "# Call shout_echo() with \"Hey\", echo=5 and intense=True: with_big_echo\n",
        "with_big_echo = shout_echo('Hey', 5, intense=True)\n",
        "\n",
        "# Call shout_echo() with \"Hey\" and intense=True: big_no_echo\n",
        "big_no_echo = shout_echo('Hey', intense=True)\n",
        "\n",
        "# Print values\n",
        "print(with_big_echo)\n",
        "print(big_no_echo)"
      ],
      "metadata": {
        "colab": {
          "base_uri": "https://localhost:8080/"
        },
        "id": "XDfocEbxjvgf",
        "outputId": "5d0ebebf-7deb-4883-b029-01993bcb73a3"
      },
      "execution_count": null,
      "outputs": [
        {
          "output_type": "stream",
          "name": "stdout",
          "text": [
            "HEYHEYHEYHEYHEY!!!\n",
            "HEY!!!\n"
          ]
        }
      ]
    },
    {
      "cell_type": "markdown",
      "source": [
        "##Functions with variable-length arguments (*args)\n",
        "### - **Use (*args) to write function with flexible number of arguments**\n",
        "### - Turns all arguments in into tuple *args in function body"
      ],
      "metadata": {
        "id": "i_hkWEfNajIg"
      }
    },
    {
      "cell_type": "code",
      "source": [
        "# Flexible argument example\n",
        "def add_all (*args) :\n",
        "  \"\"\"Sum all values in *args together\"\"\"\n",
        "  # Initialize sum\n",
        "  sum_all = 0\n",
        "\n",
        "  # Accumulate the sum by iterating over no. of items in tuple *args and adding to sum_all\n",
        "  for num in args:\n",
        "    sum_all += num\n",
        "\n",
        "  return sum_all\n",
        "\n",
        "# Call function with flexible no. of values\n",
        "print (add_all(1,2))\n",
        "\n",
        "# Call function with flexible no. of values\n",
        "print (add_all(1,2,3,4.5))"
      ],
      "metadata": {
        "id": "d8PRNLvga0_K",
        "outputId": "1c14040f-f573-4f52-b393-21b9a9296de7",
        "colab": {
          "base_uri": "https://localhost:8080/"
        }
      },
      "execution_count": null,
      "outputs": [
        {
          "output_type": "stream",
          "name": "stdout",
          "text": [
            "3\n",
            "10.5\n"
          ]
        }
      ]
    },
    {
      "cell_type": "code",
      "source": [
        "# Define gibberish\n",
        "def gibberish(*args):\n",
        "    \"\"\"Concatenate strings in *args together.\"\"\"\n",
        "\n",
        "    # Initialize an empty string: hodgepodge\n",
        "    hodgepodge=str()\n",
        "\n",
        "    # Concatenate the strings in args\n",
        "    for word in args:\n",
        "        hodgepodge += word\n",
        "\n",
        "    # Return hodgepodge\n",
        "    return hodgepodge\n",
        "\n",
        "# Call gibberish() with one string\n",
        "print (gibberish('luke'))\n",
        "\n",
        "# Call gibberish() with five strings\n",
        "print (gibberish(\"luke\", \"leia\", \"han\", \"obi\", \"darth\"))"
      ],
      "metadata": {
        "id": "KJFjmDiMqtqE",
        "outputId": "4172fb73-cd1c-44ed-c5df-b829c05a157e",
        "colab": {
          "base_uri": "https://localhost:8080/"
        }
      },
      "execution_count": null,
      "outputs": [
        {
          "output_type": "stream",
          "name": "stdout",
          "text": [
            "luke\n",
            "lukeleiahanobidarth\n"
          ]
        }
      ]
    },
    {
      "cell_type": "markdown",
      "source": [
        "##Functions with variable-length keyword arguments (**kwargs)\n",
        "### - Use (**kwargs) to write function with flexible number of keyword arguments with identifiers\n",
        "### - Turns all arguments in into dictionary **kwargs in function body"
      ],
      "metadata": {
        "id": "TJwLpGgeYg1n"
      }
    },
    {
      "cell_type": "code",
      "source": [
        "# Flexible keyword example \n",
        "def print_all (**kwargs):\n",
        "  \"\"\"Print out key-value pairs in **kwargs\"\"\" \n",
        "  \n",
        "  # Print key - value pairs in kwargs dictionary\n",
        "  for key, value in kwargs.items ():\n",
        "    print (key, value)\n",
        "\n",
        "# Call function with flexible no. of keywords\n",
        "print_all (name = 'Appa', position = 'Koddai')\n",
        "\n",
        "\n",
        "# Call function with flexible no. of keywords\n",
        "print_all (name = 'Appa', position = 'Koddai', employer = 'not worked ever')"
      ],
      "metadata": {
        "id": "qf5thoJ-ZaD6",
        "outputId": "166849f0-d320-4991-9aff-8f0ba1c386b2",
        "colab": {
          "base_uri": "https://localhost:8080/"
        }
      },
      "execution_count": null,
      "outputs": [
        {
          "output_type": "stream",
          "name": "stdout",
          "text": [
            "name Appa\n",
            "position Koddai\n",
            "name Appa\n",
            "position Koddai\n",
            "employer not worked ever\n"
          ]
        }
      ]
    },
    {
      "cell_type": "code",
      "source": [
        "# Define report_status\n",
        "def report_status(**kwargs):\n",
        "    \"\"\"Print out the status of a movie character.\"\"\"\n",
        "\n",
        "    print(\"\\nBEGIN: REPORT\\n\")\n",
        "\n",
        "    # Iterate over the key-value pairs of kwargs\n",
        "    for a, b in kwargs.items():\n",
        "        # Print out the keys and values, separated by a colon ':'\n",
        "        print(a + \": \" + b)\n",
        "\n",
        "    print(\"\\nEND REPORT\")\n",
        "\n",
        "# First call to report_status()\n",
        "report_status (name=\"luke\", affiliation=\"jedi\", status=\"missing\")\n",
        "\n",
        "# Second call to report_status()\n",
        "report_status(name='anakin', affiliation='sith lord', status='deceased')"
      ],
      "metadata": {
        "id": "9KSn_udTrVyp",
        "outputId": "f6029394-30b3-4aa8-9f88-db5014409a86",
        "colab": {
          "base_uri": "https://localhost:8080/"
        }
      },
      "execution_count": null,
      "outputs": [
        {
          "output_type": "stream",
          "name": "stdout",
          "text": [
            "\n",
            "BEGIN: REPORT\n",
            "\n",
            "name: luke\n",
            "affiliation: jedi\n",
            "status: missing\n",
            "\n",
            "END REPORT\n",
            "\n",
            "BEGIN: REPORT\n",
            "\n",
            "name: anakin\n",
            "affiliation: sith lord\n",
            "status: deceased\n",
            "\n",
            "END REPORT\n"
          ]
        }
      ]
    },
    {
      "cell_type": "code",
      "source": [
        "# Import Pandas and tweets.csv from GitHub\n",
        "import pandas as pd\n",
        "tweets_df = pd.read_csv ('https://raw.githubusercontent.com/nirmalaraj77/Python/main/tweets.csv')\n",
        "\n",
        "\n",
        "# Define count_entries()\n",
        "def count_entries(df, col_name = 'lang'):\n",
        "    \"\"\"Return a dictionary with counts of occurrences as value for each key.\"\"\"\n",
        "\n",
        "    # Initialize an empty dictionary: cols_count\n",
        "    cols_count = {}\n",
        "\n",
        "    # Extract column from DataFrame: col\n",
        "    col = df[col_name]\n",
        "    \n",
        "    # Iterate over the column in DataFrame\n",
        "    for entry in col:\n",
        "\n",
        "        # If entry is in cols_count, add 1\n",
        "        if entry in cols_count.keys():\n",
        "            cols_count[entry] += 1\n",
        "\n",
        "        # Else add the entry to cols_count, set the value to 1\n",
        "        else:\n",
        "            cols_count[entry] = 1\n",
        "\n",
        "    # Return the cols_count dictionary\n",
        "    return cols_count\n",
        "\n",
        "# Call count_entries(): result1\n",
        "result1 = count_entries (tweets_df)\n",
        "\n",
        "# Call count_entries(): result2\n",
        "result2 = (tweets_df, 'source')\n",
        "\n",
        "# Print result1 and result2\n",
        "print(result1)\n",
        "print(result2)"
      ],
      "metadata": {
        "id": "LdX9Wcko7CJT",
        "outputId": "3f0292f8-b890-4a9d-ec19-62b9efa5a6db",
        "colab": {
          "base_uri": "https://localhost:8080/"
        }
      },
      "execution_count": null,
      "outputs": [
        {
          "output_type": "stream",
          "name": "stdout",
          "text": [
            "{'en': 97, 'et': 1, 'und': 2}\n",
            "(    contributors  coordinates                      created_at  \\\n",
            "0            NaN          NaN  Tue Mar 29 23:40:17 +0000 2016   \n",
            "1            NaN          NaN  Tue Mar 29 23:40:17 +0000 2016   \n",
            "2            NaN          NaN  Tue Mar 29 23:40:17 +0000 2016   \n",
            "3            NaN          NaN  Tue Mar 29 23:40:17 +0000 2016   \n",
            "4            NaN          NaN  Tue Mar 29 23:40:17 +0000 2016   \n",
            "..           ...          ...                             ...   \n",
            "95           NaN          NaN  Tue Mar 29 23:40:19 +0000 2016   \n",
            "96           NaN          NaN  Tue Mar 29 23:40:19 +0000 2016   \n",
            "97           NaN          NaN  Tue Mar 29 23:40:19 +0000 2016   \n",
            "98           NaN          NaN  Tue Mar 29 23:40:19 +0000 2016   \n",
            "99           NaN          NaN  Tue Mar 29 23:40:19 +0000 2016   \n",
            "\n",
            "                                             entities  \\\n",
            "0   {'hashtags': [], 'user_mentions': [{'screen_na...   \n",
            "1   {'hashtags': [{'text': 'cruzsexscandal', 'indi...   \n",
            "2   {'hashtags': [], 'user_mentions': [], 'symbols...   \n",
            "3   {'hashtags': [], 'user_mentions': [], 'symbols...   \n",
            "4   {'hashtags': [], 'user_mentions': [{'screen_na...   \n",
            "..                                                ...   \n",
            "95  {'hashtags': [], 'user_mentions': [{'screen_na...   \n",
            "96  {'hashtags': [], 'user_mentions': [], 'symbols...   \n",
            "97  {'hashtags': [{'text': 'NeverTrump', 'indices'...   \n",
            "98  {'hashtags': [], 'user_mentions': [], 'symbols...   \n",
            "99  {'hashtags': [], 'user_mentions': [{'screen_na...   \n",
            "\n",
            "                                    extended_entities  favorite_count  \\\n",
            "0   {'media': [{'sizes': {'large': {'w': 1024, 'h'...               0   \n",
            "1   {'media': [{'sizes': {'large': {'w': 500, 'h':...               0   \n",
            "2                                                 NaN               0   \n",
            "3                                                 NaN               0   \n",
            "4                                                 NaN               0   \n",
            "..                                                ...             ...   \n",
            "95                                                NaN               0   \n",
            "96                                                NaN               0   \n",
            "97                                                NaN               0   \n",
            "98                                                NaN               0   \n",
            "99                                                NaN               0   \n",
            "\n",
            "    favorited filter_level  geo                  id  ...  quoted_status_id  \\\n",
            "0       False          low  NaN  714960401759387648  ...               NaN   \n",
            "1       False          low  NaN  714960401977319424  ...               NaN   \n",
            "2       False          low  NaN  714960402426236928  ...               NaN   \n",
            "3       False          low  NaN  714960402367561730  ...      7.149239e+17   \n",
            "4       False          low  NaN  714960402149416960  ...               NaN   \n",
            "..        ...          ...  ...                 ...  ...               ...   \n",
            "95      False          low  NaN  714960410345136129  ...               NaN   \n",
            "96      False          low  NaN  714960410181570560  ...      7.149602e+17   \n",
            "97      False          low  NaN  714960410332377088  ...               NaN   \n",
            "98      False          low  NaN  714960410181570560  ...      7.149602e+17   \n",
            "99      False          low  NaN  714960410194018304  ...      7.149254e+17   \n",
            "\n",
            "   quoted_status_id_str  retweet_count  retweeted  \\\n",
            "0                   NaN              0      False   \n",
            "1                   NaN              0      False   \n",
            "2                   NaN              0      False   \n",
            "3          7.149239e+17              0      False   \n",
            "4                   NaN              0      False   \n",
            "..                  ...            ...        ...   \n",
            "95                  NaN              0      False   \n",
            "96         7.149602e+17              0      False   \n",
            "97                  NaN              0      False   \n",
            "98         7.149602e+17              0      False   \n",
            "99         7.149254e+17              0      False   \n",
            "\n",
            "                                     retweeted_status  \\\n",
            "0   {'retweeted': False, 'text': \".@krollbondratin...   \n",
            "1   {'retweeted': False, 'text': '@dmartosko Cruz ...   \n",
            "2                                                 NaN   \n",
            "3                                                 NaN   \n",
            "4   {'retweeted': False, 'text': 'The anti-America...   \n",
            "..                                                ...   \n",
            "95  {'retweeted': False, 'lang': 'en', 'favorite_c...   \n",
            "96                                                NaN   \n",
            "97  {'retweeted': False, 'text': \"Seriously can't ...   \n",
            "98                                                NaN   \n",
            "99                                                NaN   \n",
            "\n",
            "                                               source  \\\n",
            "0   <a href=\"http://twitter.com\" rel=\"nofollow\">Tw...   \n",
            "1   <a href=\"http://twitter.com\" rel=\"nofollow\">Tw...   \n",
            "2   <a href=\"http://www.facebook.com/twitter\" rel=...   \n",
            "3   <a href=\"http://twitter.com/download/android\" ...   \n",
            "4   <a href=\"http://twitter.com/download/iphone\" r...   \n",
            "..                                                ...   \n",
            "95  <a href=\"http://twitter.com/download/iphone\" r...   \n",
            "96  <a href=\"http://twitter.com\" rel=\"nofollow\">Tw...   \n",
            "97  <a href=\"http://twitter.com/download/iphone\" r...   \n",
            "98  <a href=\"http://twitter.com\" rel=\"nofollow\">Tw...   \n",
            "99  <a href=\"http://twitter.com/download/iphone\" r...   \n",
            "\n",
            "                                                 text   timestamp_ms  \\\n",
            "0   RT @bpolitics: .@krollbondrating's Christopher...  1459294817758   \n",
            "1   RT @HeidiAlpine: @dmartosko Cruz video found.....  1459294817810   \n",
            "2   Njihuni me Zonjën Trump !!! | Ekskluzive https...  1459294817917   \n",
            "3   Your an idiot she shouldn't have tried to grab...  1459294817903   \n",
            "4   RT @AlanLohner: The anti-American D.C. elites ...  1459294817851   \n",
            "..                                                ...            ...   \n",
            "95  RT @claytoncubitt: Stop asking Bernie supporte...  1459294819805   \n",
            "96  Kasich is gonna fuck this up for Ted Cruz  htt...  1459294819766   \n",
            "97  RT @akaMaude13: Seriously can't make this up. ...  1459294819802   \n",
            "98  Kasich is gonna fuck this up for Ted Cruz  htt...  1459294819766   \n",
            "99  @marklevinshow try reporting this truth. https...  1459294819769   \n",
            "\n",
            "   truncated                                               user  \n",
            "0      False  {'utc_offset': 3600, 'profile_image_url_https'...  \n",
            "1      False  {'utc_offset': None, 'profile_image_url_https'...  \n",
            "2      False  {'utc_offset': 7200, 'profile_image_url_https'...  \n",
            "3      False  {'utc_offset': None, 'profile_image_url_https'...  \n",
            "4      False  {'utc_offset': -18000, 'profile_image_url_http...  \n",
            "..       ...                                                ...  \n",
            "95     False  {'utc_offset': None, 'profile_image_url_https'...  \n",
            "96     False  {'utc_offset': -18000, 'profile_image_url_http...  \n",
            "97     False  {'utc_offset': None, 'profile_image_url_https'...  \n",
            "98     False  {'utc_offset': -18000, 'profile_image_url_http...  \n",
            "99     False  {'utc_offset': -21600, 'profile_image_url_http...  \n",
            "\n",
            "[100 rows x 31 columns], 'source')\n"
          ]
        }
      ]
    },
    {
      "cell_type": "code",
      "source": [
        "# Import Pandas and tweets.csv from GitHub\n",
        "import pandas as pd\n",
        "tweets_df = pd.read_csv ('https://raw.githubusercontent.com/nirmalaraj77/Python/main/tweets.csv')\n",
        "\n",
        "\n",
        "# Define count_entries()\n",
        "def count_entries(df, *args):\n",
        "    \"\"\"Return a dictionary with counts of occurrences as value for each key.\"\"\"\n",
        "    \n",
        "    #Initialize an empty dictionary: cols_count\n",
        "    cols_count = {}\n",
        "    \n",
        "    # Iterate over column names in args\n",
        "    for col_name in args:\n",
        "    \n",
        "        # Extract column from DataFrame: col\n",
        "        col = df[col_name]\n",
        "    \n",
        "        # Iterate over the column in DataFrame\n",
        "        for entry in col:\n",
        "    \n",
        "            # If entry is in cols_count, add 1\n",
        "            if entry in cols_count.keys():\n",
        "                cols_count[entry] += 1\n",
        "    \n",
        "            # Else add the entry to cols_count, set the value to 1\n",
        "            else:\n",
        "                cols_count[entry] = 1\n",
        "\n",
        "    # Return the cols_count dictionary\n",
        "    return cols_count\n",
        "\n",
        "# Call count_entries(): result1\n",
        "result1 = count_entries(tweets_df, 'lang')\n",
        "\n",
        "# Call count_entries(): result2\n",
        "result2 = count_entries(tweets_df, 'lang', 'source')\n",
        "\n",
        "# Print result1 and result2\n",
        "print(result1)\n",
        "print(result2)"
      ],
      "metadata": {
        "id": "_obalP8PAscK",
        "outputId": "d990561b-761a-4fde-9dbb-068db889df3c",
        "colab": {
          "base_uri": "https://localhost:8080/"
        }
      },
      "execution_count": null,
      "outputs": [
        {
          "output_type": "stream",
          "name": "stdout",
          "text": [
            "{'en': 97, 'et': 1, 'und': 2}\n",
            "{'en': 97, 'et': 1, 'und': 2, '<a href=\"http://twitter.com\" rel=\"nofollow\">Twitter Web Client</a>': 24, '<a href=\"http://www.facebook.com/twitter\" rel=\"nofollow\">Facebook</a>': 1, '<a href=\"http://twitter.com/download/android\" rel=\"nofollow\">Twitter for Android</a>': 26, '<a href=\"http://twitter.com/download/iphone\" rel=\"nofollow\">Twitter for iPhone</a>': 33, '<a href=\"http://www.twitter.com\" rel=\"nofollow\">Twitter for BlackBerry</a>': 2, '<a href=\"http://www.google.com/\" rel=\"nofollow\">Google</a>': 2, '<a href=\"http://twitter.com/#!/download/ipad\" rel=\"nofollow\">Twitter for iPad</a>': 6, '<a href=\"http://linkis.com\" rel=\"nofollow\">Linkis.com</a>': 2, '<a href=\"http://rutracker.org/forum/viewforum.php?f=93\" rel=\"nofollow\">newzlasz</a>': 2, '<a href=\"http://ifttt.com\" rel=\"nofollow\">IFTTT</a>': 1, '<a href=\"http://www.myplume.com/\" rel=\"nofollow\">Plume\\xa0for\\xa0Android</a>': 1}\n"
          ]
        }
      ]
    },
    {
      "cell_type": "markdown",
      "source": [
        "#**Lambda Functions**\n",
        "### - Quicker way to write functions\n",
        "### - Uses keyword lambda\n",
        "### - Syntax : function_name = lambda argument1, argument2 : expression"
      ],
      "metadata": {
        "id": "ezgm90QeauOi"
      }
    },
    {
      "cell_type": "code",
      "source": [
        "# Define lambda function to exponent y of base x\n",
        "raise_to_power = lambda x, y : x ** y\n",
        "\n",
        "# Call lambda function\n",
        "raise_to_power (5, 4)"
      ],
      "metadata": {
        "id": "5q48R8bia75B",
        "outputId": "e1f4913b-02ae-488b-8fa1-cd9319c5a2c8",
        "colab": {
          "base_uri": "https://localhost:8080/"
        }
      },
      "execution_count": 10,
      "outputs": [
        {
          "output_type": "execute_result",
          "data": {
            "text/plain": [
              "625"
            ]
          },
          "metadata": {},
          "execution_count": 10
        }
      ]
    },
    {
      "cell_type": "markdown",
      "source": [
        "##Anonymous Functions\n",
        "### - Function map takes 2 arguments: map(func, seq)\n",
        "### - map () applies function to all arguments in sequence\n",
        "### - Pass lambda functions to map without naming them (anonymous)"
      ],
      "metadata": {
        "id": "JiQKnvAqcMXC"
      }
    },
    {
      "cell_type": "code",
      "source": [
        "# Function map takes 2 arguments: map(func, seq)\n",
        "\n",
        "# map () applies function to all arguments in sequence\n",
        "\n",
        "# Pass lambda functions to map without naming them (anonymous)\n",
        "\n",
        "nums = [5, 6, 7, 8]\n",
        "square_all = map(lambda num: num **2, nums)\n",
        "\n",
        "# Printing square_all returns map object\n",
        "print (square_all)\n",
        "\n",
        "# Convert square_all to list and print\n",
        "print (list(square_all))"
      ],
      "metadata": {
        "id": "o75h7zR2cQkb",
        "outputId": "5a3ca19a-4e6d-43ec-9368-3a6ae12a2975",
        "colab": {
          "base_uri": "https://localhost:8080/"
        }
      },
      "execution_count": 12,
      "outputs": [
        {
          "output_type": "stream",
          "name": "stdout",
          "text": [
            "<map object at 0x7f4ebdc2ac90>\n",
            "[25, 36, 49, 64]\n"
          ]
        }
      ]
    },
    {
      "cell_type": "code",
      "source": [
        "# Define echo_word as a lambda function: echo_word\n",
        "echo_word = (lambda word1, echo: word1 * echo)\n",
        "\n",
        "# Call echo_word\n",
        "print (echo_word('hey', 5))"
      ],
      "metadata": {
        "id": "CKOB6_BCeIvl",
        "outputId": "d9928af2-53a5-47e1-cfe9-56b5f64ed55c",
        "colab": {
          "base_uri": "https://localhost:8080/"
        }
      },
      "execution_count": 14,
      "outputs": [
        {
          "output_type": "stream",
          "name": "stdout",
          "text": [
            "heyheyheyheyhey\n"
          ]
        }
      ]
    }
  ]
}