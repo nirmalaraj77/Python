{
  "nbformat": 4,
  "nbformat_minor": 0,
  "metadata": {
    "colab": {
      "name": "Python_Notes_DataCamp.ipynb",
      "provenance": [],
      "collapsed_sections": [
        "a4Bi06CaGDzK",
        "1664fd0c",
        "kUhzKSpDLROj",
        "ECXy09jlKn_A",
        "RiaDyM7tDwCX",
        "FsF2-3hgLszy",
        "4sO9p3axMCDp"
      ],
      "authorship_tag": "ABX9TyMgPYEhr9uAY7kH8u1Gu/s6",
      "include_colab_link": true
    },
    "kernelspec": {
      "name": "python3",
      "display_name": "Python 3"
    },
    "language_info": {
      "name": "python"
    }
  },
  "cells": [
    {
      "cell_type": "markdown",
      "metadata": {
        "id": "view-in-github",
        "colab_type": "text"
      },
      "source": [
        "<a href=\"https://colab.research.google.com/github/nirmalaraj77/Python/blob/main/Python_Notes_DataCamp.ipynb\" target=\"_parent\"><img src=\"https://colab.research.google.com/assets/colab-badge.svg\" alt=\"Open In Colab\"/></a>"
      ]
    },
    {
      "cell_type": "markdown",
      "source": [
        "# **PYTHON_NOTES_DATACAMP**\n",
        "\n",
        "\n",
        "\n",
        "\n"
      ],
      "metadata": {
        "id": "U3q71NiS17sl"
      }
    },
    {
      "cell_type": "markdown",
      "source": [
        "#**Note - Packages**\n",
        "### - Import packages as libraries\n",
        "### - Import packages as alias \n",
        "### - Import selctive packages"
      ],
      "metadata": {
        "id": "bUt0kVqT8tH7"
      }
    },
    {
      "cell_type": "code",
      "execution_count": 1,
      "metadata": {
        "id": "JwcFZC065fnz"
      },
      "outputs": [],
      "source": [
        "# Import library\n",
        "import math \n",
        "\n",
        "# Import library as alias   \n",
        "import numpy as np  \n",
        "import matplotlib.pyplot as plt\n",
        "\n",
        "# Selective import  \n",
        "from math import pi\n",
        "from scipy.linalg import inv as my_inv\n",
        "from functools import reduce\n"
      ]
    },
    {
      "cell_type": "markdown",
      "source": [
        "#**Note - Use += to add to existing value in a collection**\n",
        "### - x = x + y is same as x += y"
      ],
      "metadata": {
        "id": "bQ1gF3NEZH2A"
      }
    },
    {
      "cell_type": "code",
      "source": [
        "# Test x = x + y is same as x += y\n",
        "x, y = 5, 8\n",
        "x = x + y\n",
        "print (x)\n",
        "\n",
        "x, y = 5, 8\n",
        "x += y\n",
        "print (x)"
      ],
      "metadata": {
        "id": "7OcSyG1ueBE2",
        "outputId": "167b22f3-9185-4772-abd3-27f0b9a0b8bb",
        "colab": {
          "base_uri": "https://localhost:8080/"
        }
      },
      "execution_count": null,
      "outputs": [
        {
          "output_type": "stream",
          "name": "stdout",
          "text": [
            "13\n",
            "13\n"
          ]
        }
      ]
    },
    {
      "cell_type": "code",
      "source": [
        "# Initialise variable\n",
        "x = 0\n",
        "\n",
        "# Define loop over range to add each value of y within range (10) to x\n",
        "for y in range (5):\n",
        "  x += y\n",
        "\n",
        "# Check final sum of x \n",
        "print (x)"
      ],
      "metadata": {
        "id": "xfkWAmamZPEi",
        "outputId": "6ba3bd33-1b58-4853-cece-ce51d9766720",
        "colab": {
          "base_uri": "https://localhost:8080/"
        }
      },
      "execution_count": null,
      "outputs": [
        {
          "output_type": "stream",
          "name": "stdout",
          "text": [
            "10\n"
          ]
        }
      ]
    },
    {
      "cell_type": "markdown",
      "source": [
        "#**Note - Print with \"\\n  \"**"
      ],
      "metadata": {
        "id": "HXQDJMyyq6ow"
      }
    },
    {
      "cell_type": "code",
      "source": [
        "print(\"\\n BEGIN REPORT\")\n",
        "print(\"\\n END REPORT\")\n"
      ],
      "metadata": {
        "id": "p8GUn-ISsYE7",
        "outputId": "84b27c20-40a9-4e67-bb36-4834d784a1df",
        "colab": {
          "base_uri": "https://localhost:8080/"
        }
      },
      "execution_count": 2,
      "outputs": [
        {
          "output_type": "stream",
          "name": "stdout",
          "text": [
            "\n",
            " BEGIN REPORT\n",
            "\n",
            " END REPORT\n"
          ]
        }
      ]
    },
    {
      "cell_type": "markdown",
      "source": [
        "#**Note: Input Variables Typecast**"
      ],
      "metadata": {
        "id": "Y2EZ4nXh3hZk"
      }
    },
    {
      "cell_type": "code",
      "source": [
        "5\n",
        "#Input Operator with Typecast \n",
        "\n",
        "x = int (input ('Your Integer Number: '))\n",
        "print (x)\n",
        "\n",
        "y = str (input ('Your String : '))\n",
        "print (y)\n",
        "\n",
        "z = float (input ('Your Float Number : '))\n",
        "print (z)\n",
        "\n",
        "b = bool (input ('Your Boolean : '))\n",
        "print (b)"
      ],
      "metadata": {
        "id": "3A5Nxk4e3ZTZ",
        "outputId": "1ee9b156-03b0-48be-8979-a69afc5506cd",
        "colab": {
          "base_uri": "https://localhost:8080/"
        }
      },
      "execution_count": null,
      "outputs": [
        {
          "output_type": "stream",
          "name": "stdout",
          "text": [
            "Your Integer Number: 5\n",
            "5\n",
            "Your String : 5\n",
            "Your Float Number : 5\n",
            "5\n",
            "5.0\n",
            "Your Boolean : 5\n",
            "True\n"
          ]
        }
      ]
    },
    {
      "cell_type": "markdown",
      "source": [
        "#**Note - Input Variable Typecast and validate**\n",
        "### - Use try-except error handling"
      ],
      "metadata": {
        "id": "ArstDvbnOJwc"
      }
    },
    {
      "cell_type": "code",
      "source": [
        "# Input Choice\n",
        "while True:\n",
        "    try:\n",
        "        x = int (input ('Think of a number between 1 - 3 : '))\n",
        "        if x < 1 or x >= 4:\n",
        "            # This will send it to the print message and back to the input option\n",
        "            raise ValueError \n",
        "        break\n",
        "    except ValueError:\n",
        "        print(\"Invalid choice. The number must be 1, 2 or 3\")\n",
        "print ('Success')"
      ],
      "metadata": {
        "id": "LoD6m-kcOVxf",
        "outputId": "2b0e6d62-3b78-4817-b8d9-566f921612d9",
        "colab": {
          "base_uri": "https://localhost:8080/"
        }
      },
      "execution_count": 3,
      "outputs": [
        {
          "output_type": "stream",
          "name": "stdout",
          "text": [
            "Think of a number between 1 - 3 : 10\n",
            "Invalid choice. The number must be 1, 2 or 3\n",
            "Think of a number between 1 - 3 : 2\n",
            "Success\n"
          ]
        }
      ]
    },
    {
      "cell_type": "markdown",
      "source": [
        "#**Note: Unpack Collections by assigning variables**\n",
        "### - Assign no. of variables = no. of values in Collection\n",
        "### - Unpack collections in List, Tuple, NumPy Array, Dictionary and String\n",
        "### - Assign variables to Dictionary with .keys, .values and key-value pairs with .items "
      ],
      "metadata": {
        "id": "jm2FVts365xM"
      }
    },
    {
      "cell_type": "code",
      "source": [
        "# Define tuple\n",
        "fruits = (\"apple\", \"banana\", \"cherry\")\n",
        "\n",
        "# Assign variables to tuple (no. of variables = no. of values)\n",
        "x, y, z = fruits\n",
        "print(x, y, z)\n",
        "\n",
        "\n",
        "\n",
        "# Define list\n",
        "new_fruits = ['berry', 'orange', 'pear']\n",
        "\n",
        "# Assign variables to list (no. of variables = no. of values)\n",
        "a, b, c = new_fruits\n",
        "print(a, b, c)\n",
        "\n",
        "\n",
        "\n",
        "# Define NumPy Array\n",
        "import numpy as np\n",
        "latest_fruits = np.array (['gauva', 'pineapple', 'mango'])\n",
        "\n",
        "# Assign variables to NumPy Array (no. of variables = no. of values)\n",
        "p, q, r = latest_fruits\n",
        "print(p, q, r)\n",
        "\n",
        "\n",
        "\n",
        "# Define Dictionary\n",
        "organic_fruits = {'africa': 'gauva', 'asia' : 'pineapple', 'india': 'mango'}\n",
        "\n",
        "# Assign variables to Dictionary keys (no. of variables = no. of keys)\n",
        "# Assign variables to the Dictionary values (no. of variables = no. of values)\n",
        "# Assign variables to the Dictionary key-value pairs with .items (no. of variables = no. of key-value pairs)\n",
        "p, q, r = organic_fruits.keys()\n",
        "s, t, u = organic_fruits.values()\n",
        "v, w, x = organic_fruits.items()\n",
        "print(p, q, r, s, t, u, v, w, x)\n",
        "\n",
        "\n",
        "# Define string \n",
        "fr = 'fruits'\n",
        "\n",
        "# Assign variables to string (no. of variables = length of string / no. of characters)\n",
        "a, b, c, d, e, f = fr\n",
        "print (a, b, c, d, e, f)"
      ],
      "metadata": {
        "id": "tEisx03i7MXJ",
        "outputId": "5ab060c9-bb2f-4d31-e091-24ee24d848fd",
        "colab": {
          "base_uri": "https://localhost:8080/"
        }
      },
      "execution_count": null,
      "outputs": [
        {
          "output_type": "stream",
          "name": "stdout",
          "text": [
            "apple banana cherry\n",
            "berry orange pear\n",
            "gauva pineapple mango\n",
            "africa asia india gauva pineapple mango ('africa', 'gauva') ('asia', 'pineapple') ('india', 'mango')\n",
            "f r u i t s\n"
          ]
        }
      ]
    },
    {
      "cell_type": "markdown",
      "source": [
        "#**Note: Unpack Collections with For loop**\n",
        "### - Unpack collections in List, Tuple, NumPy Array and String\n",
        "### - Different Data Structures have different methods and functions"
      ],
      "metadata": {
        "id": "LLrtddZ4gTnD"
      }
    },
    {
      "cell_type": "code",
      "source": [
        "# List \n",
        "new_fruits = ['berry', 'orange', 'pear']\n",
        "for a in new_fruits :\n",
        "  print(a)\n",
        "\n",
        "\n",
        "\n",
        "# Tuple \n",
        "fruits = (\"apple\", \"banana\", \"cherry\")\n",
        "for x in fruits :\n",
        "  print(x)\n",
        "\n",
        "\n",
        "\n",
        "# NumPy Array\n",
        "import numpy as np\n",
        "latest_fruits = np.array (['gauva', 'pineapple', 'mango'])\n",
        "for y in latest_fruits :\n",
        "  print(y)\n",
        "\n",
        "\n",
        "\n",
        "# String \n",
        "fr = 'fruits'\n",
        "for character in fr: \n",
        "  print (character)"
      ],
      "metadata": {
        "id": "U0azNVbAgcOV",
        "outputId": "140b43a7-f82a-4a7c-f8f0-da87ff25451c",
        "colab": {
          "base_uri": "https://localhost:8080/"
        }
      },
      "execution_count": null,
      "outputs": [
        {
          "output_type": "stream",
          "name": "stdout",
          "text": [
            "berry\n",
            "orange\n",
            "pear\n",
            "apple\n",
            "banana\n",
            "cherry\n",
            "gauva\n",
            "pineapple\n",
            "mango\n",
            "f\n",
            "r\n",
            "u\n",
            "i\n",
            "t\n",
            "s\n"
          ]
        }
      ]
    },
    {
      "cell_type": "markdown",
      "source": [
        "#**Note - Unpack Dictionaries with For Loop**\n",
        "### - Use .items ( ) method to iterate over dictionary keys and values\n",
        "### - Dictionaries are inherently unordered\n",
        "### - Syntax: for key in dictionary_name.keys( ) : \n",
        "### - Syntax: for value in dictionary_name.values( ) : \n",
        "### - Syntax: for key, val in dictonary_name.items ( ) :  "
      ],
      "metadata": {
        "id": "k-H3Xiz4m_nU"
      }
    },
    {
      "cell_type": "code",
      "source": [
        "# Build dictionary world\n",
        "world = {'Sri Lanka' : 'Colombo', 'India' : 'New Delhi', 'Pakistan' : 'Islamabad'}\n",
        "\n",
        "# Use .items to iterate key-value pairs\n",
        "# Define arbitary values for key and value\n",
        "for x, y in world.items() :\n",
        "  print (x, y)"
      ],
      "metadata": {
        "id": "wV4FiGUiKq8x",
        "outputId": "ec4f1645-9924-4a12-e3c8-8ce89985aeae",
        "colab": {
          "base_uri": "https://localhost:8080/"
        }
      },
      "execution_count": null,
      "outputs": [
        {
          "output_type": "stream",
          "name": "stdout",
          "text": [
            "Sri Lanka Colombo\n",
            "India New Delhi\n",
            "Pakistan Islamabad\n"
          ]
        }
      ]
    },
    {
      "cell_type": "code",
      "source": [
        "# Define Dictionary\n",
        "organic_fruits = {'africa': 'gauva', 'asia' : 'pineapple', 'india': 'mango'}\n",
        "\n",
        "for keys in organic_fruits.keys():\n",
        "  print (keys)\n",
        "\n",
        "for values in organic_fruits.values():\n",
        "  print (values)\n",
        "\n",
        "for keys, values in organic_fruits.items():\n",
        "  print (keys, values)"
      ],
      "metadata": {
        "id": "xrsvERw0CozU",
        "outputId": "3b83fa5f-7c6f-4b94-f771-d267d08113e0",
        "colab": {
          "base_uri": "https://localhost:8080/"
        }
      },
      "execution_count": null,
      "outputs": [
        {
          "output_type": "stream",
          "name": "stdout",
          "text": [
            "africa\n",
            "asia\n",
            "india\n",
            "gauva\n",
            "pineapple\n",
            "mango\n",
            "africa gauva\n",
            "asia pineapple\n",
            "india mango\n"
          ]
        }
      ]
    },
    {
      "cell_type": "markdown",
      "source": [
        "#**Note - Unpack n dimensional NumPy Arrays with For loop and np.nditer**\n",
        "### - Use np.nditer function to iterate over ndimensional numpy arrays\n",
        "### - Syntax: for val in np.nditer (array_name) :  "
      ],
      "metadata": {
        "id": "htCZ0iltmnYy"
      }
    },
    {
      "cell_type": "code",
      "source": [
        "# Build 2 np arrays\n",
        "import numpy as np\n",
        "np_height = np.array ([1.73, 1.68, 1.71, 7.89, 1.79])\n",
        "np_weight = np. array ([65.4, 59.2, 63.6, 88.4, 68.7])\n",
        "\n",
        "# Build 2d np array meas\n",
        "meas = np.array ([np_height, np_weight])\n",
        "\n",
        "# Printinng 2D nparray with a For Loop results in an entire array in each iteration\n",
        "for k in meas:\n",
        "  print (k)\n",
        "\n",
        "# Use nditer to itearte array elements \n",
        "for k in np.nditer (meas):\n",
        "  print (k) "
      ],
      "metadata": {
        "id": "_PvMiIITMMzb",
        "outputId": "af8b36a1-b6d7-4a25-f00b-941c11db73de",
        "colab": {
          "base_uri": "https://localhost:8080/"
        }
      },
      "execution_count": null,
      "outputs": [
        {
          "output_type": "stream",
          "name": "stdout",
          "text": [
            "[1.73 1.68 1.71 7.89 1.79]\n",
            "[65.4 59.2 63.6 88.4 68.7]\n",
            "1.73\n",
            "1.68\n",
            "1.71\n",
            "7.89\n",
            "1.79\n",
            "65.4\n",
            "59.2\n",
            "63.6\n",
            "88.4\n",
            "68.7\n"
          ]
        }
      ]
    },
    {
      "cell_type": "code",
      "source": [
        "# nDimensional NumPy Array\n",
        "ndfruits = np.array ([['cherry', 'plantain', 'koyya'], ['maari', 'kali', 'pechchi']])\n",
        "for k in np.nditer (ndfruits) :\n",
        "  print(k)\n"
      ],
      "metadata": {
        "id": "iTXp7G57_twe",
        "outputId": "8c49fa3c-42ee-41ab-f1d9-6e8d01904c9c",
        "colab": {
          "base_uri": "https://localhost:8080/"
        }
      },
      "execution_count": null,
      "outputs": [
        {
          "output_type": "stream",
          "name": "stdout",
          "text": [
            "cherry\n",
            "plantain\n",
            "koyya\n",
            "maari\n",
            "kali\n",
            "pechchi\n"
          ]
        }
      ]
    },
    {
      "cell_type": "markdown",
      "source": [
        "#**Note - Unpack Pandas DataFrames with For loop and iterrows**\n",
        "### - Explicitly mention that want to iterate over rows\n",
        "### - Use .iterrows ( ) method to iterate over DataFrame rows \n",
        "### - Syntax: for label, row in dataframe_name.iterrows ( ) :  \n",
        "### - Iterates over each row and returns the label and actual row information as a Pandas Series\n",
        "### - Can subset"
      ],
      "metadata": {
        "id": "o2XYnGp1mwz-"
      }
    },
    {
      "cell_type": "code",
      "source": [
        "# Import pandas as pd, brics.csv from GitHub url, brics. csv data as df brics and  include index_col\n",
        "import pandas as pd\n",
        "brics = pd.read_csv('https://raw.githubusercontent.com/nirmalaraj77/Python/main/brics.csv', index_col=0)\n",
        "print (brics)\n",
        "\n",
        "# Use iterrows method to iterate each row and return label and row information (series)\n",
        "for lab, row in brics.iterrows () :\n",
        "  print (lab)\n",
        "  print (row)\n",
        "  \n",
        "\n",
        "# Use iterrows method and subsetting to print lables and 'capital' column from rows\n",
        "for lab, row in brics.iterrows () :\n",
        "  print (lab + ': ' + row ['capital'])"
      ],
      "metadata": {
        "id": "GXBn2yOYnP3G",
        "outputId": "fbd6012e-2a40-4902-9b4c-c73026435085",
        "colab": {
          "base_uri": "https://localhost:8080/"
        }
      },
      "execution_count": 26,
      "outputs": [
        {
          "output_type": "stream",
          "name": "stdout",
          "text": [
            "         country    capital    area  population\n",
            "BR        Brazil   Brasilia   8.516      200.40\n",
            "RU        Russia     Moscow  17.100      143.50\n",
            "IN         India  New Delhi   3.286     1252.00\n",
            "CH         China    Beijing   9.597     1357.00\n",
            "SA  South Africa   Pretoria   1.221       52.98\n",
            "BR\n",
            "country         Brazil\n",
            "capital       Brasilia\n",
            "area             8.516\n",
            "population       200.4\n",
            "Name: BR, dtype: object\n",
            "RU\n",
            "country       Russia\n",
            "capital       Moscow\n",
            "area            17.1\n",
            "population     143.5\n",
            "Name: RU, dtype: object\n",
            "IN\n",
            "country           India\n",
            "capital       New Delhi\n",
            "area              3.286\n",
            "population       1252.0\n",
            "Name: IN, dtype: object\n",
            "CH\n",
            "country         China\n",
            "capital       Beijing\n",
            "area            9.597\n",
            "population     1357.0\n",
            "Name: CH, dtype: object\n",
            "SA\n",
            "country       South Africa\n",
            "capital           Pretoria\n",
            "area                 1.221\n",
            "population           52.98\n",
            "Name: SA, dtype: object\n",
            "BR: Brasilia\n",
            "RU: Moscow\n",
            "IN: New Delhi\n",
            "CH: Beijing\n",
            "SA: Pretoria\n"
          ]
        }
      ]
    },
    {
      "cell_type": "markdown",
      "source": [
        "#**Note: Unpack Collections by iterating with For loop in range (length / number of values) and pass result as index to collection**\n",
        "### - Unpack collections of values in a List, Tuple, NumPy Array and String\n",
        "### - **Cannot unpack Dictionary as dictonaries are accesses with unique key-valuye pairs and not index**"
      ],
      "metadata": {
        "id": "nVNbaU7jiCTb"
      }
    },
    {
      "cell_type": "code",
      "source": [
        "# Define tuple: fruits\n",
        "fruits = (\"apple\", \"banana\", \"cherry\")\n",
        "\n",
        "# Iterate tuple values with range and pass length as index \n",
        "for x in range (len(fruits)):\n",
        "  print (fruits [x])\n",
        "\n",
        "\n",
        "\n",
        "\n",
        "# Define list: new_fruits\n",
        "new_fruits = ['berry', 'orange', 'pear']\n",
        "\n",
        "# Iterate list values with range and pass length as index \n",
        "for a in range (len (new_fruits)):\n",
        "  print(new_fruits[a])\n",
        "\n",
        "\n",
        "\n",
        "\n",
        "# Define NumPy array : latest_fruits\n",
        "import numpy as np\n",
        "latest_fruits = np.array (['gauva', 'pineapple', 'mango'])\n",
        "\n",
        "# Iterate NumPy array values with range and pass length as index\n",
        "for y in range (len(latest_fruits)):\n",
        "  print (latest_fruits[y])\n",
        "\n",
        "\n",
        "\n",
        "\n",
        "# Define string \n",
        "fr = 'fruits'\n",
        "\n",
        "# Iterate string characters with range and pass length as index \n",
        "for character in range (len(fr)):\n",
        "  print (fr[character])"
      ],
      "metadata": {
        "id": "K6hJqZMwiPyD",
        "outputId": "2df98874-ea22-4f51-9e56-24f790c1ec4a",
        "colab": {
          "base_uri": "https://localhost:8080/"
        }
      },
      "execution_count": null,
      "outputs": [
        {
          "output_type": "stream",
          "name": "stdout",
          "text": [
            "apple\n",
            "banana\n",
            "cherry\n",
            "berry\n",
            "orange\n",
            "pear\n",
            "gauva\n",
            "pineapple\n",
            "mango\n",
            "f\n",
            "r\n",
            "u\n",
            "i\n",
            "t\n",
            "s\n"
          ]
        }
      ]
    },
    {
      "cell_type": "markdown",
      "source": [
        "#**Note: Unpack List of lists and ndarrays with For loop and passing result as index to collection**\n",
        "### - Unpack collections of variables in a List of lists\n",
        "### - Unpack collections of variables in a 2D NumPy array\n",
        "### - **No. of index calls = no. of sublists / array dimensions**"
      ],
      "metadata": {
        "id": "R-x_zUi8x1k2"
      }
    },
    {
      "cell_type": "code",
      "source": [
        "# Define 2D Numpy array\n",
        "import numpy as np\n",
        "np_2d = np.array ([[0,1,2,], [3,4,5], [6,7,8]])\n",
        "for x in np_2d:\n",
        "  print (x [0], x [1], x[2])\n",
        "\n",
        "\n",
        "\n",
        "# Define List of lists\n",
        "house = [[\"hallway\", 11.25], \n",
        "         [\"kitchen\", 18.0], \n",
        "         [\"living room\", 20.0], \n",
        "         [\"bedroom\", 10.75], \n",
        "         [\"bathroom\", 9.50]]\n",
        "\n",
        "for x in house:\n",
        "  print (x[0], x [1])\n",
        "\n",
        "\n",
        "\n",
        "# Define List of lists \n",
        "latest_fruits = (['cherry', 'plantain', 'koyya'], \n",
        "                 ['maari', 'kali', 'pechchi'])\n",
        "\n",
        "for x in latest_fruits :\n",
        "  print(x [0], x [1], x [2])"
      ],
      "metadata": {
        "id": "A7b8xyLpyIQU",
        "outputId": "dfb0e72f-7679-4938-e36f-db870d2247c9",
        "colab": {
          "base_uri": "https://localhost:8080/"
        }
      },
      "execution_count": null,
      "outputs": [
        {
          "output_type": "stream",
          "name": "stdout",
          "text": [
            "0 1 2\n",
            "3 4 5\n",
            "6 7 8\n",
            "hallway 11.25\n",
            "kitchen 18.0\n",
            "living room 20.0\n",
            "bedroom 10.75\n",
            "bathroom 9.5\n",
            "cherry plantain koyya\n",
            "maari kali pechchi\n"
          ]
        }
      ]
    },
    {
      "cell_type": "markdown",
      "source": [
        "#**Note - Index, Subset and Slice Colletions**\n",
        "### - Index in square brackets [ ] \n",
        "### - Index starts at 0\n",
        "### - Colon : to slice\n",
        "### - Slice syntax: [start : end]\n",
        "### - **Start index included. End index excluded**\n",
        "### - Start and end indexes are included if denoted with colons : "
      ],
      "metadata": {
        "id": "9Ac1wob9aqqu"
      }
    },
    {
      "cell_type": "code",
      "source": [
        "# Define string\n",
        "my_string = '0123456789'\n",
        "\n",
        "# Define list\n",
        "my_list = [0, 1, 2, 3, 4, 5, 6, 7, 8, 9]\n",
        "\n",
        "# Define tuple \n",
        "my_tuple = (0, 1, 2, 3, 4, 5, 6, 7, 8, 9)\n",
        "\n",
        "# Define NumPy array\n",
        "import numpy as np\n",
        "my_array = ([0, 1, 2, 3, 4, 5, 6, 7, 8, 9])\n",
        "\n",
        "# Index string 3 \n",
        "print (my_string [2]) \n",
        "\n",
        "# List index 6 included - end index 9 excluded \n",
        "print (my_list [6 : 9]) \n",
        "\n",
        "# Tuple start index included with : \n",
        "print (my_tuple [: 3]) \n",
        "\n",
        "# Numpy array start index 7 incuded - end index included with :\n",
        "print (my_array [7 :]) \n",
        "\n",
        "# NumPy array 3rd from last index\n",
        "print (my_array [-3]) "
      ],
      "metadata": {
        "id": "Q2X0_ZhpdiBB",
        "outputId": "f539a209-454a-4ea2-e708-bd0793ea4e71",
        "colab": {
          "base_uri": "https://localhost:8080/"
        }
      },
      "execution_count": null,
      "outputs": [
        {
          "output_type": "stream",
          "name": "stdout",
          "text": [
            "2\n",
            "[6, 7, 8]\n",
            "(0, 1, 2)\n",
            "[7, 8, 9]\n",
            "7\n"
          ]
        }
      ]
    },
    {
      "cell_type": "markdown",
      "source": [
        "#**Note - Index, Subset and Slice List of lists and multi-dimensional NumPy arrays**\n",
        "### - Syntax : [list / array index] [item index]\n",
        "### - **Cleaner Code syntax for nparray : [list /array index, item index]**  \n",
        "### - Index starts at 0\n",
        "### - Colon : to slice\n",
        "### - Slice syntax: [start : end]\n",
        "### - **Start index included. End index excluded**\n",
        "### - Start and end indexes are included if denoted with colons : "
      ],
      "metadata": {
        "id": "85OWjVXyqCi0"
      }
    },
    {
      "cell_type": "code",
      "source": [
        "# Define list of lists \n",
        "list_2d = ([[0, 1, 2, 3, 4, 5, 6, 7, 8, 9], [10, 11, 12, 13, 14, 15, 16, 17, 18, 19], [21, 22, 23, 24, 25, 26, 27, 28, 29]])\n",
        "\n",
        "# List index 2, item index 3 \n",
        "print (list_2d [2] [3]) \n",
        "\n",
        "# List index 1, all items\n",
        "print (list_2d [1] [:])\n",
        "\n",
        "# List index 0, item index 2 - 4 \n",
        "print (list_2d [0] [2:5])\n",
        "\n",
        "\n",
        "\n",
        "\n",
        "# Define 2D NumPy array\n",
        "import numpy as np\n",
        "np_2d = np.array ([[0, 1, 2, 3, 4, 5, 6, 7, 8, 9], [10, 11, 12, 13, 14, 15, 16, 17, 18, 19]])\n",
        "\n",
        "# NumPy array index 1, item index 6 - end included with :\n",
        "print (np_2d [1] [6:]) \n",
        "\n",
        "# NumPy array index 1, item index 6 - end included with : # Cleaner Code \n",
        "print (np_2d [1, 6:])"
      ],
      "metadata": {
        "id": "pOagfkbbqBst",
        "outputId": "898c20a6-aea2-4763-81a0-a070eaa71092",
        "colab": {
          "base_uri": "https://localhost:8080/"
        }
      },
      "execution_count": null,
      "outputs": [
        {
          "output_type": "stream",
          "name": "stdout",
          "text": [
            "24\n",
            "[10, 11, 12, 13, 14, 15, 16, 17, 18, 19]\n",
            "[2, 3, 4]\n",
            "[16 17 18 19]\n",
            "[16 17 18 19]\n"
          ]
        }
      ]
    },
    {
      "cell_type": "markdown",
      "source": [
        "#**Note - Arithmetic operations highest to lowest**\n"
      ],
      "metadata": {
        "id": "08BZrtJJ7_5c"
      }
    },
    {
      "cell_type": "code",
      "source": [
        "#Exponent\n",
        "print (5 ** 3)\n",
        "\n",
        "# Modulus \n",
        "print (10 % 4)   \n",
        "\n",
        "# Integer Division\n",
        "print (10 // 3) \n",
        "\n",
        "# Division\n",
        "print (4 / 9)\n",
        "\n",
        "# Multiply \n",
        "print (5 * 9 )\n",
        "\n",
        "# Substract\n",
        "print (9 - 81)\n",
        "\n",
        "# Sum\n",
        "print (54 + 56)"
      ],
      "metadata": {
        "id": "4TbBHO5l7-Yi",
        "outputId": "35d0038f-9112-4aac-c13c-703f03f48fa1",
        "colab": {
          "base_uri": "https://localhost:8080/"
        }
      },
      "execution_count": null,
      "outputs": [
        {
          "output_type": "stream",
          "name": "stdout",
          "text": [
            "125\n",
            "2\n",
            "3\n",
            "0.4444444444444444\n",
            "45\n",
            "-72\n",
            "110\n"
          ]
        }
      ]
    },
    {
      "cell_type": "markdown",
      "source": [
        "#**Note - Boolean Operators with NumPy Arrays**\n",
        "### - logical_and( )\n",
        "### - logical_or( )\n",
        "### - logical_not ( )  "
      ],
      "metadata": {
        "id": "hyf0z7xIHlKw"
      }
    },
    {
      "cell_type": "code",
      "source": [
        "# Boolean Operators with Numpy\n",
        "\n",
        "# Create arrays\n",
        "import numpy as np\n",
        "my_house = np.array([18.0, 20.0, 10.75, 9.50])\n",
        "your_house = np.array([14.0, 24.0, 14.25, 9.0])\n",
        "\n",
        "# my_house greater than 18.5 or smaller than 10\n",
        "print(np.logical_or(my_house>18.5, my_house<10))\n",
        "\n",
        "# Both my_house and your_house smaller than 11\n",
        "print(np.logical_and(my_house<11, your_house<11))"
      ],
      "metadata": {
        "id": "8wdPCq4DC2c1",
        "outputId": "e061dac2-0721-4e9a-eb6f-388d970170e9",
        "colab": {
          "base_uri": "https://localhost:8080/"
        }
      },
      "execution_count": null,
      "outputs": [
        {
          "output_type": "stream",
          "name": "stdout",
          "text": [
            "[False  True False  True]\n",
            "[False False False  True]\n"
          ]
        }
      ]
    },
    {
      "cell_type": "markdown",
      "source": [
        "#**Note - If-Elif-Else within While loop**"
      ],
      "metadata": {
        "id": "clJW-LZownUJ"
      }
    },
    {
      "cell_type": "code",
      "source": [
        "# Set while loop to run while offset is not equal to 0\n",
        "# Inside while loop, construct if-elif-else statement to decrease offset by 1 if offset > 0\n",
        "# Increase offset by 1 if offset is < 0 \n",
        "\n",
        "# Initialize offset\n",
        "offset = -21\n",
        "\n",
        "# Code while loop to print 'corrrecting' while offset is not 0\n",
        "while offset != 0 :\n",
        "    print(\"correcting...\")\n",
        "# Construct if statement to decrease offset by 1 if offset > 0\n",
        "    if offset > 0 :\n",
        "      offset = offset - 1 \n",
        "# Construct else statement to increase offset by 1 if offset < 0       \n",
        "    else : \n",
        "      offset = offset + 1    \n",
        "# Complete while loop to print offset value when it reaches 0\n",
        "    print(offset)"
      ],
      "metadata": {
        "id": "nnULjl3Jwrm-",
        "outputId": "aeb5ba6e-46cf-44f2-adc2-9228397cdb83",
        "colab": {
          "base_uri": "https://localhost:8080/"
        }
      },
      "execution_count": null,
      "outputs": [
        {
          "output_type": "stream",
          "name": "stdout",
          "text": [
            "correcting...\n",
            "-20\n",
            "correcting...\n",
            "-19\n",
            "correcting...\n",
            "-18\n",
            "correcting...\n",
            "-17\n",
            "correcting...\n",
            "-16\n",
            "correcting...\n",
            "-15\n",
            "correcting...\n",
            "-14\n",
            "correcting...\n",
            "-13\n",
            "correcting...\n",
            "-12\n",
            "correcting...\n",
            "-11\n",
            "correcting...\n",
            "-10\n",
            "correcting...\n",
            "-9\n",
            "correcting...\n",
            "-8\n",
            "correcting...\n",
            "-7\n",
            "correcting...\n",
            "-6\n",
            "correcting...\n",
            "-5\n",
            "correcting...\n",
            "-4\n",
            "correcting...\n",
            "-3\n",
            "correcting...\n",
            "-2\n",
            "correcting...\n",
            "-1\n",
            "correcting...\n",
            "0\n"
          ]
        }
      ]
    },
    {
      "cell_type": "markdown",
      "source": [
        "#**Functions**\n",
        "### - Call with round brackets ( )\n",
        "### - Syntax: output = function_name(input)\n",
        "### - Help syntax: help (function_name) or ? function_name\n",
        "\n"
      ],
      "metadata": {
        "id": "37RNfhi0h8O3"
      }
    },
    {
      "cell_type": "code",
      "source": [
        "# Define string from input \n",
        "a = str (input ('Your String:  '))\n",
        "\n",
        "# Call function: len \n",
        "print (len(a))\n",
        "\n",
        "# Call help \n",
        "help (len)\n",
        "? len"
      ],
      "metadata": {
        "id": "5AH4yqEUX-sE",
        "outputId": "414bf192-8959-415a-8268-e4feb3ade577",
        "colab": {
          "base_uri": "https://localhost:8080/"
        }
      },
      "execution_count": null,
      "outputs": [
        {
          "output_type": "stream",
          "name": "stdout",
          "text": [
            "Your String:  aaa\n",
            "3\n",
            "Help on built-in function len in module builtins:\n",
            "\n",
            "len(obj, /)\n",
            "    Return the number of items in a container.\n",
            "\n"
          ]
        }
      ]
    },
    {
      "cell_type": "markdown",
      "source": [
        "#**Methods**\n",
        "### - Call with dot. after data type name and round brackets\n",
        "### - Syntax : dtype.method_name ( )\n",
        "### - Each object and data type has associated attributes and methods\n",
        "### - Help syntax: help (dtype.method_name) or ? dtype.method_name"
      ],
      "metadata": {
        "id": "AHuD_9Yx9dks"
      }
    },
    {
      "cell_type": "code",
      "source": [
        "# Define string from input \n",
        "a = str (input ('Your String:  '))\n",
        "\n",
        "# Call method: upper\n",
        "print (a.upper())\n",
        "\n",
        "# Call help\n",
        "help (str.upper)\n",
        "? str.upper"
      ],
      "metadata": {
        "id": "Ovfp4JpMX3UR",
        "outputId": "e0298b4c-c9ac-4855-b744-6753d4a4167f",
        "colab": {
          "base_uri": "https://localhost:8080/"
        }
      },
      "execution_count": null,
      "outputs": [
        {
          "output_type": "stream",
          "name": "stdout",
          "text": [
            "Your String:  aa\n",
            "AA\n",
            "Help on method_descriptor:\n",
            "\n",
            "upper(self, /)\n",
            "    Return a copy of the string converted to uppercase.\n",
            "\n"
          ]
        }
      ]
    },
    {
      "cell_type": "markdown",
      "metadata": {
        "id": "1664fd0c"
      },
      "source": [
        "#**Variables and Data Types**\n",
        "\n",
        "\n",
        "\n"
      ]
    },
    {
      "cell_type": "markdown",
      "source": [
        "##Assign Variables\n",
        "### - Assign variables\n",
        "### - Assign Variables with type casting"
      ],
      "metadata": {
        "id": "kUhzKSpDLROj"
      }
    },
    {
      "cell_type": "code",
      "source": [
        "# Assign variable\n",
        "x = 6\n",
        "y = 7\n",
        "\n",
        "# Assign variable # Cleaner Code\n",
        "a, b = 8, 9 \n",
        "print (x , y, a, b)\n",
        "\n",
        "# Assign variable to variable and multiple variables to single value\n",
        "x = y = z = 25\n",
        "print (x, y, z)\n",
        "\n",
        "# Assign varibles with type casting \n",
        "x = str(3)    \n",
        "y = int(3)    \n",
        "z = float(3)\n",
        "t = bool (1)  \n",
        "print (x, y, z, t)"
      ],
      "metadata": {
        "id": "zGEHKhV_LTfw",
        "outputId": "efc2da96-a13d-47ad-c779-fcce7acdd828",
        "colab": {
          "base_uri": "https://localhost:8080/"
        }
      },
      "execution_count": null,
      "outputs": [
        {
          "output_type": "stream",
          "name": "stdout",
          "text": [
            "6 7 8 9\n",
            "25 25 25\n",
            "3 3 3.0 True\n"
          ]
        }
      ]
    },
    {
      "cell_type": "markdown",
      "source": [
        "## Type Conversion\n",
        "### - Variable to String, Integer, Float and Boolean \n",
        "### - Collections to Tuple, NumPy Array, List and Dictionary"
      ],
      "metadata": {
        "id": "RiaDyM7tDwCX"
      }
    },
    {
      "cell_type": "code",
      "source": [
        "# Variable to String, Integer, Float and Boolean  \n",
        "print (str('5'), str(2.444), str('Manual'))  \n",
        "print (int ('1'), int (2.7), int (True))   \n",
        "print (float ('5.25'), float (1))  \n",
        "print (bool (True), bool (False), bool (1), bool(0), bool ('Amma@'))"
      ],
      "metadata": {
        "id": "6GRFH5ZmDkF4",
        "outputId": "22fa8ce1-7a85-4e04-ec73-6187901af406",
        "colab": {
          "base_uri": "https://localhost:8080/"
        }
      },
      "execution_count": null,
      "outputs": [
        {
          "output_type": "stream",
          "name": "stdout",
          "text": [
            "5 2.444 Manual\n",
            "1 2 1\n",
            "5.25 1.0\n",
            "True False True False True\n"
          ]
        }
      ]
    },
    {
      "cell_type": "code",
      "source": [
        "# Define Tuples\n",
        "a = (1,2,3,4,5)\n",
        "b = ('a', 'b', 'c', 'd', 'e')\n",
        "\n",
        "# Tuple to list\n",
        "l = list(a)\n",
        "print (type(l))\n",
        "\n",
        "# List to NumPy Array\n",
        "import numpy as np\n",
        "arr = np.array(l)\n",
        "print (type(arr))\n",
        "\n",
        "# Tuples to Dictionary with Zip\n",
        "d = dict (zip(b, a))\n",
        "print (type(d))\n",
        "print (d)\n"
      ],
      "metadata": {
        "colab": {
          "base_uri": "https://localhost:8080/"
        },
        "id": "QgszIY9K8zSj",
        "outputId": "89c2bed9-d602-4d3f-c199-ec38b0a115ae"
      },
      "execution_count": null,
      "outputs": [
        {
          "output_type": "stream",
          "name": "stdout",
          "text": [
            "<class 'list'>\n",
            "<class 'numpy.ndarray'>\n",
            "<class 'dict'>\n",
            "{'a': 1, 'b': 2, 'c': 3, 'd': 4, 'e': 5}\n"
          ]
        }
      ]
    },
    {
      "cell_type": "markdown",
      "source": [
        "#**String Operations**\n",
        "### - Define with \"string\""
      ],
      "metadata": {
        "id": "5FbUdyaZ-qUM"
      }
    },
    {
      "cell_type": "code",
      "source": [
        "# Define string\n",
        "my_string = 'This String is Awesome'  \n",
        "\n",
        "# Multiply string\n",
        "print (my_string * 3) \n",
        "\n",
        "# Add strings (without space)\n",
        "print (my_string + my_string) \n",
        "\n",
        "# Add strings (adds a space) # Cleaner Code\n",
        "print (my_string, my_string, ' ', '!!!!')"
      ],
      "metadata": {
        "id": "f8UXGQg3Eo_V",
        "outputId": "31526249-1f3c-49fc-ccf8-e3b078e1f7d3",
        "colab": {
          "base_uri": "https://localhost:8080/"
        }
      },
      "execution_count": null,
      "outputs": [
        {
          "output_type": "stream",
          "name": "stdout",
          "text": [
            "This String is AwesomeThis String is AwesomeThis String is Awesome\n",
            "This String is AwesomeThis String is Awesome\n",
            "This String is Awesome This String is Awesome   !!!!\n"
          ]
        }
      ]
    },
    {
      "cell_type": "markdown",
      "source": [
        "#**String Methods and Functions**\n",
        "### - Call methods with dot. and round brackets after ( )\n",
        "### - Call functions with function name and round brackets "
      ],
      "metadata": {
        "id": "JWM0ONdnIpME"
      }
    },
    {
      "cell_type": "code",
      "execution_count": null,
      "metadata": {
        "scrolled": false,
        "id": "vSPEw77vInED",
        "outputId": "bd87a783-c587-4160-8dd7-45c11f8c0e8c",
        "colab": {
          "base_uri": "https://localhost:8080/"
        }
      },
      "outputs": [
        {
          "output_type": "stream",
          "name": "stdout",
          "text": [
            "26\n",
            "False\n",
            "  THIS STRING IS AWESOME  \n",
            "  this string is awesome  \n",
            "  this string is awesome  \n",
            "  This String Is Awesome  \n",
            "4\n",
            "  thiX Xtring iX aweXome  \n",
            "this string is awesome\n"
          ]
        }
      ],
      "source": [
        " # Assign string with whitespaces front and after for testing \n",
        "my_string = '  this string is awesome  '\n",
        "\n",
        "# String length\n",
        "print (len(my_string)) \n",
        "\n",
        "# Boolean if character is in string  \n",
        "print ('y' in my_string) \n",
        "\n",
        "# Uppercase\n",
        "print (my_string.upper ()) \n",
        "\n",
        "# Lowercase\n",
        "print (my_string.lower ())\n",
        "\n",
        "# Capitalize 1st Character\n",
        "print (my_string.capitalize ()) \n",
        "\n",
        "# Capitalise first character of all words\n",
        "print (my_string.title ()) \n",
        "\n",
        "# Count a character in string \n",
        "print (my_string.count ('s')) \n",
        "\n",
        "# Replace all occuarances of character with another\n",
        "print (my_string.replace ('s', 'X')) \n",
        "\n",
        "# Strip whitespaces beginning and end\n",
        "print (my_string.strip ()) "
      ]
    },
    {
      "cell_type": "markdown",
      "source": [
        "#**List Operations**\n",
        "### - Define with square brackets ([list])\n",
        "### - Mutable\n",
        "### - Can have different Types\n",
        "### - Copy, Replace, Extend and Delete List Elements\n",
        "### - Copying list with assigning a new name will point to same list (unlike variable)\n",
        "### - Copying a list with list ( ) or Colon : results in a seperate list with selected elements\n",
        "### - List of lists can contain any number of lists \n",
        "### - Define List of lists with double square brackets ([list1], [list2])"
      ],
      "metadata": {
        "id": "4sO9p3axMCDp"
      }
    },
    {
      "cell_type": "code",
      "source": [
        "# Define list # Cleaner Code\n",
        "hall, kit, liv, bed, bath, w, x, y, z = 11.25, 18.0, 20.0, 10.75, 9.5, 'Amman', True, 1>2, 10001\n",
        "\n",
        "# define list with variables of different data types\n",
        "x = [hall, kit, liv, bed, bath, w, x, y, z] \n",
        "print (x)\n",
        "print (type(x))\n",
        "\n",
        "\n",
        "\n",
        "\n",
        "\n",
        "\n",
        "# Define list\n",
        "l = ['p', 'q', 'r', 's', 't'] \n",
        "\n",
        "# Create copy by assigning another variable name points to same list\n",
        "l_copy = l \n",
        "\n",
        "# Print original and copy\n",
        "print (l, l_copy)\n",
        "\n",
        "# Delete index 2 in copy - Changes original list\n",
        "del l_copy [2] \n",
        "print (l, l_copy)\n",
        "\n",
        "\n",
        "\n",
        "\n",
        "\n",
        "# Define list \n",
        "l = ['a', 'b', 'c', 'd', 'e']\n",
        "\n",
        "# Copy all indexes to new list with list()\n",
        "l1 = list (l) \n",
        "\n",
        "# Copy index start to 2 to new list with Colon :\n",
        "l2 = l [:3] \n",
        "\n",
        "# Print original and copies\n",
        "print (l, l1, l2)\n",
        "\n",
        "# Delete index 2 in copy l1 and index 0 in copy l2\n",
        "del l1 [2] \n",
        "del l2 [0]\n",
        "\n",
        "# Print original and copies - Does not change original list\n",
        "print (l, l1, l2)\n",
        "\n",
        "\n",
        "\n",
        "\n",
        "\n",
        "\n",
        "# Define list\n",
        "x = [\"a\", \"b\", \"c\", \"d\"] \n",
        "\n",
        "# Replace index 1 and index 2 to end # Cleaner Code\n",
        "x[1], x[2:]  = \"r\", [\"s\", \"t\"]\n",
        "print (x)\n",
        "\n",
        "\n",
        "\n",
        "\n",
        "# Define list\n",
        "x = [\"a\", \"b\", \"c\", \"d\"]\n",
        "\n",
        "# Add elements\n",
        "x = x + [\"e\", \"f\"] \n",
        "print (x)\n",
        "\n",
        "\n",
        "\n",
        "\n",
        "# Add and multiply lists\n",
        "print (x + x) \n",
        "print (x * 5)\n",
        "\n",
        "\n",
        "\n",
        "\n",
        "# Assign variables \n",
        "hall = 11.25\n",
        "kit = 18.0\n",
        "liv = 20.0\n",
        "bed = 10.75\n",
        "bath = 9.50\n",
        "\n",
        "# Define List of Lists \n",
        "house = [[\"hallway\", hall],\n",
        "         [\"kitchen\", kit],\n",
        "         [\"living room\", liv],\n",
        "         [\"bedroom\", bed],\n",
        "         [\"bathroom\", bath]]\n",
        "\n",
        "print (house)\n",
        "print (len(house))\n",
        "print (type (house))"
      ],
      "metadata": {
        "colab": {
          "base_uri": "https://localhost:8080/"
        },
        "id": "oXLRbX6CMMbG",
        "outputId": "3469b526-1d46-4234-f576-daf6db8e73c2"
      },
      "execution_count": null,
      "outputs": [
        {
          "output_type": "stream",
          "name": "stdout",
          "text": [
            "[11.25, 18.0, 20.0, 10.75, 9.5, 'Amman', True, False, 10001]\n",
            "<class 'list'>\n",
            "['p', 'q', 'r', 's', 't'] ['p', 'q', 'r', 's', 't']\n",
            "['p', 'q', 's', 't'] ['p', 'q', 's', 't']\n",
            "['a', 'b', 'c', 'd', 'e'] ['a', 'b', 'c', 'd', 'e'] ['a', 'b', 'c']\n",
            "['a', 'b', 'c', 'd', 'e'] ['a', 'b', 'd', 'e'] ['b', 'c']\n",
            "['a', 'r', 's', 't']\n",
            "['a', 'b', 'c', 'd', 'e', 'f']\n",
            "['a', 'b', 'c', 'd', 'e', 'f', 'a', 'b', 'c', 'd', 'e', 'f']\n",
            "['a', 'b', 'c', 'd', 'e', 'f', 'a', 'b', 'c', 'd', 'e', 'f', 'a', 'b', 'c', 'd', 'e', 'f', 'a', 'b', 'c', 'd', 'e', 'f', 'a', 'b', 'c', 'd', 'e', 'f']\n",
            "[['hallway', 11.25], ['kitchen', 18.0], ['living room', 20.0], ['bedroom', 10.75], ['bathroom', 9.5]]\n",
            "5\n",
            "<class 'list'>\n"
          ]
        }
      ]
    },
    {
      "cell_type": "markdown",
      "source": [
        "#**List Methods and Functions**"
      ],
      "metadata": {
        "id": "ZIwJiYdnkDxo"
      }
    },
    {
      "cell_type": "code",
      "source": [
        "# Define list\n",
        "z = ['my', 'list', 'is', 'is', 'nice'] \n",
        "\n",
        "# Get length of list\n",
        "print (len(z))\n",
        "\n",
        "# Get first index of an element \n",
        "print (z.index ('is')) \n",
        "\n",
        "# Count an element\n",
        "print (z.count ('is')) \n",
        "\n",
        "# Append an element at a time\n",
        "z.append ('!!!') \n",
        "print (z)\n",
        "\n",
        "# Remove an item at a time\n",
        "z.remove ('is') \n",
        "print (z)\n",
        "\n",
        "# Extend list an element at a time \n",
        "z.extend ('2') \n",
        "print (z)\n",
        "\n",
        "# Remove index element 2nd to last\n",
        "z.pop (-2) \n",
        "print (z)\n",
        "\n",
        "# Insert an element before index position - 1\n",
        "z.insert (-1, 'NOT') \n",
        "print (z)\n",
        "\n",
        "# Sort list\n",
        "z.sort()\n",
        "print (z)\n",
        "\n",
        "# Reverse sort\n",
        "z.sort (reverse = True) \n",
        "print (z)\n",
        "\n",
        "# Reverse sort # Cleaner Code\n",
        "z.reverse () \n",
        "print (z)"
      ],
      "metadata": {
        "colab": {
          "base_uri": "https://localhost:8080/"
        },
        "id": "XCA90yotkHB8",
        "outputId": "a85054a8-43a8-4bd4-d9f7-8b20751005d5"
      },
      "execution_count": null,
      "outputs": [
        {
          "output_type": "stream",
          "name": "stdout",
          "text": [
            "5\n",
            "2\n",
            "2\n",
            "['my', 'list', 'is', 'is', 'nice', '!!!']\n",
            "['my', 'list', 'is', 'nice', '!!!']\n",
            "['my', 'list', 'is', 'nice', '!!!', '2']\n",
            "['my', 'list', 'is', 'nice', '2']\n",
            "['my', 'list', 'is', 'nice', 'NOT', '2']\n",
            "['2', 'NOT', 'is', 'list', 'my', 'nice']\n",
            "['nice', 'my', 'list', 'is', 'NOT', '2']\n",
            "['2', 'NOT', 'is', 'list', 'my', 'nice']\n"
          ]
        }
      ]
    },
    {
      "cell_type": "markdown",
      "source": [
        "#**NumPy Arrays**\n",
        "### - Creates n-dimensional array (ndarray) of any dimension\n",
        "### - **CAN ONLY CONTAIN ONE DATA TYPE**\n",
        "### - Different types will coerce array to strings\n",
        "### - Syntax : np.array ( [ ] )\n",
        "### - **Index starts at 0, start index included, end index excluded**\n",
        "### - NP attributes are called with dot. but are not methods - no ( ) after\n"
      ],
      "metadata": {
        "id": "0aExusyaH35N"
      }
    },
    {
      "cell_type": "markdown",
      "source": [
        "##NumPy Arrays"
      ],
      "metadata": {
        "id": "zdP6GNrQRECT"
      }
    },
    {
      "cell_type": "code",
      "source": [
        "# Define list \n",
        "baseball = [180, 215, 210, 210, 188, 176, 209, 200] \n",
        "\n",
        "# Import NumPy \n",
        "import numpy as np \n",
        "\n",
        "# Create NumPy array \n",
        "np_baseball = np.array(baseball) \n",
        "\n",
        "# Create np array np_baseball_in by multiplying elements in np_baseball_cm by 0.394\n",
        "np_baseball_in = np_baseball * 0.394 \n",
        "\n",
        "# Create boolean NP array of players < 80 in \n",
        "np_baseball_in_small = np_baseball_in < 80.00\n",
        "\n",
        "# Select players < 80 from array by passing bolean np array as index\n",
        "print (np_baseball_in [np_baseball_in_small]) "
      ],
      "metadata": {
        "colab": {
          "base_uri": "https://localhost:8080/"
        },
        "id": "F_Va4IHzIE1x",
        "outputId": "ab9b47fb-d55d-4537-bf1b-c6d5c36e6d24"
      },
      "execution_count": null,
      "outputs": [
        {
          "output_type": "stream",
          "name": "stdout",
          "text": [
            "[70.92  74.072 69.344 78.8  ]\n"
          ]
        }
      ]
    },
    {
      "cell_type": "markdown",
      "source": [
        "##**Pass argument / boolean array as index to an array**"
      ],
      "metadata": {
        "id": "QtAZnlzw37XM"
      }
    },
    {
      "cell_type": "code",
      "source": [
        "# Import NumPy\n",
        "import numpy as np \n",
        "\n",
        "# Create nparray baseball_cm\n",
        "baseball = np.array ([180, 215, 210, 210, 188, 176, 209, 200])\n",
        "\n",
        "# Select players < 200 cm by pasing boolean array as index to array\n",
        "print (baseball [baseball < 200]) "
      ],
      "metadata": {
        "id": "4-6GtmHdPZZU",
        "outputId": "692ab532-1010-4856-a515-1edf41e8d06e",
        "colab": {
          "base_uri": "https://localhost:8080/"
        }
      },
      "execution_count": null,
      "outputs": [
        {
          "output_type": "stream",
          "name": "stdout",
          "text": [
            "[180 188 176]\n"
          ]
        }
      ]
    },
    {
      "cell_type": "markdown",
      "source": [
        "##2D NumPy Arrays\n",
        "### - Multi-demensional arrays work like improved list of lists\n",
        "### - Combine matrices with single numbers, vectors, and with other matrices\n",
        "### - Indexing, subsetting and slicing syntax : nparray [row index] [column index for that row]\n",
        "### - Indexing, subsetting and slicing Cleaner Code syntax : nparray [row index, column index for that row]\n"
      ],
      "metadata": {
        "id": "9hAgt0RNcrhO"
      }
    },
    {
      "cell_type": "code",
      "source": [
        "import numpy as np\n",
        "\n",
        "# Create 2d np array\n",
        "np_2d = np.array ([[0, 1, 2, 3, 4, 5], [10, 11, 12, 13, 14, 15]])\n",
        "\n",
        "# Use method dot.shape attribute (2 rows, 6 columns)\n",
        "print('Shape of nparray is (rows, columns) : ', np_2d.shape) \n",
        "\n",
        "# Transpose 2d np array \n",
        "np_2d_t = np.transpose(np_2d)\n",
        "print('Shape of transposed nparray is (rows, columns) : ', np_2d_t.shape) \n",
        "\n",
        "# Subset Row 0, Index 2 \n",
        "print (np_2d [0] [2]) \n",
        "\n",
        "# Subset Row 1, Index 3 # Cleaner Code\n",
        "print (np_2d [1, 3]) \n",
        "\n",
        "# Subset all Rows and column indexes 1-2 (3rd index not included)\n",
        "print (np_2d [:, 1:3 ]) \n",
        "\n",
        "# Subset Row index 2 and All columns\n",
        "print (np_2d [1, :]) \n",
        "\n",
        "# Multiply all elements \n",
        "print (np_2d * 5) \n",
        "\n",
        "# Add 2d array and 2d array\n",
        "print (np_2d + np_2d)\n",
        "\n",
        "# Add 10 to 1st element, 11 to second element and so forth in each array\n",
        "print (np_2d + np.array ([10, 11, 12, 13, 14, 15]))"
      ],
      "metadata": {
        "colab": {
          "base_uri": "https://localhost:8080/"
        },
        "id": "-g5Sb6SEcqrh",
        "outputId": "464a00f2-8667-4730-b468-9751ff9ed29d"
      },
      "execution_count": null,
      "outputs": [
        {
          "output_type": "stream",
          "name": "stdout",
          "text": [
            "Shape of nparray is (rows, columns) :  (2, 6)\n",
            "Shape of transposed nparray is (rows, columns) :  (6, 2)\n",
            "2\n",
            "13\n",
            "[[ 1  2]\n",
            " [11 12]]\n",
            "[10 11 12 13 14 15]\n",
            "[[ 0  5 10 15 20 25]\n",
            " [50 55 60 65 70 75]]\n",
            "[[ 0  2  4  6  8 10]\n",
            " [20 22 24 26 28 30]]\n",
            "[[10 12 14 16 18 20]\n",
            " [20 22 24 26 28 30]]\n"
          ]
        }
      ]
    },
    {
      "cell_type": "markdown",
      "source": [
        "##Numpy Attributes\n",
        "### - Called with . but are not methods"
      ],
      "metadata": {
        "id": "jP6eB4UcKOds"
      }
    },
    {
      "cell_type": "code",
      "source": [
        "# Import Numpy\n",
        "import numpy as np\n",
        "\n",
        "# Create 2d np array\n",
        "x = np.array ([[1.73, 1.68, 1.71, 1.89, 1.79], [65.4, 59.2, 63.6, 88.4, 68.7]]) \n",
        "\n",
        "# Array shape\n",
        "print (x.shape) \n",
        "\n",
        "# Mean / Average of 1st row, all columns\n",
        "print (np.mean (x [0, :])) \n",
        "\n",
        "# Median of 2nd row, all columns\n",
        "print (np.median(x [1, :])) \n",
        "\n",
        "# Standard Deviation on All Rows, 1st colummn\n",
        "print (np.std (x [:, 0])) \n",
        "\n",
        "# Correlation between 1st and 2nd rows, All columns\n",
        "print (np.corrcoef (x [0, :], x [1:, :]))\n",
        "\n",
        "# Transpose Array \n",
        "y = np.transpose(x)\n",
        "print (y)\n",
        "print (y.shape)\n",
        "print (type(y))"
      ],
      "metadata": {
        "id": "qjbIJldkKRMC",
        "outputId": "59ed31e2-0914-4c01-dc78-05ed10efcc79",
        "colab": {
          "base_uri": "https://localhost:8080/"
        }
      },
      "execution_count": null,
      "outputs": [
        {
          "output_type": "stream",
          "name": "stdout",
          "text": [
            "(2, 5)\n",
            "1.7600000000000002\n",
            "65.4\n",
            "31.835000000000004\n",
            "[[1.         0.97514969]\n",
            " [0.97514969 1.        ]]\n",
            "[[ 1.73 65.4 ]\n",
            " [ 1.68 59.2 ]\n",
            " [ 1.71 63.6 ]\n",
            " [ 1.89 88.4 ]\n",
            " [ 1.79 68.7 ]]\n",
            "(5, 2)\n",
            "<class 'numpy.ndarray'>\n"
          ]
        }
      ]
    },
    {
      "cell_type": "markdown",
      "source": [
        "## Numpy Advanced Statistics\n",
        "### - **Pass argument / boolean array as index to an array**"
      ],
      "metadata": {
        "id": "ug6HFeSrnZj6"
      }
    },
    {
      "cell_type": "code",
      "source": [
        "# Import NumPy\n",
        "import numpy as np\n",
        "\n",
        "# Create numpy array positions\n",
        "np_positions = np.array (['GK', 'MA', 'DA', 'GK', 'MA', 'DA'])\n",
        "\n",
        "# Create numpy array heights\n",
        "np_heights = np.array ([17, 16, 18, 19, 14, 12])\n",
        "\n",
        "# Extract heights GK players by passing Boolean argument for positions index to heights \n",
        "np_GK = np.array (np_heights [np_positions =='GK'])\n",
        "\n",
        "# Extract heights other players by passing Boolean argument for positions index to heights \n",
        "np_nonGK = np.array (np_heights [np_positions !='GK'])\n",
        "\n",
        "# Print median heights of GK and non GK\n",
        "print (np.median (np_GK), np.median (np_nonGK))"
      ],
      "metadata": {
        "colab": {
          "base_uri": "https://localhost:8080/"
        },
        "id": "pi2fpDBPnfIk",
        "outputId": "16fdf409-3ac8-4c06-c0e0-365c5606390a"
      },
      "execution_count": null,
      "outputs": [
        {
          "output_type": "stream",
          "name": "stdout",
          "text": [
            "18.0 15.0\n"
          ]
        }
      ]
    },
    {
      "cell_type": "markdown",
      "source": [
        "#**Tuples**\n",
        "### - Like list : contain multiple types\n",
        "### - Unlike list : immutable - cannot modify values\n",
        "### - Constructed using a parentheses ( )\n",
        "### - Can be unpacked by assigning variables\n",
        "### - Access by indexing"
      ],
      "metadata": {
        "id": "vRysJge55cJV"
      }
    },
    {
      "cell_type": "code",
      "source": [
        "# Assign variables # Cleaner Code\n",
        "hall, kit, liv, bed, bath, w, x, y, z = 11.25, 18.0, 20.0, 10.75, 9.5, 'Amman', True, 1>2, 10001\n",
        "\n",
        "# Construct tuple areas with variables of different data types\n",
        "areas = (hall, kit, liv, bed, bath, w, x, y, z)\n",
        "print (areas)\n",
        "print (type(areas))"
      ],
      "metadata": {
        "id": "AWzuisnF5uIc",
        "outputId": "ac185ff1-4c6f-4fdc-de44-dcdb8b8daa29",
        "colab": {
          "base_uri": "https://localhost:8080/"
        }
      },
      "execution_count": null,
      "outputs": [
        {
          "output_type": "stream",
          "name": "stdout",
          "text": [
            "(11.25, 18.0, 20.0, 10.75, 9.5, 'Amman', True, False, 10001)\n",
            "<class 'tuple'>\n"
          ]
        }
      ]
    },
    {
      "cell_type": "markdown",
      "source": [
        "#**Dictionaries**\n",
        "### - Use Curly brackets - Syntax {key1 : value1, key2 : value2}\n",
        "### - **Extend dictionary Syntax : dictionary [ new key ] = new value**\n",
        "### - **Update existing key value Syntax : dictionary [ existing key ] = new value**\n",
        "### - **Dictionary creates new keys-value pairs or updates values to existing keys as uses unique immutable keys**\n",
        "<br>\n",
        "  \n",
        "### - List and Dictionary - Select, update and remove with [ ]\n",
        "### - List indexed by range of numbers\n",
        "### - Dictionaries indexed with unique immutabele keys\n",
        "### - Use lists for collection of values, order matters, for selecting subsets\n",
        "### - Lookup table with unique keys\n",
        "\n",
        "\n",
        "\n"
      ],
      "metadata": {
        "id": "UJytuLsQMFD8"
      }
    },
    {
      "cell_type": "markdown",
      "source": [
        "##Create Dictionary manually\n",
        "### - Update dictionaries"
      ],
      "metadata": {
        "id": "jZkEaFWb8j0D"
      }
    },
    {
      "cell_type": "code",
      "source": [
        "# Create dictionary europe\n",
        "europe = {'spain':'madrid', 'france':'paris', 'germany':'berlin', 'norway':'oslo'}\n",
        "print (europe)\n",
        "\n",
        "# Print out the keys in europe\n",
        "print (europe.keys ())\n",
        "\n",
        "# Print out the values in europe\n",
        "print (europe.values ())\n",
        "\n",
        "# Print out the key-value pairs in Europe with .items\n",
        "print (europe.items())\n",
        "\n",
        "# Print out value that belongs to key 'norway'\n",
        "print (europe ['norway'])\n",
        "\n",
        "# Extend dictionary europe with key Sri Lanka and value Colombo\n",
        "europe ['Sri Lanka'] = 'Colombo'\n",
        "print (europe)\n",
        "\n",
        "# Update value of key Sri Lanka's capital to Kandy\n",
        "europe ['Sri Lanka'] = 'Kandy '\n",
        "print (europe)\n",
        "\n",
        "# Add 'upper' to Value of Sri Lanka's capital Kandy\n",
        "europe ['Sri Lanka'] += 'Upper'\n",
        "print (europe)\n",
        "\n",
        "# Print boolen to check key in disctionary\n",
        "print ('spain' in europe)\n",
        "\n",
        "# Remove key value pair Sri Lanka : Kandy\n",
        "del europe ['Sri Lanka']\n",
        "print (europe)"
      ],
      "metadata": {
        "id": "A2_y_itg91Q_",
        "outputId": "9db31e8c-4e87-4f90-cdeb-625662faad9e",
        "colab": {
          "base_uri": "https://localhost:8080/"
        }
      },
      "execution_count": null,
      "outputs": [
        {
          "output_type": "stream",
          "name": "stdout",
          "text": [
            "{'spain': 'madrid', 'france': 'paris', 'germany': 'berlin', 'norway': 'oslo'}\n",
            "dict_keys(['spain', 'france', 'germany', 'norway'])\n",
            "dict_values(['madrid', 'paris', 'berlin', 'oslo'])\n",
            "dict_items([('spain', 'madrid'), ('france', 'paris'), ('germany', 'berlin'), ('norway', 'oslo')])\n",
            "oslo\n",
            "{'spain': 'madrid', 'france': 'paris', 'germany': 'berlin', 'norway': 'oslo', 'Sri Lanka': 'Colombo'}\n",
            "{'spain': 'madrid', 'france': 'paris', 'germany': 'berlin', 'norway': 'oslo', 'Sri Lanka': 'Kandy '}\n",
            "{'spain': 'madrid', 'france': 'paris', 'germany': 'berlin', 'norway': 'oslo', 'Sri Lanka': 'Kandy Upper'}\n",
            "True\n",
            "{'spain': 'madrid', 'france': 'paris', 'germany': 'berlin', 'norway': 'oslo'}\n"
          ]
        }
      ]
    },
    {
      "cell_type": "markdown",
      "source": [
        "##**Note - Create Dictionary from pre-defined collections with zip**"
      ],
      "metadata": {
        "id": "wQE4K9289MYV"
      }
    },
    {
      "cell_type": "code",
      "source": [
        "# Pre-defined collections\n",
        "names = np.array (['United States', 'Australia', 'Japan', 'India', 'Russia', 'Morocco', 'Egypt'])\n",
        "dr =  (True, False, False, False, True, True, True)\n",
        "\n",
        "# Create dictionary with zip \n",
        "my_dict=dict (zip (names, dr))\n",
        "print (my_dict)"
      ],
      "metadata": {
        "colab": {
          "base_uri": "https://localhost:8080/"
        },
        "id": "KZVHSu4w9XbY",
        "outputId": "7a2ee611-57a0-40dd-de1f-5837e429fcd1"
      },
      "execution_count": null,
      "outputs": [
        {
          "output_type": "stream",
          "name": "stdout",
          "text": [
            "{'United States': True, 'Australia': False, 'Japan': False, 'India': False, 'Russia': True, 'Morocco': True, 'Egypt': True}\n"
          ]
        }
      ]
    },
    {
      "cell_type": "markdown",
      "source": [
        "##**Note - Add keys and values to build dictionary**\n",
        "### - **Syntax to add to existing value of existing key : dictionary [existing_key] += value_to_add**\n",
        "### - **Syntax to add new key to dictionary and set its value to new_value: dictionary [new_key] = new_value**\n",
        "### - Dictionaries use unique keys\n",
        "### - Adding new value to existing key with = changes original value \n",
        "### - Adding new value to existing key with += adds to existing value"
      ],
      "metadata": {
        "id": "vH36gLHmBpUY"
      }
    },
    {
      "cell_type": "code",
      "source": [
        "# Build new dictionary \n",
        "lang = {'eng':1, 'spn':2, 'tam':3}\n",
        "\n",
        "# Add 1001 to the value of existing key 'eng' in dictionary 'lang' use lang['eng'] += 1001\n",
        "lang ['eng'] += 1001\n",
        "print (lang)\n",
        "\n",
        "#Add new key 'sin' to 'lang' and set its value to 500, use lang['sin'] = 500\n",
        "lang ['sin'] = 500\n",
        "print (lang)"
      ],
      "metadata": {
        "id": "NjVO4WqaJa69",
        "outputId": "b95343bc-d56e-44f0-93c5-23fff73b9d0d",
        "colab": {
          "base_uri": "https://localhost:8080/"
        }
      },
      "execution_count": null,
      "outputs": [
        {
          "output_type": "stream",
          "name": "stdout",
          "text": [
            "{'eng': 1002, 'spn': 2, 'tam': 3}\n",
            "{'eng': 1002, 'spn': 2, 'tam': 3, 'sin': 500}\n"
          ]
        }
      ]
    },
    {
      "cell_type": "code",
      "source": [
        "# Define new dictionary \n",
        "country = {'eng':'london', 'spn': 'madrid', 'fr': 'paris'}\n",
        "\n",
        "# Add ' tower' to the value of existing key 'eng' in dictionary 'country' use country['eng'] += 'tower'\n",
        "country ['eng'] += ' tower'\n",
        "\n",
        "#Add new key 'ger' to 'country' and set its value to 'berlin, use country ['ger'] = 'berlin'\n",
        "country ['ger'] = 'berlin'\n",
        "print (country)\n",
        "\n",
        "# Try to add value 'tower' to key 'ger' with = and not += results in changing the value\n",
        "country ['ger'] = 'tower'\n",
        "print (country)"
      ],
      "metadata": {
        "colab": {
          "base_uri": "https://localhost:8080/"
        },
        "id": "9Vsb-fzk7Rt5",
        "outputId": "8423823a-54e0-48ab-e24f-6183cd129f75"
      },
      "execution_count": null,
      "outputs": [
        {
          "output_type": "stream",
          "name": "stdout",
          "text": [
            "{'eng': 'london tower', 'spn': 'madrid', 'fr': 'paris', 'ger': 'berlin'}\n",
            "{'eng': 'london tower', 'spn': 'madrid', 'fr': 'paris', 'ger': 'tower'}\n"
          ]
        }
      ]
    },
    {
      "cell_type": "markdown",
      "source": [
        "##Use If - Else construct to build dictionary"
      ],
      "metadata": {
        "id": "eC2q5HtNKJmG"
      }
    },
    {
      "cell_type": "code",
      "source": [
        "# Use If - Else construct to build dictionary\n",
        "\n",
        "# Initialize dictionary\n",
        "dd = {'a':3, 'b':11}\n",
        "\n",
        "# Define list containing some elments of dictionary\n",
        "ll = (['a', 'b', 'c', 'd', 'e'])\n",
        "\n",
        "# Iterate over values in list ll \n",
        "for x in ll:\n",
        "  # If key is in dictionary dd, add 1\n",
        "  if x in dd.keys():\n",
        "    dd [x] += 1\n",
        "    \n",
        "    # Else add the key to dd, set the value to 1\n",
        "  else:\n",
        "    dd [x] = 1\n",
        "\n",
        "# Print dictionary\n",
        "print (dd)"
      ],
      "metadata": {
        "colab": {
          "base_uri": "https://localhost:8080/"
        },
        "id": "gIOlm7-U7Iex",
        "outputId": "c741699c-9340-4e66-e138-c19e698501d3"
      },
      "execution_count": null,
      "outputs": [
        {
          "output_type": "stream",
          "name": "stdout",
          "text": [
            "{'a': 4, 'b': 12, 'c': 1, 'd': 1, 'e': 1}\n"
          ]
        }
      ]
    },
    {
      "cell_type": "markdown",
      "source": [
        "#**Dictionary of Dictionaries**\n",
        "### - Values can be dictionaries or other lists \n",
        "### - Dictionaries can be contained in lists or np arrays\n",
        "### - Select sub-dictionary values with [ ]  [ ] "
      ],
      "metadata": {
        "id": "SgsN8sqQpPmy"
      }
    },
    {
      "cell_type": "markdown",
      "source": [
        "##Create Dictionary of dictionaries manually"
      ],
      "metadata": {
        "id": "wwG5ajl_K2Ig"
      }
    },
    {
      "cell_type": "code",
      "source": [
        "# Create dictionary of dictionaries\n",
        "europe = { 'spain': { 'capital':'madrid', 'population':46.77 },\n",
        "           'france': { 'capital':'paris', 'population':66.03 },\n",
        "           'germany': { 'capital':'berlin', 'population':80.62 },\n",
        "           'norway': { 'capital':'oslo', 'population':5.084 } }\n",
        "\n",
        "\n",
        "# Print out details for spain\n",
        "print (europe ['spain'])\n",
        "\n",
        "# Print out the capital of France\n",
        "print(europe['france']['capital'])\n",
        "\n",
        "# Add sub-dictionary data for italy, capital rome and population 59.83 under key 'italy' # Cleaner Code\n",
        "europe['italy'] = {'capital':'rome', 'population':59.83}\n",
        "\n",
        "# Print updated dictionary europe\n",
        "print(europe)"
      ],
      "metadata": {
        "id": "KZ5HwCpTM-y7",
        "outputId": "cd47703c-5f58-48ff-fc55-4721db33d63c",
        "colab": {
          "base_uri": "https://localhost:8080/"
        }
      },
      "execution_count": null,
      "outputs": [
        {
          "output_type": "stream",
          "name": "stdout",
          "text": [
            "{'capital': 'madrid', 'population': 46.77}\n",
            "paris\n",
            "{'spain': {'capital': 'madrid', 'population': 46.77}, 'france': {'capital': 'paris', 'population': 66.03}, 'germany': {'capital': 'berlin', 'population': 80.62}, 'norway': {'capital': 'oslo', 'population': 5.084}, 'italy': {'capital': 'rome', 'population': 59.83}}\n",
            "{'country': ['United States', 'Australia', 'Japan', 'India', 'Russia', 'Morocco', 'Egypt'], 'drives_right': [True, False, False, False, True, True, True], 'cars_per_cap': [809, 731, 588, 18, 200, 70, 45]}\n"
          ]
        }
      ]
    },
    {
      "cell_type": "markdown",
      "source": [
        "##Create Dictionary of dictionaries from pre-defined collections\n",
        "### - Can create Pandas DataFrames from result"
      ],
      "metadata": {
        "id": "itOiJhjqLFnm"
      }
    },
    {
      "cell_type": "code",
      "source": [
        "# Pre-defined lists\n",
        "names = ['United States', 'Australia', 'Japan', 'India', 'Russia', 'Morocco', 'Egypt']\n",
        "dr =  [True, False, False, False, True, True, True]\n",
        "cpc = [809, 731, 588, 18, 200, 70, 45]\n",
        "\n",
        "# Create dictionary my_dict with three key:value pairs: my_dict\n",
        "my_dict={'country':names, 'drives_right':dr,'cars_per_cap': cpc}\n",
        "\n",
        "# Print dictionary\n",
        "print (my_dict)\n",
        "\n",
        "import pandas as pd\n",
        "\n",
        "# Keys provide column names and values are rows\n",
        "df = pd.DataFrame (my_dict)\n",
        "\n",
        "print (df)"
      ],
      "metadata": {
        "colab": {
          "base_uri": "https://localhost:8080/"
        },
        "id": "m9BDILz1LUT0",
        "outputId": "a6e34609-1f56-4803-f469-c3dc6adbea55"
      },
      "execution_count": 2,
      "outputs": [
        {
          "output_type": "stream",
          "name": "stdout",
          "text": [
            "{'country': ['United States', 'Australia', 'Japan', 'India', 'Russia', 'Morocco', 'Egypt'], 'drives_right': [True, False, False, False, True, True, True], 'cars_per_cap': [809, 731, 588, 18, 200, 70, 45]}\n",
            "         country  drives_right  cars_per_cap\n",
            "0  United States          True           809\n",
            "1      Australia         False           731\n",
            "2          Japan         False           588\n",
            "3          India         False            18\n",
            "4         Russia          True           200\n",
            "5        Morocco          True            70\n",
            "6          Egypt          True            45\n"
          ]
        }
      ]
    },
    {
      "cell_type": "markdown",
      "source": [
        "##Create Dictionary from pre-defined collections with user-defined function "
      ],
      "metadata": {
        "id": "j_oxif-CIrjs"
      }
    },
    {
      "cell_type": "code",
      "source": [
        "# Create 2 lists\n",
        "list1 = ['a', 'b']\n",
        "list2 = [['f', 'g', 'h', 'i', 'j'], ['k', 'l', 'm', 'n', 'o']]\n",
        "\n",
        "# Define function to create dict\n",
        "def lists2dict (list1, list2):\n",
        "  \"\"\"Returns dict where list1 provides keys and list2 provides values\"\"\"\n",
        "\n",
        "  # Zip lists: zipped_lists\n",
        "  zipped_lists = (zip(list1, list2))\n",
        "\n",
        "  # Create dict : rs_dict\n",
        "  rs_dict = dict (zipped_lists)\n",
        "\n",
        "  # return dict\n",
        "  return rs_dict\n",
        "\n",
        "# call function on list1 and list2\n",
        "rs_fxn = lists2dict(list1, list2)\n",
        "print (rs_fxn)\n",
        "\n",
        "# Create a Pandas DataFrame\n",
        "df_fxn = pd.DataFrame(rs_fxn)\n",
        "print (df_fxn)"
      ],
      "metadata": {
        "id": "ITFDCJLMI1ez",
        "outputId": "6302948a-eb07-476c-d82b-e6ac0fe5078b",
        "colab": {
          "base_uri": "https://localhost:8080/"
        }
      },
      "execution_count": 3,
      "outputs": [
        {
          "output_type": "stream",
          "name": "stdout",
          "text": [
            "{'a': ['f', 'g', 'h', 'i', 'j'], 'b': ['k', 'l', 'm', 'n', 'o']}\n",
            "   a  b\n",
            "0  f  k\n",
            "1  g  l\n",
            "2  h  m\n",
            "3  i  n\n",
            "4  j  o\n"
          ]
        }
      ]
    },
    {
      "cell_type": "markdown",
      "source": [
        "#**Pandas**\n",
        "### - Use pandas package\n",
        "### - Rectangular / Tabular / Table data is stored in a **Dataframe**\n",
        "### - Row = Observations with unique labels\n",
        "### - Columns = Each Row has same observations in Columns of different data types with unique labels\n",
        "### - Syntax : pd.DataFrame (list / dictionary)\n",
        "\n"
      ],
      "metadata": {
        "id": "p1SBPpDbtXh9"
      }
    },
    {
      "cell_type": "markdown",
      "source": [
        "##Create DataFrame manually\n",
        "### - Use predefined lists and dictionaries\n",
        "### - keys (cloumn labels)\n",
        "### - values (data, column by column)"
      ],
      "metadata": {
        "id": "ueUf8F5mwbVk"
      }
    },
    {
      "cell_type": "code",
      "source": [
        "# Define dictionary\n",
        "countries = {\n",
        "    'country' : ['Sri Lanka', 'India', 'Pakistan'], \n",
        "    'capital' : ['Colombo', 'New Delhi', 'Islamabad'],\n",
        "    'population' : [7, 5, 9]\n",
        "}\n",
        "\n",
        "import pandas as pd\n",
        "cou = pd.DataFrame (countries)\n",
        "\n",
        "print (cou)\n"
      ],
      "metadata": {
        "id": "5hsH1Aqdwq8-",
        "outputId": "bb882d0d-40b0-4016-f9db-f04a3f16c50d",
        "colab": {
          "base_uri": "https://localhost:8080/"
        }
      },
      "execution_count": null,
      "outputs": [
        {
          "output_type": "stream",
          "name": "stdout",
          "text": [
            "     country    capital  population\n",
            "0  Sri Lanka    Colombo           7\n",
            "1      India  New Delhi           5\n",
            "2   Pakistan  Islamabad           9\n"
          ]
        }
      ]
    },
    {
      "cell_type": "markdown",
      "source": [
        "##Create DataFrame from pre-defined lists coverted to dictionaries\n",
        "### - Can specify row labels with .index"
      ],
      "metadata": {
        "id": "EeJHmVRwNpGA"
      }
    },
    {
      "cell_type": "code",
      "source": [
        "# Pre-defined lists\n",
        "names = ['United States', 'Australia', 'Japan', 'India', 'Russia', 'Morocco', 'Egypt']\n",
        "dr =  [True, False, False, False, True, True, True]\n",
        "cpc = [809, 731, 588, 18, 200, 70, 45]\n",
        "\n",
        "# Import pandas as pd\n",
        "import pandas as pd\n",
        "\n",
        "# Create dictionary of dictionaries my_dict with three key:value pairs: country, drives_right and cars_per_cap\n",
        "my_dict={'country':names, 'drives_right':dr,'cars_per_cap': cpc}\n",
        "print (my_dict)\n",
        "\n",
        "# Build a DataFrame cars from my_dict: cars\n",
        "cars=pd.DataFrame(my_dict)\n",
        "\n",
        "# Print cars\n",
        "print(cars)\n",
        "\n",
        "# Define Row labels\n",
        "row_labels = ['US', 'AUS', 'JPN', 'IN', 'RU', 'MOR', 'EG']\n",
        "\n",
        "# Specify row labels of cars\n",
        "cars.index = row_labels\n",
        "\n",
        "# Print cars again\n",
        "print(cars)\n"
      ],
      "metadata": {
        "colab": {
          "base_uri": "https://localhost:8080/"
        },
        "id": "iU1vMQVpNxMg",
        "outputId": "669692d2-1b6d-4779-cdd9-d2e93777ed7c"
      },
      "execution_count": null,
      "outputs": [
        {
          "output_type": "stream",
          "name": "stdout",
          "text": [
            "{'country': ['United States', 'Australia', 'Japan', 'India', 'Russia', 'Morocco', 'Egypt'], 'drives_right': [True, False, False, False, True, True, True], 'cars_per_cap': [809, 731, 588, 18, 200, 70, 45]}\n",
            "         country  drives_right  cars_per_cap\n",
            "0  United States          True           809\n",
            "1      Australia         False           731\n",
            "2          Japan         False           588\n",
            "3          India         False            18\n",
            "4         Russia          True           200\n",
            "5        Morocco          True            70\n",
            "6          Egypt          True            45\n",
            "           country  drives_right  cars_per_cap\n",
            "US   United States          True           809\n",
            "AUS      Australia         False           731\n",
            "JPN          Japan         False           588\n",
            "IN           India         False            18\n",
            "RU          Russia          True           200\n",
            "MOR        Morocco          True            70\n",
            "EG           Egypt          True            45\n"
          ]
        }
      ]
    },
    {
      "cell_type": "markdown",
      "source": [
        "##Create DataFrame from CSV file\n",
        "### - Use pd.read_csv(csv-file)\n",
        "### - **index_col is argument of read_csv( ) to specify column in CSV file to be used as row label** "
      ],
      "metadata": {
        "id": "nSqO8g6JyaM1"
      }
    },
    {
      "cell_type": "code",
      "source": [
        "# Import pandas as pd\n",
        "import pandas as pd\n",
        "\n",
        "# Import the cars.csv data: cars from GitHub\n",
        "cars = pd.read_csv('https://raw.githubusercontent.com/nirmalaraj77/Python/main/cars.csv')\n",
        "\n",
        "# Print out cars\n",
        "print(cars)\n",
        "\n",
        "# Fix import by including index_col\n",
        "cars = pd.read_csv('https://raw.githubusercontent.com/nirmalaraj77/Python/main/cars.csv', index_col=0)\n",
        "\n",
        "# Print out cars again with correct row labels\n",
        "print (cars)"
      ],
      "metadata": {
        "id": "L3kMkif2yjSL",
        "outputId": "33f7cc0c-14fa-47a7-d1b0-82eff047a0ad",
        "colab": {
          "base_uri": "https://localhost:8080/"
        }
      },
      "execution_count": 9,
      "outputs": [
        {
          "output_type": "stream",
          "name": "stdout",
          "text": [
            "  Unnamed: 0  cars_per_cap        country  drives_right\n",
            "0         US           809  United States          True\n",
            "1        AUS           731      Australia         False\n",
            "2        JAP           588          Japan         False\n",
            "3         IN            18          India         False\n",
            "4         RU           200         Russia          True\n",
            "5        MOR            70        Morocco          True\n",
            "6         EG            45          Egypt          True\n",
            "     cars_per_cap        country  drives_right\n",
            "US            809  United States          True\n",
            "AUS           731      Australia         False\n",
            "JAP           588          Japan         False\n",
            "IN             18          India         False\n",
            "RU            200         Russia          True\n",
            "MOR            70        Morocco          True\n",
            "EG             45          Egypt          True\n"
          ]
        }
      ]
    },
    {
      "cell_type": "markdown",
      "source": [
        "##Index and select data from DataFrames with square brackets [ ] \n",
        "### - Single square brackets ['column_labels'] returns dtype Pandas Series\n",
        "### - Double square brckets [ ['column_labels'] ] returns dtype DataFrame\n",
        "### - Row access only through slicing with single square brackets [ : ] returns dtype DataFrame\n",
        "\n",
        "\n"
      ],
      "metadata": {
        "id": "L4y-Srul1mVE"
      }
    },
    {
      "cell_type": "code",
      "source": [
        "# Import pandas as pd\n",
        "import pandas as pd\n",
        "\n",
        "# Import brics.csv from GitHub url and include index _col\n",
        "brics = pd.read_csv('https://raw.githubusercontent.com/nirmalaraj77/Python/main/brics.csv', index_col = 0)\n",
        "\n",
        "# Access column 'country' with square brackets and print out with row labels: Result is a Pandas Series \n",
        "print ((brics ['country']), type (brics ['country']))\n",
        "\n",
        "# Access column 'country' with double square brackets and keep result in a DataFrame\n",
        "print ((brics [['country']]), type (brics [['country']]))\n",
        "\n",
        "# Access 2 columns with double square brackets and keep results in a DataFrame\n",
        "print ((brics [['country', 'capital']]), type (brics [['country', 'capital']]))\n",
        "\n",
        "# Access rows 1 - 4 from brics.csv \n",
        "print ((brics [: 4]), type(brics [: 4]))"
      ],
      "metadata": {
        "id": "AvxhG4p_1vkr",
        "outputId": "6a6ba25d-6ee6-4ecb-9aed-7d0d7cceae60",
        "colab": {
          "base_uri": "https://localhost:8080/"
        }
      },
      "execution_count": 10,
      "outputs": [
        {
          "output_type": "stream",
          "name": "stdout",
          "text": [
            "BR          Brazil\n",
            "RU          Russia\n",
            "IN           India\n",
            "CH           China\n",
            "SA    South Africa\n",
            "Name: country, dtype: object <class 'pandas.core.series.Series'>\n",
            "         country\n",
            "BR        Brazil\n",
            "RU        Russia\n",
            "IN         India\n",
            "CH         China\n",
            "SA  South Africa <class 'pandas.core.frame.DataFrame'>\n",
            "         country    capital\n",
            "BR        Brazil   Brasilia\n",
            "RU        Russia     Moscow\n",
            "IN         India  New Delhi\n",
            "CH         China    Beijing\n",
            "SA  South Africa   Pretoria <class 'pandas.core.frame.DataFrame'>\n",
            "   country    capital    area  population\n",
            "BR  Brazil   Brasilia   8.516       200.4\n",
            "RU  Russia     Moscow  17.100       143.5\n",
            "IN   India  New Delhi   3.286      1252.0\n",
            "CH   China    Beijing   9.597      1357.0 <class 'pandas.core.frame.DataFrame'>\n"
          ]
        }
      ]
    },
    {
      "cell_type": "markdown",
      "source": [
        "##Index and select data from DataFrames with loc \n",
        "### - **loc (label - based)**\n",
        "### - Single square brackets [ ] returns dtype Pandas Series on different lines\n",
        "### - Double square brckets [ [ ] ]  returns dtype dataFrame on tabular format\n",
        "### - Row access \n",
        "### - Column acess\n",
        "### - Row and Column access - Use colon : for all rows or all columns"
      ],
      "metadata": {
        "id": "vAHDqtSr6wAb"
      }
    },
    {
      "cell_type": "code",
      "source": [
        "# Import pandas as pd\n",
        "import pandas as pd\n",
        "\n",
        "# Import brics.csv from GitHub url and include index _col\n",
        "brics = pd.read_csv('https://raw.githubusercontent.com/nirmalaraj77/Python/main/brics.csv', index_col = 0)\n",
        "\n",
        "# Access row for RU with loc single brackets : Result is a Pandas Series\n",
        "print ((brics.loc ['RU']), type (brics.loc ['RU']))\n",
        "\n",
        "# Access row for RU with loc double brackets : Result is a DataFrame\n",
        "print ((brics.loc [['RU']]), type (brics.loc [['RU']]))\n",
        "\n",
        "# Access multiple rows with loc double brackets : Result is a DataFrame\n",
        "print (brics.loc [['RU', 'IN', 'CH']])\n",
        "\n",
        "# Access multiple rows and colums with loc double brackets : Result is a DataFrame\n",
        "print (brics.loc [['RU', 'IN', 'CH'], ['country', 'capital']])\n",
        "\n",
        "# Access all rows with colon : and multiple colums with loc double brackets : Result is a DataFrame\n",
        "print (brics.loc [:, ['country', 'capital']])"
      ],
      "metadata": {
        "id": "ULrgHo6_7Q8r",
        "outputId": "60f88e33-aef4-4c91-abb3-42266752f6c0",
        "colab": {
          "base_uri": "https://localhost:8080/"
        }
      },
      "execution_count": null,
      "outputs": [
        {
          "output_type": "stream",
          "name": "stdout",
          "text": [
            "country       Russia\n",
            "capital       Moscow\n",
            "area            17.1\n",
            "population     143.5\n",
            "Name: RU, dtype: object <class 'pandas.core.series.Series'>\n",
            "   country capital  area  population\n",
            "RU  Russia  Moscow  17.1       143.5 <class 'pandas.core.frame.DataFrame'>\n",
            "   country    capital    area  population\n",
            "RU  Russia     Moscow  17.100       143.5\n",
            "IN   India  New Delhi   3.286      1252.0\n",
            "CH   China    Beijing   9.597      1357.0\n",
            "   country    capital\n",
            "RU  Russia     Moscow\n",
            "IN   India  New Delhi\n",
            "CH   China    Beijing\n",
            "         country    capital\n",
            "BR        Brazil   Brasilia\n",
            "RU        Russia     Moscow\n",
            "IN         India  New Delhi\n",
            "CH         China    Beijing\n",
            "SA  South Africa   Pretoria\n"
          ]
        }
      ]
    },
    {
      "cell_type": "markdown",
      "source": [
        "##Index and select data from DataFrames with iloc \n",
        "### - **iloc (index - based)**\n",
        "### - Single square brackets [ ] returns dtype Pandas Series on different lines\n",
        "### - Double square brckets [ [ ] ]  returns dtype dataFrame on tabular format\n",
        "### - Row access \n",
        "### - Column acess\n",
        "### - Row and Column access - Use colon : for all rows or all columns"
      ],
      "metadata": {
        "id": "pwrTZk63HKoY"
      }
    },
    {
      "cell_type": "code",
      "source": [
        "# Access row for RU with iloc with index in double brackets : Result is a DataFrame\n",
        "print (brics.iloc [[1]])\n",
        "\n",
        "# Access multiple rows and colums with iloc with indexes for rows and columns in double brackets : Result is a DataFrame\n",
        "print (brics.iloc [[0, 1, 2], [0, 1]])\n",
        "\n",
        "# Access all rows with colon : and multiple colums with iloc double brackets : Result is a DataFrame\n",
        "print (brics.iloc [:, [0, 1]])"
      ],
      "metadata": {
        "id": "vjlmXuTHZYOw",
        "outputId": "047efa61-c893-4942-da84-821eb5609f22",
        "colab": {
          "base_uri": "https://localhost:8080/"
        }
      },
      "execution_count": null,
      "outputs": [
        {
          "output_type": "stream",
          "name": "stdout",
          "text": [
            "   country capital  area  population\n",
            "RU  Russia  Moscow  17.1       143.5\n",
            "   country    capital\n",
            "BR  Brazil   Brasilia\n",
            "RU  Russia     Moscow\n",
            "IN   India  New Delhi\n",
            "         country    capital\n",
            "BR        Brazil   Brasilia\n",
            "RU        Russia     Moscow\n",
            "IN         India  New Delhi\n",
            "CH         China    Beijing\n",
            "SA  South Africa   Pretoria\n"
          ]
        }
      ]
    },
    {
      "cell_type": "markdown",
      "source": [
        "##Unpack DataFrames with For loop and iterrows\n",
        "### - Returns label and row information as a Pandas Series"
      ],
      "metadata": {
        "id": "gBgxdLgaku1d"
      }
    },
    {
      "cell_type": "code",
      "source": [
        "# Import pandas as pd, brics.csv from GitHub url, brics. csv data as df brics and  include index_col\n",
        "import pandas as pd\n",
        "brics = pd.read_csv('https://raw.githubusercontent.com/nirmalaraj77/Python/main/brics.csv', index_col=0)\n",
        "\n",
        "# Use iterrows method to iterate each row and return label and row information (series)\n",
        "for lab, row in brics.iterrows () :\n",
        "  print (lab)\n",
        "  print (row)"
      ],
      "metadata": {
        "id": "mVxcHC6ulB--",
        "outputId": "dcc81119-8243-4e8d-a358-cfada828f1d6",
        "colab": {
          "base_uri": "https://localhost:8080/"
        }
      },
      "execution_count": 22,
      "outputs": [
        {
          "output_type": "stream",
          "name": "stdout",
          "text": [
            "BR\n",
            "country         Brazil\n",
            "capital       Brasilia\n",
            "area             8.516\n",
            "population       200.4\n",
            "Name: BR, dtype: object\n",
            "RU\n",
            "country       Russia\n",
            "capital       Moscow\n",
            "area            17.1\n",
            "population     143.5\n",
            "Name: RU, dtype: object\n",
            "IN\n",
            "country           India\n",
            "capital       New Delhi\n",
            "area              3.286\n",
            "population       1252.0\n",
            "Name: IN, dtype: object\n",
            "CH\n",
            "country         China\n",
            "capital       Beijing\n",
            "area            9.597\n",
            "population     1357.0\n",
            "Name: CH, dtype: object\n",
            "SA\n",
            "country       South Africa\n",
            "capital           Pretoria\n",
            "area                 1.221\n",
            "population           52.98\n",
            "Name: SA, dtype: object\n"
          ]
        }
      ]
    },
    {
      "cell_type": "markdown",
      "source": [
        "##**Filtering Pandas DataFrames**"
      ],
      "metadata": {
        "id": "f0-6URM7E0Gd"
      }
    },
    {
      "cell_type": "code",
      "source": [
        "# Import pandas as pd\n",
        "import pandas as pd\n",
        "\n",
        "# Import cars.csv and include correct index\n",
        "cars = pd.read_csv('https://raw.githubusercontent.com/nirmalaraj77/Python/main/cars.csv', index_col=0)\n",
        "print (cars)\n",
        "\n",
        "# Use drives_right column (boolean) to subset DataFrame\n",
        "print (cars [cars ['drives_right']])\n",
        "\n",
        "\n",
        "# Use iterrows method and subsetting to print lables and 'drives_right' column from rows\n",
        "for lab, row in cars.iterrows () :\n",
        "  print (lab + row ['country'])"
      ],
      "metadata": {
        "id": "zy0fulQXR0OD",
        "outputId": "dc71f041-9a78-428e-ebe8-e74c4f032cde",
        "colab": {
          "base_uri": "https://localhost:8080/"
        }
      },
      "execution_count": 28,
      "outputs": [
        {
          "output_type": "stream",
          "name": "stdout",
          "text": [
            "     cars_per_cap        country  drives_right\n",
            "US            809  United States          True\n",
            "AUS           731      Australia         False\n",
            "JAP           588          Japan         False\n",
            "IN             18          India         False\n",
            "RU            200         Russia          True\n",
            "MOR            70        Morocco          True\n",
            "EG             45          Egypt          True\n",
            "     cars_per_cap        country  drives_right\n",
            "US            809  United States          True\n",
            "RU            200         Russia          True\n",
            "MOR            70        Morocco          True\n",
            "EG             45          Egypt          True\n",
            "USUnited States\n",
            "AUSAustralia\n",
            "JAPJapan\n",
            "INIndia\n",
            "RURussia\n",
            "MORMorocco\n",
            "EGEgypt\n"
          ]
        }
      ]
    },
    {
      "cell_type": "code",
      "source": [
        "# Import pandas as pd\n",
        "import pandas as pd\n",
        "import numpy as np\n",
        "\n",
        "# Import cars.csv with correct index\n",
        "cars = pd.read_csv('https://raw.githubusercontent.com/nirmalaraj77/Python/main/cars.csv', index_col=0)\n",
        "\n",
        "# Create observations that have a cars_per_cap over 500\n",
        "print (cars [cars['cars_per_cap'] > 500])\n",
        "\n",
        "# Create observations with cars_per_cap between 100 and 500\n",
        "print (cars [np.logical_and (cars['cars_per_cap'] > 100, cars ['cars_per_cap'] < 500)])"
      ],
      "metadata": {
        "id": "TMPQwz0W4SLr",
        "outputId": "8fc741b5-beaf-4eb4-e062-6b445becfbca",
        "colab": {
          "base_uri": "https://localhost:8080/"
        }
      },
      "execution_count": null,
      "outputs": [
        {
          "output_type": "stream",
          "name": "stdout",
          "text": [
            "     cars_per_cap        country  drives_right\n",
            "US            809  United States          True\n",
            "AUS           731      Australia         False\n",
            "JAP           588          Japan         False\n",
            "    cars_per_cap country  drives_right\n",
            "RU           200  Russia          True\n"
          ]
        }
      ]
    },
    {
      "cell_type": "markdown",
      "source": [
        "##**Note - Add New Column to the DataFrame with For loop**\n",
        "### - Add new column to include data from each rows\n",
        "### - Use iterrows "
      ],
      "metadata": {
        "id": "ZShKUXaENwlA"
      }
    },
    {
      "cell_type": "code",
      "source": [
        "# Import pandas as pd, brics.csv from GitHub url, brics. csv data as df brics and  include index_col\n",
        "import pandas as pd\n",
        "url = 'https://raw.githubusercontent.com/nirmalaraj77/Python/main/brics.csv'\n",
        "brics = pd.read_csv(url, index_col=0)\n",
        "\n",
        "# Loop over DataFrame\n",
        "for lab, row in brics.iterrows () :\n",
        "  # Creating sequence on every iteration\n",
        "  brics.loc[lab, 'name_length'] = len(row ['country'])\n",
        "\n",
        "print (brics)"
      ],
      "metadata": {
        "id": "-zaXn6-5Noxj",
        "outputId": "521dcfb5-8bd2-4c4c-a2ba-44e51384d230",
        "colab": {
          "base_uri": "https://localhost:8080/"
        }
      },
      "execution_count": null,
      "outputs": [
        {
          "output_type": "stream",
          "name": "stdout",
          "text": [
            "         country    capital    area  population  name_length\n",
            "BR        Brazil   Brasilia   8.516      200.40          6.0\n",
            "RU        Russia     Moscow  17.100      143.50          6.0\n",
            "IN         India  New Delhi   3.286     1252.00          5.0\n",
            "CH         China    Beijing   9.597     1357.00          5.0\n",
            "SA  South Africa   Pretoria   1.221       52.98         12.0\n"
          ]
        }
      ]
    },
    {
      "cell_type": "markdown",
      "source": [
        "##**Note - Add New Column to the dataframe with apply function (no need for for loop)**\n",
        "### - Add new column to include data from each rows\n",
        "### - Use apply ( ) function\n",
        "### - Vectorised operations \n",
        "### - Apply () function adds new column from existing rows "
      ],
      "metadata": {
        "id": "82KohHxWKJIk"
      }
    },
    {
      "cell_type": "code",
      "source": [
        "# Import pandas as pd, brics.csv from GitHub url, brics. csv data as df brics and  include index_col\n",
        "import pandas as pd\n",
        "url = 'https://raw.githubusercontent.com/nirmalaraj77/Python/main/brics.csv'\n",
        "brics = pd.read_csv(url, index_col=0)\n",
        "\n",
        "# Select 'country' column from 'brics' dataframe and apply the len function\n",
        "\n",
        "# The apply () function takes the input from the country column and produces a new set\n",
        "\n",
        "# Use apply () function to add column : lengh_name and lenght of characters from country name\n",
        "\n",
        "brics ['name_length'] = brics ['country'].apply (len)\n",
        "print (brics)"
      ],
      "metadata": {
        "id": "YAoWc2SUKIGU",
        "outputId": "adbf862b-19fb-4ba7-dbe2-09daebdef82a",
        "colab": {
          "base_uri": "https://localhost:8080/"
        }
      },
      "execution_count": null,
      "outputs": [
        {
          "output_type": "stream",
          "name": "stdout",
          "text": [
            "         country    capital    area  population  name_length\n",
            "BR        Brazil   Brasilia   8.516      200.40            6\n",
            "RU        Russia     Moscow  17.100      143.50            6\n",
            "IN         India  New Delhi   3.286     1252.00            5\n",
            "CH         China    Beijing   9.597     1357.00            5\n",
            "SA  South Africa   Pretoria   1.221       52.98           12\n"
          ]
        }
      ]
    },
    {
      "cell_type": "markdown",
      "source": [
        "#**Logical Operators**\n",
        "### - Boolean is either 1 or 0, True or False\n",
        "### - Comparision Operators : - >, >=, <, <=, ==, !=\n",
        "<br>\n",
        "\n",
        "##**Boolean Operators**\n",
        "<br>\n",
        "\n",
        "### - **AND**\n",
        "### - True and True = True, True and False = False, False and True = False, False and False = False          \n",
        "<br>\n",
        "\n",
        "### - **OR**\n",
        "### - True or True = True, False or True = True, True or False = True, False or False = False\n",
        "<br>\n",
        "\n",
        "### - **NOT** \n",
        "### - Negates boolean value\n",
        "### - Has higher priority than AND and OR, it is executed first\n",
        "### - Not True = False, Not False =  True\n",
        "<br>"
      ],
      "metadata": {
        "id": "lbyK0ahOc7fD"
      }
    },
    {
      "cell_type": "code",
      "source": [
        "# AND\n",
        "print (True and True)\n",
        "print (True and False)\n",
        "print (False and True)\n",
        "print (False and False)"
      ],
      "metadata": {
        "id": "gfIs7nRfDAgA",
        "outputId": "5eb2b97a-b78a-4061-ad78-4fed94a23d05",
        "colab": {
          "base_uri": "https://localhost:8080/"
        }
      },
      "execution_count": null,
      "outputs": [
        {
          "output_type": "stream",
          "name": "stdout",
          "text": [
            "True\n",
            "False\n",
            "False\n",
            "False\n"
          ]
        }
      ]
    },
    {
      "cell_type": "code",
      "source": [
        "# OR\n",
        "print (True or True)\n",
        "print (True or False)\n",
        "print (False or True)\n",
        "print (False or False)"
      ],
      "metadata": {
        "id": "TUL2-I2KDQXc",
        "outputId": "4b1e6dab-517d-4923-d824-96fc930a1c94",
        "colab": {
          "base_uri": "https://localhost:8080/"
        }
      },
      "execution_count": null,
      "outputs": [
        {
          "output_type": "stream",
          "name": "stdout",
          "text": [
            "True\n",
            "True\n",
            "True\n",
            "False\n"
          ]
        }
      ]
    },
    {
      "cell_type": "code",
      "source": [
        "# NOT (flips boolean)\n",
        "print (not True) \n",
        "print (not False)\n",
        "\n",
        "print ((not True) == True) \n",
        "print ((not False) == True) \n",
        "print ((not True) == False) \n",
        "print ((not False) == False)"
      ],
      "metadata": {
        "id": "2g5iCLSiDjpR",
        "outputId": "e564fc64-a916-4dac-fb3e-aa5463850d3a",
        "colab": {
          "base_uri": "https://localhost:8080/"
        }
      },
      "execution_count": null,
      "outputs": [
        {
          "output_type": "stream",
          "name": "stdout",
          "text": [
            "False\n",
            "True\n",
            "False\n",
            "True\n",
            "True\n",
            "False\n"
          ]
        }
      ]
    },
    {
      "cell_type": "code",
      "source": [
        "#False, True\n",
        "\n",
        "print (1 > 2) \n",
        "print (1 < 2) \n",
        "print (False == (1 > 2))  \n",
        "print (True  == (2 > 1)) "
      ],
      "metadata": {
        "id": "soMqOU2BLVfa",
        "outputId": "dba36bf3-4d56-48d9-fc29-4e3b6d041433",
        "colab": {
          "base_uri": "https://localhost:8080/"
        }
      },
      "execution_count": null,
      "outputs": [
        {
          "output_type": "stream",
          "name": "stdout",
          "text": [
            "False\n",
            "True\n",
            "True\n",
            "True\n"
          ]
        }
      ]
    },
    {
      "cell_type": "code",
      "source": [
        "# Logical and Comparision Operators\n",
        "x = 12\n",
        "print (x > 3 and x < 15)\n",
        "\n",
        "y = 5 \n",
        "print (y < 7 or y > 15)\n",
        "\n",
        "# Compare Arrays\n",
        "a_np = np.array ([1,3,5,7,9])\n",
        "b_np = np. array([9, 8, 7, 6, 5])\n",
        "print (a_np > b_np)\n",
        "print (a_np != b_np)"
      ],
      "metadata": {
        "id": "WcR5QBG_fYaV",
        "outputId": "6119aa8c-becb-491b-d3a3-2b8be7ba66dc",
        "colab": {
          "base_uri": "https://localhost:8080/"
        }
      },
      "execution_count": null,
      "outputs": [
        {
          "output_type": "stream",
          "name": "stdout",
          "text": [
            "True\n",
            "True\n",
            "[False False False  True  True]\n",
            "[ True  True  True  True  True]\n"
          ]
        }
      ]
    },
    {
      "cell_type": "code",
      "source": [
        "# AND, OR\n",
        "\n",
        "# Define variables\n",
        "my_kitchen = 18.0\n",
        "your_kitchen = 14.0\n",
        "\n",
        "# my_kitchen bigger than 10 and smaller than 18? False\n",
        "print (my_kitchen > 10 and my_kitchen < 18)\n",
        "\n",
        "# my_kitchen smaller than 14 or bigger than 17? True\n",
        "print (my_kitchen <14 or my_kitchen >17)\n",
        "\n",
        "# Double my_kitchen smaller than triple your_kitchen? True\n",
        "print (my_kitchen * 2 < your_kitchen * 3)"
      ],
      "metadata": {
        "id": "aLGl14IO_E2Z",
        "outputId": "9e065c08-060c-4978-df07-11e00e23015a",
        "colab": {
          "base_uri": "https://localhost:8080/"
        }
      },
      "execution_count": null,
      "outputs": [
        {
          "output_type": "stream",
          "name": "stdout",
          "text": [
            "False\n",
            "True\n",
            "True\n"
          ]
        }
      ]
    },
    {
      "cell_type": "code",
      "source": [
        "# AND , OR, NOT\n",
        "\n",
        "# Define variables\n",
        "x = 8\n",
        "y = 9\n",
        "\n",
        "# x < 3 is False\n",
        "print (x < 3) \n",
        "\n",
        "# Not x < 3 is True\n",
        "print (not (x < 3))\n",
        "\n",
        "# y > 14 is False\n",
        "print ( y > 14)\n",
        "\n",
        "# y > 10 is False\n",
        "print (y > 10)\n",
        "\n",
        "# y > 14 or y > 10 is False\n",
        "print(y > 14 or y > 10)\n",
        "\n",
        "# Not (y > 14 or y > 10) is True\n",
        "print (not(y > 14 or y > 10))\n",
        "\n",
        "# Not x < 3 (True) and not (y > 14 or y > 10) (True) is True\n",
        "print (not(x < 3) and not(y > 14 or y > 10))\n",
        "\n",
        "# NOT (Not x < 3 (True) and not (y > 14 or y > 10) (True)) is False\n",
        "print (not (not (x < 3) and not(y > 14 or y > 10)))"
      ],
      "metadata": {
        "id": "24COGg9a_RAD",
        "outputId": "946b52c5-3cbe-46d8-c096-d49099c14d07",
        "colab": {
          "base_uri": "https://localhost:8080/"
        }
      },
      "execution_count": null,
      "outputs": [
        {
          "output_type": "stream",
          "name": "stdout",
          "text": [
            "False\n",
            "True\n",
            "False\n",
            "False\n",
            "False\n",
            "True\n",
            "True\n",
            "False\n"
          ]
        }
      ]
    },
    {
      "cell_type": "markdown",
      "source": [
        "#**Control Flow with Conditional Statements**\n",
        "### - If\n",
        "### - Elif\n",
        "### - Else\n",
        "### - Starts with 'If', tries 'Elif' and finishes with 'Else' until one evaluates to True\n"
      ],
      "metadata": {
        "id": "eeWUlYHUIcE3"
      }
    },
    {
      "cell_type": "code",
      "source": [
        "# Execute IF and finish with ELSE if IF does not hold\n",
        "\n",
        "# Input Value\n",
        "x = int (input ('Your value: '))\n",
        "\n",
        "# Check if input is even and print 'Even'\n",
        "if x % 2 == 0:\n",
        "  print (str(x), ' is even')\n",
        "\n",
        "# Anything else, print 'Odd'\n",
        "else:  \n",
        "  print (str(x), ' is odd')"
      ],
      "metadata": {
        "id": "135nE-tXJq-a",
        "outputId": "5a3ad71c-cf5a-4893-d64a-cb249434bb21",
        "colab": {
          "base_uri": "https://localhost:8080/"
        }
      },
      "execution_count": null,
      "outputs": [
        {
          "output_type": "stream",
          "name": "stdout",
          "text": [
            "Your value: 4\n",
            "4  is even\n"
          ]
        }
      ]
    },
    {
      "cell_type": "code",
      "source": [
        "# Execute IF, execute ELIF if IF does not hold and execute ELSE if ELIF does not hold\n",
        "\n",
        "# Eg.: Check if int is divisible by 2 or 3 \n",
        "\n",
        "\n",
        "# Input Value\n",
        "x = int (input ('Your value: '))\n",
        "\n",
        "# Check if x divisible by 2 and print 'x is divisble by 2'\n",
        "if x % 2 ==0:\n",
        "  print (str (x), ' is divisible by 2')\n",
        "\n",
        "# Check if x divisible by 3 and print 'x is divisble by 3'\n",
        "elif x % 3 ==0:\n",
        "  print (str (x), ' is divisible by 3')\n",
        "\n",
        "# Anything else, print ' x is not diviable by 2 or 3'\n",
        "else:\n",
        "  print (str (x), ' is not divisible by 2 or 3')"
      ],
      "metadata": {
        "id": "2qldUhMzL9fN",
        "outputId": "faaa5537-b86a-415f-8107-371368e17be6",
        "colab": {
          "base_uri": "https://localhost:8080/"
        }
      },
      "execution_count": null,
      "outputs": [
        {
          "output_type": "stream",
          "name": "stdout",
          "text": [
            "Your value: 5\n",
            "5  is not divisible by 2 or 3\n"
          ]
        }
      ]
    },
    {
      "cell_type": "code",
      "source": [
        "# Input Value\n",
        "\n",
        "# Eg.: Check whether float is big if greater than 50, medium if 50  and small if less than 50\n",
        "x = float (input ('Your Value: ')) \n",
        "\n",
        "#Check if input greater than 50 and print 'Big'\n",
        "if x > 50.0: \n",
        "  print ('Big')\n",
        "\n",
        "#Else check if input is equal to 25 and print 'Medium'\n",
        "elif x == 50.0: \n",
        "  print ('Medium')\n",
        "\n",
        "#Anything else, print 'Small'\n",
        "else: \n",
        "  print ('Small')"
      ],
      "metadata": {
        "id": "l9F2YphjM8i8",
        "outputId": "684d6583-fa62-426a-aea9-03f83d3f15fd",
        "colab": {
          "base_uri": "https://localhost:8080/"
        }
      },
      "execution_count": null,
      "outputs": [
        {
          "output_type": "stream",
          "name": "stdout",
          "text": [
            "Your Value: 47.88888\n",
            "Small\n"
          ]
        }
      ]
    },
    {
      "cell_type": "code",
      "source": [
        "# Combine multiple control flows\n",
        "\n",
        "# Input room name and area in sq. mt.\n",
        "room = str (input ('Room name: '))\n",
        "area = float (input ('Room area (10 - 20 sq. mt).: '))\n",
        "\n",
        "# if-elif-else construct for room\n",
        "if room == \"kit\" :\n",
        "    print(\"looking around in the kitchen.\")\n",
        "elif room == 'bed':\n",
        "    print (\"looking around in the bedroom.\")\n",
        "else :\n",
        "    print(\"looking around elsewhere.\")\n",
        "\n",
        "\n",
        "# if-elif-else construct for area\n",
        "if area > 15 :\n",
        "  print(\"big place!\")\n",
        "elif area > 10 :\n",
        "  print (\"medium size, nice!\")\n",
        "else :\n",
        "    print('pretty small.')"
      ],
      "metadata": {
        "id": "Mm66d9jTPF1t",
        "outputId": "96fb95b8-0c54-4638-cd57-2c79710a719b",
        "colab": {
          "base_uri": "https://localhost:8080/"
        }
      },
      "execution_count": null,
      "outputs": [
        {
          "output_type": "stream",
          "name": "stdout",
          "text": [
            "Room name: as\n",
            "Room area (10 - 20 sq. mt).: 5\n",
            "looking around elsewhere.\n",
            "pretty small.\n"
          ]
        }
      ]
    },
    {
      "cell_type": "markdown",
      "source": [
        "#**While Loop**\n",
        "### - Continues to execute expression until condition is met\n",
        "\n"
      ],
      "metadata": {
        "id": "peUq0ZxbWWMm"
      }
    },
    {
      "cell_type": "code",
      "source": [
        "# error = 50, keep calculating error / 4 and print error until value is less than 1\n",
        "error = 50\n",
        "while error > 1 :\n",
        "    error = error / 4\n",
        "    print (error)"
      ],
      "metadata": {
        "colab": {
          "base_uri": "https://localhost:8080/"
        },
        "id": "U3_ktaO8YX1A",
        "outputId": "44fe89ae-2c9f-4ae9-bd0f-d58cd67e00d0"
      },
      "execution_count": null,
      "outputs": [
        {
          "output_type": "stream",
          "name": "stdout",
          "text": [
            "12.5\n",
            "3.125\n",
            "0.78125\n"
          ]
        }
      ]
    },
    {
      "cell_type": "code",
      "source": [
        "# Number = 0, print number and add 1 to number until number is less than 10\n",
        "# NOTE: PRINTS 0 - 9 AS WHILE LOOP PRINTS NUMBER AND THEN UPDATES\n",
        "number = 0\n",
        "while number < 10 :\n",
        "    print (number)\n",
        "    number += 1"
      ],
      "metadata": {
        "id": "nTHSq-g9fAJr",
        "outputId": "af2ef588-3dcd-416f-a740-7cbb1c1ad7c2",
        "colab": {
          "base_uri": "https://localhost:8080/"
        }
      },
      "execution_count": null,
      "outputs": [
        {
          "output_type": "stream",
          "name": "stdout",
          "text": [
            "0\n",
            "1\n",
            "2\n",
            "3\n",
            "4\n",
            "5\n",
            "6\n",
            "7\n",
            "8\n",
            "9\n"
          ]
        }
      ]
    },
    {
      "cell_type": "code",
      "source": [
        "# number = 0, add 1 to number and print until number is less than 10\n",
        "# NOTE: PRINTS 1 - 10 AS WHILE LOOP UPDATES NUMBER AND THEN PRINTS \n",
        "\n",
        "number = 0\n",
        "while number < 10 :\n",
        "      number += 1\n",
        "      print (number)"
      ],
      "metadata": {
        "id": "0sSrSVT5fOes",
        "outputId": "9b3144db-025c-4ff2-9b00-d79ba32e26ee",
        "colab": {
          "base_uri": "https://localhost:8080/"
        }
      },
      "execution_count": null,
      "outputs": [
        {
          "output_type": "stream",
          "name": "stdout",
          "text": [
            "1\n",
            "2\n",
            "3\n",
            "4\n",
            "5\n",
            "6\n",
            "7\n",
            "8\n",
            "9\n",
            "10\n"
          ]
        }
      ]
    },
    {
      "cell_type": "code",
      "source": [
        "# Initialize offset\n",
        "offset = 8      \n",
        "\n",
        "# Code the while loop, print 'correcting' and deduct offset by 1 unril offset is > 0, then print 'offset'\n",
        "while offset > 0 :\n",
        "    print(\"correcting...\")\n",
        "    offset = offset - 1         \n",
        "    print(offset)"
      ],
      "metadata": {
        "colab": {
          "base_uri": "https://localhost:8080/"
        },
        "id": "jjfoiBiMY6ps",
        "outputId": "9168f24e-4613-4665-f841-cbdbca83a016"
      },
      "execution_count": null,
      "outputs": [
        {
          "output_type": "stream",
          "name": "stdout",
          "text": [
            "correcting...\n",
            "7\n",
            "correcting...\n",
            "6\n",
            "correcting...\n",
            "5\n",
            "correcting...\n",
            "4\n",
            "correcting...\n",
            "3\n",
            "correcting...\n",
            "2\n",
            "correcting...\n",
            "1\n",
            "correcting...\n",
            "0\n"
          ]
        }
      ]
    },
    {
      "cell_type": "markdown",
      "source": [
        "##If-Elif-Else within While loop"
      ],
      "metadata": {
        "id": "idRsYlnnqjFn"
      }
    },
    {
      "cell_type": "code",
      "source": [
        "# Above while loop to correct offset will not work if offset starts with negative\n",
        "# Set while loop to run while offset is not equal to 0\n",
        "# Inside while loop, construct if-elif-else statement to decrease offset by 1 if offset > 0\n",
        "# Increase offset by 1 if offset is < 0 \n",
        "\n",
        "# Initialize offset\n",
        "offset = -21\n",
        "\n",
        "# Code while loop to print 'corrrecting' while offset is not 0\n",
        "while offset != 0 :\n",
        "    print(\"correcting...\")\n",
        "# Construct if statement to decrease offset by 1 if offset > 0\n",
        "    if offset > 0 :\n",
        "      offset = offset - 1 \n",
        "# Construct else statement to increase offset by 1 if offset < 0       \n",
        "    else : \n",
        "      offset = offset + 1    \n",
        "# Complete while loop to print offset value when it reaches 0\n",
        "    print(offset)"
      ],
      "metadata": {
        "colab": {
          "base_uri": "https://localhost:8080/"
        },
        "id": "TIOZ_PM7mzmz",
        "outputId": "2df00a83-3986-4154-e083-87b156dc53dc"
      },
      "execution_count": null,
      "outputs": [
        {
          "output_type": "stream",
          "name": "stdout",
          "text": [
            "correcting...\n",
            "-20\n",
            "correcting...\n",
            "-19\n",
            "correcting...\n",
            "-18\n",
            "correcting...\n",
            "-17\n",
            "correcting...\n",
            "-16\n",
            "correcting...\n",
            "-15\n",
            "correcting...\n",
            "-14\n",
            "correcting...\n",
            "-13\n",
            "correcting...\n",
            "-12\n",
            "correcting...\n",
            "-11\n",
            "correcting...\n",
            "-10\n",
            "correcting...\n",
            "-9\n",
            "correcting...\n",
            "-8\n",
            "correcting...\n",
            "-7\n",
            "correcting...\n",
            "-6\n",
            "correcting...\n",
            "-5\n",
            "correcting...\n",
            "-4\n",
            "correcting...\n",
            "-3\n",
            "correcting...\n",
            "-2\n",
            "correcting...\n",
            "-1\n",
            "correcting...\n",
            "0\n"
          ]
        }
      ]
    },
    {
      "cell_type": "markdown",
      "source": [
        "#**For Loop**\n",
        "### - For each variable in sequence, execute expression\n",
        "### - Use to iterate elements of lists, tuples, strings\n",
        "### - No access to index"
      ],
      "metadata": {
        "id": "EQdPmzcwqq_T"
      }
    },
    {
      "cell_type": "code",
      "source": [
        "# For Loop prints variable i for every element in list \n",
        "for i in [0, 1, 2]:\n",
        "  print (i)"
      ],
      "metadata": {
        "colab": {
          "base_uri": "https://localhost:8080/"
        },
        "id": "o9lre0fSrFUZ",
        "outputId": "8c28020e-57f8-49ff-bad2-2a1564e16242"
      },
      "execution_count": null,
      "outputs": [
        {
          "output_type": "stream",
          "name": "stdout",
          "text": [
            "0\n",
            "1\n",
            "2\n"
          ]
        }
      ]
    },
    {
      "cell_type": "code",
      "source": [
        "# For loop prints elements of list fam\n",
        "fam = ['Shana', 'Hari', 'Raji', 'Nirmalaraj']\n",
        "for member in fam :\n",
        "  print (member)"
      ],
      "metadata": {
        "id": "HgCFRUc3frLy",
        "outputId": "b887d7c1-12cd-4558-edc2-e9b24ba9026b",
        "colab": {
          "base_uri": "https://localhost:8080/"
        }
      },
      "execution_count": null,
      "outputs": [
        {
          "output_type": "stream",
          "name": "stdout",
          "text": [
            "Shana\n",
            "Hari\n",
            "Raji\n",
            "Nirmalaraj\n"
          ]
        }
      ]
    },
    {
      "cell_type": "code",
      "source": [
        "# For loop prints elements of tuple fam\n",
        "fam = ('Shana', 'Hari', 'Raji', 'Nirmalaraj')\n",
        "for member in fam :\n",
        "  print (member)"
      ],
      "metadata": {
        "id": "ZIlLENO6frCF",
        "outputId": "139f9cc4-8576-4021-a7ec-c0db0b6567e1",
        "colab": {
          "base_uri": "https://localhost:8080/"
        }
      },
      "execution_count": null,
      "outputs": [
        {
          "output_type": "stream",
          "name": "stdout",
          "text": [
            "Shana\n",
            "Hari\n",
            "Raji\n",
            "Nirmalaraj\n"
          ]
        }
      ]
    },
    {
      "cell_type": "markdown",
      "source": [
        "##**Note - For loop with enumerate iterates list with index**"
      ],
      "metadata": {
        "id": "QMhGTxDZIcYL"
      }
    },
    {
      "cell_type": "code",
      "source": [
        "# For loop with enumerate iterates elements of list fam with index\n",
        "fam = ['Shana', 'Hari', 'Raji', 'Nirmalaraj']\n",
        "for x, y in enumerate (fam) :\n",
        "  print (x, y)"
      ],
      "metadata": {
        "id": "SCZ2UJQ5fq1P",
        "outputId": "3bfd1701-f300-49fc-8e65-8631d77faf31",
        "colab": {
          "base_uri": "https://localhost:8080/"
        }
      },
      "execution_count": null,
      "outputs": [
        {
          "output_type": "stream",
          "name": "stdout",
          "text": [
            "0 Shana\n",
            "1 Hari\n",
            "2 Raji\n",
            "3 Nirmalaraj\n"
          ]
        }
      ]
    },
    {
      "cell_type": "code",
      "source": [
        "# For loop iterates over string. Can use string methods on output\n",
        "string = str (input ('Your String :'))\n",
        "for m in string :\n",
        "  print (m.capitalize())"
      ],
      "metadata": {
        "id": "gGVtL0V4cYCK",
        "outputId": "f7dc129a-0cbe-47f9-f32c-3260e51ac643",
        "colab": {
          "base_uri": "https://localhost:8080/"
        }
      },
      "execution_count": null,
      "outputs": [
        {
          "output_type": "stream",
          "name": "stdout",
          "text": [
            "Your String :amma\n",
            "A\n",
            "M\n",
            "M\n",
            "A\n"
          ]
        }
      ]
    },
    {
      "cell_type": "markdown",
      "source": [
        "#**Random Numbers**\n",
        "### - Use random package from Numpy  \n",
        "### - Rand generates random float between 0 and 1\n",
        "### - Randint generates random integers between 2 ints\n",
        "### - Random Genarators use mathematical formula from random seeds"
      ],
      "metadata": {
        "id": "qOCfenbU7N5v"
      }
    },
    {
      "cell_type": "code",
      "source": [
        "# Import numpy\n",
        "import numpy as np\n",
        "\n",
        "# Random float\n",
        "print (np.random.rand())\n",
        "\n",
        "# Random integer between 1 - 5\n",
        "print (np.random.randint(1, 6))\n",
        "\n",
        "# Simulate x times with For loop\n",
        "for i in range (3) :\n",
        "  print (np.random.rand())\n",
        "  print (np.random.randint (1, 6))\n"
      ],
      "metadata": {
        "id": "hwKi405Q73T1",
        "outputId": "6da3c4d1-8d1a-4598-c547-7e85adf1a8b7",
        "colab": {
          "base_uri": "https://localhost:8080/"
        }
      },
      "execution_count": null,
      "outputs": [
        {
          "output_type": "stream",
          "name": "stdout",
          "text": [
            "0.05510470406273782\n",
            "2\n",
            "0.2766999863748947\n",
            "3\n",
            "0.7266724063015315\n",
            "3\n",
            "0.24342736671698995\n",
            "1\n"
          ]
        }
      ]
    },
    {
      "cell_type": "markdown",
      "source": [
        "##Setting manual seed generates same pseudo-random numbers  \n",
        "### - Seed can be any number\n",
        "### - Manul seed ensures reproducibility"
      ],
      "metadata": {
        "id": "rQX65ZkwH1_4"
      }
    },
    {
      "cell_type": "code",
      "source": [
        "# Pseudo-random results with manual seed\n",
        "\n",
        "# Seed can be set to any number \n",
        "import numpy as np\n",
        "np.random.seed (711)\n",
        "\n",
        "# Simulate x times with For loop\n",
        "for i in range (3) :\n",
        "  print (np.random.rand())\n",
        "  print (np.random.randint (1, 6))"
      ],
      "metadata": {
        "id": "eOnqblyW9U-Q",
        "outputId": "cafc830c-c180-4266-e8c7-a899eb349f1b",
        "colab": {
          "base_uri": "https://localhost:8080/"
        }
      },
      "execution_count": null,
      "outputs": [
        {
          "output_type": "stream",
          "name": "stdout",
          "text": [
            "0.55735645227134\n",
            "3\n",
            "0.4117694455415377\n",
            "1\n",
            "0.6069960086668053\n",
            "4\n"
          ]
        }
      ]
    },
    {
      "cell_type": "markdown",
      "source": [
        "##Simulate Coin Toss 1\n",
        "### - Print Heads or Tails"
      ],
      "metadata": {
        "id": "1PryTxBoCpkF"
      }
    },
    {
      "cell_type": "code",
      "source": [
        "# Simulate Coin Toss using if-elif else construct \n",
        "# Use randint to randomly generate 0 or 1\n",
        "# Use For loop to simulate results over given number of times\n",
        "# Set seed to reproduce same results\n",
        "\n",
        "import numpy as np\n",
        "np.random.seed (555)\n",
        "\n",
        "for x in range (10) :\n",
        "  coin = np.random.randint (0, 2)\n",
        "  if coin == 0:\n",
        "    print ('Heads')\n",
        "  else:\n",
        "    print ('Tails')"
      ],
      "metadata": {
        "id": "n-LidawF9UQb",
        "outputId": "21e06078-2cc1-40b7-feff-ef81fba2f00b",
        "colab": {
          "base_uri": "https://localhost:8080/"
        }
      },
      "execution_count": null,
      "outputs": [
        {
          "output_type": "stream",
          "name": "stdout",
          "text": [
            "Heads\n",
            "Heads\n",
            "Tails\n",
            "Tails\n",
            "Heads\n",
            "Tails\n",
            "Heads\n",
            "Heads\n",
            "Tails\n",
            "Tails\n"
          ]
        }
      ]
    },
    {
      "cell_type": "markdown",
      "source": [
        "##Simulate Coin Toss 2\n",
        "### - Build list to update results using For loop for Coin Toss"
      ],
      "metadata": {
        "id": "axeinKRtFliM"
      }
    },
    {
      "cell_type": "code",
      "source": [
        "# Use For loop to build list to update results\n",
        "\n",
        "# Import numpy and set seed\n",
        "import numpy as np\n",
        "np.random.seed (124)\n",
        "\n",
        "# Initiate empty list outcomes\n",
        "outcomes = []\n",
        "\n",
        "# Simulate coin toss 10 times with For loop\n",
        "# Append Outcomes list with results\n",
        "for x in range (10):\n",
        "  coin = np.random.randint (0, 2)\n",
        "  if coin == 0:\n",
        "    outcomes.append ('heads')\n",
        "  else:\n",
        "    outcomes.append ('tails')\n",
        "\n",
        "print (outcomes)"
      ],
      "metadata": {
        "colab": {
          "base_uri": "https://localhost:8080/"
        },
        "id": "Mo64U1iaDIBC",
        "outputId": "9cd739f2-4e1a-4a1b-ab5f-73c24b69a002"
      },
      "execution_count": null,
      "outputs": [
        {
          "output_type": "stream",
          "name": "stdout",
          "text": [
            "['heads', 'heads', 'tails', 'tails', 'heads', 'tails', 'heads', 'heads', 'heads', 'heads']\n"
          ]
        }
      ]
    },
    {
      "cell_type": "markdown",
      "source": [
        "##Simulate Coin Toss 3 \n",
        "### - Build Random Walk list by appending total number of tails over given number of throws"
      ],
      "metadata": {
        "id": "xc3svbszKO3r"
      }
    },
    {
      "cell_type": "code",
      "source": [
        "# Track total number of results to simulate Random Walk\n",
        "\n",
        "# Import numpy and set seed\n",
        "import numpy as np\n",
        "np.random.seed (124)\n",
        "\n",
        "# Initiate empty list tails starting with 0\n",
        "tails = [0]\n",
        "\n",
        "# Add results of tails to list for each simulation to produce Random walk\n",
        "\n",
        "# USE x AS INDEX TO LIST TAILS AND INCREMENT 1 TO PREVIOUS RESULT ON EACH THROW\n",
        "\n",
        "# IF TAIL IS THROWN, ADD 1 TO PREVIOUS COUNT AND APPEND TO TAILS LIST\n",
        "for x in range (10) :\n",
        "  coin = np.random.randint (0, 2)\n",
        "  tails.append (tails [x] + coin)\n",
        "\n",
        "\n",
        "# FINAL RESULT IS HOW MANY TIMES TAILS WERE THROWN over 10 TOSSES\n",
        "print (tails)"
      ],
      "metadata": {
        "colab": {
          "base_uri": "https://localhost:8080/"
        },
        "id": "qnPhjUBtKcj9",
        "outputId": "ab353b42-a57e-4e14-a2b2-942e369fb26d"
      },
      "execution_count": null,
      "outputs": [
        {
          "output_type": "stream",
          "name": "stdout",
          "text": [
            "[0, 0, 0, 1, 2, 2, 3, 3, 3, 3, 3]\n"
          ]
        }
      ]
    },
    {
      "cell_type": "markdown",
      "source": [
        "##Simulate Coin Toss 4\n",
        "### - Simulate tossing coins 10 times over 100,000 times\n",
        "### - Get distribution of random walks\n",
        "### - Histogram shows that around 25,000 times, ended up with tails more than 5 times"
      ],
      "metadata": {
        "id": "fB3Kzrm7WnKm"
      }
    },
    {
      "cell_type": "code",
      "source": [
        "import numpy as np\n",
        "\n",
        "# Number of times tails are thrown 10 times if simulated 100,000 times \n",
        "# Initiate empty list final_throws\n",
        "final_tails = []\n",
        "\n",
        "for x in range (100000) :\n",
        "  tails = [0]\n",
        "  for x in range (10) :\n",
        "    coin = np.random.randint (0, 2) # Result is 0 or 1\n",
        "    # IF TAIL IS THROWN, ADD 1 TO PREVIOUS COUNT AND APPEND TO TAILS LIST\n",
        "    # USE x AS INDEX TO LIST TAILS AND INCREMENT 1 TO PREVIOUS RESULT ON EACH THROW\n",
        "    tails.append (tails [x] + coin)\n",
        "\n",
        "# Append last number of tails to final_tails\n",
        "  final_tails.append (tails [-1])\n",
        "\n",
        "# Make histogram to show distribution of final tails\n",
        "# Final tails contain 100,000 elements\n",
        "# Each element in the final result of how many tails were tossed in 10 tosses\n",
        "import matplotlib.pyplot as plt\n",
        "plt.hist (final_tails, bins = 10)\n",
        "plt.show()\n"
      ],
      "metadata": {
        "colab": {
          "base_uri": "https://localhost:8080/",
          "height": 265
        },
        "id": "2bNb2LtXWmOc",
        "outputId": "5c867048-c621-4a7e-8fd0-6713a8ac036b"
      },
      "execution_count": null,
      "outputs": [
        {
          "output_type": "display_data",
          "data": {
            "text/plain": [
              "<Figure size 432x288 with 1 Axes>"
            ],
            "image/png": "[encoded data removed]"
          },
          "metadata": {
            "needs_background": "light"
          }
        }
      ]
    },
    {
      "cell_type": "markdown",
      "source": [
        "#**User-Defined Functions**\n",
        "### - Parameters inside paranthesis\n",
        "### - Define and call function with unique name \n",
        "### - Docstrings are documentation and describe what funcion does\n",
        "### - Placed immediately after function header within triple quotation marks\n",
        "### - Call function name with ( )"
      ],
      "metadata": {
        "id": "BFYb9qFkmT90"
      }
    },
    {
      "cell_type": "markdown",
      "source": [
        "##Functions that return single values with no parameters\n"
      ],
      "metadata": {
        "id": "ReA0nLOX4a9t"
      }
    },
    {
      "cell_type": "code",
      "source": [
        "# Define function square \n",
        "def square () :\n",
        "  \"\"\"Defines square of number 4\"\"\"\n",
        "  # Function Body # Cleaner Code\n",
        "  print (4 ** 2)\n",
        "\n",
        "# Call function\n",
        "square()"
      ],
      "metadata": {
        "colab": {
          "base_uri": "https://localhost:8080/"
        },
        "id": "h1z0G2eVmYqx",
        "outputId": "aa371082-4b46-4f78-8064-6e063e8f3aaa"
      },
      "execution_count": null,
      "outputs": [
        {
          "output_type": "stream",
          "name": "stdout",
          "text": [
            "16\n"
          ]
        }
      ]
    },
    {
      "cell_type": "code",
      "source": [
        "# Define function shout\n",
        "def shout () :\n",
        "    \"\"\"Print a string with three exclamation marks\"\"\"\n",
        "    # Concatenate the strings: shout_word\n",
        "    shout_word = 'congratulations'+'!!!'\n",
        "    print (shout_word)\n",
        "\n",
        "# Call shout\n",
        "shout()"
      ],
      "metadata": {
        "id": "OyQt2ZviER9U",
        "outputId": "9b5a018c-2fa5-4bb0-acc6-57c41c51dd71",
        "colab": {
          "base_uri": "https://localhost:8080/"
        }
      },
      "execution_count": null,
      "outputs": [
        {
          "output_type": "stream",
          "name": "stdout",
          "text": [
            "congratulations!!!\n"
          ]
        }
      ]
    },
    {
      "cell_type": "markdown",
      "source": [
        "##Functions that return single values with single parameters\n"
      ],
      "metadata": {
        "id": "0twwaEszDj7Z"
      }
    },
    {
      "cell_type": "code",
      "source": [
        "# Function Header\n",
        "def square (value) :\n",
        "  \"\"\"\"Defines square of a number\"\"\"\n",
        "  # Function Body # Cleaner Code\n",
        "  print (value ** 2)\n",
        "\n",
        "# Call function\n",
        "square(222)"
      ],
      "metadata": {
        "colab": {
          "base_uri": "https://localhost:8080/"
        },
        "id": "zQUsN7GWmy2Y",
        "outputId": "7af16e34-ebb7-4b35-b3a7-857270e75711"
      },
      "execution_count": null,
      "outputs": [
        {
          "output_type": "stream",
          "name": "stdout",
          "text": [
            "49284\n"
          ]
        }
      ]
    },
    {
      "cell_type": "code",
      "source": [
        "# Define shout with the parameter, word\n",
        "def shout(word):\n",
        "    \"\"\"Print a string with three exclamation marks\"\"\"\n",
        "    # Concatenate the strings: # Cleaner Code\n",
        "    print (word + '!!!')\n",
        "\n",
        "# Call shout with string 'amma'\n",
        "shout('amma')"
      ],
      "metadata": {
        "id": "yXJnks7cEP1e",
        "outputId": "09710e7b-a7a2-4ae7-955e-a18f4e0d6c67",
        "colab": {
          "base_uri": "https://localhost:8080/"
        }
      },
      "execution_count": null,
      "outputs": [
        {
          "output_type": "stream",
          "name": "stdout",
          "text": [
            "amma!!!\n"
          ]
        }
      ]
    },
    {
      "cell_type": "markdown",
      "source": [
        "##Functions that return (don't print) single values with single parameters and pass result to a variable"
      ],
      "metadata": {
        "id": "c5515d7D5Ll5"
      }
    },
    {
      "cell_type": "code",
      "source": [
        "# Function Header\n",
        "def square (value) :\n",
        "  \"\"\"Defines square of a number\"\"\"\n",
        "  # Function Body \n",
        "  new_value = value ** 2 \n",
        "  # Return a value instead of print, this can be passed to another variable\n",
        "  return (new_value)\n",
        "\n",
        "# Call function and assign variable\n",
        "num = square(5)\n",
        "print (num)"
      ],
      "metadata": {
        "colab": {
          "base_uri": "https://localhost:8080/"
        },
        "id": "Tuf2-CsenYXu",
        "outputId": "713e9a81-777f-47d6-b168-b7b5cfc6f8f0"
      },
      "execution_count": null,
      "outputs": [
        {
          "output_type": "stream",
          "name": "stdout",
          "text": [
            "25\n"
          ]
        }
      ]
    },
    {
      "cell_type": "code",
      "source": [
        "# Function Header\n",
        "def square (value) :\n",
        "  \"\"\"Defines square of a number\"\"\"\n",
        "  # Return a value instead of print, this can be passed to another variable # Cleaner Code \n",
        "  return (value ** 2) \n",
        "\n",
        "# Call function and assign variable\n",
        "num = square(5)\n",
        "print (num)"
      ],
      "metadata": {
        "colab": {
          "base_uri": "https://localhost:8080/"
        },
        "id": "1kgLIuJEYGde",
        "outputId": "f9094db8-d886-4f93-d562-096852645971"
      },
      "execution_count": null,
      "outputs": [
        {
          "output_type": "stream",
          "name": "stdout",
          "text": [
            "25\n"
          ]
        }
      ]
    },
    {
      "cell_type": "code",
      "source": [
        "# Define shout with the parameter, word\n",
        "def shout(word):\n",
        "    \"\"\"Return a string with three exclamation marks\"\"\"\n",
        "    # Concatenate the strings: shout_word\n",
        "    shout_word=word+'!!!'\n",
        "\n",
        "    # Replace print with return\n",
        "    return(shout_word)\n",
        "\n",
        "# Pass 'congratulations' to shout: yell\n",
        "yell = shout('congratulations')       \n",
        "\n",
        "# Print yell\n",
        "print (yell)"
      ],
      "metadata": {
        "id": "V-eGF9hcBtMO",
        "outputId": "c70ba095-ddc4-426d-8cf8-c624cd23d2a8",
        "colab": {
          "base_uri": "https://localhost:8080/"
        }
      },
      "execution_count": null,
      "outputs": [
        {
          "output_type": "stream",
          "name": "stdout",
          "text": [
            "congratulations!!!\n"
          ]
        }
      ]
    },
    {
      "cell_type": "code",
      "source": [
        "# Function Header\n",
        "def square (value) :\n",
        "  \"\"\"Defines square of a number\"\"\"\n",
        "  # Function Body # Cleaner Code # Return a value instead of print, this can be passed to another variable\n",
        "  return (value ** 2)\n",
        "\n",
        "# Call function \n",
        "# Assign variable integer from input\n",
        "num = square(int (input ('Your Integer Number: ')))\n",
        "print (num)"
      ],
      "metadata": {
        "id": "bTn-zU9X8WM8",
        "outputId": "281c1792-30f2-493f-9eb7-6b303f494d9b",
        "colab": {
          "base_uri": "https://localhost:8080/"
        }
      },
      "execution_count": null,
      "outputs": [
        {
          "output_type": "stream",
          "name": "stdout",
          "text": [
            "Your Integer Number: 55\n",
            "3025\n"
          ]
        }
      ]
    },
    {
      "cell_type": "code",
      "source": [
        "# Define shout with the parameter, word # Cleaner Code\n",
        "def shout(word):\n",
        "    \"\"\"Print a string with three exclamation marks\"\"\"\n",
        "    # Concatenate the strings: shout_word\n",
        "    return (word + ' '+ '!!!')\n",
        "    \n",
        "# Call shout with input operator and pass to a variable \n",
        "x = shout (str ( input ('Your String : ')))\n",
        "print (x)"
      ],
      "metadata": {
        "id": "dPI4axMAADKv",
        "outputId": "1777e8dc-ac44-40fd-c000-cff2eb4456e7",
        "colab": {
          "base_uri": "https://localhost:8080/"
        }
      },
      "execution_count": null,
      "outputs": [
        {
          "output_type": "stream",
          "name": "stdout",
          "text": [
            "Your String : aaa\n",
            "aaa !!!\n"
          ]
        }
      ]
    },
    {
      "cell_type": "markdown",
      "source": [
        "##Functions that return (don't print) multipe values with single parameters and pass results to construct tuples\n",
        "### - Unpack tuple to get values\n",
        "### - Can work with strings"
      ],
      "metadata": {
        "id": "UD9tyHipZwNT"
      }
    },
    {
      "cell_type": "code",
      "source": [
        "# Raise value to the power of 2, 3 and 4 \n",
        "def raise_two_three_four (value):\n",
        "   '''Raise value to the power of 2 and power of 3'''\n",
        "   new_value1 = value ** 2 \n",
        "   new_value2 = value ** 3\n",
        "   new_value3 = value ** 4 \n",
        "   # Construct a tuple\n",
        "   new_tuple = (new_value1, new_value2, new_value3)\n",
        "   return new_tuple\n",
        "\n",
        "# Call function and store as x\n",
        "x = raise_two_three_four (4)\n",
        "\n",
        "# Unpack x\n",
        "for y in x:\n",
        "  print (y)"
      ],
      "metadata": {
        "colab": {
          "base_uri": "https://localhost:8080/"
        },
        "id": "K-hahGHzaEpA",
        "outputId": "19c15726-fb05-4ded-94d4-6fad3eefb3f8"
      },
      "execution_count": null,
      "outputs": [
        {
          "output_type": "stream",
          "name": "stdout",
          "text": [
            "16\n",
            "64\n",
            "256\n"
          ]
        }
      ]
    },
    {
      "cell_type": "markdown",
      "source": [
        "##Functions that return single values with multiple parameters \n",
        "### - Call function:  no. of arguments = no. of parameters"
      ],
      "metadata": {
        "id": "g-OsveWnCL6o"
      }
    },
    {
      "cell_type": "code",
      "source": [
        "# Define funcion \n",
        "def raise_to_power (x, y):\n",
        "  \"\"\"Raises x to the power of y\"\"\"\n",
        "  z = x ** y\n",
        "  return (z)\n",
        "\n",
        "# Call function \n",
        "print (raise_to_power (6,2))\n"
      ],
      "metadata": {
        "id": "C0PcZsWuCZv1",
        "outputId": "a4dd392f-8a11-4bfb-8218-060b424917c0",
        "colab": {
          "base_uri": "https://localhost:8080/"
        }
      },
      "execution_count": null,
      "outputs": [
        {
          "output_type": "stream",
          "name": "stdout",
          "text": [
            "36\n"
          ]
        }
      ]
    },
    {
      "cell_type": "code",
      "source": [
        "# Define funcion # Cleaner Code\n",
        "def raise_to_power (x, y):\n",
        "  \"\"\"Raises x to the power of y\"\"\"\n",
        "  return (x ** y)\n",
        "\n",
        "# Call function \n",
        "print (raise_to_power (5,6))"
      ],
      "metadata": {
        "id": "aIrcmMAqDKj3",
        "outputId": "be01bfd1-b213-48cd-90b6-e914f0aa1652",
        "colab": {
          "base_uri": "https://localhost:8080/"
        }
      },
      "execution_count": null,
      "outputs": [
        {
          "output_type": "stream",
          "name": "stdout",
          "text": [
            "15625\n"
          ]
        }
      ]
    },
    {
      "cell_type": "code",
      "source": [
        "# Define funcion # Cleaner Code\n",
        "def div_by (x, y):\n",
        "  \"\"\"Divides x by y\"\"\"\n",
        "  return (x / y)\n",
        "\n",
        "# Use input operators to get numbers\n",
        "x = int (input ('First No.: '))\n",
        "y = int (input ('Second No. : '))\n",
        "\n",
        "# Call function \n",
        "print (str (x), 'divided by', str (y), 'is', str(div_by (x, y)))"
      ],
      "metadata": {
        "id": "yXwkjOMrD4Cp",
        "outputId": "56ee9de5-64b0-4ae5-f457-eb56f4c3704c",
        "colab": {
          "base_uri": "https://localhost:8080/"
        }
      },
      "execution_count": null,
      "outputs": [
        {
          "output_type": "stream",
          "name": "stdout",
          "text": [
            "First No.: 5\n",
            "Second No. : 3\n",
            "5 divided by 3 is 1.6666666666666667\n"
          ]
        }
      ]
    },
    {
      "cell_type": "markdown",
      "source": [
        "##Functions that return (don't print) multiple values with multiple parameters and pass results to construct tuples\n",
        "### - Unpack tuple to get values\n",
        "### - Can work with strings"
      ],
      "metadata": {
        "id": "69oCSHN-WSTr"
      }
    },
    {
      "cell_type": "code",
      "source": [
        "# Raise both values to the power of the other number\n",
        "def raise_both (value1, value2):\n",
        "   '''Raise value1 to the power of value2 and vice versa'''\n",
        "\n",
        "   new_value1 = value1 ** value2\n",
        "   new_value2 = value2 ** value1\n",
        "   # Construct a tuple\n",
        "   new_tuple = (new_value1, new_value2)\n",
        "   return new_tuple\n",
        "\n",
        "# Call function\n",
        "print (raise_both (4,2))"
      ],
      "metadata": {
        "id": "mHJ-Lm-pVEFl",
        "outputId": "7207e015-0c22-4af0-8839-fe845b6caee3",
        "colab": {
          "base_uri": "https://localhost:8080/"
        }
      },
      "execution_count": null,
      "outputs": [
        {
          "output_type": "stream",
          "name": "stdout",
          "text": [
            "(16, 16)\n"
          ]
        }
      ]
    },
    {
      "cell_type": "code",
      "source": [
        "# Raise both values to the power of the other number and divide both by other # Cleaner Code\n",
        "def raise_both_divide_both (a, b):\n",
        "  '''Raise a to the power of b and vice versa. Divide a by b and vice versa'''\n",
        "  # Contruct tuple\n",
        "  return (a**b, b**a, a/b, b/a)\n",
        "\n",
        "# Use input operators to get numbers\n",
        "x = int (input ('First No.: '))\n",
        "y = int (input ('Second No. : '))\n",
        "\n",
        "# Call function \n",
        "print (x, 'to the power of', y, ',',y, 'to the power of', x, 'and', x, 'divided by', y, ',', y, 'divided by', x, 'are', raise_both_divide_both (x, y))\n"
      ],
      "metadata": {
        "id": "J9SSV2EoS-ji",
        "outputId": "9f365de3-4737-4ad9-d4e9-b3d0c45fe8b6",
        "colab": {
          "base_uri": "https://localhost:8080/"
        }
      },
      "execution_count": null,
      "outputs": [
        {
          "output_type": "stream",
          "name": "stdout",
          "text": [
            "First No.: 5\n",
            "Second No. : 15\n",
            "5 to the power of 15 , 15 to the power of 5 and 5 divided by 15 , 15 divided by 5 are (30517578125, 759375, 0.3333333333333333, 3.0)\n"
          ]
        }
      ]
    },
    {
      "cell_type": "code",
      "source": [
        "# Define shout with parameters word1 and word2\n",
        "def shout(word1, word2):\n",
        "    \"\"\"Concatenate strings with three exclamation marks\"\"\"\n",
        "    # Concatenate word1 with '!!!': shout1\n",
        "    shout1=word1+'!!!'\n",
        "    \n",
        "    # Concatenate word2 with '!!!': shout2\n",
        "    shout2=word2+'!!!'\n",
        "    \n",
        "    # Concatenate shout1 with shout2: new_shout\n",
        "    new_shout = shout1+shout2\n",
        "\n",
        "    # Return new_shout\n",
        "    return (new_shout)\n",
        "\n",
        "# Pass 'congratulations' and 'you' to shout(): yell\n",
        "yell=shout('congratulations', 'you')\n",
        "\n",
        "# Print yell\n",
        "print(yell)"
      ],
      "metadata": {
        "id": "KBF0gQpbYcwX",
        "outputId": "61f525ba-1159-4ae6-bd57-4d95639e56e1",
        "colab": {
          "base_uri": "https://localhost:8080/"
        }
      },
      "execution_count": null,
      "outputs": [
        {
          "output_type": "stream",
          "name": "stdout",
          "text": [
            "congratulations!!!you!!!\n"
          ]
        }
      ]
    },
    {
      "cell_type": "code",
      "source": [
        "# Define shout with parameters word1 and word2 # Cleaner Code\n",
        "def shout(word1, word2):\n",
        "    \"\"\"Concatenate 2 strings with three exclamation marks\"\"\"\n",
        "    # Concatenate word1 with '!!!' and word2 with '!!!'\n",
        "    # Return is string \n",
        "    return (word1 + '!!!' + word2 + '!!!')\n",
        "\n",
        "# Pass 'first and second as string inputs \n",
        "first = str (input ('First Word :'))\n",
        "second = str (input ('Second Word :'))\n",
        "\n",
        "# Call function \n",
        "# Result is string \n",
        "print (shout (first, second))\n",
        "print (type (shout (first, second)))"
      ],
      "metadata": {
        "id": "lCQERouLA5Am",
        "outputId": "0b78a367-9d0c-41fa-8069-4d2ebcf9a1b3",
        "colab": {
          "base_uri": "https://localhost:8080/"
        }
      },
      "execution_count": null,
      "outputs": [
        {
          "output_type": "stream",
          "name": "stdout",
          "text": [
            "First Word :om\n",
            "Second Word :shanthi\n",
            "om!!!shanthi!!!\n",
            "<class 'str'>\n"
          ]
        }
      ]
    },
    {
      "cell_type": "markdown",
      "source": [
        "##**Exercise - User-defined functions to work with Twitter data**\n",
        "### - Define a function and return the resulting dictionary from within the function\n",
        "### - Iterate over entries in a column to build a dictionary\n",
        "### - Keys are the names of languages\n",
        "### - Values are the number of tweets in the given language\n"
      ],
      "metadata": {
        "id": "YtmlCbvoC_jM"
      }
    },
    {
      "cell_type": "code",
      "source": [
        "# Import pandas\n",
        "import pandas as pd\n",
        "\n",
        "# Import Twitter data as DataFrame: df\n",
        "df = pd.read_csv ('https://raw.githubusercontent.com/nirmalaraj77/Python/main/tweets.csv')\n",
        "\n",
        "# Define function count_entries() with two parameters. First parameter is df for the DataFrame and second is col_name for the column name\n",
        "def count_entries (df, col_name) :\n",
        "  \"\"\"Return a dictionary with counts of occurrences as value for each key.\"\"\"\n",
        "\n",
        "  # Initialize an empty dictionary: langs_count\n",
        "  langs_count = {}\n",
        "\n",
        "  # Extract column from DataFrame: col\n",
        "  col = df['lang']\n",
        "\n",
        "  # Iterate over lang column in DataFrame\n",
        "  for entry in col:\n",
        "    # If the language is in langs_count, add 1 \n",
        "    if entry in langs_count.keys():\n",
        "        langs_count [entry] +=1\n",
        "    # Else add the language to langs_count, set the value to 1\n",
        "    else:\n",
        "        langs_count [entry] = 1\n",
        "        \n",
        "  # Return the populated dictionary\n",
        "  return (langs_count)\n",
        "\n",
        "# Call count_entries(): result\n",
        "result = count_entries (df, 'lang')\n",
        "\n",
        "# Print the result\n",
        "print(result)"
      ],
      "metadata": {
        "id": "uWG2c405ONh0",
        "outputId": "95dea062-70d8-45ae-e540-8fbdd9717929",
        "colab": {
          "base_uri": "https://localhost:8080/"
        }
      },
      "execution_count": null,
      "outputs": [
        {
          "output_type": "stream",
          "name": "stdout",
          "text": [
            "{'en': 97, 'et': 1, 'und': 2}\n"
          ]
        }
      ]
    },
    {
      "cell_type": "markdown",
      "source": [
        "#**Scope and user-defined functions**\n",
        "### - Not all objects are accessible everywhere in a script\n",
        "### - Scope - part of the program where an object or name may be accessed\n",
        "### - Name - refers to variables or function names\n",
        "### - Global scope - defined in main body of script\n",
        "### - Local scope - defined inside functions - ceases to exist after function executed - cannot access outside function\n",
        "### - Built-in-scope - names in the pre-defined built-ins Python module - print, sum"
      ],
      "metadata": {
        "id": "ePw7ZAkxQ2qL"
      }
    },
    {
      "cell_type": "markdown",
      "source": [
        "##Global vs. local scope\n",
        "### - Python looks first in local scope and then in global scope\n",
        "### - If python can't find name in local scope, then and only then Python will look in global scope\n",
        "### - Python will search built-ins scope if not found in local or global\n",
        "### - Can alter global name within function call with keyword 'global'"
      ],
      "metadata": {
        "id": "vhblciapSjHA"
      }
    },
    {
      "cell_type": "code",
      "source": [
        "# Define a test function\n",
        "def square (value):\n",
        "  \"\"\"test function\"\"\"\n",
        "  new_val = value **2\n",
        "  return new_val\n",
        "\n",
        "# Call function\n",
        "square (555)\n",
        "\n",
        "# The name new_val is local scope to the function square and does not exist after function is executed"
      ],
      "metadata": {
        "id": "i525BvZISqmU",
        "outputId": "e67d13a6-5675-4057-db38-d0f6ff3f570a",
        "colab": {
          "base_uri": "https://localhost:8080/"
        }
      },
      "execution_count": null,
      "outputs": [
        {
          "output_type": "execute_result",
          "data": {
            "text/plain": [
              "308025"
            ]
          },
          "metadata": {},
          "execution_count": 78
        }
      ]
    },
    {
      "cell_type": "code",
      "source": [
        "# Define new_val globally \n",
        "new_val = 10\n",
        "\n",
        "# Define a test function\n",
        "def square (value):\n",
        "  \"\"\"test function\"\"\"\n",
        "  new_val = value **2\n",
        "  return new_val\n",
        "\n",
        "# Print function - Python executes function from local scope first set to new_val\n",
        "print (square (555))\n",
        "\n",
        "# Print new_val will now print 10 because Python looks at global scope after function is executed\n",
        "print (new_val)\n"
      ],
      "metadata": {
        "id": "QdZipJqBTP9y",
        "outputId": "e8915c5b-a581-40b9-8317-9f4287e93155",
        "colab": {
          "base_uri": "https://localhost:8080/"
        }
      },
      "execution_count": null,
      "outputs": [
        {
          "output_type": "stream",
          "name": "stdout",
          "text": [
            "308025\n",
            "10\n"
          ]
        }
      ]
    },
    {
      "cell_type": "code",
      "source": [
        "# Define new_val globally \n",
        "new_val = 25\n",
        "\n",
        "# Define a test function\n",
        "def square (value):\n",
        "  \"\"\"test function\"\"\"\n",
        "  new_val2 = new_val **2\n",
        "  return new_val2\n",
        "\n",
        "# Print function - Python executes function from local scope first and then from global scope. Pythion selected 25 set to new_val as it is not defined in function\n",
        "print (square (3))\n",
        "\n"
      ],
      "metadata": {
        "id": "pO9t1st7U2Wf",
        "outputId": "0b6cf596-bb7a-4d42-96f4-068f75d5fd7c",
        "colab": {
          "base_uri": "https://localhost:8080/"
        }
      },
      "execution_count": null,
      "outputs": [
        {
          "output_type": "stream",
          "name": "stdout",
          "text": [
            "60493827148395061729\n"
          ]
        }
      ]
    },
    {
      "cell_type": "code",
      "source": [
        "# Define new_val\n",
        "new_val = 5\n",
        "\n",
        "# Define test function\n",
        "def square (value):\n",
        "  \"\"\"Test function to rtn no sq\"\"\"\n",
        "\n",
        "  # Set new_val to GLOBAL new_val with keyword global \n",
        "  global new_val\n",
        "  new_val = new_val**2\n",
        "  return new_val\n",
        "\n",
        "# Call function\n",
        "print (square (71))\n",
        "\n",
        "# Print new_val has now updated within function with keyword global\n",
        "print (new_val)"
      ],
      "metadata": {
        "id": "D5iAQ56DV7oX",
        "outputId": "10e7e042-d2e6-43a9-d9d9-0e6a4c5107f2",
        "colab": {
          "base_uri": "https://localhost:8080/"
        }
      },
      "execution_count": null,
      "outputs": [
        {
          "output_type": "stream",
          "name": "stdout",
          "text": [
            "25\n",
            "25\n"
          ]
        }
      ]
    },
    {
      "cell_type": "code",
      "source": [
        "# Create a string: team\n",
        "team = \"teen titans\"\n",
        "\n",
        "# Define change_team()\n",
        "def change_team():\n",
        "    \"\"\"Change the value of the global variable team.\"\"\"\n",
        "\n",
        "    # Use team in global scope\n",
        "    global team\n",
        "\n",
        "    # Change the value of team in global: team\n",
        "    team = \"justice league\"\n",
        "# Print team\n",
        "print(team)\n",
        "\n",
        "# Call change_team()\n",
        "change_team()\n",
        "\n",
        "# Print team\n",
        "print(team)"
      ],
      "metadata": {
        "id": "AiCqfjygXVED",
        "outputId": "176cb450-746f-4959-e7e4-68f173952c43",
        "colab": {
          "base_uri": "https://localhost:8080/"
        }
      },
      "execution_count": null,
      "outputs": [
        {
          "output_type": "stream",
          "name": "stdout",
          "text": [
            "teen titans\n",
            "justice league\n"
          ]
        }
      ]
    },
    {
      "cell_type": "markdown",
      "source": [
        "##Query built-ins scope"
      ],
      "metadata": {
        "id": "vBMPLzwpYNrx"
      }
    },
    {
      "cell_type": "code",
      "source": [
        "import builtins\n",
        "dir (builtins)"
      ],
      "metadata": {
        "id": "QANlW6taYRU0",
        "outputId": "93c9b9d7-ec57-4b00-b3ef-36d43f4e1216",
        "colab": {
          "base_uri": "https://localhost:8080/"
        }
      },
      "execution_count": null,
      "outputs": [
        {
          "output_type": "execute_result",
          "data": {
            "text/plain": [
              "['ArithmeticError',\n",
              " 'AssertionError',\n",
              " 'AttributeError',\n",
              " 'BaseException',\n",
              " 'BlockingIOError',\n",
              " 'BrokenPipeError',\n",
              " 'BufferError',\n",
              " 'BytesWarning',\n",
              " 'ChildProcessError',\n",
              " 'ConnectionAbortedError',\n",
              " 'ConnectionError',\n",
              " 'ConnectionRefusedError',\n",
              " 'ConnectionResetError',\n",
              " 'DeprecationWarning',\n",
              " 'EOFError',\n",
              " 'Ellipsis',\n",
              " 'EnvironmentError',\n",
              " 'Exception',\n",
              " 'False',\n",
              " 'FileExistsError',\n",
              " 'FileNotFoundError',\n",
              " 'FloatingPointError',\n",
              " 'FutureWarning',\n",
              " 'GeneratorExit',\n",
              " 'IOError',\n",
              " 'ImportError',\n",
              " 'ImportWarning',\n",
              " 'IndentationError',\n",
              " 'IndexError',\n",
              " 'InterruptedError',\n",
              " 'IsADirectoryError',\n",
              " 'KeyError',\n",
              " 'KeyboardInterrupt',\n",
              " 'LookupError',\n",
              " 'MemoryError',\n",
              " 'ModuleNotFoundError',\n",
              " 'NameError',\n",
              " 'None',\n",
              " 'NotADirectoryError',\n",
              " 'NotImplemented',\n",
              " 'NotImplementedError',\n",
              " 'OSError',\n",
              " 'OverflowError',\n",
              " 'PendingDeprecationWarning',\n",
              " 'PermissionError',\n",
              " 'ProcessLookupError',\n",
              " 'RecursionError',\n",
              " 'ReferenceError',\n",
              " 'ResourceWarning',\n",
              " 'RuntimeError',\n",
              " 'RuntimeWarning',\n",
              " 'StopAsyncIteration',\n",
              " 'StopIteration',\n",
              " 'SyntaxError',\n",
              " 'SyntaxWarning',\n",
              " 'SystemError',\n",
              " 'SystemExit',\n",
              " 'TabError',\n",
              " 'TimeoutError',\n",
              " 'True',\n",
              " 'TypeError',\n",
              " 'UnboundLocalError',\n",
              " 'UnicodeDecodeError',\n",
              " 'UnicodeEncodeError',\n",
              " 'UnicodeError',\n",
              " 'UnicodeTranslateError',\n",
              " 'UnicodeWarning',\n",
              " 'UserWarning',\n",
              " 'ValueError',\n",
              " 'Warning',\n",
              " 'ZeroDivisionError',\n",
              " '__IPYTHON__',\n",
              " '__build_class__',\n",
              " '__debug__',\n",
              " '__doc__',\n",
              " '__import__',\n",
              " '__loader__',\n",
              " '__name__',\n",
              " '__package__',\n",
              " '__spec__',\n",
              " 'abs',\n",
              " 'all',\n",
              " 'any',\n",
              " 'ascii',\n",
              " 'bin',\n",
              " 'bool',\n",
              " 'breakpoint',\n",
              " 'bytearray',\n",
              " 'bytes',\n",
              " 'callable',\n",
              " 'chr',\n",
              " 'classmethod',\n",
              " 'compile',\n",
              " 'complex',\n",
              " 'copyright',\n",
              " 'credits',\n",
              " 'delattr',\n",
              " 'dict',\n",
              " 'dir',\n",
              " 'display',\n",
              " 'divmod',\n",
              " 'dreload',\n",
              " 'enumerate',\n",
              " 'eval',\n",
              " 'exec',\n",
              " 'execfile',\n",
              " 'filter',\n",
              " 'float',\n",
              " 'format',\n",
              " 'frozenset',\n",
              " 'get_ipython',\n",
              " 'getattr',\n",
              " 'globals',\n",
              " 'hasattr',\n",
              " 'hash',\n",
              " 'help',\n",
              " 'hex',\n",
              " 'id',\n",
              " 'input',\n",
              " 'int',\n",
              " 'isinstance',\n",
              " 'issubclass',\n",
              " 'iter',\n",
              " 'len',\n",
              " 'license',\n",
              " 'list',\n",
              " 'locals',\n",
              " 'map',\n",
              " 'max',\n",
              " 'memoryview',\n",
              " 'min',\n",
              " 'next',\n",
              " 'object',\n",
              " 'oct',\n",
              " 'open',\n",
              " 'ord',\n",
              " 'pow',\n",
              " 'print',\n",
              " 'property',\n",
              " 'range',\n",
              " 'repr',\n",
              " 'reversed',\n",
              " 'round',\n",
              " 'runfile',\n",
              " 'set',\n",
              " 'setattr',\n",
              " 'slice',\n",
              " 'sorted',\n",
              " 'staticmethod',\n",
              " 'str',\n",
              " 'sum',\n",
              " 'super',\n",
              " 'tuple',\n",
              " 'type',\n",
              " 'vars',\n",
              " 'zip']"
            ]
          },
          "metadata": {},
          "execution_count": 55
        }
      ]
    },
    {
      "cell_type": "markdown",
      "source": [
        "#**Nested functions**\n",
        "### - Python looks in Local scope, Enclosing functions, Global scope and then Built-ins scope\n",
        "### - Known as the LEGB Rule\n",
        "### - Use nested functions to reuse a process many times within a function\n",
        "### - Assigning names can only create or change local names unless declared with keywords 'nonlocal' and 'global'\n",
        "### - Closure - nested or inner function remembers the state of its enclosing scope when called\n",
        "### - Anything defined locally in the enclosing scope is available to the inner function even when the outer function has finished execution\n",
        "### - **Outer fuction can be called as argument**"
      ],
      "metadata": {
        "id": "iWSXszJRYjEg"
      }
    },
    {
      "cell_type": "code",
      "source": [
        "# Define outer funtion\n",
        "def mod2plus5 (a, b, c) :\n",
        "  \"\"\"Returns remainder + 5 of 3 values\"\"\"\n",
        "\n",
        "  # Define inner function\n",
        "  def inner (x) :\n",
        "    \"\"\"Returns remainder + 5 of one value\"\"\"\n",
        "    # Result of inner function\n",
        "    return x % 2 + 5 \n",
        "\n",
        "  # Call outer function passing arguments to inner function\n",
        "  return (inner (a), inner (b), inner (c))\n",
        "\n",
        "# Call function\n",
        "print (mod2plus5 (7, 8, 3.5))\n",
        "  "
      ],
      "metadata": {
        "id": "dfp8HjVaZOXe",
        "outputId": "74ebfbda-b010-4bec-ddf6-2801f8d744e5",
        "colab": {
          "base_uri": "https://localhost:8080/"
        }
      },
      "execution_count": null,
      "outputs": [
        {
          "output_type": "stream",
          "name": "stdout",
          "text": [
            "(6, 5, 6.5)\n"
          ]
        }
      ]
    },
    {
      "cell_type": "code",
      "source": [
        "# Define outer function\n",
        "def raise_val(n) :\n",
        "  \"\"\"Returns the inner function\"\"\"\n",
        "\n",
        "  # Define inner function\n",
        "  def inner (x) :\n",
        "    \"\"\"Raise x to the power of n\"\"\"\n",
        "    raised = x ** n\n",
        "    return raised\n",
        "  # Outer function returns inner function and not result\n",
        "  return inner\n",
        "\n",
        "# Passing 2 to outer function raise_vals creates a function that squares (**2) any number. Here, n is set to 2 in outer function\n",
        "square = raise_val (2)\n",
        "\n",
        "# Passing 3 to outer function raise_vals creates a function that cubes (**3) any number. Here, n is set to 3 in outer function\n",
        "cube = raise_val (3)\n",
        "\n",
        "# Call outer function and pass 2 to be squared and 4 to be cubed \n",
        "print (square (2), cube (4))"
      ],
      "metadata": {
        "id": "eQ0qe1yVdG7u",
        "outputId": "48bbc1f2-17d6-4d35-f4a5-e76f1156a78b",
        "colab": {
          "base_uri": "https://localhost:8080/"
        }
      },
      "execution_count": null,
      "outputs": [
        {
          "output_type": "stream",
          "name": "stdout",
          "text": [
            "4 64\n"
          ]
        }
      ]
    },
    {
      "cell_type": "markdown",
      "source": [
        "##Can alter enclosing scope name with keyword 'nonlocal'\n",
        "##E.g. Alter value of n in inner function alters n in outer function becuase keyword nonlocal"
      ],
      "metadata": {
        "id": "2dpZCL-kgQCm"
      }
    },
    {
      "cell_type": "code",
      "source": [
        "def outer ():\n",
        "  \"\"\"prints value of n\"\"\"\n",
        "  n = 1\n",
        "\n",
        "  def inner ():\n",
        "    # Set n to NON LOCAL\n",
        "    nonlocal n\n",
        "    n = 71\n",
        "    print (n)\n",
        "\n",
        "  inner ()\n",
        "  print (n)\n",
        "\n",
        "# Call outer function\n",
        "outer ()"
      ],
      "metadata": {
        "id": "5ruQ2f1qgSvY",
        "outputId": "180e75c4-2014-4843-8339-1ca98014ac5c",
        "colab": {
          "base_uri": "https://localhost:8080/"
        }
      },
      "execution_count": null,
      "outputs": [
        {
          "output_type": "stream",
          "name": "stdout",
          "text": [
            "71\n",
            "71\n"
          ]
        }
      ]
    },
    {
      "cell_type": "code",
      "source": [
        "# Define three_shouts\n",
        "def three_shouts(word1, word2, word3):\n",
        "    \"\"\"Returns a tuple of strings\n",
        "    concatenated with '!!!'.\"\"\"\n",
        "\n",
        "    # Define inner\n",
        "    def inner(word):\n",
        "        \"\"\"Returns a string concatenated with '!!!'.\"\"\"\n",
        "        return word + '!!!'\n",
        "\n",
        "    # Outer function returns a tuple of strings when passed to inner function \n",
        "    return (inner(word1), inner(word2), inner(word3))\n",
        "\n",
        "# Call three_shouts() and print\n",
        "print(three_shouts('a', 'b', 'c',))"
      ],
      "metadata": {
        "id": "mpEaz3_qyLDC",
        "outputId": "97f352f9-e9ca-4c5e-a651-14e143f5eba2",
        "colab": {
          "base_uri": "https://localhost:8080/"
        }
      },
      "execution_count": null,
      "outputs": [
        {
          "output_type": "stream",
          "name": "stdout",
          "text": [
            "('a!!!', 'b!!!', 'c!!!')\n"
          ]
        }
      ]
    },
    {
      "cell_type": "code",
      "source": [
        "# Define echo\n",
        "def echo(n):\n",
        "    \"\"\"Return the inner_echo function.\"\"\"\n",
        "\n",
        "    # Define inner_echo\n",
        "    def inner_echo(word1):\n",
        "        \"\"\"Concatenate n copies of word1.\"\"\"\n",
        "        echo_word = word1 * n\n",
        "        return echo_word\n",
        "\n",
        "    # Return inner_echo. Return the inner function\n",
        "    return inner_echo\n",
        "\n",
        "# Call echo: twice\n",
        "twice = echo(2)\n",
        "\n",
        "# Call echo: thrice\n",
        "thrice = echo(3)\n",
        "\n",
        "# Call twice() and thrice() then print\n",
        "print(twice('hello'), thrice('hello'))\n"
      ],
      "metadata": {
        "id": "msGW0jAjy5TR",
        "outputId": "74cf27f9-4288-4ca8-877e-9af8ce293209",
        "colab": {
          "base_uri": "https://localhost:8080/"
        }
      },
      "execution_count": null,
      "outputs": [
        {
          "output_type": "stream",
          "name": "stdout",
          "text": [
            "hellohello hellohellohello\n"
          ]
        }
      ]
    },
    {
      "cell_type": "code",
      "source": [
        "# Define echo_shout()\n",
        "def echo_shout(word):\n",
        "    \"\"\"Change the value of a nonlocal variable\"\"\"\n",
        "    \n",
        "    # Concatenate word with itself: echo_word\n",
        "    echo_word = word*2\n",
        "    \n",
        "    # Print echo_word\n",
        "    print(echo_word)\n",
        "    \n",
        "    # Define inner function shout()\n",
        "    def shout():\n",
        "        \"\"\"Alter a variable in the enclosing scope\"\"\"    \n",
        "        # Use echo_word in nonlocal scope\n",
        "        nonlocal echo_word\n",
        "        \n",
        "        # Change echo_word to echo_word concatenated with '!!!'\n",
        "        echo_word = echo_word + '!!!'\n",
        "    \n",
        "    # Call function shout()\n",
        "    shout()\n",
        "\n",
        "    # Print echo_word\n",
        "    print(echo_word)\n",
        "\n",
        "# Call function echo_shout() with argument 'hello'\n",
        "echo_shout('hello')"
      ],
      "metadata": {
        "id": "zvmiCSun0163",
        "outputId": "7e8cf27c-d566-4018-cb9b-9741c3b5b7f1",
        "colab": {
          "base_uri": "https://localhost:8080/"
        }
      },
      "execution_count": null,
      "outputs": [
        {
          "output_type": "stream",
          "name": "stdout",
          "text": [
            "hellohello\n",
            "hellohello!!!\n"
          ]
        }
      ]
    },
    {
      "cell_type": "markdown",
      "source": [
        "#**Default and Flexible arguments**\n"
      ],
      "metadata": {
        "id": "rQWxqgJxZE94"
      }
    },
    {
      "cell_type": "markdown",
      "source": [
        "##Default Arguments\n",
        "\n",
        "### - Some parameters can have default arguments if not specified otherwise\n",
        "### - Add parameter with = sign with default value"
      ],
      "metadata": {
        "id": "hZPryLESaeOW"
      }
    },
    {
      "cell_type": "markdown",
      "source": [
        "##Function with 1 default argument"
      ],
      "metadata": {
        "id": "sxp87jTlgcDb"
      }
    },
    {
      "cell_type": "code",
      "source": [
        "# Test function with default argument\n",
        "def power (number, pow = 1) :\n",
        "  \"\"\"Raise number to power of pow\"\"\"\n",
        "  new_value = number ** pow\n",
        "  return new_value\n",
        "\n",
        "# Call function with no parametr for power - default power = 1\n",
        "print (power(5))\n",
        "\n",
        "\n",
        "# Call function specifying power = 5\n",
        "print (power(5, 5))"
      ],
      "metadata": {
        "id": "ah5cjEmoZZvG",
        "outputId": "8c538cba-5574-4904-9c0e-815affa1fcee",
        "colab": {
          "base_uri": "https://localhost:8080/"
        }
      },
      "execution_count": null,
      "outputs": [
        {
          "output_type": "stream",
          "name": "stdout",
          "text": [
            "5\n",
            "3125\n"
          ]
        }
      ]
    },
    {
      "cell_type": "code",
      "source": [
        "# Define shout_echo # Cleaner Code\n",
        "def shout_echo(word1, echo=1):\n",
        "    \"\"\"Concatenate echo copies of word1 and three exclamation marks at the end of the string.\"\"\"\n",
        "    \n",
        "    # Concatenate echo copies of word1 using multiply by echo and concatenate '!!!'  \n",
        "    return (word1 * echo + '!!!')\n",
        "\n",
        "# Call shout_echo() with \"Hey\": no_echo\n",
        "no_echo = shout_echo('Hey')\n",
        "\n",
        "# Call shout_echo() with \"Hey\" and echo=5: with_echo\n",
        "with_echo = shout_echo('Hey', 5)\n",
        "\n",
        "# Print no_echo and with_echo\n",
        "print(no_echo)\n",
        "print(with_echo)"
      ],
      "metadata": {
        "colab": {
          "base_uri": "https://localhost:8080/"
        },
        "id": "qTwTgP1YfSSp",
        "outputId": "5e5c2245-4a82-42dd-f9af-e822e7980dce"
      },
      "execution_count": null,
      "outputs": [
        {
          "output_type": "stream",
          "name": "stdout",
          "text": [
            "Hey!!!\n",
            "HeyHeyHeyHeyHey!!!\n"
          ]
        }
      ]
    },
    {
      "cell_type": "markdown",
      "source": [
        "##Function with multiple default arguments"
      ],
      "metadata": {
        "id": "IF7xPvIIjxWK"
      }
    },
    {
      "cell_type": "code",
      "source": [
        "# Define shout_echo\n",
        "def shout_echo(word1, echo=1, intense=False) :\n",
        "    \"\"\"Concatenate echo copies of word1 and three\n",
        "    exclamation marks at the end of the string.\"\"\"\n",
        "\n",
        "    # Concatenate echo copies of word1 using *: echo_word\n",
        "    echo_word = word1 * echo\n",
        "\n",
        "    # Make echo_word uppercase if intense is True\n",
        "    if intense is True:\n",
        "        # Make uppercase and concatenate '!!!': echo_word_new\n",
        "        echo_word_new = echo_word.upper() + '!!!'\n",
        "    else:\n",
        "        # Concatenate '!!!' to echo_word: echo_word_new\n",
        "        echo_word_new = echo_word + '!!!'\n",
        "\n",
        "    # Return echo_word_new\n",
        "    return echo_word_new\n",
        "\n",
        "# Call shout_echo() with \"Hey\", echo=5 and intense=True: with_big_echo\n",
        "with_big_echo = shout_echo('Hey', 5, intense=True)\n",
        "\n",
        "# Call shout_echo() with \"Hey\" and intense=True: big_no_echo\n",
        "big_no_echo = shout_echo('Hey', intense=True)\n",
        "\n",
        "# Print values\n",
        "print(with_big_echo)\n",
        "print(big_no_echo)"
      ],
      "metadata": {
        "colab": {
          "base_uri": "https://localhost:8080/"
        },
        "id": "XDfocEbxjvgf",
        "outputId": "5d0ebebf-7deb-4883-b029-01993bcb73a3"
      },
      "execution_count": null,
      "outputs": [
        {
          "output_type": "stream",
          "name": "stdout",
          "text": [
            "HEYHEYHEYHEYHEY!!!\n",
            "HEY!!!\n"
          ]
        }
      ]
    },
    {
      "cell_type": "markdown",
      "source": [
        "#**Functions with variable-length arguments (*args)**\n",
        "### - **Use (*args) to write function with flexible number of arguments**\n",
        "### - Turns all arguments in into **tuple** *args in function body"
      ],
      "metadata": {
        "id": "i_hkWEfNajIg"
      }
    },
    {
      "cell_type": "code",
      "source": [
        "# Flexible argument example\n",
        "def add_all (*args) :\n",
        "  \"\"\"Sum all values in *args together\"\"\"\n",
        "  # Initialize sum\n",
        "  sum_all = 0\n",
        "\n",
        "  # Accumulate the sum by iterating over no. of items in tuple *args and adding to sum_all\n",
        "  for num in args:\n",
        "    sum_all += num\n",
        "\n",
        "  return sum_all\n",
        "\n",
        "# Call function with flexible no. of arguments\n",
        "print (add_all(1,2))\n",
        "\n",
        "# Call function with flexible no. of arguments\n",
        "print (add_all(1,2,3,4.5))"
      ],
      "metadata": {
        "id": "d8PRNLvga0_K",
        "outputId": "ec42affb-7da1-4715-826d-4faacda809b0",
        "colab": {
          "base_uri": "https://localhost:8080/"
        }
      },
      "execution_count": null,
      "outputs": [
        {
          "output_type": "stream",
          "name": "stdout",
          "text": [
            "3\n",
            "10.5\n"
          ]
        }
      ]
    },
    {
      "cell_type": "code",
      "source": [
        "# Define gibberish\n",
        "def gibberish(*args):\n",
        "    \"\"\"Concatenate strings in *args together.\"\"\"\n",
        "\n",
        "    # Initialize an empty string: hodgepodge\n",
        "    hodgepodge=str()\n",
        "\n",
        "    # Concatenate the strings in args\n",
        "    for word in args:\n",
        "        hodgepodge += word\n",
        "\n",
        "    # Return hodgepodge\n",
        "    return hodgepodge\n",
        "\n",
        "# Call gibberish() with one string\n",
        "print (gibberish('luke'))\n",
        "\n",
        "# Call gibberish() with five strings\n",
        "print (gibberish(\"luke\", \"leia\", \"han\", \"obi\", \"darth\"))"
      ],
      "metadata": {
        "id": "KJFjmDiMqtqE",
        "outputId": "4172fb73-cd1c-44ed-c5df-b829c05a157e",
        "colab": {
          "base_uri": "https://localhost:8080/"
        }
      },
      "execution_count": null,
      "outputs": [
        {
          "output_type": "stream",
          "name": "stdout",
          "text": [
            "luke\n",
            "lukeleiahanobidarth\n"
          ]
        }
      ]
    },
    {
      "cell_type": "code",
      "source": [
        "# Define mean\n",
        "def mean(*args):\n",
        "    \"\"\"Returns the mean of all the numbers\"\"\"\n",
        "    total_sum = 0 # Intial sum\n",
        "    n = len(args) # Number of arguments\n",
        "    for x in args:\n",
        "        total_sum += x\n",
        "    return total_sum/n\n",
        "print((mean(3, 4), mean(20, 25, 30)))"
      ],
      "metadata": {
        "id": "xjqiGXG0c33P",
        "outputId": "2e0a287c-b3fb-4120-9a4f-2756ab4bfa01",
        "colab": {
          "base_uri": "https://localhost:8080/"
        }
      },
      "execution_count": null,
      "outputs": [
        {
          "output_type": "stream",
          "name": "stdout",
          "text": [
            "(3.5, 25.0)\n"
          ]
        }
      ]
    },
    {
      "cell_type": "markdown",
      "source": [
        "#**Functions with variable-length keyword arguments (* * kwargs)**\n",
        "### - **Use (* *kwargs) to write function with flexible number of keyword arguments with identifiers**\n",
        "### - Turns all arguments in into **dictionary** * *kwargs in function body"
      ],
      "metadata": {
        "id": "TJwLpGgeYg1n"
      }
    },
    {
      "cell_type": "code",
      "source": [
        "# Flexible keyword example \n",
        "def print_all (**kwargs):\n",
        "  \"\"\"Print out key-value pairs in **kwargs\"\"\" \n",
        "  \n",
        "  # Print key - value pairs in kwargs dictionary\n",
        "  for key, value in kwargs.items ():\n",
        "    print (key, value)\n",
        "\n",
        "# Call function with flexible no. of keywords\n",
        "print_all (name = 'Appa', position = 'Koddai')\n",
        "\n",
        "\n",
        "# Call function with flexible no. of keywords\n",
        "print_all (name = 'Appa', position = 'Koddai', employer = 'not worked ever', wife = 'Usha')"
      ],
      "metadata": {
        "id": "qf5thoJ-ZaD6",
        "outputId": "1313044b-b9d7-4ffc-e0c2-d6c107e51620",
        "colab": {
          "base_uri": "https://localhost:8080/"
        }
      },
      "execution_count": null,
      "outputs": [
        {
          "output_type": "stream",
          "name": "stdout",
          "text": [
            "name Appa\n",
            "position Koddai\n",
            "name Appa\n",
            "position Koddai\n",
            "employer not worked ever\n",
            "wife Usha\n"
          ]
        }
      ]
    },
    {
      "cell_type": "code",
      "source": [
        "# Define report_status\n",
        "def report_status(**kwargs):\n",
        "    \"\"\"Print out the status of a movie character.\"\"\"\n",
        "\n",
        "    print(\"\\nBEGIN: REPORT\\n\")\n",
        "\n",
        "    # Iterate over the key-value pairs of kwargs\n",
        "    for a, b in kwargs.items():\n",
        "        # Print out the keys and values, separated by a colon ':'\n",
        "        print(a + \": \" + b)\n",
        "\n",
        "    print(\"\\nEND REPORT\")\n",
        "\n",
        "# First call to report_status()\n",
        "report_status (name=\"luke\", affiliation=\"jedi\", status=\"missing\")\n",
        "\n",
        "# Second call to report_status()\n",
        "report_status(name='anakin', affiliation='sith lord', status='deceased')"
      ],
      "metadata": {
        "id": "9KSn_udTrVyp",
        "outputId": "f6029394-30b3-4aa8-9f88-db5014409a86",
        "colab": {
          "base_uri": "https://localhost:8080/"
        }
      },
      "execution_count": null,
      "outputs": [
        {
          "output_type": "stream",
          "name": "stdout",
          "text": [
            "\n",
            "BEGIN: REPORT\n",
            "\n",
            "name: luke\n",
            "affiliation: jedi\n",
            "status: missing\n",
            "\n",
            "END REPORT\n",
            "\n",
            "BEGIN: REPORT\n",
            "\n",
            "name: anakin\n",
            "affiliation: sith lord\n",
            "status: deceased\n",
            "\n",
            "END REPORT\n"
          ]
        }
      ]
    },
    {
      "cell_type": "markdown",
      "source": [
        "##Include a default argument that takes a column name"
      ],
      "metadata": {
        "id": "VbHfZ0iqSZS3"
      }
    },
    {
      "cell_type": "code",
      "source": [
        "# Import Pandas and tweets.csv from GitHub\n",
        "import pandas as pd\n",
        "tweets_df = pd.read_csv ('https://raw.githubusercontent.com/nirmalaraj77/Python/main/tweets.csv')\n",
        "\n",
        "\n",
        "# Define count_entries()\n",
        "def count_entries(df, col_name = 'lang'):\n",
        "    \"\"\"Return a dictionary with counts of occurrences as value for each key.\"\"\"\n",
        "\n",
        "    # Initialize an empty dictionary: cols_count\n",
        "    cols_count = {}\n",
        "\n",
        "    # Extract column from DataFrame: col\n",
        "    col = df[col_name]\n",
        "    \n",
        "    # Iterate over the column in DataFrame\n",
        "    for entry in col:\n",
        "\n",
        "        # If entry is in cols_count, add 1\n",
        "        if entry in cols_count.keys():\n",
        "            cols_count[entry] += 1\n",
        "\n",
        "        # Else add the entry to cols_count, set the value to 1\n",
        "        else:\n",
        "            cols_count[entry] = 1\n",
        "\n",
        "    # Return the cols_count dictionary\n",
        "    return cols_count\n",
        "\n",
        "# Call count_entries(): result1\n",
        "result1 = count_entries (tweets_df)\n",
        "\n",
        "# Call count_entries(): result2\n",
        "result2 = (tweets_df, 'source')\n",
        "\n",
        "# Print result1 and result2\n",
        "print(result1)\n",
        "print(result2)"
      ],
      "metadata": {
        "id": "LdX9Wcko7CJT",
        "outputId": "3f0292f8-b890-4a9d-ec19-62b9efa5a6db",
        "colab": {
          "base_uri": "https://localhost:8080/"
        }
      },
      "execution_count": null,
      "outputs": [
        {
          "output_type": "stream",
          "name": "stdout",
          "text": [
            "{'en': 97, 'et': 1, 'und': 2}\n",
            "(    contributors  coordinates                      created_at  \\\n",
            "0            NaN          NaN  Tue Mar 29 23:40:17 +0000 2016   \n",
            "1            NaN          NaN  Tue Mar 29 23:40:17 +0000 2016   \n",
            "2            NaN          NaN  Tue Mar 29 23:40:17 +0000 2016   \n",
            "3            NaN          NaN  Tue Mar 29 23:40:17 +0000 2016   \n",
            "4            NaN          NaN  Tue Mar 29 23:40:17 +0000 2016   \n",
            "..           ...          ...                             ...   \n",
            "95           NaN          NaN  Tue Mar 29 23:40:19 +0000 2016   \n",
            "96           NaN          NaN  Tue Mar 29 23:40:19 +0000 2016   \n",
            "97           NaN          NaN  Tue Mar 29 23:40:19 +0000 2016   \n",
            "98           NaN          NaN  Tue Mar 29 23:40:19 +0000 2016   \n",
            "99           NaN          NaN  Tue Mar 29 23:40:19 +0000 2016   \n",
            "\n",
            "                                             entities  \\\n",
            "0   {'hashtags': [], 'user_mentions': [{'screen_na...   \n",
            "1   {'hashtags': [{'text': 'cruzsexscandal', 'indi...   \n",
            "2   {'hashtags': [], 'user_mentions': [], 'symbols...   \n",
            "3   {'hashtags': [], 'user_mentions': [], 'symbols...   \n",
            "4   {'hashtags': [], 'user_mentions': [{'screen_na...   \n",
            "..                                                ...   \n",
            "95  {'hashtags': [], 'user_mentions': [{'screen_na...   \n",
            "96  {'hashtags': [], 'user_mentions': [], 'symbols...   \n",
            "97  {'hashtags': [{'text': 'NeverTrump', 'indices'...   \n",
            "98  {'hashtags': [], 'user_mentions': [], 'symbols...   \n",
            "99  {'hashtags': [], 'user_mentions': [{'screen_na...   \n",
            "\n",
            "                                    extended_entities  favorite_count  \\\n",
            "0   {'media': [{'sizes': {'large': {'w': 1024, 'h'...               0   \n",
            "1   {'media': [{'sizes': {'large': {'w': 500, 'h':...               0   \n",
            "2                                                 NaN               0   \n",
            "3                                                 NaN               0   \n",
            "4                                                 NaN               0   \n",
            "..                                                ...             ...   \n",
            "95                                                NaN               0   \n",
            "96                                                NaN               0   \n",
            "97                                                NaN               0   \n",
            "98                                                NaN               0   \n",
            "99                                                NaN               0   \n",
            "\n",
            "    favorited filter_level  geo                  id  ...  quoted_status_id  \\\n",
            "0       False          low  NaN  714960401759387648  ...               NaN   \n",
            "1       False          low  NaN  714960401977319424  ...               NaN   \n",
            "2       False          low  NaN  714960402426236928  ...               NaN   \n",
            "3       False          low  NaN  714960402367561730  ...      7.149239e+17   \n",
            "4       False          low  NaN  714960402149416960  ...               NaN   \n",
            "..        ...          ...  ...                 ...  ...               ...   \n",
            "95      False          low  NaN  714960410345136129  ...               NaN   \n",
            "96      False          low  NaN  714960410181570560  ...      7.149602e+17   \n",
            "97      False          low  NaN  714960410332377088  ...               NaN   \n",
            "98      False          low  NaN  714960410181570560  ...      7.149602e+17   \n",
            "99      False          low  NaN  714960410194018304  ...      7.149254e+17   \n",
            "\n",
            "   quoted_status_id_str  retweet_count  retweeted  \\\n",
            "0                   NaN              0      False   \n",
            "1                   NaN              0      False   \n",
            "2                   NaN              0      False   \n",
            "3          7.149239e+17              0      False   \n",
            "4                   NaN              0      False   \n",
            "..                  ...            ...        ...   \n",
            "95                  NaN              0      False   \n",
            "96         7.149602e+17              0      False   \n",
            "97                  NaN              0      False   \n",
            "98         7.149602e+17              0      False   \n",
            "99         7.149254e+17              0      False   \n",
            "\n",
            "                                     retweeted_status  \\\n",
            "0   {'retweeted': False, 'text': \".@krollbondratin...   \n",
            "1   {'retweeted': False, 'text': '@dmartosko Cruz ...   \n",
            "2                                                 NaN   \n",
            "3                                                 NaN   \n",
            "4   {'retweeted': False, 'text': 'The anti-America...   \n",
            "..                                                ...   \n",
            "95  {'retweeted': False, 'lang': 'en', 'favorite_c...   \n",
            "96                                                NaN   \n",
            "97  {'retweeted': False, 'text': \"Seriously can't ...   \n",
            "98                                                NaN   \n",
            "99                                                NaN   \n",
            "\n",
            "                                               source  \\\n",
            "0   <a href=\"http://twitter.com\" rel=\"nofollow\">Tw...   \n",
            "1   <a href=\"http://twitter.com\" rel=\"nofollow\">Tw...   \n",
            "2   <a href=\"http://www.facebook.com/twitter\" rel=...   \n",
            "3   <a href=\"http://twitter.com/download/android\" ...   \n",
            "4   <a href=\"http://twitter.com/download/iphone\" r...   \n",
            "..                                                ...   \n",
            "95  <a href=\"http://twitter.com/download/iphone\" r...   \n",
            "96  <a href=\"http://twitter.com\" rel=\"nofollow\">Tw...   \n",
            "97  <a href=\"http://twitter.com/download/iphone\" r...   \n",
            "98  <a href=\"http://twitter.com\" rel=\"nofollow\">Tw...   \n",
            "99  <a href=\"http://twitter.com/download/iphone\" r...   \n",
            "\n",
            "                                                 text   timestamp_ms  \\\n",
            "0   RT @bpolitics: .@krollbondrating's Christopher...  1459294817758   \n",
            "1   RT @HeidiAlpine: @dmartosko Cruz video found.....  1459294817810   \n",
            "2   Njihuni me Zonjën Trump !!! | Ekskluzive https...  1459294817917   \n",
            "3   Your an idiot she shouldn't have tried to grab...  1459294817903   \n",
            "4   RT @AlanLohner: The anti-American D.C. elites ...  1459294817851   \n",
            "..                                                ...            ...   \n",
            "95  RT @claytoncubitt: Stop asking Bernie supporte...  1459294819805   \n",
            "96  Kasich is gonna fuck this up for Ted Cruz  htt...  1459294819766   \n",
            "97  RT @akaMaude13: Seriously can't make this up. ...  1459294819802   \n",
            "98  Kasich is gonna fuck this up for Ted Cruz  htt...  1459294819766   \n",
            "99  @marklevinshow try reporting this truth. https...  1459294819769   \n",
            "\n",
            "   truncated                                               user  \n",
            "0      False  {'utc_offset': 3600, 'profile_image_url_https'...  \n",
            "1      False  {'utc_offset': None, 'profile_image_url_https'...  \n",
            "2      False  {'utc_offset': 7200, 'profile_image_url_https'...  \n",
            "3      False  {'utc_offset': None, 'profile_image_url_https'...  \n",
            "4      False  {'utc_offset': -18000, 'profile_image_url_http...  \n",
            "..       ...                                                ...  \n",
            "95     False  {'utc_offset': None, 'profile_image_url_https'...  \n",
            "96     False  {'utc_offset': -18000, 'profile_image_url_http...  \n",
            "97     False  {'utc_offset': None, 'profile_image_url_https'...  \n",
            "98     False  {'utc_offset': -18000, 'profile_image_url_http...  \n",
            "99     False  {'utc_offset': -21600, 'profile_image_url_http...  \n",
            "\n",
            "[100 rows x 31 columns], 'source')\n"
          ]
        }
      ]
    },
    {
      "cell_type": "markdown",
      "source": [
        "##Include a default argument that takes multiple column names with *args"
      ],
      "metadata": {
        "id": "6jOkRXG8S3ei"
      }
    },
    {
      "cell_type": "code",
      "source": [
        "# Import Pandas and tweets.csv from GitHub\n",
        "import pandas as pd\n",
        "tweets_df = pd.read_csv ('https://raw.githubusercontent.com/nirmalaraj77/Python/main/tweets.csv')\n",
        "\n",
        "\n",
        "# Define count_entries()\n",
        "def count_entries(df, *args):\n",
        "    \"\"\"Return a dictionary with counts of occurrences as value for each key.\"\"\"\n",
        "    \n",
        "    #Initialize an empty dictionary: cols_count\n",
        "    cols_count = {}\n",
        "    \n",
        "    # Iterate over column names in args\n",
        "    for col_name in args:\n",
        "    \n",
        "        # Extract column from DataFrame: col\n",
        "        col = df[col_name]\n",
        "    \n",
        "        # Iterate over the column in DataFrame\n",
        "        for entry in col:\n",
        "    \n",
        "            # If entry is in cols_count, add 1\n",
        "            if entry in cols_count.keys():\n",
        "                cols_count[entry] += 1\n",
        "    \n",
        "            # Else add the entry to cols_count, set the value to 1\n",
        "            else:\n",
        "                cols_count[entry] = 1\n",
        "\n",
        "    # Return the cols_count dictionary\n",
        "    return cols_count\n",
        "\n",
        "# Call count_entries(): result1\n",
        "result1 = count_entries(tweets_df, 'lang')\n",
        "\n",
        "# Call count_entries(): result2\n",
        "result2 = count_entries(tweets_df, 'lang', 'source')\n",
        "\n",
        "# Print result1 and result2\n",
        "print(result1)\n",
        "print(result2)"
      ],
      "metadata": {
        "id": "_obalP8PAscK",
        "outputId": "d990561b-761a-4fde-9dbb-068db889df3c",
        "colab": {
          "base_uri": "https://localhost:8080/"
        }
      },
      "execution_count": null,
      "outputs": [
        {
          "output_type": "stream",
          "name": "stdout",
          "text": [
            "{'en': 97, 'et': 1, 'und': 2}\n",
            "{'en': 97, 'et': 1, 'und': 2, '<a href=\"http://twitter.com\" rel=\"nofollow\">Twitter Web Client</a>': 24, '<a href=\"http://www.facebook.com/twitter\" rel=\"nofollow\">Facebook</a>': 1, '<a href=\"http://twitter.com/download/android\" rel=\"nofollow\">Twitter for Android</a>': 26, '<a href=\"http://twitter.com/download/iphone\" rel=\"nofollow\">Twitter for iPhone</a>': 33, '<a href=\"http://www.twitter.com\" rel=\"nofollow\">Twitter for BlackBerry</a>': 2, '<a href=\"http://www.google.com/\" rel=\"nofollow\">Google</a>': 2, '<a href=\"http://twitter.com/#!/download/ipad\" rel=\"nofollow\">Twitter for iPad</a>': 6, '<a href=\"http://linkis.com\" rel=\"nofollow\">Linkis.com</a>': 2, '<a href=\"http://rutracker.org/forum/viewforum.php?f=93\" rel=\"nofollow\">newzlasz</a>': 2, '<a href=\"http://ifttt.com\" rel=\"nofollow\">IFTTT</a>': 1, '<a href=\"http://www.myplume.com/\" rel=\"nofollow\">Plume\\xa0for\\xa0Android</a>': 1}\n"
          ]
        }
      ]
    },
    {
      "cell_type": "markdown",
      "source": [
        "#**Lambda Functions**\n",
        "### - Quicker way to write functions\n",
        "### - Uses keyword lambda\n",
        "### - Syntax : function_name = lambda argument1, argument2 : expression"
      ],
      "metadata": {
        "id": "ezgm90QeauOi"
      }
    },
    {
      "cell_type": "code",
      "source": [
        "# Define raise_to_power as lambda function to exponent y of base x\n",
        "raise_to_power = lambda x, y : x ** y\n",
        "\n",
        "# Call lambda function\n",
        "raise_to_power (5, 4)"
      ],
      "metadata": {
        "id": "5q48R8bia75B",
        "outputId": "7ba154bb-67d4-4205-acae-cafe2857b012",
        "colab": {
          "base_uri": "https://localhost:8080/"
        }
      },
      "execution_count": null,
      "outputs": [
        {
          "output_type": "execute_result",
          "data": {
            "text/plain": [
              "625"
            ]
          },
          "metadata": {},
          "execution_count": 7
        }
      ]
    },
    {
      "cell_type": "code",
      "source": [
        "# Define echo_word as lambda function to multiply a string \n",
        "echo_word = lambda word, echo : word * echo\n",
        "\n",
        "# Call echo_word with input operator\n",
        "word1 = str(input ('word  '))\n",
        "echo1 = int(input('no. of times   '))\n",
        "print (echo_word(word1, echo1))"
      ],
      "metadata": {
        "id": "QWE_hPn4-Vvp",
        "outputId": "501f462b-74fe-4e67-850b-a7864bc04e82",
        "colab": {
          "base_uri": "https://localhost:8080/"
        }
      },
      "execution_count": null,
      "outputs": [
        {
          "output_type": "stream",
          "name": "stdout",
          "text": [
            "word  aaaaaa\n",
            "no. of times   6\n",
            "aaaaaaaaaaaaaaaaaaaaaaaaaaaaaaaaaaaa\n"
          ]
        }
      ]
    },
    {
      "cell_type": "markdown",
      "source": [
        "#**Lambda Functions as Anonymous**\n",
        "### - Pass lambda functions to larger expressions\n",
        "### - lambda functions will not be defined and are anonymous"
      ],
      "metadata": {
        "id": "vdzjm5ojYsZH"
      }
    },
    {
      "cell_type": "markdown",
      "source": [
        "##**Lambda function with map**\n",
        "### - map applies lambda function to all arguments in sequence\n",
        "### - Syntax map(lambda argument: expression, collection)\n",
        "### - Define lambda to take arguments from collection"
      ],
      "metadata": {
        "id": "JiQKnvAqcMXC"
      }
    },
    {
      "cell_type": "code",
      "source": [
        "# Function map takes 2 arguments: map(func, seq)\n",
        "\n",
        "# map () applies function to all arguments in sequence\n",
        "\n",
        "# Pass lambda functions to map without naming them (anonymous)\n",
        "\n",
        "nums = [5, 6, 7, 8]\n",
        "square_all = map(lambda x : x ** 2, nums)\n",
        "\n",
        "# Printing square_all returns map object\n",
        "print (square_all)\n",
        "\n",
        "# Convert square_all to list and print\n",
        "print (list(square_all))"
      ],
      "metadata": {
        "id": "o75h7zR2cQkb",
        "outputId": "0fad0557-7463-46ad-9486-fe31bc0e61cc",
        "colab": {
          "base_uri": "https://localhost:8080/"
        }
      },
      "execution_count": null,
      "outputs": [
        {
          "output_type": "stream",
          "name": "stdout",
          "text": [
            "<map object at 0x7fe5edc1b210>\n",
            "[25, 36, 49, 64]\n",
            "<map object at 0x7fe5edc166d0>\n",
            "[25, 36, 49, 64]\n"
          ]
        }
      ]
    },
    {
      "cell_type": "code",
      "source": [
        "# Create a list of strings: spells\n",
        "spells = [\"protego\", \"accio\", \"expecto patronum\", \"legilimens\"]\n",
        "\n",
        "# Use map() to apply a lambda function over spells: shout_spells\n",
        "shout_spells = map(lambda string : string + ' !!!', spells)\n",
        "\n",
        "# Convert shout_spells to a list and print\n",
        "print (list(shout_spells))"
      ],
      "metadata": {
        "id": "CKOB6_BCeIvl",
        "outputId": "6dd1fc95-5505-458d-d2ca-2e216fd88ac0",
        "colab": {
          "base_uri": "https://localhost:8080/"
        }
      },
      "execution_count": null,
      "outputs": [
        {
          "output_type": "stream",
          "name": "stdout",
          "text": [
            "['protego !!!', 'accio !!!', 'expecto patronum !!!', 'legilimens !!!']\n"
          ]
        }
      ]
    },
    {
      "cell_type": "markdown",
      "source": [
        "##**Lambda function with filter()**\n",
        "### - Syntax filter(lambda argument: expression, collection)\n",
        "### - filter() filters out elements from a collection that don't satisfy certain criteria\n",
        "### - Define lambda to take arguments from collection"
      ],
      "metadata": {
        "id": "p9ezap17_jCf"
      }
    },
    {
      "cell_type": "code",
      "source": [
        "# Create a list of strings: fellowship\n",
        "fellowship = ['frodo', 'samwise', 'merry', 'pippin', 'aragorn', 'boromir', 'legolas', 'gimli', 'gandalf']\n",
        "\n",
        "# Use filter() to apply a lambda function over fellowship: result\n",
        "result = filter(lambda a: len(a)>6, fellowship)\n",
        "\n",
        "# Convert result as a list \n",
        "print(list(result))\n",
        "\n",
        "\n",
        "\n",
        "\n",
        "\n",
        "# Create a tuple of numbers : nums \n",
        "nums = (5,6,7,8,)\n",
        "\n",
        "# Use filter() to apply a lambda function over nums : result\n",
        "result = filter(lambda a: a <= 7, nums)\n",
        "\n",
        "# Convert result as a list \n",
        "print(list(result))"
      ],
      "metadata": {
        "id": "gu7hktW0Bgms",
        "outputId": "3e1a860b-57a2-479b-f4b8-03013e4dfade",
        "colab": {
          "base_uri": "https://localhost:8080/"
        }
      },
      "execution_count": null,
      "outputs": [
        {
          "output_type": "stream",
          "name": "stdout",
          "text": [
            "['samwise', 'aragorn', 'boromir', 'legolas', 'gandalf']\n",
            "[5, 6, 7]\n"
          ]
        }
      ]
    },
    {
      "cell_type": "markdown",
      "source": [
        "##**Lambda function with reduce ()**\n",
        "### - Syntax reduce (lambda argument: expression, list)\n",
        "### - reduce () performs computation on a collection and, unlike map() and filter(), returns a single value as a result\n",
        "### - Import reduce () from the functools module"
      ],
      "metadata": {
        "id": "HcQRc0z6UfLl"
      }
    },
    {
      "cell_type": "code",
      "source": [
        "# Import reduce from functools\n",
        "from functools import reduce\n",
        "\n",
        "# Create a list of strings: stark\n",
        "stark = ['robb', 'sansa', 'arya', 'brandon', 'rickon']\n",
        "\n",
        "# Use reduce() to apply a lambda function over stark: result\n",
        "result = reduce(lambda item1, item2 : item1+item2, stark)\n",
        "\n",
        "# Print the result\n",
        "print(result)\n",
        "\n",
        "\n",
        "\n",
        "\n",
        "# Create a tuple of numbers : nums \n",
        "nums = (5,6,7,8,)\n",
        "\n",
        "# Use reduce() to apply a lambda function over nums : result\n",
        "result = reduce(lambda i1, i2 : i1+i2, nums)\n",
        "\n",
        "# Print the result\n",
        "print(result)"
      ],
      "metadata": {
        "id": "8QpalOV6VG5a",
        "outputId": "bab2f889-af75-496e-beb5-9a264556461a",
        "colab": {
          "base_uri": "https://localhost:8080/"
        }
      },
      "execution_count": null,
      "outputs": [
        {
          "output_type": "stream",
          "name": "stdout",
          "text": [
            "robbsansaaryabrandonrickon\n",
            "26\n"
          ]
        }
      ]
    },
    {
      "cell_type": "markdown",
      "source": [
        "#**Error handling**"
      ],
      "metadata": {
        "id": "2ayfBzguVlN_"
      }
    },
    {
      "cell_type": "markdown",
      "source": [
        "##Error handling with try-except"
      ],
      "metadata": {
        "id": "hPio5SaSXYfj"
      }
    },
    {
      "cell_type": "code",
      "source": [
        "# Define shout_echo\n",
        "def shout_echo(word1, echo=1):\n",
        "    \"\"\"Concatenate echo copies of word1 and three\n",
        "    exclamation marks at the end of the string.\"\"\"\n",
        "\n",
        "    # Initialize empty strings: echo_word, shout_words\n",
        "    echo_word = \"\"\n",
        "    shout_words = \"\"\n",
        "\n",
        "    # Add exception handling with try-except\n",
        "    try :\n",
        "        # Concatenate echo copies of word1 using *: echo_word\n",
        "        echo_word = word1 *echo\n",
        "\n",
        "        # Concatenate '!!!' to echo_word: shout_words\n",
        "        shout_words = echo_word + '!!!'\n",
        "    except:\n",
        "        # Print error message\n",
        "        print(\"word1 must be a string and echo must be an integer.\")\n",
        "\n",
        "    # Return shout_words\n",
        "    return shout_words\n",
        "\n",
        "# Call shout_echo\n",
        "shout_echo(\"particle\", echo=\"accelerator\")"
      ],
      "metadata": {
        "id": "KTWS2Sm6WiZv",
        "outputId": "f4260f5e-0f0e-4060-bb4e-d16685cdae65",
        "colab": {
          "base_uri": "https://localhost:8080/",
          "height": 52
        }
      },
      "execution_count": null,
      "outputs": [
        {
          "output_type": "stream",
          "name": "stdout",
          "text": [
            "word1 must be a string and echo must be an integer.\n"
          ]
        },
        {
          "output_type": "execute_result",
          "data": {
            "text/plain": [
              "''"
            ],
            "application/vnd.google.colaboratory.intrinsic+json": {
              "type": "string"
            }
          },
          "metadata": {},
          "execution_count": 102
        }
      ]
    },
    {
      "cell_type": "markdown",
      "source": [
        "##Error handling by raising error with if-raise\n",
        "### - Raise ValueError\n",
        "### - Raise TypeError"
      ],
      "metadata": {
        "id": "YM_e7CL-XnyG"
      }
    },
    {
      "cell_type": "code",
      "source": [
        "# Define shout_echo\n",
        "def shout_echo(word1, echo=1):\n",
        "    \"\"\"Concatenate echo copies of word1 and three\n",
        "    exclamation marks at the end of the string.\"\"\"\n",
        "\n",
        "    # Raise an error with raise\n",
        "    if echo < 0:\n",
        "        raise ValueError('echo must be greater than or equal to 0')\n",
        "\n",
        "    # Concatenate echo copies of word1 using *: echo_word\n",
        "    echo_word = word1 * echo\n",
        "\n",
        "    # Concatenate '!!!' to echo_word: shout_word\n",
        "    shout_word = echo_word + '!!!'\n",
        "\n",
        "    # Return shout_word\n",
        "    return shout_word\n",
        "\n",
        "# Call shout_echo\n",
        "shout_echo(\"particle\", echo=33)"
      ],
      "metadata": {
        "id": "MrA83TCeXrPV",
        "outputId": "d9a5b6bb-faf8-4040-9c7f-c9c8109ea3ca",
        "colab": {
          "base_uri": "https://localhost:8080/",
          "height": 52
        }
      },
      "execution_count": null,
      "outputs": [
        {
          "output_type": "execute_result",
          "data": {
            "text/plain": [
              "'particleparticleparticleparticleparticleparticleparticleparticleparticleparticleparticleparticleparticleparticleparticleparticleparticleparticleparticleparticleparticleparticleparticleparticleparticleparticleparticleparticleparticleparticleparticleparticleparticle!!!'"
            ],
            "application/vnd.google.colaboratory.intrinsic+json": {
              "type": "string"
            }
          },
          "metadata": {},
          "execution_count": 114
        }
      ]
    },
    {
      "cell_type": "code",
      "source": [
        "# Import Pandas and tweets.csv from GitHub\n",
        "import pandas as pd\n",
        "tweets_df = pd.read_csv ('https://raw.githubusercontent.com/nirmalaraj77/Python/main/tweets.csv')\n",
        "\n",
        "# Define count_entries()\n",
        "def count_entries(df, col_name='lang'):\n",
        "    \"\"\"Return a dictionary with counts of\n",
        "    occurrences as value for each key.\"\"\"\n",
        "\n",
        "    # Initialize an empty dictionary: cols_count\n",
        "    cols_count = {}\n",
        "\n",
        "    # Add try block\n",
        "    try:\n",
        "        # Extract column from DataFrame: col\n",
        "        col = df[col_name]\n",
        "        \n",
        "        # Iterate over the column in DataFrame\n",
        "        for entry in col:\n",
        "    \n",
        "            # If entry is in cols_count, add 1\n",
        "            if entry in cols_count.keys():\n",
        "                cols_count[entry] += 1\n",
        "            # Else add the entry to cols_count, set the value to 1\n",
        "            else:\n",
        "                cols_count[entry] = 1\n",
        "    \n",
        "        # Return the cols_count dictionary\n",
        "        return cols_count\n",
        "\n",
        "    # Add except block\n",
        "    except :\n",
        "        'The DataFrame does not have a ' + col_name + ' column.'\n",
        "\n",
        "# Call count_entries(): result1\n",
        "result1 = count_entries(tweets_df, 'lang')\n",
        "\n",
        "# Print result1\n",
        "print(result1)"
      ],
      "metadata": {
        "id": "fI3WpkPBYmtY",
        "outputId": "9235a162-f3d3-4c4b-94c5-552915e828bf",
        "colab": {
          "base_uri": "https://localhost:8080/"
        }
      },
      "execution_count": null,
      "outputs": [
        {
          "output_type": "stream",
          "name": "stdout",
          "text": [
            "{'en': 97, 'et': 1, 'und': 2}\n"
          ]
        }
      ]
    },
    {
      "cell_type": "code",
      "source": [
        "# Import Pandas and tweets.csv from GitHub\n",
        "import pandas as pd\n",
        "tweets_df = pd.read_csv ('https://raw.githubusercontent.com/nirmalaraj77/Python/main/tweets.csv')\n",
        "\n",
        "\n",
        "# Define count_entries()\n",
        "def count_entries(df, col_name='lang'):\n",
        "    \"\"\"Return a dictionary with counts of\n",
        "    occurrences as value for each key.\"\"\"\n",
        "    \n",
        "    # Raise a ValueError if col_name is NOT in DataFrame\n",
        "    if col_name not in df.columns:\n",
        "        raise ValueError('The DataFrame does not have a ' + col_name + ' column.')\n",
        "\n",
        "    # Initialize an empty dictionary: cols_count\n",
        "    cols_count = {}\n",
        "    \n",
        "    # Extract column from DataFrame: col\n",
        "    col = df[col_name]\n",
        "    \n",
        "    # Iterate over the column in DataFrame\n",
        "    for entry in col:\n",
        "\n",
        "        # If entry is in cols_count, add 1\n",
        "        if entry in cols_count.keys():\n",
        "            cols_count[entry] += 1\n",
        "            # Else add the entry to cols_count, set the value to 1\n",
        "        else:\n",
        "            cols_count[entry] = 1\n",
        "        \n",
        "        # Return the cols_count dictionary\n",
        "    return cols_count\n",
        "\n",
        "# Call count_entries(): result1\n",
        "result1 = count_entries (tweets_df, 'lang')\n",
        "\n",
        "# Print result1\n",
        "print(result1)"
      ],
      "metadata": {
        "id": "RHE6An_ram3p",
        "outputId": "eab69d26-23b9-4667-8d85-2cac7722142b",
        "colab": {
          "base_uri": "https://localhost:8080/"
        }
      },
      "execution_count": null,
      "outputs": [
        {
          "output_type": "stream",
          "name": "stdout",
          "text": [
            "{'en': 97, 'et': 1, 'und': 2}\n"
          ]
        }
      ]
    },
    {
      "cell_type": "markdown",
      "source": [
        "#**Iterators and Iterables**\n",
        "\n",
        "### - An iterable is an object that can return an iterator\n",
        "### - An iterator is an object that keeps state and produces the next value when called next() on it.\n",
        "<br>\n",
        "\n",
        "## Iterables \n",
        "### - An object that has an associated iter () method\n",
        "### - Applying iter() to an iterable creates an iterator\n",
        "### - Example: lists, strings, dicts, file connections \n",
        "<br>\n",
        "\n",
        "## Iterators\n",
        "### - An object that produces consequtive values with next ()\n"
      ],
      "metadata": {
        "id": "GyChAY6Id72q"
      }
    },
    {
      "cell_type": "markdown",
      "source": [
        "##Iterating over collections"
      ],
      "metadata": {
        "id": "CFi659y7RBGx"
      }
    },
    {
      "cell_type": "code",
      "source": [
        "# Iterate over string characters\n",
        "for x in 'DocString':\n",
        "\tprint (x)\n",
        " \n",
        "\n",
        "\n",
        "# Iterate over lists\n",
        "family = ['Nirmal', 'Raji', 'Shana', 'Hari']\n",
        "for members in family:\n",
        "\tprint (members)\n",
        " \n",
        " \n",
        "\n",
        "# Iterate over special range objects \n",
        "for i in range(4):\n",
        "\tprint (i)"
      ],
      "metadata": {
        "id": "ankpg1z3d7hz",
        "outputId": "ee076d01-fb5d-42e2-ae2f-cd8c8a32edab",
        "colab": {
          "base_uri": "https://localhost:8080/"
        }
      },
      "execution_count": null,
      "outputs": [
        {
          "output_type": "stream",
          "name": "stdout",
          "text": [
            "D\n",
            "o\n",
            "c\n",
            "S\n",
            "t\n",
            "r\n",
            "i\n",
            "n\n",
            "g\n",
            "Nirmal\n",
            "Raji\n",
            "Shana\n",
            "Hari\n",
            "0\n",
            "1\n",
            "2\n",
            "3\n"
          ]
        }
      ]
    },
    {
      "cell_type": "markdown",
      "source": [
        "## Iterating over Iterables : iter and next ()\n",
        "### - Runs one by one until no iterators are left"
      ],
      "metadata": {
        "id": "b73OJJIGeypT"
      }
    },
    {
      "cell_type": "code",
      "source": [
        "# Runs 1 by 1 until no iterators left\n",
        "word = 'Daddy'\n",
        "it = iter (word)\n",
        "\n",
        "print (next(it))\n",
        "\n",
        "print (next (it))\n",
        "\n",
        "print (next (it))\n",
        "\n",
        "print (next (it))\n",
        "\n",
        "print (next (it))\n",
        "\n",
        "print (next (it))\n"
      ],
      "metadata": {
        "id": "DfYBtBNoe4dc",
        "outputId": "0b726cb3-8b97-4713-bc8a-a46653e3d3bc",
        "colab": {
          "base_uri": "https://localhost:8080/",
          "height": 288
        }
      },
      "execution_count": null,
      "outputs": [
        {
          "output_type": "stream",
          "name": "stdout",
          "text": [
            "D\n",
            "a\n",
            "d\n",
            "d\n",
            "y\n"
          ]
        },
        {
          "output_type": "error",
          "ename": "StopIteration",
          "evalue": "ignored",
          "traceback": [
            "\u001b[0;31m---------------------------------------------------------------------------\u001b[0m",
            "\u001b[0;31mStopIteration\u001b[0m                             Traceback (most recent call last)",
            "\u001b[0;32m<ipython-input-21-4341c4935d9a>\u001b[0m in \u001b[0;36m<module>\u001b[0;34m\u001b[0m\n\u001b[1;32m     13\u001b[0m \u001b[0mprint\u001b[0m \u001b[0;34m(\u001b[0m\u001b[0mnext\u001b[0m \u001b[0;34m(\u001b[0m\u001b[0mit\u001b[0m\u001b[0;34m)\u001b[0m\u001b[0;34m)\u001b[0m\u001b[0;34m\u001b[0m\u001b[0;34m\u001b[0m\u001b[0m\n\u001b[1;32m     14\u001b[0m \u001b[0;34m\u001b[0m\u001b[0m\n\u001b[0;32m---> 15\u001b[0;31m \u001b[0mprint\u001b[0m \u001b[0;34m(\u001b[0m\u001b[0mnext\u001b[0m \u001b[0;34m(\u001b[0m\u001b[0mit\u001b[0m\u001b[0;34m)\u001b[0m\u001b[0;34m)\u001b[0m\u001b[0;34m\u001b[0m\u001b[0;34m\u001b[0m\u001b[0m\n\u001b[0m",
            "\u001b[0;31mStopIteration\u001b[0m: "
          ]
        }
      ]
    },
    {
      "cell_type": "markdown",
      "metadata": {
        "id": "afdea2fa"
      },
      "source": [
        "## Iterating at once with Iter and Star / Splat *\n",
        "### - Unpacks all elements of iterator\n",
        "### - Cannot run again as no more values - have to redefine"
      ]
    },
    {
      "cell_type": "code",
      "execution_count": null,
      "metadata": {
        "id": "0c526bcf",
        "outputId": "72eb9a2e-52e2-456f-cec2-8d1cef395473",
        "colab": {
          "base_uri": "https://localhost:8080/"
        }
      },
      "outputs": [
        {
          "output_type": "stream",
          "name": "stdout",
          "text": [
            "D a t a\n"
          ]
        }
      ],
      "source": [
        "word = 'Data'\n",
        "it = iter (word)\n",
        "print (*it)"
      ]
    },
    {
      "cell_type": "markdown",
      "source": [
        "##Iterating over Dictionaries"
      ],
      "metadata": {
        "id": "M8X2JI2yfteI"
      }
    },
    {
      "cell_type": "code",
      "source": [
        "# To unpack \n",
        "family = {'father' : 'Nirmal', 'mother' : 'Raji', 'daughter' : 'Shana', 'son' : 'Hari'}\n",
        "for key, value in family.items():\n",
        "\tprint (key, value)"
      ],
      "metadata": {
        "id": "tl0PVqCJf00Y",
        "outputId": "fdcc3268-3e82-4faf-9db2-9730d215a943",
        "colab": {
          "base_uri": "https://localhost:8080/"
        }
      },
      "execution_count": null,
      "outputs": [
        {
          "output_type": "stream",
          "name": "stdout",
          "text": [
            "father Nirmal\n",
            "mother Raji\n",
            "daughter Shana\n",
            "son Hari\n"
          ]
        }
      ]
    },
    {
      "cell_type": "markdown",
      "source": [
        "##Iterating over Lists"
      ],
      "metadata": {
        "id": "5_ri0jIKagON"
      }
    },
    {
      "cell_type": "code",
      "source": [
        "# Create a list of strings: flash\n",
        "flash = ['jay garrick', 'barry allen', 'wally west', 'bart allen']\n",
        "\n",
        "# Print each list item in flash using a for loop\n",
        "for person in flash:\n",
        "    print (person)\n",
        "\n",
        "\n",
        "# Create an iterator for flash: superhero\n",
        "superhero = iter (flash)\n",
        "\n",
        "# Print each item from the iterator\n",
        "print(next (superhero))\n",
        "print(next (superhero))\n",
        "print(next (superhero))\n",
        "print(next (superhero))\n"
      ],
      "metadata": {
        "id": "yo2kiE38j0xv",
        "outputId": "87a809af-19cc-4f1b-aded-b0d5f5c78d1a",
        "colab": {
          "base_uri": "https://localhost:8080/"
        }
      },
      "execution_count": null,
      "outputs": [
        {
          "output_type": "stream",
          "name": "stdout",
          "text": [
            "jay garrick\n",
            "barry allen\n",
            "wally west\n",
            "bart allen\n",
            "jay garrick\n",
            "barry allen\n",
            "wally west\n",
            "bart allen\n"
          ]
        }
      ]
    },
    {
      "cell_type": "markdown",
      "source": [
        "##Iterating over range"
      ],
      "metadata": {
        "id": "fL9YAnNGlDxg"
      }
    },
    {
      "cell_type": "code",
      "source": [
        "# Create an iterator for range(3): small_value\n",
        "small_value = iter (range (3))\n",
        "\n",
        "# Print the values in small_value\n",
        "print(next(small_value))\n",
        "print(next(small_value))\n",
        "print(next(small_value))\n",
        "\n",
        "# Loop over range(3) and print the values\n",
        "for x in range (3):\n",
        "  print (x)\n"
      ],
      "metadata": {
        "id": "3e-J4OaKkTP_",
        "outputId": "2e1c9103-c647-47bb-b279-ed741ee10578",
        "colab": {
          "base_uri": "https://localhost:8080/"
        }
      },
      "execution_count": null,
      "outputs": [
        {
          "output_type": "stream",
          "name": "stdout",
          "text": [
            "0\n",
            "1\n",
            "2\n",
            "0\n",
            "1\n",
            "2\n"
          ]
        }
      ]
    },
    {
      "cell_type": "markdown",
      "source": [
        "#**Note - Iterators that take function arguments**\n",
        "### - list () \n",
        "### - sum ()"
      ],
      "metadata": {
        "id": "1cbu8no7lxeo"
      }
    },
    {
      "cell_type": "code",
      "source": [
        "# Create list \n",
        "values = range(10, 21)\n",
        "values_list = list(values)\n",
        "print (values_list)\n",
        "\n",
        "# Get Sum\n",
        "values_sum = sum(values)\n",
        "print (values_sum)"
      ],
      "metadata": {
        "id": "2G05YSVOmBYx",
        "outputId": "734104f4-327a-416d-d1e5-c43bedd82884",
        "colab": {
          "base_uri": "https://localhost:8080/"
        }
      },
      "execution_count": null,
      "outputs": [
        {
          "output_type": "stream",
          "name": "stdout",
          "text": [
            "[10, 11, 12, 13, 14, 15, 16, 17, 18, 19, 20]\n",
            "165\n"
          ]
        }
      ]
    },
    {
      "cell_type": "markdown",
      "source": [
        "#**Note - Enumerate**\n",
        "### - Adds a counter to any iterable\n",
        "### - Can Convert to list and return tuple of indexes and objects\n",
        "### - Enumerate is itself an iterable - can unpack\n",
        "### - Syntax: for x, y in enumerate (collection_name)\n",
        "### - Can unpack enumerate with any number (default = 0)\n",
        "### - Syntax: for x, y in enumerate (list_name, start = number)\n",
        "### - Can use Splat * returns tuples\n"
      ],
      "metadata": {
        "id": "-tdVD1Ldmg44"
      }
    },
    {
      "cell_type": "code",
      "source": [
        "# Add a counter to any iterable\n",
        "\n",
        "# Define list\n",
        "avengers = ['hawkeye', 'iron man', 'thor', 'quicksilver']\n",
        "\n",
        "# Enumerate list\n",
        "e = enumerate (avengers)\n",
        "\n",
        "# Printing outputs enumerate object \n",
        "print (e)\n",
        "\n",
        "# Convert to list and return tuple of indexes and objects\n",
        "print (list(e))\n",
        "\n",
        "\n",
        "# Can enumerate with any index specified (default = 0)\n",
        "f = enumerate (avengers, start = 91)\n",
        "print (list(f))\n",
        "\n",
        "# can use Splat *\n",
        "z = enumerate (avengers, start = 201)\n",
        "print (*z)\n",
        "\n",
        "\n",
        "\n",
        "# Enumerate is itself an iterable - can unpack\n",
        "for a, x in enumerate (avengers):\n",
        "\tprint (a, x)\n",
        "\n",
        "# Can unpack enumerate with any index specified (default = 0)\n",
        "for a, x in enumerate (avengers, start = 101):\n",
        "\tprint (a, x)\n",
        " \n",
        "\n"
      ],
      "metadata": {
        "colab": {
          "base_uri": "https://localhost:8080/"
        },
        "id": "FwpY4dOeSugF",
        "outputId": "0b2d06c1-6b85-41e8-b1fe-522adbe55a1d"
      },
      "execution_count": null,
      "outputs": [
        {
          "output_type": "stream",
          "name": "stdout",
          "text": [
            "<enumerate object at 0x7fe5edb6b870>\n",
            "[(0, 'hawkeye'), (1, 'iron man'), (2, 'thor'), (3, 'quicksilver')]\n",
            "[(91, 'hawkeye'), (92, 'iron man'), (93, 'thor'), (94, 'quicksilver')]\n",
            "(201, 'hawkeye') (202, 'iron man') (203, 'thor') (204, 'quicksilver')\n",
            "0 hawkeye\n",
            "1 iron man\n",
            "2 thor\n",
            "3 quicksilver\n",
            "101 hawkeye\n",
            "102 iron man\n",
            "103 thor\n",
            "104 quicksilver\n"
          ]
        }
      ]
    },
    {
      "cell_type": "code",
      "source": [
        "# Create a list of strings: mutants\n",
        "mutants = ['charles xavier', \n",
        "            'bobby drake', \n",
        "            'kurt wagner', \n",
        "            'max eisenhardt', \n",
        "            'kitty pryde']\n",
        "\n",
        "# Create a list of tuples: mutant_list\n",
        "mutant_list = list (enumerate (mutants))\n",
        "\n",
        "# Print the list of tuples\n",
        "print(mutant_list)\n",
        "\n",
        "# Unpack and print the tuple pairs, start index at 1\n",
        "for index1, value1 in enumerate (mutants, start = 1):\n",
        "    print(index1, value1)"
      ],
      "metadata": {
        "id": "NQbS1hkFrStu",
        "outputId": "8beee4fa-a000-432d-c69b-9bea611aaa45",
        "colab": {
          "base_uri": "https://localhost:8080/"
        }
      },
      "execution_count": null,
      "outputs": [
        {
          "output_type": "stream",
          "name": "stdout",
          "text": [
            "[(0, 'charles xavier'), (1, 'bobby drake'), (2, 'kurt wagner'), (3, 'max eisenhardt'), (4, 'kitty pryde')]\n",
            "1 charles xavier\n",
            "2 bobby drake\n",
            "3 kurt wagner\n",
            "4 max eisenhardt\n",
            "5 kitty pryde\n"
          ]
        }
      ]
    },
    {
      "cell_type": "markdown",
      "source": [
        "#**Note - Zip**\n",
        "### - Stich together arbitary iterables\n",
        "### - Accepts arbitary number of iterables\n",
        "### - Returns tuples\n",
        "### - Can use For loop to unpack\n",
        "### - Can use Splat * returns tuples"
      ],
      "metadata": {
        "id": "jB91_mxApcZt"
      }
    },
    {
      "cell_type": "code",
      "source": [
        "# Stich together arbitary iterables - accepts arbitary number of iterables and returns an iterator of tuples\n",
        "\n",
        "avengers = ['hawkeye', 'iron man', 'thor', 'quicksilver']\n",
        "names = ['barton', 'stark', 'odinson', 'maximoff']\n",
        "\n",
        "# Zip lists together\n",
        "z = zip (avengers, names)\n",
        "\n",
        "# Printing outputs zip object\n",
        "print (z)\n",
        "\n",
        "# Convert to list of tuples and print\n",
        "print (list(z))\n",
        "\n",
        "# Use For loop to unpack\n",
        "for x, y in zip (avengers, names):\n",
        "  print (x, y)\n",
        "\n",
        "\n",
        "# Use Splat *\n",
        "z = zip (avengers, names)\n",
        "print (*z)"
      ],
      "metadata": {
        "id": "yRhQd4ULpgYm",
        "outputId": "57f4c841-57ca-4c27-f037-7e9bd8e83d3a",
        "colab": {
          "base_uri": "https://localhost:8080/"
        }
      },
      "execution_count": null,
      "outputs": [
        {
          "output_type": "stream",
          "name": "stdout",
          "text": [
            "<zip object at 0x7fe5edb6bc30>\n",
            "[('hawkeye', 'barton'), ('iron man', 'stark'), ('thor', 'odinson'), ('quicksilver', 'maximoff')]\n",
            "hawkeye barton\n",
            "iron man stark\n",
            "thor odinson\n",
            "quicksilver maximoff\n",
            "('hawkeye', 'barton') ('iron man', 'stark') ('thor', 'odinson') ('quicksilver', 'maximoff')\n"
          ]
        }
      ]
    },
    {
      "cell_type": "markdown",
      "source": [
        "## Unzip\n",
        "### - No unzip function for reversing zip()\n",
        "### - Can reverse zip by using zip() and Splat * "
      ],
      "metadata": {
        "id": "IxwRyToIsaGI"
      }
    },
    {
      "cell_type": "code",
      "source": [
        "#Create 2 tuples\n",
        "avengers = ('hawkeye', 'iron man', 'thor', 'quicksilver')\n",
        "names = ('barton', 'stark', 'odinson', 'maximoff')\n",
        "\n",
        "# Zip the tuples\n",
        "z1 = zip (avengers, names)\n",
        "\n",
        "#Unzip the tuples in z1 by unpacking with * and zip(): result1, result2\n",
        "result1, result2 = zip(*z1)\n",
        "\n",
        "#Print the unzipped tuples\n",
        "print (result1)\n",
        "print (result2)\n",
        "\n",
        "# Check if unpacked tuples are equivalent to original tuples\n",
        "print(result1 == avengers)\n",
        "print(result2 == names)"
      ],
      "metadata": {
        "id": "GCpj0O16swE5",
        "outputId": "662ca2d6-d93a-40c4-b028-79250d42658b",
        "colab": {
          "base_uri": "https://localhost:8080/"
        }
      },
      "execution_count": null,
      "outputs": [
        {
          "output_type": "stream",
          "name": "stdout",
          "text": [
            "('hawkeye', 'iron man', 'thor', 'quicksilver')\n",
            "('barton', 'stark', 'odinson', 'maximoff')\n",
            "True\n",
            "True\n"
          ]
        }
      ]
    },
    {
      "cell_type": "markdown",
      "source": [
        "#**Use Case - Using iterators to load large files into memory**\n",
        "### - Load data in chunks"
      ],
      "metadata": {
        "id": "jcUcOOeFtXqe"
      }
    },
    {
      "cell_type": "code",
      "source": [
        "# UseCase - Define Function to reuse \n",
        "\n",
        "# Extracting information for large amounts of Twitter data\n",
        "\n",
        "#Load Url Tweets.csv\n",
        "url = 'https://raw.githubusercontent.com/nirmalaraj77/Python/516cd1f5b646c40c0165bd12620d47f51ec24248/tweets.csv' \n",
        "\n",
        "# Import Pandas and tweets.csv\n",
        "import pandas as pd\n",
        "\n",
        "# Define count_entries()\n",
        "def count_entries (csv_file, c_size, colname):\n",
        "    \"\"\"Return a dictionary with counts of\n",
        "    occurrences as value for each key.\"\"\"\n",
        "    \n",
        "    # Initialize an empty dictionary: counts_dict\n",
        "    counts_dict = {}\n",
        "\n",
        "    # Iterate over the file chunk by chunk\n",
        "    for chunk in pd.read_csv (csv_file, chunksize = c_size):\n",
        "\n",
        "        # Iterate over the column in DataFrame\n",
        "        for entry in chunk [colname]:\n",
        "            if entry in counts_dict.keys():\n",
        "                counts_dict[entry] += 1\n",
        "            else:\n",
        "                counts_dict[entry] = 1\n",
        "\n",
        "    # Return counts_dict\n",
        "    return counts_dict\n",
        "\n",
        "# Call count_entries(): result_counts\n",
        "result_counts = count_entries (url, 10, 'lang')\n",
        "\n",
        "# Print result_counts\n",
        "print(result_counts)"
      ],
      "metadata": {
        "id": "swZ7s9OMtxgr",
        "outputId": "50133140-1a2e-42b6-8b19-45610c506ce6",
        "colab": {
          "base_uri": "https://localhost:8080/"
        }
      },
      "execution_count": null,
      "outputs": [
        {
          "output_type": "stream",
          "name": "stdout",
          "text": [
            "{'en': 97, 'et': 1, 'und': 2}\n"
          ]
        }
      ]
    },
    {
      "cell_type": "markdown",
      "source": [
        "#**List Comprehensions**\n",
        "### - Create Lists\n",
        "### - Use square brackets [ ] \n",
        "### - Can write over any iterable and create lists from other data types\n",
        "### - Syntax : [output expression for Iterator variable in Iterable]\n",
        "### - Sngle line of code\n",
        "### - Readability - I want \"something\" for each \"entry\" in \"collection\"\n",
        "<br>\n",
        "\n",
        "### - Components\n",
        "#### * Iterable\n",
        "#### * Iterator Variable (represent members of iterable)\n",
        "#### * Output expression\n",
        "\n",
        "\n"
      ],
      "metadata": {
        "id": "9bScnZeDvTZN"
      }
    },
    {
      "cell_type": "markdown",
      "source": [
        "##Simple List Comprehension "
      ],
      "metadata": {
        "id": "skvPES7aWf-d"
      }
    },
    {
      "cell_type": "code",
      "source": [
        "# Define list\n",
        "nums = [9, 11, 13, 15, 17]\n",
        "\n",
        "# NumPy example: Add 1 to all values\n",
        "import numpy as np\n",
        "nums_array = np.array(nums)\n",
        "print (nums_array + 1)\n",
        "\n",
        "\n",
        "# For loop example : Add 1 to all values\n",
        "new_nums = []\n",
        "for num in nums:\n",
        "  new_nums.append (num + 1)\n",
        "print(new_nums)\n",
        "\n",
        "\n",
        "# For loop example : Exponent all values\n",
        "new_nums = []\n",
        "for num in nums:\n",
        "  new_nums.append (num*num)\n",
        "print(new_nums)\n",
        "\n",
        "\n",
        "# List Comprehension example : Add 1 to all values \n",
        "# I want n+1 for each n in nums\n",
        "new_nums = [n + 1 for n in nums]\n",
        "print (new_nums)\n",
        "\n",
        "# List Comprehension example : Exponent all values \n",
        "# I want n*n for each n in nums\n",
        "nums = [9, 11, 13, 15, 17]\n",
        "expo_nums = [n*n for n in nums]\n",
        "print (expo_nums)"
      ],
      "metadata": {
        "id": "Q8yCVlFxBcxr",
        "outputId": "06f7f5ff-869d-42ad-fde4-848a449949ce",
        "colab": {
          "base_uri": "https://localhost:8080/"
        }
      },
      "execution_count": null,
      "outputs": [
        {
          "output_type": "stream",
          "name": "stdout",
          "text": [
            "[10 12 14 16 18]\n",
            "[10, 12, 14, 16, 18]\n",
            "[81, 121, 169, 225, 289]\n",
            "[10, 12, 14, 16, 18]\n",
            "[81, 121, 169, 225, 289]\n"
          ]
        }
      ]
    },
    {
      "cell_type": "markdown",
      "source": [
        "##List Comprehension with Range"
      ],
      "metadata": {
        "id": "Q4_CHIz4DrPi"
      }
    },
    {
      "cell_type": "code",
      "source": [
        "# List Comprehension with Range\n",
        "\n",
        "# I want n for each n in range 11\n",
        "result = [num for num in range(11)]\n",
        "print (result)"
      ],
      "metadata": {
        "id": "F7Ck3AL9DuYu",
        "outputId": "ebe98b04-c734-4153-d6ed-9dc819c30745",
        "colab": {
          "base_uri": "https://localhost:8080/"
        }
      },
      "execution_count": null,
      "outputs": [
        {
          "output_type": "stream",
          "name": "stdout",
          "text": [
            "[0, 1, 2, 3, 4, 5, 6, 7, 8, 9, 10]\n"
          ]
        }
      ]
    },
    {
      "cell_type": "code",
      "source": [
        "# Create list comprehension: squares\n",
        "\n",
        "# I want n**2 for each n in range 0 - 9\n",
        "squares = [i**2 for i in range (0, 10)]\n",
        "print (squares)"
      ],
      "metadata": {
        "id": "pMbR-ag5GXkw",
        "outputId": "f89d6752-7e43-4354-adfa-3deef1550236",
        "colab": {
          "base_uri": "https://localhost:8080/"
        }
      },
      "execution_count": null,
      "outputs": [
        {
          "output_type": "stream",
          "name": "stdout",
          "text": [
            "[0, 1, 4, 9, 16, 25, 36, 49, 64, 81]\n"
          ]
        }
      ]
    },
    {
      "cell_type": "markdown",
      "source": [
        "##List Comprehension in place of Nested Loops"
      ],
      "metadata": {
        "id": "qUA2TJiiEmYy"
      }
    },
    {
      "cell_type": "code",
      "source": [
        "# Create list of all pairs of integers where first integer between 0 and 1 and second integer between 6 and 7\n",
        "\n",
        "# I want pairs (n1, n2) for each n1 in range 0 - 1 and each n2 in range 7 - 8  \n",
        "pairs = [(num1, num2) for num1 in range (0, 2) for num2 in range (6, 8)]\n",
        "print (pairs)\n",
        "\n",
        "\n",
        "# Create list of all pairs of strings and integers where string in 'ABCD' and integers between 1 - 4\n",
        "\n",
        "# I want pairs (s, n) for each s in 'ABCD' and each n in range 1 - 4   \n",
        "pairs = [(s, n) for s in 'ABCD' for n in range (1, 5)]\n",
        "print (pairs)"
      ],
      "metadata": {
        "id": "2OiT5x5FElun",
        "outputId": "8f1aae76-3fd5-46ec-e2d0-b9bed682efe9",
        "colab": {
          "base_uri": "https://localhost:8080/"
        }
      },
      "execution_count": null,
      "outputs": [
        {
          "output_type": "stream",
          "name": "stdout",
          "text": [
            "[(0, 6), (0, 7), (1, 6), (1, 7)]\n",
            "[('A', 1), ('A', 2), ('A', 3), ('A', 4), ('B', 1), ('B', 2), ('B', 3), ('B', 4), ('C', 1), ('C', 2), ('C', 3), ('C', 4), ('D', 1), ('D', 2), ('D', 3), ('D', 4)]\n"
          ]
        }
      ]
    },
    {
      "cell_type": "markdown",
      "source": [
        "##Nested List Comprehensions\n",
        "### - Create a 5 x 5 matrix using a list of lists: matrix\n",
        "### - First, create one of the rows with a single list comprehension\n",
        "### - To create the list of lists, supply the list comprehension as the output expression of the overall list comprehension"
      ],
      "metadata": {
        "id": "g5OHkAgsGAwI"
      }
    },
    {
      "cell_type": "code",
      "source": [
        "# Create single row\n",
        "# I want n for each n in range 0 - 4\n",
        "matrix = [n for n in range (5)]\n",
        "print (matrix)\n",
        "\n",
        "# Create a 5 x 5 matrix using a list of lists: matrix - pass the output of single row to overall list comprehension\n",
        "# I want n for each column of n in range 0 - 4 for each row of n in range 0 - 4 \n",
        "matrix = [[n for n in range(5)] for n1 in range(5)]\n",
        "\n",
        "# Print the matrix\n",
        "print (matrix)\n",
        "for x in matrix:\n",
        "    print(x)"
      ],
      "metadata": {
        "id": "6L813djAKQfE",
        "outputId": "66c5be80-7e57-4a6b-8173-520a312b3a4f",
        "colab": {
          "base_uri": "https://localhost:8080/"
        }
      },
      "execution_count": null,
      "outputs": [
        {
          "output_type": "stream",
          "name": "stdout",
          "text": [
            "[0, 1, 2, 3, 4]\n",
            "[[0, 1, 2, 3, 4], [0, 1, 2, 3, 4], [0, 1, 2, 3, 4], [0, 1, 2, 3, 4], [0, 1, 2, 3, 4]]\n",
            "[0, 1, 2, 3, 4]\n",
            "[0, 1, 2, 3, 4]\n",
            "[0, 1, 2, 3, 4]\n",
            "[0, 1, 2, 3, 4]\n",
            "[0, 1, 2, 3, 4]\n"
          ]
        }
      ]
    },
    {
      "cell_type": "markdown",
      "source": [
        "#**Advanced List Comprehensions**\n",
        "### - Filters on iterable and predicators\n",
        "### - Syntax : [ conditional on output for iterator variable in iterable + conditional on iterable]\n",
        "\n",
        "\n"
      ],
      "metadata": {
        "id": "BoyLJptrL930"
      }
    },
    {
      "cell_type": "markdown",
      "source": [
        "## Conditionals on the iterable \n",
        "### - Subset / Slice / Index the iterable and not result\n",
        "### - Syntax [ output expression [ amend ] for iterator variable in iterable ]"
      ],
      "metadata": {
        "id": "7-HaFvrLrQO1"
      }
    },
    {
      "cell_type": "code",
      "source": [
        "# Build list of strings\n",
        "names = ['shana', 'hari', 'raji', 'nirmal']\n",
        "\n",
        "# Create list comprehension to extract first 3 characters\n",
        "# I want first 3 characters of n for each n in names \n",
        "names_3 = [n [: 3] for n in names]\n",
        "print (names_3)"
      ],
      "metadata": {
        "id": "HCbQBiwirkei",
        "outputId": "e3b0b315-11f5-4add-e5b6-b62de2bf9572",
        "colab": {
          "base_uri": "https://localhost:8080/"
        }
      },
      "execution_count": null,
      "outputs": [
        {
          "output_type": "stream",
          "name": "stdout",
          "text": [
            "['sha', 'har', 'raj', 'nir']\n",
            "[' ', 'har', 'raj', 'nir']\n"
          ]
        }
      ]
    },
    {
      "cell_type": "markdown",
      "source": [
        "##Conditionals on the Iterable \n",
        "### - IF\n",
        "### - Syntax [ output expression for iterator variable in iterable if predicate expression ]\n",
        "### - Impose conditional on the iterable and not result\n",
        "### - Conditional at the end"
      ],
      "metadata": {
        "id": "yBLY4MWhM-3K"
      }
    },
    {
      "cell_type": "code",
      "source": [
        "# List of squared values in integers 0 - 9 if numbers in 0 - 9 are even\n",
        "# I want n**2 for each n in range (10) if n is even\n",
        "\n",
        "print ([num ** 2 for num in range (10) if num % 2 == 0])\n",
        "\n",
        "\n",
        "\n",
        "# Print names with 7 or more characters\n",
        "fellowship = ['frodo', 'samwise', 'merry', 'aragorn', 'legolas', 'boromir', 'gimli']\n",
        "print ([member for member in fellowship if len(member)>= 7])"
      ],
      "metadata": {
        "id": "nbR4AM-9MVp_",
        "outputId": "53c7354c-3e68-4967-f6df-b310076fedbc",
        "colab": {
          "base_uri": "https://localhost:8080/"
        }
      },
      "execution_count": null,
      "outputs": [
        {
          "output_type": "stream",
          "name": "stdout",
          "text": [
            "[0, 4, 16, 36, 64]\n",
            "['samwise', 'aragorn', 'legolas', 'boromir']\n"
          ]
        }
      ]
    },
    {
      "cell_type": "markdown",
      "source": [
        "##Conditionals on the output expression\n",
        "### - IF - ELSE\n",
        "### - Impose conditional on the result and not iterable\n",
        "### - Syntax [ output expression if predicate expression else predicate expression1 for iterator variable in iterable  ]\n",
        "### - Conditional at the beginning"
      ],
      "metadata": {
        "id": "3eI4S_YqOsNY"
      }
    },
    {
      "cell_type": "code",
      "source": [
        "# List of squared values in integers 0 - 9 if results are even\n",
        "# I want n**2 for each n in range (10) if n ** 2 is even\n",
        "\n",
        "print ([num ** 2 if num % 2 == 0 else 0 for num in range (10)])\n",
        "\n",
        "\n",
        "\n",
        "# Create a list of strings: fellowship\n",
        "fellowship = ['frodo', 'samwise', 'merry', 'aragorn', 'legolas', 'boromir', 'gimli']\n",
        "\n",
        "# Print names with 7 or more characters\n",
        "print ([member if len(member) >=7 else '' for member in fellowship])\n",
        "\n",
        "\n",
        "\n",
        "# Build list of strings\n",
        "names = ['shana', 'hari', 'raji', 'nirmal']\n",
        "\n",
        "# Add conditionl expression to output to check result string contains 'r'\n",
        "# I want first 3 characters of n for each n in names if the first 3 characters contain 'r' \n",
        "names_3_r = [n [: 3 ] if 'r' in n else ' ' for n in names ]\n",
        "print (names_3_r)"
      ],
      "metadata": {
        "id": "iUQEvz5iPSG9",
        "outputId": "5e5256cf-9fb4-477c-9573-80259ca4f224",
        "colab": {
          "base_uri": "https://localhost:8080/"
        }
      },
      "execution_count": null,
      "outputs": [
        {
          "output_type": "stream",
          "name": "stdout",
          "text": [
            "[0, 0, 4, 0, 16, 0, 36, 0, 64, 0]\n",
            "['', 'samwise', '', 'aragorn', 'legolas', 'boromir', '']\n",
            "[' ', 'har', 'raj', 'nir']\n"
          ]
        }
      ]
    },
    {
      "cell_type": "markdown",
      "source": [
        "#**Dictionary Comprehensions**\n",
        "### - Create Dictionaries\n",
        "### - Use Curly braces { }\n",
        "### - Key - value seperated by colon:\n",
        "### - Single line code\n",
        "### - Readability - I want 'something' for each 'iterable' in 'sequence'\n",
        "\n",
        "\n"
      ],
      "metadata": {
        "id": "74F8Wa6DQUPD"
      }
    },
    {
      "cell_type": "code",
      "source": [
        "# Create a Dictionary with Key of positive integers and Value of respective negative integers between 0 - 8\n",
        "\n",
        "# I want dictionary num:-num for each num in range (9) \n",
        "pos_neg = {num: -num for num in range (9)}\n",
        "print (pos_neg)\n",
        "print (type(pos_neg))\n",
        "\n",
        "\n",
        "\n",
        "\n",
        "# Create a list of strings: fellowship\n",
        "fellowship = ['frodo', 'samwise', 'merry', 'aragorn', 'legolas', 'boromir', 'gimli']\n",
        "\n",
        "# Create dict comprehension: new_fellowship with member name as key and number of characters as value\n",
        "# I want dictionary n:(len)n for each n in frllowship\n",
        "new_fellowship = {n: len (n) for n in fellowship}\n",
        "\n",
        "# Print the new dictionary\n",
        "print(new_fellowship)\n"
      ],
      "metadata": {
        "id": "8V8FMOMSO8I8",
        "outputId": "4cd977a8-ace5-4a67-f128-3561d4e81332",
        "colab": {
          "base_uri": "https://localhost:8080/"
        }
      },
      "execution_count": null,
      "outputs": [
        {
          "output_type": "stream",
          "name": "stdout",
          "text": [
            "{0: 0, 1: -1, 2: -2, 3: -3, 4: -4, 5: -5, 6: -6, 7: -7, 8: -8}\n",
            "<class 'dict'>\n",
            "{'frodo': 5, 'samwise': 7, 'merry': 5, 'aragorn': 7, 'legolas': 7, 'boromir': 7, 'gimli': 5}\n"
          ]
        }
      ]
    },
    {
      "cell_type": "markdown",
      "source": [
        "#**Generator Expressions**\n",
        "### - Use paranthsis ( ) for generators instead of square brackets [ ] for list comprehensions\n",
        "### - List Comprehension returns list\n",
        "### - Generators return returns generator object\n",
        "### - Both can be iterated over\n",
        "### - Generator object does not construct list and store in memory\n",
        "### - Generator objects can be itereted over to produce lists as and when required \n",
        "### - Loop over generator object produces elements of analogus list\n",
        "### - Can pass next ( ) to iterate over elements as required\n",
        "### - Lazy Evaluation - evaluation delayed until required"
      ],
      "metadata": {
        "id": "XqZ_OyAKzXZh"
      }
    },
    {
      "cell_type": "markdown",
      "source": [
        "##Create generator object"
      ],
      "metadata": {
        "id": "FCNf8TfQ1Qs0"
      }
    },
    {
      "cell_type": "code",
      "source": [
        "# Create generator expression : I want n for each n in range 0 - 5\n",
        "\n",
        "# Creates a genarator object\n",
        "(num for num in range (6))"
      ],
      "metadata": {
        "id": "gpkaMZXKze53",
        "outputId": "3caa3380-08a0-4f04-9241-89618cc9572d",
        "colab": {
          "base_uri": "https://localhost:8080/"
        }
      },
      "execution_count": null,
      "outputs": [
        {
          "output_type": "execute_result",
          "data": {
            "text/plain": [
              "<generator object <genexpr> at 0x7fe688e18a50>"
            ]
          },
          "metadata": {},
          "execution_count": 7
        }
      ]
    },
    {
      "cell_type": "markdown",
      "source": [
        "##Loop over generator object to create elements of analogus list\n"
      ],
      "metadata": {
        "id": "Gx75lE4X1m7S"
      }
    },
    {
      "cell_type": "code",
      "source": [
        "# Create analogus list elements by looping over generator object\n",
        "\n",
        "# I want n for each n in range 0 - 5\n",
        "result = (num for num in range (6))\n",
        "for x in result :\n",
        "  print (x)"
      ],
      "metadata": {
        "id": "zwiiDwsP0EUD",
        "outputId": "be623fec-a644-40e6-8c3c-b904becd70a4",
        "colab": {
          "base_uri": "https://localhost:8080/"
        }
      },
      "execution_count": null,
      "outputs": [
        {
          "output_type": "stream",
          "name": "stdout",
          "text": [
            "0\n",
            "1\n",
            "2\n",
            "3\n",
            "4\n",
            "5\n"
          ]
        }
      ]
    },
    {
      "cell_type": "markdown",
      "source": [
        "##Pass generator object to create list"
      ],
      "metadata": {
        "id": "0iPbNImC2yWm"
      }
    },
    {
      "cell_type": "code",
      "source": [
        "# Create list by passing generator generator object to list\n",
        "\n",
        "# I want n for each n in range 0 - 5\n",
        "result = (num for num in range (6))\n",
        "listge = list (result)\n",
        "print (listge)"
      ],
      "metadata": {
        "id": "_GWMhICN1Z7s",
        "outputId": "f59dc692-cafb-48ac-9da7-20466aa92d8e",
        "colab": {
          "base_uri": "https://localhost:8080/"
        }
      },
      "execution_count": null,
      "outputs": [
        {
          "output_type": "stream",
          "name": "stdout",
          "text": [
            "[0, 1, 2, 3, 4, 5]\n"
          ]
        }
      ]
    },
    {
      "cell_type": "markdown",
      "source": [
        "### - Pass generator object to next ( ) to iterate over elements as required\n"
      ],
      "metadata": {
        "id": "bKpqU2h03mfT"
      }
    },
    {
      "cell_type": "code",
      "source": [
        "# Create Generator Expression \n",
        "\n",
        "# I want n for each n in range 0 - 5\n",
        "result = (num for num in range (6))\n",
        "\n",
        "# Print with next ()\n",
        "print (next(result))\n",
        "print (next(result))\n",
        "\n",
        "\n",
        "# Loop over and print rest of the results\n",
        "for x in result:\n",
        "  print (x)"
      ],
      "metadata": {
        "id": "dWyCm00x3LKR",
        "outputId": "56da0576-e0a2-4d86-b79e-a1dbe25c009e",
        "colab": {
          "base_uri": "https://localhost:8080/"
        }
      },
      "execution_count": null,
      "outputs": [
        {
          "output_type": "stream",
          "name": "stdout",
          "text": [
            "0\n",
            "1\n",
            "2\n",
            "3\n",
            "4\n",
            "5\n"
          ]
        }
      ]
    },
    {
      "cell_type": "markdown",
      "source": [
        "##Lazy Evaluation\n",
        "### - Evaluation is delayed until needed\n",
        "### - Used when creting etremely large lists with list comprehension is not effective"
      ],
      "metadata": {
        "id": "FIrZLa9b4-bS"
      }
    },
    {
      "cell_type": "code",
      "source": [
        "# Create extremely large generator expression\n",
        "\n",
        "# I want n for each n in range (10 * 100000000)\n",
        "result = (n for n in range (10 * 10000000))\n",
        "print (result)\n",
        "\n",
        "# Call result when needed\n",
        "print (next(result))\n",
        "\n"
      ],
      "metadata": {
        "id": "4pFvuzp_3-zD",
        "outputId": "735dbe02-3184-4dcf-c03b-54fc300771d3",
        "colab": {
          "base_uri": "https://localhost:8080/"
        }
      },
      "execution_count": null,
      "outputs": [
        {
          "output_type": "stream",
          "name": "stdout",
          "text": [
            "<generator object <genexpr> at 0x7fe688dc3cd0>\n",
            "0\n"
          ]
        }
      ]
    },
    {
      "cell_type": "markdown",
      "source": [
        "##List Comprehension vs Generators"
      ],
      "metadata": {
        "id": "8C6wBqpQI_31"
      }
    },
    {
      "cell_type": "code",
      "source": [
        "# List of strings\n",
        "fellowship = ['frodo', 'samwise', 'merry', 'aragorn', 'legolas', 'boromir', 'gimli']\n",
        "\n",
        "# List comprehension\n",
        "fellow1 = [member for member in fellowship if len(member) >= 7]\n",
        "print (fellow1)\n",
        "\n",
        "\n",
        "# Generator expression\n",
        "fellow2 = (member for member in fellowship if len(member) >= 7)\n",
        "print (fellow2)\n",
        "\n",
        "# Print first and second result by iteraing with next()\n",
        "print (next(fellow2))\n",
        "print (next(fellow2))\n",
        "\n",
        "\n",
        "# Loop over Generator expression and print rest of the results\n",
        "for members in fellow2:\n",
        "  print (members)"
      ],
      "metadata": {
        "id": "zmzgzLFCJRFY",
        "outputId": "fc89a6d8-33d1-441e-8a0e-db01ad5401d7",
        "colab": {
          "base_uri": "https://localhost:8080/"
        }
      },
      "execution_count": null,
      "outputs": [
        {
          "output_type": "stream",
          "name": "stdout",
          "text": [
            "['samwise', 'aragorn', 'legolas', 'boromir']\n",
            "<generator object <genexpr> at 0x7fbab44ba350>\n",
            "samwise\n",
            "aragorn\n",
            "legolas\n",
            "boromir\n"
          ]
        }
      ]
    },
    {
      "cell_type": "markdown",
      "source": [
        "#**Conditionals in Generator Expressions**"
      ],
      "metadata": {
        "id": "uaGn70tu9VYc"
      }
    },
    {
      "cell_type": "markdown",
      "source": [
        "##Conditionals on iterable"
      ],
      "metadata": {
        "id": "3Qm16uzp_ATb"
      }
    },
    {
      "cell_type": "code",
      "source": [
        "# I want n for each n in range (10) if n is even\n",
        "even_num = (n for n in range (10) if n%2 == 0)\n",
        "print (even_num)\n",
        "print (list (even_num))"
      ],
      "metadata": {
        "id": "uYLMhfav5w06",
        "outputId": "927c97fa-7b9c-4dcb-9fe2-abd3ccae2c33",
        "colab": {
          "base_uri": "https://localhost:8080/"
        }
      },
      "execution_count": null,
      "outputs": [
        {
          "output_type": "stream",
          "name": "stdout",
          "text": [
            "<generator object <genexpr> at 0x7fe688d4ead0>\n",
            "[0, 2, 4, 6, 8]\n"
          ]
        }
      ]
    },
    {
      "cell_type": "markdown",
      "source": [
        "##Conditionals on the output expression"
      ],
      "metadata": {
        "id": "imMFdjE5STxB"
      }
    },
    {
      "cell_type": "code",
      "source": [
        "# Create a list of strings: lannister\n",
        "lannister = ['cersei', 'jaime', 'tywin', 'tyrion', 'joffrey']\n",
        "\n",
        "# Create a generator object: lengths\n",
        "lengths = (len(person) for person in lannister)\n",
        "\n",
        "# Iterate over and print the values in lengths\n",
        "for value in lengths:\n",
        "    print(value)"
      ],
      "metadata": {
        "id": "7XUWHH5GSMSh",
        "outputId": "fe100c6a-98bd-4b5e-83bb-b513eb2a4754",
        "colab": {
          "base_uri": "https://localhost:8080/"
        }
      },
      "execution_count": null,
      "outputs": [
        {
          "output_type": "stream",
          "name": "stdout",
          "text": [
            "6\n",
            "5\n",
            "5\n",
            "6\n",
            "7\n"
          ]
        }
      ]
    },
    {
      "cell_type": "markdown",
      "source": [
        "#**Generator Functions**\n",
        "### - Produces generator objects when called\n",
        "### - Defined like a regular function - def\n",
        "### - Yields sequence of values instead of returning a single value \n",
        "### - Generates a value with the keyword yield\n",
        "\n"
      ],
      "metadata": {
        "id": "dH7F00ys_dEL"
      }
    },
    {
      "cell_type": "markdown",
      "source": [
        "##Build generator function 1"
      ],
      "metadata": {
        "id": "vS_YalHyArS7"
      }
    },
    {
      "cell_type": "code",
      "source": [
        "# Define genrator function\n",
        "def nums(n):\n",
        "  \"\"\"Generate values from 0 to n\"\"\"\n",
        "  # i is iniated at 0, function adds 1 to i and yields result while while loop is true and then ceases to yield\n",
        "  i = 0\n",
        "  while i < n:\n",
        "    yield i\n",
        "    i += 1\n",
        "\n",
        "# Call function with the argument 5\n",
        "result = nums (5)\n",
        "print (type(result))\n",
        "\n",
        "# Iterate over generator expression\n",
        "print (next(result))\n",
        "\n",
        "\n",
        "# Loop over generator expression\n",
        "for x in result:\n",
        "  print (x)\n"
      ],
      "metadata": {
        "id": "nuu9lChFAqRg",
        "outputId": "6c5fc734-469e-4a92-91d9-4836d63cfe03",
        "colab": {
          "base_uri": "https://localhost:8080/"
        }
      },
      "execution_count": null,
      "outputs": [
        {
          "output_type": "stream",
          "name": "stdout",
          "text": [
            "<class 'generator'>\n",
            "0\n",
            "1\n",
            "2\n",
            "3\n",
            "4\n"
          ]
        }
      ]
    },
    {
      "cell_type": "markdown",
      "source": [
        "##Build generator function 2"
      ],
      "metadata": {
        "id": "b-jTyHAVSrrP"
      }
    },
    {
      "cell_type": "code",
      "source": [
        "# Create a list of strings\n",
        "lannister = ['cersei', 'jaime', 'tywin', 'tyrion', 'joffrey']\n",
        "\n",
        "# Define generator function get_lengths\n",
        "def get_lengths(input_list):\n",
        "    \"\"\"Generator function that yields the\n",
        "    length of the strings in input_list.\"\"\"\n",
        "\n",
        "    # Yield the length of a string\n",
        "    for person in input_list:\n",
        "        yield len(person)\n",
        "\n",
        "# Print the values generated by get_lengths()\n",
        "for value in get_lengths (lannister):\n",
        "    print(value)"
      ],
      "metadata": {
        "id": "En-kLnz5Chbb",
        "outputId": "cf87ecaf-efd9-4ab2-f732-f27d6ad2be36",
        "colab": {
          "base_uri": "https://localhost:8080/"
        }
      },
      "execution_count": null,
      "outputs": [
        {
          "output_type": "stream",
          "name": "stdout",
          "text": [
            "6\n",
            "5\n",
            "5\n",
            "6\n",
            "7\n"
          ]
        }
      ]
    },
    {
      "cell_type": "markdown",
      "source": [
        "#**WORLD BANK DATASET CASE STUDY**\n",
        "### - User defined functions\n",
        "### - Iterators\n",
        "### - Comprehensions\n",
        "### - Generators"
      ],
      "metadata": {
        "id": "Vw-NSVtX-vGj"
      }
    },
    {
      "cell_type": "markdown",
      "source": [
        "##Preparation"
      ],
      "metadata": {
        "id": "P0FpqtcedDX_"
      }
    },
    {
      "cell_type": "code",
      "source": [
        "# Preparation\n",
        "\n",
        "# Import Pandas\n",
        "import pandas as pd\n",
        "\n",
        "# Import World Bank Dataset\n",
        "\n",
        "wb = pd.read_csv ('https://raw.githubusercontent.com/nirmalaraj77/Python/main/world_ind_pop_data.csv', index_col = 1)\n",
        "print (wb.head)\n"
      ],
      "metadata": {
        "id": "1BNklBDzDbWR",
        "outputId": "2a583ac5-341e-4f10-8d1f-3a1c2e2766a4",
        "colab": {
          "base_uri": "https://localhost:8080/"
        }
      },
      "execution_count": null,
      "outputs": [
        {
          "output_type": "stream",
          "name": "stdout",
          "text": [
            "<bound method NDFrame.head of                                          CountryName  Year  Total Population  \\\n",
            "CountryCode                                                                    \n",
            "ARB                                       Arab World  1960      9.249590e+07   \n",
            "CSS                           Caribbean small states  1960      4.190810e+06   \n",
            "CEB                   Central Europe and the Baltics  1960      9.140158e+07   \n",
            "EAS          East Asia & Pacific (all income levels)  1960      1.042475e+09   \n",
            "EAP            East Asia & Pacific (developing only)  1960      8.964930e+08   \n",
            "...                                              ...   ...               ...   \n",
            "VIR                            Virgin Islands (U.S.)  2014      1.041700e+05   \n",
            "WBG                               West Bank and Gaza  2014      4.294682e+06   \n",
            "YEM                                      Yemen, Rep.  2014      2.618368e+07   \n",
            "ZMB                                           Zambia  2014      1.572134e+07   \n",
            "ZWE                                         Zimbabwe  2014      1.524586e+07   \n",
            "\n",
            "             Urban population (% of total)  \n",
            "CountryCode                                 \n",
            "ARB                              31.285384  \n",
            "CSS                              31.597490  \n",
            "CEB                              44.507921  \n",
            "EAS                              22.471132  \n",
            "EAP                              16.917679  \n",
            "...                                    ...  \n",
            "VIR                              95.203000  \n",
            "WBG                              75.026000  \n",
            "YEM                              34.027000  \n",
            "ZMB                              40.472000  \n",
            "ZWE                              32.501000  \n",
            "\n",
            "[13374 rows x 4 columns]>\n"
          ]
        }
      ]
    },
    {
      "cell_type": "markdown",
      "source": [
        "##Write function to return dictionary from multiple lists"
      ],
      "metadata": {
        "id": "A5fIpbJuNewv"
      }
    },
    {
      "cell_type": "code",
      "source": [
        "# Create 2 lists\n",
        "list1 = ['first', 'second', 'third', 'fourth', 'fifth']\n",
        "list2 = [['f', 'g', 'h', 'i', 'j'], ['k', 'l', 'm', 'n', 'o'], ['p', 'q', 'r', 's', 't']]\n",
        "\n",
        "# Define function to create dict\n",
        "def lists2dict (list1, list2):\n",
        "  \"\"\"Returns dict where list1 provides keys and list2 provides values\"\"\"\n",
        "\n",
        "  # Zip lists: zipped_lists\n",
        "  zipped_lists = (zip(list1, list2))\n",
        "\n",
        "  # Create dict : rs_dict\n",
        "  rs_dict = dict (zipped_lists)\n",
        "\n",
        "  # return dict\n",
        "  return rs_dict\n",
        "\n",
        "# call function on list1 and list2\n",
        "rs_fxn = lists2dict(list1, list2)\n",
        "print (rs_fxn)"
      ],
      "metadata": {
        "id": "JeDkgOhZK6xH",
        "outputId": "6ea20353-f5ea-4734-b6dd-84815a90fb06",
        "colab": {
          "base_uri": "https://localhost:8080/"
        }
      },
      "execution_count": null,
      "outputs": [
        {
          "output_type": "stream",
          "name": "stdout",
          "text": [
            "{'first': ['f', 'g', 'h', 'i', 'j'], 'second': ['k', 'l', 'm', 'n', 'o'], 'third': ['p', 'q', 'r', 's', 't']}\n"
          ]
        }
      ]
    },
    {
      "cell_type": "markdown",
      "source": [
        "##Use List Comprehension with the user-defined function to turn multiple lists into list of dictionaries"
      ],
      "metadata": {
        "id": "e_HJ23oFM9Op"
      }
    },
    {
      "cell_type": "code",
      "source": [
        "# Create lists\n",
        "list1 = ['first', 'second', 'third', 'fourth', 'fifth']\n",
        "list2 = [['f', 'g', 'h', 'i', 'j'], ['k', 'l', 'm', 'n', 'o'], ['p', 'q', 'r', 's', 't']]\n",
        "\n",
        "# Print the first two lists in list2\n",
        "print(list2[0])\n",
        "print(list2[1])\n",
        "\n",
        "\n",
        "# Turn list of lists into list of dicts: list_of_dicts\n",
        "# I want dictionaries with list1 as header names and list2 as values for each list2 in list2\n",
        "list_of_dicts = [lists2dict(list1, sublist) for sublist in list2]\n",
        "\n",
        "# Print the first two dictionaries in list_of_dicts\n",
        "print(list_of_dicts[0])\n",
        "print(list_of_dicts[1])"
      ],
      "metadata": {
        "id": "Xof66Nf6K8nB",
        "outputId": "995c88d3-8bd3-4250-95cf-457d3978c09c",
        "colab": {
          "base_uri": "https://localhost:8080/"
        }
      },
      "execution_count": null,
      "outputs": [
        {
          "output_type": "stream",
          "name": "stdout",
          "text": [
            "['f', 'g', 'h', 'i', 'j']\n",
            "['k', 'l', 'm', 'n', 'o']\n",
            "{'first': 'f', 'second': 'g', 'third': 'h', 'fourth': 'i', 'fifth': 'j'}\n",
            "{'first': 'k', 'second': 'l', 'third': 'm', 'fourth': 'n', 'fifth': 'o'}\n"
          ]
        }
      ]
    },
    {
      "cell_type": "markdown",
      "source": [
        "##Convert to a DataFrame"
      ],
      "metadata": {
        "id": "lxgdt9jSO8L4"
      }
    },
    {
      "cell_type": "code",
      "source": [
        "# Import the pandas package\n",
        "import pandas as pd\n",
        "\n",
        "# Turn list of lists into list of dicts: list_of_dicts\n",
        "list_of_dicts = [lists2dict(list1, sublist) for sublist in list2]\n",
        "\n",
        "# Turn list of dicts into a DataFrame: df\n",
        "df = pd.DataFrame(list_of_dicts)\n",
        "\n",
        "# Print the head of the DataFrame\n",
        "print (df.head())"
      ],
      "metadata": {
        "id": "LgeSJOm4VEHs",
        "outputId": "53553b56-f383-4fea-a58c-91de9d3aa3d6",
        "colab": {
          "base_uri": "https://localhost:8080/"
        }
      },
      "execution_count": null,
      "outputs": [
        {
          "output_type": "stream",
          "name": "stdout",
          "text": [
            "  first second third fourth fifth\n",
            "0     f      g     h      i     j\n",
            "1     k      l     m      n     o\n",
            "2     p      q     r      s     t\n"
          ]
        }
      ]
    },
    {
      "cell_type": "markdown",
      "source": [
        "#**GENERATORS FOR LARGE DATA**\n",
        "### - Can work on streaming data\n",
        "### - Process data in chunks"
      ],
      "metadata": {
        "id": "8YWZNvSjVqjp"
      }
    },
    {
      "cell_type": "markdown",
      "source": [
        "##**Note - Use Context manager to Open a File Connection**"
      ],
      "metadata": {
        "id": "0jlHW3UeWcLc"
      }
    },
    {
      "cell_type": "code",
      "source": [
        "# Open a connection to the file\n",
        "with open ('world_dev_ind.csv') as file:\n",
        "\n",
        "    # Skip the column names\n",
        "    file.readline()\n",
        "\n",
        "    # Initialize an empty dictionary: counts_dict\n",
        "    counts_dict = {}\n",
        "\n",
        "    # Process only the first 1000 rows\n",
        "    for j in range (1000):\n",
        "\n",
        "        # Split the current line into a list: line\n",
        "        line = file.readline().split(',')\n",
        "\n",
        "        # Get the value for the first column: first_col\n",
        "        first_col = line[0]\n",
        "\n",
        "        # If the column value is in the dict, increment its value\n",
        "        if first_col in counts_dict.keys():\n",
        "            counts_dict[first_col] += 1\n",
        "\n",
        "        # Else, add to the dict and set value to 1\n",
        "        else:\n",
        "            counts_dict[first_col] = 1\n",
        "\n",
        "# Print the resulting dictionary\n",
        "print(counts_dict)"
      ],
      "metadata": {
        "id": "evfTKmiHWGfW",
        "outputId": "520119da-d539-424a-a391-7391f20c54ae",
        "colab": {
          "base_uri": "https://localhost:8080/",
          "height": 235
        }
      },
      "execution_count": null,
      "outputs": [
        {
          "output_type": "error",
          "ename": "FileNotFoundError",
          "evalue": "ignored",
          "traceback": [
            "\u001b[0;31m---------------------------------------------------------------------------\u001b[0m",
            "\u001b[0;31mFileNotFoundError\u001b[0m                         Traceback (most recent call last)",
            "\u001b[0;32m<ipython-input-44-587844bb5c91>\u001b[0m in \u001b[0;36m<module>\u001b[0;34m\u001b[0m\n\u001b[1;32m      3\u001b[0m \u001b[0;34m\u001b[0m\u001b[0m\n\u001b[1;32m      4\u001b[0m \u001b[0;31m# Open a connection to the file\u001b[0m\u001b[0;34m\u001b[0m\u001b[0;34m\u001b[0m\u001b[0;34m\u001b[0m\u001b[0m\n\u001b[0;32m----> 5\u001b[0;31m \u001b[0;32mwith\u001b[0m \u001b[0mopen\u001b[0m \u001b[0;34m(\u001b[0m\u001b[0murl\u001b[0m\u001b[0;34m)\u001b[0m \u001b[0;32mas\u001b[0m \u001b[0mfile\u001b[0m\u001b[0;34m:\u001b[0m\u001b[0;34m\u001b[0m\u001b[0;34m\u001b[0m\u001b[0m\n\u001b[0m\u001b[1;32m      6\u001b[0m \u001b[0;34m\u001b[0m\u001b[0m\n\u001b[1;32m      7\u001b[0m     \u001b[0;31m# Skip the column names\u001b[0m\u001b[0;34m\u001b[0m\u001b[0;34m\u001b[0m\u001b[0;34m\u001b[0m\u001b[0m\n",
            "\u001b[0;31mFileNotFoundError\u001b[0m: [Errno 2] No such file or directory: 'https://raw.githubusercontent.com/nirmalaraj77/Python/main/world_ind_pop_data.csv'"
          ]
        }
      ]
    },
    {
      "cell_type": "markdown",
      "source": [
        "##Write a generator to load data in chunks 2"
      ],
      "metadata": {
        "id": "IG_J__GTYElZ"
      }
    },
    {
      "cell_type": "code",
      "source": [
        "# Define read_large_file()\n",
        "def read_large_file(file_object):\n",
        "    \"\"\"A generator function to read a large file lazily.\"\"\"\n",
        "\n",
        "    # Loop indefinitely until the end of the file\n",
        "    while True:\n",
        "\n",
        "        # Read a line from the file: data\n",
        "        data = file_object.readline()\n",
        "\n",
        "        # Break if this is the end of the file\n",
        "        if not data:\n",
        "            break\n",
        "\n",
        "        # Yield the line of data\n",
        "        yield data\n",
        "\n",
        "# Open a connection to the file\n",
        "with open('world_dev_ind.csv') as file:\n",
        "\n",
        "    # Create a generator object for the file: gen_file\n",
        "    gen_file = read_large_file(file)\n",
        "\n",
        "    # Print the first three lines of the file\n",
        "    print(next(gen_file))\n",
        "    print(next(gen_file))\n",
        "    print(next(gen_file))"
      ],
      "metadata": {
        "id": "uS4KO1nuYJkp",
        "outputId": "2775c25e-6473-4a7a-8524-625597e0dbae",
        "colab": {
          "base_uri": "https://localhost:8080/",
          "height": 235
        }
      },
      "execution_count": null,
      "outputs": [
        {
          "output_type": "error",
          "ename": "FileNotFoundError",
          "evalue": "ignored",
          "traceback": [
            "\u001b[0;31m---------------------------------------------------------------------------\u001b[0m",
            "\u001b[0;31mFileNotFoundError\u001b[0m                         Traceback (most recent call last)",
            "\u001b[0;32m<ipython-input-46-13382960d11b>\u001b[0m in \u001b[0;36m<module>\u001b[0;34m\u001b[0m\n\u001b[1;32m     17\u001b[0m \u001b[0;34m\u001b[0m\u001b[0m\n\u001b[1;32m     18\u001b[0m \u001b[0;31m# Open a connection to the file\u001b[0m\u001b[0;34m\u001b[0m\u001b[0;34m\u001b[0m\u001b[0;34m\u001b[0m\u001b[0m\n\u001b[0;32m---> 19\u001b[0;31m \u001b[0;32mwith\u001b[0m \u001b[0mopen\u001b[0m\u001b[0;34m(\u001b[0m\u001b[0;34m'world_dev_ind.csv'\u001b[0m\u001b[0;34m)\u001b[0m \u001b[0;32mas\u001b[0m \u001b[0mfile\u001b[0m\u001b[0;34m:\u001b[0m\u001b[0;34m\u001b[0m\u001b[0;34m\u001b[0m\u001b[0m\n\u001b[0m\u001b[1;32m     20\u001b[0m \u001b[0;34m\u001b[0m\u001b[0m\n\u001b[1;32m     21\u001b[0m     \u001b[0;31m# Create a generator object for the file: gen_file\u001b[0m\u001b[0;34m\u001b[0m\u001b[0;34m\u001b[0m\u001b[0;34m\u001b[0m\u001b[0m\n",
            "\u001b[0;31mFileNotFoundError\u001b[0m: [Errno 2] No such file or directory: 'world_dev_ind.csv'"
          ]
        }
      ]
    },
    {
      "cell_type": "markdown",
      "source": [
        "##Write a generator to load data in chunks 3"
      ],
      "metadata": {
        "id": "q5bS8bDqaiJt"
      }
    },
    {
      "cell_type": "code",
      "source": [
        "# Initialize an empty dictionary: counts_dict\n",
        "counts_dict = {}\n",
        "\n",
        "# Open a connection to the file\n",
        "with open ('world_dev_ind.csv')as file:\n",
        "\n",
        "    # Iterate over the generator from read_large_file()\n",
        "    for line in read_large_file (file):\n",
        "\n",
        "        row = line.split(',')\n",
        "        first_col = row[0]\n",
        "\n",
        "        if first_col in counts_dict.keys():\n",
        "            counts_dict[first_col] += 1\n",
        "        else:\n",
        "            counts_dict[first_col] = 1\n",
        "\n",
        "# Print            \n",
        "print(counts_dict)"
      ],
      "metadata": {
        "id": "37UM_U6IahB-"
      },
      "execution_count": null,
      "outputs": []
    },
    {
      "cell_type": "markdown",
      "source": [
        "#**WRITE AN ITERATOR TO LOAD DATA IN CHUNKS 1 **\n",
        "### - USE PANDAS FOR LARGE DATA\n",
        "### - Can work on streaming data\n",
        "### - Process data in chunks\n",
        "### - read_csv () function and chunksize argument\n",
        "### - Creates an iterable reader object"
      ],
      "metadata": {
        "id": "a8EiX9-EbbCT"
      }
    },
    {
      "cell_type": "code",
      "source": [
        "# Import Pandas as pd and the world bank dataset from GitHub\n",
        "import pandas as pd\n",
        "\n",
        "# Initialize reader object: df_reader with chunksize = 10\n",
        "df_reader = pd.read_csv ('https://raw.githubusercontent.com/nirmalaraj77/Python/main/world_ind_pop_data.csv', chunksize = 10)\n",
        "\n",
        "\n",
        "# print two chunks\n",
        "print (next(df_reader))\n",
        "print (next(df_reader))"
      ],
      "metadata": {
        "id": "s2MfXpY4dQa_",
        "outputId": "aaadda09-b313-45d9-b281-b12d02ba1804",
        "colab": {
          "base_uri": "https://localhost:8080/"
        }
      },
      "execution_count": null,
      "outputs": [
        {
          "output_type": "stream",
          "name": "stdout",
          "text": [
            "                                 CountryName CountryCode  Year  \\\n",
            "0                                 Arab World         ARB  1960   \n",
            "1                     Caribbean small states         CSS  1960   \n",
            "2             Central Europe and the Baltics         CEB  1960   \n",
            "3    East Asia & Pacific (all income levels)         EAS  1960   \n",
            "4      East Asia & Pacific (developing only)         EAP  1960   \n",
            "5                                  Euro area         EMU  1960   \n",
            "6  Europe & Central Asia (all income levels)         ECS  1960   \n",
            "7    Europe & Central Asia (developing only)         ECA  1960   \n",
            "8                             European Union         EUU  1960   \n",
            "9   Fragile and conflict affected situations         FCS  1960   \n",
            "\n",
            "   Total Population  Urban population (% of total)  \n",
            "0      9.249590e+07                      31.285384  \n",
            "1      4.190810e+06                      31.597490  \n",
            "2      9.140158e+07                      44.507921  \n",
            "3      1.042475e+09                      22.471132  \n",
            "4      8.964930e+08                      16.917679  \n",
            "5      2.653965e+08                      62.096947  \n",
            "6      6.674890e+08                      55.378977  \n",
            "7      1.553174e+08                      38.066129  \n",
            "8      4.094985e+08                      61.212898  \n",
            "9      1.203546e+08                      17.891972  \n",
            "                                      CountryName CountryCode  Year  \\\n",
            "10         Heavily indebted poor countries (HIPC)         HPC  1960   \n",
            "11                                    High income         HIC  1960   \n",
            "12                           High income: nonOECD         NOC  1960   \n",
            "13                              High income: OECD         OEC  1960   \n",
            "14  Latin America & Caribbean (all income levels)         LCN  1960   \n",
            "15    Latin America & Caribbean (developing only)         LAC  1960   \n",
            "16   Least developed countries: UN classification         LDC  1960   \n",
            "17                            Low & middle income         LMY  1960   \n",
            "18                                     Low income         LIC  1960   \n",
            "19                            Lower middle income         LMC  1960   \n",
            "\n",
            "    Total Population  Urban population (% of total)  \n",
            "10      1.624912e+08                      12.236046  \n",
            "11      9.075975e+08                      62.680332  \n",
            "12      1.866767e+08                      56.107863  \n",
            "13      7.209208e+08                      64.285435  \n",
            "14      2.205642e+08                      49.284688  \n",
            "15      1.776822e+08                      44.863308  \n",
            "16      2.410728e+08                       9.616261  \n",
            "17      2.127373e+09                      21.272894  \n",
            "18      1.571884e+08                      11.498396  \n",
            "19      9.429116e+08                      19.810513  \n"
          ]
        }
      ]
    },
    {
      "cell_type": "markdown",
      "source": [
        "#**WRITE AN ITERATOR TO LOAD DATA IN CHUNKS 2**\n",
        "### - USE PANDAS FOR LARGE DATA\n",
        "### - Can work on streaming data\n",
        "### - Process data in chunks\n",
        "### - read_csv () function and chunksize argument\n",
        "### - Creates an iterable reader object"
      ],
      "metadata": {
        "id": "x8yX1O8Le8ha"
      }
    },
    {
      "cell_type": "code",
      "source": [
        "# Import Pandas as pd and the world bank dataset from GitHub\n",
        "import pandas as pd\n",
        "\n",
        "# Initialize reader object: urb_pop_reader with chunksize = 1000\n",
        "urb_pop_reader = pd.read_csv ('https://raw.githubusercontent.com/nirmalaraj77/Python/main/world_ind_pop_data.csv', chunksize = 1000)\n",
        "\n",
        "# Get the first DataFrame chunk: df_urb_pop\n",
        "df_urb_pop = next(urb_pop_reader)\n",
        "\n",
        "# Check out the head of the DataFrame\n",
        "print(df_urb_pop.head())\n",
        "\n",
        "# Check out specific country: df_pop_ceb\n",
        "df_pop_ceb = (df_urb_pop [df_urb_pop['CountryCode'] =='CEB'])\n",
        "\n",
        "# Zip DataFrame columns of interest: pops\n",
        "pops = zip(df_pop_ceb['Total Population'], df_pop_ceb['Urban population (% of total)'])\n",
        "\n",
        "# Turn zip object into list: pops_list\n",
        "pops_list = list(pops)\n",
        "\n",
        "# Print pops_list\n",
        "print(pops_list)"
      ],
      "metadata": {
        "id": "WI2IKZ39fEHP",
        "outputId": "cd129c7a-bc06-4ebc-ec75-c2229c7bd8e8",
        "colab": {
          "base_uri": "https://localhost:8080/"
        }
      },
      "execution_count": null,
      "outputs": [
        {
          "output_type": "stream",
          "name": "stdout",
          "text": [
            "                               CountryName CountryCode  Year  \\\n",
            "0                               Arab World         ARB  1960   \n",
            "1                   Caribbean small states         CSS  1960   \n",
            "2           Central Europe and the Baltics         CEB  1960   \n",
            "3  East Asia & Pacific (all income levels)         EAS  1960   \n",
            "4    East Asia & Pacific (developing only)         EAP  1960   \n",
            "\n",
            "   Total Population  Urban population (% of total)  \n",
            "0      9.249590e+07                      31.285384  \n",
            "1      4.190810e+06                      31.597490  \n",
            "2      9.140158e+07                      44.507921  \n",
            "3      1.042475e+09                      22.471132  \n",
            "4      8.964930e+08                      16.917679  \n",
            "[(91401583.0, 44.5079211390026), (92237118.0, 45.206665319194), (93014890.0, 45.866564696018), (93845749.0, 46.5340927663649), (94722599.0, 47.2087429803526)]\n"
          ]
        }
      ]
    },
    {
      "cell_type": "markdown",
      "source": [
        "#**WRITE AN ITERATOR TO LOAD DATA IN CHUNKS 3**\n",
        "### - USE PANDAS FOR LARGE DATA\n",
        "### - Can work on streaming data\n",
        "### - Process data in chunks\n",
        "### - read_csv () function and chunksize argument\n",
        "### - Creates an iterable reader object\n",
        "### - Use list comprehension to create values for new column "
      ],
      "metadata": {
        "id": "T-lLeD86h7br"
      }
    },
    {
      "cell_type": "code",
      "source": [
        "# Import Pandas as pd and matplotlib as plt\n",
        "import matplotlib.pyplot as plt\n",
        "import pandas as pd\n",
        "\n",
        "# Code from previous exercise\n",
        "urb_pop_reader = pd.read_csv('https://raw.githubusercontent.com/nirmalaraj77/Python/main/world_ind_pop_data.csv', chunksize=1000)\n",
        "df_urb_pop = next(urb_pop_reader)\n",
        "df_pop_ceb = df_urb_pop[df_urb_pop['CountryCode'] == 'CEB']\n",
        "pops = zip(df_pop_ceb['Total Population'], \n",
        "           df_pop_ceb['Urban population (% of total)'])\n",
        "pops_list = list(pops)\n",
        "\n",
        "# Use list comprehension to create new DataFrame column 'Total Urban Population'\n",
        "df_pop_ceb['Total Urban Population'] = [int(tup[0] * tup[1] * 0.01) for tup in pops_list]\n",
        "\n",
        "# Plot urban population data\n",
        "df_pop_ceb.plot(kind='scatter', x='Year', y='Total Urban Population')\n",
        "plt.show()"
      ],
      "metadata": {
        "colab": {
          "base_uri": "https://localhost:8080/",
          "height": 394
        },
        "id": "ofu30imLiOeA",
        "outputId": "ee3dea6f-40c4-4ee9-85af-ea8d7051533c"
      },
      "execution_count": null,
      "outputs": [
        {
          "output_type": "stream",
          "name": "stderr",
          "text": [
            "/usr/local/lib/python3.7/dist-packages/ipykernel_launcher.py:14: SettingWithCopyWarning: \n",
            "A value is trying to be set on a copy of a slice from a DataFrame.\n",
            "Try using .loc[row_indexer,col_indexer] = value instead\n",
            "\n",
            "See the caveats in the documentation: https://pandas.pydata.org/pandas-docs/stable/user_guide/indexing.html#returning-a-view-versus-a-copy\n",
            "  \n"
          ]
        },
        {
          "output_type": "display_data",
          "data": {
            "text/plain": [
              "<Figure size 432x288 with 1 Axes>"
            ],
            "image/png": "[encoded data removed]"
          },
          "metadata": {
            "needs_background": "light"
          }
        }
      ]
    },
    {
      "cell_type": "markdown",
      "source": [
        "#**WRITE AN ITERATOR TO LOAD DATA IN CHUNKS 4**\n",
        "### - USE PANDAS FOR LARGE DATA\n",
        "### - Can work on streaming data\n",
        "### - Process data in chunks\n",
        "### - read_csv () function and chunksize argument\n",
        "### - Creates an iterable reader object\n",
        "### - Use list comprehension to create values for new column \n",
        "### - Aggregate all results"
      ],
      "metadata": {
        "id": "5aLh7A2FjoTz"
      }
    },
    {
      "cell_type": "code",
      "source": [
        "# Initialize reader object: urb_pop_reader\n",
        "urb_pop_reader = pd.read_csv('https://raw.githubusercontent.com/nirmalaraj77/Python/main/world_ind_pop_data.csv', chunksize=1000)\n",
        "\n",
        "# Initialize empty DataFrame: data\n",
        "data = pd.DataFrame()\n",
        "\n",
        "# Iterate over each DataFrame chunk\n",
        "for df_urb_pop in urb_pop_reader:\n",
        "\n",
        "    # Check out specific country: df_pop_ceb\n",
        "    df_pop_ceb = df_urb_pop[df_urb_pop['CountryCode'] == 'CEB']\n",
        "\n",
        "    # Zip DataFrame columns of interest: pops\n",
        "    pops = zip(df_pop_ceb['Total Population'],\n",
        "                df_pop_ceb['Urban population (% of total)'])\n",
        "\n",
        "    # Turn zip object into list: pops_list\n",
        "    pops_list = list(pops)\n",
        "\n",
        "    # Use list comprehension to create new DataFrame column 'Total Urban Population'\n",
        "    df_pop_ceb['Total Urban Population'] = [int(tup[0] * tup[1] * 0.01) for tup in pops_list]\n",
        "    \n",
        "    # Append DataFrame chunk to data: data\n",
        "    data = data.append(df_pop_ceb)\n",
        "\n",
        "# Plot urban population data\n",
        "data.plot(kind='scatter', x='Year', y='Total Urban Population')\n",
        "plt.show()\n"
      ],
      "metadata": {
        "id": "cPDisL2ij11k",
        "outputId": "7779a42f-b890-4df8-d657-570ae1941a53",
        "colab": {
          "base_uri": "https://localhost:8080/",
          "height": 377
        }
      },
      "execution_count": null,
      "outputs": [
        {
          "output_type": "stream",
          "name": "stderr",
          "text": [
            "/usr/local/lib/python3.7/dist-packages/ipykernel_launcher.py:21: SettingWithCopyWarning: \n",
            "A value is trying to be set on a copy of a slice from a DataFrame.\n",
            "Try using .loc[row_indexer,col_indexer] = value instead\n",
            "\n",
            "See the caveats in the documentation: https://pandas.pydata.org/pandas-docs/stable/user_guide/indexing.html#returning-a-view-versus-a-copy\n"
          ]
        },
        {
          "output_type": "display_data",
          "data": {
            "text/plain": [
              "<Figure size 432x288 with 1 Axes>"
            ],
            "image/png": "[encoded data removed]"
          },
          "metadata": {
            "needs_background": "light"
          }
        }
      ]
    },
    {
      "cell_type": "markdown",
      "source": [
        "#**WRITE AN ITERATOR TO LOAD DATA IN CHUNKS 5**\n",
        "### - Put all the code for processing the data into a single function than can be reused"
      ],
      "metadata": {
        "id": "WkMSamFKkmwm"
      }
    },
    {
      "cell_type": "code",
      "source": [
        "# Define plot_pop()\n",
        "def plot_pop(filename, country_code):\n",
        "\n",
        "    # Initialize reader object: urb_pop_reader\n",
        "    urb_pop_reader = pd.read_csv(filename, chunksize=1000)\n",
        "\n",
        "    # Initialize empty DataFrame: data\n",
        "    data = pd.DataFrame()\n",
        "    \n",
        "    # Iterate over each DataFrame chunk\n",
        "    for df_urb_pop in urb_pop_reader:\n",
        "        # Check out specific country: df_pop_ceb\n",
        "        df_pop_ceb = df_urb_pop[df_urb_pop['CountryCode'] == country_code]\n",
        "\n",
        "        # Zip DataFrame columns of interest: pops\n",
        "        pops = zip(df_pop_ceb['Total Population'],\n",
        "                    df_pop_ceb['Urban population (% of total)'])\n",
        "\n",
        "        # Turn zip object into list: pops_list\n",
        "        pops_list = list(pops)\n",
        "\n",
        "        # Use list comprehension to create new DataFrame column 'Total Urban Population'\n",
        "        df_pop_ceb['Total Urban Population'] = [int(tup[0] * tup[1] * 0.01) for tup in pops_list]\n",
        "    \n",
        "        # Append DataFrame chunk to data: data\n",
        "        data = data.append(df_pop_ceb)\n",
        "\n",
        "    # Plot urban population data\n",
        "    data.plot(kind='scatter', x='Year', y='Total Urban Population')\n",
        "    plt.show()\n",
        "\n",
        "# Set the filename: fn\n",
        "fn = 'https://raw.githubusercontent.com/nirmalaraj77/Python/main/world_ind_pop_data.csv'\n",
        "\n",
        "# Call plot_pop for country code 'CEB'\n",
        "plot_pop(fn, 'CEB')\n",
        "\n",
        "# Call plot_pop for country code 'ARB'\n",
        "plot_pop(fn, 'ARB')\n"
      ],
      "metadata": {
        "id": "wSahrtFlkWgA",
        "outputId": "3150d082-b998-4271-ace4-a47d0ee8b97c",
        "colab": {
          "base_uri": "https://localhost:8080/",
          "height": 650
        }
      },
      "execution_count": null,
      "outputs": [
        {
          "output_type": "stream",
          "name": "stderr",
          "text": [
            "/usr/local/lib/python3.7/dist-packages/ipykernel_launcher.py:23: SettingWithCopyWarning: \n",
            "A value is trying to be set on a copy of a slice from a DataFrame.\n",
            "Try using .loc[row_indexer,col_indexer] = value instead\n",
            "\n",
            "See the caveats in the documentation: https://pandas.pydata.org/pandas-docs/stable/user_guide/indexing.html#returning-a-view-versus-a-copy\n"
          ]
        },
        {
          "output_type": "display_data",
          "data": {
            "text/plain": [
              "<Figure size 432x288 with 1 Axes>"
            ],
            "image/png": "[encoded data removed]"
          },
          "metadata": {
            "needs_background": "light"
          }
        },
        {
          "output_type": "display_data",
          "data": {
            "text/plain": [
              "<Figure size 432x288 with 1 Axes>"
            ],
            "image/png": "[encoded data removed]"
          },
          "metadata": {
            "needs_background": "light"
          }
        }
      ]
    }
  ]
}