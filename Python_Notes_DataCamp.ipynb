{
  "nbformat": 4,
  "nbformat_minor": 0,
  "metadata": {
    "colab": {
      "name": "Python_Notes_DataCamp.ipynb",
      "provenance": [],
      "collapsed_sections": [
        "a4Bi06CaGDzK",
        "1664fd0c",
        "kUhzKSpDLROj",
        "ECXy09jlKn_A",
        "RiaDyM7tDwCX",
        "FsF2-3hgLszy",
        "4sO9p3axMCDp"
      ],
      "authorship_tag": "ABX9TyPG/u4/hbkoq8AhYXS4ygDu",
      "include_colab_link": true
    },
    "kernelspec": {
      "name": "python3",
      "display_name": "Python 3"
    },
    "language_info": {
      "name": "python"
    }
  },
  "cells": [
    {
      "cell_type": "markdown",
      "metadata": {
        "id": "view-in-github",
        "colab_type": "text"
      },
      "source": [
        "<a href=\"https://colab.research.google.com/github/nirmalaraj77/Python/blob/main/Python_Notes_DataCamp.ipynb\" target=\"_parent\"><img src=\"https://colab.research.google.com/assets/colab-badge.svg\" alt=\"Open In Colab\"/></a>"
      ]
    },
    {
      "cell_type": "markdown",
      "source": [
        "#Functions and Packages"
      ],
      "metadata": {
        "id": "a4Bi06CaGDzK"
      }
    },
    {
      "cell_type": "markdown",
      "source": [
        "##Functions\n",
        "### - Call with round brackets\n",
        "### - Functions save results to variables\n",
        "### - Syntax: output = function_name(input)\n",
        "### - Help syntax: help (function-name) or ? function_name"
      ],
      "metadata": {
        "id": "37RNfhi0h8O3"
      }
    },
    {
      "cell_type": "markdown",
      "source": [
        "##Methods\n",
        "### - Call with Dot . after data type name\n",
        "### - Each object has associated attribute and methods\n",
        "### - Call help to find methods associated with data types"
      ],
      "metadata": {
        "id": "RdY57qp6jUaz"
      }
    },
    {
      "cell_type": "markdown",
      "metadata": {
        "id": "877cdd13"
      },
      "source": [
        "##Packages\n",
        "### - Import packages as libraries, alias or selective"
      ]
    },
    {
      "cell_type": "code",
      "execution_count": null,
      "metadata": {
        "id": "JwcFZC065fnz"
      },
      "outputs": [],
      "source": [
        "# Import Library   \n",
        "import math \n",
        "\n",
        "# Import Library as alias   \n",
        "import numpy as np  \n",
        "import matplotlib.pyplot as plt\n",
        "\n",
        "# Selective import  \n",
        "from math import pi\n",
        "from scipy.linalg import inv as my_inv"
      ]
    },
    {
      "cell_type": "markdown",
      "metadata": {
        "id": "1664fd0c"
      },
      "source": [
        "#Variables and Data Types"
      ]
    },
    {
      "cell_type": "markdown",
      "source": [
        "##Assign Variables"
      ],
      "metadata": {
        "id": "kUhzKSpDLROj"
      }
    },
    {
      "cell_type": "code",
      "source": [
        "# Assign variable\n",
        "x = 5\n",
        "y = 7\n",
        "\n",
        "# Assign variable # Cleaner Code\n",
        "a, b, c = 1, 2, 3\n",
        "\n",
        "# Assign variable to variable\n",
        "d = a \n",
        "print (a, b, c, d)\n",
        "\n",
        "# Changing variable does not change original value\n",
        "d = 5\n",
        "print (a, b, c, d)"
      ],
      "metadata": {
        "id": "zGEHKhV_LTfw",
        "outputId": "e0d4ebbf-69b3-40d3-db14-7362cf6257ab",
        "colab": {
          "base_uri": "https://localhost:8080/"
        }
      },
      "execution_count": 11,
      "outputs": [
        {
          "output_type": "stream",
          "name": "stdout",
          "text": [
            "1 2 3 1\n",
            "1 2 3 5\n"
          ]
        }
      ]
    },
    {
      "cell_type": "markdown",
      "source": [
        "## Calculate Variables \n",
        "### - Arithmetic operations highest to lowest"
      ],
      "metadata": {
        "id": "ECXy09jlKn_A"
      }
    },
    {
      "cell_type": "code",
      "source": [
        "x ** y # Exponent\n",
        "x % y # Modulus \n",
        "x // y # Integer division \n",
        "x / y # Division  \n",
        "x * y # Multiply  \n",
        "x - y # Substract   \n",
        "x + y # Sum"
      ],
      "metadata": {
        "colab": {
          "base_uri": "https://localhost:8080/"
        },
        "id": "j1_cDm6VB7b8",
        "outputId": "989c2484-f014-43a3-edb0-cfc1d615862a"
      },
      "execution_count": 12,
      "outputs": [
        {
          "output_type": "execute_result",
          "data": {
            "text/plain": [
              "12"
            ]
          },
          "metadata": {},
          "execution_count": 12
        }
      ]
    },
    {
      "cell_type": "markdown",
      "source": [
        "## Type Conversion"
      ],
      "metadata": {
        "id": "RiaDyM7tDwCX"
      }
    },
    {
      "cell_type": "code",
      "source": [
        "# Variable to String, Integer, Float and Boolean  \n",
        "str('5'), \n",
        "str(2.444)  \n",
        "str('Manual')  \n",
        "int (1)  \n",
        "int (2.7)  \n",
        "int (True)   \n",
        "float (5)  \n",
        "float ('1.7')  \n",
        "bool (True)  \n",
        "bool (False)  \n",
        "bool (1)  \n",
        "bool(0)  \n",
        "bool ('Amma@')"
      ],
      "metadata": {
        "colab": {
          "base_uri": "https://localhost:8080/"
        },
        "id": "6GRFH5ZmDkF4",
        "outputId": "8ee17ef6-18bb-4243-bc05-a491b4377f9c"
      },
      "execution_count": 14,
      "outputs": [
        {
          "output_type": "execute_result",
          "data": {
            "text/plain": [
              "True"
            ]
          },
          "metadata": {},
          "execution_count": 14
        }
      ]
    },
    {
      "cell_type": "markdown",
      "source": [
        "##String Operations"
      ],
      "metadata": {
        "id": "Fru6PsDWElm2"
      }
    },
    {
      "cell_type": "code",
      "source": [
        "my_string = 'This String is Awesome' # Assign variable to string \n",
        "\n",
        "print (my_string * 3) # Multiply string\n",
        "\n",
        "print (my_string + my_string) # Add strings (without spaces)\n",
        "\n",
        "print (my_string, my_string) # Add strings (adds a space) # Cleaner Code\n",
        "\n",
        "print (my_string + ' ' + 'is it not so?') # Add other strings\n",
        "\n",
        "print(my_string, ' ', 'is this new method?') # Add other strings # Cleaner Code "
      ],
      "metadata": {
        "colab": {
          "base_uri": "https://localhost:8080/"
        },
        "id": "f8UXGQg3Eo_V",
        "outputId": "f54ac1bc-f900-4272-a44d-a5ad73d1c847"
      },
      "execution_count": 17,
      "outputs": [
        {
          "output_type": "stream",
          "name": "stdout",
          "text": [
            "This String is AwesomeThis String is AwesomeThis String is Awesome\n",
            "This String is AwesomeThis String is Awesome\n",
            "This String is Awesome This String is Awesome\n",
            "This String is Awesome is it not so?\n",
            "This String is Awesome   is this new method?\n"
          ]
        }
      ]
    },
    {
      "cell_type": "markdown",
      "source": [
        "##String Indexing, Subsetting and Slicing  \n",
        "### - Place index in square brackets [ ] \n",
        "### - Index starts at 0\n",
        "### - Use Colon : to slice\n",
        "### - Slicing Syntax: string [start : end]\n",
        "### - **Start index is included, end index is excluded**\n",
        "### - No need to include index if slicing from first or last element\n",
        "### - Start and end indexes are included if denoted with colons : \n",
        "\n"
      ],
      "metadata": {
        "id": "P3FItUl8H6ai"
      }
    },
    {
      "cell_type": "code",
      "execution_count": 37,
      "metadata": {
        "scrolled": false,
        "id": "da43668b",
        "outputId": "e90a9338-c060-43d4-a913-cd3a850410a0",
        "colab": {
          "base_uri": "https://localhost:8080/"
        }
      },
      "outputs": [
        {
          "output_type": "stream",
          "name": "stdout",
          "text": [
            "2\n",
            "678\n",
            "012\n",
            "789\n",
            "7\n"
          ]
        }
      ],
      "source": [
        "my_string = '0123456789' #Assign string \n",
        "\n",
        "print (my_string [2]) # Character index 3 \n",
        "\n",
        "print (my_string [6 : 9]) # Start index 6 is inclided, end index 9 not included \n",
        "\n",
        "print (my_string[: 3]) # Start index included from beginning (used :). End index 3 not included\n",
        "\n",
        "print (my_string [7 :]) # Start index 7 incuded. Indexes until end included (used :) \n",
        "\n",
        "print (my_string [-3]) # Select 3rd from last element"
      ]
    },
    {
      "cell_type": "markdown",
      "source": [
        "##String Methods and Functions\n",
        "### - Call methods with dot. and round brackets after ( )\n",
        "### - Call functions with function name and round brackets "
      ],
      "metadata": {
        "id": "JWM0ONdnIpME"
      }
    },
    {
      "cell_type": "code",
      "execution_count": 18,
      "metadata": {
        "scrolled": false,
        "outputId": "ae088180-7409-468e-9273-f80eaf548420",
        "colab": {
          "base_uri": "https://localhost:8080/"
        },
        "id": "vSPEw77vInED"
      },
      "outputs": [
        {
          "output_type": "stream",
          "name": "stdout",
          "text": [
            "26\n",
            "False\n",
            "  THIS STRING IS AWESOME  \n",
            "  this string is awesome  \n",
            "  this string is awesome  \n",
            "  This String Is Awesome  \n",
            "4\n",
            "  thiX Xtring iX aweXome  \n",
            "this string is awesome\n"
          ]
        }
      ],
      "source": [
        "my_string = '  this string is awesome  ' # Assign string with whitespaces front and after\n",
        "\n",
        "print (len(my_string)) # String length\n",
        "\n",
        "print (('y' in my_string)) # Boolean for string character\n",
        "\n",
        "print (my_string.upper ()) # Uppercase\n",
        "\n",
        "print (my_string.lower ()) # Lowercase\n",
        "\n",
        "print (my_string.capitalize ()) # Capitalize 1st Character\n",
        "\n",
        "print (my_string.title ()) # Capitalise all words\n",
        "\n",
        "print (my_string.count ('s')) # Count String Element\n",
        "\n",
        "print (my_string.replace ('s', 'X')) # Replace all occuarances of String Element with another\n",
        "\n",
        "print (my_string.strip ()) # Strip Whitespaces beginning and end"
      ]
    },
    {
      "cell_type": "markdown",
      "source": [
        ""
      ],
      "metadata": {
        "id": "E-zo8lO6L_rF"
      }
    },
    {
      "cell_type": "markdown",
      "source": [
        "#Lists"
      ],
      "metadata": {
        "id": "4sO9p3axMCDp"
      }
    },
    {
      "cell_type": "markdown",
      "source": [
        "##Create List \n",
        "### - Use square brackets [ ]\n",
        "### - Can have different Types"
      ],
      "metadata": {
        "id": "JDpicA42MKGh"
      }
    },
    {
      "cell_type": "code",
      "source": [
        "# Assign variables # Cleaner Code\n",
        "hall, kit, liv, bed, bath, w,x, y, z = 11.25, 18.0, 20.0, 10.75, 9.5, 'Amman', True, 1>2, 10001\n",
        "\n",
        "# Create list areas with variables of different data types\n",
        "areas = [hall, kit, liv, bed, bath, w, x, y, z] \n",
        "print (areas)"
      ],
      "metadata": {
        "colab": {
          "base_uri": "https://localhost:8080/"
        },
        "id": "oXLRbX6CMMbG",
        "outputId": "eb1062bc-2f90-4ec2-f9c5-1a4867b7ce7f"
      },
      "execution_count": 30,
      "outputs": [
        {
          "output_type": "stream",
          "name": "stdout",
          "text": [
            "[11.25, 18.0, 20.0, 10.75, 9.5, 'Amman', True, False, 10001]\n"
          ]
        }
      ]
    },
    {
      "cell_type": "markdown",
      "source": [
        "##List Methods"
      ],
      "metadata": {
        "id": "v4JQRWsF04HH"
      }
    },
    {
      "cell_type": "code",
      "source": [
        "# Assign variables # Cleaner Code\n",
        "a, b, c, d  = 'My', 5, 1.25, 1 >2\n",
        "\n",
        "# Create List\n",
        "my_list = [a, b, c, d]  \n",
        "\n",
        "my_list.append (' !!!') # Append Elemets one by one\n",
        "my_list.append (5/10) # Append Elements one by one \n",
        "print (my_list) \n",
        "\n",
        "my_list.remove(5) # Remove Element\n",
        "print (my_list)\n",
        "\n",
        "# Create another list\n",
        "my_list2 = [8, 9, 10, 1, 5, -1]\n",
        "\n",
        "# Reverse List Order\n",
        "my_list2.reverse() \n",
        "print (my_list2)\n",
        "\n",
        "# Extend my_list with all elements of my_list2\n",
        "my_list.extend (my_list2)\n",
        "print (my_list)"
      ],
      "metadata": {
        "id": "M0MQByRh06ak",
        "outputId": "5a22b0c0-2002-4afc-8241-44d323f4277b",
        "colab": {
          "base_uri": "https://localhost:8080/"
        }
      },
      "execution_count": 36,
      "outputs": [
        {
          "output_type": "stream",
          "name": "stdout",
          "text": [
            "['My', 5, 1.25, False, ' !!!', 0.5]\n",
            "['My', 1.25, False, ' !!!', 0.5]\n",
            "[-1, 5, 1, 10, 9, 8]\n",
            "['My', 1.25, False, ' !!!', 0.5, -1, 5, 1, 10, 9, 8]\n"
          ]
        }
      ]
    },
    {
      "cell_type": "markdown",
      "source": [
        "##List of Lists\n",
        "### - Can be any number of lists"
      ],
      "metadata": {
        "id": "qKQOt-WtMpap"
      }
    },
    {
      "cell_type": "code",
      "source": [
        "# Area variables (in square meters)\n",
        "hall = 11.25\n",
        "kit = 18.0\n",
        "liv = 20.0\n",
        "bed = 10.75\n",
        "bath = 9.50\n",
        "\n",
        "# House information as list of lists\n",
        "house = [[\"hallway\", hall],\n",
        "         [\"kitchen\", kit],\n",
        "         [\"living room\", liv],\n",
        "         [\"bedroom\", bed],\n",
        "         [\"bathroom\", bath]]\n",
        "\n",
        "print (house)\n",
        "print (type (house))"
      ],
      "metadata": {
        "colab": {
          "base_uri": "https://localhost:8080/"
        },
        "id": "lgjNr-GqM0zg",
        "outputId": "b3de68e7-3cb5-417a-b273-b17ce9e56c5d"
      },
      "execution_count": null,
      "outputs": [
        {
          "output_type": "stream",
          "name": "stdout",
          "text": [
            "[['hallway', 11.25], ['kitchen', 18.0], ['living room', 20.0], ['bedroom', 10.75], ['bathroom', 9.5]]\n",
            "<class 'list'>\n"
          ]
        }
      ]
    },
    {
      "cell_type": "markdown",
      "source": [
        "##List Indexing, Subsetting and Slicing\n",
        "### - Place index in square brackets [ ] \n",
        "### - Index starts at 0\n",
        "### - Use Colon : to slice\n",
        "### - Slicing Syntax: list [start : end]\n",
        "### - **Start index is included, end index is excluded**\n",
        "### - No need to include index if slicing from first or last element\n",
        "### - Start and end indexes are included if denoted with colons : \n"
      ],
      "metadata": {
        "id": "ZU-A15p4QSM2"
      }
    },
    {
      "cell_type": "code",
      "source": [
        "# Create list\n",
        "l = [0, 1, 2, 3, 4, 5, 6, 7, 8, 9] \n",
        "print (l [4]) # Print 4th index \n",
        "\n",
        "a = 'is'; b = 'nice'; my_list = ['my', 'list', 'xxx', a, b] # Create List # Cleaner Code\n",
        "print (my_list [1]) # Print 2nd element \n",
        "print (my_list [-2]) # Print 2nd to last item from end\n",
        "\n",
        "l = ['a' ,'b', 'c', 'd', 'e'] # Create list\n",
        "print (l [1:3]) # Select elements 2-3 # Start index 1 is included, end index 3 is excluded\n",
        "print (l [2:]) # Select elemets 3 - end # Start index 2 is included, end is denoted by colon : \n",
        "print (l [:2]) # Select elements start - 2 # Start index denoted by colon :, end index 2 is exluded "
      ],
      "metadata": {
        "colab": {
          "base_uri": "https://localhost:8080/"
        },
        "id": "KxsDshS7RZ8d",
        "outputId": "80555bb1-28b0-4a66-c259-446448f4c22c"
      },
      "execution_count": 38,
      "outputs": [
        {
          "output_type": "stream",
          "name": "stdout",
          "text": [
            "4\n",
            "list\n",
            "is\n",
            "['b', 'c']\n",
            "['c', 'd', 'e']\n",
            "['a', 'b']\n"
          ]
        }
      ]
    },
    {
      "cell_type": "markdown",
      "source": [
        "##Copy List\n",
        "### - Copying a list will point to same list\n",
        "### - Create new copy with list() or : for seperate list \n",
        "### - With Indexing / Slicing / Subsetting\n",
        "### - Result is new list with selected elements\n"
      ],
      "metadata": {
        "id": "U69Rsv16WSfi"
      }
    },
    {
      "cell_type": "code",
      "source": [
        "l = ['p', 'q', 'r', 's', 't'] # Create list\n",
        "l_copy = l # Create copy\n",
        "del l_copy [2] # Delete index item in copy\n",
        "print (l) # Original also changes\n",
        "print (l_copy) # Because both point to same list\n",
        "\n",
        "l = ['p', 'q', 'r', 's', 't'] # Create list\n",
        "l1 = list (l) # Copy all indexes to new list with list()\n",
        "l2 = l [:3] # # Copy index start - 2  to new list\n",
        "print (l1)\n",
        "print (l2)"
      ],
      "metadata": {
        "colab": {
          "base_uri": "https://localhost:8080/"
        },
        "id": "NdoHoT7nWnH9",
        "outputId": "90f4ee41-834b-4002-afd8-104c006dfa0d"
      },
      "execution_count": null,
      "outputs": [
        {
          "output_type": "stream",
          "name": "stdout",
          "text": [
            "['p', 'q', 's', 't']\n",
            "['p', 'q', 's', 't']\n",
            "['p', 'q', 'r', 's', 't']\n",
            "['p', 'q', 'r']\n"
          ]
        }
      ]
    },
    {
      "cell_type": "markdown",
      "source": [
        "##Subset List of Lists\n",
        "### - Use square brackets [ ] \n",
        "### - Same rules for indexing and slicing  "
      ],
      "metadata": {
        "id": "Lr9gE14wbQLr"
      }
    },
    {
      "cell_type": "code",
      "source": [
        "my_list = [[1, 2, 3, 4, 5], [6, 7, 8, 9, 10]] # Create list of lists\n",
        "\n",
        "x = [[\"a\", \"b\", \"c\"], # Create list of lists # Cleaner Code\n",
        "     [\"d\", \"e\", \"f\"],\n",
        "     [\"g\", \"h\", \"i\"]] \n",
        "\n",
        "print (my_list [1][2]) \n",
        "print (my_list [0] [3:]) \n",
        "print (x[2] [0]) \n",
        "print (x[2] [:2])\n",
        "print (x[1] [-2])"
      ],
      "metadata": {
        "colab": {
          "base_uri": "https://localhost:8080/"
        },
        "id": "ZGus1mFPbZ7Z",
        "outputId": "d1588a61-023e-4c8b-8054-723697da0416"
      },
      "execution_count": null,
      "outputs": [
        {
          "output_type": "stream",
          "name": "stdout",
          "text": [
            "8\n",
            "[4, 5]\n",
            "g\n",
            "['g', 'h']\n",
            "e\n"
          ]
        }
      ]
    },
    {
      "cell_type": "markdown",
      "source": [
        "##Replace List Elements"
      ],
      "metadata": {
        "id": "NVqOR7Nxd7_Q"
      }
    },
    {
      "cell_type": "code",
      "source": [
        "x = [\"a\", \"b\", \"c\", \"d\"] # Create List\n",
        "x[1] = \"r\" # Replace index 1  \n",
        "x[2:] = [\"s\", \"t\"] # Replace index 2 - end\n",
        "print (x)"
      ],
      "metadata": {
        "colab": {
          "base_uri": "https://localhost:8080/"
        },
        "id": "UoQX4t9Yd_B_",
        "outputId": "841aaa8f-b5d0-4778-89c9-42704c8400e1"
      },
      "execution_count": null,
      "outputs": [
        {
          "output_type": "stream",
          "name": "stdout",
          "text": [
            "['a', 'r', 's', 't']\n"
          ]
        }
      ]
    },
    {
      "cell_type": "markdown",
      "source": [
        "##Extend List"
      ],
      "metadata": {
        "id": "J6kYw93eeut5"
      }
    },
    {
      "cell_type": "code",
      "source": [
        "x = [\"a\", \"b\", \"c\", \"d\"] # Create list\n",
        "y = x + [\"e\", \"f\"] # Add elements\n",
        "print (y)\n",
        "\n",
        "print (y + y) # Add list to list\n",
        "print (y * 5) # Multiply list"
      ],
      "metadata": {
        "colab": {
          "base_uri": "https://localhost:8080/"
        },
        "id": "AyBl2oDaermM",
        "outputId": "00bd4ff3-e96f-455a-d04a-d53b621475f9"
      },
      "execution_count": null,
      "outputs": [
        {
          "output_type": "stream",
          "name": "stdout",
          "text": [
            "['a', 'b', 'c', 'd', 'e', 'f']\n",
            "['a', 'b', 'c', 'd', 'e', 'f', 'a', 'b', 'c', 'd', 'e', 'f']\n",
            "['a', 'b', 'c', 'd', 'e', 'f', 'a', 'b', 'c', 'd', 'e', 'f', 'a', 'b', 'c', 'd', 'e', 'f', 'a', 'b', 'c', 'd', 'e', 'f', 'a', 'b', 'c', 'd', 'e', 'f']\n"
          ]
        }
      ]
    },
    {
      "cell_type": "markdown",
      "source": [
        "##Delete List Elements"
      ],
      "metadata": {
        "id": "-3MRKDvKfi_F"
      }
    },
    {
      "cell_type": "code",
      "source": [
        "x = [\"a\", \"b\", \"c\", \"d\"] # Create list\n",
        "del(x[1]) # Delete 1st index element\n",
        "print (x)"
      ],
      "metadata": {
        "colab": {
          "base_uri": "https://localhost:8080/"
        },
        "id": "ug9Pq2Khfsvg",
        "outputId": "cd18379b-0ed3-43ff-db75-6209538fed79"
      },
      "execution_count": null,
      "outputs": [
        {
          "output_type": "stream",
          "name": "stdout",
          "text": [
            "['a', 'c', 'd']\n"
          ]
        }
      ]
    },
    {
      "cell_type": "markdown",
      "source": [
        "##List Methods"
      ],
      "metadata": {
        "id": "ZIwJiYdnkDxo"
      }
    },
    {
      "cell_type": "code",
      "source": [
        "z = ['my', 'list', 'is', 'is', 'nice'] # Create List\n",
        "\n",
        "print (z.index ('is')) # Get the first index of an item\n",
        "\n",
        "print (z.count ('is')) # Count an item\n",
        "\n",
        "z.append ('!!!') # Append an item at a time\n",
        "print (z)\n",
        "\n",
        "z.remove ('is') # Remove an item at a time\n",
        "print (z)\n",
        "\n",
        "z = ['my', 'list', 'is', 'is', 'nice'] # Create List for following exercises\n",
        "\n",
        "del (z [-2]) # Remove items by indexing / slicing / subsetting\n",
        "print (z)\n",
        "       \n",
        "z.extend ('2') # Extend list\n",
        "print (z)\n",
        "\n",
        "z.pop (-1) # Remove index item\n",
        "print (z)\n",
        "\n",
        "z.insert (-1, 'NOT') # Insert an item before index position\n",
        "print (z)\n",
        "\n",
        "z.sort() # Sort list\n",
        "print (z)\n",
        "\n",
        "z.sort (reverse = True) # Reverse Sort\n",
        "print (z)\n",
        "\n",
        "z.reverse () # Reverse list # Cleaner Code\n",
        "print (z)"
      ],
      "metadata": {
        "colab": {
          "base_uri": "https://localhost:8080/"
        },
        "id": "XCA90yotkHB8",
        "outputId": "9959f12d-e24d-4d23-9eed-a6a912628cb2"
      },
      "execution_count": null,
      "outputs": [
        {
          "output_type": "stream",
          "name": "stdout",
          "text": [
            "2\n",
            "2\n",
            "['my', 'list', 'is', 'is', 'nice', '!!!']\n",
            "['my', 'list', 'is', 'nice', '!!!']\n",
            "['my', 'list', 'is', 'nice']\n",
            "['my', 'list', 'is', 'nice', '2']\n",
            "['my', 'list', 'is', 'nice']\n",
            "['my', 'list', 'is', 'NOT', 'nice']\n",
            "['NOT', 'is', 'list', 'my', 'nice']\n",
            "['nice', 'my', 'list', 'is', 'NOT']\n",
            "['NOT', 'is', 'list', 'my', 'nice']\n"
          ]
        }
      ]
    },
    {
      "cell_type": "markdown",
      "source": [
        "#Numpy Arrays and 2D Numpy Arrays\n",
        "### - Creates a n-dimensional array (ndarray)\n",
        "### - Can create array of any dimensions  \n",
        "### - CAN ONLY CONTAIN ONE DATA TYPE\n",
        "### - Including different types will coerce array to stringsto end up with homogenous array\n",
        "### - Syntax : np.array()\n",
        "### - Multi-demensional arrays work like improved list of lists\n",
        "### - Calculate element wide vector arithmentics\n",
        "### - Advanced index, select and subset element wide\n",
        "### - **Start index is included, end index is excluded**\n",
        "### - Create boolen np arrays\n",
        "### - Index, Slice and Subset ork the dame way as Python Lists\n",
        "### - NP attributes are called with dot. but are not methods (no round brackets after)\n",
        "### - Combine matrices with single numbers, vectors, and with other matrices\n",
        "\n",
        "\n",
        "\n",
        "\n",
        "\n"
      ],
      "metadata": {
        "id": "0aExusyaH35N"
      }
    },
    {
      "cell_type": "code",
      "source": [
        "baseball = [180, 215, 210, 210, 188, 176, 209, 200] # Create list baseball\n",
        "\n",
        "import numpy as np # Import the numpy package as np\n",
        "\n",
        "np_baseball_cm = np.array(baseball) # Create a NumPy array for heights in centimetres from baseball: np_baseball_cm\n",
        "\n",
        "print(type(np_baseball)) # Print out type of np_baseball\n",
        "\n",
        "np_baseball_in = np_baseball_cm * 0.394 # Create np array np_baseball_in by multiplying np_baseball_cm by 0.394\n",
        "print (np_baseball_in)\n",
        "\n",
        "np_baseball_in_small = np_baseball_in < 80.00 # Create boolean numpy array np_baseball_in_small of players less than 80 in tall\n",
        "print (np_baseball_in_small) # Boolena numpy array\n",
        "print (np_baseball_in [np_baseball_in_small]) # Select / filter small palyers from array\n",
        "\n",
        "\n",
        "np_2d = np.array ([[1.73, 1.68, 1.71, 1.89, 1.79], [65.4, 59.2, 63.6, 88.4, 68.7]]) # Create 2d np array\n",
        "print (np_2d)\n",
        "print(np_2d.shape) # Use dot. shape attrubute. Shape is 2 rows, 5 columns\n",
        "\n",
        "\n",
        "np_2d = np.array ([[1.73, 1.68, 1.71, 1.89, 1.79], [65.4, 59.2, 63.6, 88.4, 68.7]]) # Create 2d np array\n",
        "print (np_2d [0] [2]) # Subset Row 0, Index 2 : 1.71\n",
        "print (np_2d [0, 2]) # Subset Row 0, Index 2 : 1.71 # Cleaner Code\n",
        "print (np_2d [:, 1:3 ]) # Subset all Rows with Colon :, and after comma, subset Columns 2 - 3 with 1:3  (3rd index not included)\n",
        "print (np_2d [1, :]) # Subset Row 2 with index 1, after comma, subset All columns with colon :\n",
        "\n",
        "np_mat = np.array([[1, 2],\n",
        "                   [3, 4],\n",
        "                   [5, 6]]) # Create 2D np array\n",
        "print (np_mat * 2) # 2D arithmetic\n",
        "\n",
        "np_mat_new = np_mat + np.array([10, 5]) # Add 10 to 1st element and 5 to 2nd elements in each array \n",
        "print (np_mat_new)\n",
        "\n",
        "print (np_mat + np_mat) # Add element to element matrice wise "
      ],
      "metadata": {
        "colab": {
          "base_uri": "https://localhost:8080/"
        },
        "id": "F_Va4IHzIE1x",
        "outputId": "0b2d5eb4-30b7-4c78-925e-a575e532d791"
      },
      "execution_count": null,
      "outputs": [
        {
          "output_type": "stream",
          "name": "stdout",
          "text": [
            "<class 'numpy.ndarray'>\n",
            "[70.92  84.71  82.74  82.74  74.072 69.344 82.346 78.8  ]\n",
            "[ True False False False  True  True False  True]\n",
            "[70.92  74.072 69.344 78.8  ]\n",
            "[[ 1.73  1.68  1.71  1.89  1.79]\n",
            " [65.4  59.2  63.6  88.4  68.7 ]]\n",
            "(2, 5)\n",
            "1.71\n",
            "1.71\n",
            "[[ 1.68  1.71]\n",
            " [59.2  63.6 ]]\n",
            "[65.4 59.2 63.6 88.4 68.7]\n",
            "[[ 2  4]\n",
            " [ 6  8]\n",
            " [10 12]]\n",
            "[[11  7]\n",
            " [13  9]\n",
            " [15 11]]\n",
            "[[ 2  4]\n",
            " [ 6  8]\n",
            " [10 12]]\n"
          ]
        }
      ]
    },
    {
      "cell_type": "markdown",
      "source": [
        "#Numpy Statistics\n",
        "### - Use Numpy Functions"
      ],
      "metadata": {
        "id": "jP6eB4UcKOds"
      }
    },
    {
      "cell_type": "code",
      "source": [
        "import numpy as np # Import Numpy\n",
        "x = np.array ([[1.73, 1.68, 1.71, 1.89, 1.79], [65.4, 59.2, 63.6, 88.4, 68.7]]) # Create 2d np array\n",
        "\n",
        "print (x) # Print array \n",
        "\n",
        "print (x.shape) # Array shape, 2 rows and 5 columns\n",
        "\n",
        "print (np.mean (x [0, :])) # Mean / Average of 1st row, all columns\n",
        "\n",
        "print (np.median(x [1, :])) # Median of 2nd row, all columns\n",
        "\n",
        "print (np.std (x [:, 0])) # Standard Deviation on All Rows, 1st colummn\n",
        "\n",
        "print (np.corrcoef (x [0, :], x [1:, :])) # Correlation between 1st and 2nd rows, All columns"
      ],
      "metadata": {
        "id": "qjbIJldkKRMC",
        "outputId": "1bfe318d-eaea-4d62-b4c9-d02c3ae36336",
        "colab": {
          "base_uri": "https://localhost:8080/"
        }
      },
      "execution_count": null,
      "outputs": [
        {
          "output_type": "stream",
          "name": "stdout",
          "text": [
            "[[ 1.73  1.68  1.71  1.89  1.79]\n",
            " [65.4  59.2  63.6  88.4  68.7 ]]\n",
            "(2, 5)\n",
            "1.7600000000000002\n",
            "65.4\n",
            "31.835000000000004\n",
            "[[1.         0.97514969]\n",
            " [0.97514969 1.        ]]\n"
          ]
        }
      ]
    },
    {
      "cell_type": "code",
      "source": [
        "url = 'https://raw.githubusercontent.com/nirmalaraj77/Python/main/fifa.csv' # Load fifa.csv from github public url \n",
        "\n",
        "import pandas as pd # Import Pandas package\n",
        "\n",
        "df = pd.read_csv (url) # Create Pandas data Frame df from fifa.csv\n",
        "\n",
        "df # Load DataFrame\n",
        "\n",
        "\n",
        "\n",
        "\n",
        "\n",
        "\n",
        "\n",
        "\n",
        "\n",
        "\n",
        "\n"
      ],
      "metadata": {
        "id": "dy4CSxCSLOC9",
        "outputId": "4a3e72f1-701f-47ab-9e5c-8995d88c3a34",
        "colab": {
          "base_uri": "https://localhost:8080/"
        }
      },
      "execution_count": null,
      "outputs": [
        {
          "output_type": "execute_result",
          "data": {
            "text/plain": [
              "id                        100264\n",
              " name            Tomasz Szewczuk\n",
              " rating                       57\n",
              " position                      A\n",
              " height                      185\n",
              " foot                      Right\n",
              " rare                          0\n",
              " pace                         65\n",
              " shooting                     54\n",
              " passing                      43\n",
              " dribbling                    53\n",
              " defending                    55\n",
              " heading                      74\n",
              " diving                         \n",
              " handling                       \n",
              " kicking                        \n",
              " reflexes                       \n",
              " speed                          \n",
              " positioning                 NaN\n",
              "Name: 2, dtype: object"
            ]
          },
          "metadata": {},
          "execution_count": 98
        }
      ]
    },
    {
      "cell_type": "code",
      "source": [
        "positions = df['position'].tolist() # Convert the 'position' column of the DataFrame to a list 'positions"
      ],
      "metadata": {
        "id": "7_goM2svQLvK",
        "outputId": "1d623da8-f356-4532-e64f-98c8f4279852",
        "colab": {
          "base_uri": "https://localhost:8080/",
          "height": 502
        }
      },
      "execution_count": null,
      "outputs": [
        {
          "output_type": "error",
          "ename": "KeyError",
          "evalue": "ignored",
          "traceback": [
            "\u001b[0;31m---------------------------------------------------------------------------\u001b[0m",
            "\u001b[0;31mKeyError\u001b[0m                                  Traceback (most recent call last)",
            "\u001b[0;32m/usr/local/lib/python3.7/dist-packages/pandas/core/indexes/base.py\u001b[0m in \u001b[0;36mget_loc\u001b[0;34m(self, key, method, tolerance)\u001b[0m\n\u001b[1;32m   3360\u001b[0m             \u001b[0;32mtry\u001b[0m\u001b[0;34m:\u001b[0m\u001b[0;34m\u001b[0m\u001b[0;34m\u001b[0m\u001b[0m\n\u001b[0;32m-> 3361\u001b[0;31m                 \u001b[0;32mreturn\u001b[0m \u001b[0mself\u001b[0m\u001b[0;34m.\u001b[0m\u001b[0m_engine\u001b[0m\u001b[0;34m.\u001b[0m\u001b[0mget_loc\u001b[0m\u001b[0;34m(\u001b[0m\u001b[0mcasted_key\u001b[0m\u001b[0;34m)\u001b[0m\u001b[0;34m\u001b[0m\u001b[0;34m\u001b[0m\u001b[0m\n\u001b[0m\u001b[1;32m   3362\u001b[0m             \u001b[0;32mexcept\u001b[0m \u001b[0mKeyError\u001b[0m \u001b[0;32mas\u001b[0m \u001b[0merr\u001b[0m\u001b[0;34m:\u001b[0m\u001b[0;34m\u001b[0m\u001b[0;34m\u001b[0m\u001b[0m\n",
            "\u001b[0;32m/usr/local/lib/python3.7/dist-packages/pandas/_libs/index.pyx\u001b[0m in \u001b[0;36mpandas._libs.index.IndexEngine.get_loc\u001b[0;34m()\u001b[0m\n",
            "\u001b[0;32m/usr/local/lib/python3.7/dist-packages/pandas/_libs/index.pyx\u001b[0m in \u001b[0;36mpandas._libs.index.IndexEngine.get_loc\u001b[0;34m()\u001b[0m\n",
            "\u001b[0;32mpandas/_libs/hashtable_class_helper.pxi\u001b[0m in \u001b[0;36mpandas._libs.hashtable.PyObjectHashTable.get_item\u001b[0;34m()\u001b[0m\n",
            "\u001b[0;32mpandas/_libs/hashtable_class_helper.pxi\u001b[0m in \u001b[0;36mpandas._libs.hashtable.PyObjectHashTable.get_item\u001b[0;34m()\u001b[0m\n",
            "\u001b[0;31mKeyError\u001b[0m: 'position'",
            "\nThe above exception was the direct cause of the following exception:\n",
            "\u001b[0;31mKeyError\u001b[0m                                  Traceback (most recent call last)",
            "\u001b[0;32m<ipython-input-88-7c196c7d83b9>\u001b[0m in \u001b[0;36m<module>\u001b[0;34m()\u001b[0m\n\u001b[0;32m----> 1\u001b[0;31m \u001b[0mpositions\u001b[0m \u001b[0;34m=\u001b[0m \u001b[0mdf\u001b[0m\u001b[0;34m[\u001b[0m\u001b[0;34m'position'\u001b[0m\u001b[0;34m]\u001b[0m\u001b[0;34m.\u001b[0m\u001b[0mtolist\u001b[0m\u001b[0;34m(\u001b[0m\u001b[0;34m)\u001b[0m \u001b[0;31m# Convert the 'position' column of the DataFrame to a list 'positions\u001b[0m\u001b[0;34m\u001b[0m\u001b[0;34m\u001b[0m\u001b[0m\n\u001b[0m",
            "\u001b[0;32m/usr/local/lib/python3.7/dist-packages/pandas/core/frame.py\u001b[0m in \u001b[0;36m__getitem__\u001b[0;34m(self, key)\u001b[0m\n\u001b[1;32m   3456\u001b[0m             \u001b[0;32mif\u001b[0m \u001b[0mself\u001b[0m\u001b[0;34m.\u001b[0m\u001b[0mcolumns\u001b[0m\u001b[0;34m.\u001b[0m\u001b[0mnlevels\u001b[0m \u001b[0;34m>\u001b[0m \u001b[0;36m1\u001b[0m\u001b[0;34m:\u001b[0m\u001b[0;34m\u001b[0m\u001b[0;34m\u001b[0m\u001b[0m\n\u001b[1;32m   3457\u001b[0m                 \u001b[0;32mreturn\u001b[0m \u001b[0mself\u001b[0m\u001b[0;34m.\u001b[0m\u001b[0m_getitem_multilevel\u001b[0m\u001b[0;34m(\u001b[0m\u001b[0mkey\u001b[0m\u001b[0;34m)\u001b[0m\u001b[0;34m\u001b[0m\u001b[0;34m\u001b[0m\u001b[0m\n\u001b[0;32m-> 3458\u001b[0;31m             \u001b[0mindexer\u001b[0m \u001b[0;34m=\u001b[0m \u001b[0mself\u001b[0m\u001b[0;34m.\u001b[0m\u001b[0mcolumns\u001b[0m\u001b[0;34m.\u001b[0m\u001b[0mget_loc\u001b[0m\u001b[0;34m(\u001b[0m\u001b[0mkey\u001b[0m\u001b[0;34m)\u001b[0m\u001b[0;34m\u001b[0m\u001b[0;34m\u001b[0m\u001b[0m\n\u001b[0m\u001b[1;32m   3459\u001b[0m             \u001b[0;32mif\u001b[0m \u001b[0mis_integer\u001b[0m\u001b[0;34m(\u001b[0m\u001b[0mindexer\u001b[0m\u001b[0;34m)\u001b[0m\u001b[0;34m:\u001b[0m\u001b[0;34m\u001b[0m\u001b[0;34m\u001b[0m\u001b[0m\n\u001b[1;32m   3460\u001b[0m                 \u001b[0mindexer\u001b[0m \u001b[0;34m=\u001b[0m \u001b[0;34m[\u001b[0m\u001b[0mindexer\u001b[0m\u001b[0;34m]\u001b[0m\u001b[0;34m\u001b[0m\u001b[0;34m\u001b[0m\u001b[0m\n",
            "\u001b[0;32m/usr/local/lib/python3.7/dist-packages/pandas/core/indexes/base.py\u001b[0m in \u001b[0;36mget_loc\u001b[0;34m(self, key, method, tolerance)\u001b[0m\n\u001b[1;32m   3361\u001b[0m                 \u001b[0;32mreturn\u001b[0m \u001b[0mself\u001b[0m\u001b[0;34m.\u001b[0m\u001b[0m_engine\u001b[0m\u001b[0;34m.\u001b[0m\u001b[0mget_loc\u001b[0m\u001b[0;34m(\u001b[0m\u001b[0mcasted_key\u001b[0m\u001b[0;34m)\u001b[0m\u001b[0;34m\u001b[0m\u001b[0;34m\u001b[0m\u001b[0m\n\u001b[1;32m   3362\u001b[0m             \u001b[0;32mexcept\u001b[0m \u001b[0mKeyError\u001b[0m \u001b[0;32mas\u001b[0m \u001b[0merr\u001b[0m\u001b[0;34m:\u001b[0m\u001b[0;34m\u001b[0m\u001b[0;34m\u001b[0m\u001b[0m\n\u001b[0;32m-> 3363\u001b[0;31m                 \u001b[0;32mraise\u001b[0m \u001b[0mKeyError\u001b[0m\u001b[0;34m(\u001b[0m\u001b[0mkey\u001b[0m\u001b[0;34m)\u001b[0m \u001b[0;32mfrom\u001b[0m \u001b[0merr\u001b[0m\u001b[0;34m\u001b[0m\u001b[0;34m\u001b[0m\u001b[0m\n\u001b[0m\u001b[1;32m   3364\u001b[0m \u001b[0;34m\u001b[0m\u001b[0m\n\u001b[1;32m   3365\u001b[0m         \u001b[0;32mif\u001b[0m \u001b[0mis_scalar\u001b[0m\u001b[0;34m(\u001b[0m\u001b[0mkey\u001b[0m\u001b[0;34m)\u001b[0m \u001b[0;32mand\u001b[0m \u001b[0misna\u001b[0m\u001b[0;34m(\u001b[0m\u001b[0mkey\u001b[0m\u001b[0;34m)\u001b[0m \u001b[0;32mand\u001b[0m \u001b[0;32mnot\u001b[0m \u001b[0mself\u001b[0m\u001b[0;34m.\u001b[0m\u001b[0mhasnans\u001b[0m\u001b[0;34m:\u001b[0m\u001b[0;34m\u001b[0m\u001b[0;34m\u001b[0m\u001b[0m\n",
            "\u001b[0;31mKeyError\u001b[0m: 'position'"
          ]
        }
      ]
    },
    {
      "cell_type": "code",
      "source": [
        ""
      ],
      "metadata": {
        "id": "azsaSohqYn4f"
      },
      "execution_count": null,
      "outputs": []
    }
  ]
}