{
  "nbformat": 4,
  "nbformat_minor": 0,
  "metadata": {
    "colab": {
      "name": "Python_Notes_DataCamp.ipynb",
      "provenance": [],
      "collapsed_sections": [
        "a4Bi06CaGDzK",
        "1664fd0c",
        "kUhzKSpDLROj",
        "ECXy09jlKn_A",
        "RiaDyM7tDwCX",
        "FsF2-3hgLszy",
        "4sO9p3axMCDp"
      ],
      "authorship_tag": "ABX9TyO2rXbAhs4pgFyCOpIUIQu/",
      "include_colab_link": true
    },
    "kernelspec": {
      "name": "python3",
      "display_name": "Python 3"
    },
    "language_info": {
      "name": "python"
    }
  },
  "cells": [
    {
      "cell_type": "markdown",
      "metadata": {
        "id": "view-in-github",
        "colab_type": "text"
      },
      "source": [
        "<a href=\"https://colab.research.google.com/github/nirmalaraj77/Python/blob/main/Python_Notes_DataCamp.ipynb\" target=\"_parent\"><img src=\"https://colab.research.google.com/assets/colab-badge.svg\" alt=\"Open In Colab\"/></a>"
      ]
    },
    {
      "cell_type": "markdown",
      "source": [
        "**PYTHON_NOTES_DATACAMP**\n",
        "\n"
      ],
      "metadata": {
        "id": "U3q71NiS17sl"
      }
    },
    {
      "cell_type": "markdown",
      "source": [
        "#**Functions and Packages**"
      ],
      "metadata": {
        "id": "a4Bi06CaGDzK"
      }
    },
    {
      "cell_type": "markdown",
      "source": [
        "##Functions\n",
        "### - Call with round brackets ( )\n",
        "### - Syntax: output = function_name(input)\n",
        "### - Help syntax: help (function-name) or ? function_name"
      ],
      "metadata": {
        "id": "37RNfhi0h8O3"
      }
    },
    {
      "cell_type": "markdown",
      "source": [
        "##Methods\n",
        "### - Call with dot . after data type name and round brackets\n",
        "### - Syntax : dtype.method_name ( )\n",
        "### - Each object has associated attribute and methods\n",
        "### - Call help to find methods associated with data types"
      ],
      "metadata": {
        "id": "RdY57qp6jUaz"
      }
    },
    {
      "cell_type": "markdown",
      "metadata": {
        "id": "877cdd13"
      },
      "source": [
        "##Packages\n",
        "### - Import packages as libraries, alias or selective"
      ]
    },
    {
      "cell_type": "code",
      "execution_count": null,
      "metadata": {
        "id": "JwcFZC065fnz"
      },
      "outputs": [],
      "source": [
        "# Import Library   \n",
        "import math \n",
        "\n",
        "# Import Library as alias   \n",
        "import numpy as np  \n",
        "import matplotlib.pyplot as plt\n",
        "\n",
        "# Selective import  \n",
        "from math import pi\n",
        "from scipy.linalg import inv as my_inv"
      ]
    },
    {
      "cell_type": "markdown",
      "metadata": {
        "id": "1664fd0c"
      },
      "source": [
        "#**Variables, Data Types and Operations**\n",
        "\n",
        "\n",
        "\n"
      ]
    },
    {
      "cell_type": "markdown",
      "source": [
        "##Assign Variables"
      ],
      "metadata": {
        "id": "kUhzKSpDLROj"
      }
    },
    {
      "cell_type": "code",
      "source": [
        "# Assign variable\n",
        "x = 5\n",
        "y = 7\n",
        "\n",
        "# Assign variable # Cleaner Code\n",
        "a, b, c = 1, 2, 3\n",
        "\n",
        "# Assign variable to variable\n",
        "d = a \n",
        "print (a, b, c, d)\n",
        "\n",
        "# Changing variable does not change original value\n",
        "d = 5\n",
        "print (a, b, c, d)\n",
        "\n",
        "# Assign multiple variables to single value\n",
        "a = b = c = 15\n",
        "print (a, b, c)"
      ],
      "metadata": {
        "id": "zGEHKhV_LTfw",
        "outputId": "ffc4c6f9-3b12-447d-9ac4-173abc6a923f",
        "colab": {
          "base_uri": "https://localhost:8080/"
        }
      },
      "execution_count": null,
      "outputs": [
        {
          "output_type": "stream",
          "name": "stdout",
          "text": [
            "1 2 3 1\n",
            "1 2 3 5\n",
            "15 15 15\n"
          ]
        }
      ]
    },
    {
      "cell_type": "markdown",
      "source": [
        "##Assign Variables with type casting\n",
        "### - Specify data type of variable with casting."
      ],
      "metadata": {
        "id": "7vxQ3LqI0p8g"
      }
    },
    {
      "cell_type": "code",
      "source": [
        "# x will be '3'\n",
        "x = str(3)    \n",
        "\n",
        "# y will be 3\n",
        "y = int(3)    \n",
        "\n",
        "# z will be 3.0\n",
        "z = float(3)  "
      ],
      "metadata": {
        "id": "MjC04s9W0xDH"
      },
      "execution_count": null,
      "outputs": []
    },
    {
      "cell_type": "markdown",
      "source": [
        "##Assign input variable with type casting \n",
        "### - Specify input type"
      ],
      "metadata": {
        "id": "eGpDvZ_Z1J4e"
      }
    },
    {
      "cell_type": "code",
      "source": [
        "#Input Operator with Type sepcified\n",
        "\n",
        "x = int (input ('Your Integer Number: '))\n",
        "print (x)\n",
        "\n",
        "y = str (input ('Your String : '))\n",
        "print (y)\n",
        "\n",
        "z = float (input ('Your Float Number : '))\n",
        "print (z)\n",
        "\n",
        "b = bool (input ('Your Boolean : '))\n",
        "print (b)"
      ],
      "metadata": {
        "id": "l9jGaDTA1Vh8"
      },
      "execution_count": null,
      "outputs": []
    },
    {
      "cell_type": "markdown",
      "source": [
        "##Unpack Collections\n",
        "### - Unpack collections of values in a list, tuple etc. by assigning variables"
      ],
      "metadata": {
        "id": "jm2FVts365xM"
      }
    },
    {
      "cell_type": "code",
      "source": [
        "fruits = (\"apple\", \"banana\", \"cherry\")\n",
        "x, y, z = fruits\n",
        "print(x)\n",
        "print(y)\n",
        "print(z)"
      ],
      "metadata": {
        "id": "tEisx03i7MXJ"
      },
      "execution_count": null,
      "outputs": []
    },
    {
      "cell_type": "markdown",
      "source": [
        "##Arithmetic operations highest to lowest\n",
        "### - Exponent x ** y \n",
        "### - Modulus x % y   \n",
        "### - Integer Division x // y  \n",
        "### - Division x / y   \n",
        "### - Multiply x * y  \n",
        "### - Substract x - y     \n",
        "### - Sum x + y "
      ],
      "metadata": {
        "id": "ECXy09jlKn_A"
      }
    },
    {
      "cell_type": "markdown",
      "source": [
        "## Type Conversion"
      ],
      "metadata": {
        "id": "RiaDyM7tDwCX"
      }
    },
    {
      "cell_type": "code",
      "source": [
        "# Variable to String, Integer, Float and Boolean  \n",
        "str('5'), \n",
        "str(2.444)  \n",
        "str('Manual')  \n",
        "int (1)  \n",
        "int (2.7)  \n",
        "int (True)   \n",
        "float (5)  \n",
        "float ('1.7')  \n",
        "bool (True)  \n",
        "bool (False)  \n",
        "bool (1)  \n",
        "bool(0)  \n",
        "bool ('Amma@')"
      ],
      "metadata": {
        "id": "6GRFH5ZmDkF4"
      },
      "execution_count": null,
      "outputs": []
    },
    {
      "cell_type": "markdown",
      "source": [
        "##String Operations"
      ],
      "metadata": {
        "id": "Fru6PsDWElm2"
      }
    },
    {
      "cell_type": "code",
      "source": [
        "my_string = 'This String is Awesome' # Assign variable to string \n",
        "\n",
        "print (my_string * 3) # Multiply string\n",
        "\n",
        "print (my_string + my_string) # Add strings (without spaces)\n",
        "\n",
        "print (my_string, my_string) # Add strings (adds a space) # Cleaner Code\n",
        "\n",
        "print (my_string + ' ' + 'is it not so?') # Add other strings\n",
        "\n",
        "print(my_string, ' ', 'is this new method?') # Add other strings # Cleaner Code "
      ],
      "metadata": {
        "id": "f8UXGQg3Eo_V"
      },
      "execution_count": null,
      "outputs": []
    },
    {
      "cell_type": "markdown",
      "source": [
        "##String Indexing, Subsetting and Slicing  \n",
        "### - Place index in square brackets [ ] \n",
        "### - Index starts at 0\n",
        "### - Use Colon : to slice\n",
        "### - Slicing Syntax: string [start : end]\n",
        "### - **Start index is included, end index is excluded**\n",
        "### - No need to include index if slicing from first or last element\n",
        "### - Start and end indexes are included if denoted with colons : \n",
        "\n"
      ],
      "metadata": {
        "id": "P3FItUl8H6ai"
      }
    },
    {
      "cell_type": "code",
      "execution_count": null,
      "metadata": {
        "scrolled": false,
        "id": "da43668b"
      },
      "outputs": [],
      "source": [
        "my_string = '0123456789' #Assign string \n",
        "\n",
        "print (my_string [2]) # Character index 3 \n",
        "\n",
        "print (my_string [6 : 9]) # Start index 6 is inclided, end index 9 not included \n",
        "\n",
        "print (my_string[: 3]) # Start index included from beginning (used :). End index 3 not included\n",
        "\n",
        "print (my_string [7 :]) # Start index 7 incuded. Indexes until end included (used :) \n",
        "\n",
        "print (my_string [-3]) # Select 3rd from last element"
      ]
    },
    {
      "cell_type": "markdown",
      "source": [
        "##String Methods and Functions\n",
        "### - Call methods with dot. and round brackets after ( )\n",
        "### - Call functions with function name and round brackets "
      ],
      "metadata": {
        "id": "JWM0ONdnIpME"
      }
    },
    {
      "cell_type": "code",
      "execution_count": null,
      "metadata": {
        "scrolled": false,
        "id": "vSPEw77vInED"
      },
      "outputs": [],
      "source": [
        "my_string = '  this string is awesome  ' # Assign string with whitespaces front and after\n",
        "\n",
        "print (len(my_string)) # String length\n",
        "\n",
        "print (('y' in my_string)) # Boolean for string character\n",
        "\n",
        "print (my_string.upper ()) # Uppercase\n",
        "\n",
        "print (my_string.lower ()) # Lowercase\n",
        "\n",
        "print (my_string.capitalize ()) # Capitalize 1st Character\n",
        "\n",
        "print (my_string.title ()) # Capitalise all words\n",
        "\n",
        "print (my_string.count ('s')) # Count String Element\n",
        "\n",
        "print (my_string.replace ('s', 'X')) # Replace all occuarances of String Element with another\n",
        "\n",
        "print (my_string.strip ()) # Strip Whitespaces beginning and end"
      ]
    },
    {
      "cell_type": "markdown",
      "source": [
        ""
      ],
      "metadata": {
        "id": "E-zo8lO6L_rF"
      }
    },
    {
      "cell_type": "markdown",
      "source": [
        "#**Lists**"
      ],
      "metadata": {
        "id": "4sO9p3axMCDp"
      }
    },
    {
      "cell_type": "markdown",
      "source": [
        "##Create List \n",
        "### - Use square brackets [ ]\n",
        "### - Can have different Types"
      ],
      "metadata": {
        "id": "JDpicA42MKGh"
      }
    },
    {
      "cell_type": "code",
      "source": [
        "# Assign variables # Cleaner Code\n",
        "hall, kit, liv, bed, bath, w,x, y, z = 11.25, 18.0, 20.0, 10.75, 9.5, 'Amman', True, 1>2, 10001\n",
        "\n",
        "# Create list areas with variables of different data types\n",
        "areas = [hall, kit, liv, bed, bath, w, x, y, z] \n",
        "print (areas)"
      ],
      "metadata": {
        "colab": {
          "base_uri": "https://localhost:8080/"
        },
        "id": "oXLRbX6CMMbG",
        "outputId": "eb1062bc-2f90-4ec2-f9c5-1a4867b7ce7f"
      },
      "execution_count": null,
      "outputs": [
        {
          "output_type": "stream",
          "name": "stdout",
          "text": [
            "[11.25, 18.0, 20.0, 10.75, 9.5, 'Amman', True, False, 10001]\n"
          ]
        }
      ]
    },
    {
      "cell_type": "markdown",
      "source": [
        "##List of Lists\n",
        "### - Can be any number of lists\n",
        "### - Create with [ [ ], [ ] ]"
      ],
      "metadata": {
        "id": "qKQOt-WtMpap"
      }
    },
    {
      "cell_type": "code",
      "source": [
        "# Area variables (in square meters)\n",
        "hall = 11.25\n",
        "kit = 18.0\n",
        "liv = 20.0\n",
        "bed = 10.75\n",
        "bath = 9.50\n",
        "\n",
        "# House information as list of lists\n",
        "house = [[\"hallway\", hall],\n",
        "         [\"kitchen\", kit],\n",
        "         [\"living room\", liv],\n",
        "         [\"bedroom\", bed],\n",
        "         [\"bathroom\", bath]]\n",
        "\n",
        "print (house)\n",
        "print (type (house))"
      ],
      "metadata": {
        "colab": {
          "base_uri": "https://localhost:8080/"
        },
        "id": "lgjNr-GqM0zg",
        "outputId": "b3de68e7-3cb5-417a-b273-b17ce9e56c5d"
      },
      "execution_count": null,
      "outputs": [
        {
          "output_type": "stream",
          "name": "stdout",
          "text": [
            "[['hallway', 11.25], ['kitchen', 18.0], ['living room', 20.0], ['bedroom', 10.75], ['bathroom', 9.5]]\n",
            "<class 'list'>\n"
          ]
        }
      ]
    },
    {
      "cell_type": "markdown",
      "source": [
        "##List Indexing, Subsetting and Slicing\n",
        "### - Place index in square brackets [ ] \n",
        "### - Index starts at 0\n",
        "### - Use Colon : to slice\n",
        "### - Slicing Syntax: list [start : end]\n",
        "### - **Start index is included, end index is excluded**\n",
        "### - No need to include index if slicing from first or last element\n",
        "### - Start and end indexes are included if denoted with colons : \n"
      ],
      "metadata": {
        "id": "ZU-A15p4QSM2"
      }
    },
    {
      "cell_type": "code",
      "source": [
        "l = [0, 1, 2, 3, 4, 5, 6, 7, 8, 9] # Create list \n",
        "\n",
        "print (l [4]) # Print 4th index \n",
        "\n",
        "print (l [-2]) # Print 2nd to last item\n",
        "\n",
        "print (l [1:3]) # Print indexes 1 and 2. Start index 1 included, end index 3 excluded\n",
        "print (l [2:]) # Print indexes 2 - end. Start index 2 included, end is denoted by colon : \n",
        "print (l [:5]) # Print indexes from start (denoted by colon :) to 4. End index 5 exluded "
      ],
      "metadata": {
        "colab": {
          "base_uri": "https://localhost:8080/"
        },
        "id": "KxsDshS7RZ8d",
        "outputId": "7b2dad92-e198-4c5e-87fb-f2f30e6d041c"
      },
      "execution_count": null,
      "outputs": [
        {
          "output_type": "stream",
          "name": "stdout",
          "text": [
            "4\n",
            "8\n",
            "[1, 2]\n",
            "[2, 3, 4, 5, 6, 7, 8, 9]\n",
            "[0, 1, 2, 3, 4]\n"
          ]
        }
      ]
    },
    {
      "cell_type": "markdown",
      "source": [
        "##Copy List\n",
        "### - Copying a list will point to same list (unlike variable)\n",
        "### - Create new copy with list() or Colon : for seperate list \n",
        "### - Result is new list with selected elements if copied with Indexing, Slicing and Subsetting\n"
      ],
      "metadata": {
        "id": "U69Rsv16WSfi"
      }
    },
    {
      "cell_type": "code",
      "source": [
        "l = ['p', 'q', 'r', 's', 't'] # Create list\n",
        "l_copy = l # Create copy\n",
        "\n",
        "print (l)\n",
        "print (l_copy)\n",
        "\n",
        "del l_copy [2] # Delete index item in copy\n",
        "print (l) # Original also changes\n",
        "print (l_copy) # Because both point to same list\n",
        "\n",
        "l = ['p', 'q', 'r', 's', 't'] # Create list\n",
        "l1 = list (l) # Copy all indexes to new list with list()\n",
        "l2 = l [:3] # Copy index start - 2 to new list\n",
        "print (l1)\n",
        "print (l2)"
      ],
      "metadata": {
        "colab": {
          "base_uri": "https://localhost:8080/"
        },
        "id": "NdoHoT7nWnH9",
        "outputId": "91f003d3-cc0e-4523-f11b-5e54c14108c1"
      },
      "execution_count": null,
      "outputs": [
        {
          "output_type": "stream",
          "name": "stdout",
          "text": [
            "['p', 'q', 'r', 's', 't']\n",
            "['p', 'q', 'r', 's', 't']\n",
            "['p', 'q', 's', 't']\n",
            "['p', 'q', 's', 't']\n",
            "['p', 'q', 'r', 's', 't']\n",
            "['p', 'q', 'r']\n"
          ]
        }
      ]
    },
    {
      "cell_type": "markdown",
      "source": [
        "##Subset List of Lists\n",
        "### Syntax : list_name [index of list] [index of item in that list]\n",
        "### - Use 1st square bracket [ ] for index of list and second square bracket [ ] for index in that list  \n",
        "### - Same rules for list indexing, subsetting and slicing  "
      ],
      "metadata": {
        "id": "Lr9gE14wbQLr"
      }
    },
    {
      "cell_type": "code",
      "source": [
        "my_list = [[0, 1, 2, 3, 4, 5], [0, 1 , 2 , 3 , 4]] # Create list of lists\n",
        "\n",
        "x = [[\"a\", \"b\", \"c\"], # Create list of lists # Cleaner Code\n",
        "     [\"d\", \"e\", \"f\"],\n",
        "     [\"g\", \"h\", \"i\"]] \n",
        "\n",
        "print (my_list [1][2]) # List index 1, item index 2\n",
        "print (my_list [0] [3:]) # List index 0, item indexes 3 to end  \n",
        "print (x[2] [0]) # List index 2, item index 0\n",
        "print (x[0] [:2]) # List index 0, item indexes start to 1, end index 2 excluded\n",
        "print (x[1] [-2]) # List index 1, item 02nd from last"
      ],
      "metadata": {
        "colab": {
          "base_uri": "https://localhost:8080/"
        },
        "id": "ZGus1mFPbZ7Z",
        "outputId": "36e4bac0-3b93-4a14-8302-86e9c5fbc821"
      },
      "execution_count": null,
      "outputs": [
        {
          "output_type": "stream",
          "name": "stdout",
          "text": [
            "2\n",
            "[3, 4, 5]\n",
            "g\n",
            "['a', 'b']\n",
            "e\n"
          ]
        }
      ]
    },
    {
      "cell_type": "markdown",
      "source": [
        "##Replace List Elements"
      ],
      "metadata": {
        "id": "NVqOR7Nxd7_Q"
      }
    },
    {
      "cell_type": "code",
      "source": [
        "x = [\"a\", \"b\", \"c\", \"d\"] # Create List\n",
        "x[1] = \"r\" # Replace index 1  \n",
        "x[2:] = [\"s\", \"t\"] # Replace index 2 - end\n",
        "print (x)"
      ],
      "metadata": {
        "colab": {
          "base_uri": "https://localhost:8080/"
        },
        "id": "UoQX4t9Yd_B_",
        "outputId": "841aaa8f-b5d0-4778-89c9-42704c8400e1"
      },
      "execution_count": null,
      "outputs": [
        {
          "output_type": "stream",
          "name": "stdout",
          "text": [
            "['a', 'r', 's', 't']\n"
          ]
        }
      ]
    },
    {
      "cell_type": "markdown",
      "source": [
        "##Extend List"
      ],
      "metadata": {
        "id": "J6kYw93eeut5"
      }
    },
    {
      "cell_type": "code",
      "source": [
        "x = [\"a\", \"b\", \"c\", \"d\"] # Create list\n",
        "y = x + [\"e\", \"f\"] # Add elements\n",
        "print (y)\n",
        "\n",
        "print (y + y) # Add list to list\n",
        "print (y * 3) # Multiply list"
      ],
      "metadata": {
        "colab": {
          "base_uri": "https://localhost:8080/"
        },
        "id": "AyBl2oDaermM",
        "outputId": "54662aa9-a4d9-4efc-f814-10c655066927"
      },
      "execution_count": null,
      "outputs": [
        {
          "output_type": "stream",
          "name": "stdout",
          "text": [
            "['a', 'b', 'c', 'd', 'e', 'f']\n",
            "['a', 'b', 'c', 'd', 'e', 'f', 'a', 'b', 'c', 'd', 'e', 'f']\n",
            "['a', 'b', 'c', 'd', 'e', 'f', 'a', 'b', 'c', 'd', 'e', 'f', 'a', 'b', 'c', 'd', 'e', 'f']\n"
          ]
        }
      ]
    },
    {
      "cell_type": "markdown",
      "source": [
        "##Delete List Elements"
      ],
      "metadata": {
        "id": "-3MRKDvKfi_F"
      }
    },
    {
      "cell_type": "code",
      "source": [
        "x = [\"a\", \"b\", \"c\", \"d\"] # Create list\n",
        "del(x[1]) # Delete 1st index element\n",
        "print (x)"
      ],
      "metadata": {
        "colab": {
          "base_uri": "https://localhost:8080/"
        },
        "id": "ug9Pq2Khfsvg",
        "outputId": "cd18379b-0ed3-43ff-db75-6209538fed79"
      },
      "execution_count": null,
      "outputs": [
        {
          "output_type": "stream",
          "name": "stdout",
          "text": [
            "['a', 'c', 'd']\n"
          ]
        }
      ]
    },
    {
      "cell_type": "markdown",
      "source": [
        "##List Methods"
      ],
      "metadata": {
        "id": "ZIwJiYdnkDxo"
      }
    },
    {
      "cell_type": "code",
      "source": [
        "z = ['my', 'list', 'is', 'is', 'nice'] # Create List\n",
        "\n",
        "print (z.index ('is')) # Get the first index of an item\n",
        "\n",
        "print (z.count ('is')) # Count an item\n",
        "\n",
        "z.append ('!!!') # Append an item at a time\n",
        "print (z)\n",
        "\n",
        "z.remove ('is') # Remove an item at a time\n",
        "print (z)\n",
        "\n",
        "z = ['my', 'list', 'is', 'is', 'nice'] # Create List for following exercises\n",
        "\n",
        "del (z [-2]) # Remove items by indexing / slicing / subsetting\n",
        "print (z)\n",
        "       \n",
        "z.extend ('2') # Extend list\n",
        "print (z)\n",
        "\n",
        "z.pop (-1) # Remove index item\n",
        "print (z)\n",
        "\n",
        "z.insert (-1, 'NOT') # Insert an item before index position\n",
        "print (z)\n",
        "\n",
        "z.sort() # Sort list\n",
        "print (z)\n",
        "\n",
        "z.sort (reverse = True) # Reverse Sort\n",
        "print (z)\n",
        "\n",
        "z.reverse () # Reverse list # Cleaner Code\n",
        "print (z)"
      ],
      "metadata": {
        "colab": {
          "base_uri": "https://localhost:8080/"
        },
        "id": "XCA90yotkHB8",
        "outputId": "9959f12d-e24d-4d23-9eed-a6a912628cb2"
      },
      "execution_count": null,
      "outputs": [
        {
          "output_type": "stream",
          "name": "stdout",
          "text": [
            "2\n",
            "2\n",
            "['my', 'list', 'is', 'is', 'nice', '!!!']\n",
            "['my', 'list', 'is', 'nice', '!!!']\n",
            "['my', 'list', 'is', 'nice']\n",
            "['my', 'list', 'is', 'nice', '2']\n",
            "['my', 'list', 'is', 'nice']\n",
            "['my', 'list', 'is', 'NOT', 'nice']\n",
            "['NOT', 'is', 'list', 'my', 'nice']\n",
            "['nice', 'my', 'list', 'is', 'NOT']\n",
            "['NOT', 'is', 'list', 'my', 'nice']\n"
          ]
        }
      ]
    },
    {
      "cell_type": "markdown",
      "source": [
        "#**Numpy Arrays**\n",
        "### - Creates a n-dimensional array (ndarray) of any dimension\n",
        "### - CAN ONLY CONTAIN ONE DATA TYPE\n",
        "### - Different types will coerce array to strings\n",
        "### - Syntax : np.array( [ ] )\n",
        "### - Element wide vector arithmentics and advanced index, select and subset\n",
        "### - **Index starts at 0, start index included, end index excluded**\n",
        "### - NP attributes are called with dot. but are not methods (no round brackets after)\n",
        "\n",
        "\n",
        "\n",
        "\n"
      ],
      "metadata": {
        "id": "0aExusyaH35N"
      }
    },
    {
      "cell_type": "code",
      "source": [
        "# Create list baseball\n",
        "baseball = [180, 215, 210, 210, 188, 176, 209, 200] \n",
        "\n",
        "# Import the numpy package as np\n",
        "import numpy as np \n",
        "\n",
        "# Create NumPy array \n",
        "np_baseball_cm = np.array(baseball) \n",
        "\n",
        "# Create np array np_baseball_in by multiplying elements in np_baseball_cm by 0.394\n",
        "np_baseball_in = np_baseball_cm * 0.394 \n",
        "\n",
        "# Create boolean NP array of players < 80 in \n",
        "np_baseball_in_small = np_baseball_in < 80.00\n",
        "\n",
        "# Select players < 80 from array by passing bolena np array as index\n",
        "print (np_baseball_in [np_baseball_in_small]) "
      ],
      "metadata": {
        "colab": {
          "base_uri": "https://localhost:8080/"
        },
        "id": "F_Va4IHzIE1x",
        "outputId": "2565b0cc-f829-4a48-c9b7-3cb31d4a0943"
      },
      "execution_count": null,
      "outputs": [
        {
          "output_type": "stream",
          "name": "stdout",
          "text": [
            "[70.92  74.072 69.344 78.8  ]\n"
          ]
        }
      ]
    },
    {
      "cell_type": "markdown",
      "source": [
        "##2D Numpy Arrays\n",
        "### - Multi-demensional arrays work like improved list of lists\n",
        "### - Combine matrices with single numbers, vectors, and with other matrices\n",
        "### - Indexing, subsetting and slicing syntax : nparray [row index] [column index for that row]\n",
        "### - Indexing, subsetting and slicing Cleaner Code syntax : nparray [row index, column index for that row]\n"
      ],
      "metadata": {
        "id": "9hAgt0RNcrhO"
      }
    },
    {
      "cell_type": "code",
      "source": [
        "# Create 2d np array\n",
        "np_2d = np.array ([[0, 1, 2, 3, 4, 5], [10, 11, 12, 13, 14, 15]])\n",
        "\n",
        "# Use method dot.shape attribute (2 rows, 5 columns)\n",
        "print('Shape of np_2d is (rows, columns) : ', np_2d.shape) \n",
        "\n",
        "# # Subset Row 0, Index 2 \n",
        "print (np_2d [0] [2]) \n",
        "\n",
        "# Subset Row 0, Index 3 # Cleaner Code\n",
        "print (np_2d [1, 3]) \n",
        "\n",
        "# Subset all Rows and column indexes 1-2 (3rd index not included)\n",
        "print (np_2d [:, 1:3 ]) \n",
        "\n",
        "# Subset Row index 2 and All columns\n",
        "print (np_2d [1, :]) \n",
        "\n",
        "# Multiply all elements \n",
        "print (np_2d * 5) \n",
        "\n",
        "# Add 2d array and 2d array\n",
        "print (np_2d + np_2d)\n",
        "\n",
        "# Add 10 to 1st element, 11 to second element and so forth in each array\n",
        "print (np_2d + np.array ([10, 11, 12, 13, 14, 15]))"
      ],
      "metadata": {
        "colab": {
          "base_uri": "https://localhost:8080/"
        },
        "id": "-g5Sb6SEcqrh",
        "outputId": "763a794f-3461-4d37-a15c-17cee0305361"
      },
      "execution_count": null,
      "outputs": [
        {
          "output_type": "stream",
          "name": "stdout",
          "text": [
            "Shape of np_2d is (rows, columns) :  (2, 6)\n",
            "2\n",
            "13\n",
            "[[ 1  2]\n",
            " [11 12]]\n",
            "[10 11 12 13 14 15]\n",
            "[[ 0  5 10 15 20 25]\n",
            " [50 55 60 65 70 75]]\n",
            "[[ 0  2  4  6  8 10]\n",
            " [20 22 24 26 28 30]]\n",
            "[[10 12 14 16 18 20]\n",
            " [20 22 24 26 28 30]]\n"
          ]
        }
      ]
    },
    {
      "cell_type": "markdown",
      "source": [
        "##Numpy Statistics\n",
        "### - Use Numpy Functions"
      ],
      "metadata": {
        "id": "jP6eB4UcKOds"
      }
    },
    {
      "cell_type": "code",
      "source": [
        "# Import Numpy\n",
        "import numpy as np\n",
        "\n",
        "# Create 2d np array\n",
        "x = np.array ([[1.73, 1.68, 1.71, 1.89, 1.79], [65.4, 59.2, 63.6, 88.4, 68.7]]) \n",
        "\n",
        "# Array shape\n",
        "print (x.shape) \n",
        "\n",
        "# Mean / Average of 1st row, all columns\n",
        "print (np.mean (x [0, :])) \n",
        "\n",
        "# Median of 2nd row, all columns\n",
        "print (np.median(x [1, :])) \n",
        "\n",
        "# Standard Deviation on All Rows, 1st colummn\n",
        "print (np.std (x [:, 0])) \n",
        "\n",
        "# Correlation between 1st and 2nd rows, All columns\n",
        "print (np.corrcoef (x [0, :], x [1:, :]))"
      ],
      "metadata": {
        "id": "qjbIJldkKRMC",
        "outputId": "a0375a13-74e7-42d4-d4fd-466fc5145e9a",
        "colab": {
          "base_uri": "https://localhost:8080/"
        }
      },
      "execution_count": null,
      "outputs": [
        {
          "output_type": "stream",
          "name": "stdout",
          "text": [
            "(2, 5)\n",
            "1.7600000000000002\n",
            "65.4\n",
            "31.835000000000004\n",
            "[[1.         0.97514969]\n",
            " [0.97514969 1.        ]]\n"
          ]
        }
      ]
    },
    {
      "cell_type": "markdown",
      "source": [
        "## Numpy Advanced Statistics"
      ],
      "metadata": {
        "id": "ug6HFeSrnZj6"
      }
    },
    {
      "cell_type": "code",
      "source": [
        "# Create numpy array positions\n",
        "np_positions = np.array (['GK', 'MA', 'DA', 'GK', 'MA', 'DA'])\n",
        "\n",
        "# Create numpy array heights\n",
        "np_heights = np.array ([17, 16, 18, 19, 14, 12])\n",
        "\n",
        "# Extract heights GK players by passing Boolean argument for positions index to heights \n",
        "np_GK = np.array (np_heights [np_positions =='GK'])\n",
        "\n",
        "# Extract heights other players by passing Boolean argument for positions index to heights \n",
        "np_nonGK = np.array (np_heights [np_positions !='GK'])\n",
        "\n",
        "# Print median heights of GK and non GK\n",
        "print (np.median (np_GK), np.median (np_nonGK))"
      ],
      "metadata": {
        "colab": {
          "base_uri": "https://localhost:8080/"
        },
        "id": "pi2fpDBPnfIk",
        "outputId": "de12d072-3e31-4350-b524-722f689631eb"
      },
      "execution_count": null,
      "outputs": [
        {
          "output_type": "stream",
          "name": "stdout",
          "text": [
            "18.0 15.0\n"
          ]
        }
      ]
    },
    {
      "cell_type": "markdown",
      "source": [
        "#**Matplotlib**\n",
        "### - Use pyplot from matplotlib library"
      ],
      "metadata": {
        "id": "GX1P36pKrVFt"
      }
    },
    {
      "cell_type": "markdown",
      "source": [
        "##Line Plot"
      ],
      "metadata": {
        "id": "AHetUM2uulbC"
      }
    },
    {
      "cell_type": "code",
      "source": [
        "# Import pyplot from matplotlib package \n",
        "import matplotlib.pyplot as plt\n",
        "\n",
        "# Creat world population lists for graph\n",
        "year = [1950, 1960, 1970, 1980, 1990, 2000, 2010, 2020]\n",
        "pop = [1.5, 1.8, 2.0, 2.3, 2.7, 3.2, 3.4, 3.9]\n",
        "\n",
        "# Create line plot with year on x -axis and pop on y-axis\n",
        "plt.plot (year, pop)"
      ],
      "metadata": {
        "colab": {
          "base_uri": "https://localhost:8080/",
          "height": 285
        },
        "id": "sR8bkdIZtRJq",
        "outputId": "346d3574-69ff-4ce2-e76d-9a6251f0695b"
      },
      "execution_count": null,
      "outputs": [
        {
          "output_type": "execute_result",
          "data": {
            "text/plain": [
              "[<matplotlib.lines.Line2D at 0x7f47eb2bfe10>]"
            ]
          },
          "metadata": {},
          "execution_count": 42
        },
        {
          "output_type": "display_data",
          "data": {
            "text/plain": [
              "<Figure size 432x288 with 1 Axes>"
            ],
            "image/png": "[encoded data removed]"
          },
          "metadata": {
            "needs_background": "light"
          }
        }
      ]
    },
    {
      "cell_type": "markdown",
      "source": [
        "##Scatter Plot"
      ],
      "metadata": {
        "id": "g4N0vpdYurnh"
      }
    },
    {
      "cell_type": "code",
      "source": [
        "# Create scatter plot with year on x -axis and pop on y-axis\n",
        "plt.scatter (year, pop)"
      ],
      "metadata": {
        "colab": {
          "base_uri": "https://localhost:8080/",
          "height": 285
        },
        "id": "BZmeGgq0uuSk",
        "outputId": "673b0ff6-02b5-41f7-8674-654e90204a98"
      },
      "execution_count": null,
      "outputs": [
        {
          "output_type": "execute_result",
          "data": {
            "text/plain": [
              "<matplotlib.collections.PathCollection at 0x7f47eac4c190>"
            ]
          },
          "metadata": {},
          "execution_count": 44
        },
        {
          "output_type": "display_data",
          "data": {
            "text/plain": [
              "<Figure size 432x288 with 1 Axes>"
            ],
            "image/png": "[encoded data removed]"
          },
          "metadata": {
            "needs_background": "light"
          }
        }
      ]
    },
    {
      "cell_type": "markdown",
      "source": [
        "##Histogram\n",
        "### - Distribution over single value\n",
        "### - Default bin size is 10"
      ],
      "metadata": {
        "id": "gqltR5HMvU-e"
      }
    },
    {
      "cell_type": "code",
      "source": [
        "# Create list of life expectancy for 10 countries4\n",
        "life = [80, 75, 82, 69, 96, 79, 80, 75, 96, 100]\n",
        "\n",
        "# Create histogram of the life expectancy to find the distribution\n",
        "plt.hist (life)"
      ],
      "metadata": {
        "colab": {
          "base_uri": "https://localhost:8080/",
          "height": 334
        },
        "id": "njWl1wanvd1H",
        "outputId": "c432efd9-66d5-483e-8bc9-7542db11ed82"
      },
      "execution_count": null,
      "outputs": [
        {
          "output_type": "execute_result",
          "data": {
            "text/plain": [
              "(array([1., 2., 0., 3., 1., 0., 0., 0., 2., 1.]),\n",
              " array([ 69. ,  72.1,  75.2,  78.3,  81.4,  84.5,  87.6,  90.7,  93.8,\n",
              "         96.9, 100. ]),\n",
              " <a list of 10 Patch objects>)"
            ]
          },
          "metadata": {},
          "execution_count": 47
        },
        {
          "output_type": "display_data",
          "data": {
            "text/plain": [
              "<Figure size 432x288 with 1 Axes>"
            ],
            "image/png": "[encoded data removed]"
          },
          "metadata": {
            "needs_background": "light"
          }
        }
      ]
    },
    {
      "cell_type": "code",
      "source": [
        "# Create histogram of the life expectancy to find the distribution, bin size = 5\n",
        "plt.hist (life, bins = 5)"
      ],
      "metadata": {
        "colab": {
          "base_uri": "https://localhost:8080/",
          "height": 317
        },
        "id": "aTb23P4fv5nS",
        "outputId": "d29b5463-6a80-4d97-f6d1-5d19dc6617d9"
      },
      "execution_count": null,
      "outputs": [
        {
          "output_type": "execute_result",
          "data": {
            "text/plain": [
              "(array([3., 3., 1., 0., 3.]),\n",
              " array([ 69. ,  75.2,  81.4,  87.6,  93.8, 100. ]),\n",
              " <a list of 5 Patch objects>)"
            ]
          },
          "metadata": {},
          "execution_count": 48
        },
        {
          "output_type": "display_data",
          "data": {
            "text/plain": [
              "<Figure size 432x288 with 1 Axes>"
            ],
            "image/png": "[encoded data removed]"
          },
          "metadata": {
            "needs_background": "light"
          }
        }
      ]
    },
    {
      "cell_type": "markdown",
      "source": [
        "##Customise Plots 1\n",
        "### - Label x-axis\n",
        "### - Label y-axis\n",
        "### - Label plot title\n",
        "### - Make an axis logarithmic\n",
        "### - Tick Values\n",
        "### - Sizes\n",
        "### - Colors b (blue), g (green), r (red), c (cyan), m (magenta), y (yellow), k (black), w (white)\n",
        "### - Call texts at x-axis and y-axis intersections\n",
        "### - Grid"
      ],
      "metadata": {
        "id": "2-MZQhFfwcqu"
      }
    },
    {
      "cell_type": "code",
      "source": [
        "# Import pyplot from matplotlib package \n",
        "import matplotlib.pyplot as plt\n",
        "\n",
        "# Create world population lists for graph\n",
        "year = [1950, 1960, 1970, 1980, 1990, 2000, 2010, 2020]\n",
        "pop = [1.5, 1.8, 2.0, 2.3, 2.7, 3.2, 3.4, 3.9]\n",
        "\n",
        "# Label x-axis with xlabel\n",
        "plt.xlabel ('Population in Billions')\n",
        "\n",
        "# Label y-axis with ylabel\n",
        "plt.ylabel ('Year')\n",
        "\n",
        "# Label plot name with title\n",
        "plt.title ('World Development')\n",
        "\n",
        "# Make y-axis logarithmic scale with yscale('log')\n",
        "plt.yscale ('log')\n",
        "\n",
        "# Create tick value lists\n",
        "tick_val = [1, 2, 3, 4]\n",
        "tick_lab = ['1k', '2k', '3k', '4k']\n",
        "\n",
        "# Adapt the ticks on the y-axis with yticks\n",
        "plt.yticks (tick_val, tick_lab)\n",
        "\n",
        "# Store pop as a numpy array: np_size and multipy as necessary for sizes of points\n",
        "np_size = np.array(pop)\n",
        "np_size = np_size * 20\n",
        "\n",
        "# Store colours in np array np_col\n",
        "np_col = np.array (['b', 'g', 'r', 'c', 'm', 'y', 'k', 'b'])\n",
        "\n",
        "# Call texts at plot intersections\n",
        "plt.text(1970, 2.0, 'Iron Man')\n",
        "plt.text(2010, 3.4, 'Thor')\n",
        "\n",
        "# Add grid() call\n",
        "plt.grid(True)\n",
        "\n",
        "# Update: Set s (size) argument to np_pop and c (colour) argument to np_col, also set aplha to 0.8\n",
        "plt.scatter (year, pop, s = np_size, c = np_col, alpha = 0.8)"
      ],
      "metadata": {
        "colab": {
          "base_uri": "https://localhost:8080/",
          "height": 312
        },
        "id": "nhIQRveewhkb",
        "outputId": "6536723d-9e5e-4a6f-a2de-586875cf3a18"
      },
      "execution_count": null,
      "outputs": [
        {
          "output_type": "execute_result",
          "data": {
            "text/plain": [
              "<matplotlib.collections.PathCollection at 0x7f3d6ce8e210>"
            ]
          },
          "metadata": {},
          "execution_count": 10
        },
        {
          "output_type": "display_data",
          "data": {
            "text/plain": [
              "<Figure size 432x288 with 1 Axes>"
            ],
            "image/png": "[encoded data removed]"
          },
          "metadata": {
            "needs_background": "light"
          }
        }
      ]
    },
    {
      "cell_type": "markdown",
      "source": [
        "#**Dictionaries**\n",
        "### - Create with curly brackets { }\n",
        "### - Has key - value pairs seperated with Colon:\n",
        "### - Syntax {key1 : value1, key2 : value2}\n",
        "### - Keys have to be unique - using same key again will retain last value\n",
        "### - Pass key [ ] to square brackets and get corresponding value \n",
        "### - **Extend dictionary syntax : dictionary [ new key ] = new value**\n",
        "### - **Update existing key value SAME SYNTAX : dictionary [ existing key ] = new value**\n",
        "### - **Python knows to create keys or update new values as using unique keys only**\n",
        "###  \n",
        "### - List and Dictionary - Select, update and remove with [ ]\n",
        "### - List indexed by range of numbers\n",
        "### - Dictionaries indexed with unique immutabele keys\n",
        "### - Use lists for collection of values, order matters, for selecting subsets\n",
        "### - Lookup table with unique keys\n",
        "\n",
        "\n",
        "\n"
      ],
      "metadata": {
        "id": "UJytuLsQMFD8"
      }
    },
    {
      "cell_type": "code",
      "source": [
        "# Create dictionary europe\n",
        "europe = {'spain':'madrid', 'france':'paris', 'germany':'berlin', 'norway':'oslo'}\n",
        "\n",
        "# Print europe\n",
        "print (europe)\n",
        "\n",
        "# Print out the keys in europe\n",
        "print (europe.keys ())\n",
        "\n",
        "# Print out the values in europe\n",
        "print (europe.values ())\n",
        "\n",
        "# Print out value that belongs to key 'norway'\n",
        "print (europe ['norway'])\n",
        "\n",
        "# Extend dictionary europe with Sri Lanka and Colombo\n",
        "europe ['Sri Lanka'] = 'Colombo'\n",
        "\n",
        "# Print extended dictionary\n",
        "print (europe)\n",
        "\n",
        "# Update Value Sri Lanka's capital to Kandy\n",
        "europe ['Sri Lanka'] = 'Kandy'\n",
        "\n",
        "# Print out updated dictionary\n",
        "print (europe)\n",
        "\n",
        "# Print boolen to check key in disctionary\n",
        "print ('spain' in europe)\n",
        "\n",
        "# Remove key value pair Sri Lanka : Kandy\n",
        "del europe ['Sri Lanka']\n",
        "print (europe)\n"
      ],
      "metadata": {
        "id": "qCRuMuBGMmFI",
        "outputId": "535e5aba-d906-45f5-ad3f-f5b16246910c",
        "colab": {
          "base_uri": "https://localhost:8080/"
        }
      },
      "execution_count": null,
      "outputs": [
        {
          "output_type": "stream",
          "name": "stdout",
          "text": [
            "{'spain': 'madrid', 'france': 'paris', 'germany': 'berlin', 'norway': 'oslo'}\n",
            "dict_keys(['spain', 'france', 'germany', 'norway'])\n",
            "dict_values(['madrid', 'paris', 'berlin', 'oslo'])\n",
            "oslo\n",
            "{'spain': 'madrid', 'france': 'paris', 'germany': 'berlin', 'norway': 'oslo', 'Sri Lanka': 'Colombo'}\n",
            "{'spain': 'madrid', 'france': 'paris', 'germany': 'berlin', 'norway': 'oslo', 'Sri Lanka': 'Kandy'}\n",
            "True\n",
            "{'spain': 'madrid', 'france': 'paris', 'germany': 'berlin', 'norway': 'oslo'}\n"
          ]
        }
      ]
    },
    {
      "cell_type": "markdown",
      "source": [
        "##Dictionary of Dictionaries\n",
        "### - Values can be dictionaries or oter lists \n",
        "### - Dictionaries can be contained in lists or np arrays\n",
        "### - Select sub-dictionary values with [ ]  [ ] \n",
        "### - Can craete manually or with pre-defined lists"
      ],
      "metadata": {
        "id": "SgsN8sqQpPmy"
      }
    },
    {
      "cell_type": "code",
      "source": [
        "# Create dictionary of dictionaries\n",
        "europe = { 'spain': { 'capital':'madrid', 'population':46.77 },\n",
        "           'france': { 'capital':'paris', 'population':66.03 },\n",
        "           'germany': { 'capital':'berlin', 'population':80.62 },\n",
        "           'norway': { 'capital':'oslo', 'population':5.084 } }\n",
        "\n",
        "\n",
        "# Print out details for spain\n",
        "print (europe ['spain'])\n",
        "\n",
        "# Print out the capital of France\n",
        "print(europe['france']['capital'])\n",
        "\n",
        "# Add sub-dictionary data for italy, capital rome and population 59.83 under key 'italy' # Cleaner Code\n",
        "europe['italy'] = {'capital':'rome', 'population':59.83}\n",
        "\n",
        "# Print updated dictionary europe\n",
        "print(europe)\n",
        "\n",
        "\n",
        "\n",
        "# Pre-defined lists\n",
        "names = ['United States', 'Australia', 'Japan', 'India', 'Russia', 'Morocco', 'Egypt']\n",
        "dr =  [True, False, False, False, True, True, True]\n",
        "cpc = [809, 731, 588, 18, 200, 70, 45]\n",
        "\n",
        "# Create dictionary my_dict with three key:value pairs: my_dict\n",
        "my_dict={'country':names, 'drives_right':dr,'cars_per_cap': cpc}\n",
        "\n",
        "# Print dictionary\n",
        "print (my_dict)"
      ],
      "metadata": {
        "id": "KZ5HwCpTM-y7",
        "outputId": "cd47703c-5f58-48ff-fc55-4721db33d63c",
        "colab": {
          "base_uri": "https://localhost:8080/"
        }
      },
      "execution_count": null,
      "outputs": [
        {
          "output_type": "stream",
          "name": "stdout",
          "text": [
            "{'capital': 'madrid', 'population': 46.77}\n",
            "paris\n",
            "{'spain': {'capital': 'madrid', 'population': 46.77}, 'france': {'capital': 'paris', 'population': 66.03}, 'germany': {'capital': 'berlin', 'population': 80.62}, 'norway': {'capital': 'oslo', 'population': 5.084}, 'italy': {'capital': 'rome', 'population': 59.83}}\n",
            "{'country': ['United States', 'Australia', 'Japan', 'India', 'Russia', 'Morocco', 'Egypt'], 'drives_right': [True, False, False, False, True, True, True], 'cars_per_cap': [809, 731, 588, 18, 200, 70, 45]}\n"
          ]
        }
      ]
    },
    {
      "cell_type": "markdown",
      "source": [
        "#**Pandas**\n",
        "### - Use pandas package\n",
        "### - Rectangular / Tabular / Table data is stored in a **Dataframe**\n",
        "### - Row = Observations with unique labels\n",
        "### - Columns = Each Row has same observations in Columns of different data types with unique labels\n",
        "\n"
      ],
      "metadata": {
        "id": "p1SBPpDbtXh9"
      }
    },
    {
      "cell_type": "markdown",
      "source": [
        "##Create DataFrame manually\n",
        "### Use predefined lists and dictionaries"
      ],
      "metadata": {
        "id": "ueUf8F5mwbVk"
      }
    },
    {
      "cell_type": "code",
      "source": [
        "# Pre-defined lists\n",
        "names = ['United States', 'Australia', 'Japan', 'India', 'Russia', 'Morocco', 'Egypt']\n",
        "dr =  [True, False, False, False, True, True, True]\n",
        "cpc = [809, 731, 588, 18, 200, 70, 45]\n",
        "\n",
        "# Import pandas as pd\n",
        "import pandas as pd\n",
        "\n",
        "# Create dictionary my_dict with three key:value pairs: my_dict\n",
        "my_dict={'country':names, 'drives_right':dr,'cars_per_cap': cpc}\n",
        "\n",
        "# Build a DataFrame cars from my_dict: cars\n",
        "cars=pd.DataFrame(my_dict)\n",
        "\n",
        "# Print cars\n",
        "print(cars)\n",
        "\n",
        "# Define Row labels\n",
        "row_labels = row_labels = ['US', 'AUS', 'JPN', 'IN', 'RU', 'MOR', 'EG']\n",
        "\n",
        "# Specify row labels of cars\n",
        "cars.index=row_labels\n",
        "\n",
        "# Print cars again\n",
        "print(cars)\n"
      ],
      "metadata": {
        "id": "XpOmBtUOwh60",
        "outputId": "b56c8f7c-f510-4f0a-88c8-2637f68196cf",
        "colab": {
          "base_uri": "https://localhost:8080/"
        }
      },
      "execution_count": null,
      "outputs": [
        {
          "output_type": "stream",
          "name": "stdout",
          "text": [
            "         country  drives_right  cars_per_cap\n",
            "0  United States          True           809\n",
            "1      Australia         False           731\n",
            "2          Japan         False           588\n",
            "3          India         False            18\n",
            "4         Russia          True           200\n",
            "5        Morocco          True            70\n",
            "6          Egypt          True            45\n",
            "           country  drives_right  cars_per_cap\n",
            "US   United States          True           809\n",
            "AUS      Australia         False           731\n",
            "JPN          Japan         False           588\n",
            "IN           India         False            18\n",
            "RU          Russia          True           200\n",
            "MOR        Morocco          True            70\n",
            "EG           Egypt          True            45\n"
          ]
        }
      ]
    },
    {
      "cell_type": "markdown",
      "source": [
        "##Create DataFrame from CSV file\n",
        "### - Use pd.read_csv(csv-file)\n",
        "### - **index_col is argument of read_csv( ) to specify column in CSV file to be used as row label** "
      ],
      "metadata": {
        "id": "nSqO8g6JyaM1"
      }
    },
    {
      "cell_type": "code",
      "source": [
        "# Import pandas as pd\n",
        "import pandas as pd\n",
        "\n",
        "# Import cars.csv from GitHub url\n",
        "url = 'https://raw.githubusercontent.com/nirmalaraj77/Python/main/cars.csv'\n",
        "\n",
        "# Import the cars.csv data: cars\n",
        "cars = pd.DataFrame(pd.read_csv(url))\n",
        "\n",
        "# Print out cars\n",
        "print(cars)\n",
        "\n",
        "# Fix import by including index_col\n",
        "cars = pd.DataFrame(pd.read_csv(url, index_col=0))\n",
        "\n",
        "# Print out cars again with correct row labels\n",
        "print (cars)"
      ],
      "metadata": {
        "id": "L3kMkif2yjSL",
        "outputId": "9fcf2f53-0f48-424f-aaa6-8bbf9ae866fc",
        "colab": {
          "base_uri": "https://localhost:8080/"
        }
      },
      "execution_count": null,
      "outputs": [
        {
          "output_type": "stream",
          "name": "stdout",
          "text": [
            "  Unnamed: 0  cars_per_cap        country  drives_right\n",
            "0         US           809  United States          True\n",
            "1        AUS           731      Australia         False\n",
            "2        JAP           588          Japan         False\n",
            "3         IN            18          India         False\n",
            "4         RU           200         Russia          True\n",
            "5        MOR            70        Morocco          True\n",
            "6         EG            45          Egypt          True\n",
            "     cars_per_cap        country  drives_right\n",
            "US            809  United States          True\n",
            "AUS           731      Australia         False\n",
            "JAP           588          Japan         False\n",
            "IN             18          India         False\n",
            "RU            200         Russia          True\n",
            "MOR            70        Morocco          True\n",
            "EG             45          Egypt          True\n"
          ]
        }
      ]
    },
    {
      "cell_type": "markdown",
      "source": [
        "##Index and select data from DataFrames with square brackets [ ] \n",
        "### - Single square brackets returns dtype Pandas Series\n",
        "### - Double square brckets returns dtype dataFrame\n",
        "### - Column Access using labels\n",
        "### - Row access only through slicing [ : ] \n",
        "\n",
        "\n"
      ],
      "metadata": {
        "id": "L4y-Srul1mVE"
      }
    },
    {
      "cell_type": "code",
      "source": [
        "# Import pandas as pd\n",
        "import pandas as pd\n",
        "\n",
        "# Import brics.csv from GitHub url\n",
        "url = 'https://raw.githubusercontent.com/nirmalaraj77/Python/main/brics.csv'\n",
        "\n",
        "# Import the brics.csv data: brics and label by including index_col\n",
        "brics = pd.DataFrame (pd.read_csv(url, index_col = 0))\n",
        "\n",
        "# Access column 'country' and print out with row labels: Result is a Pandas Series \n",
        "print (brics ['country'])\n",
        "print (type (brics ['country']))\n",
        "\n",
        "# Access column 'country' with double square brackets and keep result in a DataFrame\n",
        "print (brics [['country']])\n",
        "print (type (brics [['country']]))\n",
        "\n",
        "# Extend call to access 2 columns with double square brackets and keep results in a DataFrame\n",
        "print (brics [['country', 'capital']])\n",
        "print (type (brics [['country', 'capital']]))\n",
        "\n",
        "# Access rows 1 - 4 from brics.csv \n",
        "print (brics [: 4])\n",
        "print (type(brics [: 4]))"
      ],
      "metadata": {
        "id": "AvxhG4p_1vkr",
        "outputId": "ec703da1-92ad-49e0-9646-528dd64a599e",
        "colab": {
          "base_uri": "https://localhost:8080/"
        }
      },
      "execution_count": null,
      "outputs": [
        {
          "output_type": "stream",
          "name": "stdout",
          "text": [
            "BR          Brazil\n",
            "RU          Russia\n",
            "IN           India\n",
            "CH           China\n",
            "SA    South Africa\n",
            "Name: country, dtype: object\n",
            "<class 'pandas.core.series.Series'>\n",
            "         country\n",
            "BR        Brazil\n",
            "RU        Russia\n",
            "IN         India\n",
            "CH         China\n",
            "SA  South Africa\n",
            "<class 'pandas.core.frame.DataFrame'>\n",
            "         country    capital\n",
            "BR        Brazil   Brasilia\n",
            "RU        Russia     Moscow\n",
            "IN         India  New Delhi\n",
            "CH         China    Beijing\n",
            "SA  South Africa   Pretoria\n",
            "<class 'pandas.core.frame.DataFrame'>\n",
            "   country    capital    area  population\n",
            "BR  Brazil   Brasilia   8.516       200.4\n",
            "RU  Russia     Moscow  17.100       143.5\n",
            "IN   India  New Delhi   3.286      1252.0\n",
            "CH   China    Beijing   9.597      1357.0\n",
            "<class 'pandas.core.frame.DataFrame'>\n"
          ]
        }
      ]
    },
    {
      "cell_type": "markdown",
      "source": [
        "##Index and select data from DataFrames with loc \n",
        "### - Single square brackets [ ] returns dtype Pandas Series on different lines\n",
        "### - Double square brckets [ [ ] ]  returns dtype dataFrameon tabular format\n",
        "### - **loc (label - based)**\n",
        "### - Row access \n",
        "### - Column acess\n",
        "### - Row and Column access - Use colon : for all rows"
      ],
      "metadata": {
        "id": "vAHDqtSr6wAb"
      }
    },
    {
      "cell_type": "code",
      "source": [
        "# Access row for RU with loc single brackets : Result is a Pandas Series\n",
        "print (brics.loc ['RU'])\n",
        "print(type (brics.loc ['RU']))\n",
        "\n",
        "# Access row for RU with loc double brackets : Result is a DataFrame\n",
        "print (brics.loc [['RU']])\n",
        "print(type (brics.loc [['RU']]))\n",
        "\n",
        "# Access multiple rows with loc double brackets : Result is a DataFrame\n",
        "print (brics.loc [['RU', 'IN', 'CH']])\n",
        "\n",
        "# Access multiple rows and colums with loc double brackets : Result is a DataFrame\n",
        "print (brics.loc [['RU', 'IN', 'CH'], ['country', 'capital']])\n",
        "\n",
        "# Access all rows with colon : and multiple colums with loc double brackets : Result is a DataFrame\n",
        "print (brics.loc [:, ['country', 'capital']])"
      ],
      "metadata": {
        "id": "ULrgHo6_7Q8r",
        "outputId": "6f73a1c8-d48a-42ba-8c59-d0559bc79de3",
        "colab": {
          "base_uri": "https://localhost:8080/"
        }
      },
      "execution_count": null,
      "outputs": [
        {
          "output_type": "stream",
          "name": "stdout",
          "text": [
            "country       Russia\n",
            "capital       Moscow\n",
            "area            17.1\n",
            "population     143.5\n",
            "Name: RU, dtype: object\n",
            "<class 'pandas.core.series.Series'>\n",
            "   country capital  area  population\n",
            "RU  Russia  Moscow  17.1       143.5\n",
            "<class 'pandas.core.frame.DataFrame'>\n",
            "   country    capital    area  population\n",
            "RU  Russia     Moscow  17.100       143.5\n",
            "IN   India  New Delhi   3.286      1252.0\n",
            "CH   China    Beijing   9.597      1357.0\n",
            "   country    capital\n",
            "RU  Russia     Moscow\n",
            "IN   India  New Delhi\n",
            "CH   China    Beijing\n",
            "         country    capital\n",
            "BR        Brazil   Brasilia\n",
            "RU        Russia     Moscow\n",
            "IN         India  New Delhi\n",
            "CH         China    Beijing\n",
            "SA  South Africa   Pretoria\n"
          ]
        }
      ]
    },
    {
      "cell_type": "markdown",
      "source": [
        "##Index and select data from DataFrames with iloc \n",
        "### - Single square brackets [ ] returns dtype Pandas Series on different lines\n",
        "### - Double square brckets [ [ ] ]  returns dtype dataFrameon tabular format\n",
        "### - **loc (index - based)**\n",
        "### - Row access \n",
        "### - Column acess\n",
        "### - Row and Column access - Use colon : for all rows"
      ],
      "metadata": {
        "id": "pwrTZk63HKoY"
      }
    },
    {
      "cell_type": "code",
      "source": [
        "# Access row for RU with loc with labels in double brackets : Result is a DataFrame\n",
        "print (brics.loc [['RU']])\n",
        "\n",
        "# Access row for RU with iloc with index in double brackets : Result is a DataFrame\n",
        "print (brics.iloc [[1]])\n",
        "\n",
        "# Access multiple rows and colums with iloc with indexes for rows and columns in double brackets : Result is a DataFrame\n",
        "print (brics.iloc [[0, 1, 2], [0, 1]])\n",
        "\n",
        "# Access all rows with colon : and multiple colums with iloc double brackets : Result is a DataFrame\n",
        "print (brics.iloc [:, [0, 1]])"
      ],
      "metadata": {
        "id": "vjlmXuTHZYOw",
        "outputId": "5a22dea7-4e70-41e9-db61-bf2b7e41fc48",
        "colab": {
          "base_uri": "https://localhost:8080/"
        }
      },
      "execution_count": null,
      "outputs": [
        {
          "output_type": "stream",
          "name": "stdout",
          "text": [
            "   country capital  area  population\n",
            "RU  Russia  Moscow  17.1       143.5\n",
            "   country capital  area  population\n",
            "RU  Russia  Moscow  17.1       143.5\n",
            "   country    capital\n",
            "BR  Brazil   Brasilia\n",
            "RU  Russia     Moscow\n",
            "IN   India  New Delhi\n",
            "         country    capital\n",
            "BR        Brazil   Brasilia\n",
            "RU        Russia     Moscow\n",
            "IN         India  New Delhi\n",
            "CH         China    Beijing\n",
            "SA  South Africa   Pretoria\n"
          ]
        }
      ]
    },
    {
      "cell_type": "markdown",
      "source": [
        "#**Logical Operators**\n",
        "### - Boolean is either 1 or 0, True or False\n",
        "### - Comparision Operators : - >, >=, <, <=, ==, !=\n",
        "<br>\n",
        "\n",
        "##**Boolean Operators**\n",
        "<br>\n",
        "\n",
        "### - **AND**\n",
        "### - True and True = True, True and False = False, False and True = False, False and False = False          \n",
        "<br>\n",
        "\n",
        "### - **OR**\n",
        "### - True or True = True, False or True = True, True or False = True, False or False = False\n",
        "<br>\n",
        "\n",
        "### - **NOT** \n",
        "### - Negates boolean value\n",
        "### - Has higher priority than AND and OR, it is executed first\n",
        "### - Not True = False, Not False =  True\n",
        "<br>\n",
        "\n",
        "##**Boolean Operators do not work with numpy arrays**\n",
        "### - Numpy equivalent: \n",
        "### - logical_and( )\n",
        "### - logical_or( )\n",
        "### - logical_not ( )  \n"
      ],
      "metadata": {
        "id": "lbyK0ahOc7fD"
      }
    },
    {
      "cell_type": "code",
      "source": [
        "# AND\n",
        "print (True and True)\n",
        "print (True and False)\n",
        "print (False and True)\n",
        "print (False and False)"
      ],
      "metadata": {
        "id": "gfIs7nRfDAgA",
        "outputId": "5eb2b97a-b78a-4061-ad78-4fed94a23d05",
        "colab": {
          "base_uri": "https://localhost:8080/"
        }
      },
      "execution_count": null,
      "outputs": [
        {
          "output_type": "stream",
          "name": "stdout",
          "text": [
            "True\n",
            "False\n",
            "False\n",
            "False\n"
          ]
        }
      ]
    },
    {
      "cell_type": "code",
      "source": [
        "# OR\n",
        "print (True or True)\n",
        "print (True or False)\n",
        "print (False or True)\n",
        "print (False or False)"
      ],
      "metadata": {
        "id": "TUL2-I2KDQXc",
        "outputId": "4b1e6dab-517d-4923-d824-96fc930a1c94",
        "colab": {
          "base_uri": "https://localhost:8080/"
        }
      },
      "execution_count": null,
      "outputs": [
        {
          "output_type": "stream",
          "name": "stdout",
          "text": [
            "True\n",
            "True\n",
            "True\n",
            "False\n"
          ]
        }
      ]
    },
    {
      "cell_type": "code",
      "source": [
        "# NOT (flips boolean)\n",
        "print (not True) \n",
        "print (not False)\n",
        "\n",
        "print ((not True) == True) \n",
        "print ((not False) == True) \n"
      ],
      "metadata": {
        "id": "2g5iCLSiDjpR",
        "outputId": "3d07c1e2-9766-4805-c267-a6209c394253",
        "colab": {
          "base_uri": "https://localhost:8080/"
        }
      },
      "execution_count": null,
      "outputs": [
        {
          "output_type": "stream",
          "name": "stdout",
          "text": [
            "False\n",
            "True\n",
            "False\n",
            "True\n"
          ]
        }
      ]
    },
    {
      "cell_type": "code",
      "source": [
        "# Logical and Comparision Operators\n",
        "x = 12\n",
        "print (x > 3 and x < 15)\n",
        "\n",
        "y = 5 \n",
        "print (y < 7 or y > 15)\n",
        "\n",
        "# Compare Arrays\n",
        "a_np = np.array ([1,3,5,7,9])\n",
        "b_np = np. array([9, 8, 7, 6, 5])\n",
        "print (a_np > b_np)\n",
        "print (a_np != b_np)"
      ],
      "metadata": {
        "id": "WcR5QBG_fYaV",
        "outputId": "6119aa8c-becb-491b-d3a3-2b8be7ba66dc",
        "colab": {
          "base_uri": "https://localhost:8080/"
        }
      },
      "execution_count": null,
      "outputs": [
        {
          "output_type": "stream",
          "name": "stdout",
          "text": [
            "True\n",
            "True\n",
            "[False False False  True  True]\n",
            "[ True  True  True  True  True]\n"
          ]
        }
      ]
    },
    {
      "cell_type": "code",
      "source": [
        "# Numpy Recap\n",
        "import numpy as np\n",
        "\n",
        "# Create np arrays for height and weight\n",
        "np_height = np.array ([1.73, 1.68, 1.71, 1.89, 1.79])\n",
        "np_weight = np.array ([65.4, 59.2, 63.6, 88.4, 68.7])\n",
        "\n",
        "# Create np array bmi from height and weight\n",
        "bmi = np_weight / np_height **2\n",
        "\n",
        "# Use bmi > 23 as index to bmi to get bmi values greater than 23\n",
        "print (bmi [bmi > 23])\n",
        "\n",
        "# Use np_logial_and operator result as index to bmi in square brackets to get bmi > 21 and bmi <23\n",
        "print (bmi [np.logical_and (bmi > 21, bmi < 23)]) "
      ],
      "metadata": {
        "id": "2wafggDubgXS",
        "outputId": "1a5dd89f-029c-4abb-91c0-80f53daf38d4",
        "colab": {
          "base_uri": "https://localhost:8080/"
        }
      },
      "execution_count": null,
      "outputs": [
        {
          "output_type": "stream",
          "name": "stdout",
          "text": [
            "[24.7473475]\n",
            "[21.85171573 21.75028214 21.44127836]\n"
          ]
        }
      ]
    },
    {
      "cell_type": "code",
      "source": [
        "# AND, OR\n",
        "\n",
        "# Define variables\n",
        "my_kitchen = 18.0\n",
        "your_kitchen = 14.0\n",
        "\n",
        "# my_kitchen bigger than 10 and smaller than 18? False\n",
        "print (my_kitchen > 10 and my_kitchen < 18)\n",
        "\n",
        "# my_kitchen smaller than 14 or bigger than 17? True\n",
        "print (my_kitchen <14 or my_kitchen >17)\n",
        "\n",
        "# Double my_kitchen smaller than triple your_kitchen? True\n",
        "print (my_kitchen * 2 < your_kitchen * 3)"
      ],
      "metadata": {
        "id": "aLGl14IO_E2Z",
        "outputId": "9e065c08-060c-4978-df07-11e00e23015a",
        "colab": {
          "base_uri": "https://localhost:8080/"
        }
      },
      "execution_count": null,
      "outputs": [
        {
          "output_type": "stream",
          "name": "stdout",
          "text": [
            "False\n",
            "True\n",
            "True\n"
          ]
        }
      ]
    },
    {
      "cell_type": "code",
      "source": [
        "# AND , OR, NOT\n",
        "\n",
        "# Define variables\n",
        "x = 8\n",
        "y = 9\n",
        "\n",
        "# x < 3 is False\n",
        "print (x < 3) \n",
        "\n",
        "# Not x < 3 is True\n",
        "print (not (x < 3))\n",
        "\n",
        "# y > 14 is False\n",
        "print ( y > 14)\n",
        "\n",
        "# y > 10 is False\n",
        "print (y > 10)\n",
        "\n",
        "# y > 14 or y > 10 is False\n",
        "print(y > 14 or y > 10)\n",
        "\n",
        "# Not (y > 14 or y > 10) is True\n",
        "print (not(y > 14 or y > 10))\n",
        "\n",
        "# Not x < 3 (True) and not (y > 14 or y > 10) (True) is True\n",
        "print (not(x < 3) and not(y > 14 or y > 10))\n",
        "\n",
        "# NOT (Not x < 3 (True) and not (y > 14 or y > 10) (True)) is False\n",
        "print (not (not (x < 3) and not(y > 14 or y > 10)))"
      ],
      "metadata": {
        "id": "24COGg9a_RAD",
        "outputId": "946b52c5-3cbe-46d8-c096-d49099c14d07",
        "colab": {
          "base_uri": "https://localhost:8080/"
        }
      },
      "execution_count": null,
      "outputs": [
        {
          "output_type": "stream",
          "name": "stdout",
          "text": [
            "False\n",
            "True\n",
            "False\n",
            "False\n",
            "False\n",
            "True\n",
            "True\n",
            "False\n"
          ]
        }
      ]
    },
    {
      "cell_type": "code",
      "source": [
        "#And\n",
        "\n",
        "print (True and False) # th x and y must be True. Result is False\n",
        "print ((x and y) == True) #x and y is False. False is not equal to True. Result is False\n",
        "print ((x and y) == False) #x and y is False. False is equal to False. Result is True"
      ],
      "metadata": {
        "id": "KmL5WfLb_7cR",
        "outputId": "2ffda607-a143-4937-86ff-1caa808d3618",
        "colab": {
          "base_uri": "https://localhost:8080/"
        }
      },
      "execution_count": null,
      "outputs": [
        {
          "output_type": "stream",
          "name": "stdout",
          "text": [
            "True\n",
            "False\n",
            "True\n"
          ]
        }
      ]
    },
    {
      "cell_type": "code",
      "source": [
        "# Boolean Operators with Numpy\n",
        "\n",
        "# Create arrays\n",
        "import numpy as np\n",
        "my_house = np.array([18.0, 20.0, 10.75, 9.50])\n",
        "your_house = np.array([14.0, 24.0, 14.25, 9.0])\n",
        "\n",
        "# my_house greater than 18.5 or smaller than 10\n",
        "print(np.logical_or(my_house>18.5, my_house<10))\n",
        "\n",
        "# Both my_house and your_house smaller than 11\n",
        "print(np.logical_and(my_house<11, your_house<11))"
      ],
      "metadata": {
        "id": "8wdPCq4DC2c1",
        "outputId": "e061dac2-0721-4e9a-eb6f-388d970170e9",
        "colab": {
          "base_uri": "https://localhost:8080/"
        }
      },
      "execution_count": null,
      "outputs": [
        {
          "output_type": "stream",
          "name": "stdout",
          "text": [
            "[False  True False  True]\n",
            "[False False False  True]\n"
          ]
        }
      ]
    },
    {
      "cell_type": "markdown",
      "source": [
        "#**Control Flow with Conditional Statements**\n",
        "### - If\n",
        "### - Elif\n",
        "### - Else\n",
        "### - Starts with 'If', tries 'Elif' and finishes with 'Else' until one evaluates to True\n"
      ],
      "metadata": {
        "id": "eeWUlYHUIcE3"
      }
    },
    {
      "cell_type": "code",
      "source": [
        "# Execute IF and finish with ELSE if IF does not hold\n",
        "\n",
        "# Input Value\n",
        "x = int (input ('Your value: '))\n",
        "\n",
        "# Check if input is even and print 'Even'\n",
        "if x % 2 == 0:\n",
        "  print (str(x), ' is even')\n",
        "\n",
        "# Anything else, print 'Odd'\n",
        "else:  \n",
        "  print (str(x), ' is odd')"
      ],
      "metadata": {
        "id": "135nE-tXJq-a",
        "outputId": "0ea8a2ed-f30e-45e2-85c4-58dee9b93cef",
        "colab": {
          "base_uri": "https://localhost:8080/"
        }
      },
      "execution_count": null,
      "outputs": [
        {
          "output_type": "stream",
          "name": "stdout",
          "text": [
            "Your value: 5\n",
            "5  is odd\n"
          ]
        }
      ]
    },
    {
      "cell_type": "code",
      "source": [
        "# Execute IF, execute ELIF if IF does not hold and execute ELSE if ELIF does not hold\n",
        "\n",
        "# Eg.: Check if int is divisible by 2 or 3 \n",
        "\n",
        "\n",
        "# Input Value\n",
        "x = int (input ('Your value: '))\n",
        "\n",
        "# Check if x divisible by 2 and print 'x is divisble by 2'\n",
        "if x % 2 ==0:\n",
        "  print (str (x), ' is divisible by 2')\n",
        "\n",
        "# Check if x divisible by 3 and print 'x is divisble by 3'\n",
        "elif x % 3 ==0:\n",
        "  print (str (x), ' is divisible by 3')\n",
        "\n",
        "# Anything else, print ' x is not diviable by 2 or 3'\n",
        "else:\n",
        "  print (str (x), ' is not divisible by 2 or 3')"
      ],
      "metadata": {
        "id": "2qldUhMzL9fN",
        "outputId": "faaa5537-b86a-415f-8107-371368e17be6",
        "colab": {
          "base_uri": "https://localhost:8080/"
        }
      },
      "execution_count": null,
      "outputs": [
        {
          "output_type": "stream",
          "name": "stdout",
          "text": [
            "Your value: 5\n",
            "5  is not divisible by 2 or 3\n"
          ]
        }
      ]
    },
    {
      "cell_type": "code",
      "source": [
        "# Input Value\n",
        "\n",
        "# Eg.: Check whether float is big if greater than 50, medium if 50  and small if less than 50\n",
        "x = float (input ('Your Value: ')) \n",
        "\n",
        "#Check if input greater than 50 and print 'Big'\n",
        "if x > 50.0: \n",
        "  print ('Big')\n",
        "\n",
        "#Else check if input is equal to 25 and print 'Medium'\n",
        "elif x == 50.0: \n",
        "  print ('Medium')\n",
        "\n",
        "#Anything else, print 'Small'\n",
        "else: \n",
        "  print ('Small')"
      ],
      "metadata": {
        "id": "l9F2YphjM8i8",
        "outputId": "684d6583-fa62-426a-aea9-03f83d3f15fd",
        "colab": {
          "base_uri": "https://localhost:8080/"
        }
      },
      "execution_count": null,
      "outputs": [
        {
          "output_type": "stream",
          "name": "stdout",
          "text": [
            "Your Value: 47.88888\n",
            "Small\n"
          ]
        }
      ]
    },
    {
      "cell_type": "code",
      "source": [
        "# Combine multiple control flows\n",
        "\n",
        "# Input room name and area in sq. mt.\n",
        "room = str (input ('Room name: '))\n",
        "area = float (input ('Room area (10 - 20 sq. mt).: '))\n",
        "\n",
        "# if-elif-else construct for room\n",
        "if room == \"kit\" :\n",
        "    print(\"looking around in the kitchen.\")\n",
        "elif room == 'bed':\n",
        "    print (\"looking around in the bedroom.\")\n",
        "else :\n",
        "    print(\"looking around elsewhere.\")\n",
        "\n",
        "\n",
        "# if-elif-else construct for area\n",
        "if area > 15 :\n",
        "  print(\"big place!\")\n",
        "elif area > 10 :\n",
        "  print (\"medium size, nice!\")\n",
        "else :\n",
        "    print('pretty small.')"
      ],
      "metadata": {
        "id": "Mm66d9jTPF1t",
        "outputId": "4979e935-2f87-4ec6-f8f2-3445034630a8",
        "colab": {
          "base_uri": "https://localhost:8080/"
        }
      },
      "execution_count": null,
      "outputs": [
        {
          "output_type": "stream",
          "name": "stdout",
          "text": [
            "Room name: bath\n",
            "Room area (10 - 20 sq. mt).: 100\n",
            "looking around elsewhere.\n",
            "big place!\n"
          ]
        }
      ]
    },
    {
      "cell_type": "markdown",
      "source": [
        "#**Filtering pandas DataFrames**"
      ],
      "metadata": {
        "id": "e-J_Qy6ZRXue"
      }
    },
    {
      "cell_type": "code",
      "source": [
        "# Import pandas as pd\n",
        "import pandas as pd\n",
        "\n",
        "# Import cars.csv from GitHub url\n",
        "url = 'https://raw.githubusercontent.com/nirmalaraj77/Python/main/cars.csv'\n",
        "\n",
        "# Import cars.csv and include correct index\n",
        "cars = pd.read_csv(url, index_col=0)\n",
        "\n",
        "# Extract drives_right column as Series: dr\n",
        "dr=cars['drives_right']\n",
        "print(dr)\n",
        "\n",
        "# Use dr to subset cars: sel\n",
        "sel=cars[dr]\n",
        "\n",
        "# Print sel\n",
        "print (sel)"
      ],
      "metadata": {
        "id": "zy0fulQXR0OD",
        "outputId": "15ff3a81-27fb-42a5-9f5c-11eeaa920cc6",
        "colab": {
          "base_uri": "https://localhost:8080/"
        }
      },
      "execution_count": null,
      "outputs": [
        {
          "output_type": "stream",
          "name": "stdout",
          "text": [
            "US      True\n",
            "AUS    False\n",
            "JAP    False\n",
            "IN     False\n",
            "RU      True\n",
            "MOR     True\n",
            "EG      True\n",
            "Name: drives_right, dtype: bool\n",
            "     cars_per_cap        country  drives_right\n",
            "US            809  United States          True\n",
            "RU            200         Russia          True\n",
            "MOR            70        Morocco          True\n",
            "EG             45          Egypt          True\n"
          ]
        }
      ]
    },
    {
      "cell_type": "code",
      "source": [
        "# Preparation\n",
        "import pandas as pd\n",
        "import numpy as np\n",
        "url = 'https://raw.githubusercontent.com/nirmalaraj77/Python/main/cars.csv'\n",
        "cars = pd.read_csv(url, index_col=0)\n",
        "\n",
        "# Combine above code to extract drives_right as sel\n",
        "sel=cars[cars['drives_right']]\n",
        "print (sel)\n",
        "\n",
        "\n",
        "# Create car_maniac: observations that have a cars_per_cap over 500\n",
        "car_maniac = cars [cars['cars_per_cap'] > 500]\n",
        "print(car_maniac)\n",
        "\n",
        "# Create medium: observations with cars_per_cap between 100 and 500\n",
        "medium = cars [np.logical_and (cars['cars_per_cap'] > 100, cars ['cars_per_cap'] < 500)]\n",
        "print (medium)\n",
        "\n",
        "\n"
      ],
      "metadata": {
        "id": "TMPQwz0W4SLr",
        "outputId": "d8424419-124f-46e5-eb1b-74fe11346ca3",
        "colab": {
          "base_uri": "https://localhost:8080/"
        }
      },
      "execution_count": null,
      "outputs": [
        {
          "output_type": "stream",
          "name": "stdout",
          "text": [
            "     cars_per_cap        country  drives_right\n",
            "US            809  United States          True\n",
            "RU            200         Russia          True\n",
            "MOR            70        Morocco          True\n",
            "EG             45          Egypt          True\n",
            "     cars_per_cap        country  drives_right\n",
            "US            809  United States          True\n",
            "AUS           731      Australia         False\n",
            "JAP           588          Japan         False\n",
            "    cars_per_cap country  drives_right\n",
            "RU           200  Russia          True\n"
          ]
        }
      ]
    },
    {
      "cell_type": "markdown",
      "source": [
        "#**While Loop**\n",
        "### - Continues to execute expression until condition is met\n",
        "\n"
      ],
      "metadata": {
        "id": "peUq0ZxbWWMm"
      }
    },
    {
      "cell_type": "code",
      "source": [
        "# error = 50, keep calculating error / 4 and print error until value is less than 1\n",
        "error = 50\n",
        "while error > 1 :\n",
        "    error = error / 4\n",
        "    print (error)"
      ],
      "metadata": {
        "colab": {
          "base_uri": "https://localhost:8080/"
        },
        "id": "U3_ktaO8YX1A",
        "outputId": "f8e3398d-b073-47de-d8ef-e3f138a79422"
      },
      "execution_count": null,
      "outputs": [
        {
          "output_type": "stream",
          "name": "stdout",
          "text": [
            "12.5\n",
            "3.125\n",
            "0.78125\n"
          ]
        }
      ]
    },
    {
      "cell_type": "code",
      "source": [
        "# Number = 0, print number and add 1 to number until number is less than 10\n",
        "# NOTE: PRINTS 0 - 9 AS WHILE LOOP PRINTS NUMBER AND THEN UPDATES\n",
        "number = 0\n",
        "while number < 10 :\n",
        "    print (number)\n",
        "    number = number + 1"
      ],
      "metadata": {
        "id": "nTHSq-g9fAJr",
        "outputId": "7e28b308-ecd4-4407-ab4c-7077f3a0d175",
        "colab": {
          "base_uri": "https://localhost:8080/"
        }
      },
      "execution_count": null,
      "outputs": [
        {
          "output_type": "stream",
          "name": "stdout",
          "text": [
            "0\n",
            "1\n",
            "2\n",
            "3\n",
            "4\n",
            "5\n",
            "6\n",
            "7\n",
            "8\n",
            "9\n"
          ]
        }
      ]
    },
    {
      "cell_type": "code",
      "source": [
        "# number = 0, add 1 to number and print until number is less than 10\n",
        "# NOTE: PRINTS 1 - 10 AS WHILE LOOP UPDATES NUMBER AND THEN PRINTS \n",
        "\n",
        "number = 0\n",
        "while number < 10 :\n",
        "      number = number + 1\n",
        "      print (number)"
      ],
      "metadata": {
        "id": "0sSrSVT5fOes",
        "outputId": "8022e312-1015-4931-c953-275bb5da664e",
        "colab": {
          "base_uri": "https://localhost:8080/"
        }
      },
      "execution_count": null,
      "outputs": [
        {
          "output_type": "stream",
          "name": "stdout",
          "text": [
            "1\n",
            "2\n",
            "3\n",
            "4\n",
            "5\n",
            "6\n",
            "7\n",
            "8\n",
            "9\n",
            "10\n"
          ]
        }
      ]
    },
    {
      "cell_type": "code",
      "source": [
        "# Initialize offset\n",
        "offset = 8      \n",
        "\n",
        "# Code the while loop, print 'correcting' and deduct offset by 1 unril offset is > 0, then print 'offset'\n",
        "while offset > 0 :\n",
        "    print(\"correcting...\")\n",
        "    offset = offset - 1         \n",
        "    print(offset)"
      ],
      "metadata": {
        "colab": {
          "base_uri": "https://localhost:8080/"
        },
        "id": "jjfoiBiMY6ps",
        "outputId": "9f6c1045-f198-4495-8332-cd25bf368545"
      },
      "execution_count": null,
      "outputs": [
        {
          "output_type": "stream",
          "name": "stdout",
          "text": [
            "correcting...\n",
            "7\n",
            "correcting...\n",
            "6\n",
            "correcting...\n",
            "5\n",
            "correcting...\n",
            "4\n",
            "correcting...\n",
            "3\n",
            "correcting...\n",
            "2\n",
            "correcting...\n",
            "1\n",
            "correcting...\n",
            "0\n"
          ]
        }
      ]
    },
    {
      "cell_type": "markdown",
      "source": [
        "##If-Elif-Else within While loop"
      ],
      "metadata": {
        "id": "idRsYlnnqjFn"
      }
    },
    {
      "cell_type": "code",
      "source": [
        "# Above while loop to correct offset will not work if offset starts with negative\n",
        "# # Set while loop to run while offset is not equal to 0\n",
        "# Inside while loop, construct if-elif-else statement to decrease offset by 1 if offset > 0\n",
        "# Increase offset by 1 if offset is < 0 \n",
        "\n",
        "# Initialize offset\n",
        "offset = - 8\n",
        "\n",
        "# Code while loop to print 'corrrecting' while offset is not 0\n",
        "while offset != 0 :\n",
        "    print(\"correcting...\")\n",
        "# Construct if statement to decrease offset by 1 if offset > 0\n",
        "    if offset > 0 :\n",
        "      offset = offset - 1 \n",
        "# Construct ellse statement to increase offset by 1 if offset < 0       \n",
        "    else : \n",
        "      offset = offset + 1    \n",
        "# Complete while loop to print offset value when it reaches 0\n",
        "    print(offset)"
      ],
      "metadata": {
        "colab": {
          "base_uri": "https://localhost:8080/"
        },
        "id": "TIOZ_PM7mzmz",
        "outputId": "e61eee9a-d2ba-4111-8dd0-89318e9c82d4"
      },
      "execution_count": null,
      "outputs": [
        {
          "output_type": "stream",
          "name": "stdout",
          "text": [
            "correcting...\n",
            "-7\n",
            "correcting...\n",
            "-6\n",
            "correcting...\n",
            "-5\n",
            "correcting...\n",
            "-4\n",
            "correcting...\n",
            "-3\n",
            "correcting...\n",
            "-2\n",
            "correcting...\n",
            "-1\n",
            "correcting...\n",
            "0\n"
          ]
        }
      ]
    },
    {
      "cell_type": "markdown",
      "source": [
        "#**For Loop**\n",
        "### - For each variable in sequence, execute expression\n",
        "### - Use to iterate elements of lists, tuples, strings\n",
        "### - No access to index"
      ],
      "metadata": {
        "id": "EQdPmzcwqq_T"
      }
    },
    {
      "cell_type": "code",
      "source": [
        "# For Loop prints variable i for every element in list \n",
        "for i in [0, 1, 2]:\n",
        "  print (i)\n",
        "\n"
      ],
      "metadata": {
        "colab": {
          "base_uri": "https://localhost:8080/"
        },
        "id": "o9lre0fSrFUZ",
        "outputId": "8c28020e-57f8-49ff-bad2-2a1564e16242"
      },
      "execution_count": null,
      "outputs": [
        {
          "output_type": "stream",
          "name": "stdout",
          "text": [
            "0\n",
            "1\n",
            "2\n"
          ]
        }
      ]
    },
    {
      "cell_type": "code",
      "source": [
        "# For loop prints elements of list fam\n",
        "fam = ['Shana', 'Hari', 'Raji', 'Nirmalaraj']\n",
        "for member in fam :\n",
        "  print (member)"
      ],
      "metadata": {
        "id": "HgCFRUc3frLy",
        "outputId": "b887d7c1-12cd-4558-edc2-e9b24ba9026b",
        "colab": {
          "base_uri": "https://localhost:8080/"
        }
      },
      "execution_count": null,
      "outputs": [
        {
          "output_type": "stream",
          "name": "stdout",
          "text": [
            "Shana\n",
            "Hari\n",
            "Raji\n",
            "Nirmalaraj\n"
          ]
        }
      ]
    },
    {
      "cell_type": "code",
      "source": [
        "# For loop prints elements of tuple fam\n",
        "fam = ('Shana', 'Hari', 'Raji', 'Nirmalaraj')\n",
        "for member in fam :\n",
        "  print (member)"
      ],
      "metadata": {
        "id": "ZIlLENO6frCF",
        "outputId": "139f9cc4-8576-4021-a7ec-c0db0b6567e1",
        "colab": {
          "base_uri": "https://localhost:8080/"
        }
      },
      "execution_count": null,
      "outputs": [
        {
          "output_type": "stream",
          "name": "stdout",
          "text": [
            "Shana\n",
            "Hari\n",
            "Raji\n",
            "Nirmalaraj\n"
          ]
        }
      ]
    },
    {
      "cell_type": "code",
      "source": [
        "# For loop with enumerate iterates elements of list fam with index\n",
        "fam = ['Shana', 'Hari', 'Raji', 'Nirmalaraj']\n",
        "for x, y in enumerate (fam) :\n",
        "  print (x, y)"
      ],
      "metadata": {
        "id": "SCZ2UJQ5fq1P",
        "outputId": "3bfd1701-f300-49fc-8e65-8631d77faf31",
        "colab": {
          "base_uri": "https://localhost:8080/"
        }
      },
      "execution_count": null,
      "outputs": [
        {
          "output_type": "stream",
          "name": "stdout",
          "text": [
            "0 Shana\n",
            "1 Hari\n",
            "2 Raji\n",
            "3 Nirmalaraj\n"
          ]
        }
      ]
    },
    {
      "cell_type": "code",
      "source": [
        "# For loop iterates over string. Can use string methods on output\n",
        "string = str (input ('Your String :'))\n",
        "for m in string :\n",
        "  print (m.capitalize())"
      ],
      "metadata": {
        "id": "gGVtL0V4cYCK",
        "outputId": "f7dc129a-0cbe-47f9-f32c-3260e51ac643",
        "colab": {
          "base_uri": "https://localhost:8080/"
        }
      },
      "execution_count": null,
      "outputs": [
        {
          "output_type": "stream",
          "name": "stdout",
          "text": [
            "Your String :amma\n",
            "A\n",
            "M\n",
            "M\n",
            "A\n"
          ]
        }
      ]
    },
    {
      "cell_type": "code",
      "source": [
        "# For loop unpacks list of lists\n",
        "\n",
        "# Output for loop variable as index to get list items \n",
        "\n",
        "# For loop that iterates each sublist of house and prints out the x is y sqm\n",
        "\n",
        "house = [[\"hallway\", 11.25], \n",
        "         [\"kitchen\", 18.0], \n",
        "         [\"living room\", 20.0], \n",
        "         [\"bedroom\", 10.75], \n",
        "         [\"bathroom\", 9.50]]\n",
        "\n",
        "# Create list x that runs over each sublist\n",
        "\n",
        "for x in house:\n",
        "\n",
        "# Use x [ ] to index elements\n",
        "  print ('the ', x[0], ' is ', str (x [1]), ' sqm') \n"
      ],
      "metadata": {
        "id": "NeYQfi9IrF8s",
        "outputId": "8ff2075d-6fb1-4234-ad79-66720e31a88e",
        "colab": {
          "base_uri": "https://localhost:8080/"
        }
      },
      "execution_count": null,
      "outputs": [
        {
          "output_type": "stream",
          "name": "stdout",
          "text": [
            "the  hallway  is  11.25  sqm\n",
            "the  kitchen  is  18.0  sqm\n",
            "the  living room  is  20.0  sqm\n",
            "the  bedroom  is  10.75  sqm\n",
            "the  bathroom  is  9.5  sqm\n"
          ]
        }
      ]
    },
    {
      "cell_type": "markdown",
      "source": [
        "#**Loop Data Structures**\n",
        "### - Different Data Structures have different methods and functions"
      ],
      "metadata": {
        "id": "A1MAXnBLKVby"
      }
    },
    {
      "cell_type": "markdown",
      "source": [
        "##Dictionaries\n",
        "### - Use .items ( ) method to iterate over dictionary keys and values\n",
        "### - Dictionaries are inherently unordered\n",
        "### - Syntax: for key, val in dictonary_name.items ( ) :  "
      ],
      "metadata": {
        "id": "k-H3Xiz4m_nU"
      }
    },
    {
      "cell_type": "code",
      "source": [
        "# Build dictionary world\n",
        "world = {'Sri Lanka' : 'Colombo', 'India' : 'New Delhi', 'Pakistan' : 'Islamabad'}\n",
        "\n",
        "# Use .items to iterate key-value pairs\n",
        "# Define arbitary values for key and value\n",
        "for x, y in world.items() :\n",
        "  print (x, y)"
      ],
      "metadata": {
        "id": "wV4FiGUiKq8x",
        "outputId": "ec4f1645-9924-4a12-e3c8-8ce89985aeae",
        "colab": {
          "base_uri": "https://localhost:8080/"
        }
      },
      "execution_count": null,
      "outputs": [
        {
          "output_type": "stream",
          "name": "stdout",
          "text": [
            "Sri Lanka Colombo\n",
            "India New Delhi\n",
            "Pakistan Islamabad\n"
          ]
        }
      ]
    },
    {
      "cell_type": "markdown",
      "source": [
        "##Numpy Arrays\n",
        "### - Use np.nditer function to iterate over ndimensional numpy arrays\n",
        "### - Syntax: for val in np.nditer (array_name) :  "
      ],
      "metadata": {
        "id": "htCZ0iltmnYy"
      }
    },
    {
      "cell_type": "code",
      "source": [
        "# Build 2 np arrays\n",
        "import numpy as np\n",
        "np_height = np.array ([1.73, 1.68, 1.71, 7.89, 1.79])\n",
        "np_weight = np. array ([65.4, 59.2, 63.6, 88.4, 68.7])\n",
        "\n",
        "# Build 2d np array meas\n",
        "meas = np.array ([np_height, np_weight])\n",
        "\n",
        "# Printinng 2D nparray with a For Loop results in an entire array in each iteration\n",
        "for k in meas:\n",
        "  print (k)\n",
        "\n",
        "# Use nditer to itearte array elements \n",
        "for val in np.nditer (meas):\n",
        "  print (val) "
      ],
      "metadata": {
        "id": "_PvMiIITMMzb",
        "outputId": "45a8daa3-48c3-4d6e-c7a3-662b0e760a58",
        "colab": {
          "base_uri": "https://localhost:8080/"
        }
      },
      "execution_count": null,
      "outputs": [
        {
          "output_type": "stream",
          "name": "stdout",
          "text": [
            "[1.73 1.68 1.71 7.89 1.79]\n",
            "[65.4 59.2 63.6 88.4 68.7]\n",
            "1.73\n",
            "1.68\n",
            "1.71\n",
            "7.89\n",
            "1.79\n",
            "65.4\n",
            "59.2\n",
            "63.6\n",
            "88.4\n",
            "68.7\n"
          ]
        }
      ]
    },
    {
      "cell_type": "markdown",
      "source": [
        "##Pandas DataFrames\n",
        "### - Explicitly mention that want to iterate over rows\n",
        "### - Use .iterrows ( ) method to iterate over dataframe rows \n",
        "### - Syntax: for label, row in dataframe_name.iterrows ( ) :  \n",
        "### - Iterates over each row and returns the label and actual row information as a Pandas Series\n",
        "### - Can subset"
      ],
      "metadata": {
        "id": "o2XYnGp1mwz-"
      }
    },
    {
      "cell_type": "code",
      "source": [
        "# Preparation\n",
        "\n",
        "# Import pandas as pd, brics.csv from GitHub url, brics. csv data as df brics and  include index_col\n",
        "\n",
        "import pandas as pd\n",
        "url = 'https://raw.githubusercontent.com/nirmalaraj77/Python/main/brics.csv'\n",
        "brics = pd.read_csv(url, index_col=0)\n",
        "\n",
        "\n",
        "# Use iterrows method to iterate each row and return label and row information (series)\n",
        "for lab, row in brics.iterrows () :\n",
        "  print (lab)\n",
        "  print (row)\n",
        "\n",
        "# Use iterrows method and subsetting to print lables and 'capital' column from rows\n",
        "for lab, row in brics.iterrows () :\n",
        "  print (lab + ': ' + row ['capital'])\n",
        "\n"
      ],
      "metadata": {
        "id": "GXBn2yOYnP3G",
        "outputId": "1d93b360-7366-4660-c1ba-0c8cf66253c3",
        "colab": {
          "base_uri": "https://localhost:8080/"
        }
      },
      "execution_count": null,
      "outputs": [
        {
          "output_type": "stream",
          "name": "stdout",
          "text": [
            "BR\n",
            "country         Brazil\n",
            "capital       Brasilia\n",
            "area             8.516\n",
            "population       200.4\n",
            "Name: BR, dtype: object\n",
            "RU\n",
            "country       Russia\n",
            "capital       Moscow\n",
            "area            17.1\n",
            "population     143.5\n",
            "Name: RU, dtype: object\n",
            "IN\n",
            "country           India\n",
            "capital       New Delhi\n",
            "area              3.286\n",
            "population       1252.0\n",
            "Name: IN, dtype: object\n",
            "CH\n",
            "country         China\n",
            "capital       Beijing\n",
            "area            9.597\n",
            "population     1357.0\n",
            "Name: CH, dtype: object\n",
            "SA\n",
            "country       South Africa\n",
            "capital           Pretoria\n",
            "area                 1.221\n",
            "population           52.98\n",
            "Name: SA, dtype: object\n",
            "BR: Brasilia\n",
            "RU: Moscow\n",
            "IN: New Delhi\n",
            "CH: Beijing\n",
            "SA: Pretoria\n"
          ]
        }
      ]
    },
    {
      "cell_type": "markdown",
      "source": [
        "##Add New Column to the dataframe with For Loop\n",
        "### - Add new column to include data from each rows  \n",
        "### - Use loc for label based\n",
        "### - **Not efficient for large datasets**"
      ],
      "metadata": {
        "id": "LvS43v8BqbB0"
      }
    },
    {
      "cell_type": "code",
      "source": [
        "# Preparation\n",
        "\n",
        "# Import pandas as pd, brics.csv from GitHub url, brics. csv data as df brics and  include index_col\n",
        "import pandas as pd\n",
        "url = 'https://raw.githubusercontent.com/nirmalaraj77/Python/main/brics.csv'\n",
        "brics = pd.read_csv(url, index_col=0)\n",
        "\n",
        "\n",
        "# Use iterrows method to iterate each row and return label and row information as Pandas Series (lab, row)\n",
        "for lab, row in brics.iterrows () :\n",
        "    brics.loc [lab, 'name_length'] = len (row ['country'])\n",
        "  # Print length of country name in each row\n",
        "  # Create a series on everry iteration\n",
        "  # Select country column from each row and pass the number of characters in each string to new column 'name_length using label based loc function\n",
        "print (brics)\n"
      ],
      "metadata": {
        "id": "GPmftsZOqfZ5",
        "outputId": "5c1e1e65-42c9-4f1c-f7be-5bd0d6498ff6",
        "colab": {
          "base_uri": "https://localhost:8080/"
        }
      },
      "execution_count": null,
      "outputs": [
        {
          "output_type": "stream",
          "name": "stdout",
          "text": [
            "         country    capital    area  population  name_length\n",
            "BR        Brazil   Brasilia   8.516      200.40          6.0\n",
            "RU        Russia     Moscow  17.100      143.50          6.0\n",
            "IN         India  New Delhi   3.286     1252.00          5.0\n",
            "CH         China    Beijing   9.597     1357.00          5.0\n",
            "SA  South Africa   Pretoria   1.221       52.98         12.0\n"
          ]
        }
      ]
    },
    {
      "cell_type": "markdown",
      "source": [
        "##**Add New Column to the dataframe with apply function (no nedd for for loop)**\n",
        "### - Add new column to include data from each rows\n",
        "### - Use apply ( ) function\n",
        "### - Vectorised operations \n",
        "### - Apply () function adds new column from existing rows "
      ],
      "metadata": {
        "id": "4Usp2SCYzJL2"
      }
    },
    {
      "cell_type": "code",
      "source": [
        "# Preparation\n",
        "\n",
        "# Import pandas as pd, brics.csv from GitHub url, brics. csv data as df brics and  include index_col\n",
        "import pandas as pd\n",
        "url = 'https://raw.githubusercontent.com/nirmalaraj77/Python/main/brics.csv'\n",
        "brics = pd.read_csv(url, index_col=0)\n",
        "\n",
        "# Select 'country' column from 'brics' dataframe and apply the len function\n",
        "\n",
        "# The apply () function taked the input from the country column and produces a new set\n",
        "\n",
        "# Use apply () function to add column : lengh_name and lenght of characters from country name\n",
        "\n",
        "brics ['name_length'] = brics ['country'].apply (len)\n",
        "print (brics)"
      ],
      "metadata": {
        "id": "fiSwNZ0Tzivm",
        "outputId": "985b78ad-3501-4328-a565-09f51f5f1388",
        "colab": {
          "base_uri": "https://localhost:8080/"
        }
      },
      "execution_count": null,
      "outputs": [
        {
          "output_type": "stream",
          "name": "stdout",
          "text": [
            "         country    capital    area  population  name_length\n",
            "BR        Brazil   Brasilia   8.516      200.40            6\n",
            "RU        Russia     Moscow  17.100      143.50            6\n",
            "IN         India  New Delhi   3.286     1252.00            5\n",
            "CH         China    Beijing   9.597     1357.00            5\n",
            "SA  South Africa   Pretoria   1.221       52.98           12\n"
          ]
        }
      ]
    },
    {
      "cell_type": "markdown",
      "source": [
        "#**Random Numbers**\n",
        "### - Use random function in Numpy package \n",
        "### - Rand generates random float between 0 and 1\n",
        "### - From numpy.random.mtrand import randint\n",
        "### - Radint generates random integers without any arguments\n",
        "### - Random Genarator use mathematical formula from a random seed\n",
        "### - Setting manual seed generates same pseudo-random numbers \n",
        "### - Manul seed ensures reproducibility"
      ],
      "metadata": {
        "id": "qOCfenbU7N5v"
      }
    },
    {
      "cell_type": "code",
      "source": [
        "# Import numpy\n",
        "import numpy as np\n",
        "\n",
        "# Random float\n",
        "print (np.random.rand())\n"
      ],
      "metadata": {
        "id": "hwKi405Q73T1",
        "outputId": "7a15bf9c-8a03-4f5a-9c3a-75be52cf00e1",
        "colab": {
          "base_uri": "https://localhost:8080/"
        }
      },
      "execution_count": 4,
      "outputs": [
        {
          "output_type": "stream",
          "name": "stdout",
          "text": [
            "0.7205684736647532\n"
          ]
        }
      ]
    },
    {
      "cell_type": "code",
      "source": [
        "# Pseudo-random float with manual seed\n",
        "\n",
        "# Seed can be any number \n",
        "\n",
        "# same seed will generate same random (pseudu) result to ensures reproducibility\n",
        "\n",
        "np.random.seed (7111)\n",
        "print (np.random.rand())"
      ],
      "metadata": {
        "id": "eOnqblyW9U-Q",
        "outputId": "9cd79ea6-cd52-4ed0-b18d-399d42b3a889",
        "colab": {
          "base_uri": "https://localhost:8080/"
        }
      },
      "execution_count": 6,
      "outputs": [
        {
          "output_type": "stream",
          "name": "stdout",
          "text": [
            "0.762298091884058\n"
          ]
        }
      ]
    },
    {
      "cell_type": "code",
      "source": [
        "# Import radint\n",
        "from numpy.random.mtrand import randint\n",
        "\n",
        "# Generate random integer between 0 - 5\n",
        "print (np.random.randint (0, 6))\n",
        "\n",
        "\n"
      ],
      "metadata": {
        "id": "Iz-UhCFAuq4G",
        "outputId": "1ad29bdf-0d66-4b31-d918-4eff23138191",
        "colab": {
          "base_uri": "https://localhost:8080/"
        }
      },
      "execution_count": 18,
      "outputs": [
        {
          "output_type": "stream",
          "name": "stdout",
          "text": [
            "1\n"
          ]
        }
      ]
    },
    {
      "cell_type": "code",
      "source": [
        "# Generate same pseudo-ransom integer by setting manual seed\n",
        "np.random.seed (755)\n",
        "print (np.random.randint (0, 6))"
      ],
      "metadata": {
        "id": "S6pXWaFenReZ",
        "outputId": "c927b130-5f82-4a1b-8c6d-8d35ae669e2d",
        "colab": {
          "base_uri": "https://localhost:8080/"
        }
      },
      "execution_count": 15,
      "outputs": [
        {
          "output_type": "stream",
          "name": "stdout",
          "text": [
            "4\n"
          ]
        }
      ]
    },
    {
      "cell_type": "code",
      "source": [
        "# Simulate Coin Toss using if-elif else construct \n",
        "\n",
        "# Use randint to randomly generate 0 or 1\n",
        "coin = np.random.randint (0, 2)\n",
        "print (coin)\n",
        "if coin == 0:\n",
        "  print ('Heads')\n",
        "else:\n",
        "  print ('Tails')\n"
      ],
      "metadata": {
        "id": "n-LidawF9UQb",
        "outputId": "055ce0a9-aafa-4762-cead-15d642022184",
        "colab": {
          "base_uri": "https://localhost:8080/"
        }
      },
      "execution_count": 28,
      "outputs": [
        {
          "output_type": "stream",
          "name": "stdout",
          "text": [
            "1\n",
            "Tails\n"
          ]
        }
      ]
    },
    {
      "cell_type": "code",
      "source": [
        "# Seting seed ensures random function always generates same result\n",
        "np.random.seed (123)\n",
        "\n",
        "# Simulate Coin Toss using if-elif else construct \n",
        "\n",
        "# Use randint to randomly generate 0 or 1\n",
        "coin = np.random.randint (0, 2)\n",
        "if coin == 0:\n",
        "  print ('Heads')\n",
        "else:\n",
        "  print ('Tails')"
      ],
      "metadata": {
        "id": "b8eSEGBSntZb",
        "outputId": "ecf4605b-7caa-4b38-ad18-9f857c71de19",
        "colab": {
          "base_uri": "https://localhost:8080/"
        }
      },
      "execution_count": 33,
      "outputs": [
        {
          "output_type": "stream",
          "name": "stdout",
          "text": [
            "Heads\n"
          ]
        }
      ]
    },
    {
      "cell_type": "markdown",
      "source": [
        "#**Random Numbers Exercise**\n",
        "\n",
        "### - Going up the Empire State Building\n",
        "### - Bet you will reach 60 steps high\n",
        "### - Throw a dice\n",
        "### - 1 or 2 = go 1 step down\n",
        "### - 3, 4 or 5 = go 1 step up\n",
        "### - 6 = throw die again and walk UP resulting number of steps\n",
        "### - Cannot go lower than step number 0\n",
        "### - Falling down (0.1% chance) = start again from step number 0\n",
        "<br>\n",
        "\n",
        "### - Use Hacker-Statistics (Simulate 1,000's of times)\n",
        "### - Generate random numbers from Numpy\n",
        "\n"
      ],
      "metadata": {
        "id": "vpdobBIs6Le8"
      }
    },
    {
      "cell_type": "code",
      "source": [
        "# Import numpy and set seed\n",
        "import numpy as np\n",
        "np.random.seed(123)\n",
        "\n",
        "# Starting step. Assume starting at step number 50\n",
        "step = 50\n",
        "\n",
        "# Determine next move. Roll the dice. Use randint to simulate dice between 1 - 6 \n",
        "dice=(np.random.randint(1,7))\n",
        "\n",
        "# If - Elif - Else control construct\n",
        "\n",
        "# If , 1 or 2, go 1 step down\n",
        "if dice <= 2 :\n",
        "    step = step - 1\n",
        "\n",
        "# If 3, 4 or 5, go 1 step up\n",
        "elif dice <=5 :\n",
        "    step = step + 1\n",
        "\n",
        "# If 6,     \n",
        "else :\n",
        "    step = step + np.random.randint(1,7)\n"
      ],
      "metadata": {
        "id": "FQ8_RLt8oesD",
        "outputId": "4de6059c-02ed-4eee-d591-a066a9156eb1",
        "colab": {
          "base_uri": "https://localhost:8080/"
        }
      },
      "execution_count": 41,
      "outputs": [
        {
          "output_type": "stream",
          "name": "stdout",
          "text": [
            "6\n",
            "3\n"
          ]
        }
      ]
    }
  ]
}