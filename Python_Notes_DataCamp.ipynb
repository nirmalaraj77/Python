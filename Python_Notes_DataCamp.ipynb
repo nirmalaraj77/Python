{
  "nbformat": 4,
  "nbformat_minor": 0,
  "metadata": {
    "colab": {
      "name": "Python_Notes_DataCamp.ipynb",
      "provenance": [],
      "collapsed_sections": [
        "a4Bi06CaGDzK",
        "1664fd0c",
        "kUhzKSpDLROj",
        "ECXy09jlKn_A",
        "RiaDyM7tDwCX",
        "FsF2-3hgLszy",
        "4sO9p3axMCDp"
      ],
      "authorship_tag": "ABX9TyMNJxvE7FSwbxbP8JNvGhQW",
      "include_colab_link": true
    },
    "kernelspec": {
      "name": "python3",
      "display_name": "Python 3"
    },
    "language_info": {
      "name": "python"
    }
  },
  "cells": [
    {
      "cell_type": "markdown",
      "metadata": {
        "id": "view-in-github",
        "colab_type": "text"
      },
      "source": [
        "<a href=\"https://colab.research.google.com/github/nirmalaraj77/Python/blob/main/Python_Notes_DataCamp.ipynb\" target=\"_parent\"><img src=\"https://colab.research.google.com/assets/colab-badge.svg\" alt=\"Open In Colab\"/></a>"
      ]
    },
    {
      "cell_type": "markdown",
      "source": [
        "**PYTHON_NOTES_DATACAMP**\n",
        "\n"
      ],
      "metadata": {
        "id": "U3q71NiS17sl"
      }
    },
    {
      "cell_type": "markdown",
      "source": [
        "#Functions and Packages"
      ],
      "metadata": {
        "id": "a4Bi06CaGDzK"
      }
    },
    {
      "cell_type": "markdown",
      "source": [
        "##Functions\n",
        "### - Call with round brackets\n",
        "### - Functions save results to variables\n",
        "### - Syntax: output = function_name(input)\n",
        "### - Help syntax: help (function-name) or ? function_name"
      ],
      "metadata": {
        "id": "37RNfhi0h8O3"
      }
    },
    {
      "cell_type": "markdown",
      "source": [
        "##Methods\n",
        "### - Call with Dot . after data type name\n",
        "### - Each object has associated attribute and methods\n",
        "### - Call help to find methods associated with data types"
      ],
      "metadata": {
        "id": "RdY57qp6jUaz"
      }
    },
    {
      "cell_type": "markdown",
      "metadata": {
        "id": "877cdd13"
      },
      "source": [
        "##Packages\n",
        "### - Import packages as libraries, alias or selective"
      ]
    },
    {
      "cell_type": "code",
      "execution_count": null,
      "metadata": {
        "id": "JwcFZC065fnz"
      },
      "outputs": [],
      "source": [
        "# Import Library   \n",
        "import math \n",
        "\n",
        "# Import Library as alias   \n",
        "import numpy as np  \n",
        "import matplotlib.pyplot as plt\n",
        "\n",
        "# Selective import  \n",
        "from math import pi\n",
        "from scipy.linalg import inv as my_inv"
      ]
    },
    {
      "cell_type": "markdown",
      "metadata": {
        "id": "1664fd0c"
      },
      "source": [
        "#Variables and Data Types"
      ]
    },
    {
      "cell_type": "markdown",
      "source": [
        "##Assign Variables"
      ],
      "metadata": {
        "id": "kUhzKSpDLROj"
      }
    },
    {
      "cell_type": "code",
      "source": [
        "# Assign variable\n",
        "x = 5\n",
        "y = 7\n",
        "\n",
        "# Assign variable # Cleaner Code\n",
        "a, b, c = 1, 2, 3\n",
        "\n",
        "# Assign variable to variable\n",
        "d = a \n",
        "print (a, b, c, d)\n",
        "\n",
        "# Changing variable does not change original value\n",
        "d = 5\n",
        "print (a, b, c, d)"
      ],
      "metadata": {
        "id": "zGEHKhV_LTfw",
        "outputId": "e0d4ebbf-69b3-40d3-db14-7362cf6257ab",
        "colab": {
          "base_uri": "https://localhost:8080/"
        }
      },
      "execution_count": null,
      "outputs": [
        {
          "output_type": "stream",
          "name": "stdout",
          "text": [
            "1 2 3 1\n",
            "1 2 3 5\n"
          ]
        }
      ]
    },
    {
      "cell_type": "markdown",
      "source": [
        "## Calculate Variables \n",
        "### - Arithmetic operations highest to lowest"
      ],
      "metadata": {
        "id": "ECXy09jlKn_A"
      }
    },
    {
      "cell_type": "code",
      "source": [
        "x ** y # Exponent\n",
        "x % y # Modulus \n",
        "x // y # Integer division \n",
        "x / y # Division  \n",
        "x * y # Multiply  \n",
        "x - y # Substract   \n",
        "x + y # Sum"
      ],
      "metadata": {
        "colab": {
          "base_uri": "https://localhost:8080/"
        },
        "id": "j1_cDm6VB7b8",
        "outputId": "989c2484-f014-43a3-edb0-cfc1d615862a"
      },
      "execution_count": null,
      "outputs": [
        {
          "output_type": "execute_result",
          "data": {
            "text/plain": [
              "12"
            ]
          },
          "metadata": {},
          "execution_count": 12
        }
      ]
    },
    {
      "cell_type": "markdown",
      "source": [
        "## Type Conversion"
      ],
      "metadata": {
        "id": "RiaDyM7tDwCX"
      }
    },
    {
      "cell_type": "code",
      "source": [
        "# Variable to String, Integer, Float and Boolean  \n",
        "str('5'), \n",
        "str(2.444)  \n",
        "str('Manual')  \n",
        "int (1)  \n",
        "int (2.7)  \n",
        "int (True)   \n",
        "float (5)  \n",
        "float ('1.7')  \n",
        "bool (True)  \n",
        "bool (False)  \n",
        "bool (1)  \n",
        "bool(0)  \n",
        "bool ('Amma@')"
      ],
      "metadata": {
        "colab": {
          "base_uri": "https://localhost:8080/"
        },
        "id": "6GRFH5ZmDkF4",
        "outputId": "8ee17ef6-18bb-4243-bc05-a491b4377f9c"
      },
      "execution_count": null,
      "outputs": [
        {
          "output_type": "execute_result",
          "data": {
            "text/plain": [
              "True"
            ]
          },
          "metadata": {},
          "execution_count": 14
        }
      ]
    },
    {
      "cell_type": "markdown",
      "source": [
        "##String Operations"
      ],
      "metadata": {
        "id": "Fru6PsDWElm2"
      }
    },
    {
      "cell_type": "code",
      "source": [
        "my_string = 'This String is Awesome' # Assign variable to string \n",
        "\n",
        "print (my_string * 3) # Multiply string\n",
        "\n",
        "print (my_string + my_string) # Add strings (without spaces)\n",
        "\n",
        "print (my_string, my_string) # Add strings (adds a space) # Cleaner Code\n",
        "\n",
        "print (my_string + ' ' + 'is it not so?') # Add other strings\n",
        "\n",
        "print(my_string, ' ', 'is this new method?') # Add other strings # Cleaner Code "
      ],
      "metadata": {
        "colab": {
          "base_uri": "https://localhost:8080/"
        },
        "id": "f8UXGQg3Eo_V",
        "outputId": "f54ac1bc-f900-4272-a44d-a5ad73d1c847"
      },
      "execution_count": null,
      "outputs": [
        {
          "output_type": "stream",
          "name": "stdout",
          "text": [
            "This String is AwesomeThis String is AwesomeThis String is Awesome\n",
            "This String is AwesomeThis String is Awesome\n",
            "This String is Awesome This String is Awesome\n",
            "This String is Awesome is it not so?\n",
            "This String is Awesome   is this new method?\n"
          ]
        }
      ]
    },
    {
      "cell_type": "markdown",
      "source": [
        "##String Indexing, Subsetting and Slicing  \n",
        "### - Place index in square brackets [ ] \n",
        "### - Index starts at 0\n",
        "### - Use Colon : to slice\n",
        "### - Slicing Syntax: string [start : end]\n",
        "### - **Start index is included, end index is excluded**\n",
        "### - No need to include index if slicing from first or last element\n",
        "### - Start and end indexes are included if denoted with colons : \n",
        "\n"
      ],
      "metadata": {
        "id": "P3FItUl8H6ai"
      }
    },
    {
      "cell_type": "code",
      "execution_count": null,
      "metadata": {
        "scrolled": false,
        "id": "da43668b",
        "outputId": "e90a9338-c060-43d4-a913-cd3a850410a0",
        "colab": {
          "base_uri": "https://localhost:8080/"
        }
      },
      "outputs": [
        {
          "output_type": "stream",
          "name": "stdout",
          "text": [
            "2\n",
            "678\n",
            "012\n",
            "789\n",
            "7\n"
          ]
        }
      ],
      "source": [
        "my_string = '0123456789' #Assign string \n",
        "\n",
        "print (my_string [2]) # Character index 3 \n",
        "\n",
        "print (my_string [6 : 9]) # Start index 6 is inclided, end index 9 not included \n",
        "\n",
        "print (my_string[: 3]) # Start index included from beginning (used :). End index 3 not included\n",
        "\n",
        "print (my_string [7 :]) # Start index 7 incuded. Indexes until end included (used :) \n",
        "\n",
        "print (my_string [-3]) # Select 3rd from last element"
      ]
    },
    {
      "cell_type": "markdown",
      "source": [
        "##String Methods and Functions\n",
        "### - Call methods with dot. and round brackets after ( )\n",
        "### - Call functions with function name and round brackets "
      ],
      "metadata": {
        "id": "JWM0ONdnIpME"
      }
    },
    {
      "cell_type": "code",
      "execution_count": null,
      "metadata": {
        "scrolled": false,
        "outputId": "ae088180-7409-468e-9273-f80eaf548420",
        "colab": {
          "base_uri": "https://localhost:8080/"
        },
        "id": "vSPEw77vInED"
      },
      "outputs": [
        {
          "output_type": "stream",
          "name": "stdout",
          "text": [
            "26\n",
            "False\n",
            "  THIS STRING IS AWESOME  \n",
            "  this string is awesome  \n",
            "  this string is awesome  \n",
            "  This String Is Awesome  \n",
            "4\n",
            "  thiX Xtring iX aweXome  \n",
            "this string is awesome\n"
          ]
        }
      ],
      "source": [
        "my_string = '  this string is awesome  ' # Assign string with whitespaces front and after\n",
        "\n",
        "print (len(my_string)) # String length\n",
        "\n",
        "print (('y' in my_string)) # Boolean for string character\n",
        "\n",
        "print (my_string.upper ()) # Uppercase\n",
        "\n",
        "print (my_string.lower ()) # Lowercase\n",
        "\n",
        "print (my_string.capitalize ()) # Capitalize 1st Character\n",
        "\n",
        "print (my_string.title ()) # Capitalise all words\n",
        "\n",
        "print (my_string.count ('s')) # Count String Element\n",
        "\n",
        "print (my_string.replace ('s', 'X')) # Replace all occuarances of String Element with another\n",
        "\n",
        "print (my_string.strip ()) # Strip Whitespaces beginning and end"
      ]
    },
    {
      "cell_type": "markdown",
      "source": [
        ""
      ],
      "metadata": {
        "id": "E-zo8lO6L_rF"
      }
    },
    {
      "cell_type": "markdown",
      "source": [
        "#Lists"
      ],
      "metadata": {
        "id": "4sO9p3axMCDp"
      }
    },
    {
      "cell_type": "markdown",
      "source": [
        "##Create List \n",
        "### - Use square brackets [ ]\n",
        "### - Can have different Types"
      ],
      "metadata": {
        "id": "JDpicA42MKGh"
      }
    },
    {
      "cell_type": "code",
      "source": [
        "# Assign variables # Cleaner Code\n",
        "hall, kit, liv, bed, bath, w,x, y, z = 11.25, 18.0, 20.0, 10.75, 9.5, 'Amman', True, 1>2, 10001\n",
        "\n",
        "# Create list areas with variables of different data types\n",
        "areas = [hall, kit, liv, bed, bath, w, x, y, z] \n",
        "print (areas)"
      ],
      "metadata": {
        "colab": {
          "base_uri": "https://localhost:8080/"
        },
        "id": "oXLRbX6CMMbG",
        "outputId": "eb1062bc-2f90-4ec2-f9c5-1a4867b7ce7f"
      },
      "execution_count": null,
      "outputs": [
        {
          "output_type": "stream",
          "name": "stdout",
          "text": [
            "[11.25, 18.0, 20.0, 10.75, 9.5, 'Amman', True, False, 10001]\n"
          ]
        }
      ]
    },
    {
      "cell_type": "markdown",
      "source": [
        "##List of Lists\n",
        "### - Can be any number of lists\n",
        "### - Create with [ [ ], [ ] ]"
      ],
      "metadata": {
        "id": "qKQOt-WtMpap"
      }
    },
    {
      "cell_type": "code",
      "source": [
        "# Area variables (in square meters)\n",
        "hall = 11.25\n",
        "kit = 18.0\n",
        "liv = 20.0\n",
        "bed = 10.75\n",
        "bath = 9.50\n",
        "\n",
        "# House information as list of lists\n",
        "house = [[\"hallway\", hall],\n",
        "         [\"kitchen\", kit],\n",
        "         [\"living room\", liv],\n",
        "         [\"bedroom\", bed],\n",
        "         [\"bathroom\", bath]]\n",
        "\n",
        "print (house)\n",
        "print (type (house))"
      ],
      "metadata": {
        "colab": {
          "base_uri": "https://localhost:8080/"
        },
        "id": "lgjNr-GqM0zg",
        "outputId": "b3de68e7-3cb5-417a-b273-b17ce9e56c5d"
      },
      "execution_count": null,
      "outputs": [
        {
          "output_type": "stream",
          "name": "stdout",
          "text": [
            "[['hallway', 11.25], ['kitchen', 18.0], ['living room', 20.0], ['bedroom', 10.75], ['bathroom', 9.5]]\n",
            "<class 'list'>\n"
          ]
        }
      ]
    },
    {
      "cell_type": "markdown",
      "source": [
        "##List Indexing, Subsetting and Slicing\n",
        "### - Place index in square brackets [ ] \n",
        "### - Index starts at 0\n",
        "### - Use Colon : to slice\n",
        "### - Slicing Syntax: list [start : end]\n",
        "### - **Start index is included, end index is excluded**\n",
        "### - No need to include index if slicing from first or last element\n",
        "### - Start and end indexes are included if denoted with colons : \n"
      ],
      "metadata": {
        "id": "ZU-A15p4QSM2"
      }
    },
    {
      "cell_type": "code",
      "source": [
        "l = [0, 1, 2, 3, 4, 5, 6, 7, 8, 9] # Create list \n",
        "\n",
        "print (l [4]) # Print 4th index \n",
        "\n",
        "print (l [-2]) # Print 2nd to last item\n",
        "\n",
        "print (l [1:3]) # Print indexes 1 and 2. Start index 1 included, end index 3 excluded\n",
        "print (l [2:]) # Print indexes 2 - end. Start index 2 included, end is denoted by colon : \n",
        "print (l [:5]) # Print indexes from start (denoted by colon :) to 4. End index 5 exluded "
      ],
      "metadata": {
        "colab": {
          "base_uri": "https://localhost:8080/"
        },
        "id": "KxsDshS7RZ8d",
        "outputId": "7b2dad92-e198-4c5e-87fb-f2f30e6d041c"
      },
      "execution_count": null,
      "outputs": [
        {
          "output_type": "stream",
          "name": "stdout",
          "text": [
            "4\n",
            "8\n",
            "[1, 2]\n",
            "[2, 3, 4, 5, 6, 7, 8, 9]\n",
            "[0, 1, 2, 3, 4]\n"
          ]
        }
      ]
    },
    {
      "cell_type": "markdown",
      "source": [
        "##Copy List\n",
        "### - Copying a list will point to same list (unlike variable)\n",
        "### - Create new copy with list() or Colon : for seperate list \n",
        "### - Result is new list with selected elements if copied with Indexing, Slicing and Subsetting\n"
      ],
      "metadata": {
        "id": "U69Rsv16WSfi"
      }
    },
    {
      "cell_type": "code",
      "source": [
        "l = ['p', 'q', 'r', 's', 't'] # Create list\n",
        "l_copy = l # Create copy\n",
        "\n",
        "print (l)\n",
        "print (l_copy)\n",
        "\n",
        "del l_copy [2] # Delete index item in copy\n",
        "print (l) # Original also changes\n",
        "print (l_copy) # Because both point to same list\n",
        "\n",
        "l = ['p', 'q', 'r', 's', 't'] # Create list\n",
        "l1 = list (l) # Copy all indexes to new list with list()\n",
        "l2 = l [:3] # Copy index start - 2 to new list\n",
        "print (l1)\n",
        "print (l2)"
      ],
      "metadata": {
        "colab": {
          "base_uri": "https://localhost:8080/"
        },
        "id": "NdoHoT7nWnH9",
        "outputId": "91f003d3-cc0e-4523-f11b-5e54c14108c1"
      },
      "execution_count": null,
      "outputs": [
        {
          "output_type": "stream",
          "name": "stdout",
          "text": [
            "['p', 'q', 'r', 's', 't']\n",
            "['p', 'q', 'r', 's', 't']\n",
            "['p', 'q', 's', 't']\n",
            "['p', 'q', 's', 't']\n",
            "['p', 'q', 'r', 's', 't']\n",
            "['p', 'q', 'r']\n"
          ]
        }
      ]
    },
    {
      "cell_type": "markdown",
      "source": [
        "##Subset List of Lists\n",
        "### Syntax : list_name [index of list] [index of item in that list]\n",
        "### - Use 1st square bracket [ ] for index of list and second square bracket [ ] for index in that list  \n",
        "### - Same rules for list indexing, subsetting and slicing  "
      ],
      "metadata": {
        "id": "Lr9gE14wbQLr"
      }
    },
    {
      "cell_type": "code",
      "source": [
        "my_list = [[0, 1, 2, 3, 4, 5], [0, 1 , 2 , 3 , 4]] # Create list of lists\n",
        "\n",
        "x = [[\"a\", \"b\", \"c\"], # Create list of lists # Cleaner Code\n",
        "     [\"d\", \"e\", \"f\"],\n",
        "     [\"g\", \"h\", \"i\"]] \n",
        "\n",
        "print (my_list [1][2]) # List index 1, item index 2\n",
        "print (my_list [0] [3:]) # List index 0, item indexes 3 to end  \n",
        "print (x[2] [0]) # List index 2, item index 0\n",
        "print (x[0] [:2]) # List index 0, item indexes start to 1, end index 2 excluded\n",
        "print (x[1] [-2]) # List index 1, item 02nd from last"
      ],
      "metadata": {
        "colab": {
          "base_uri": "https://localhost:8080/"
        },
        "id": "ZGus1mFPbZ7Z",
        "outputId": "36e4bac0-3b93-4a14-8302-86e9c5fbc821"
      },
      "execution_count": null,
      "outputs": [
        {
          "output_type": "stream",
          "name": "stdout",
          "text": [
            "2\n",
            "[3, 4, 5]\n",
            "g\n",
            "['a', 'b']\n",
            "e\n"
          ]
        }
      ]
    },
    {
      "cell_type": "markdown",
      "source": [
        "##Replace List Elements"
      ],
      "metadata": {
        "id": "NVqOR7Nxd7_Q"
      }
    },
    {
      "cell_type": "code",
      "source": [
        "x = [\"a\", \"b\", \"c\", \"d\"] # Create List\n",
        "x[1] = \"r\" # Replace index 1  \n",
        "x[2:] = [\"s\", \"t\"] # Replace index 2 - end\n",
        "print (x)"
      ],
      "metadata": {
        "colab": {
          "base_uri": "https://localhost:8080/"
        },
        "id": "UoQX4t9Yd_B_",
        "outputId": "841aaa8f-b5d0-4778-89c9-42704c8400e1"
      },
      "execution_count": null,
      "outputs": [
        {
          "output_type": "stream",
          "name": "stdout",
          "text": [
            "['a', 'r', 's', 't']\n"
          ]
        }
      ]
    },
    {
      "cell_type": "markdown",
      "source": [
        "##Extend List"
      ],
      "metadata": {
        "id": "J6kYw93eeut5"
      }
    },
    {
      "cell_type": "code",
      "source": [
        "x = [\"a\", \"b\", \"c\", \"d\"] # Create list\n",
        "y = x + [\"e\", \"f\"] # Add elements\n",
        "print (y)\n",
        "\n",
        "print (y + y) # Add list to list\n",
        "print (y * 3) # Multiply list"
      ],
      "metadata": {
        "colab": {
          "base_uri": "https://localhost:8080/"
        },
        "id": "AyBl2oDaermM",
        "outputId": "54662aa9-a4d9-4efc-f814-10c655066927"
      },
      "execution_count": null,
      "outputs": [
        {
          "output_type": "stream",
          "name": "stdout",
          "text": [
            "['a', 'b', 'c', 'd', 'e', 'f']\n",
            "['a', 'b', 'c', 'd', 'e', 'f', 'a', 'b', 'c', 'd', 'e', 'f']\n",
            "['a', 'b', 'c', 'd', 'e', 'f', 'a', 'b', 'c', 'd', 'e', 'f', 'a', 'b', 'c', 'd', 'e', 'f']\n"
          ]
        }
      ]
    },
    {
      "cell_type": "markdown",
      "source": [
        "##Delete List Elements"
      ],
      "metadata": {
        "id": "-3MRKDvKfi_F"
      }
    },
    {
      "cell_type": "code",
      "source": [
        "x = [\"a\", \"b\", \"c\", \"d\"] # Create list\n",
        "del(x[1]) # Delete 1st index element\n",
        "print (x)"
      ],
      "metadata": {
        "colab": {
          "base_uri": "https://localhost:8080/"
        },
        "id": "ug9Pq2Khfsvg",
        "outputId": "cd18379b-0ed3-43ff-db75-6209538fed79"
      },
      "execution_count": null,
      "outputs": [
        {
          "output_type": "stream",
          "name": "stdout",
          "text": [
            "['a', 'c', 'd']\n"
          ]
        }
      ]
    },
    {
      "cell_type": "markdown",
      "source": [
        "##List Methods"
      ],
      "metadata": {
        "id": "ZIwJiYdnkDxo"
      }
    },
    {
      "cell_type": "code",
      "source": [
        "z = ['my', 'list', 'is', 'is', 'nice'] # Create List\n",
        "\n",
        "print (z.index ('is')) # Get the first index of an item\n",
        "\n",
        "print (z.count ('is')) # Count an item\n",
        "\n",
        "z.append ('!!!') # Append an item at a time\n",
        "print (z)\n",
        "\n",
        "z.remove ('is') # Remove an item at a time\n",
        "print (z)\n",
        "\n",
        "z = ['my', 'list', 'is', 'is', 'nice'] # Create List for following exercises\n",
        "\n",
        "del (z [-2]) # Remove items by indexing / slicing / subsetting\n",
        "print (z)\n",
        "       \n",
        "z.extend ('2') # Extend list\n",
        "print (z)\n",
        "\n",
        "z.pop (-1) # Remove index item\n",
        "print (z)\n",
        "\n",
        "z.insert (-1, 'NOT') # Insert an item before index position\n",
        "print (z)\n",
        "\n",
        "z.sort() # Sort list\n",
        "print (z)\n",
        "\n",
        "z.sort (reverse = True) # Reverse Sort\n",
        "print (z)\n",
        "\n",
        "z.reverse () # Reverse list # Cleaner Code\n",
        "print (z)"
      ],
      "metadata": {
        "colab": {
          "base_uri": "https://localhost:8080/"
        },
        "id": "XCA90yotkHB8",
        "outputId": "9959f12d-e24d-4d23-9eed-a6a912628cb2"
      },
      "execution_count": null,
      "outputs": [
        {
          "output_type": "stream",
          "name": "stdout",
          "text": [
            "2\n",
            "2\n",
            "['my', 'list', 'is', 'is', 'nice', '!!!']\n",
            "['my', 'list', 'is', 'nice', '!!!']\n",
            "['my', 'list', 'is', 'nice']\n",
            "['my', 'list', 'is', 'nice', '2']\n",
            "['my', 'list', 'is', 'nice']\n",
            "['my', 'list', 'is', 'NOT', 'nice']\n",
            "['NOT', 'is', 'list', 'my', 'nice']\n",
            "['nice', 'my', 'list', 'is', 'NOT']\n",
            "['NOT', 'is', 'list', 'my', 'nice']\n"
          ]
        }
      ]
    },
    {
      "cell_type": "markdown",
      "source": [
        "#Numpy Array\n",
        "### - Creates a n-dimensional array (ndarray) of any dimension\n",
        "### - CAN ONLY CONTAIN ONE DATA TYPE\n",
        "### - Different types will coerce array to strings\n",
        "### - Syntax : np.array( [ ] )\n",
        "### - Element wide vector arithmentics and advanced index, select and subset\n",
        "### - **Index starts at 0, start index included, end index excluded**\n",
        "### - NP attributes are called with dot. but are not methods (no round brackets after)\n",
        "\n",
        "\n",
        "\n",
        "\n"
      ],
      "metadata": {
        "id": "0aExusyaH35N"
      }
    },
    {
      "cell_type": "code",
      "source": [
        "# Create list baseball\n",
        "baseball = [180, 215, 210, 210, 188, 176, 209, 200] \n",
        "\n",
        "# Import the numpy package as np\n",
        "import numpy as np \n",
        "\n",
        "# Create NumPy array \n",
        "np_baseball_cm = np.array(baseball) \n",
        "\n",
        "# Create np array np_baseball_in by multiplying elements in np_baseball_cm by 0.394\n",
        "np_baseball_in = np_baseball_cm * 0.394 \n",
        "\n",
        "# Create boolean NP array of players < 80 in \n",
        "np_baseball_in_small = np_baseball_in < 80.00\n",
        "\n",
        "# Select players < 80 from array by passing bolena np array as index\n",
        "print (np_baseball_in [np_baseball_in_small]) "
      ],
      "metadata": {
        "colab": {
          "base_uri": "https://localhost:8080/"
        },
        "id": "F_Va4IHzIE1x",
        "outputId": "471ab40a-cb82-46e8-df32-7879e473db72"
      },
      "execution_count": 3,
      "outputs": [
        {
          "output_type": "stream",
          "name": "stdout",
          "text": [
            "[70.92  74.072 69.344 78.8  ]\n"
          ]
        }
      ]
    },
    {
      "cell_type": "markdown",
      "source": [
        "##2D Numpy Arrays\n",
        "### - Multi-demensional arrays work like improved list of lists\n",
        "### - Combine matrices with single numbers, vectors, and with other matrices\n",
        "### - Indexing, subsetting and slicing syntax : nparray [row index] [column index for that row]\n",
        "### - Indexing, subsetting and slicing Cleaner Code syntax : nparray [row index, column index for that row]\n"
      ],
      "metadata": {
        "id": "9hAgt0RNcrhO"
      }
    },
    {
      "cell_type": "code",
      "source": [
        "# Create 2d np array\n",
        "np_2d = np.array ([[0, 1, 2, 3, 4, 5], [10, 11, 12, 13, 14, 15]])\n",
        "\n",
        "# Use method dot.shape attribute (2 rows, 5 columns)\n",
        "print('Shape of np_2d is (rows, columns) : ', np_2d.shape) \n",
        "\n",
        "# # Subset Row 0, Index 2 \n",
        "print (np_2d [0] [2]) \n",
        "\n",
        "# Subset Row 0, Index 3 # Cleaner Code\n",
        "print (np_2d [1, 3]) \n",
        "\n",
        "# Subset all Rows and column indexes 1-2 (3rd index not included)\n",
        "print (np_2d [:, 1:3 ]) \n",
        "\n",
        "# Subset Row index 2 and All columns\n",
        "print (np_2d [1, :]) \n",
        "\n",
        "# Multiply all elements \n",
        "print (np_2d * 5) \n",
        "\n",
        "# Add 2d array and 2d array\n",
        "print (np_2d + np_2d)\n",
        "\n",
        "# Add 10 to 1st element, 11 to second element and so forth in each array\n",
        "print (np_2d + np.array ([10, 11, 12, 13, 14, 15]))"
      ],
      "metadata": {
        "colab": {
          "base_uri": "https://localhost:8080/"
        },
        "id": "-g5Sb6SEcqrh",
        "outputId": "763a794f-3461-4d37-a15c-17cee0305361"
      },
      "execution_count": 26,
      "outputs": [
        {
          "output_type": "stream",
          "name": "stdout",
          "text": [
            "Shape of np_2d is (rows, columns) :  (2, 6)\n",
            "2\n",
            "13\n",
            "[[ 1  2]\n",
            " [11 12]]\n",
            "[10 11 12 13 14 15]\n",
            "[[ 0  5 10 15 20 25]\n",
            " [50 55 60 65 70 75]]\n",
            "[[ 0  2  4  6  8 10]\n",
            " [20 22 24 26 28 30]]\n",
            "[[10 12 14 16 18 20]\n",
            " [20 22 24 26 28 30]]\n"
          ]
        }
      ]
    },
    {
      "cell_type": "markdown",
      "source": [
        "##Numpy Statistics\n",
        "### - Use Numpy Functions"
      ],
      "metadata": {
        "id": "jP6eB4UcKOds"
      }
    },
    {
      "cell_type": "code",
      "source": [
        "# Import Numpy\n",
        "import numpy as np\n",
        "\n",
        "# Create 2d np array\n",
        "x = np.array ([[1.73, 1.68, 1.71, 1.89, 1.79], [65.4, 59.2, 63.6, 88.4, 68.7]]) \n",
        "\n",
        "# Array shape\n",
        "print (x.shape) \n",
        "\n",
        "# Mean / Average of 1st row, all columns\n",
        "print (np.mean (x [0, :])) \n",
        "\n",
        "# Median of 2nd row, all columns\n",
        "print (np.median(x [1, :])) \n",
        "\n",
        "# Standard Deviation on All Rows, 1st colummn\n",
        "print (np.std (x [:, 0])) \n",
        "\n",
        "# Correlation between 1st and 2nd rows, All columns\n",
        "print (np.corrcoef (x [0, :], x [1:, :]))"
      ],
      "metadata": {
        "id": "qjbIJldkKRMC",
        "outputId": "a0375a13-74e7-42d4-d4fd-466fc5145e9a",
        "colab": {
          "base_uri": "https://localhost:8080/"
        }
      },
      "execution_count": 27,
      "outputs": [
        {
          "output_type": "stream",
          "name": "stdout",
          "text": [
            "(2, 5)\n",
            "1.7600000000000002\n",
            "65.4\n",
            "31.835000000000004\n",
            "[[1.         0.97514969]\n",
            " [0.97514969 1.        ]]\n"
          ]
        }
      ]
    },
    {
      "cell_type": "markdown",
      "source": [
        "## Numpy Advanced Statistics"
      ],
      "metadata": {
        "id": "ug6HFeSrnZj6"
      }
    },
    {
      "cell_type": "code",
      "source": [
        "# Create numpy array positions\n",
        "np_positions = np.array (['GK', 'MA', 'DA', 'GK', 'MA', 'DA'])\n",
        "\n",
        "# Create numpy array heights\n",
        "np_heights = np.array ([17, 16, 18, 19, 14, 12])\n",
        "\n",
        "# Extract heights GK players by passing Boolean argument for positions index to heights \n",
        "np_GK = np.array (np_heights [np_positions =='GK'])\n",
        "\n",
        "# Extract heights other players by passing Boolean argument for positions index to heights \n",
        "np_nonGK = np.array (np_heights [np_positions !='GK'])\n",
        "\n",
        "# Print median heights of GK and non GK\n",
        "print (np.median (np_GK), np.median (np_nonGK))"
      ],
      "metadata": {
        "colab": {
          "base_uri": "https://localhost:8080/"
        },
        "id": "pi2fpDBPnfIk",
        "outputId": "de12d072-3e31-4350-b524-722f689631eb"
      },
      "execution_count": 35,
      "outputs": [
        {
          "output_type": "stream",
          "name": "stdout",
          "text": [
            "18.0 15.0\n"
          ]
        }
      ]
    },
    {
      "cell_type": "markdown",
      "source": [
        "#MATPLOTLIB\n",
        "### - Use pyplot from matplotlib library"
      ],
      "metadata": {
        "id": "GX1P36pKrVFt"
      }
    },
    {
      "cell_type": "markdown",
      "source": [
        "##Line Plot"
      ],
      "metadata": {
        "id": "AHetUM2uulbC"
      }
    },
    {
      "cell_type": "code",
      "source": [
        "# Import pyplot from matplotlib package \n",
        "import matplotlib.pyplot as plt\n",
        "\n",
        "# Creat world population lists for graph\n",
        "year = [1950, 1960, 1970, 1980, 1990, 2000, 2010, 2020]\n",
        "pop = [1.5, 1.8, 2.0, 2.3, 2.7, 3.2, 3.4, 3.9]\n",
        "\n",
        "# Create line plot with year on x -axis and pop on y-axis\n",
        "plt.plot (year, pop)"
      ],
      "metadata": {
        "colab": {
          "base_uri": "https://localhost:8080/",
          "height": 285
        },
        "id": "sR8bkdIZtRJq",
        "outputId": "346d3574-69ff-4ce2-e76d-9a6251f0695b"
      },
      "execution_count": 42,
      "outputs": [
        {
          "output_type": "execute_result",
          "data": {
            "text/plain": [
              "[<matplotlib.lines.Line2D at 0x7f47eb2bfe10>]"
            ]
          },
          "metadata": {},
          "execution_count": 42
        },
        {
          "output_type": "display_data",
          "data": {
            "text/plain": [
              "<Figure size 432x288 with 1 Axes>"
            ],
            "image/png": "[encoded data removed]"
          },
          "metadata": {
            "needs_background": "light"
          }
        }
      ]
    },
    {
      "cell_type": "markdown",
      "source": [
        "##Scatter Plot"
      ],
      "metadata": {
        "id": "g4N0vpdYurnh"
      }
    },
    {
      "cell_type": "code",
      "source": [
        "# Create scatter plot with year on x -axis and pop on y-axis\n",
        "plt.scatter (year, pop)"
      ],
      "metadata": {
        "colab": {
          "base_uri": "https://localhost:8080/",
          "height": 285
        },
        "id": "BZmeGgq0uuSk",
        "outputId": "673b0ff6-02b5-41f7-8674-654e90204a98"
      },
      "execution_count": 44,
      "outputs": [
        {
          "output_type": "execute_result",
          "data": {
            "text/plain": [
              "<matplotlib.collections.PathCollection at 0x7f47eac4c190>"
            ]
          },
          "metadata": {},
          "execution_count": 44
        },
        {
          "output_type": "display_data",
          "data": {
            "text/plain": [
              "<Figure size 432x288 with 1 Axes>"
            ],
            "image/png": "[encoded data removed]"
          },
          "metadata": {
            "needs_background": "light"
          }
        }
      ]
    },
    {
      "cell_type": "markdown",
      "source": [
        "##Histogram\n",
        "### - Distribution over single value\n",
        "### - Default bin size is 10"
      ],
      "metadata": {
        "id": "gqltR5HMvU-e"
      }
    },
    {
      "cell_type": "code",
      "source": [
        "# Create list of life expectancy for 10 countries4\n",
        "life = [80, 75, 82, 69, 96, 79, 80, 75, 96, 100]\n",
        "\n",
        "# Create histogram of the life expectancy to find the distribution\n",
        "plt.hist (life)"
      ],
      "metadata": {
        "colab": {
          "base_uri": "https://localhost:8080/",
          "height": 334
        },
        "id": "njWl1wanvd1H",
        "outputId": "c432efd9-66d5-483e-8bc9-7542db11ed82"
      },
      "execution_count": 47,
      "outputs": [
        {
          "output_type": "execute_result",
          "data": {
            "text/plain": [
              "(array([1., 2., 0., 3., 1., 0., 0., 0., 2., 1.]),\n",
              " array([ 69. ,  72.1,  75.2,  78.3,  81.4,  84.5,  87.6,  90.7,  93.8,\n",
              "         96.9, 100. ]),\n",
              " <a list of 10 Patch objects>)"
            ]
          },
          "metadata": {},
          "execution_count": 47
        },
        {
          "output_type": "display_data",
          "data": {
            "text/plain": [
              "<Figure size 432x288 with 1 Axes>"
            ],
            "image/png": "[encoded data removed]"
          },
          "metadata": {
            "needs_background": "light"
          }
        }
      ]
    },
    {
      "cell_type": "code",
      "source": [
        "# Create histogram of the life expectancy to find the distribution, bin size = 5\n",
        "plt.hist (life, bins = 5)"
      ],
      "metadata": {
        "colab": {
          "base_uri": "https://localhost:8080/",
          "height": 317
        },
        "id": "aTb23P4fv5nS",
        "outputId": "d29b5463-6a80-4d97-f6d1-5d19dc6617d9"
      },
      "execution_count": 48,
      "outputs": [
        {
          "output_type": "execute_result",
          "data": {
            "text/plain": [
              "(array([3., 3., 1., 0., 3.]),\n",
              " array([ 69. ,  75.2,  81.4,  87.6,  93.8, 100. ]),\n",
              " <a list of 5 Patch objects>)"
            ]
          },
          "metadata": {},
          "execution_count": 48
        },
        {
          "output_type": "display_data",
          "data": {
            "text/plain": [
              "<Figure size 432x288 with 1 Axes>"
            ],
            "image/png": "[encoded data removed]"
          },
          "metadata": {
            "needs_background": "light"
          }
        }
      ]
    },
    {
      "cell_type": "markdown",
      "source": [
        "##Customise Plots 1\n",
        "### - Label x-axis\n",
        "### - Label y-axis\n",
        "### - Label plot title\n",
        "### - Make an axis logarithmic"
      ],
      "metadata": {
        "id": "2-MZQhFfwcqu"
      }
    },
    {
      "cell_type": "code",
      "source": [
        "# Import pyplot from matplotlib package \n",
        "import matplotlib.pyplot as plt\n",
        "\n",
        "# Creat world population lists for graph\n",
        "year = [1950, 1960, 1970, 1980, 1990, 2000, 2010, 2020]\n",
        "pop = [1.5, 1.8, 2.0, 2.3, 2.7, 3.2, 3.4, 3.9]\n",
        "\n",
        "# Label x-axis with xlabel\n",
        "plt.xlabel ('Population in Billions')\n",
        "\n",
        "# Label y-axis with ylabel\n",
        "plt.ylabel ('Year')\n",
        "\n",
        "# Label plot name with title\n",
        "plt.title ('World Development')\n",
        "\n",
        "# Make y-axis logarithmic scale with yscale('log')\n",
        "plt.yscale ('log')\n",
        "\n",
        "# Call plot \n",
        "plt.plot (year, pop)"
      ],
      "metadata": {
        "colab": {
          "base_uri": "https://localhost:8080/",
          "height": 312
        },
        "id": "nhIQRveewhkb",
        "outputId": "d05cc774-94f9-477d-a8cb-196dce76510c"
      },
      "execution_count": 53,
      "outputs": [
        {
          "output_type": "execute_result",
          "data": {
            "text/plain": [
              "[<matplotlib.lines.Line2D at 0x7f47e2f6a550>]"
            ]
          },
          "metadata": {},
          "execution_count": 53
        },
        {
          "output_type": "display_data",
          "data": {
            "text/plain": [
              "<Figure size 432x288 with 1 Axes>"
            ],
            "image/png": "[encoded data removed]"
          },
          "metadata": {
            "needs_background": "light"
          }
        }
      ]
    },
    {
      "cell_type": "markdown",
      "source": [
        "##Customise Plots 2\n",
        "### - Tick Values"
      ],
      "metadata": {
        "id": "gqPlOLkC0PH7"
      }
    },
    {
      "cell_type": "code",
      "source": [
        "# Import pyplot from matplotlib package \n",
        "import matplotlib.pyplot as plt\n",
        "\n",
        "# Creat world population lists for graph\n",
        "year = [1950, 1960, 1970, 1980, 1990, 2000, 2010, 2020]\n",
        "pop = [1.5, 1.8, 2.0, 2.3, 2.7, 3.2, 3.4, 3.9]\n",
        "\n",
        "# Previous customisations\n",
        "plt.xlabel ('Year')\n",
        "plt.ylabel ('Population in Billions')\n",
        "plt.title ('World Development')\n",
        "plt.yscale ('log')\n",
        "\n",
        "# Create tick values\n",
        "tick_val = [1, 2, 3, 4]\n",
        "tick_lab = ['1k', '2k', '3k', '4k']\n",
        "\n",
        "# Adapt the ticks on the y-axis with yticks\n",
        "plt.yticks (tick_val, tick_lab)\n",
        "\n",
        "# Call plot\n",
        "plt.plot (year, pop)"
      ],
      "metadata": {
        "id": "hNNVPFMG0hGz",
        "outputId": "159589c7-c06b-4250-ee34-9d37e812f90d",
        "colab": {
          "base_uri": "https://localhost:8080/",
          "height": 312
        }
      },
      "execution_count": 63,
      "outputs": [
        {
          "output_type": "execute_result",
          "data": {
            "text/plain": [
              "[<matplotlib.lines.Line2D at 0x7f47e2e054d0>]"
            ]
          },
          "metadata": {},
          "execution_count": 63
        },
        {
          "output_type": "display_data",
          "data": {
            "text/plain": [
              "<Figure size 432x288 with 1 Axes>"
            ],
            "image/png": "[encoded data removed]"
          },
          "metadata": {
            "needs_background": "light"
          }
        }
      ]
    },
    {
      "cell_type": "code",
      "source": [
        ""
      ],
      "metadata": {
        "id": "oZhAN9Iz03nL"
      },
      "execution_count": null,
      "outputs": []
    }
  ]
}