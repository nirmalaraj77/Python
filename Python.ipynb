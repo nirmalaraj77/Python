{
  "nbformat": 4,
  "nbformat_minor": 0,
  "metadata": {
    "colab": {
      "provenance": [],
      "authorship_tag": "ABX9TyPWqwAkB1maZG8B6L7NmY6K",
      "include_colab_link": true
    },
    "kernelspec": {
      "name": "python3",
      "display_name": "Python 3"
    },
    "language_info": {
      "name": "python"
    }
  },
  "cells": [
    {
      "cell_type": "markdown",
      "metadata": {
        "id": "view-in-github",
        "colab_type": "text"
      },
      "source": [
        "<a href=\"https://colab.research.google.com/github/nirmalaraj77/Python/blob/main/Python.ipynb\" target=\"_parent\"><img src=\"https://colab.research.google.com/assets/colab-badge.svg\" alt=\"Open In Colab\"/></a>"
      ]
    },
    {
      "cell_type": "markdown",
      "source": [
        "#**JOINING DATA WITH PANDAS**"
      ],
      "metadata": {
        "id": "cs6FQCTYDzu3"
      }
    },
    {
      "cell_type": "markdown",
      "source": [
        "##**Inner Joins**\n",
        "* df.shape\n",
        "* df.columns\n",
        "* df['column'].value_counts\n",
        "* df[['column']].head()\n",
        "* pd.read_pickle\n",
        "* \\ line continuation as single line\n",
        "\n",
        "* group by column and aggregate\n",
        "* grouped_df = df.groupby('column1').agg({'column2':'count'})\n",
        "\n",
        "* group by column and sum\n",
        "* grouped_df = df.groupby('column1').sum\n",
        "\n",
        "* group multiple df columns - enter as list to .groupby() method\n",
        "\n",
        "* sort desending\n",
        "* sorted_df = df.sort_values('columns', ascending=False)\n",
        "\n",
        "* sort multiple df columns -  enter as list to .sort_values() method\n",
        "\n",
        "* ascending argument accepts a list of Booleans\n",
        "\n",
        "\n",
        "###**Merge on common column name**\n",
        "* inner join\n",
        "* only returns matching values in both tables\n",
        "* columns in 1st table comes first\n",
        "* _x and _y - generated if common columns exist\n",
        "* suffixes = argumnent to control _x and _y naming\n"
      ],
      "metadata": {
        "id": "AQ5UGOarD8FK"
      }
    },
    {
      "cell_type": "code",
      "source": [
        "# Import libraries and datasets\n",
        "\n",
        "import pandas as pd\n",
        "\n",
        "census = pd.read_pickle('https://raw.githubusercontent.com/nirmalaraj77/datasets/main/census.p')\n",
        "\n",
        "wards = pd.read_pickle('https://raw.githubusercontent.com/nirmalaraj77/datasets/main/ward.p')\n",
        "\n",
        "licenses = pd.read_pickle('https://raw.githubusercontent.com/nirmalaraj77/datasets/main/licenses.p')\n",
        "\n",
        "biz_owners = pd.read_pickle('https://raw.githubusercontent.com/nirmalaraj77/datasets/main/business_owners.p')\n",
        "\n",
        "cal = pd.read_pickle('https://raw.githubusercontent.com/nirmalaraj77/datasets/main/calendar.p')\n",
        "\n",
        "ridership = pd.read_pickle('https://raw.githubusercontent.com/nirmalaraj77/datasets/main/ridership.p')\n",
        "\n",
        "stations = pd.read_pickle('https://raw.githubusercontent.com/nirmalaraj77/datasets/main/stations.p')\n",
        "\n",
        "zip_demo = pd.read_pickle('https://raw.githubusercontent.com/nirmalaraj77/datasets/main/zip_demo.p')\n",
        "\n",
        "land_use = pd.read_pickle('https://raw.githubusercontent.com/nirmalaraj77/datasets/main/land_use.p')\n",
        "\n",
        "actors = pd.read_csv('https://raw.githubusercontent.com/nirmalaraj77/datasets/main/actors_movies.csv.xls')\n",
        "\n",
        "movies = pd.read_pickle('https://raw.githubusercontent.com/nirmalaraj77/datasets/main/movies.p')\n",
        "\n",
        "taglines = pd.read_pickle('https://raw.githubusercontent.com/nirmalaraj77/datasets/main/taglines.p')"
      ],
      "metadata": {
        "id": "mYNFe-b-D7lS"
      },
      "execution_count": 80,
      "outputs": []
    },
    {
      "cell_type": "code",
      "source": [
        "# Print shapes (number of rows and columns) and column names\n",
        "print('wards: ' , wards.shape , wards.columns)\n",
        "print('census: ' , census.shape, census.columns)"
      ],
      "metadata": {
        "id": "cIXvr2cj1uoV",
        "outputId": "428eddfb-e9ec-45e6-844e-06ca144e887a",
        "colab": {
          "base_uri": "https://localhost:8080/"
        }
      },
      "execution_count": 34,
      "outputs": [
        {
          "output_type": "stream",
          "name": "stdout",
          "text": [
            "wards:  (50, 4) Index(['ward', 'alderman', 'address', 'zip'], dtype='object')\n",
            "census:  (50, 6) Index(['ward', 'pop_2000', 'pop_2010', 'change', 'address', 'zip'], dtype='object')\n"
          ]
        }
      ]
    },
    {
      "cell_type": "code",
      "source": [
        "# Merge wards and census with suffixes\n",
        "wards_census = wards.merge(census, on='ward', suffixes = ('_ward', '_census'))\n",
        "\n",
        "print(wards_census.shape)\n",
        "print (wards_census.columns)"
      ],
      "metadata": {
        "id": "NvElgDCw3H_0",
        "outputId": "df361894-689e-4270-94ba-edb7a26d49d9",
        "colab": {
          "base_uri": "https://localhost:8080/"
        }
      },
      "execution_count": 29,
      "outputs": [
        {
          "output_type": "stream",
          "name": "stdout",
          "text": [
            "(50, 9)\n",
            "Index(['ward', 'alderman', 'address_ward', 'zip_ward', 'pop_2000', 'pop_2010',\n",
            "       'change', 'address_census', 'zip_census'],\n",
            "      dtype='object')\n"
          ]
        }
      ]
    },
    {
      "cell_type": "code",
      "source": [
        "# Count value of the change column\n",
        "print(wards_census['change'].value_counts())"
      ],
      "metadata": {
        "id": "djbp20aI7kVk",
        "outputId": "7c4c165c-8cb3-4ed5-8d6f-189ac309de85",
        "colab": {
          "base_uri": "https://localhost:8080/"
        }
      },
      "execution_count": 26,
      "outputs": [
        {
          "output_type": "stream",
          "name": "stdout",
          "text": [
            "change\n",
            "-8%     4\n",
            "-6%     4\n",
            "-4%     4\n",
            "-5%     3\n",
            "3%      3\n",
            "-17%    2\n",
            "-13%    2\n",
            "-11%    2\n",
            "-14%    2\n",
            "-3%     2\n",
            "0%      2\n",
            "6%      2\n",
            "-24%    2\n",
            "5%      2\n",
            "-33%    1\n",
            "-20%    1\n",
            "1%      1\n",
            "-9%     1\n",
            "-10%    1\n",
            "-16%    1\n",
            "8%      1\n",
            "-1%     1\n",
            "-7%     1\n",
            "12%     1\n",
            "31%     1\n",
            "-15%    1\n",
            "-18%    1\n",
            "-2%     1\n",
            "Name: count, dtype: int64\n"
          ]
        }
      ]
    },
    {
      "cell_type": "markdown",
      "source": [
        "##**One-to-Many Relationships**\n",
        "\n",
        "* **every row in left table is related to one or more in right table**\n",
        "\n",
        "* **esulting table will have many rows fro left table matching each value in right table**\n",
        "\n"
      ],
      "metadata": {
        "id": "xAvnyEi3-4s8"
      }
    },
    {
      "cell_type": "code",
      "source": [
        "# Merge wards with lecenses\n",
        "\n",
        "wards_licenses = wards.merge(licenses, on='ward')\n",
        "\n",
        "print(wards_licenses.shape)\n",
        "print(wards_licenses.head(10))"
      ],
      "metadata": {
        "id": "Ab9Qo8mpB5tb",
        "outputId": "76640696-9b15-416e-c42d-e3516ebfce98",
        "colab": {
          "base_uri": "https://localhost:8080/"
        }
      },
      "execution_count": 40,
      "outputs": [
        {
          "output_type": "stream",
          "name": "stdout",
          "text": [
            "(10000, 9)\n",
            "  ward            alderman                  address_x  zip_x account  aid  \\\n",
            "0    1  Proco \"Joe\" Moreno  2058 NORTH WESTERN AVENUE  60647   12024  NaN   \n",
            "1    1  Proco \"Joe\" Moreno  2058 NORTH WESTERN AVENUE  60647   14446  743   \n",
            "2    1  Proco \"Joe\" Moreno  2058 NORTH WESTERN AVENUE  60647   14624  775   \n",
            "3    1  Proco \"Joe\" Moreno  2058 NORTH WESTERN AVENUE  60647   14987  NaN   \n",
            "4    1  Proco \"Joe\" Moreno  2058 NORTH WESTERN AVENUE  60647   15642  814   \n",
            "5    1  Proco \"Joe\" Moreno  2058 NORTH WESTERN AVENUE  60647   16004  NaN   \n",
            "6    1  Proco \"Joe\" Moreno  2058 NORTH WESTERN AVENUE  60647   16497  638   \n",
            "7    1  Proco \"Joe\" Moreno  2058 NORTH WESTERN AVENUE  60647   16547  763   \n",
            "8    1  Proco \"Joe\" Moreno  2058 NORTH WESTERN AVENUE  60647   16662  763   \n",
            "9    1  Proco \"Joe\" Moreno  2058 NORTH WESTERN AVENUE  60647   16899  775   \n",
            "\n",
            "                   business                   address_y  zip_y  \n",
            "0       DIGILOG ELECTRONICS          1038 N ASHLAND AVE  60622  \n",
            "1          EMPTY BOTTLE INC      1035 N WESTERN AVE 1ST  60622  \n",
            "2      LITTLE MEL'S HOT DOG       2205 N CALIFORNIA AVE  60647  \n",
            "3        MR. BROWN'S LOUNGE      2301 W CHICAGO AVE 1ST  60622  \n",
            "4              Beat Kitchen     2000-2100 W DIVISION ST  60622  \n",
            "5   EL NUEVO NARANJO LOUNGE    2210 N MILWAUKEE AVE 1ST  60647  \n",
            "6               BELLA NOTTE            1374 W GRAND AVE  60642  \n",
            "7      PETE'S FOOD & LIQUOR     2556 W ARMITAGE AVE 1ST  60647  \n",
            "8  BUCK TOWN FOOD & LIQUORS        1950 N MILWAUKEE AVE  60647  \n",
            "9              JACK'S PLACE  2917 W ARMITAGE AVE  GROUN  60647  \n"
          ]
        }
      ]
    },
    {
      "cell_type": "code",
      "source": [
        "# Merge the licenses and biz_owners table on account\n",
        "licenses_owners = licenses.merge(biz_owners, on='account')\n",
        "\n",
        "# Group the results by title then count the number of accounts\n",
        "counted_df = licenses_owners.groupby('title').agg({'account':'count'})\n",
        "\n",
        "# Sort the counted_df in desending order\n",
        "sorted_df = counted_df.sort_values('account', ascending=False)\n",
        "\n",
        "# Use .head() method to print the first few rows of sorted_df\n",
        "print(sorted_df.head())"
      ],
      "metadata": {
        "id": "eZ3thSqXDbv5",
        "outputId": "c962a837-77cb-4bc0-c489-e0929cf61a2e",
        "colab": {
          "base_uri": "https://localhost:8080/"
        }
      },
      "execution_count": 44,
      "outputs": [
        {
          "output_type": "stream",
          "name": "stdout",
          "text": [
            "                 account\n",
            "title                   \n",
            "PRESIDENT           6259\n",
            "SECRETARY           5205\n",
            "SOLE PROPRIETOR     1658\n",
            "OTHER               1200\n",
            "VICE PRESIDENT       970\n"
          ]
        }
      ]
    },
    {
      "cell_type": "markdown",
      "source": [
        "##**Merging Multiple DataFrames**\n",
        "\n",
        "* df1.merge(df2, on =['col', 'col'].merge(df2, on='col').merge(df3, on='col')...\n",
        "\n",
        "* use \\ python line continuation..\n",
        "\n",
        "\n"
      ],
      "metadata": {
        "id": "YdIbPhjbF8rm"
      }
    },
    {
      "cell_type": "code",
      "source": [
        "# Find the total rides through Wilson Station in July 2019 in weekdays\n",
        "\n",
        "# Merge the ridership, cal, and stations tables\n",
        "ridership_cal_stations = ridership.merge(cal, on=['year','month','day']) \\\n",
        "\t\t\t\t\t\t\t.merge(stations, on='station_id')\n",
        "\n",
        "# Create a filter to filter ridership_cal_stations\n",
        "filter_criteria = ((ridership_cal_stations['month'] == 7)\n",
        "                   & (ridership_cal_stations['day_type'] == 'Weekday')\n",
        "                   & (ridership_cal_stations['station_name'] == 'Wilson'))\n",
        "\n",
        "# Use .loc and the filter to select for rides\n",
        "print ('Total rides through Wilson Station in July 2019 in weekdays were : '\\\n",
        " ,(ridership_cal_stations.loc[filter_criteria, 'rides'].sum()))\n",
        "\n"
      ],
      "metadata": {
        "id": "rFQFxOTsJ_IZ",
        "outputId": "f6dac9e3-152a-4abe-a124-e5a04010a664",
        "colab": {
          "base_uri": "https://localhost:8080/"
        }
      },
      "execution_count": 74,
      "outputs": [
        {
          "output_type": "stream",
          "name": "stdout",
          "text": [
            "Total rides through Wilson Station in July 2019 in weekdays were :  140005\n"
          ]
        }
      ]
    },
    {
      "cell_type": "code",
      "source": [
        "# Merge licenses and zip_demo, on zip; and merge the wards on ward\n",
        "licenses_zip_ward = licenses.merge(zip_demo, on='zip') \\\n",
        "            \t\t\t.merge(wards, on='ward')\n",
        "\n",
        "# Print the results by alderman and show median income\n",
        "print(licenses_zip_ward.groupby('alderman').agg({'income':'median'}))"
      ],
      "metadata": {
        "id": "cezPZAQYRvMz",
        "outputId": "88dba65f-df9d-44c1-98bb-9f106b46036e",
        "colab": {
          "base_uri": "https://localhost:8080/"
        }
      },
      "execution_count": 76,
      "outputs": [
        {
          "output_type": "stream",
          "name": "stdout",
          "text": [
            "                             income\n",
            "alderman                           \n",
            "Ameya Pawar                 66246.0\n",
            "Anthony A. Beale            38206.0\n",
            "Anthony V. Napolitano       82226.0\n",
            "Ariel E. Reyboras           41307.0\n",
            "Brendan Reilly             110215.0\n",
            "Brian Hopkins               87143.0\n",
            "Carlos Ramirez-Rosa         66246.0\n",
            "Carrie M. Austin            38206.0\n",
            "Chris Taliaferro            55566.0\n",
            "Daniel \"Danny\" Solis        41226.0\n",
            "David H. Moore              33304.0\n",
            "Deborah Mell                66246.0\n",
            "Debra L. Silverstein        50554.0\n",
            "Derrick G. Curtis           65770.0\n",
            "Edward M. Burke             42335.0\n",
            "Emma M. Mitts               36283.0\n",
            "George Cardenas             33959.0\n",
            "Gilbert Villegas            41307.0\n",
            "Gregory I. Mitchell         24941.0\n",
            "Harry Osterman              45442.0\n",
            "Howard B. Brookins, Jr.     33304.0\n",
            "James Cappleman             79565.0\n",
            "Jason C. Ervin              41226.0\n",
            "Joe Moore                   39163.0\n",
            "John S. Arena               70122.0\n",
            "Leslie A. Hairston          28024.0\n",
            "Margaret Laurino            70122.0\n",
            "Marty Quinn                 67045.0\n",
            "Matthew J. O'Shea           59488.0\n",
            "Michael R. Zalewski         42335.0\n",
            "Michael Scott, Jr.          31445.0\n",
            "Michelle A. Harris          32558.0\n",
            "Michelle Smith             100116.0\n",
            "Milagros \"Milly\" Santiago   41307.0\n",
            "Nicholas Sposato            62223.0\n",
            "Pat Dowell                  46340.0\n",
            "Patrick Daley Thompson      41226.0\n",
            "Patrick J. O'Connor         50554.0\n",
            "Proco \"Joe\" Moreno          87143.0\n",
            "Raymond A. Lopez            33959.0\n",
            "Ricardo Munoz               31445.0\n",
            "Roberto Maldonado           68223.0\n",
            "Roderick T. Sawyer          32558.0\n",
            "Scott Waguespack            68223.0\n",
            "Susan Sadlowski Garza       38417.0\n",
            "Tom Tunney                  88708.0\n",
            "Toni L. Foulkes             27573.0\n",
            "Walter Burnett, Jr.         87143.0\n",
            "William D. Burns           107811.0\n",
            "Willie B. Cochran           28024.0\n"
          ]
        }
      ]
    },
    {
      "cell_type": "code",
      "source": [
        "# Merge land_use and census and merge result with licenses including suffixes\n",
        "land_cen_lic = land_use.merge(census, on='ward') \\\n",
        "                    .merge(licenses, on='ward', suffixes=('_cen','_lic'))\n",
        "\n",
        "# Group by ward, pop_2010, and vacant, then count the # of accounts\n",
        "pop_vac_lic = land_cen_lic.groupby(['ward','pop_2010','vacant'],\n",
        "                                   as_index=False).agg({'account':'count'})\n",
        "\n",
        "# Sort pop_vac_lic and print the results\n",
        "sorted_pop_vac_lic = pop_vac_lic.sort_values(['vacant', 'account', 'pop_2010'],\n",
        "                                             ascending=[False, True, True])\n",
        "\n",
        "# Print the top few rows of sorted_pop_vac_lic\n",
        "print(sorted_pop_vac_lic.head())"
      ],
      "metadata": {
        "id": "NfuQlAmXV3NS",
        "outputId": "99ce986a-7ba3-4f10-bf5a-9e0818cc617f",
        "colab": {
          "base_uri": "https://localhost:8080/"
        }
      },
      "execution_count": 78,
      "outputs": [
        {
          "output_type": "stream",
          "name": "stdout",
          "text": [
            "   ward  pop_2010  vacant  account\n",
            "47    7     51581      19       80\n",
            "12   20     52372      15      123\n",
            "1    10     51535      14      130\n",
            "16   24     54909      13       98\n",
            "7    16     51954      13      156\n"
          ]
        }
      ]
    },
    {
      "cell_type": "markdown",
      "source": [
        "##**Left Join**\n",
        "\n",
        "* all rows from left table and only matching rows from right table\n",
        "\n",
        "* null values created for non-matches\n",
        "\n",
        "* how = 'left'\n",
        "\n"
      ],
      "metadata": {
        "id": "hQGUwXsjWf4A"
      }
    },
    {
      "cell_type": "code",
      "source": [
        "# Left join movies and taglines\n",
        "\n",
        "movies_taglines = movies.merge(taglines, on='id', how='left')\n",
        "\n",
        "print(movies_taglines.head())"
      ],
      "metadata": {
        "id": "K-vqvvZKYpUU",
        "outputId": "bdf1909b-48f1-4a47-97ba-16628e2032db",
        "colab": {
          "base_uri": "https://localhost:8080/"
        }
      },
      "execution_count": 81,
      "outputs": [
        {
          "output_type": "stream",
          "name": "stdout",
          "text": [
            "      id                 title  popularity release_date  \\\n",
            "0    257          Oliver Twist   20.415572   2005-09-23   \n",
            "1  14290  Better Luck Tomorrow    3.877036   2002-01-12   \n",
            "2  38365             Grown Ups   38.864027   2010-06-24   \n",
            "3   9672              Infamous    3.680896   2006-11-16   \n",
            "4  12819       Alpha and Omega   12.300789   2010-09-17   \n",
            "\n",
            "                                           tagline  \n",
            "0                                              NaN  \n",
            "1             Never underestimate an overachiever.  \n",
            "2  Boys will be boys. . . some longer than others.  \n",
            "3          There's more to the story than you know  \n",
            "4                           A Pawsome 3D Adventure  \n"
          ]
        }
      ]
    }
  ]
}