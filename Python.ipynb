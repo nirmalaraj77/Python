{
  "nbformat": 4,
  "nbformat_minor": 0,
  "metadata": {
    "colab": {
      "provenance": [],
      "authorship_tag": "ABX9TyP/ZY/GoAU9PCRlMRn8bZvS",
      "include_colab_link": true
    },
    "kernelspec": {
      "name": "python3",
      "display_name": "Python 3"
    },
    "language_info": {
      "name": "python"
    }
  },
  "cells": [
    {
      "cell_type": "markdown",
      "metadata": {
        "id": "view-in-github",
        "colab_type": "text"
      },
      "source": [
        "<a href=\"https://colab.research.google.com/github/nirmalaraj77/Python/blob/main/Python.ipynb\" target=\"_parent\"><img src=\"https://colab.research.google.com/assets/colab-badge.svg\" alt=\"Open In Colab\"/></a>"
      ]
    },
    {
      "cell_type": "markdown",
      "source": [
        "#**JOINING DATA WITH PANDAS**"
      ],
      "metadata": {
        "id": "cs6FQCTYDzu3"
      }
    },
    {
      "cell_type": "markdown",
      "source": [
        "##**Inner Joins**"
      ],
      "metadata": {
        "id": "AQ5UGOarD8FK"
      }
    },
    {
      "cell_type": "code",
      "source": [],
      "metadata": {
        "id": "mYNFe-b-D7lS"
      },
      "execution_count": null,
      "outputs": []
    },
    {
      "cell_type": "code",
      "execution_count": null,
      "metadata": {
        "id": "gV9a1MW8amDH"
      },
      "outputs": [],
      "source": []
    }
  ]
}