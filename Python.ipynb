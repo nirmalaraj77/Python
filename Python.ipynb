{
  "nbformat": 4,
  "nbformat_minor": 0,
  "metadata": {
    "colab": {
      "provenance": [],
      "authorship_tag": "ABX9TyNvL0WQz/yF/z+d0YQtdPKh",
      "include_colab_link": true
    },
    "kernelspec": {
      "name": "python3",
      "display_name": "Python 3"
    },
    "language_info": {
      "name": "python"
    }
  },
  "cells": [
    {
      "cell_type": "markdown",
      "metadata": {
        "id": "view-in-github",
        "colab_type": "text"
      },
      "source": [
        "<a href=\"https://colab.research.google.com/github/nirmalaraj77/Python/blob/main/Python.ipynb\" target=\"_parent\"><img src=\"https://colab.research.google.com/assets/colab-badge.svg\" alt=\"Open In Colab\"/></a>"
      ]
    },
    {
      "cell_type": "markdown",
      "source": [
        "#**DATA MANIPULATION WITH PYTHON**"
      ],
      "metadata": {
        "id": "hqa4wkfHcTCZ"
      }
    },
    {
      "cell_type": "markdown",
      "source": [
        "#**DATA MANIPULATION WITH PANDAS**\n",
        "\n"
      ],
      "metadata": {
        "id": "VzdNYQyyEyPQ"
      }
    },
    {
      "cell_type": "code",
      "source": [
        "# import libraries and datasets\n",
        "import pandas as pd\n",
        "import numpy as np\n",
        "import matplotlib.pyplot as plt\n",
        "\n",
        "sales = pd.read_csv('https://raw.githubusercontent.com/nirmalaraj77/datasets/main/walmart.csv')\n",
        "temperatures = pd.read_csv('https://raw.githubusercontent.com/nirmalaraj77/datasets/main/temperatures.csv')\n",
        "avocados = pd.read_pickle('https://raw.githubusercontent.com/nirmalaraj77/datasets/main/avocado.pkl')\n"
      ],
      "metadata": {
        "id": "QVkJKmWJiTGl"
      },
      "execution_count": null,
      "outputs": []
    },
    {
      "cell_type": "markdown",
      "source": [
        "##**Transforming DataFrames**\n",
        "\n",
        "###**DataFrame Information**\n",
        "\n",
        "* df.head()\n",
        "\n",
        "* df.info()\n",
        "\n",
        "* df.shape - method, not function\n",
        "\n",
        "* df.describe()\n",
        "\n",
        "* df.values - method, not function\n",
        "\n",
        "* df.columns - method, not function\n",
        "\n",
        "* df.index - method, not function\n",
        "\n",
        "###**Sorting**\n",
        "\n",
        "* df.sort_values('col1', ascending=False)\n",
        "\n",
        "* df.sort_values(['col1', 'col2'], ascending=[True, False])\n",
        "\n",
        "###**Subsetting**\n",
        "\n",
        "* df[['col1', 'col2]]\n",
        "\n",
        "* df['col1'] > 100 - Boolean\n",
        "\n",
        "* df[df['col'] > 100]\n",
        "\n",
        "* df[df['col'] ==\"text\"]\n",
        "\n",
        "* df[df['date_of_birth'] > '1999-01-01']\n",
        "\n",
        "###**Subsetting multiple columns**\n",
        "* df1 = df['col1'] == 'text'\n",
        "* df2 = df['col2] < 100\n",
        "* df [df1 & df2]\n",
        "\n",
        "* dogs [ (dogs['breed'] == \"labrador\") & (dogs['color'] == \"white\") ]\n",
        "\n",
        "###**Subsetting using .isin()**\n",
        "* colors=['brown', 'black', 'tan\"]\n",
        "* condition = dogs['color'].isin(colors)\n",
        "* dogs[condition]\n",
        "\n",
        "* is_black_or_brown = dogs['color'].isin([\"black\", \"brown\"])\n",
        "* dogs[is_black_or_brown]\n",
        "\n",
        "###**Add Column**\n",
        "* df['col_x'] = df['col_y'] / 100\n",
        "\n",
        "\n",
        "###**Drop Duplicates**\n",
        "\n",
        "* .drop_duplicates(subset=''col1')\n",
        "\n",
        "* vet_visits.drop_duplicates(subset=['name', 'breed'])\n",
        "\n"
      ],
      "metadata": {
        "id": "yACHw6eoIabm"
      }
    },
    {
      "cell_type": "markdown",
      "source": [
        "##**Aggregating DataFrames**\n",
        "\n",
        "###**Drop Duplicates**\n",
        "\n",
        "* .drop_duplicates(subset=''col1')\n",
        "\n",
        "* vet_visits.drop_duplicates(subset=['name', 'breed'])\n",
        "\n",
        "\n",
        "###**Summary Statistics**\n",
        "\n",
        "* df['col1'].mean()\n",
        "\n",
        "* .median()\n",
        "* .mode()\n",
        "* .min()\n",
        "* .max()\n",
        "* .var()\n",
        "* .std()\n",
        "* .sum()\n",
        "* .quantile()\n",
        "\n",
        "* df['date'].min()\n",
        "\n",
        "* dogs[dogs['color'] == \"white\"]['weight_kg'].mean()\n",
        "\n",
        "* also - sum(variable)\n",
        "\n",
        "###**.agg method**\n",
        "\n",
        "* apply custom functions\n",
        "\n",
        "* apply functions to more than 1 column\n",
        "\n",
        "* def pct30(column):<br>\n",
        "    return column.quantile(0.3)\n",
        "\n",
        "* def pct40(column):<br>\n",
        "  return column.quantile(0.4)\n",
        "\n",
        "* dogs['weight_kg'].agg([pct30, pct40])\n",
        "\n",
        "* dogs[['weight_kg', 'height__cm']].agg([pct30, np.median])\n",
        "\n",
        "* dogs['weight_kg'].agg([pct30, np.median])\n",
        "\n",
        "\n",
        "###**Cumulative Statistics (sort by any dates first)**\n",
        "\n",
        "* .cumsum()\n",
        "\n",
        "* .cummax()\n",
        "\n",
        "* .cummin()\n",
        "\n",
        "* *cumprod()\n",
        "\n",
        "###**Counting**\n",
        "\n",
        "* .value_counts()\n",
        "\n",
        "* unique_dogs['breed'].value_counts()\n",
        "\n",
        "* sort = True\n",
        "\n",
        "* normalize = True - turn counts to proportions of total\n",
        "\n",
        "###**Grouped summary statistics**\n",
        "\n",
        "* subset each group - harder and prone to error\n",
        "* dogs[dogs['color'] == \"white\"]['weight_kg'].mean()\n",
        "\n",
        "* .groupby\n",
        "* dogs.groupby('color')['weight_kg'].mean\n",
        "\n",
        "* .agg method for multiple statistics\n",
        "* dogs.groupby('color')['weight_kg'].agg([min, max, sum])\n",
        "\n",
        "* group by multiple columns and aggregate by multiple columns\n",
        "* dogs.groupby(['color', 'breed'])['weight_kg'].mean()\n",
        "* dogs.groupby(['color', 'breed'])[['weight_kg', 'height_cm']].mean()\n",
        "\n",
        "\n",
        "###**Pivot Table**\n",
        "\n",
        "* .pivot_table\n",
        "\n",
        "* values - column you want to summarize\n",
        "\n",
        "* index - column you want to group by\n",
        "\n",
        "* default - pivot_table takes the mean value for each group\n",
        "\n",
        "* aggfunc - different summary statistic\n",
        "\n",
        "* dogs.pivot_table(values='weight_kg', index='color', aggfunc=np.median)\n",
        "\n",
        "* multiple statistics - pass function to list\n",
        "* dogs.pivot_table(values='weight_kg', index='color', aggfunc=[np.median, np.mode])\n",
        "\n",
        "* columns - additionl variable\n",
        "* dogs.pivot_table(values='weight_kg', index='color', columns='breed')\n",
        "\n",
        "* fill_value\n",
        "dogs.pivot_table(values='weight_kg', index='color', columns='breed', fill_value=0)\n",
        "\n",
        "* margins=True - mean values for all acolumns and rows (not inclusing filled with 0)\n",
        "dogs.pivot_table(values='weight_kg', index='color', columns='breed', fill_value=0, margins=True)\n",
        "\n",
        "\n",
        "\n",
        "\n",
        "\n",
        "\n"
      ],
      "metadata": {
        "id": "-6PjN4PeaVaJ"
      }
    },
    {
      "cell_type": "code",
      "source": [
        "def pct30(column):\n",
        "  return column.quantile(0.3)\n",
        "\n",
        "def pct40(column):\n",
        "  return column.quantile(0.4)\n",
        "\n",
        "sales[['weekly_sales', 'temperature_c']].agg([pct30, pct40])"
      ],
      "metadata": {
        "id": "KV2vZ8wrqM7T",
        "outputId": "61ae8cc6-fc53-4623-bd28-d1f4bd3c0a7e",
        "colab": {
          "base_uri": "https://localhost:8080/",
          "height": 112
        }
      },
      "execution_count": null,
      "outputs": [
        {
          "output_type": "execute_result",
          "data": {
            "text/plain": [
              "       weekly_sales  temperature_c\n",
              "pct30      5128.481       8.766667\n",
              "pct40      8327.190      11.522222"
            ],
            "text/html": [
              "\n",
              "  <div id=\"df-72fcb0b5-70b5-4994-b282-35725a8b14f6\" class=\"colab-df-container\">\n",
              "    <div>\n",
              "<style scoped>\n",
              "    .dataframe tbody tr th:only-of-type {\n",
              "        vertical-align: middle;\n",
              "    }\n",
              "\n",
              "    .dataframe tbody tr th {\n",
              "        vertical-align: top;\n",
              "    }\n",
              "\n",
              "    .dataframe thead th {\n",
              "        text-align: right;\n",
              "    }\n",
              "</style>\n",
              "<table border=\"1\" class=\"dataframe\">\n",
              "  <thead>\n",
              "    <tr style=\"text-align: right;\">\n",
              "      <th></th>\n",
              "      <th>weekly_sales</th>\n",
              "      <th>temperature_c</th>\n",
              "    </tr>\n",
              "  </thead>\n",
              "  <tbody>\n",
              "    <tr>\n",
              "      <th>pct30</th>\n",
              "      <td>5128.481</td>\n",
              "      <td>8.766667</td>\n",
              "    </tr>\n",
              "    <tr>\n",
              "      <th>pct40</th>\n",
              "      <td>8327.190</td>\n",
              "      <td>11.522222</td>\n",
              "    </tr>\n",
              "  </tbody>\n",
              "</table>\n",
              "</div>\n",
              "    <div class=\"colab-df-buttons\">\n",
              "\n",
              "  <div class=\"colab-df-container\">\n",
              "    <button class=\"colab-df-convert\" onclick=\"convertToInteractive('df-72fcb0b5-70b5-4994-b282-35725a8b14f6')\"\n",
              "            title=\"Convert this dataframe to an interactive table.\"\n",
              "            style=\"display:none;\">\n",
              "\n",
              "  <svg xmlns=\"http://www.w3.org/2000/svg\" height=\"24px\" viewBox=\"0 -960 960 960\">\n",
              "    <path d=\"M120-120v-720h720v720H120Zm60-500h600v-160H180v160Zm220 220h160v-160H400v160Zm0 220h160v-160H400v160ZM180-400h160v-160H180v160Zm440 0h160v-160H620v160ZM180-180h160v-160H180v160Zm440 0h160v-160H620v160Z\"/>\n",
              "  </svg>\n",
              "    </button>\n",
              "\n",
              "  <style>\n",
              "    .colab-df-container {\n",
              "      display:flex;\n",
              "      gap: 12px;\n",
              "    }\n",
              "\n",
              "    .colab-df-convert {\n",
              "      background-color: #E8F0FE;\n",
              "      border: none;\n",
              "      border-radius: 50%;\n",
              "      cursor: pointer;\n",
              "      display: none;\n",
              "      fill: #1967D2;\n",
              "      height: 32px;\n",
              "      padding: 0 0 0 0;\n",
              "      width: 32px;\n",
              "    }\n",
              "\n",
              "    .colab-df-convert:hover {\n",
              "      background-color: #E2EBFA;\n",
              "      box-shadow: 0px 1px 2px rgba(60, 64, 67, 0.3), 0px 1px 3px 1px rgba(60, 64, 67, 0.15);\n",
              "      fill: #174EA6;\n",
              "    }\n",
              "\n",
              "    .colab-df-buttons div {\n",
              "      margin-bottom: 4px;\n",
              "    }\n",
              "\n",
              "    [theme=dark] .colab-df-convert {\n",
              "      background-color: #3B4455;\n",
              "      fill: #D2E3FC;\n",
              "    }\n",
              "\n",
              "    [theme=dark] .colab-df-convert:hover {\n",
              "      background-color: #434B5C;\n",
              "      box-shadow: 0px 1px 3px 1px rgba(0, 0, 0, 0.15);\n",
              "      filter: drop-shadow(0px 1px 2px rgba(0, 0, 0, 0.3));\n",
              "      fill: #FFFFFF;\n",
              "    }\n",
              "  </style>\n",
              "\n",
              "    <script>\n",
              "      const buttonEl =\n",
              "        document.querySelector('#df-72fcb0b5-70b5-4994-b282-35725a8b14f6 button.colab-df-convert');\n",
              "      buttonEl.style.display =\n",
              "        google.colab.kernel.accessAllowed ? 'block' : 'none';\n",
              "\n",
              "      async function convertToInteractive(key) {\n",
              "        const element = document.querySelector('#df-72fcb0b5-70b5-4994-b282-35725a8b14f6');\n",
              "        const dataTable =\n",
              "          await google.colab.kernel.invokeFunction('convertToInteractive',\n",
              "                                                    [key], {});\n",
              "        if (!dataTable) return;\n",
              "\n",
              "        const docLinkHtml = 'Like what you see? Visit the ' +\n",
              "          '<a target=\"_blank\" href=https://colab.research.google.com/notebooks/data_table.ipynb>data table notebook</a>'\n",
              "          + ' to learn more about interactive tables.';\n",
              "        element.innerHTML = '';\n",
              "        dataTable['output_type'] = 'display_data';\n",
              "        await google.colab.output.renderOutput(dataTable, element);\n",
              "        const docLink = document.createElement('div');\n",
              "        docLink.innerHTML = docLinkHtml;\n",
              "        element.appendChild(docLink);\n",
              "      }\n",
              "    </script>\n",
              "  </div>\n",
              "\n",
              "\n",
              "<div id=\"df-ec50a1d9-d386-473e-b079-39a5f1fa9cfe\">\n",
              "  <button class=\"colab-df-quickchart\" onclick=\"quickchart('df-ec50a1d9-d386-473e-b079-39a5f1fa9cfe')\"\n",
              "            title=\"Suggest charts\"\n",
              "            style=\"display:none;\">\n",
              "\n",
              "<svg xmlns=\"http://www.w3.org/2000/svg\" height=\"24px\"viewBox=\"0 0 24 24\"\n",
              "     width=\"24px\">\n",
              "    <g>\n",
              "        <path d=\"M19 3H5c-1.1 0-2 .9-2 2v14c0 1.1.9 2 2 2h14c1.1 0 2-.9 2-2V5c0-1.1-.9-2-2-2zM9 17H7v-7h2v7zm4 0h-2V7h2v10zm4 0h-2v-4h2v4z\"/>\n",
              "    </g>\n",
              "</svg>\n",
              "  </button>\n",
              "\n",
              "<style>\n",
              "  .colab-df-quickchart {\n",
              "      --bg-color: #E8F0FE;\n",
              "      --fill-color: #1967D2;\n",
              "      --hover-bg-color: #E2EBFA;\n",
              "      --hover-fill-color: #174EA6;\n",
              "      --disabled-fill-color: #AAA;\n",
              "      --disabled-bg-color: #DDD;\n",
              "  }\n",
              "\n",
              "  [theme=dark] .colab-df-quickchart {\n",
              "      --bg-color: #3B4455;\n",
              "      --fill-color: #D2E3FC;\n",
              "      --hover-bg-color: #434B5C;\n",
              "      --hover-fill-color: #FFFFFF;\n",
              "      --disabled-bg-color: #3B4455;\n",
              "      --disabled-fill-color: #666;\n",
              "  }\n",
              "\n",
              "  .colab-df-quickchart {\n",
              "    background-color: var(--bg-color);\n",
              "    border: none;\n",
              "    border-radius: 50%;\n",
              "    cursor: pointer;\n",
              "    display: none;\n",
              "    fill: var(--fill-color);\n",
              "    height: 32px;\n",
              "    padding: 0;\n",
              "    width: 32px;\n",
              "  }\n",
              "\n",
              "  .colab-df-quickchart:hover {\n",
              "    background-color: var(--hover-bg-color);\n",
              "    box-shadow: 0 1px 2px rgba(60, 64, 67, 0.3), 0 1px 3px 1px rgba(60, 64, 67, 0.15);\n",
              "    fill: var(--button-hover-fill-color);\n",
              "  }\n",
              "\n",
              "  .colab-df-quickchart-complete:disabled,\n",
              "  .colab-df-quickchart-complete:disabled:hover {\n",
              "    background-color: var(--disabled-bg-color);\n",
              "    fill: var(--disabled-fill-color);\n",
              "    box-shadow: none;\n",
              "  }\n",
              "\n",
              "  .colab-df-spinner {\n",
              "    border: 2px solid var(--fill-color);\n",
              "    border-color: transparent;\n",
              "    border-bottom-color: var(--fill-color);\n",
              "    animation:\n",
              "      spin 1s steps(1) infinite;\n",
              "  }\n",
              "\n",
              "  @keyframes spin {\n",
              "    0% {\n",
              "      border-color: transparent;\n",
              "      border-bottom-color: var(--fill-color);\n",
              "      border-left-color: var(--fill-color);\n",
              "    }\n",
              "    20% {\n",
              "      border-color: transparent;\n",
              "      border-left-color: var(--fill-color);\n",
              "      border-top-color: var(--fill-color);\n",
              "    }\n",
              "    30% {\n",
              "      border-color: transparent;\n",
              "      border-left-color: var(--fill-color);\n",
              "      border-top-color: var(--fill-color);\n",
              "      border-right-color: var(--fill-color);\n",
              "    }\n",
              "    40% {\n",
              "      border-color: transparent;\n",
              "      border-right-color: var(--fill-color);\n",
              "      border-top-color: var(--fill-color);\n",
              "    }\n",
              "    60% {\n",
              "      border-color: transparent;\n",
              "      border-right-color: var(--fill-color);\n",
              "    }\n",
              "    80% {\n",
              "      border-color: transparent;\n",
              "      border-right-color: var(--fill-color);\n",
              "      border-bottom-color: var(--fill-color);\n",
              "    }\n",
              "    90% {\n",
              "      border-color: transparent;\n",
              "      border-bottom-color: var(--fill-color);\n",
              "    }\n",
              "  }\n",
              "</style>\n",
              "\n",
              "  <script>\n",
              "    async function quickchart(key) {\n",
              "      const quickchartButtonEl =\n",
              "        document.querySelector('#' + key + ' button');\n",
              "      quickchartButtonEl.disabled = true;  // To prevent multiple clicks.\n",
              "      quickchartButtonEl.classList.add('colab-df-spinner');\n",
              "      try {\n",
              "        const charts = await google.colab.kernel.invokeFunction(\n",
              "            'suggestCharts', [key], {});\n",
              "      } catch (error) {\n",
              "        console.error('Error during call to suggestCharts:', error);\n",
              "      }\n",
              "      quickchartButtonEl.classList.remove('colab-df-spinner');\n",
              "      quickchartButtonEl.classList.add('colab-df-quickchart-complete');\n",
              "    }\n",
              "    (() => {\n",
              "      let quickchartButtonEl =\n",
              "        document.querySelector('#df-ec50a1d9-d386-473e-b079-39a5f1fa9cfe button');\n",
              "      quickchartButtonEl.style.display =\n",
              "        google.colab.kernel.accessAllowed ? 'block' : 'none';\n",
              "    })();\n",
              "  </script>\n",
              "</div>\n",
              "\n",
              "    </div>\n",
              "  </div>\n"
            ],
            "application/vnd.google.colaboratory.intrinsic+json": {
              "type": "dataframe",
              "summary": "{\n  \"name\": \"sales[['weekly_sales', 'temperature_c']]\",\n  \"rows\": 2,\n  \"fields\": [\n    {\n      \"column\": \"weekly_sales\",\n      \"properties\": {\n        \"dtype\": \"number\",\n        \"std\": 2261.828824942439,\n        \"min\": 5128.481000000001,\n        \"max\": 8327.189999999999,\n        \"num_unique_values\": 2,\n        \"samples\": [\n          8327.189999999999,\n          5128.481000000001\n        ],\n        \"semantic_type\": \"\",\n        \"description\": \"\"\n      }\n    },\n    {\n      \"column\": \"temperature_c\",\n      \"properties\": {\n        \"dtype\": \"number\",\n        \"std\": 1.9484720192695983,\n        \"min\": 8.766666666666667,\n        \"max\": 11.522222222222224,\n        \"num_unique_values\": 2,\n        \"samples\": [\n          11.522222222222224,\n          8.766666666666667\n        ],\n        \"semantic_type\": \"\",\n        \"description\": \"\"\n      }\n    }\n  ]\n}"
            }
          },
          "metadata": {},
          "execution_count": 2
        }
      ]
    },
    {
      "cell_type": "code",
      "source": [
        "# Import NumPy and create custom IQR function\n",
        "import numpy as np\n",
        "def iqr(column):\n",
        "    return column.quantile(0.75) - column.quantile(0.25)\n",
        "\n",
        "# Update to print IQR and median of temperature_c, fuel_price_usd_per_l, & unemployment\n",
        "print(sales[[\"temperature_c\", \"fuel_price_usd_per_l\", \"unemployment\"]].agg([iqr, np.median]))\n"
      ],
      "metadata": {
        "id": "XuaoJs0PuXyK",
        "outputId": "2036af6b-7cef-4b75-a7ae-70f3371d5048",
        "colab": {
          "base_uri": "https://localhost:8080/"
        }
      },
      "execution_count": null,
      "outputs": [
        {
          "output_type": "stream",
          "name": "stdout",
          "text": [
            "        temperature_c  fuel_price_usd_per_l  unemployment\n",
            "iqr         16.583333              0.073176         0.565\n",
            "median      16.966667              0.743381         8.099\n"
          ]
        },
        {
          "output_type": "stream",
          "name": "stderr",
          "text": [
            "<ipython-input-3-831a9192476d>:7: FutureWarning: The provided callable <function median at 0x78591a353490> is currently using Series.median. In a future version of pandas, the provided callable will be used directly. To keep current behavior pass the string \"median\" instead.\n",
            "  print(sales[[\"temperature_c\", \"fuel_price_usd_per_l\", \"unemployment\"]].agg([iqr, np.median]))\n",
            "<ipython-input-3-831a9192476d>:7: FutureWarning: The provided callable <function median at 0x78591a353490> is currently using Series.median. In a future version of pandas, the provided callable will be used directly. To keep current behavior pass the string \"median\" instead.\n",
            "  print(sales[[\"temperature_c\", \"fuel_price_usd_per_l\", \"unemployment\"]].agg([iqr, np.median]))\n",
            "<ipython-input-3-831a9192476d>:7: FutureWarning: The provided callable <function median at 0x78591a353490> is currently using Series.median. In a future version of pandas, the provided callable will be used directly. To keep current behavior pass the string \"median\" instead.\n",
            "  print(sales[[\"temperature_c\", \"fuel_price_usd_per_l\", \"unemployment\"]].agg([iqr, np.median]))\n"
          ]
        }
      ]
    },
    {
      "cell_type": "code",
      "source": [
        "store_types = sales.drop_duplicates(subset=['store', 'type'])\n",
        "print(store_types.head())\n",
        "\n",
        "# Drop duplicate store/department combinations\n",
        "store_depts = sales.drop_duplicates(subset=['store', 'department'])\n",
        "print(store_depts.head())\n",
        "\n",
        "# Subset the rows where is_holiday is True and drop duplicate dates\n",
        "holiday_dates = sales[sales['is_holiday']].drop_duplicates(subset='date')\n",
        "\n",
        "# Print date col of holiday_dates\n",
        "print(holiday_dates[\"date\"])"
      ],
      "metadata": {
        "id": "VUkumIgf0nFs",
        "outputId": "1dffb5f2-68cd-474e-8b76-302ce4396b11",
        "colab": {
          "base_uri": "https://localhost:8080/"
        }
      },
      "execution_count": null,
      "outputs": [
        {
          "output_type": "stream",
          "name": "stdout",
          "text": [
            "      Unnamed: 0  store type  department        date  weekly_sales  \\\n",
            "0              0      1    A           1  2010-02-05      24924.50   \n",
            "901          901      2    A           1  2010-02-05      35034.06   \n",
            "1798        1798      4    A           1  2010-02-05      38724.42   \n",
            "2699        2699      6    A           1  2010-02-05      25619.00   \n",
            "3593        3593     10    B           1  2010-02-05      40212.84   \n",
            "\n",
            "      is_holiday  temperature_c  fuel_price_usd_per_l  unemployment  \n",
            "0          False       5.727778              0.679451         8.106  \n",
            "901        False       4.550000              0.679451         8.324  \n",
            "1798       False       6.533333              0.686319         8.623  \n",
            "2699       False       4.683333              0.679451         7.259  \n",
            "3593       False      12.411111              0.782478         9.765  \n",
            "    Unnamed: 0  store type  department        date  weekly_sales  is_holiday  \\\n",
            "0            0      1    A           1  2010-02-05      24924.50       False   \n",
            "12          12      1    A           2  2010-02-05      50605.27       False   \n",
            "24          24      1    A           3  2010-02-05      13740.12       False   \n",
            "36          36      1    A           4  2010-02-05      39954.04       False   \n",
            "48          48      1    A           5  2010-02-05      32229.38       False   \n",
            "\n",
            "    temperature_c  fuel_price_usd_per_l  unemployment  \n",
            "0        5.727778              0.679451         8.106  \n",
            "12       5.727778              0.679451         8.106  \n",
            "24       5.727778              0.679451         8.106  \n",
            "36       5.727778              0.679451         8.106  \n",
            "48       5.727778              0.679451         8.106  \n",
            "498     2010-09-10\n",
            "691     2011-11-25\n",
            "2315    2010-02-12\n",
            "6735    2012-09-07\n",
            "6810    2010-12-31\n",
            "6815    2012-02-10\n",
            "6820    2011-09-09\n",
            "Name: date, dtype: object\n"
          ]
        }
      ]
    },
    {
      "cell_type": "markdown",
      "source": [
        "##**Slicing and Indexing DataFrames**\n",
        "\n",
        "###**Set and remove Indexes**\n",
        "\n",
        "* Set index\n",
        "* .set_index\n",
        "* df_ind = df.set_inex('col1')\n",
        "\n",
        "* remove index\n",
        "* .reset_index\n",
        "* df_ind = df.reset_inex()\n",
        "\n",
        "* drop index\n",
        "* df.reset_index(drop=True)\n",
        "\n",
        "\n",
        "###**Subset Index**\n",
        "* .loc to subset index\n",
        "* dogs_ind.loc[['Bella', 'Stella']]\n",
        "\n",
        "* index values does not have to be unique\n",
        "\n",
        "###**Subset multi-level index**\n",
        "* hierachical index - pass as list\n",
        "* inner index is nested inside outer index\n",
        "* dogs_ind3 = dogs.set_index (['breed', 'color'])\n",
        "* subset outer level with list\n",
        "* dogs_ind.loc[['Bella', 'Stella']]\n",
        "* subset innter level with list of tuples\n",
        "* dogs_ind.loc[[('labrador', 'brown'), ('chihuahua', 'tan')]]\n",
        "\n",
        "###**Sort Inxex**\n",
        "* sort_index() - sorts all indexes from outer to inner\n",
        "\n",
        "* control sort_index() by passing lists to level and ascending\n",
        "* dogs_ind3.sort_index(level=['color', 'breed'], ascending =[True, False])\n",
        "\n",
        "###**Slicing and subsetting with row and column names with .loc**\n",
        "* slice outer level\n",
        "* index values in list\n",
        "* final value is included\n",
        "* dogs_srt.loc['Chow Chow' : 'Poodle']\n",
        "\n",
        "* slice inner level\n",
        "* index values in tuples pairs\n",
        "* dogs_srt.loc[('Labrador' : 'Brown') : ('Chow Chow' : 'Grey')]\n",
        "\n",
        "* slice columns\n",
        "* dogs_srt.loc[:, 'name' : 'height_cm']\n",
        "\n",
        "* slice rows and columns\n",
        "* dogs_srt.loc[('Labrador' , 'Brown') : ('Chow Chow' , 'Grey'), 'name' : 'height_cm']\n",
        "\n",
        "* subset by range of dates\n",
        "* dogs = dogs.set_index('date_of_birth').sort_index()\n",
        "* dogs.loc['2014-08-25' : '2016-09-16']\n",
        "\n",
        "* slice by partial dates\n",
        "* dogs.loc['2014' : '2016']\n",
        "\n",
        "###**Slicing and subsetting row and column numbers with .iloc**\n",
        "* print(dogs.iloc[2:5, 1:4])\n",
        "* similar to list slicing\n",
        "* df..iloc[row_licing, column_slicing]\n",
        "\n",
        "###**Slicing and subsetting Pivot Tables**\n",
        "* dogs_height_by_breed_vs_color.loc['Chow Chow' : 'Poodle']\n",
        "* dogs_height_by_breed_vs_color.mean(axis='index') - DEFAULT(accross rows)\n",
        "* dogs_height_by_breed_vs_color.mean(axis='columns') -  accross columns\n",
        "\n",
        "###**Note**\n",
        "* You can access the components of a date (year, month and day) using code of the form dataframe[\"column\"].dt.component. For example, the month component is dataframe[\"column\"].dt.month, and the year component is dataframe[\"column\"].dt.year\n",
        "\n",
        "* dogs[[\"height_cm\", \"weight_kg\"]].hist()\n",
        "\n",
        "\n",
        "###**Missing Values**\n",
        "\n",
        "* NaN\n",
        "* df.isna() - Boolean\n",
        "* df.isna().any()\n",
        "* df.isna().sum()\n",
        "* df.isna().sum().plot(kind='bar')\n",
        "* df.dropna()\n",
        "* df.fillna(0)\n",
        "\n",
        "\n",
        "###**Creating DataFrames**\n",
        "\n",
        "* **From a list of dictionaries**\n",
        "* Constructed row by row\n",
        "* list_of_dicts=[{'name': 'Jeyarajah', 'role' : 'father', 'age' : 35}, {'name': 'Rajithra', 'role' : 'mother', 'age' : 41}, {'name': 'Satheekshana', 'role' : 'daughter', 'age' : 20}{'name': 'Harishva', 'role' : 'son', 'age' : 8}]\n",
        "* family = pd.DataFrame(list_of_dicts)\n",
        "\n",
        "\n",
        "* **From a dictionary of lists**\n",
        "* Constructed column by column\n",
        "* dict-_of_lists={'namee': ['Jeyarajah', 'Rajithra', 'Satheekshana', 'Harishva'], 'role' : ['father', 'mother', 'daughter', 'son'], 'age' : [47,41,20,8]}\n",
        "* family1 = pd.DataFrame(dict_of_lists)\n",
        "\n",
        "###**DataFramr to CSV**\n",
        "* df.to_csv('file_name_and_path')\n",
        "\n",
        "\n",
        "\n",
        "\n",
        "\n",
        "\n",
        "\n",
        "\n",
        "\n",
        "\n",
        "\n",
        "\n",
        "\n",
        "\n",
        "\n",
        "\n",
        "\n",
        "\n",
        "\n",
        "\n",
        "\n",
        "\n"
      ],
      "metadata": {
        "id": "XWxoRczsax7R"
      }
    },
    {
      "cell_type": "code",
      "source": [
        "# Use Boolean conditions to subset temperatures for rows in 2010 and 2011\n",
        "temperatures_bool = temperatures[(temperatures[\"date\"] >= \"2010-01-01\") & (temperatures[\"date\"] <= \"2011-12-31\")]\n",
        "print(temperatures_bool)\n",
        "\n",
        "# Set date as the index and sort the index\n",
        "temperatures_ind = temperatures.set_index(\"date\").sort_index()\n",
        "\n",
        "# Use .loc[] to subset temperatures_ind for rows in 2010 and 2011\n",
        "print(temperatures_ind.loc[\"2010\":\"2011\"])\n",
        "\n",
        "# Use .loc[] to subset temperatures_ind for rows from Aug 2010 to Feb 2011\n",
        "print(temperatures_ind.loc[\"2010-08\":\"2011-02\"])"
      ],
      "metadata": {
        "id": "EQN5GcD1grEC",
        "outputId": "0296830e-551a-4b33-fc74-3c151ca404e0",
        "colab": {
          "base_uri": "https://localhost:8080/"
        }
      },
      "execution_count": null,
      "outputs": [
        {
          "output_type": "stream",
          "name": "stdout",
          "text": [
            "       Unnamed: 0        date     city        country  avg_temp_c\n",
            "120           120  2010-01-01  Abidjan  Côte D'Ivoire      28.270\n",
            "121           121  2010-02-01  Abidjan  Côte D'Ivoire      29.262\n",
            "122           122  2010-03-01  Abidjan  Côte D'Ivoire      29.596\n",
            "123           123  2010-04-01  Abidjan  Côte D'Ivoire      29.068\n",
            "124           124  2010-05-01  Abidjan  Côte D'Ivoire      28.258\n",
            "...           ...         ...      ...            ...         ...\n",
            "16474       16474  2011-08-01     Xian          China      23.069\n",
            "16475       16475  2011-09-01     Xian          China      16.775\n",
            "16476       16476  2011-10-01     Xian          China      12.587\n",
            "16477       16477  2011-11-01     Xian          China       7.543\n",
            "16478       16478  2011-12-01     Xian          China      -0.490\n",
            "\n",
            "[2400 rows x 5 columns]\n",
            "            Unnamed: 0        city    country  avg_temp_c\n",
            "date                                                     \n",
            "2010-01-01        4905  Faisalabad   Pakistan      11.810\n",
            "2010-01-01       10185   Melbourne  Australia      20.016\n",
            "2010-01-01        3750   Chongqing      China       7.921\n",
            "2010-01-01       13155   São Paulo     Brazil      23.738\n",
            "2010-01-01        5400   Guangzhou      China      14.136\n",
            "...                ...         ...        ...         ...\n",
            "2010-12-01        6896     Jakarta  Indonesia      26.602\n",
            "2010-12-01        5246       Gizeh      Egypt      16.530\n",
            "2010-12-01       11186      Nagpur      India      19.120\n",
            "2010-12-01       14981      Sydney  Australia      19.559\n",
            "2010-12-01       13496    Salvador     Brazil      26.265\n",
            "\n",
            "[1200 rows x 4 columns]\n",
            "            Unnamed: 0           city        country  avg_temp_c\n",
            "date                                                            \n",
            "2010-08-01        2602       Calcutta          India      30.226\n",
            "2010-08-01       12337           Pune          India      24.941\n",
            "2010-08-01        6562          Izmir         Turkey      28.352\n",
            "2010-08-01       15637        Tianjin          China      25.543\n",
            "2010-08-01        9862         Manila    Philippines      27.101\n",
            "...                ...            ...            ...         ...\n",
            "2011-01-01        4257  Dar Es Salaam       Tanzania      28.541\n",
            "2011-01-01       11352        Nairobi          Kenya      17.768\n",
            "2011-01-01         297    Addis Abeba       Ethiopia      17.708\n",
            "2011-01-01       11517        Nanjing          China       0.144\n",
            "2011-01-01       11847       New York  United States      -4.463\n",
            "\n",
            "[600 rows x 4 columns]\n"
          ]
        }
      ]
    },
    {
      "cell_type": "code",
      "source": [
        "# Add a year column to temperatures\n",
        "temperatures['year'] = temperatures['date'].dt.year\n",
        "\n",
        "# Pivot avg_temp_c by country and city vs year\n",
        "temp_by_country_city_vs_year = temperatures.pivot_table(values='avg_temp_c', index=['country', 'city'], columns='year')\n",
        "\n",
        "# See the result\n",
        "print(temp_by_country_city_vs_year)"
      ],
      "metadata": {
        "id": "lGeBcXhHbWGx",
        "outputId": "cc664cd2-2d3b-4a34-ffcd-55b0ece169fc",
        "colab": {
          "base_uri": "https://localhost:8080/",
          "height": 321
        }
      },
      "execution_count": null,
      "outputs": [
        {
          "output_type": "error",
          "ename": "AttributeError",
          "evalue": "Can only use .dt accessor with datetimelike values",
          "traceback": [
            "\u001b[0;31m---------------------------------------------------------------------------\u001b[0m",
            "\u001b[0;31mAttributeError\u001b[0m                            Traceback (most recent call last)",
            "\u001b[0;32m<ipython-input-6-d782bed37f01>\u001b[0m in \u001b[0;36m<cell line: 2>\u001b[0;34m()\u001b[0m\n\u001b[1;32m      1\u001b[0m \u001b[0;31m# Add a year column to temperatures\u001b[0m\u001b[0;34m\u001b[0m\u001b[0;34m\u001b[0m\u001b[0m\n\u001b[0;32m----> 2\u001b[0;31m \u001b[0mtemperatures\u001b[0m\u001b[0;34m[\u001b[0m\u001b[0;34m'year'\u001b[0m\u001b[0;34m]\u001b[0m \u001b[0;34m=\u001b[0m \u001b[0mtemperatures\u001b[0m\u001b[0;34m[\u001b[0m\u001b[0;34m'date'\u001b[0m\u001b[0;34m]\u001b[0m\u001b[0;34m.\u001b[0m\u001b[0mdt\u001b[0m\u001b[0;34m.\u001b[0m\u001b[0myear\u001b[0m\u001b[0;34m\u001b[0m\u001b[0;34m\u001b[0m\u001b[0m\n\u001b[0m\u001b[1;32m      3\u001b[0m \u001b[0;34m\u001b[0m\u001b[0m\n\u001b[1;32m      4\u001b[0m \u001b[0;31m# Pivot avg_temp_c by country and city vs year\u001b[0m\u001b[0;34m\u001b[0m\u001b[0;34m\u001b[0m\u001b[0m\n\u001b[1;32m      5\u001b[0m \u001b[0mtemp_by_country_city_vs_year\u001b[0m \u001b[0;34m=\u001b[0m \u001b[0mtemperatures\u001b[0m\u001b[0;34m.\u001b[0m\u001b[0mpivot_table\u001b[0m\u001b[0;34m(\u001b[0m\u001b[0mvalues\u001b[0m\u001b[0;34m=\u001b[0m\u001b[0;34m'avg_temp_c'\u001b[0m\u001b[0;34m,\u001b[0m \u001b[0mindex\u001b[0m\u001b[0;34m=\u001b[0m\u001b[0;34m[\u001b[0m\u001b[0;34m'country'\u001b[0m\u001b[0;34m,\u001b[0m \u001b[0;34m'city'\u001b[0m\u001b[0;34m]\u001b[0m\u001b[0;34m,\u001b[0m \u001b[0mcolumns\u001b[0m\u001b[0;34m=\u001b[0m\u001b[0;34m'year'\u001b[0m\u001b[0;34m)\u001b[0m\u001b[0;34m\u001b[0m\u001b[0;34m\u001b[0m\u001b[0m\n",
            "\u001b[0;32m/usr/local/lib/python3.10/dist-packages/pandas/core/generic.py\u001b[0m in \u001b[0;36m__getattr__\u001b[0;34m(self, name)\u001b[0m\n\u001b[1;32m   6202\u001b[0m         ):\n\u001b[1;32m   6203\u001b[0m             \u001b[0;32mreturn\u001b[0m \u001b[0mself\u001b[0m\u001b[0;34m[\u001b[0m\u001b[0mname\u001b[0m\u001b[0;34m]\u001b[0m\u001b[0;34m\u001b[0m\u001b[0;34m\u001b[0m\u001b[0m\n\u001b[0;32m-> 6204\u001b[0;31m         \u001b[0;32mreturn\u001b[0m \u001b[0mobject\u001b[0m\u001b[0;34m.\u001b[0m\u001b[0m__getattribute__\u001b[0m\u001b[0;34m(\u001b[0m\u001b[0mself\u001b[0m\u001b[0;34m,\u001b[0m \u001b[0mname\u001b[0m\u001b[0;34m)\u001b[0m\u001b[0;34m\u001b[0m\u001b[0;34m\u001b[0m\u001b[0m\n\u001b[0m\u001b[1;32m   6205\u001b[0m \u001b[0;34m\u001b[0m\u001b[0m\n\u001b[1;32m   6206\u001b[0m     \u001b[0;34m@\u001b[0m\u001b[0mfinal\u001b[0m\u001b[0;34m\u001b[0m\u001b[0;34m\u001b[0m\u001b[0m\n",
            "\u001b[0;32m/usr/local/lib/python3.10/dist-packages/pandas/core/accessor.py\u001b[0m in \u001b[0;36m__get__\u001b[0;34m(self, obj, cls)\u001b[0m\n\u001b[1;32m    222\u001b[0m             \u001b[0;31m# we're accessing the attribute of the class, i.e., Dataset.geo\u001b[0m\u001b[0;34m\u001b[0m\u001b[0;34m\u001b[0m\u001b[0m\n\u001b[1;32m    223\u001b[0m             \u001b[0;32mreturn\u001b[0m \u001b[0mself\u001b[0m\u001b[0;34m.\u001b[0m\u001b[0m_accessor\u001b[0m\u001b[0;34m\u001b[0m\u001b[0;34m\u001b[0m\u001b[0m\n\u001b[0;32m--> 224\u001b[0;31m         \u001b[0maccessor_obj\u001b[0m \u001b[0;34m=\u001b[0m \u001b[0mself\u001b[0m\u001b[0;34m.\u001b[0m\u001b[0m_accessor\u001b[0m\u001b[0;34m(\u001b[0m\u001b[0mobj\u001b[0m\u001b[0;34m)\u001b[0m\u001b[0;34m\u001b[0m\u001b[0;34m\u001b[0m\u001b[0m\n\u001b[0m\u001b[1;32m    225\u001b[0m         \u001b[0;31m# Replace the property with the accessor object. Inspired by:\u001b[0m\u001b[0;34m\u001b[0m\u001b[0;34m\u001b[0m\u001b[0m\n\u001b[1;32m    226\u001b[0m         \u001b[0;31m# https://www.pydanny.com/cached-property.html\u001b[0m\u001b[0;34m\u001b[0m\u001b[0;34m\u001b[0m\u001b[0m\n",
            "\u001b[0;32m/usr/local/lib/python3.10/dist-packages/pandas/core/indexes/accessors.py\u001b[0m in \u001b[0;36m__new__\u001b[0;34m(cls, data)\u001b[0m\n\u001b[1;32m    606\u001b[0m             \u001b[0;32mreturn\u001b[0m \u001b[0mPeriodProperties\u001b[0m\u001b[0;34m(\u001b[0m\u001b[0mdata\u001b[0m\u001b[0;34m,\u001b[0m \u001b[0morig\u001b[0m\u001b[0;34m)\u001b[0m\u001b[0;34m\u001b[0m\u001b[0;34m\u001b[0m\u001b[0m\n\u001b[1;32m    607\u001b[0m \u001b[0;34m\u001b[0m\u001b[0m\n\u001b[0;32m--> 608\u001b[0;31m         \u001b[0;32mraise\u001b[0m \u001b[0mAttributeError\u001b[0m\u001b[0;34m(\u001b[0m\u001b[0;34m\"Can only use .dt accessor with datetimelike values\"\u001b[0m\u001b[0;34m)\u001b[0m\u001b[0;34m\u001b[0m\u001b[0;34m\u001b[0m\u001b[0m\n\u001b[0m",
            "\u001b[0;31mAttributeError\u001b[0m: Can only use .dt accessor with datetimelike values"
          ]
        }
      ]
    },
    {
      "cell_type": "code",
      "source": [
        "# Subset for Egypt to India\n",
        "temp_by_country_city_vs_year.loc[\"Egypt\":\"India\"]\n",
        "\n",
        "# Subset for Egypt, Cairo to India, Delhi\n",
        "temp_by_country_city_vs_year.loc[(\"Egypt\", \"Cairo\"):(\"India\", \"Delhi\")]\n",
        "\n",
        "# Subset for Egypt, Cairo to India, Delhi, and 2005 to 2010\n",
        "temp_by_country_city_vs_year.loc[(\"Egypt\", \"Cairo\"):(\"India\", \"Delhi\"), \"2005\":\"2010\"]"
      ],
      "metadata": {
        "id": "QO-pUDcJdOh-"
      },
      "execution_count": null,
      "outputs": []
    },
    {
      "cell_type": "code",
      "source": [
        "# Get the worldwide mean temp by year\n",
        "mean_temp_by_year = temp_by_country_city_vs_year.mean()\n",
        "\n",
        "# Filter for the year that had the highest mean temp\n",
        "print(mean_temp_by_year[mean_temp_by_year == mean_temp_by_year.max()])\n",
        "\n",
        "# Get the mean temp by city\n",
        "mean_temp_by_city = temp_by_country_city_vs_year.mean(axis=\"columns\")\n",
        "\n",
        "# Filter for the city that had the lowest mean temp\n",
        "print(mean_temp_by_city[mean_temp_by_city == mean_temp_by_city.min()])"
      ],
      "metadata": {
        "id": "PztpS9usdlmc"
      },
      "execution_count": null,
      "outputs": []
    },
    {
      "cell_type": "markdown",
      "source": [
        "##**Creating and Visualizing DataFrames**"
      ],
      "metadata": {
        "id": "mx8RKPOVd08d"
      }
    },
    {
      "cell_type": "code",
      "source": [
        "# Import matplotlib.pyplot with alias plt\n",
        "import matplotlib.pyplot as plt\n",
        "\n",
        "# Look at the first few rows of data\n",
        "print(avocados.head())\n",
        "\n",
        "# Get the total number of avocados sold of each size\n",
        "nb_sold_by_size = avocados.groupby('size')['nb_sold'].sum()\n",
        "\n",
        "# Create a bar plot of the number of avocados sold by size\n",
        "nb_sold_by_size.plot(kind='bar')\n",
        "\n",
        "# Show the plot\n",
        "plt.show()\n"
      ],
      "metadata": {
        "id": "nxSf4y6khZ7D"
      },
      "execution_count": null,
      "outputs": []
    },
    {
      "cell_type": "code",
      "source": [
        "# Import matplotlib.pyplot with alias plt\n",
        "import matplotlib.pyplot as plt\n",
        "\n",
        "# Get the total number of avocados sold on each date\n",
        "nb_sold_by_date = avocados.groupby('date')['nb_sold'].sum()\n",
        "\n",
        "# Create a line plot of the number of avocados sold by date\n",
        "nb_sold_by_date.plot(kind='line')\n",
        "\n",
        "# Show the plot\n",
        "plt.show()"
      ],
      "metadata": {
        "id": "6ksWLzgoiuVj"
      },
      "execution_count": null,
      "outputs": []
    },
    {
      "cell_type": "code",
      "source": [
        "# Scatter plot of avg_price vs. nb_sold with title\n",
        "avocados.plot(kind='scatter', x='nb_sold', y='avg_price', title = 'Number of avocados sold vs. average price')\n",
        "\n",
        "# Show the plot\n",
        "plt.show()"
      ],
      "metadata": {
        "id": "Fh5Di7KrjmXx"
      },
      "execution_count": null,
      "outputs": []
    },
    {
      "cell_type": "code",
      "source": [
        "# Modify bins to 20\n",
        "avocados[avocados[\"type\"] == \"conventional\"][\"avg_price\"].hist(bins=20, alpha=0.5)\n",
        "\n",
        "# Modify bins to 20\n",
        "avocados[avocados[\"type\"] == \"organic\"][\"avg_price\"].hist(bins=20, alpha=0.5)\n",
        "\n",
        "# Add a legend\n",
        "plt.legend([\"conventional\", \"organic\"])\n",
        "\n",
        "# Show the plot\n",
        "plt.show()"
      ],
      "metadata": {
        "id": "KdGI2CaPkd7J"
      },
      "execution_count": null,
      "outputs": []
    },
    {
      "cell_type": "code",
      "source": [
        "import pandas as pd\n",
        "#  Dataframd from list of dictionaries (row-by-row)\n",
        "list_of_dicts=[{'name': 'Jeyarajah', 'role' : 'father', 'age' : 47},\\\n",
        "               {'name': 'Rajithra', 'role' : 'mother', 'age' : 41},\\\n",
        "               {'name': 'Satheekshana', 'role' : 'daughter', 'age' : 20},\\\n",
        "                {'name': 'Harishva', 'role' : 'son', 'age' : 8}]\n",
        "\n",
        "family = pd.DataFrame(list_of_dicts)\n",
        "\n",
        "print(family)\n",
        "\n",
        "#  Dataframe from dictionary of lists (column-by-column)\n",
        "\n",
        "dict_of_lists={'namee': ['Jeyarajah', 'Rajithra', 'Satheekshana', 'Harishva'], \\\n",
        "               'role' : ['father', 'mother', 'daughter', 'son'],\\\n",
        "               'age' : [47,41,20,8]}\n",
        "\n",
        "family1 = pd.DataFrame(dict_of_lists)\n",
        "\n",
        "print(family1)"
      ],
      "metadata": {
        "id": "NAF-iBixx4tf"
      },
      "execution_count": null,
      "outputs": []
    },
    {
      "cell_type": "markdown",
      "source": [
        "#**RESHAPING DATA WITH PANDAS**"
      ],
      "metadata": {
        "id": "HdJwExCNPwsF"
      }
    },
    {
      "cell_type": "code",
      "source": [
        "#  import libraries and datasets\n",
        "import pandas as pd\n",
        "import matplotlib.pyplot as plt\n",
        "import numpy as np\n",
        "\n",
        "obesity = pd.read_csv('https://raw.githubusercontent.com/nirmalaraj77/datasets/main/obesity.csv')\n",
        "fifa_players = pd.read_csv('https://raw.githubusercontent.com/nirmalaraj77/datasets/main/players.csv')\n",
        "books = pd.read_csv('https://raw.githubusercontent.com/nirmalaraj77/datasets/main/books.csv')\n",
        "churn = pd.read_csv('https://raw.githubusercontent.com/nirmalaraj77/datasets/main/churn.csv')\n",
        "medallists = pd.read_csv('https://raw.githubusercontent.com/nirmalaraj77/datasets/main/medallists.csv')"
      ],
      "metadata": {
        "id": "QCyIH1RyQGBq"
      },
      "execution_count": null,
      "outputs": []
    },
    {
      "cell_type": "markdown",
      "source": [
        "##**Long vs Wide**\n",
        "\n",
        "####**Long format**\n",
        "* Each row represents one feature\n",
        "* Needs a column to identify records of the ame observation\n",
        "* Multiple records for each observation\n",
        "* Interested in each characeristic of a player\n",
        "\n",
        "####**Wide format**\n",
        "* Each row shows many features of the same observation\n",
        "* Each feature is represented in a seperate column\n",
        "* No repeated records\n",
        "* can contain large number of missing data\n",
        "* Intereted in each player\n",
        "\n",
        "\n"
      ],
      "metadata": {
        "id": "TR4RZUqBSyaP"
      }
    },
    {
      "cell_type": "markdown",
      "source": [
        "##**From long to wide**\n",
        "* Demonstrate the relationship between columns\n",
        "* Time series operations with the variables\n",
        "* Any operation that requires columns to be the unique variable"
      ],
      "metadata": {
        "id": "AQ6Y5Jg69Jvu"
      }
    },
    {
      "cell_type": "markdown",
      "source": [
        "##**Set index and .transpose()**"
      ],
      "metadata": {
        "id": "5DxGxdjn8_Hw"
      }
    },
    {
      "cell_type": "code",
      "source": [
        "# Change the DataFrame so rows become columns and vice versa\n",
        "fifa_transpose = fifa_players.set_index('short_name')[['height_cm', 'weight_kg']].transpose()\n",
        "\n",
        "# Print fifa_transpose\n",
        "print(fifa_transpose)"
      ],
      "metadata": {
        "id": "2REqJFBCinG3",
        "outputId": "c60660a2-1c84-4d23-e6d6-fa2ed9c474f6",
        "colab": {
          "base_uri": "https://localhost:8080/"
        }
      },
      "execution_count": null,
      "outputs": [
        {
          "output_type": "stream",
          "name": "stdout",
          "text": [
            "short_name  L. Messi  Cristiano Ronaldo  Neymar Jr  J. Oblak  E. Hazard  \\\n",
            "height_cm        170                187        175       188        175   \n",
            "weight_kg         72                 83         68        87         74   \n",
            "\n",
            "short_name  K. De Bruyne  M. ter Stegen  V. van Dijk  L. Modrić  M. Salah  \\\n",
            "height_cm            181            187          193        172       175   \n",
            "weight_kg             70             85           92         66        71   \n",
            "\n",
            "short_name  ...  M. Gallagher  Huang Jiahui  M. Sagaf  E. Tweed  P. Martin  \\\n",
            "height_cm   ...           178           183       177       180        188   \n",
            "weight_kg   ...            70            74        70        72         84   \n",
            "\n",
            "short_name  Shao Shuai  Xiao Mingjie  Zhang Wei  Wang Haijian  Pan Ximing  \n",
            "height_cm          186           177        186           185         182  \n",
            "weight_kg           79            66         75            74          78  \n",
            "\n",
            "[2 rows x 18278 columns]\n"
          ]
        }
      ]
    },
    {
      "cell_type": "markdown",
      "source": [
        "##**Pivot method**\n",
        "* Requires the index / column pair to be unique\n",
        "* Cannot aggregate\n",
        "* df.pivot()\n",
        "* Takes three arguments: index, columns, and values\n",
        "* Index - names of the columns to set as an index in the new pivoted table\n",
        "* Columns - names of the columns to set as each column in new table\n",
        "* Values - names of the columns which to populate the new pivoted table\n",
        "* Will set NaN value if cannot find row and column matching original table\n",
        "* Extend the pivot method to all column values - omit the values argument\n",
        "* Missing value - drop row - df.drop(row_index_num, axis=0)\n",
        "\n",
        "\n"
      ],
      "metadata": {
        "id": "7jurovWptOPv"
      }
    },
    {
      "cell_type": "markdown",
      "source": [
        "##**Pivot Table Method**\n",
        "\n",
        "* df.pivot_table()\n",
        "* Works with multi-level(hierachical) indexes\n",
        "* Takes three arguments: index, columns, and values\n",
        "* Index - names of the columns to set as an index in the new pivoted table\n",
        "* Columns - names of the columns to set as each column in new table\n",
        "* Values - names of the columns which to populate the new pivoted table\n",
        "* Will set NaN value if cannot find row and column matching original table\n",
        "* Extend the pivot method to all column values - omit the values argument\n",
        "* Missing value - drop row - df.drop(row_index_num, axis=0)\n",
        "* aggfunc\n",
        "\n"
      ],
      "metadata": {
        "id": "AGVPOsAl2myY"
      }
    },
    {
      "cell_type": "code",
      "source": [
        "# Use pivot table to display maximum age of players by club and nationality\n",
        "mean_age_fifa = fifa_players.pivot_table(index='nationality',\n",
        "                                  columns='club',\n",
        "                                  values='age',\n",
        "                                  aggfunc='max',\n",
        "                                  margins=True)\n",
        "\n",
        "# Print mean_age_fifa\n",
        "print(mean_age_fifa)"
      ],
      "metadata": {
        "id": "9dYNPFd2cXYf"
      },
      "execution_count": null,
      "outputs": []
    },
    {
      "cell_type": "markdown",
      "source": [
        "##**From wide to long**\n",
        "* Perform analytics\n",
        "* Plot different variables in same graph\n",
        "\n",
        "\n",
        "\n"
      ],
      "metadata": {
        "id": "4cyRy1mk7icV"
      }
    },
    {
      "cell_type": "markdown",
      "source": [
        "##**Melt Method**\n",
        "* .melt()\n",
        "* id_vars - names of columns to use as identifier variables\n",
        "* value_vars - names of columns to melt - can be one column or list\n",
        "* var_name - name to use for the columns\n",
        "* value_name - takes the name to use for the column \"value\""
      ],
      "metadata": {
        "id": "Ywgp_5hC_YQC"
      }
    },
    {
      "cell_type": "code",
      "source": [
        "# Assign the name number to the new column containing the values\n",
        "books_ratings = books.melt(id_vars=['title', 'authors', 'publisher'],\n",
        "                                  value_vars='ratings_count',\n",
        "                                  var_name='feature',\n",
        "                                  value_name='number')\n",
        "\n",
        "# Print books_ratings\n",
        "print(books_ratings)"
      ],
      "metadata": {
        "id": "UIZII6mbE7P-",
        "outputId": "e425c8f2-f30d-4227-e83e-ccfb0219b1b2",
        "colab": {
          "base_uri": "https://localhost:8080/"
        }
      },
      "execution_count": null,
      "outputs": [
        {
          "output_type": "stream",
          "name": "stdout",
          "text": [
            "                                                  title  \\\n",
            "0                                   The Liberated Bride   \n",
            "1     Jack Vance: Critical Appreciations and a Bibli...   \n",
            "2     The Know-It-All: One Man's Humble Quest to Bec...   \n",
            "3                               The Mistress's Daughter   \n",
            "4                                   Beauty's Punishment   \n",
            "...                                                 ...   \n",
            "6565        What Was She Thinking? [Notes on a Scandal]   \n",
            "6566  Zolar's Encyclopedia and Dictionary of Dreams:...   \n",
            "6567  Every Tongue Got to Confess: Negro Folk-tales ...   \n",
            "6568                                 Novels and Stories   \n",
            "6569                               The Complete Stories   \n",
            "\n",
            "                                                authors           publisher  \\\n",
            "0                           A.B. Yehoshua/Hillel Halkin       Mariner Books   \n",
            "1     A.E. Cunningham/Harlan Ellison/Charles F. Mill...     British Library   \n",
            "2                                           A.J. Jacobs     Simon  Schuster   \n",
            "3                                            A.M. Homes              Viking   \n",
            "4                             A.N. Roquelaure/Anne Rice               Plume   \n",
            "...                                                 ...                 ...   \n",
            "6565                                         Zoë Heller             Picador   \n",
            "6566                                              Zolar         Atria Books   \n",
            "6567  Zora Neale Hurston/Carla Kaplan/John Edgar Wid...             Amistad   \n",
            "6568                  Zora Neale Hurston/Cheryl A. Wall  Library of America   \n",
            "6569  Zora Neale Hurston/Henry Louis Gates Jr./Siegl...             Amistad   \n",
            "\n",
            "            feature  number  \n",
            "0     ratings_count     457  \n",
            "1     ratings_count      13  \n",
            "2     ratings_count   24243  \n",
            "3     ratings_count    3282  \n",
            "4     ratings_count     426  \n",
            "...             ...     ...  \n",
            "6565  ratings_count   13674  \n",
            "6566  ratings_count      72  \n",
            "6567  ratings_count     317  \n",
            "6568  ratings_count     564  \n",
            "6569  ratings_count     756  \n",
            "\n",
            "[6570 rows x 5 columns]\n"
          ]
        }
      ]
    },
    {
      "cell_type": "markdown",
      "source": [
        "##**Wide to Long Method**\n",
        "\n",
        "* pd.wide_to_long()\n",
        "* Pandas function\n",
        "* If column names are similar - starts with same names\n",
        "* stubnames - specify the prefix - how names of wide columns start\n",
        "* j - how to name columns that contains suffix or end of wide columns\n",
        "* i - takes column or list of columns to use as unique identifiers (index)\n",
        "* sep - define seperator in exiting DF column names\n",
        "* If DF has named index - resulting DF will not keep original index\n",
        "* Reset index without dropping\n",
        "* df.reset_index (drop=False, inplace=True)\n",
        "* Assumes prefix is followed by nuneric suffix\n",
        "* sep = '_' - indicates there is a separator\n",
        "* suffix ='\\w+' - indicates suffix is a word\n",
        "* NaN if no values for a particulkar prefix-suffix combination\n",
        "<br>\n",
        "* **Reshape wide to long using title and authors as index and version as new name, and prefix and isbn as wide column prefixes**\n",
        "<br>\n",
        "* all_long = pd.wide_to_long(golden_age,\n",
        "  stubnames=['isbn', 'prefix'],\n",
        "  i=['title', 'authors'],\n",
        "  j='version'\n",
        "  sep='_'\n",
        "  suffix='\\w+')\n",
        "\n",
        "\n",
        "\n",
        "\n",
        "\n"
      ],
      "metadata": {
        "id": "dnqp-ahGFmaj"
      }
    },
    {
      "cell_type": "markdown",
      "source": [
        "##**String Columns**\n",
        "\n",
        "* str attribute in Pandas\n",
        "\n",
        "###**Split Columns**\n",
        "* .split() method\n",
        "* string - The civil war : Vol 1\n",
        "* split string - books['title'].str.split(':')\n",
        "* returns a list for each row - ['The civil war', 'Vol 1']\n",
        "\n",
        "* .str.get method\n",
        "* get only specific elements from .split by passing index\n",
        "* books['title'].str.split(':').str.get(0)\n",
        "\n",
        "* expand = True\n",
        "* returns multiple columns for split element - not lists\n",
        "* books['title'].str.split(':', expamnd=True)\n",
        "* assign 2\n",
        "* books[['main_title', 'subtitle']] = books['title'].str.split(':', expand=True)\n",
        "\n",
        "###**Concatenate Columns**\n",
        "* .cat() method\n",
        "* books['name_author'].str.cat(books['lastname_author'], sep = ' ')\n",
        "\n",
        "###**Split and Concatenate Indexes**\n",
        "* same as columns\n",
        "* comics_marvel.index = comics_marvel.index.str.cat(comics_marvel['subtitle'], sep = '-')\n",
        "* comics_marvel.index = comics_marvel.index.str.split('-', expand = True)\n",
        "\n",
        "###**Concatenate Series**\n",
        "* new_list = ['qqq', 'www', 'eee']\n",
        "* books_new['name_author'].str.cat(new_list, sep='-')\n",
        "\n"
      ],
      "metadata": {
        "id": "UNqgx293debl"
      }
    },
    {
      "cell_type": "markdown",
      "source": [
        "##**Stacking DataFrames**\n",
        "\n",
        "###**Set MultiIndex**\n",
        "* set_index()\n",
        "* df.set_index(['aaa', 'bbb'], inplace = True)\n",
        "\n",
        "\n",
        "###**Set MultiIndex with Array**\n",
        "* new_array = [['yes', 'no', 'yes'], ['no', 'no', 'yes']]\n",
        "* each element is an index column\n",
        "* pd.MultiIndex.from_arrays(new_array, names=['aaa', 'bbb'])\n",
        "\n",
        "\n",
        "###**Set MultiIndex DataFrame (rows and columns)**\n",
        "\n",
        "\n",
        "\n",
        "\n",
        "\n",
        "\n",
        "\n",
        "\n"
      ],
      "metadata": {
        "id": "1ZqZKKjTFjXT"
      }
    },
    {
      "cell_type": "markdown",
      "source": [
        "###**Stack Method**\n",
        "* .stack() method\n",
        "* reshape DataFrame multi-level index by converting it into stacked form\n",
        "* rearranges innermost column index to become the innermost row index\n",
        "* stack into a series\n",
        "* level = 0 - choose which level to stack by column index\n",
        "* level = 'col' - choose which levekl to stack by column name\n",
        "\n"
      ],
      "metadata": {
        "id": "gU_1irQlmpmF"
      }
    },
    {
      "cell_type": "code",
      "source": [
        "churn_4 = churn.iloc[:4, :]\n",
        "\n",
        "# Predefined list to use as index\n",
        "new_index = [['California', 'California', 'New York', 'Ohio'],\n",
        "             ['Los Angeles', 'San Francisco', 'New York', 'Cleveland']]\n",
        "\n",
        "# Create a multi-level index using predefined new_index\n",
        "churn_new = pd.MultiIndex.from_arrays(new_index, names=['state', 'city'])\n",
        "\n",
        "# Assign the new index to the churn index\n",
        "churn_4.index = churn_new\n",
        "\n",
        "# Print churn_4\n",
        "print(churn_4)\n",
        "\n",
        "# Reshape by stacking churn DataFrame\n",
        "churn_stack = churn_4.stack()\n",
        "\n",
        "# Print churn\n",
        "print(churn_stack)"
      ],
      "metadata": {
        "id": "JSogPLRCBQey",
        "outputId": "f8eb2875-9c0a-4622-d371-ad7fed6367ec",
        "colab": {
          "base_uri": "https://localhost:8080/"
        }
      },
      "execution_count": null,
      "outputs": [
        {
          "output_type": "stream",
          "name": "stdout",
          "text": [
            "                         State  Account length  Area code International plan  \\\n",
            "state      city                                                                \n",
            "California Los Angeles      LA             117        408                 No   \n",
            "           San Francisco    IN              65        415                 No   \n",
            "New York   New York         NY             161        415                 No   \n",
            "Ohio       Cleveland        SC             111        415                 No   \n",
            "\n",
            "                         Voice mail plan  Number vmail messages  \\\n",
            "state      city                                                   \n",
            "California Los Angeles                No                      0   \n",
            "           San Francisco              No                      0   \n",
            "New York   New York                   No                      0   \n",
            "Ohio       Cleveland                  No                      0   \n",
            "\n",
            "                          Total day minutes  Total day calls  \\\n",
            "state      city                                                \n",
            "California Los Angeles                184.5               97   \n",
            "           San Francisco              129.1              137   \n",
            "New York   New York                   332.9               67   \n",
            "Ohio       Cleveland                  110.4              103   \n",
            "\n",
            "                          Total day charge  Total eve minutes  \\\n",
            "state      city                                                 \n",
            "California Los Angeles               31.37              351.6   \n",
            "           San Francisco             21.95              228.5   \n",
            "New York   New York                  56.59              317.8   \n",
            "Ohio       Cleveland                 18.77              137.3   \n",
            "\n",
            "                          Total eve calls  Total eve charge  \\\n",
            "state      city                                               \n",
            "California Los Angeles                 80             29.89   \n",
            "           San Francisco               83             19.42   \n",
            "New York   New York                    97             27.01   \n",
            "Ohio       Cleveland                  102             11.67   \n",
            "\n",
            "                          Total night minutes  Total night calls  \\\n",
            "state      city                                                    \n",
            "California Los Angeles                  215.8                 90   \n",
            "           San Francisco                208.8                111   \n",
            "New York   New York                     160.6                128   \n",
            "Ohio       Cleveland                    189.6                105   \n",
            "\n",
            "                          Total night charge  Total intl minutes  \\\n",
            "state      city                                                    \n",
            "California Los Angeles                  9.71                 8.7   \n",
            "           San Francisco                9.40                12.7   \n",
            "New York   New York                     7.23                 5.4   \n",
            "Ohio       Cleveland                    8.53                 7.7   \n",
            "\n",
            "                          Total intl calls  Total intl charge  \\\n",
            "state      city                                                 \n",
            "California Los Angeles                   4               2.35   \n",
            "           San Francisco                 6               3.43   \n",
            "New York   New York                      9               1.46   \n",
            "Ohio       Cleveland                     6               2.08   \n",
            "\n",
            "                          Customer service calls  Churn  \n",
            "state      city                                          \n",
            "California Los Angeles                         1  False  \n",
            "           San Francisco                       4   True  \n",
            "New York   New York                            4   True  \n",
            "Ohio       Cleveland                           2  False  \n",
            "state       city                               \n",
            "California  Los Angeles  State                        LA\n",
            "                         Account length              117\n",
            "                         Area code                   408\n",
            "                         International plan           No\n",
            "                         Voice mail plan              No\n",
            "                                                   ...  \n",
            "Ohio        Cleveland    Total intl minutes          7.7\n",
            "                         Total intl calls              6\n",
            "                         Total intl charge          2.08\n",
            "                         Customer service calls        2\n",
            "                         Churn                     False\n",
            "Length: 80, dtype: object\n"
          ]
        }
      ]
    },
    {
      "cell_type": "markdown",
      "source": [
        "##**Unstack DataFrame**\n",
        "\n",
        "* df.unstack()\n",
        "* rearranges innermost row index to become the innermost column index\n",
        "* control with level\n",
        "* chain stack and unstack"
      ],
      "metadata": {
        "id": "8sBg7r4F0yEh"
      }
    },
    {
      "cell_type": "markdown",
      "source": [
        "##**Swap Levels**\n",
        "\n",
        "* df.swaplevel()\n",
        "* chain with stack and unstack\n",
        "* axis=1 - columns\n",
        "* atack / unstack MultiIndex - pass as list\n",
        "\n"
      ],
      "metadata": {
        "id": "hUbHOUN231oy"
      }
    },
    {
      "cell_type": "markdown",
      "source": [
        "##**Handle Missing Data**\n",
        "\n",
        "* unstacking - NaN when subgroups do not have same set of labels\n",
        "* fill_value =\n",
        "* stacking - NaN when combination of index and column vlues are missing in original DataFrame\n",
        "* .stack() - dropna=True by defaukt - set to False\n",
        "* fill missing with .fillna()\n",
        "\n",
        "\n",
        "\n"
      ],
      "metadata": {
        "id": "zWWM8nxH64Xl"
      }
    },
    {
      "cell_type": "markdown",
      "source": [
        "##**Stacking and Summary Statistics**\n",
        "\n",
        "* sales.stack().sum(axis=1).unstack()\n",
        "* sales.unstack(level=1).mean(axis=1)\n",
        "* sales['office_supply'].unstack(level='country').diff(axis=1, periods=2)* sales.stack().groupby(level='shop').sum()\n",
        "* sales.groupby(level=1).median().stack(level=[0 ,1]).unstack(level='year')\n",
        "\n",
        "\n"
      ],
      "metadata": {
        "id": "QGOBiYnOTB5R"
      }
    },
    {
      "cell_type": "markdown",
      "source": [
        "##**Transforming a List-like Column**\n",
        "\n",
        "* columns containing values in a list\n",
        "* transform to seperate columns\n",
        "* df.explode()\n",
        "* explode columns with list data\n",
        "* cities_explode = cities['zip_code'].explode()\n",
        "* get data back into DF\n",
        "* cities[['city', 'country']].merge(cities_explode, left_index=True, right_index=True)\n",
        "* will replicate index\n",
        "\n",
        "###**Faster Way**\n",
        "* explode whole DF\n",
        "* cities_explode = cities.explode('zip_code')\n",
        "* will replicate index\n",
        "* to get DF with unique indexes\n",
        "* cities_explode.reset_index(drop=True, inplace=True)\n",
        "\n",
        "###**Chaining operations for Comma Seperated Strings**\n",
        "* .assign - assigns values to columns\n",
        "* cities.assign(zip_code = cities['zip_code'].str.split(',')).explode('zip_code')\n",
        "\n"
      ],
      "metadata": {
        "id": "alLpKfAJj_j4"
      }
    },
    {
      "cell_type": "code",
      "source": [
        "# Transform the list-like column named bounds\n",
        "obesity_explode = obesity.explode('bounds')\n",
        "\n",
        "# Modify obesity_explode by resetting the index\n",
        "obesity_explode.reset_index(drop=True, inplace=True)\n",
        "\n",
        "# Print obesity_explode\n",
        "print(obesity_explode)"
      ],
      "metadata": {
        "id": "KcnzFkpLpIuG",
        "outputId": "de1b4f9d-428c-4717-e04d-8be490465acb",
        "colab": {
          "base_uri": "https://localhost:8080/"
        }
      },
      "execution_count": null,
      "outputs": [
        {
          "output_type": "stream",
          "name": "stdout",
          "text": [
            "     country  perc_obesity        bounds\n",
            "0  Argentina          21.5  [15.4, 31.5]\n",
            "1    Germany          22.3  [16.2, 32.4]\n",
            "2      Japan           2.5    [1.1, 3.5]\n",
            "3     Norway          23.0  [13.1, 33.0]\n"
          ]
        }
      ]
    },
    {
      "cell_type": "markdown",
      "source": [
        "##**Nested DF in JSON**\n",
        "\n",
        "* JavaScript Object Notation\n",
        "\n",
        "* from pandas import json_normalize\n",
        "\n",
        "* sep parameter\n",
        "\n",
        "* record path parameter - key path to each individual observation\n",
        "\n",
        "* meta parameter - what data to include from rest of Json\n",
        "\n",
        "\n",
        "\n"
      ],
      "metadata": {
        "id": "UT-M4bgH9poX"
      }
    },
    {
      "cell_type": "code",
      "source": [
        "import pandas as pd\n",
        "from pandas import json_normalize\n",
        "\n",
        "writers = [\n",
        "\t\t{'first': 'mary',\n",
        "\t\t 'last' : 'shelly',\n",
        "\t\t'books' : {'title': 'Frankenstein', 'year': 1818}\n",
        "\t\t},\n",
        "\t\t{'first': 'jane',\n",
        "\t\t 'last' : 'austen',\n",
        "\t\t'books' : {'title': 'Pride and Prejudice', 'year': 1811}\n",
        "\t\t},\n",
        "\t\t{'first': 'john',\n",
        "\t\t 'last' : 'tolkien',\n",
        "\t\t'books' : {'title': 'The Hobbit', 'year': 1937}\n",
        "\t\t}\n",
        "  \t]\n",
        "\n",
        "writers_norm = json_normalize(writers, sep='_')\n",
        "print(writers_norm)\n",
        "\n",
        "pd.wide_to_long(writers_norm, stubnames='books', i=['first', 'last'], j='feature', sep='_', suffix ='\\w+')"
      ],
      "metadata": {
        "colab": {
          "base_uri": "https://localhost:8080/",
          "height": 338
        },
        "id": "jYxNKxsFi-1a",
        "outputId": "b2433350-9ecf-43f3-c0de-850106ae28fb"
      },
      "execution_count": null,
      "outputs": [
        {
          "output_type": "stream",
          "name": "stdout",
          "text": [
            "  first     last          books_title  books_year\n",
            "0  mary   shelly         Frankenstein        1818\n",
            "1  jane   austen  Pride and Prejudice        1811\n",
            "2  john  tolkien           The Hobbit        1937\n"
          ]
        },
        {
          "output_type": "execute_result",
          "data": {
            "text/plain": [
              "                                     books\n",
              "first last    feature                     \n",
              "mary  shelly  title           Frankenstein\n",
              "              year                    1818\n",
              "jane  austen  title    Pride and Prejudice\n",
              "              year                    1811\n",
              "john  tolkien title             The Hobbit\n",
              "              year                    1937"
            ],
            "text/html": [
              "\n",
              "  <div id=\"df-b37504f7-468e-4e71-8ca1-8fe48ae58711\" class=\"colab-df-container\">\n",
              "    <div>\n",
              "<style scoped>\n",
              "    .dataframe tbody tr th:only-of-type {\n",
              "        vertical-align: middle;\n",
              "    }\n",
              "\n",
              "    .dataframe tbody tr th {\n",
              "        vertical-align: top;\n",
              "    }\n",
              "\n",
              "    .dataframe thead th {\n",
              "        text-align: right;\n",
              "    }\n",
              "</style>\n",
              "<table border=\"1\" class=\"dataframe\">\n",
              "  <thead>\n",
              "    <tr style=\"text-align: right;\">\n",
              "      <th></th>\n",
              "      <th></th>\n",
              "      <th></th>\n",
              "      <th>books</th>\n",
              "    </tr>\n",
              "    <tr>\n",
              "      <th>first</th>\n",
              "      <th>last</th>\n",
              "      <th>feature</th>\n",
              "      <th></th>\n",
              "    </tr>\n",
              "  </thead>\n",
              "  <tbody>\n",
              "    <tr>\n",
              "      <th rowspan=\"2\" valign=\"top\">mary</th>\n",
              "      <th rowspan=\"2\" valign=\"top\">shelly</th>\n",
              "      <th>title</th>\n",
              "      <td>Frankenstein</td>\n",
              "    </tr>\n",
              "    <tr>\n",
              "      <th>year</th>\n",
              "      <td>1818</td>\n",
              "    </tr>\n",
              "    <tr>\n",
              "      <th rowspan=\"2\" valign=\"top\">jane</th>\n",
              "      <th rowspan=\"2\" valign=\"top\">austen</th>\n",
              "      <th>title</th>\n",
              "      <td>Pride and Prejudice</td>\n",
              "    </tr>\n",
              "    <tr>\n",
              "      <th>year</th>\n",
              "      <td>1811</td>\n",
              "    </tr>\n",
              "    <tr>\n",
              "      <th rowspan=\"2\" valign=\"top\">john</th>\n",
              "      <th rowspan=\"2\" valign=\"top\">tolkien</th>\n",
              "      <th>title</th>\n",
              "      <td>The Hobbit</td>\n",
              "    </tr>\n",
              "    <tr>\n",
              "      <th>year</th>\n",
              "      <td>1937</td>\n",
              "    </tr>\n",
              "  </tbody>\n",
              "</table>\n",
              "</div>\n",
              "    <div class=\"colab-df-buttons\">\n",
              "\n",
              "  <div class=\"colab-df-container\">\n",
              "    <button class=\"colab-df-convert\" onclick=\"convertToInteractive('df-b37504f7-468e-4e71-8ca1-8fe48ae58711')\"\n",
              "            title=\"Convert this dataframe to an interactive table.\"\n",
              "            style=\"display:none;\">\n",
              "\n",
              "  <svg xmlns=\"http://www.w3.org/2000/svg\" height=\"24px\" viewBox=\"0 -960 960 960\">\n",
              "    <path d=\"M120-120v-720h720v720H120Zm60-500h600v-160H180v160Zm220 220h160v-160H400v160Zm0 220h160v-160H400v160ZM180-400h160v-160H180v160Zm440 0h160v-160H620v160ZM180-180h160v-160H180v160Zm440 0h160v-160H620v160Z\"/>\n",
              "  </svg>\n",
              "    </button>\n",
              "\n",
              "  <style>\n",
              "    .colab-df-container {\n",
              "      display:flex;\n",
              "      gap: 12px;\n",
              "    }\n",
              "\n",
              "    .colab-df-convert {\n",
              "      background-color: #E8F0FE;\n",
              "      border: none;\n",
              "      border-radius: 50%;\n",
              "      cursor: pointer;\n",
              "      display: none;\n",
              "      fill: #1967D2;\n",
              "      height: 32px;\n",
              "      padding: 0 0 0 0;\n",
              "      width: 32px;\n",
              "    }\n",
              "\n",
              "    .colab-df-convert:hover {\n",
              "      background-color: #E2EBFA;\n",
              "      box-shadow: 0px 1px 2px rgba(60, 64, 67, 0.3), 0px 1px 3px 1px rgba(60, 64, 67, 0.15);\n",
              "      fill: #174EA6;\n",
              "    }\n",
              "\n",
              "    .colab-df-buttons div {\n",
              "      margin-bottom: 4px;\n",
              "    }\n",
              "\n",
              "    [theme=dark] .colab-df-convert {\n",
              "      background-color: #3B4455;\n",
              "      fill: #D2E3FC;\n",
              "    }\n",
              "\n",
              "    [theme=dark] .colab-df-convert:hover {\n",
              "      background-color: #434B5C;\n",
              "      box-shadow: 0px 1px 3px 1px rgba(0, 0, 0, 0.15);\n",
              "      filter: drop-shadow(0px 1px 2px rgba(0, 0, 0, 0.3));\n",
              "      fill: #FFFFFF;\n",
              "    }\n",
              "  </style>\n",
              "\n",
              "    <script>\n",
              "      const buttonEl =\n",
              "        document.querySelector('#df-b37504f7-468e-4e71-8ca1-8fe48ae58711 button.colab-df-convert');\n",
              "      buttonEl.style.display =\n",
              "        google.colab.kernel.accessAllowed ? 'block' : 'none';\n",
              "\n",
              "      async function convertToInteractive(key) {\n",
              "        const element = document.querySelector('#df-b37504f7-468e-4e71-8ca1-8fe48ae58711');\n",
              "        const dataTable =\n",
              "          await google.colab.kernel.invokeFunction('convertToInteractive',\n",
              "                                                    [key], {});\n",
              "        if (!dataTable) return;\n",
              "\n",
              "        const docLinkHtml = 'Like what you see? Visit the ' +\n",
              "          '<a target=\"_blank\" href=https://colab.research.google.com/notebooks/data_table.ipynb>data table notebook</a>'\n",
              "          + ' to learn more about interactive tables.';\n",
              "        element.innerHTML = '';\n",
              "        dataTable['output_type'] = 'display_data';\n",
              "        await google.colab.output.renderOutput(dataTable, element);\n",
              "        const docLink = document.createElement('div');\n",
              "        docLink.innerHTML = docLinkHtml;\n",
              "        element.appendChild(docLink);\n",
              "      }\n",
              "    </script>\n",
              "  </div>\n",
              "\n",
              "\n",
              "<div id=\"df-1b0214eb-57c4-4a53-9d2d-28594f30f9a9\">\n",
              "  <button class=\"colab-df-quickchart\" onclick=\"quickchart('df-1b0214eb-57c4-4a53-9d2d-28594f30f9a9')\"\n",
              "            title=\"Suggest charts\"\n",
              "            style=\"display:none;\">\n",
              "\n",
              "<svg xmlns=\"http://www.w3.org/2000/svg\" height=\"24px\"viewBox=\"0 0 24 24\"\n",
              "     width=\"24px\">\n",
              "    <g>\n",
              "        <path d=\"M19 3H5c-1.1 0-2 .9-2 2v14c0 1.1.9 2 2 2h14c1.1 0 2-.9 2-2V5c0-1.1-.9-2-2-2zM9 17H7v-7h2v7zm4 0h-2V7h2v10zm4 0h-2v-4h2v4z\"/>\n",
              "    </g>\n",
              "</svg>\n",
              "  </button>\n",
              "\n",
              "<style>\n",
              "  .colab-df-quickchart {\n",
              "      --bg-color: #E8F0FE;\n",
              "      --fill-color: #1967D2;\n",
              "      --hover-bg-color: #E2EBFA;\n",
              "      --hover-fill-color: #174EA6;\n",
              "      --disabled-fill-color: #AAA;\n",
              "      --disabled-bg-color: #DDD;\n",
              "  }\n",
              "\n",
              "  [theme=dark] .colab-df-quickchart {\n",
              "      --bg-color: #3B4455;\n",
              "      --fill-color: #D2E3FC;\n",
              "      --hover-bg-color: #434B5C;\n",
              "      --hover-fill-color: #FFFFFF;\n",
              "      --disabled-bg-color: #3B4455;\n",
              "      --disabled-fill-color: #666;\n",
              "  }\n",
              "\n",
              "  .colab-df-quickchart {\n",
              "    background-color: var(--bg-color);\n",
              "    border: none;\n",
              "    border-radius: 50%;\n",
              "    cursor: pointer;\n",
              "    display: none;\n",
              "    fill: var(--fill-color);\n",
              "    height: 32px;\n",
              "    padding: 0;\n",
              "    width: 32px;\n",
              "  }\n",
              "\n",
              "  .colab-df-quickchart:hover {\n",
              "    background-color: var(--hover-bg-color);\n",
              "    box-shadow: 0 1px 2px rgba(60, 64, 67, 0.3), 0 1px 3px 1px rgba(60, 64, 67, 0.15);\n",
              "    fill: var(--button-hover-fill-color);\n",
              "  }\n",
              "\n",
              "  .colab-df-quickchart-complete:disabled,\n",
              "  .colab-df-quickchart-complete:disabled:hover {\n",
              "    background-color: var(--disabled-bg-color);\n",
              "    fill: var(--disabled-fill-color);\n",
              "    box-shadow: none;\n",
              "  }\n",
              "\n",
              "  .colab-df-spinner {\n",
              "    border: 2px solid var(--fill-color);\n",
              "    border-color: transparent;\n",
              "    border-bottom-color: var(--fill-color);\n",
              "    animation:\n",
              "      spin 1s steps(1) infinite;\n",
              "  }\n",
              "\n",
              "  @keyframes spin {\n",
              "    0% {\n",
              "      border-color: transparent;\n",
              "      border-bottom-color: var(--fill-color);\n",
              "      border-left-color: var(--fill-color);\n",
              "    }\n",
              "    20% {\n",
              "      border-color: transparent;\n",
              "      border-left-color: var(--fill-color);\n",
              "      border-top-color: var(--fill-color);\n",
              "    }\n",
              "    30% {\n",
              "      border-color: transparent;\n",
              "      border-left-color: var(--fill-color);\n",
              "      border-top-color: var(--fill-color);\n",
              "      border-right-color: var(--fill-color);\n",
              "    }\n",
              "    40% {\n",
              "      border-color: transparent;\n",
              "      border-right-color: var(--fill-color);\n",
              "      border-top-color: var(--fill-color);\n",
              "    }\n",
              "    60% {\n",
              "      border-color: transparent;\n",
              "      border-right-color: var(--fill-color);\n",
              "    }\n",
              "    80% {\n",
              "      border-color: transparent;\n",
              "      border-right-color: var(--fill-color);\n",
              "      border-bottom-color: var(--fill-color);\n",
              "    }\n",
              "    90% {\n",
              "      border-color: transparent;\n",
              "      border-bottom-color: var(--fill-color);\n",
              "    }\n",
              "  }\n",
              "</style>\n",
              "\n",
              "  <script>\n",
              "    async function quickchart(key) {\n",
              "      const quickchartButtonEl =\n",
              "        document.querySelector('#' + key + ' button');\n",
              "      quickchartButtonEl.disabled = true;  // To prevent multiple clicks.\n",
              "      quickchartButtonEl.classList.add('colab-df-spinner');\n",
              "      try {\n",
              "        const charts = await google.colab.kernel.invokeFunction(\n",
              "            'suggestCharts', [key], {});\n",
              "      } catch (error) {\n",
              "        console.error('Error during call to suggestCharts:', error);\n",
              "      }\n",
              "      quickchartButtonEl.classList.remove('colab-df-spinner');\n",
              "      quickchartButtonEl.classList.add('colab-df-quickchart-complete');\n",
              "    }\n",
              "    (() => {\n",
              "      let quickchartButtonEl =\n",
              "        document.querySelector('#df-1b0214eb-57c4-4a53-9d2d-28594f30f9a9 button');\n",
              "      quickchartButtonEl.style.display =\n",
              "        google.colab.kernel.accessAllowed ? 'block' : 'none';\n",
              "    })();\n",
              "  </script>\n",
              "</div>\n",
              "\n",
              "    </div>\n",
              "  </div>\n"
            ],
            "application/vnd.google.colaboratory.intrinsic+json": {
              "type": "dataframe",
              "summary": "{\n  \"name\": \"pd\",\n  \"rows\": 6,\n  \"fields\": [\n    {\n      \"column\": \"books\",\n      \"properties\": {\n        \"dtype\": \"string\",\n        \"num_unique_values\": 6,\n        \"samples\": [\n          \"Frankenstein\",\n          1818,\n          1937\n        ],\n        \"semantic_type\": \"\",\n        \"description\": \"\"\n      }\n    }\n  ]\n}"
            }
          },
          "metadata": {},
          "execution_count": 9
        }
      ]
    },
    {
      "cell_type": "code",
      "source": [
        "writers =  [\n",
        "\t\t{'first': 'mary',\n",
        "\t\t 'last' : 'shelly',\n",
        "\t\t'books' : [{'title': 'Frankenstein', 'year': 1818},\n",
        "                   {'title': 'The Count of Monte Cristo', 'year': 1844},\n",
        "                   {'title': 'Wuthering Heights', 'year': 1847}]},\n",
        "\n",
        "\t\t{'first': 'jane',\n",
        "\t\t 'last' : 'austen',\n",
        "\t\t'books' : [{'title': 'Pride and Prejudice', 'year': 1811},\n",
        "                   {'title': 'Emma', 'year': 1815},\n",
        "                   {'title': 'Persuasion', 'year': 1817}]},\n",
        "\n",
        "\t\t{'first': 'john',\n",
        "\t\t 'last' : 'tolkien',\n",
        "\t\t'books' : [{'title': 'The Hobbit', 'year': 1937},\n",
        "                   {'title': 'The Lord of the Rings', 'year': 1954},\n",
        "                   {'title': 'The Silmarillion', 'year': 1977}]}\n",
        "\t\t  \t]\n",
        "\n",
        "print(json_normalize(writers, record_path='books', meta=['first', 'last']))"
      ],
      "metadata": {
        "colab": {
          "base_uri": "https://localhost:8080/"
        },
        "id": "D6haP3kvQHLa",
        "outputId": "e5d737e3-ff52-4332-d62d-ed2faad49c15"
      },
      "execution_count": null,
      "outputs": [
        {
          "output_type": "stream",
          "name": "stdout",
          "text": [
            "                       title  year first     last\n",
            "0               Frankenstein  1818  mary   shelly\n",
            "1  The Count of Monte Cristo  1844  mary   shelly\n",
            "2          Wuthering Heights  1847  mary   shelly\n",
            "3        Pride and Prejudice  1811  jane   austen\n",
            "4                       Emma  1815  jane   austen\n",
            "5                 Persuasion  1817  jane   austen\n",
            "6                 The Hobbit  1937  john  tolkien\n",
            "7      The Lord of the Rings  1954  john  tolkien\n",
            "8           The Silmarillion  1977  john  tolkien\n"
          ]
        }
      ]
    },
    {
      "cell_type": "markdown",
      "source": [
        "##**Nested Data Columns**\n",
        "\n",
        "* import json\n",
        "\n",
        "* load books to dictionary\n",
        "\n",
        "* .apply(json.loads) - will convert JSON string to Python dictionary\n",
        "\n",
        "* .apply(pd.Series) - will convert dictionary to series object\n",
        "\n",
        "* drop nested data and concatenate with DF\n",
        "\n",
        "OR\n",
        "\n",
        "* load to list after json.loads\n",
        "\n",
        "* json.dumps function to to transform JSON object to string\n",
        "\n",
        "* read_json function to read string to DF\n",
        "\n",
        "* concat with writers\n",
        "\n"
      ],
      "metadata": {
        "id": "E4CxkKIPTebR"
      }
    },
    {
      "cell_type": "code",
      "source": [
        "writers = [\"Mary Shelly\", \"Ernest Hemingway\"]\n",
        "\n",
        "books = ['{\"title\": \"Frankenstein\", \"year\": 1818}',\n",
        "\t'{\"title\": \"The Old Man and the Sea\", \"year\": 1951}']\n",
        "\n",
        "collection = pd.DataFrame(dict(writers=writers, books=books))\n",
        "print(collection)\n",
        "\n",
        "import json\n",
        "\n",
        "books = collection['books'].apply(json.loads).apply(pd.Series)\n",
        "print(books)\n",
        "\n",
        "collection = collection.drop(columns='books')\n",
        "pd.concat([collection, books], axis=1)\n",
        "\n",
        "\n"
      ],
      "metadata": {
        "colab": {
          "base_uri": "https://localhost:8080/",
          "height": 216
        },
        "id": "W8CntUDrVSKa",
        "outputId": "b687616c-1d0c-4d61-deb3-dac636a7abca"
      },
      "execution_count": null,
      "outputs": [
        {
          "output_type": "stream",
          "name": "stdout",
          "text": [
            "            writers                                              books\n",
            "0       Mary Shelly            {\"title\": \"Frankenstein\", \"year\": 1818}\n",
            "1  Ernest Hemingway  {\"title\": \"The Old Man and the Sea\", \"year\": 1...\n",
            "                     title  year\n",
            "0             Frankenstein  1818\n",
            "1  The Old Man and the Sea  1951\n"
          ]
        },
        {
          "output_type": "execute_result",
          "data": {
            "text/plain": [
              "            writers                    title  year\n",
              "0       Mary Shelly             Frankenstein  1818\n",
              "1  Ernest Hemingway  The Old Man and the Sea  1951"
            ],
            "text/html": [
              "\n",
              "  <div id=\"df-3d176896-5480-48a4-9a3c-b570b11d960b\" class=\"colab-df-container\">\n",
              "    <div>\n",
              "<style scoped>\n",
              "    .dataframe tbody tr th:only-of-type {\n",
              "        vertical-align: middle;\n",
              "    }\n",
              "\n",
              "    .dataframe tbody tr th {\n",
              "        vertical-align: top;\n",
              "    }\n",
              "\n",
              "    .dataframe thead th {\n",
              "        text-align: right;\n",
              "    }\n",
              "</style>\n",
              "<table border=\"1\" class=\"dataframe\">\n",
              "  <thead>\n",
              "    <tr style=\"text-align: right;\">\n",
              "      <th></th>\n",
              "      <th>writers</th>\n",
              "      <th>title</th>\n",
              "      <th>year</th>\n",
              "    </tr>\n",
              "  </thead>\n",
              "  <tbody>\n",
              "    <tr>\n",
              "      <th>0</th>\n",
              "      <td>Mary Shelly</td>\n",
              "      <td>Frankenstein</td>\n",
              "      <td>1818</td>\n",
              "    </tr>\n",
              "    <tr>\n",
              "      <th>1</th>\n",
              "      <td>Ernest Hemingway</td>\n",
              "      <td>The Old Man and the Sea</td>\n",
              "      <td>1951</td>\n",
              "    </tr>\n",
              "  </tbody>\n",
              "</table>\n",
              "</div>\n",
              "    <div class=\"colab-df-buttons\">\n",
              "\n",
              "  <div class=\"colab-df-container\">\n",
              "    <button class=\"colab-df-convert\" onclick=\"convertToInteractive('df-3d176896-5480-48a4-9a3c-b570b11d960b')\"\n",
              "            title=\"Convert this dataframe to an interactive table.\"\n",
              "            style=\"display:none;\">\n",
              "\n",
              "  <svg xmlns=\"http://www.w3.org/2000/svg\" height=\"24px\" viewBox=\"0 -960 960 960\">\n",
              "    <path d=\"M120-120v-720h720v720H120Zm60-500h600v-160H180v160Zm220 220h160v-160H400v160Zm0 220h160v-160H400v160ZM180-400h160v-160H180v160Zm440 0h160v-160H620v160ZM180-180h160v-160H180v160Zm440 0h160v-160H620v160Z\"/>\n",
              "  </svg>\n",
              "    </button>\n",
              "\n",
              "  <style>\n",
              "    .colab-df-container {\n",
              "      display:flex;\n",
              "      gap: 12px;\n",
              "    }\n",
              "\n",
              "    .colab-df-convert {\n",
              "      background-color: #E8F0FE;\n",
              "      border: none;\n",
              "      border-radius: 50%;\n",
              "      cursor: pointer;\n",
              "      display: none;\n",
              "      fill: #1967D2;\n",
              "      height: 32px;\n",
              "      padding: 0 0 0 0;\n",
              "      width: 32px;\n",
              "    }\n",
              "\n",
              "    .colab-df-convert:hover {\n",
              "      background-color: #E2EBFA;\n",
              "      box-shadow: 0px 1px 2px rgba(60, 64, 67, 0.3), 0px 1px 3px 1px rgba(60, 64, 67, 0.15);\n",
              "      fill: #174EA6;\n",
              "    }\n",
              "\n",
              "    .colab-df-buttons div {\n",
              "      margin-bottom: 4px;\n",
              "    }\n",
              "\n",
              "    [theme=dark] .colab-df-convert {\n",
              "      background-color: #3B4455;\n",
              "      fill: #D2E3FC;\n",
              "    }\n",
              "\n",
              "    [theme=dark] .colab-df-convert:hover {\n",
              "      background-color: #434B5C;\n",
              "      box-shadow: 0px 1px 3px 1px rgba(0, 0, 0, 0.15);\n",
              "      filter: drop-shadow(0px 1px 2px rgba(0, 0, 0, 0.3));\n",
              "      fill: #FFFFFF;\n",
              "    }\n",
              "  </style>\n",
              "\n",
              "    <script>\n",
              "      const buttonEl =\n",
              "        document.querySelector('#df-3d176896-5480-48a4-9a3c-b570b11d960b button.colab-df-convert');\n",
              "      buttonEl.style.display =\n",
              "        google.colab.kernel.accessAllowed ? 'block' : 'none';\n",
              "\n",
              "      async function convertToInteractive(key) {\n",
              "        const element = document.querySelector('#df-3d176896-5480-48a4-9a3c-b570b11d960b');\n",
              "        const dataTable =\n",
              "          await google.colab.kernel.invokeFunction('convertToInteractive',\n",
              "                                                    [key], {});\n",
              "        if (!dataTable) return;\n",
              "\n",
              "        const docLinkHtml = 'Like what you see? Visit the ' +\n",
              "          '<a target=\"_blank\" href=https://colab.research.google.com/notebooks/data_table.ipynb>data table notebook</a>'\n",
              "          + ' to learn more about interactive tables.';\n",
              "        element.innerHTML = '';\n",
              "        dataTable['output_type'] = 'display_data';\n",
              "        await google.colab.output.renderOutput(dataTable, element);\n",
              "        const docLink = document.createElement('div');\n",
              "        docLink.innerHTML = docLinkHtml;\n",
              "        element.appendChild(docLink);\n",
              "      }\n",
              "    </script>\n",
              "  </div>\n",
              "\n",
              "\n",
              "<div id=\"df-affbd4ee-2f56-4a3d-989c-923393fbe144\">\n",
              "  <button class=\"colab-df-quickchart\" onclick=\"quickchart('df-affbd4ee-2f56-4a3d-989c-923393fbe144')\"\n",
              "            title=\"Suggest charts\"\n",
              "            style=\"display:none;\">\n",
              "\n",
              "<svg xmlns=\"http://www.w3.org/2000/svg\" height=\"24px\"viewBox=\"0 0 24 24\"\n",
              "     width=\"24px\">\n",
              "    <g>\n",
              "        <path d=\"M19 3H5c-1.1 0-2 .9-2 2v14c0 1.1.9 2 2 2h14c1.1 0 2-.9 2-2V5c0-1.1-.9-2-2-2zM9 17H7v-7h2v7zm4 0h-2V7h2v10zm4 0h-2v-4h2v4z\"/>\n",
              "    </g>\n",
              "</svg>\n",
              "  </button>\n",
              "\n",
              "<style>\n",
              "  .colab-df-quickchart {\n",
              "      --bg-color: #E8F0FE;\n",
              "      --fill-color: #1967D2;\n",
              "      --hover-bg-color: #E2EBFA;\n",
              "      --hover-fill-color: #174EA6;\n",
              "      --disabled-fill-color: #AAA;\n",
              "      --disabled-bg-color: #DDD;\n",
              "  }\n",
              "\n",
              "  [theme=dark] .colab-df-quickchart {\n",
              "      --bg-color: #3B4455;\n",
              "      --fill-color: #D2E3FC;\n",
              "      --hover-bg-color: #434B5C;\n",
              "      --hover-fill-color: #FFFFFF;\n",
              "      --disabled-bg-color: #3B4455;\n",
              "      --disabled-fill-color: #666;\n",
              "  }\n",
              "\n",
              "  .colab-df-quickchart {\n",
              "    background-color: var(--bg-color);\n",
              "    border: none;\n",
              "    border-radius: 50%;\n",
              "    cursor: pointer;\n",
              "    display: none;\n",
              "    fill: var(--fill-color);\n",
              "    height: 32px;\n",
              "    padding: 0;\n",
              "    width: 32px;\n",
              "  }\n",
              "\n",
              "  .colab-df-quickchart:hover {\n",
              "    background-color: var(--hover-bg-color);\n",
              "    box-shadow: 0 1px 2px rgba(60, 64, 67, 0.3), 0 1px 3px 1px rgba(60, 64, 67, 0.15);\n",
              "    fill: var(--button-hover-fill-color);\n",
              "  }\n",
              "\n",
              "  .colab-df-quickchart-complete:disabled,\n",
              "  .colab-df-quickchart-complete:disabled:hover {\n",
              "    background-color: var(--disabled-bg-color);\n",
              "    fill: var(--disabled-fill-color);\n",
              "    box-shadow: none;\n",
              "  }\n",
              "\n",
              "  .colab-df-spinner {\n",
              "    border: 2px solid var(--fill-color);\n",
              "    border-color: transparent;\n",
              "    border-bottom-color: var(--fill-color);\n",
              "    animation:\n",
              "      spin 1s steps(1) infinite;\n",
              "  }\n",
              "\n",
              "  @keyframes spin {\n",
              "    0% {\n",
              "      border-color: transparent;\n",
              "      border-bottom-color: var(--fill-color);\n",
              "      border-left-color: var(--fill-color);\n",
              "    }\n",
              "    20% {\n",
              "      border-color: transparent;\n",
              "      border-left-color: var(--fill-color);\n",
              "      border-top-color: var(--fill-color);\n",
              "    }\n",
              "    30% {\n",
              "      border-color: transparent;\n",
              "      border-left-color: var(--fill-color);\n",
              "      border-top-color: var(--fill-color);\n",
              "      border-right-color: var(--fill-color);\n",
              "    }\n",
              "    40% {\n",
              "      border-color: transparent;\n",
              "      border-right-color: var(--fill-color);\n",
              "      border-top-color: var(--fill-color);\n",
              "    }\n",
              "    60% {\n",
              "      border-color: transparent;\n",
              "      border-right-color: var(--fill-color);\n",
              "    }\n",
              "    80% {\n",
              "      border-color: transparent;\n",
              "      border-right-color: var(--fill-color);\n",
              "      border-bottom-color: var(--fill-color);\n",
              "    }\n",
              "    90% {\n",
              "      border-color: transparent;\n",
              "      border-bottom-color: var(--fill-color);\n",
              "    }\n",
              "  }\n",
              "</style>\n",
              "\n",
              "  <script>\n",
              "    async function quickchart(key) {\n",
              "      const quickchartButtonEl =\n",
              "        document.querySelector('#' + key + ' button');\n",
              "      quickchartButtonEl.disabled = true;  // To prevent multiple clicks.\n",
              "      quickchartButtonEl.classList.add('colab-df-spinner');\n",
              "      try {\n",
              "        const charts = await google.colab.kernel.invokeFunction(\n",
              "            'suggestCharts', [key], {});\n",
              "      } catch (error) {\n",
              "        console.error('Error during call to suggestCharts:', error);\n",
              "      }\n",
              "      quickchartButtonEl.classList.remove('colab-df-spinner');\n",
              "      quickchartButtonEl.classList.add('colab-df-quickchart-complete');\n",
              "    }\n",
              "    (() => {\n",
              "      let quickchartButtonEl =\n",
              "        document.querySelector('#df-affbd4ee-2f56-4a3d-989c-923393fbe144 button');\n",
              "      quickchartButtonEl.style.display =\n",
              "        google.colab.kernel.accessAllowed ? 'block' : 'none';\n",
              "    })();\n",
              "  </script>\n",
              "</div>\n",
              "\n",
              "    </div>\n",
              "  </div>\n"
            ],
            "application/vnd.google.colaboratory.intrinsic+json": {
              "type": "dataframe",
              "summary": "{\n  \"name\": \"pd\",\n  \"rows\": 2,\n  \"fields\": [\n    {\n      \"column\": \"writers\",\n      \"properties\": {\n        \"dtype\": \"string\",\n        \"num_unique_values\": 2,\n        \"samples\": [\n          \"Ernest Hemingway\",\n          \"Mary Shelly\"\n        ],\n        \"semantic_type\": \"\",\n        \"description\": \"\"\n      }\n    },\n    {\n      \"column\": \"title\",\n      \"properties\": {\n        \"dtype\": \"string\",\n        \"num_unique_values\": 2,\n        \"samples\": [\n          \"The Old Man and the Sea\",\n          \"Frankenstein\"\n        ],\n        \"semantic_type\": \"\",\n        \"description\": \"\"\n      }\n    },\n    {\n      \"column\": \"year\",\n      \"properties\": {\n        \"dtype\": \"number\",\n        \"std\": 94,\n        \"min\": 1818,\n        \"max\": 1951,\n        \"num_unique_values\": 2,\n        \"samples\": [\n          1951,\n          1818\n        ],\n        \"semantic_type\": \"\",\n        \"description\": \"\"\n      }\n    }\n  ]\n}"
            }
          },
          "metadata": {},
          "execution_count": 45
        }
      ]
    },
    {
      "cell_type": "code",
      "source": [
        "writers = [\"Mary Shelly\", \"Ernest Hemingway\"]\n",
        "\n",
        "books = ['{\"title\": \"Frankenstein\", \"year\": 1818}',\n",
        "\t'{\"title\": \"The Old Man and the Sea\", \"year\": 1951}']\n",
        "\n",
        "collection = pd.DataFrame(dict(writers=writers, books=books))\n",
        "print(collection)\n",
        "\n",
        "import json\n",
        "\n",
        "books = collection['books'].apply(json.loads).to_list()\n",
        "\n",
        "books_dump = json.dumps(books)\n",
        "\n",
        "new_books = pd.read_json(books_dump)\n",
        "print(new_books)\n",
        "\n",
        "pd.concat([collection['writers'], new_books], axis = 1)\n"
      ],
      "metadata": {
        "colab": {
          "base_uri": "https://localhost:8080/",
          "height": 271
        },
        "id": "_JsHUkKmZd4V",
        "outputId": "e42debe0-ebe1-4015-e23e-924e685504df"
      },
      "execution_count": null,
      "outputs": [
        {
          "output_type": "stream",
          "name": "stdout",
          "text": [
            "            writers                                              books\n",
            "0       Mary Shelly            {\"title\": \"Frankenstein\", \"year\": 1818}\n",
            "1  Ernest Hemingway  {\"title\": \"The Old Man and the Sea\", \"year\": 1...\n",
            "                     title  year\n",
            "0             Frankenstein  1818\n",
            "1  The Old Man and the Sea  1951\n"
          ]
        },
        {
          "output_type": "stream",
          "name": "stderr",
          "text": [
            "<ipython-input-48-d38b9b3c60b4>:15: FutureWarning: Passing literal json to 'read_json' is deprecated and will be removed in a future version. To read from a literal string, wrap it in a 'StringIO' object.\n",
            "  new_books = pd.read_json(books_dump)\n"
          ]
        },
        {
          "output_type": "execute_result",
          "data": {
            "text/plain": [
              "            writers                    title  year\n",
              "0       Mary Shelly             Frankenstein  1818\n",
              "1  Ernest Hemingway  The Old Man and the Sea  1951"
            ],
            "text/html": [
              "\n",
              "  <div id=\"df-ea7495bc-317c-436e-ab29-1d56ac11e6c1\" class=\"colab-df-container\">\n",
              "    <div>\n",
              "<style scoped>\n",
              "    .dataframe tbody tr th:only-of-type {\n",
              "        vertical-align: middle;\n",
              "    }\n",
              "\n",
              "    .dataframe tbody tr th {\n",
              "        vertical-align: top;\n",
              "    }\n",
              "\n",
              "    .dataframe thead th {\n",
              "        text-align: right;\n",
              "    }\n",
              "</style>\n",
              "<table border=\"1\" class=\"dataframe\">\n",
              "  <thead>\n",
              "    <tr style=\"text-align: right;\">\n",
              "      <th></th>\n",
              "      <th>writers</th>\n",
              "      <th>title</th>\n",
              "      <th>year</th>\n",
              "    </tr>\n",
              "  </thead>\n",
              "  <tbody>\n",
              "    <tr>\n",
              "      <th>0</th>\n",
              "      <td>Mary Shelly</td>\n",
              "      <td>Frankenstein</td>\n",
              "      <td>1818</td>\n",
              "    </tr>\n",
              "    <tr>\n",
              "      <th>1</th>\n",
              "      <td>Ernest Hemingway</td>\n",
              "      <td>The Old Man and the Sea</td>\n",
              "      <td>1951</td>\n",
              "    </tr>\n",
              "  </tbody>\n",
              "</table>\n",
              "</div>\n",
              "    <div class=\"colab-df-buttons\">\n",
              "\n",
              "  <div class=\"colab-df-container\">\n",
              "    <button class=\"colab-df-convert\" onclick=\"convertToInteractive('df-ea7495bc-317c-436e-ab29-1d56ac11e6c1')\"\n",
              "            title=\"Convert this dataframe to an interactive table.\"\n",
              "            style=\"display:none;\">\n",
              "\n",
              "  <svg xmlns=\"http://www.w3.org/2000/svg\" height=\"24px\" viewBox=\"0 -960 960 960\">\n",
              "    <path d=\"M120-120v-720h720v720H120Zm60-500h600v-160H180v160Zm220 220h160v-160H400v160Zm0 220h160v-160H400v160ZM180-400h160v-160H180v160Zm440 0h160v-160H620v160ZM180-180h160v-160H180v160Zm440 0h160v-160H620v160Z\"/>\n",
              "  </svg>\n",
              "    </button>\n",
              "\n",
              "  <style>\n",
              "    .colab-df-container {\n",
              "      display:flex;\n",
              "      gap: 12px;\n",
              "    }\n",
              "\n",
              "    .colab-df-convert {\n",
              "      background-color: #E8F0FE;\n",
              "      border: none;\n",
              "      border-radius: 50%;\n",
              "      cursor: pointer;\n",
              "      display: none;\n",
              "      fill: #1967D2;\n",
              "      height: 32px;\n",
              "      padding: 0 0 0 0;\n",
              "      width: 32px;\n",
              "    }\n",
              "\n",
              "    .colab-df-convert:hover {\n",
              "      background-color: #E2EBFA;\n",
              "      box-shadow: 0px 1px 2px rgba(60, 64, 67, 0.3), 0px 1px 3px 1px rgba(60, 64, 67, 0.15);\n",
              "      fill: #174EA6;\n",
              "    }\n",
              "\n",
              "    .colab-df-buttons div {\n",
              "      margin-bottom: 4px;\n",
              "    }\n",
              "\n",
              "    [theme=dark] .colab-df-convert {\n",
              "      background-color: #3B4455;\n",
              "      fill: #D2E3FC;\n",
              "    }\n",
              "\n",
              "    [theme=dark] .colab-df-convert:hover {\n",
              "      background-color: #434B5C;\n",
              "      box-shadow: 0px 1px 3px 1px rgba(0, 0, 0, 0.15);\n",
              "      filter: drop-shadow(0px 1px 2px rgba(0, 0, 0, 0.3));\n",
              "      fill: #FFFFFF;\n",
              "    }\n",
              "  </style>\n",
              "\n",
              "    <script>\n",
              "      const buttonEl =\n",
              "        document.querySelector('#df-ea7495bc-317c-436e-ab29-1d56ac11e6c1 button.colab-df-convert');\n",
              "      buttonEl.style.display =\n",
              "        google.colab.kernel.accessAllowed ? 'block' : 'none';\n",
              "\n",
              "      async function convertToInteractive(key) {\n",
              "        const element = document.querySelector('#df-ea7495bc-317c-436e-ab29-1d56ac11e6c1');\n",
              "        const dataTable =\n",
              "          await google.colab.kernel.invokeFunction('convertToInteractive',\n",
              "                                                    [key], {});\n",
              "        if (!dataTable) return;\n",
              "\n",
              "        const docLinkHtml = 'Like what you see? Visit the ' +\n",
              "          '<a target=\"_blank\" href=https://colab.research.google.com/notebooks/data_table.ipynb>data table notebook</a>'\n",
              "          + ' to learn more about interactive tables.';\n",
              "        element.innerHTML = '';\n",
              "        dataTable['output_type'] = 'display_data';\n",
              "        await google.colab.output.renderOutput(dataTable, element);\n",
              "        const docLink = document.createElement('div');\n",
              "        docLink.innerHTML = docLinkHtml;\n",
              "        element.appendChild(docLink);\n",
              "      }\n",
              "    </script>\n",
              "  </div>\n",
              "\n",
              "\n",
              "<div id=\"df-adce1d0a-ff50-4561-881a-2b15ed83e4e6\">\n",
              "  <button class=\"colab-df-quickchart\" onclick=\"quickchart('df-adce1d0a-ff50-4561-881a-2b15ed83e4e6')\"\n",
              "            title=\"Suggest charts\"\n",
              "            style=\"display:none;\">\n",
              "\n",
              "<svg xmlns=\"http://www.w3.org/2000/svg\" height=\"24px\"viewBox=\"0 0 24 24\"\n",
              "     width=\"24px\">\n",
              "    <g>\n",
              "        <path d=\"M19 3H5c-1.1 0-2 .9-2 2v14c0 1.1.9 2 2 2h14c1.1 0 2-.9 2-2V5c0-1.1-.9-2-2-2zM9 17H7v-7h2v7zm4 0h-2V7h2v10zm4 0h-2v-4h2v4z\"/>\n",
              "    </g>\n",
              "</svg>\n",
              "  </button>\n",
              "\n",
              "<style>\n",
              "  .colab-df-quickchart {\n",
              "      --bg-color: #E8F0FE;\n",
              "      --fill-color: #1967D2;\n",
              "      --hover-bg-color: #E2EBFA;\n",
              "      --hover-fill-color: #174EA6;\n",
              "      --disabled-fill-color: #AAA;\n",
              "      --disabled-bg-color: #DDD;\n",
              "  }\n",
              "\n",
              "  [theme=dark] .colab-df-quickchart {\n",
              "      --bg-color: #3B4455;\n",
              "      --fill-color: #D2E3FC;\n",
              "      --hover-bg-color: #434B5C;\n",
              "      --hover-fill-color: #FFFFFF;\n",
              "      --disabled-bg-color: #3B4455;\n",
              "      --disabled-fill-color: #666;\n",
              "  }\n",
              "\n",
              "  .colab-df-quickchart {\n",
              "    background-color: var(--bg-color);\n",
              "    border: none;\n",
              "    border-radius: 50%;\n",
              "    cursor: pointer;\n",
              "    display: none;\n",
              "    fill: var(--fill-color);\n",
              "    height: 32px;\n",
              "    padding: 0;\n",
              "    width: 32px;\n",
              "  }\n",
              "\n",
              "  .colab-df-quickchart:hover {\n",
              "    background-color: var(--hover-bg-color);\n",
              "    box-shadow: 0 1px 2px rgba(60, 64, 67, 0.3), 0 1px 3px 1px rgba(60, 64, 67, 0.15);\n",
              "    fill: var(--button-hover-fill-color);\n",
              "  }\n",
              "\n",
              "  .colab-df-quickchart-complete:disabled,\n",
              "  .colab-df-quickchart-complete:disabled:hover {\n",
              "    background-color: var(--disabled-bg-color);\n",
              "    fill: var(--disabled-fill-color);\n",
              "    box-shadow: none;\n",
              "  }\n",
              "\n",
              "  .colab-df-spinner {\n",
              "    border: 2px solid var(--fill-color);\n",
              "    border-color: transparent;\n",
              "    border-bottom-color: var(--fill-color);\n",
              "    animation:\n",
              "      spin 1s steps(1) infinite;\n",
              "  }\n",
              "\n",
              "  @keyframes spin {\n",
              "    0% {\n",
              "      border-color: transparent;\n",
              "      border-bottom-color: var(--fill-color);\n",
              "      border-left-color: var(--fill-color);\n",
              "    }\n",
              "    20% {\n",
              "      border-color: transparent;\n",
              "      border-left-color: var(--fill-color);\n",
              "      border-top-color: var(--fill-color);\n",
              "    }\n",
              "    30% {\n",
              "      border-color: transparent;\n",
              "      border-left-color: var(--fill-color);\n",
              "      border-top-color: var(--fill-color);\n",
              "      border-right-color: var(--fill-color);\n",
              "    }\n",
              "    40% {\n",
              "      border-color: transparent;\n",
              "      border-right-color: var(--fill-color);\n",
              "      border-top-color: var(--fill-color);\n",
              "    }\n",
              "    60% {\n",
              "      border-color: transparent;\n",
              "      border-right-color: var(--fill-color);\n",
              "    }\n",
              "    80% {\n",
              "      border-color: transparent;\n",
              "      border-right-color: var(--fill-color);\n",
              "      border-bottom-color: var(--fill-color);\n",
              "    }\n",
              "    90% {\n",
              "      border-color: transparent;\n",
              "      border-bottom-color: var(--fill-color);\n",
              "    }\n",
              "  }\n",
              "</style>\n",
              "\n",
              "  <script>\n",
              "    async function quickchart(key) {\n",
              "      const quickchartButtonEl =\n",
              "        document.querySelector('#' + key + ' button');\n",
              "      quickchartButtonEl.disabled = true;  // To prevent multiple clicks.\n",
              "      quickchartButtonEl.classList.add('colab-df-spinner');\n",
              "      try {\n",
              "        const charts = await google.colab.kernel.invokeFunction(\n",
              "            'suggestCharts', [key], {});\n",
              "      } catch (error) {\n",
              "        console.error('Error during call to suggestCharts:', error);\n",
              "      }\n",
              "      quickchartButtonEl.classList.remove('colab-df-spinner');\n",
              "      quickchartButtonEl.classList.add('colab-df-quickchart-complete');\n",
              "    }\n",
              "    (() => {\n",
              "      let quickchartButtonEl =\n",
              "        document.querySelector('#df-adce1d0a-ff50-4561-881a-2b15ed83e4e6 button');\n",
              "      quickchartButtonEl.style.display =\n",
              "        google.colab.kernel.accessAllowed ? 'block' : 'none';\n",
              "    })();\n",
              "  </script>\n",
              "</div>\n",
              "\n",
              "    </div>\n",
              "  </div>\n"
            ],
            "application/vnd.google.colaboratory.intrinsic+json": {
              "type": "dataframe",
              "summary": "{\n  \"name\": \"pd\",\n  \"rows\": 2,\n  \"fields\": [\n    {\n      \"column\": \"writers\",\n      \"properties\": {\n        \"dtype\": \"string\",\n        \"num_unique_values\": 2,\n        \"samples\": [\n          \"Ernest Hemingway\",\n          \"Mary Shelly\"\n        ],\n        \"semantic_type\": \"\",\n        \"description\": \"\"\n      }\n    },\n    {\n      \"column\": \"title\",\n      \"properties\": {\n        \"dtype\": \"string\",\n        \"num_unique_values\": 2,\n        \"samples\": [\n          \"The Old Man and the Sea\",\n          \"Frankenstein\"\n        ],\n        \"semantic_type\": \"\",\n        \"description\": \"\"\n      }\n    },\n    {\n      \"column\": \"year\",\n      \"properties\": {\n        \"dtype\": \"number\",\n        \"std\": 94,\n        \"min\": 1818,\n        \"max\": 1951,\n        \"num_unique_values\": 2,\n        \"samples\": [\n          1951,\n          1818\n        ],\n        \"semantic_type\": \"\",\n        \"description\": \"\"\n      }\n    }\n  ]\n}"
            }
          },
          "metadata": {},
          "execution_count": 48
        }
      ]
    },
    {
      "cell_type": "markdown",
      "source": [
        "#**JOINING DATA WITH PANDAS**"
      ],
      "metadata": {
        "id": "cs6FQCTYDzu3"
      }
    },
    {
      "cell_type": "code",
      "source": [
        "# Import libraries and datasets\n",
        "\n",
        "import pandas as pd\n",
        "\n",
        "census = pd.read_pickle('https://raw.githubusercontent.com/nirmalaraj77/datasets/main/census.p')\n",
        "\n",
        "wards = pd.read_pickle('https://raw.githubusercontent.com/nirmalaraj77/datasets/main/ward.p')\n",
        "\n",
        "licenses = pd.read_pickle('https://raw.githubusercontent.com/nirmalaraj77/datasets/main/licenses.p')\n",
        "\n",
        "biz_owners = pd.read_pickle('https://raw.githubusercontent.com/nirmalaraj77/datasets/main/business_owners.p')\n",
        "\n",
        "cal = pd.read_pickle('https://raw.githubusercontent.com/nirmalaraj77/datasets/main/calendar.p')\n",
        "\n",
        "ridership = pd.read_pickle('https://raw.githubusercontent.com/nirmalaraj77/datasets/main/ridership.p')\n",
        "\n",
        "stations = pd.read_pickle('https://raw.githubusercontent.com/nirmalaraj77/datasets/main/stations.p')\n",
        "\n",
        "zip_demo = pd.read_pickle('https://raw.githubusercontent.com/nirmalaraj77/datasets/main/zip_demo.p')\n",
        "\n",
        "land_use = pd.read_pickle('https://raw.githubusercontent.com/nirmalaraj77/datasets/main/land_use.p')\n",
        "\n",
        "actors = pd.read_csv('https://raw.githubusercontent.com/nirmalaraj77/datasets/main/actors_movies.csv.xls')\n",
        "\n",
        "movies = pd.read_pickle('https://raw.githubusercontent.com/nirmalaraj77/datasets/main/movies.p')\n",
        "\n",
        "taglines = pd.read_pickle('https://raw.githubusercontent.com/nirmalaraj77/datasets/main/taglines.p')\n",
        "\n",
        "financials = pd.read_pickle('https://raw.githubusercontent.com/nirmalaraj77/datasets/main/financials.p')\n",
        "\n",
        "movie_to_genres = pd.read_pickle('https://raw.githubusercontent.com/nirmalaraj77/datasets/main/movie_to_genres.p')\n",
        "\n",
        "crews = pd.read_pickle('https://raw.githubusercontent.com/nirmalaraj77/datasets/main/crews.p')\n",
        "\n",
        "gdp = pd.read_csv('https://raw.githubusercontent.com/nirmalaraj77/datasets/2aa0493ec6cc102715dbfc5fdcdf64c576049b2c/WorldBank_GDP.csv.xls')\n",
        "\n",
        "sp500 = pd.read_csv('https://raw.githubusercontent.com/nirmalaraj77/datasets/2aa0493ec6cc102715dbfc5fdcdf64c576049b2c/S&P500.csv.xls')\n",
        "\n",
        "pop = pd.read_csv('https://raw.githubusercontent.com/nirmalaraj77/datasets/2aa0493ec6cc102715dbfc5fdcdf64c576049b2c/WorldBank_POP.csv.xls')"
      ],
      "metadata": {
        "id": "mYNFe-b-D7lS"
      },
      "execution_count": null,
      "outputs": []
    },
    {
      "cell_type": "markdown",
      "source": [
        "##**Notes**\n",
        "\n",
        "* df.shape\n",
        "\n",
        "* df.columns\n",
        "\n",
        "* df['column'].value_counts\n",
        "\n",
        "* df[['column']].head()\n",
        "\n",
        "* pd.read_pickle\n",
        "\n",
        "* \\ line continuation as single line\n",
        "\n",
        "* group by column and aggregate - grouped_df = df.groupby('column1').agg({'column2':'count'})\n",
        "\n",
        "* group by column and sum - grouped_df = df.groupby('column1').sum\n",
        "\n",
        "* count null - .isnull() method to return Boolean index if column is null and .sum() method to count Boolean index for number of True values - number_of_missing_df = df['col'].isnull().sum()\n",
        "\n",
        "* group multiple df columns - enter as list to .groupby() method\n",
        "\n",
        "* sort desending\n",
        "* sorted_df = df.sort_values('columns', ascending=False)\n",
        "\n",
        "* sort multiple df columns -  enter as list to .sort_values() method\n",
        "\n",
        "* ascending argument accepts a list of Booleans\n",
        "\n",
        "* if joining on different column names - left_on = 'col1', right_on = 'col2'\n",
        "\n",
        "* **Create an index that returns true if name_1 or name_2 are null\n",
        "m = ((iron_1_and_2['name_1'].isnull()) |\n",
        "     (iron_1_and_2['name_2'].isnull()))**\n",
        "\n",
        "* set index - pd.read_csv(csv_file, index_col=['col1', 'col2'])\n",
        "\n",
        "* when sub-selecting the columns, input the desired columns as a list - new_df = df[['col1', 'col2', 'col3']]\n",
        "\n",
        "* Using .isin() filter - popular_classic = classic_18_19[classic_18_19['tid'].isin(classic_pop['tid'])]\n",
        "\n",
        "* add column to df - df['new_column_name'] = 'some operation'\n",
        "\n",
        "* pivot_table() method expects inputs arguments in the order of values, index, and columns\n",
        "\n",
        "* Create a date column using the month and year columns of ur_tall\n",
        "ur_tall['date'] = pd.to_datetime(ur_tall['year'] + '-' + ur_tall['month'])\n",
        "\n",
        "* .plot() accepts a list for its x and y argumens\n"
      ],
      "metadata": {
        "id": "8Wv1mDLdj21K"
      }
    },
    {
      "cell_type": "markdown",
      "source": [
        "##**Inner Joins**\n",
        "\n",
        "* Merge on common column name\n",
        "\n",
        "* only returns matching values in both tables\n",
        "\n",
        "* columns in 1st table comes first\n",
        "\n",
        "* _x and _y - generated if common columns exist\n",
        "\n",
        "* suffixes = argumnent to control _x and _y naming\n"
      ],
      "metadata": {
        "id": "AQ5UGOarD8FK"
      }
    },
    {
      "cell_type": "code",
      "source": [
        "# Print shapes (number of rows and columns) and column names\n",
        "print('wards: ' , wards.shape , wards.columns)\n",
        "print('census: ' , census.shape, census.columns)"
      ],
      "metadata": {
        "id": "cIXvr2cj1uoV",
        "outputId": "5be24c2c-7978-4add-bfd2-51aa5a5ee614",
        "colab": {
          "base_uri": "https://localhost:8080/"
        }
      },
      "execution_count": null,
      "outputs": [
        {
          "output_type": "stream",
          "name": "stdout",
          "text": [
            "wards:  (50, 4) Index(['ward', 'alderman', 'address', 'zip'], dtype='object')\n",
            "census:  (50, 6) Index(['ward', 'pop_2000', 'pop_2010', 'change', 'address', 'zip'], dtype='object')\n"
          ]
        }
      ]
    },
    {
      "cell_type": "code",
      "source": [
        "# Merge wards and census with suffixes\n",
        "wards_census = wards.merge(census, on='ward', suffixes = ('_ward', '_census'))\n",
        "\n",
        "print(wards_census.shape)\n",
        "print (wards_census.columns)"
      ],
      "metadata": {
        "id": "NvElgDCw3H_0",
        "outputId": "6c646395-d6b1-4994-f958-ce3cb819b401",
        "colab": {
          "base_uri": "https://localhost:8080/"
        }
      },
      "execution_count": null,
      "outputs": [
        {
          "output_type": "stream",
          "name": "stdout",
          "text": [
            "(50, 9)\n",
            "Index(['ward', 'alderman', 'address_ward', 'zip_ward', 'pop_2000', 'pop_2010',\n",
            "       'change', 'address_census', 'zip_census'],\n",
            "      dtype='object')\n"
          ]
        }
      ]
    },
    {
      "cell_type": "code",
      "source": [
        "# Count value of the change column\n",
        "print(wards_census['change'].value_counts())"
      ],
      "metadata": {
        "id": "djbp20aI7kVk",
        "outputId": "078a453f-8727-4476-eb77-7fdfba91a6ed",
        "colab": {
          "base_uri": "https://localhost:8080/"
        }
      },
      "execution_count": null,
      "outputs": [
        {
          "output_type": "stream",
          "name": "stdout",
          "text": [
            "change\n",
            "-8%     4\n",
            "-6%     4\n",
            "-4%     4\n",
            "-5%     3\n",
            "3%      3\n",
            "-17%    2\n",
            "-13%    2\n",
            "-11%    2\n",
            "-14%    2\n",
            "-3%     2\n",
            "0%      2\n",
            "6%      2\n",
            "-24%    2\n",
            "5%      2\n",
            "-33%    1\n",
            "-20%    1\n",
            "1%      1\n",
            "-9%     1\n",
            "-10%    1\n",
            "-16%    1\n",
            "8%      1\n",
            "-1%     1\n",
            "-7%     1\n",
            "12%     1\n",
            "31%     1\n",
            "-15%    1\n",
            "-18%    1\n",
            "-2%     1\n",
            "Name: count, dtype: int64\n"
          ]
        }
      ]
    },
    {
      "cell_type": "markdown",
      "source": [
        "##**One-to-Many Relationships**\n",
        "\n",
        "* every row in left table is related to one or more in right table\n",
        "\n",
        "* resulting table has many rows from left table matching each value in right table\n",
        "\n"
      ],
      "metadata": {
        "id": "xAvnyEi3-4s8"
      }
    },
    {
      "cell_type": "code",
      "source": [
        "# Merge wards with lecenses\n",
        "\n",
        "wards_licenses = wards.merge(licenses, on='ward')\n",
        "\n",
        "print(wards_licenses.shape)\n",
        "print(wards_licenses.head(10))"
      ],
      "metadata": {
        "id": "Ab9Qo8mpB5tb",
        "outputId": "76640696-9b15-416e-c42d-e3516ebfce98",
        "colab": {
          "base_uri": "https://localhost:8080/"
        }
      },
      "execution_count": null,
      "outputs": [
        {
          "output_type": "stream",
          "name": "stdout",
          "text": [
            "(10000, 9)\n",
            "  ward            alderman                  address_x  zip_x account  aid  \\\n",
            "0    1  Proco \"Joe\" Moreno  2058 NORTH WESTERN AVENUE  60647   12024  NaN   \n",
            "1    1  Proco \"Joe\" Moreno  2058 NORTH WESTERN AVENUE  60647   14446  743   \n",
            "2    1  Proco \"Joe\" Moreno  2058 NORTH WESTERN AVENUE  60647   14624  775   \n",
            "3    1  Proco \"Joe\" Moreno  2058 NORTH WESTERN AVENUE  60647   14987  NaN   \n",
            "4    1  Proco \"Joe\" Moreno  2058 NORTH WESTERN AVENUE  60647   15642  814   \n",
            "5    1  Proco \"Joe\" Moreno  2058 NORTH WESTERN AVENUE  60647   16004  NaN   \n",
            "6    1  Proco \"Joe\" Moreno  2058 NORTH WESTERN AVENUE  60647   16497  638   \n",
            "7    1  Proco \"Joe\" Moreno  2058 NORTH WESTERN AVENUE  60647   16547  763   \n",
            "8    1  Proco \"Joe\" Moreno  2058 NORTH WESTERN AVENUE  60647   16662  763   \n",
            "9    1  Proco \"Joe\" Moreno  2058 NORTH WESTERN AVENUE  60647   16899  775   \n",
            "\n",
            "                   business                   address_y  zip_y  \n",
            "0       DIGILOG ELECTRONICS          1038 N ASHLAND AVE  60622  \n",
            "1          EMPTY BOTTLE INC      1035 N WESTERN AVE 1ST  60622  \n",
            "2      LITTLE MEL'S HOT DOG       2205 N CALIFORNIA AVE  60647  \n",
            "3        MR. BROWN'S LOUNGE      2301 W CHICAGO AVE 1ST  60622  \n",
            "4              Beat Kitchen     2000-2100 W DIVISION ST  60622  \n",
            "5   EL NUEVO NARANJO LOUNGE    2210 N MILWAUKEE AVE 1ST  60647  \n",
            "6               BELLA NOTTE            1374 W GRAND AVE  60642  \n",
            "7      PETE'S FOOD & LIQUOR     2556 W ARMITAGE AVE 1ST  60647  \n",
            "8  BUCK TOWN FOOD & LIQUORS        1950 N MILWAUKEE AVE  60647  \n",
            "9              JACK'S PLACE  2917 W ARMITAGE AVE  GROUN  60647  \n"
          ]
        }
      ]
    },
    {
      "cell_type": "code",
      "source": [
        "# Merge the licenses and biz_owners table on account\n",
        "licenses_owners = licenses.merge(biz_owners, on='account')\n",
        "\n",
        "# Group the results by title then count the number of accounts\n",
        "counted_df = licenses_owners.groupby('title').agg({'account':'count'})\n",
        "\n",
        "# Sort the counted_df in desending order\n",
        "sorted_df = counted_df.sort_values('account', ascending=False)\n",
        "\n",
        "# Use .head() method to print the first few rows of sorted_df\n",
        "print(sorted_df.head())"
      ],
      "metadata": {
        "id": "eZ3thSqXDbv5",
        "outputId": "c962a837-77cb-4bc0-c489-e0929cf61a2e",
        "colab": {
          "base_uri": "https://localhost:8080/"
        }
      },
      "execution_count": null,
      "outputs": [
        {
          "output_type": "stream",
          "name": "stdout",
          "text": [
            "                 account\n",
            "title                   \n",
            "PRESIDENT           6259\n",
            "SECRETARY           5205\n",
            "SOLE PROPRIETOR     1658\n",
            "OTHER               1200\n",
            "VICE PRESIDENT       970\n"
          ]
        }
      ]
    },
    {
      "cell_type": "markdown",
      "source": [
        "##**Merging Multiple DataFrames**\n",
        "\n",
        "* df1.merge(df2, on =['col', 'col'].merge(df2, on='col').merge(df3, on='col')...\n",
        "\n",
        "* use \\ python line continuation..\n",
        "\n",
        "\n"
      ],
      "metadata": {
        "id": "YdIbPhjbF8rm"
      }
    },
    {
      "cell_type": "code",
      "source": [
        "# Find the total rides through Wilson Station in July 2019 in weekdays\n",
        "\n",
        "# Merge the ridership, cal, and stations tables\n",
        "ridership_cal_stations = ridership.merge(cal, on=['year','month','day']) \\\n",
        "\t\t\t\t\t\t\t.merge(stations, on='station_id')\n",
        "\n",
        "# Create a filter to filter ridership_cal_stations\n",
        "filter_criteria = ((ridership_cal_stations['month'] == 7)\n",
        "                   & (ridership_cal_stations['day_type'] == 'Weekday')\n",
        "                   & (ridership_cal_stations['station_name'] == 'Wilson'))\n",
        "\n",
        "# Use .loc and the filter to select for rides\n",
        "print ('Total rides through Wilson Station in July 2019 in weekdays were : '\\\n",
        " ,(ridership_cal_stations.loc[filter_criteria, 'rides'].sum()))\n",
        "\n"
      ],
      "metadata": {
        "id": "rFQFxOTsJ_IZ",
        "outputId": "f6dac9e3-152a-4abe-a124-e5a04010a664",
        "colab": {
          "base_uri": "https://localhost:8080/"
        }
      },
      "execution_count": null,
      "outputs": [
        {
          "output_type": "stream",
          "name": "stdout",
          "text": [
            "Total rides through Wilson Station in July 2019 in weekdays were :  140005\n"
          ]
        }
      ]
    },
    {
      "cell_type": "code",
      "source": [
        "# Merge licenses and zip_demo, on zip; and merge the wards on ward\n",
        "licenses_zip_ward = licenses.merge(zip_demo, on='zip') \\\n",
        "            \t\t\t.merge(wards, on='ward')\n",
        "\n",
        "# Print the results by alderman and show median income\n",
        "print(licenses_zip_ward.groupby('alderman').agg({'income':'median'}))"
      ],
      "metadata": {
        "id": "cezPZAQYRvMz",
        "outputId": "88dba65f-df9d-44c1-98bb-9f106b46036e",
        "colab": {
          "base_uri": "https://localhost:8080/"
        }
      },
      "execution_count": null,
      "outputs": [
        {
          "output_type": "stream",
          "name": "stdout",
          "text": [
            "                             income\n",
            "alderman                           \n",
            "Ameya Pawar                 66246.0\n",
            "Anthony A. Beale            38206.0\n",
            "Anthony V. Napolitano       82226.0\n",
            "Ariel E. Reyboras           41307.0\n",
            "Brendan Reilly             110215.0\n",
            "Brian Hopkins               87143.0\n",
            "Carlos Ramirez-Rosa         66246.0\n",
            "Carrie M. Austin            38206.0\n",
            "Chris Taliaferro            55566.0\n",
            "Daniel \"Danny\" Solis        41226.0\n",
            "David H. Moore              33304.0\n",
            "Deborah Mell                66246.0\n",
            "Debra L. Silverstein        50554.0\n",
            "Derrick G. Curtis           65770.0\n",
            "Edward M. Burke             42335.0\n",
            "Emma M. Mitts               36283.0\n",
            "George Cardenas             33959.0\n",
            "Gilbert Villegas            41307.0\n",
            "Gregory I. Mitchell         24941.0\n",
            "Harry Osterman              45442.0\n",
            "Howard B. Brookins, Jr.     33304.0\n",
            "James Cappleman             79565.0\n",
            "Jason C. Ervin              41226.0\n",
            "Joe Moore                   39163.0\n",
            "John S. Arena               70122.0\n",
            "Leslie A. Hairston          28024.0\n",
            "Margaret Laurino            70122.0\n",
            "Marty Quinn                 67045.0\n",
            "Matthew J. O'Shea           59488.0\n",
            "Michael R. Zalewski         42335.0\n",
            "Michael Scott, Jr.          31445.0\n",
            "Michelle A. Harris          32558.0\n",
            "Michelle Smith             100116.0\n",
            "Milagros \"Milly\" Santiago   41307.0\n",
            "Nicholas Sposato            62223.0\n",
            "Pat Dowell                  46340.0\n",
            "Patrick Daley Thompson      41226.0\n",
            "Patrick J. O'Connor         50554.0\n",
            "Proco \"Joe\" Moreno          87143.0\n",
            "Raymond A. Lopez            33959.0\n",
            "Ricardo Munoz               31445.0\n",
            "Roberto Maldonado           68223.0\n",
            "Roderick T. Sawyer          32558.0\n",
            "Scott Waguespack            68223.0\n",
            "Susan Sadlowski Garza       38417.0\n",
            "Tom Tunney                  88708.0\n",
            "Toni L. Foulkes             27573.0\n",
            "Walter Burnett, Jr.         87143.0\n",
            "William D. Burns           107811.0\n",
            "Willie B. Cochran           28024.0\n"
          ]
        }
      ]
    },
    {
      "cell_type": "code",
      "source": [
        "# Merge land_use and census and merge result with licenses including suffixes\n",
        "land_cen_lic = land_use.merge(census, on='ward') \\\n",
        "                    .merge(licenses, on='ward', suffixes=('_cen','_lic'))\n",
        "\n",
        "# Group by ward, pop_2010, and vacant, then count the # of accounts\n",
        "pop_vac_lic = land_cen_lic.groupby(['ward','pop_2010','vacant'],\n",
        "                                   as_index=False).agg({'account':'count'})\n",
        "\n",
        "# Sort pop_vac_lic and print the results\n",
        "sorted_pop_vac_lic = pop_vac_lic.sort_values(['vacant', 'account', 'pop_2010'],\n",
        "                                             ascending=[False, True, True])\n",
        "\n",
        "# Print the top few rows of sorted_pop_vac_lic\n",
        "print(sorted_pop_vac_lic.head())"
      ],
      "metadata": {
        "id": "NfuQlAmXV3NS",
        "outputId": "99ce986a-7ba3-4f10-bf5a-9e0818cc617f",
        "colab": {
          "base_uri": "https://localhost:8080/"
        }
      },
      "execution_count": null,
      "outputs": [
        {
          "output_type": "stream",
          "name": "stdout",
          "text": [
            "   ward  pop_2010  vacant  account\n",
            "47    7     51581      19       80\n",
            "12   20     52372      15      123\n",
            "1    10     51535      14      130\n",
            "16   24     54909      13       98\n",
            "7    16     51954      13      156\n"
          ]
        }
      ]
    },
    {
      "cell_type": "markdown",
      "source": [
        "##**Left Join**\n",
        "\n",
        "* all rows from left table and only matching rows from right table\n",
        "\n",
        "* null values created for non-matches\n",
        "\n",
        "* how = 'left'\n",
        "\n",
        "* .isnull() method to return Boolean index if column is null\n",
        "\n",
        "* .sum() method to count Boolean index for number of True values\n",
        "\n",
        "* number_of_missing_df = df['col'].isnull().sum()\n",
        "\n",
        "* one-to-many - if rows in left table match multiple rows in right table - all of those rows will be returned\n",
        "\n",
        ". Therefore, the returned rows must be equal to if not greater than the left table. Knowing what to expect is useful in troubleshooting any suspicious merges.\n",
        "\n"
      ],
      "metadata": {
        "id": "hQGUwXsjWf4A"
      }
    },
    {
      "cell_type": "code",
      "source": [
        "# Left join movies and taglines\n",
        "\n",
        "movies_taglines = movies.merge(taglines, on='id', how='left')\n",
        "\n",
        "print(movies_taglines.head())"
      ],
      "metadata": {
        "id": "K-vqvvZKYpUU",
        "outputId": "bdf1909b-48f1-4a47-97ba-16628e2032db",
        "colab": {
          "base_uri": "https://localhost:8080/"
        }
      },
      "execution_count": null,
      "outputs": [
        {
          "output_type": "stream",
          "name": "stdout",
          "text": [
            "      id                 title  popularity release_date  \\\n",
            "0    257          Oliver Twist   20.415572   2005-09-23   \n",
            "1  14290  Better Luck Tomorrow    3.877036   2002-01-12   \n",
            "2  38365             Grown Ups   38.864027   2010-06-24   \n",
            "3   9672              Infamous    3.680896   2006-11-16   \n",
            "4  12819       Alpha and Omega   12.300789   2010-09-17   \n",
            "\n",
            "                                           tagline  \n",
            "0                                              NaN  \n",
            "1             Never underestimate an overachiever.  \n",
            "2  Boys will be boys. . . some longer than others.  \n",
            "3          There's more to the story than you know  \n",
            "4                           A Pawsome 3D Adventure  \n"
          ]
        }
      ]
    },
    {
      "cell_type": "code",
      "source": [
        "# Merge the movies table with the financials table with a left join\n",
        "movies_financials = movies.merge(financials, on='id', how='left')\n",
        "\n",
        "# Count the number of rows in the budget column that are missing\n",
        "number_of_missing_fin = movies_financials['budget'].isnull().sum()\n",
        "\n",
        "# Print the number of movies missing financials\n",
        "print(number_of_missing_fin)\n",
        "\n"
      ],
      "metadata": {
        "id": "4Rpdx-CZqBYG",
        "outputId": "f4eb3623-6e67-4baf-832f-58f61dc53da0",
        "colab": {
          "base_uri": "https://localhost:8080/"
        }
      },
      "execution_count": null,
      "outputs": [
        {
          "output_type": "stream",
          "name": "stdout",
          "text": [
            "1574\n"
          ]
        }
      ]
    },
    {
      "cell_type": "markdown",
      "source": [
        "##**Right Join**\n",
        " * all rows from right table and only matching rows from left table\n",
        "\n",
        " * mirror opposite of left join\n",
        "\n",
        " * how = 'right'"
      ],
      "metadata": {
        "id": "6ePcjNUsF-Ve"
      }
    },
    {
      "cell_type": "markdown",
      "source": [
        "##**Outer Join**\n",
        "\n",
        "* all rows returned from both tables\n",
        "\n",
        "* null results when no match\n",
        "\n",
        "* how = 'outer'"
      ],
      "metadata": {
        "id": "X3azQmz7G-MX"
      }
    },
    {
      "cell_type": "markdown",
      "source": [
        "##**Self Join - Merging a Table to Itself**\n",
        "\n",
        "* Same as other joins\n",
        "\n",
        "\n"
      ],
      "metadata": {
        "id": "g3tEiNOqow3e"
      }
    },
    {
      "cell_type": "code",
      "source": [
        "# Merge the crews table to itself\n",
        "crews_self_merged = crews.merge(crews, on='id', how='inner',\n",
        "                                suffixes=('_dir','_crew'))\n",
        "\n",
        "# Create a boolean index to select the appropriate rows\n",
        "boolean_filter = ((crews_self_merged['job_dir'] == 'Director') &\n",
        "                  (crews_self_merged['job_crew'] != 'Director'))\n",
        "direct_crews = crews_self_merged[boolean_filter]\n",
        "\n",
        "# Print the first few rows of direct_crews\n",
        "print(direct_crews.head())"
      ],
      "metadata": {
        "id": "VKhNfcUvOxPm",
        "outputId": "86b75437-edb2-4b0b-ed88-6a10bdbe9940",
        "colab": {
          "base_uri": "https://localhost:8080/"
        }
      },
      "execution_count": null,
      "outputs": [
        {
          "output_type": "stream",
          "name": "stdout",
          "text": [
            "        id department_dir   job_dir       name_dir department_crew  \\\n",
            "156  19995      Directing  Director  James Cameron         Editing   \n",
            "157  19995      Directing  Director  James Cameron           Sound   \n",
            "158  19995      Directing  Director  James Cameron      Production   \n",
            "160  19995      Directing  Director  James Cameron         Writing   \n",
            "161  19995      Directing  Director  James Cameron             Art   \n",
            "\n",
            "           job_crew          name_crew  \n",
            "156          Editor  Stephen E. Rivkin  \n",
            "157  Sound Designer  Christopher Boyes  \n",
            "158         Casting          Mali Finn  \n",
            "160          Writer      James Cameron  \n",
            "161    Set Designer    Richard F. Mays  \n"
          ]
        }
      ]
    },
    {
      "cell_type": "markdown",
      "source": [
        "##**Merging on Indexes**\n",
        "\n",
        "* same as other joins\n",
        "\n",
        "* index columns will be returned as index\n",
        "\n",
        "* new_df = df1.merge(df2, left_on='df1_index', left_index=True, right_on='df2_index', right_index=True)"
      ],
      "metadata": {
        "id": "Mm4XWBjXP2dK"
      }
    },
    {
      "cell_type": "markdown",
      "source": [
        "##**Filtering Joins**\n",
        "\n",
        "* filter observations from one table based on whether or not they match an observation in another table\n",
        "\n",
        "###**Semi Join**\n",
        "\n",
        "* returns intersection - similar to inner join\n",
        "\n",
        "* return only columns from left table - NOT from right table\n",
        "\n",
        "* no deuplicate rows even if there is a one-to-many relationship\n",
        "\n",
        "* .isin  - returns Boolean\n",
        "\n",
        "* 1st step - inner join tables\n",
        "* genres_tracks = genres.merge(top_tracks, on = 'gid')\n",
        "\n",
        "* 2nd step - code to compare every gid in genres table to gid in genres_track table and return boolean with .isin\n",
        "genres['gid'].isin(genres_tracks['gid'])\n",
        "\n",
        "* 3rd step - subset top_genres with boolean resulet and combine\n",
        "* genres_tracks = genres.merge(top_tracks, on = 'gid')\n",
        "* top_genres = genres[genres['gid'].isin(genres_tracks['gid'])]\n",
        "\n",
        "##**Anti Join**\n",
        "\n",
        "* returns observations in left table not in the right table\n",
        "\n",
        "* return only columns from left table - NOT from right table\n",
        "\n",
        "* 1st step - left join tables, set indicator = True\n",
        "\n",
        "* indicator = True adds column called _merge (both, left only)\n",
        "\n",
        "* genres_tracks = genres.merge(top_tracks, on='gid', how='left', indicator=True)\n",
        "\n",
        "* 2nd step - use the loc accessor and _merge column to select rows only in left table\n",
        "\n",
        "gid_list = genres_tracks.loc[genres_tracks['_merge] == 'left only', 'gid']\n",
        "\n",
        "* 3rd step - use isin to filter rows\n",
        "\n",
        "non_top_genres = genres[genres['gid'].isin(gid_list)]\n",
        "\n",
        "\n",
        "\n",
        "\n",
        "\n",
        "\n",
        "\n",
        "\n",
        "\n",
        "\n",
        "\n"
      ],
      "metadata": {
        "id": "HM8lv1n4Afgm"
      }
    },
    {
      "cell_type": "markdown",
      "source": [
        "##**Concatenate Dataframes Vertically**\n",
        "\n",
        "* pandas.concat()\n",
        "\n",
        "* axis=0, vertical\n",
        "\n",
        "* ignore_index=True if index has no valuable information - index 0 to n-1\n",
        "\n",
        "* pd.concat ([table1, table2, table3], ignore_index=True)\n",
        "\n",
        "###**Set labels to original tables**\n",
        "\n",
        "* ignore_index=False - keys argument\n",
        "\n",
        "* results in multi-index table with label on 1st level\n",
        "\n",
        "* pd.concat ([table1, table2, table3], ignore_index=False, keys=[table1, table2, table3])\n",
        "\n",
        "###**Concatenate tables with different column names**\n",
        "\n",
        "* include all columns in different tables\n",
        "\n",
        "* sort argument will alphabetically sort\n",
        "\n",
        "* pd.concat ([table1, table2, table3], sort=True)\n",
        "\n",
        "* set join='inner' for only matching columns from different tables\n",
        "\n",
        "* default is 'outer'\n",
        "\n",
        "* sort has no effect when join='inner'\n",
        "\n",
        "* pd.concat ([table1, table2, table3], join='inner')\n",
        "\n",
        "\n"
      ],
      "metadata": {
        "id": "tvtopggHcugB"
      }
    },
    {
      "cell_type": "markdown",
      "source": [
        "##**Validate and Verify**\n",
        "\n",
        "* columns may have duplicate data\n",
        "\n",
        "* unintentional one-to-many relationship\n",
        "\n",
        "* unintentional many-to-many relationship\n",
        "\n",
        "###**Validate Merge**\n",
        "\n",
        "* .merge(validate=None) - default\n",
        "\n",
        "* 'one_to_one'\n",
        "\n",
        "* 'one_to_many'\n",
        "\n",
        "* 'many_to_one'\n",
        "\n",
        "* 'many_to_many'\n",
        "\n",
        "* raises merge error\n",
        "\n",
        "###**Verify Concatenate**\n",
        "\n",
        "* only checks index\n",
        "\n",
        "* .concat(verify_integrity=False) - default\n",
        "\n",
        "* verify_integrity= True - raises value error\n",
        "\n",
        "\n",
        "\n",
        "\n",
        "\n",
        "\n",
        "\n",
        "\n",
        "\n",
        "\n",
        "\n",
        "\n"
      ],
      "metadata": {
        "id": "Bl4kssn-dOvA"
      }
    },
    {
      "cell_type": "markdown",
      "source": [
        "##**merge_ordered()**\n",
        "\n",
        "* merge time-series and other ordered data\n",
        "\n",
        "* results are similar to standard merge method\n",
        "\n",
        "* default is outer join\n",
        "\n",
        "* results are sorted\n",
        "\n",
        "* pd.merge_ordered(df1, df2)\n",
        "\n",
        "* fill missing value with previous value - * forward fill\n",
        "\n",
        "* fill_method='ffill'\n",
        "\n",
        "* order is important when merging on more than 1 column\n",
        "\n",
        "\n",
        "\n"
      ],
      "metadata": {
        "id": "cYx1BwxoUWr8"
      }
    },
    {
      "cell_type": "code",
      "source": [
        "# Use merge_ordered() to merge gdp and sp500, and forward fill missing values\n",
        "gdp_sp500 = pd.merge_ordered(gdp, sp500, left_on='Year', right_on='Date',\n",
        "                             how='left',  fill_method='ffill')\n",
        "\n",
        "# Subset the gdp and returns columns\n",
        "gdp_returns = gdp_sp500[['GDP', 'Returns']]\n",
        "\n",
        "# Print gdp_returns correlation\n",
        "print (gdp_returns.corr())"
      ],
      "metadata": {
        "id": "Cq9TFNsvuZZw",
        "outputId": "2165ce3f-6e9c-48e1-c562-4409dc49005b",
        "colab": {
          "base_uri": "https://localhost:8080/"
        }
      },
      "execution_count": null,
      "outputs": [
        {
          "output_type": "stream",
          "name": "stdout",
          "text": [
            "              GDP   Returns\n",
            "GDP      1.000000  0.040669\n",
            "Returns  0.040669  1.000000\n"
          ]
        }
      ]
    },
    {
      "cell_type": "markdown",
      "source": [
        "##**merge_asof()**\n",
        "\n",
        "* similar to merge_ordered left join\n",
        "\n",
        "* match nearest less than or equal value - not exact matches\n",
        "\n",
        "* merged 'on' columns must be sorted\n",
        "\n",
        "* pd.merge_asof(df1, df2)\n",
        "\n",
        "* direction='backward' - default\n",
        "\n",
        "* direction='forward' - matches greater than or equal to\n",
        "\n",
        "* direction='nearest'- nearest row in right table (forward or backwards)\n",
        "\n",
        "\n",
        "\n"
      ],
      "metadata": {
        "id": "9BCXwGFdB0Ap"
      }
    },
    {
      "cell_type": "markdown",
      "source": [
        "##**Pandas .query()**\n",
        "\n",
        "* df.query('query_string')\n",
        "\n",
        "* text - double quotation\n",
        "\n",
        "* use and / or\n",
        "\n",
        "* df.query('stock==\"disney\" or (stock==\"nike\" and close < 90)')\n",
        "\n",
        "* similar to sql WHERE statement\n",
        "\n",
        "###**Subsetting with .query()**\n",
        "\n",
        "\n"
      ],
      "metadata": {
        "id": "timbCfm2CCMm"
      }
    },
    {
      "cell_type": "code",
      "source": [
        "# Merge gdp and pop on date and country with fill\n",
        "gdp_pop = pd.merge_ordered(gdp, pop, on=['Country Name','Year'], fill_method='ffill')\n",
        "\n",
        "# Add a column named gdp_per_capita to gdp_pop that divides the gdp by pop\n",
        "gdp_pop['gdp_per_capita'] = gdp_pop['GDP'] / gdp_pop['Pop']\n",
        "\n",
        "# Pivot data so gdp_per_capita, where index is date and columns is country\n",
        "gdp_pivot = gdp_pop.pivot_table('gdp_per_capita', 'Year', 'Country Name')\n",
        "\n",
        "# Select dates equal to or greater than 1991-01-01\n",
        "recent_gdp_pop = gdp_pivot.query('Year > 2013')\n",
        "# and Country Name == \"India\" ')\n",
        "# and Year >= 2013')\n",
        "\n",
        "# Plot recent_gdp_pop\n",
        "recent_gdp_pop.plot(rot=90)\n"
      ],
      "metadata": {
        "id": "KBZlGtFaL7Rz",
        "outputId": "25f32f0e-3fd6-422f-b137-67971a7c34b1",
        "colab": {
          "base_uri": "https://localhost:8080/",
          "height": 1000
        }
      },
      "execution_count": null,
      "outputs": [
        {
          "output_type": "execute_result",
          "data": {
            "text/plain": [
              "<Axes: xlabel='Year'>"
            ]
          },
          "metadata": {},
          "execution_count": 9
        },
        {
          "output_type": "display_data",
          "data": {
            "text/plain": [
              "<Figure size 640x480 with 1 Axes>"
            ],
            "image/png": "[encoded data removed]"
          },
          "metadata": {}
        }
      ]
    },
    {
      "cell_type": "markdown",
      "source": [
        "##**Unpivot with .melt()**\n",
        "\n",
        "* id_vars['col1', 'col2'] - identifier variables (non-changing columns)\n",
        "\n",
        "* value_vars ['col3', 'col4'] - control the columns to be unpivoted\n",
        "\n",
        "* var_name =\n",
        "\n",
        "* value_name =\n",
        "\n",
        "* df_tall = df_wide.melt(id_vars=['col1', 'col2'], value_vars =['col3', 'col4'], var_name = 'xxx', value_name = 'yyy')\n",
        "\n"
      ],
      "metadata": {
        "id": "BYKmRwhJtNO1"
      }
    },
    {
      "cell_type": "markdown",
      "source": [
        "#**INTRODUCTION TO NUMPY**"
      ],
      "metadata": {
        "id": "305fVdC6cbNf"
      }
    },
    {
      "cell_type": "markdown",
      "source": [
        "##**Create NumPy 1D and 2D arrays from python list**\n",
        "\n",
        "* 1D array - pass list to np.array\n",
        "* 2D array - pass list of lists to np.array\n",
        "* python list can hold different data types\n",
        "* np array can hold single data type only\n",
        "\n",
        "###**Create NumPy array**\n",
        "* np.zeroes()\n",
        "* np.random.random()\n",
        "* np.arange()\n",
        "\n"
      ],
      "metadata": {
        "id": "d8diZ1jVcpE3"
      }
    },
    {
      "cell_type": "code",
      "source": [
        "#  Create 1D array\n",
        "\n",
        "#  Import NumPy\n",
        "import numpy as np\n",
        "\n",
        "# Create list\n",
        "python_list =[1, 2, 3, 4, 5]\n",
        "\n",
        "#  Create 1D numpy array\n",
        "array = np.array(python_list)\n",
        "\n",
        "print(array)\n",
        "print(type(array))"
      ],
      "metadata": {
        "colab": {
          "base_uri": "https://localhost:8080/"
        },
        "id": "qz5qXVQ5h8Kw",
        "outputId": "681995bf-61e4-4c9c-edce-f618f3d5d1e3"
      },
      "execution_count": null,
      "outputs": [
        {
          "output_type": "stream",
          "name": "stdout",
          "text": [
            "[1 2 3 4 5]\n",
            "<class 'numpy.ndarray'>\n"
          ]
        }
      ]
    },
    {
      "cell_type": "code",
      "source": [
        "#  Create 2D array\n",
        "\n",
        "#  Import NumPy\n",
        "import numpy as np\n",
        "\n",
        "# Create list of lists\n",
        "python_list_of_lists =[[1, 2, 3, 4, 5],\n",
        "                       [6, 7, 8, 9, 10],\n",
        "                       [11, 12, 13, 14, 15]]\n",
        "\n",
        "#  Create numpy array\n",
        "array = np.array(python_list_of_lists)\n",
        "\n",
        "print(array)\n",
        "print(type(array))"
      ],
      "metadata": {
        "colab": {
          "base_uri": "https://localhost:8080/"
        },
        "id": "hFXoPhrTp4qs",
        "outputId": "6aeb436b-ccb6-4334-b2c6-c43e79290cc5"
      },
      "execution_count": null,
      "outputs": [
        {
          "output_type": "stream",
          "name": "stdout",
          "text": [
            "[[ 1  2  3  4  5]\n",
            " [ 6  7  8  9 10]\n",
            " [11 12 13 14 15]]\n",
            "<class 'numpy.ndarray'>\n"
          ]
        }
      ]
    },
    {
      "cell_type": "code",
      "source": [
        "#  Create 2D and 1D arrays from np.zeros\n",
        "print(np.zeros((3, 5)))\n",
        "print(np.zeros(5))"
      ],
      "metadata": {
        "colab": {
          "base_uri": "https://localhost:8080/"
        },
        "id": "RA3Czz-Zdvq0",
        "outputId": "2ae9ede8-a6b0-4524-f049-f94b7d281188"
      },
      "execution_count": null,
      "outputs": [
        {
          "output_type": "stream",
          "name": "stdout",
          "text": [
            "[[0. 0. 0. 0. 0.]\n",
            " [0. 0. 0. 0. 0.]\n",
            " [0. 0. 0. 0. 0.]]\n",
            "[0. 0. 0. 0. 0.]\n"
          ]
        }
      ]
    },
    {
      "cell_type": "code",
      "source": [
        "#  Create 2D and 1D arrays from np.random.random\n",
        "print(np.random.random((4, 2)))\n",
        "print(np.random.random((4)))"
      ],
      "metadata": {
        "colab": {
          "base_uri": "https://localhost:8080/"
        },
        "id": "5Pj8J6dZfRCg",
        "outputId": "240cfe2b-fe44-41e6-bc3a-119f71d42b9d"
      },
      "execution_count": null,
      "outputs": [
        {
          "output_type": "stream",
          "name": "stdout",
          "text": [
            "[[0.17776322 0.07136487]\n",
            " [0.12968734 0.53731723]\n",
            " [0.44532274 0.43476262]\n",
            " [0.61914558 0.11916463]]\n",
            "[0.41936154 0.81049571 0.76294698 0.06719987]\n"
          ]
        }
      ]
    },
    {
      "cell_type": "code",
      "source": [
        "#  Create 1D arrays from np.arange (evenly spaced numbers)\n",
        "#  Start value included - stop value not included\n",
        "#  Can be ignored if start is 0\n",
        "#  Gives sequential numbers - can be changed with step argument\n",
        "print(np.arange(-3, 4))\n",
        "print(np.arange(5))\n",
        "print(np.arange(-3, 3, 2))\n",
        "\n",
        "#  useful for plotting\n",
        "from matplotlib import pyplot as plt\n",
        "plt.scatter(np.arange(-3, 4), np.arange(-4, 3))"
      ],
      "metadata": {
        "colab": {
          "base_uri": "https://localhost:8080/",
          "height": 499
        },
        "id": "8fer_mY1ge0l",
        "outputId": "8027802d-39b7-40ce-e821-3fda7d17fe46"
      },
      "execution_count": null,
      "outputs": [
        {
          "output_type": "stream",
          "name": "stdout",
          "text": [
            "[-3 -2 -1  0  1  2  3]\n",
            "[0 1 2 3 4]\n",
            "[-3 -1  1]\n"
          ]
        },
        {
          "output_type": "execute_result",
          "data": {
            "text/plain": [
              "<matplotlib.collections.PathCollection at 0x7c92a7c39ab0>"
            ]
          },
          "metadata": {},
          "execution_count": 21
        },
        {
          "output_type": "display_data",
          "data": {
            "text/plain": [
              "<Figure size 640x480 with 1 Axes>"
            ],
            "image/png": "[encoded data removed]"
          },
          "metadata": {}
        }
      ]
    },
    {
      "cell_type": "markdown",
      "source": [
        "##**3D arrays**\n",
        "* create list of lists of lists\n",
        "* alternatively, create array of 2D arrays\n",
        "\n",
        "\n"
      ],
      "metadata": {
        "id": "Vj3t3madQLV0"
      }
    },
    {
      "cell_type": "code",
      "source": [
        "#  Create 3D array from list of list of lists\n",
        "import numpy as np\n",
        "list_of_list_of_lists = [[[1, 2, 3], [4, 5, 6]], [[7, 8, 9], [10, 11, 12]], [[13, 14, 15], [16, 17, 18]]]\n",
        "array = np.array(list_of_list_of_lists)\n",
        "print(array)"
      ],
      "metadata": {
        "id": "7tE1dqZUMc_L",
        "outputId": "a7381998-c37f-48c3-9c2c-715ef6450461",
        "colab": {
          "base_uri": "https://localhost:8080/"
        }
      },
      "execution_count": null,
      "outputs": [
        {
          "output_type": "stream",
          "name": "stdout",
          "text": [
            "[[[ 1  2  3]\n",
            "  [ 4  5  6]]\n",
            "\n",
            " [[ 7  8  9]\n",
            "  [10 11 12]]\n",
            "\n",
            " [[13 14 15]\n",
            "  [16 17 18]]]\n"
          ]
        }
      ]
    },
    {
      "cell_type": "code",
      "source": [
        "#  Create 3D array from 2D arrays\n",
        "array_1_2d = np.array([[1, 2, 3], [4, 5, 6]])\n",
        "array_2_2d = np.array([[7, 8, 9], [10, 11, 12]])\n",
        "array_3_2d = np.array([[13, 14, 15], [17, 18, 19]])\n",
        "array = np.array([array_1_2d, array_2_2d, array_3_2d])\n",
        "print(array)\n",
        "print(array.shape)"
      ],
      "metadata": {
        "id": "tYtcjEJPv8MN",
        "outputId": "46a7d25c-2fb7-4ce5-9aa0-0a84dbba3126",
        "colab": {
          "base_uri": "https://localhost:8080/"
        }
      },
      "execution_count": null,
      "outputs": [
        {
          "output_type": "stream",
          "name": "stdout",
          "text": [
            "[[[ 1  2  3]\n",
            "  [ 4  5  6]]\n",
            "\n",
            " [[ 7  8  9]\n",
            "  [10 11 12]]\n",
            "\n",
            " [[13 14 15]\n",
            "  [17 18 19]]]\n",
            "(3, 2, 3)\n"
          ]
        }
      ]
    },
    {
      "cell_type": "markdown",
      "source": [
        "##**Array Dimentionality**\n",
        "* 1D array - no demension (horizontal or vertical)\n",
        "* 2D array - rows 1st demension - columns 2nd dimension\n",
        "* 3D array - 2D arrays with the same shape stacked on top of each other\n",
        "* 4D array - 2D array filled with 3D arrays\n",
        "* mathematics- 2D array is called a matrix\n",
        "* mathematics - 3 or more dimensions is called a tensor"
      ],
      "metadata": {
        "id": "Mz0VreSRzmwm"
      }
    },
    {
      "cell_type": "code",
      "source": [
        "#  Create 4D array with shape 2, 3, 4, 5\n",
        "#  2 sets of 3 arrays - within each array there are 4 rows and 5 columns.\n",
        "fourd_array = np.zeros((2, 3, 4, 5))\n",
        "print(fourd_array)\n",
        "print(fourd_array.shape)"
      ],
      "metadata": {
        "colab": {
          "base_uri": "https://localhost:8080/"
        },
        "id": "lXkdcJGm2l8B",
        "outputId": "b8a57d7e-07da-4a1e-e4de-3333133267fb"
      },
      "execution_count": null,
      "outputs": [
        {
          "output_type": "stream",
          "name": "stdout",
          "text": [
            "[[[[0. 0. 0. 0. 0.]\n",
            "   [0. 0. 0. 0. 0.]\n",
            "   [0. 0. 0. 0. 0.]\n",
            "   [0. 0. 0. 0. 0.]]\n",
            "\n",
            "  [[0. 0. 0. 0. 0.]\n",
            "   [0. 0. 0. 0. 0.]\n",
            "   [0. 0. 0. 0. 0.]\n",
            "   [0. 0. 0. 0. 0.]]\n",
            "\n",
            "  [[0. 0. 0. 0. 0.]\n",
            "   [0. 0. 0. 0. 0.]\n",
            "   [0. 0. 0. 0. 0.]\n",
            "   [0. 0. 0. 0. 0.]]]\n",
            "\n",
            "\n",
            " [[[0. 0. 0. 0. 0.]\n",
            "   [0. 0. 0. 0. 0.]\n",
            "   [0. 0. 0. 0. 0.]\n",
            "   [0. 0. 0. 0. 0.]]\n",
            "\n",
            "  [[0. 0. 0. 0. 0.]\n",
            "   [0. 0. 0. 0. 0.]\n",
            "   [0. 0. 0. 0. 0.]\n",
            "   [0. 0. 0. 0. 0.]]\n",
            "\n",
            "  [[0. 0. 0. 0. 0.]\n",
            "   [0. 0. 0. 0. 0.]\n",
            "   [0. 0. 0. 0. 0.]\n",
            "   [0. 0. 0. 0. 0.]]]]\n",
            "(2, 3, 4, 5)\n"
          ]
        }
      ]
    },
    {
      "cell_type": "markdown",
      "source": [
        "##**Shapeshifting**\n",
        "\n",
        "###**Array attributes**\n",
        "* .shape\n",
        "\n",
        "###**Array methods**\n",
        "* .flatten()\n",
        "* .reshape()\n",
        "\n",
        "\n",
        "\n"
      ],
      "metadata": {
        "id": "tCbBHOAq0W19"
      }
    },
    {
      "cell_type": "code",
      "source": [
        "#  Flatten array\n",
        "array = np.array([[1, 2, 3], [4, 5, 6], [7, 8, 9]])\n",
        "array.flatten()"
      ],
      "metadata": {
        "id": "m_vJASqfYmbM",
        "outputId": "76b51e64-e854-4622-bb3e-f3ed74cf407b",
        "colab": {
          "base_uri": "https://localhost:8080/"
        }
      },
      "execution_count": null,
      "outputs": [
        {
          "output_type": "execute_result",
          "data": {
            "text/plain": [
              "array([1, 2, 3, 4, 5, 6, 7, 8, 9])"
            ]
          },
          "metadata": {},
          "execution_count": 6
        }
      ]
    },
    {
      "cell_type": "code",
      "source": [
        "#  Reshape array\n",
        "import numpy as np\n",
        "array = np.array([[1, 2], [4, 5], [7, 8]])\n",
        "print(array.shape)\n",
        "reshaped_array = array.reshape((2, 3))\n",
        "print(reshaped_array.shape)\n"
      ],
      "metadata": {
        "id": "p7Pb76_eap3B",
        "outputId": "dec3c2d3-f9e7-41fd-8576-e995cf211ff4",
        "colab": {
          "base_uri": "https://localhost:8080/"
        }
      },
      "execution_count": null,
      "outputs": [
        {
          "output_type": "stream",
          "name": "stdout",
          "text": [
            "(3, 2)\n",
            "(2, 3)\n"
          ]
        }
      ]
    },
    {
      "cell_type": "markdown",
      "source": [
        "##**NumPy Data Types**\n",
        "\n",
        "* more specific than Python\n",
        "\n",
        "###**Bits and Bytes**\n",
        "* bit - binary digit - only values of 0 or 1 - smallest unit of memory\n",
        "* byte - sequence of 8 bits\n",
        "* NumPy 32-bit integer - 2 to the 32nd power numbers - over four billion integers,\n",
        "\n",
        "* np.int64\n",
        "* np.int32 - -2.1B to +2.5B\n",
        "* np.float64\n",
        "* np.float32 -2.1B to + 2.1B\n",
        "* np.bool\n",
        "* np.U12 - '<U12'\n",
        "\n",
        "###**Specify and change datatype of array**\n",
        "* dtype =\n",
        "* .astype()\n",
        "* type coercion if more than 1 dtype in array"
      ],
      "metadata": {
        "id": "pJygDgJ27M1t"
      }
    },
    {
      "cell_type": "code",
      "source": [
        "# Create an array of zeros with three rows and two columns\n",
        "zero_array = np.zeros((3, 2))\n",
        "\n",
        "# Print the data type of zero_array\n",
        "print(zero_array.dtype)\n",
        "\n",
        "# Create a new array of int32 zeros with three rows and two columns\n",
        "zero_int_array = np.zeros((3, 2), dtype=np.int32)\n",
        "\n",
        "# Print the data type of zero_int_array\n",
        "print(zero_int_array.dtype)\n"
      ],
      "metadata": {
        "colab": {
          "base_uri": "https://localhost:8080/"
        },
        "id": "K5i24K-jDKbF",
        "outputId": "43a469ca-d17f-453e-a7c7-a3545af59215"
      },
      "execution_count": null,
      "outputs": [
        {
          "output_type": "stream",
          "name": "stdout",
          "text": [
            "float64\n",
            "int32\n"
          ]
        }
      ]
    },
    {
      "cell_type": "code",
      "source": [
        "print(np.array([34.65, 9, 7.8]).astype(np.int64).dtype)"
      ],
      "metadata": {
        "colab": {
          "base_uri": "https://localhost:8080/"
        },
        "id": "rxt-YSTHEAhg",
        "outputId": "655c0a9d-d520-4405-b17b-645c9316c53d"
      },
      "execution_count": null,
      "outputs": [
        {
          "output_type": "stream",
          "name": "stdout",
          "text": [
            "int64\n"
          ]
        }
      ]
    },
    {
      "cell_type": "markdown",
      "source": [
        "##**Indexing, Slicing and Sorting Arrays**\n",
        "\n",
        "* [ ]\n",
        "* 0 based indexing\n",
        "* last index not included\n",
        "* can use :\n",
        "\n",
        "###**Index and Slice**\n",
        "* Index 1D array - array[index_no]\n",
        "* Slice 1D array - array[element:element]\n",
        "* Index 2D array - array[row, column] - 1 index asumes its for row\n",
        "* Slice 2D array - array[row_start:row_stop, column_start:column_stop]\n",
        "* Slice 2D array with step value\n",
        "\n",
        "\n",
        "###**Sort**\n",
        "\n",
        "* np.sort - sort array along given axis\n",
        "* 2D array - y_axis = axis 0 | x_axis = axis 1\n",
        "\n"
      ],
      "metadata": {
        "id": "liiNw2YDLFgE"
      }
    },
    {
      "cell_type": "code",
      "source": [
        "#  Index 1D array\n",
        "\n",
        "#  Import NumPy\n",
        "import numpy as np\n",
        "\n",
        "# Create array\n",
        "oneD_array =np.array(['a', 'b', 'c', 'd', 'e'], dtype= '<U5')\n",
        "\n",
        "# Print dtype\n",
        "print(oneD_array.dtype)\n",
        "\n",
        "# Access 3rd element\n",
        "print(oneD_array[2])\n",
        "\n",
        "# Access elemnents 3-4 'c', 'd'\n",
        "print(oneD_array[2:4])"
      ],
      "metadata": {
        "colab": {
          "base_uri": "https://localhost:8080/"
        },
        "id": "hBoam5M1w1xz",
        "outputId": "4a0c6025-64ae-42d2-e664-385c55b28067"
      },
      "execution_count": null,
      "outputs": [
        {
          "output_type": "stream",
          "name": "stdout",
          "text": [
            "<U5\n",
            "c\n",
            "['c' 'd']\n"
          ]
        }
      ]
    },
    {
      "cell_type": "code",
      "source": [
        "#  Index 2D array\n",
        "\n",
        "#  Import NumPy\n",
        "import numpy as np\n",
        "\n",
        "# Create array\n",
        "twoD_array =np.array([[1, 2, 3, 4, 5],\n",
        "                       [6, 7, 8, 9, 10],\n",
        "                       [11, 12, 13, 14, 15],\n",
        "                      [16, 17, 18, 19, 20],\n",
        "                       [21, 22, 23, 24, 25]])\n",
        "\n",
        "# Access 2nd row 3rd column\n",
        "print(twoD_array[1, 2])\n",
        "\n",
        "# Access 2nd row only\n",
        "print(twoD_array[1])\n",
        "\n",
        "# Access row 2-4 columns 3-5\n",
        "print(twoD_array[1:4, 2:5])\n",
        "\n",
        "# Access row 2-4 columns 3-5 - steps 2 (corner values)\n",
        "print(twoD_array[1:4:2, 2:5:2])\n",
        "\n",
        "# Access row 2-4 columns 3-5 - steps 2 (for rows only)\n",
        "print(twoD_array[1:4:2, 2:5])"
      ],
      "metadata": {
        "colab": {
          "base_uri": "https://localhost:8080/"
        },
        "id": "E_vPPXTRw2Na",
        "outputId": "844368da-0076-4dfd-9187-e2f054c8bbe2"
      },
      "execution_count": null,
      "outputs": [
        {
          "output_type": "stream",
          "name": "stdout",
          "text": [
            "8\n",
            "[ 6  7  8  9 10]\n",
            "[[ 8  9 10]\n",
            " [13 14 15]\n",
            " [18 19 20]]\n",
            "[[ 8 10]\n",
            " [18 20]]\n",
            "[[ 8  9 10]\n",
            " [18 19 20]]\n"
          ]
        }
      ]
    },
    {
      "cell_type": "code",
      "source": [
        "# Create array\n",
        "twoD_array =np.array([[1, 3, 4, 88, 21],\n",
        "                       [88, 7, 8, 100, 21],\n",
        "                       [25, 12, 13, 14, 15],\n",
        "                      [45, 17, 2, 19, 20],\n",
        "                       [100, 22, 23, 24, 25]])\n",
        "\n",
        "# Sort array along columns - default = axix = 0\n",
        "print(np.sort(twoD_array))\n",
        "\n",
        "\n",
        "# Sort array along rows\n",
        "print(np.sort(twoD_array, axis=1))\n",
        "\n",
        "# Sort array along 3rd column\n",
        "print(np.sort(twoD_array[:, 2]))"
      ],
      "metadata": {
        "colab": {
          "base_uri": "https://localhost:8080/"
        },
        "id": "r1KmQnyF_HHW",
        "outputId": "785265fe-0a4c-4223-f5e6-3dc0b0d28af7"
      },
      "execution_count": null,
      "outputs": [
        {
          "output_type": "stream",
          "name": "stdout",
          "text": [
            "[[  1   3   4  21  88]\n",
            " [  7   8  21  88 100]\n",
            " [ 12  13  14  15  25]\n",
            " [  2  17  19  20  45]\n",
            " [ 22  23  24  25 100]]\n",
            "[[  1   3   4  21  88]\n",
            " [  7   8  21  88 100]\n",
            " [ 12  13  14  15  25]\n",
            " [  2  17  19  20  45]\n",
            " [ 22  23  24  25 100]]\n",
            "[ 2  4  8 13 23]\n"
          ]
        }
      ]
    },
    {
      "cell_type": "markdown",
      "source": [
        "##**Filtering Arrays**\n",
        "\n",
        "###**Masks and fancy indexing**\n",
        "* returns array of elements\n",
        "* create boolean mask of same size\n",
        "* index array using mask**\n",
        "\n",
        "\n",
        "###**np.where()**\n",
        "* returns array of indices\n",
        "* tuple of indices as each element can be located only with index for each dimension\n",
        "* can find and replace elements based on where condition\n",
        "\n"
      ],
      "metadata": {
        "id": "h49SUuT7HQ0V"
      }
    },
    {
      "cell_type": "code",
      "source": [
        "#  2D fancy indexing - which classrooms have even number students\n",
        "\n",
        "classroom_ids_and_sizes = np.array([[1,22], [2, 21], [3, 27], [4, 26]])\n",
        "\n",
        "mask = classroom_ids_and_sizes[:, 1] % 2 == 0\n",
        "\n",
        "#  use mask to filter column indices\n",
        "print(classroom_ids_and_sizes[:, 0][mask])\n",
        "\n",
        "#  use mask to filter array\n",
        "print(classroom_ids_and_sizes[mask])"
      ],
      "metadata": {
        "colab": {
          "base_uri": "https://localhost:8080/"
        },
        "id": "XyIIhOxxYHVF",
        "outputId": "b9a34da4-6005-4240-b70a-fda7bdfa8e96"
      },
      "execution_count": null,
      "outputs": [
        {
          "output_type": "stream",
          "name": "stdout",
          "text": [
            "[1 4]\n",
            "[[ 1 22]\n",
            " [ 4 26]]\n"
          ]
        }
      ]
    },
    {
      "cell_type": "code",
      "source": [
        "#  np.where() - which classrooms have even number students\n",
        "\n",
        "classroom_ids_and_sizes = np.array([[1,22], [2, 21], [3, 27], [4, 26]])\n",
        "\n",
        "print(np.where(classroom_ids_and_sizes[:, 1] % 2 == 0))\n",
        "\n",
        "\n",
        "#  np.where () - 2D array\n",
        "twoD_array =np.array([[1, 3, 4, 88, 21],\n",
        "                       [88, 7, 8, 100, 21],\n",
        "                       [25, 12, 13, 14, 15],\n",
        "                      [45, 17, 2, 19, 20],\n",
        "                       [100, 22, 23, 24, 25]])\n",
        "\n",
        "row_ind, column_ind = np.where(twoD_array > 80)\n",
        "print(row_ind, column_ind)\n",
        "\n",
        "#  np.where () - find and replace with empty string for original array\n",
        "print(np.where(twoD_array % 2 == 0, '', twoD_array))\n",
        "\n",
        "#  np.where () - find and replace with 200 if condition ie met and 100 otherwise\n",
        "print(np.where(twoD_array % 2 == 0, 100, 200))"
      ],
      "metadata": {
        "colab": {
          "base_uri": "https://localhost:8080/"
        },
        "id": "0L32zYFucEZP",
        "outputId": "6e76909b-d905-4325-af2f-9bb2c4fec250"
      },
      "execution_count": null,
      "outputs": [
        {
          "output_type": "stream",
          "name": "stdout",
          "text": [
            "(array([0, 3]),)\n",
            "[0 1 1 4] [3 0 3 0]\n",
            "[['1' '3' '' '' '21']\n",
            " ['' '7' '' '' '21']\n",
            " ['25' '' '13' '' '15']\n",
            " ['45' '17' '' '19' '']\n",
            " ['' '' '23' '' '25']]\n",
            "[[200 200 100 100 200]\n",
            " [100 200 100 100 200]\n",
            " [200 100 200 100 200]\n",
            " [200 200 100 200 100]\n",
            " [100 100 200 100 200]]\n"
          ]
        }
      ]
    },
    {
      "cell_type": "markdown",
      "source": [
        "##**Adding and Removing Data**\n",
        "\n",
        "* np.concat() - add data to an array on any given axis\n",
        "* default = add along first axis (row)\n",
        "\n",
        "\n"
      ],
      "metadata": {
        "id": "LblrdsxIEvai"
      }
    },
    {
      "cell_type": "code",
      "source": [
        "#  Concatenane arrays\n",
        "import numpy as np\n",
        "\n",
        "classroom_ids_and_sizes = np.array([[1,22], [2, 21], [3, 27], [4, 26]])\n",
        "\n",
        "new_classroom = np.array([[5, 30], [5, 17]])\n",
        "\n",
        "np.concatenate((classroom_ids_and_sizes, new_classroom))"
      ],
      "metadata": {
        "colab": {
          "base_uri": "https://localhost:8080/"
        },
        "id": "V8tupXc0FG6p",
        "outputId": "3ece3264-f287-4041-ef9a-18dff739996f"
      },
      "execution_count": 2,
      "outputs": [
        {
          "output_type": "execute_result",
          "data": {
            "text/plain": [
              "array([[ 1, 22],\n",
              "       [ 2, 21],\n",
              "       [ 3, 27],\n",
              "       [ 4, 26],\n",
              "       [ 5, 30],\n",
              "       [ 5, 17]])"
            ]
          },
          "metadata": {},
          "execution_count": 2
        }
      ]
    }
  ]
}