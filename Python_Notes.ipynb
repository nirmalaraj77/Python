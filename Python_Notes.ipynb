{
  "cells": [
    {
      "cell_type": "markdown",
      "metadata": {
        "id": "view-in-github",
        "colab_type": "text"
      },
      "source": [
        "<a href=\"https://colab.research.google.com/github/nirmalaraj77/Python/blob/main/Python_Notes.ipynb\" target=\"_parent\"><img src=\"https://colab.research.google.com/assets/colab-badge.svg\" alt=\"Open In Colab\"/></a>"
      ]
    },
    {
      "cell_type": "markdown",
      "source": [
        "#Class\n",
        "##Defines New Class"
      ],
      "metadata": {
        "id": "YZdZQNF77LsE"
      },
      "id": "YZdZQNF77LsE"
    },
    {
      "cell_type": "code",
      "source": [
        "class Beer:\n",
        "  def __init__(self) :\n",
        "    self.content = 1.0\n",
        "  def drink (self) :\n",
        "    self.content = 0.0\n",
        "\n",
        "becks = Beer() #Constructor - Create Class\n",
        "becks.drink() #Beer empty: beer.content == 0\n",
        "\n",
        "\n",
        "\n",
        "\n",
        "  "
      ],
      "metadata": {
        "id": "f-rc6Ify7Szq"
      },
      "id": "f-rc6Ify7Szq",
      "execution_count": null,
      "outputs": []
    },
    {
      "cell_type": "markdown",
      "id": "57159a6b",
      "metadata": {
        "id": "57159a6b"
      },
      "source": [
        "## ITERATORS\n",
        "\n",
        "### An iterable is an object that can return an iterator, while an iterator is an object that keeps state and produces the next value when you call next() on it.\n",
        "\n",
        "## ITERABLES \n",
        "### An object that has an associated iter () method\n",
        "#### Applying iter() to an iterable creates an iterator\n",
        "### Example: lists, strings, dicts, file connections \n",
        "\n",
        "## ITERATORS\n",
        "#### An object that produces consequtive values with next ()\n"
      ]
    },
    {
      "cell_type": "code",
      "execution_count": null,
      "id": "6dc0ea75",
      "metadata": {
        "scrolled": true,
        "id": "6dc0ea75",
        "outputId": "a7d79704-7e71-4074-db7d-e3add689d48f"
      },
      "outputs": [
        {
          "name": "stdout",
          "output_type": "stream",
          "text": [
            "D\n",
            "o\n",
            "c\n",
            "S\n",
            "t\n",
            "r\n",
            "i\n",
            "n\n",
            "g\n"
          ]
        }
      ],
      "source": [
        "# Iterate over string characters\n",
        "for x in 'DocString':\n",
        "\tprint (x)"
      ]
    },
    {
      "cell_type": "code",
      "execution_count": null,
      "id": "65f411f3",
      "metadata": {
        "id": "65f411f3",
        "outputId": "8f63ba19-57f6-4575-c4ea-6eee8bb8aa1c"
      },
      "outputs": [
        {
          "name": "stdout",
          "output_type": "stream",
          "text": [
            "Nirmal\n",
            "Raji\n",
            "Shana\n",
            "Hari\n"
          ]
        }
      ],
      "source": [
        "# Iterate over lists\n",
        "family = ['Nirmal', 'Raji', 'Shana', 'Hari']\n",
        "for members in family:\n",
        "\tprint (members)"
      ]
    },
    {
      "cell_type": "code",
      "execution_count": null,
      "id": "58eaa087",
      "metadata": {
        "id": "58eaa087",
        "outputId": "d9e72722-1cb9-4544-8f56-9b7570cf209c"
      },
      "outputs": [
        {
          "name": "stdout",
          "output_type": "stream",
          "text": [
            "0\n",
            "1\n",
            "2\n",
            "3\n"
          ]
        }
      ],
      "source": [
        "# Iterate over special range objects \n",
        "for i in range(4):\n",
        "\tprint (i)"
      ]
    },
    {
      "cell_type": "code",
      "execution_count": null,
      "id": "5efcb716",
      "metadata": {
        "scrolled": true,
        "id": "5efcb716",
        "outputId": "2fbe6831-4575-4b76-db3d-6bf67264c029"
      },
      "outputs": [
        {
          "name": "stdout",
          "output_type": "stream",
          "text": [
            "10\n",
            "11\n",
            "12\n",
            "13\n",
            "14\n",
            "15\n",
            "16\n",
            "17\n",
            "18\n",
            "19\n",
            "20\n"
          ]
        }
      ],
      "source": [
        "# Iterate over special range objects\n",
        "for i in range (10, 21):\n",
        "\tprint (i)"
      ]
    },
    {
      "cell_type": "markdown",
      "id": "5bcf2aae",
      "metadata": {
        "id": "5bcf2aae"
      },
      "source": [
        "### ITERATING OVER ITERABLES: NEXT ()"
      ]
    },
    {
      "cell_type": "code",
      "execution_count": null,
      "id": "96878525",
      "metadata": {
        "id": "96878525",
        "outputId": "c0182149-181a-46d7-c967-210db8e7d2b3"
      },
      "outputs": [
        {
          "name": "stdout",
          "output_type": "stream",
          "text": [
            "D\n",
            "a\n",
            "d\n",
            "d\n",
            "y\n"
          ]
        }
      ],
      "source": [
        "# Runs 1 by 1 until no iterators left\n",
        "word = 'Daddy'\n",
        "it = iter (word)\n",
        "\n",
        "print (next(it))\n",
        "\n",
        "print (next (it))\n",
        "\n",
        "print (next (it))\n",
        "\n",
        "print (next (it))\n",
        "\n",
        "print (next (it))"
      ]
    },
    {
      "cell_type": "markdown",
      "id": "afdea2fa",
      "metadata": {
        "id": "afdea2fa"
      },
      "source": [
        "### Iterating at once with Star or Splat *"
      ]
    },
    {
      "cell_type": "code",
      "execution_count": null,
      "id": "0c526bcf",
      "metadata": {
        "id": "0c526bcf",
        "outputId": "3ae61f30-b313-4024-f93c-b4a7825ee3fc"
      },
      "outputs": [
        {
          "name": "stdout",
          "output_type": "stream",
          "text": [
            "D a t a\n"
          ]
        }
      ],
      "source": [
        "# Unpacks all elements of iterator\n",
        "# Cannot run again as no more values - have to redefine\n",
        "word = 'Data'\n",
        "it = iter (word)\n",
        "print (*it)"
      ]
    },
    {
      "cell_type": "markdown",
      "id": "8383cd03",
      "metadata": {
        "id": "8383cd03"
      },
      "source": [
        "### ITERAING OVER DICTINONARIES"
      ]
    },
    {
      "cell_type": "code",
      "execution_count": null,
      "id": "fbf1e7bb",
      "metadata": {
        "id": "fbf1e7bb",
        "outputId": "b4ae5877-89d5-4dce-d60b-fc79e16b79c7"
      },
      "outputs": [
        {
          "name": "stdout",
          "output_type": "stream",
          "text": [
            "son Nirmal\n",
            "son Raji\n",
            "son Shana\n",
            "son Hari\n"
          ]
        }
      ],
      "source": [
        "# To unpack \n",
        "family = {'father' : 'Nirmal', 'mother' : 'Raji', 'daughter' : 'Shana', 'son' : 'Hari'}\n",
        "for X, value in family.items():\n",
        "\tprint (key, value)\n"
      ]
    },
    {
      "cell_type": "markdown",
      "id": "04580974",
      "metadata": {
        "id": "04580974"
      },
      "source": [
        "### ITERATING OVER FILE CONNECTIONS"
      ]
    },
    {
      "cell_type": "code",
      "execution_count": null,
      "id": "7529e5ea",
      "metadata": {
        "scrolled": true,
        "id": "7529e5ea",
        "outputId": "b8cdd87e-0327-4b29-d629-17b942ad0a13"
      },
      "outputs": [
        {
          "name": "stdout",
          "output_type": "stream",
          "text": [
            "shana 2003\n",
            "\n",
            "hari 2015\n",
            "\n",
            "nirmal 1977\n",
            "\n",
            "rsji 1983\n"
          ]
        }
      ],
      "source": [
        "file = open ('G:\\\\My Drive\\\\PYTHON\\\\test.txt')\n",
        "it = iter (file)\n",
        "print (next (it))\n",
        "print (next (it))\n",
        "print (next (it))\n",
        "print (next (it))\n"
      ]
    },
    {
      "cell_type": "markdown",
      "id": "0a8ff91e",
      "metadata": {
        "id": "0a8ff91e"
      },
      "source": [
        "### Functions that take iterators and iterables as arguments: list () and sum ()"
      ]
    },
    {
      "cell_type": "code",
      "execution_count": null,
      "id": "64cb7271",
      "metadata": {
        "id": "64cb7271",
        "outputId": "65655af8-985a-48e7-aaba-4cfd75b95a95"
      },
      "outputs": [
        {
          "name": "stdout",
          "output_type": "stream",
          "text": [
            "[10, 11, 12, 13, 14, 15, 16, 17, 18, 19, 20]\n",
            "165\n"
          ]
        }
      ],
      "source": [
        "# Create list \n",
        "values = range(10, 21)\n",
        "values_list = list(values)\n",
        "\n",
        "print (values_list)\n",
        "\n",
        "# Get Sum\n",
        "values_sum = sum(values)\n",
        "print (values_sum)\n"
      ]
    },
    {
      "cell_type": "markdown",
      "id": "55b59f82",
      "metadata": {
        "id": "55b59f82"
      },
      "source": [
        "## ENUMERATE \n",
        "### Add a counter to any iterable"
      ]
    },
    {
      "cell_type": "code",
      "execution_count": null,
      "id": "cab92c10",
      "metadata": {
        "id": "cab92c10",
        "outputId": "2d5ebf30-50b2-4afe-cffb-8f9be40f0580"
      },
      "outputs": [
        {
          "name": "stdout",
          "output_type": "stream",
          "text": [
            "<class 'enumerate'>\n"
          ]
        }
      ],
      "source": [
        "#Add a a counter to any iterable\n",
        "\n",
        "avengers = ['hawkeye', 'iron man', 'thor', 'quicksilver']\n",
        "e = enumerate (avengers)\n",
        "print (type(e))"
      ]
    },
    {
      "cell_type": "code",
      "execution_count": null,
      "id": "466c0a55",
      "metadata": {
        "id": "466c0a55",
        "outputId": "ae40b1c5-2ba5-482c-edd7-aec98de5aa29"
      },
      "outputs": [
        {
          "name": "stdout",
          "output_type": "stream",
          "text": [
            "[(0, 'hawkeye'), (1, 'iron man'), (2, 'thor'), (3, 'quicksilver')]\n"
          ]
        }
      ],
      "source": [
        "# Can convert to list and return tuple of indexes and objects\n",
        "\n",
        "e_list = list (e)\n",
        "print (e_list)"
      ]
    },
    {
      "cell_type": "code",
      "execution_count": null,
      "id": "489292d9",
      "metadata": {
        "id": "489292d9",
        "outputId": "03067dd6-2832-48b9-a26f-806b6fa11697"
      },
      "outputs": [
        {
          "name": "stdout",
          "output_type": "stream",
          "text": [
            "0 hawkeye\n",
            "1 iron man\n",
            "2 thor\n",
            "3 quicksilver\n"
          ]
        }
      ],
      "source": [
        "#Enumerate is itself an iterable - can unpack\n",
        "\n",
        "avengers = ['hawkeye', 'iron man', 'thor', 'quicksilver']\n",
        "for a, x in enumerate (avengers):\n",
        "\tprint (a, x)"
      ]
    },
    {
      "cell_type": "code",
      "execution_count": null,
      "id": "7850cafa",
      "metadata": {
        "id": "7850cafa",
        "outputId": "ff18972e-72f0-4bdf-ced7-1831032244ac"
      },
      "outputs": [
        {
          "name": "stdout",
          "output_type": "stream",
          "text": [
            "100 hawkeye\n",
            "101 iron man\n",
            "102 thor\n",
            "103 quicksilver\n"
          ]
        }
      ],
      "source": [
        "#Can unpack enumerate with any number (default = 0)\n",
        "\n",
        "avengers = ['hawkeye', 'iron man', 'thor', 'quicksilver']\n",
        "for a, value in enumerate (avengers, start = 100):\n",
        "\tprint (a, value)"
      ]
    },
    {
      "cell_type": "markdown",
      "id": "1dc8d88b",
      "metadata": {
        "id": "1dc8d88b"
      },
      "source": [
        "### Can use Splat *"
      ]
    },
    {
      "cell_type": "code",
      "execution_count": null,
      "id": "158b66ce",
      "metadata": {
        "id": "158b66ce",
        "outputId": "9c9321cd-7d54-4e84-f6aa-aaec3b6c080e"
      },
      "outputs": [
        {
          "name": "stdout",
          "output_type": "stream",
          "text": [
            "(222, 'hawkeye') (223, 'iron man') (224, 'thor') (225, 'quicksilver')\n"
          ]
        }
      ],
      "source": [
        "# can use Splat *\n",
        "\n",
        "avengers = ['hawkeye', 'iron man', 'thor', 'quicksilver']\n",
        "z = enumerate (avengers, start = 222)\n",
        "print (*z)"
      ]
    },
    {
      "cell_type": "markdown",
      "id": "8edb51b3",
      "metadata": {
        "id": "8edb51b3"
      },
      "source": [
        "## Zip\n",
        "### Stich together arbitary iterables - accepts arbitary number of iterables and returns an iterator of tuples"
      ]
    },
    {
      "cell_type": "code",
      "execution_count": null,
      "id": "13ec7cce",
      "metadata": {
        "id": "13ec7cce",
        "outputId": "666cc223-3d9a-4ec7-f361-55dedd18d59e"
      },
      "outputs": [
        {
          "name": "stdout",
          "output_type": "stream",
          "text": [
            "<class 'zip'>\n",
            "[('hawkeye', 'barton'), ('iron man', 'stark'), ('thor', 'odinson'), ('quicksilver', 'maximoff')]\n"
          ]
        }
      ],
      "source": [
        "# Stich together arbitary iterables - accepts arbitary number of iterables and returns an iterator of tuples\n",
        "\n",
        "avengers = ['hawkeye', 'iron man', 'thor', 'quicksilver']\n",
        "names = ['barton', 'stark', 'odinson', 'maximoff']\n",
        "\n",
        "z = zip (avengers, names)\n",
        "\n",
        "print (type(z))\n",
        "\n",
        "z_list = list(z)\n",
        "\n",
        "print (z_list)"
      ]
    },
    {
      "cell_type": "code",
      "execution_count": null,
      "id": "4140d709",
      "metadata": {
        "id": "4140d709",
        "outputId": "91649510-efd4-4310-d695-7563501f78f0"
      },
      "outputs": [
        {
          "name": "stdout",
          "output_type": "stream",
          "text": [
            "[('hawkeye', 'barton'), ('iron man', 'stark'), ('thor', 'odinson'), ('quicksilver', 'maximoff')]\n"
          ]
        }
      ],
      "source": [
        "# Can convert to list and return tuple of keys and values\n",
        "\n",
        "avengers = ['hawkeye', 'iron man', 'thor', 'quicksilver']\n",
        "names = ['barton', 'stark', 'odinson', 'maximoff']\n",
        "\n",
        "z = zip (avengers, names)\n",
        "\n",
        "z_list = list(z)\n",
        "\n",
        "print (z_list)"
      ]
    },
    {
      "cell_type": "code",
      "execution_count": null,
      "id": "724cc85e",
      "metadata": {
        "id": "724cc85e",
        "outputId": "d60f8411-ceb7-4786-f48b-9906c191d778"
      },
      "outputs": [
        {
          "name": "stdout",
          "output_type": "stream",
          "text": [
            "hawkeye barton\n",
            "iron man stark\n",
            "thor odinson\n",
            "quicksilver maximoff\n"
          ]
        }
      ],
      "source": [
        "# Use for loop to iterate over zip objects and print tuples\n",
        "\n",
        "avengers = ['hawkeye', 'iron man', 'thor', 'quicksilver']\n",
        "names = ['barton', 'stark', 'odinson', 'maximoff']\n",
        "\n",
        "for z1, z2 in zip(avengers, names):\n",
        "\tprint (z1, z2)"
      ]
    },
    {
      "cell_type": "markdown",
      "id": "c905b8a2",
      "metadata": {
        "id": "c905b8a2"
      },
      "source": [
        "### Use Splat *"
      ]
    },
    {
      "cell_type": "code",
      "execution_count": null,
      "id": "1885fac3",
      "metadata": {
        "id": "1885fac3",
        "outputId": "07ea0dc4-3146-4ec4-a52b-983523a3ea18",
        "colab": {
          "base_uri": "https://localhost:8080/"
        }
      },
      "outputs": [
        {
          "output_type": "stream",
          "name": "stdout",
          "text": [
            "('hawkeye', 'barton') ('iron man', 'stark') ('thor', 'odinson') ('quicksilver', 'maximoff')\n"
          ]
        }
      ],
      "source": [
        "# Use Splat *\n",
        "\n",
        "avengers = ['hawkeye', 'iron man', 'thor', 'quicksilver']\n",
        "names = ['barton', 'stark', 'odinson', 'maximoff']\n",
        "\n",
        "z = zip (avengers, names)\n",
        "\n",
        "print (*z)\n"
      ]
    },
    {
      "cell_type": "markdown",
      "source": [
        "### There is no unzip function for reversing zip()\n",
        "#### However, we can reverse what has been zipped by using zip() with a little help from * (Splat)\n",
        "### Unpacks an iterable such as a list or a tuple into positional arguments in a function call"
      ],
      "metadata": {
        "id": "KBXDnr9O2LWe"
      },
      "id": "KBXDnr9O2LWe"
    },
    {
      "cell_type": "code",
      "source": [
        "#Create 2 lists\n",
        "avengers = ['hawkeye', 'iron man', 'thor', 'quicksilver']\n",
        "names = ['barton', 'stark', 'odinson', 'maximoff']\n",
        "\n",
        "# Zip the lists\n",
        "z1 = zip (avengers, names)\n",
        "\n",
        "#Unzip the tuples in z1 by unpacking with * and zip(): result1, result2\n",
        "result1, result2 = zip(*z1)\n",
        "\n",
        "#Print the unzipped tuples\n",
        "print (result1)\n",
        "print (result2)\n",
        "\n",
        "# Check if unpacked tuples are equivalent to original tuples\n",
        "print(result1 == avengers)\n",
        "print(result2 == names)"
      ],
      "metadata": {
        "id": "rUnUIOJ_2Rvy",
        "outputId": "f7e77e16-ac7f-4737-fdcb-32f01f1e1327",
        "colab": {
          "base_uri": "https://localhost:8080/"
        }
      },
      "id": "rUnUIOJ_2Rvy",
      "execution_count": null,
      "outputs": [
        {
          "output_type": "stream",
          "name": "stdout",
          "text": [
            "('hawkeye', 'iron man', 'thor', 'quicksilver')\n",
            "('barton', 'stark', 'odinson', 'maximoff')\n",
            "False\n",
            "False\n"
          ]
        }
      ]
    },
    {
      "cell_type": "markdown",
      "source": [
        "# Using iterators to load large files into memory\n",
        "\n",
        "# Solution: Load data in chunks"
      ],
      "metadata": {
        "id": "8zgF6TOZ4v3U"
      },
      "id": "8zgF6TOZ4v3U"
    },
    {
      "cell_type": "code",
      "source": [
        "#UseCase - Define Function to reuse \n",
        "#Extracting information for large amounts of Twitter data\n",
        "url = 'https://raw.githubusercontent.com/nirmalaraj77/Python/516cd1f5b646c40c0165bd12620d47f51ec24248/tweets.csv' #Load Url Tweets.csv\n",
        "import pandas as pd #Import Pandas\n",
        "\n",
        "# Define count_entries()\n",
        "def count_entries (csv_file, c_size, colname):\n",
        "    \"\"\"Return a dictionary with counts of\n",
        "    occurrences as value for each key.\"\"\"\n",
        "    \n",
        "    # Initialize an empty dictionary: counts_dict\n",
        "    counts_dict = {}\n",
        "\n",
        "    # Iterate over the file chunk by chunk\n",
        "    for chunk in pd.read_csv (csv_file, chunksize = c_size):\n",
        "\n",
        "        # Iterate over the column in DataFrame\n",
        "        for entry in chunk [colname]:\n",
        "            if entry in counts_dict.keys():\n",
        "                counts_dict[entry] += 1\n",
        "            else:\n",
        "                counts_dict[entry] = 1\n",
        "\n",
        "    # Return counts_dict\n",
        "    return counts_dict\n",
        "\n",
        "# Call count_entries(): result_counts\n",
        "result_counts = count_entries (url, 10, 'lang')\n",
        "\n",
        "# Print result_counts\n",
        "print(result_counts)"
      ],
      "metadata": {
        "id": "GWH6gxah5A-0",
        "outputId": "7c1545c1-6f19-4cf7-8781-aed9dff659d2",
        "colab": {
          "base_uri": "https://localhost:8080/"
        }
      },
      "id": "GWH6gxah5A-0",
      "execution_count": null,
      "outputs": [
        {
          "output_type": "stream",
          "name": "stdout",
          "text": [
            "{'en': 97, 'et': 1, 'und': 2}\n"
          ]
        }
      ]
    },
    {
      "cell_type": "code",
      "source": [
        "#UseCase - Define Function to reuse \n",
        "#Extracting information for large amounts of Twitter data\n",
        "url = 'https://raw.githubusercontent.com/nirmalaraj77/Python/516cd1f5b646c40c0165bd12620d47f51ec24248/tweets.csv' #Load Url Tweets.csv\n",
        "import pandas as pd #Import Pandas\n",
        "df = pd.read_csv (url)\n",
        "print (df.head)"
      ],
      "metadata": {
        "id": "fVHWAA14Qy8s",
        "outputId": "6e871895-808b-438d-9aa5-da14c19467cf",
        "colab": {
          "base_uri": "https://localhost:8080/"
        }
      },
      "id": "fVHWAA14Qy8s",
      "execution_count": null,
      "outputs": [
        {
          "output_type": "stream",
          "name": "stdout",
          "text": [
            "<bound method NDFrame.head of     contributors  coordinates                      created_at  \\\n",
            "0            NaN          NaN  Tue Mar 29 23:40:17 +0000 2016   \n",
            "1            NaN          NaN  Tue Mar 29 23:40:17 +0000 2016   \n",
            "2            NaN          NaN  Tue Mar 29 23:40:17 +0000 2016   \n",
            "3            NaN          NaN  Tue Mar 29 23:40:17 +0000 2016   \n",
            "4            NaN          NaN  Tue Mar 29 23:40:17 +0000 2016   \n",
            "..           ...          ...                             ...   \n",
            "95           NaN          NaN  Tue Mar 29 23:40:19 +0000 2016   \n",
            "96           NaN          NaN  Tue Mar 29 23:40:19 +0000 2016   \n",
            "97           NaN          NaN  Tue Mar 29 23:40:19 +0000 2016   \n",
            "98           NaN          NaN  Tue Mar 29 23:40:19 +0000 2016   \n",
            "99           NaN          NaN  Tue Mar 29 23:40:19 +0000 2016   \n",
            "\n",
            "                                             entities  \\\n",
            "0   {'hashtags': [], 'user_mentions': [{'screen_na...   \n",
            "1   {'hashtags': [{'text': 'cruzsexscandal', 'indi...   \n",
            "2   {'hashtags': [], 'user_mentions': [], 'symbols...   \n",
            "3   {'hashtags': [], 'user_mentions': [], 'symbols...   \n",
            "4   {'hashtags': [], 'user_mentions': [{'screen_na...   \n",
            "..                                                ...   \n",
            "95  {'hashtags': [], 'user_mentions': [{'screen_na...   \n",
            "96  {'hashtags': [], 'user_mentions': [], 'symbols...   \n",
            "97  {'hashtags': [{'text': 'NeverTrump', 'indices'...   \n",
            "98  {'hashtags': [], 'user_mentions': [], 'symbols...   \n",
            "99  {'hashtags': [], 'user_mentions': [{'screen_na...   \n",
            "\n",
            "                                    extended_entities  favorite_count  \\\n",
            "0   {'media': [{'sizes': {'large': {'w': 1024, 'h'...               0   \n",
            "1   {'media': [{'sizes': {'large': {'w': 500, 'h':...               0   \n",
            "2                                                 NaN               0   \n",
            "3                                                 NaN               0   \n",
            "4                                                 NaN               0   \n",
            "..                                                ...             ...   \n",
            "95                                                NaN               0   \n",
            "96                                                NaN               0   \n",
            "97                                                NaN               0   \n",
            "98                                                NaN               0   \n",
            "99                                                NaN               0   \n",
            "\n",
            "    favorited filter_level  geo                  id  ...  quoted_status_id  \\\n",
            "0       False          low  NaN  714960401759387648  ...               NaN   \n",
            "1       False          low  NaN  714960401977319424  ...               NaN   \n",
            "2       False          low  NaN  714960402426236928  ...               NaN   \n",
            "3       False          low  NaN  714960402367561730  ...      7.149239e+17   \n",
            "4       False          low  NaN  714960402149416960  ...               NaN   \n",
            "..        ...          ...  ...                 ...  ...               ...   \n",
            "95      False          low  NaN  714960410345136129  ...               NaN   \n",
            "96      False          low  NaN  714960410181570560  ...      7.149602e+17   \n",
            "97      False          low  NaN  714960410332377088  ...               NaN   \n",
            "98      False          low  NaN  714960410181570560  ...      7.149602e+17   \n",
            "99      False          low  NaN  714960410194018304  ...      7.149254e+17   \n",
            "\n",
            "   quoted_status_id_str  retweet_count  retweeted  \\\n",
            "0                   NaN              0      False   \n",
            "1                   NaN              0      False   \n",
            "2                   NaN              0      False   \n",
            "3          7.149239e+17              0      False   \n",
            "4                   NaN              0      False   \n",
            "..                  ...            ...        ...   \n",
            "95                  NaN              0      False   \n",
            "96         7.149602e+17              0      False   \n",
            "97                  NaN              0      False   \n",
            "98         7.149602e+17              0      False   \n",
            "99         7.149254e+17              0      False   \n",
            "\n",
            "                                     retweeted_status  \\\n",
            "0   {'retweeted': False, 'text': \".@krollbondratin...   \n",
            "1   {'retweeted': False, 'text': '@dmartosko Cruz ...   \n",
            "2                                                 NaN   \n",
            "3                                                 NaN   \n",
            "4   {'retweeted': False, 'text': 'The anti-America...   \n",
            "..                                                ...   \n",
            "95  {'retweeted': False, 'lang': 'en', 'favorite_c...   \n",
            "96                                                NaN   \n",
            "97  {'retweeted': False, 'text': \"Seriously can't ...   \n",
            "98                                                NaN   \n",
            "99                                                NaN   \n",
            "\n",
            "                                               source  \\\n",
            "0   <a href=\"http://twitter.com\" rel=\"nofollow\">Tw...   \n",
            "1   <a href=\"http://twitter.com\" rel=\"nofollow\">Tw...   \n",
            "2   <a href=\"http://www.facebook.com/twitter\" rel=...   \n",
            "3   <a href=\"http://twitter.com/download/android\" ...   \n",
            "4   <a href=\"http://twitter.com/download/iphone\" r...   \n",
            "..                                                ...   \n",
            "95  <a href=\"http://twitter.com/download/iphone\" r...   \n",
            "96  <a href=\"http://twitter.com\" rel=\"nofollow\">Tw...   \n",
            "97  <a href=\"http://twitter.com/download/iphone\" r...   \n",
            "98  <a href=\"http://twitter.com\" rel=\"nofollow\">Tw...   \n",
            "99  <a href=\"http://twitter.com/download/iphone\" r...   \n",
            "\n",
            "                                                 text   timestamp_ms  \\\n",
            "0   RT @bpolitics: .@krollbondrating's Christopher...  1459294817758   \n",
            "1   RT @HeidiAlpine: @dmartosko Cruz video found.....  1459294817810   \n",
            "2   Njihuni me Zonjën Trump !!! | Ekskluzive https...  1459294817917   \n",
            "3   Your an idiot she shouldn't have tried to grab...  1459294817903   \n",
            "4   RT @AlanLohner: The anti-American D.C. elites ...  1459294817851   \n",
            "..                                                ...            ...   \n",
            "95  RT @claytoncubitt: Stop asking Bernie supporte...  1459294819805   \n",
            "96  Kasich is gonna fuck this up for Ted Cruz  htt...  1459294819766   \n",
            "97  RT @akaMaude13: Seriously can't make this up. ...  1459294819802   \n",
            "98  Kasich is gonna fuck this up for Ted Cruz  htt...  1459294819766   \n",
            "99  @marklevinshow try reporting this truth. https...  1459294819769   \n",
            "\n",
            "   truncated                                               user  \n",
            "0      False  {'utc_offset': 3600, 'profile_image_url_https'...  \n",
            "1      False  {'utc_offset': None, 'profile_image_url_https'...  \n",
            "2      False  {'utc_offset': 7200, 'profile_image_url_https'...  \n",
            "3      False  {'utc_offset': None, 'profile_image_url_https'...  \n",
            "4      False  {'utc_offset': -18000, 'profile_image_url_http...  \n",
            "..       ...                                                ...  \n",
            "95     False  {'utc_offset': None, 'profile_image_url_https'...  \n",
            "96     False  {'utc_offset': -18000, 'profile_image_url_http...  \n",
            "97     False  {'utc_offset': None, 'profile_image_url_https'...  \n",
            "98     False  {'utc_offset': -18000, 'profile_image_url_http...  \n",
            "99     False  {'utc_offset': -21600, 'profile_image_url_http...  \n",
            "\n",
            "[100 rows x 31 columns]>\n"
          ]
        }
      ]
    },
    {
      "cell_type": "markdown",
      "source": [
        "# List Comprehensions\n",
        "### - Can write over any iterable\n",
        "### - Collapse for loops for buildinbg lists into a single line\n",
        "### - Components\n",
        "#### * Iterable\n",
        "#### * Iterator Variable (represent members of iterable)\n",
        "#### * Output expression\n",
        "#### - Syntax [output expression for Iterator variable in Iterable]"
      ],
      "metadata": {
        "id": "MJE1SBM-hvej"
      },
      "id": "MJE1SBM-hvej"
    },
    {
      "cell_type": "markdown",
      "source": [
        "## For loop and list comprehension syntax"
      ],
      "metadata": {
        "id": "xccjpkYEmZLw"
      },
      "id": "xccjpkYEmZLw"
    },
    {
      "cell_type": "code",
      "source": [
        "#For loop and list comprehension syntax\n",
        "nums = [12, 8, 21,3, 16]\n",
        "new_nums = [num + 1 for num in nums]\n",
        "print (new_nums)\n",
        "\n",
        "#Cleaner Code\n",
        "print ([num + 1 for num in [12, 8, 21, 3, 16]])\n",
        "\n",
        "#If done in for loop way\n",
        "nums = [12, 8, 21,3, 16]\n",
        "new_nums = []\n",
        "for num in nums:\n",
        "  new_nums.append (num + 1)\n",
        "print (new_nums)"
      ],
      "metadata": {
        "id": "xcM209oZNvF9",
        "colab": {
          "base_uri": "https://localhost:8080/"
        },
        "outputId": "706cbcd7-19ea-4edb-8745-96397c6b0a49"
      },
      "id": "xcM209oZNvF9",
      "execution_count": null,
      "outputs": [
        {
          "output_type": "stream",
          "name": "stdout",
          "text": [
            "[13, 9, 22, 4, 17]\n",
            "[13, 9, 22, 4, 17]\n",
            "[13, 9, 22, 4, 17]\n"
          ]
        }
      ]
    },
    {
      "cell_type": "markdown",
      "source": [
        "## List comprehension with range"
      ],
      "metadata": {
        "id": "gJw22fGXqLEt"
      },
      "id": "gJw22fGXqLEt"
    },
    {
      "cell_type": "code",
      "source": [
        "#List comprehension with range\n",
        "result = [num for num in range (11)]\n",
        "print (result)\n",
        "\n",
        "#Cleaner Code\n",
        "print ([num for num in range (11)])"
      ],
      "metadata": {
        "colab": {
          "base_uri": "https://localhost:8080/"
        },
        "id": "epFsU_DOqT9l",
        "outputId": "bf98b9f0-f1a9-460f-c03f-da72f1280fad"
      },
      "id": "epFsU_DOqT9l",
      "execution_count": null,
      "outputs": [
        {
          "output_type": "stream",
          "name": "stdout",
          "text": [
            "[0, 1, 2, 3, 4, 5, 6, 7, 8, 9, 10]\n",
            "[0, 1, 2, 3, 4, 5, 6, 7, 8, 9, 10]\n"
          ]
        }
      ]
    },
    {
      "cell_type": "markdown",
      "source": [
        "## Use nested loops"
      ],
      "metadata": {
        "id": "hbzehX_nqhCW"
      },
      "id": "hbzehX_nqhCW"
    },
    {
      "cell_type": "code",
      "source": [
        "#Can use nested loops\n",
        "\n",
        "#Example - Create list of all pairs of integers where first integer between 0 and 1 and second integer between 6 and 7\n",
        "\n",
        "#If done in for loop way\n",
        "pairs_1 = []\n",
        "for num1 in range (0, 2):\n",
        "  for num2 in range (6, 8):\n",
        "    pairs_1.append ((num1, num2))\n",
        "print (pairs_1)\n",
        "\n",
        "#If done in List Comprehensions way\n",
        "pairs_2 = [(num1, num2) for num1 in range (0, 2) for num2 in range (6, 8)]\n",
        "print (pairs_2)"
      ],
      "metadata": {
        "colab": {
          "base_uri": "https://localhost:8080/"
        },
        "id": "mQAQnmbAqjT2",
        "outputId": "03e2948d-4804-4c88-f34f-38a544398597"
      },
      "id": "mQAQnmbAqjT2",
      "execution_count": null,
      "outputs": [
        {
          "output_type": "stream",
          "name": "stdout",
          "text": [
            "[(0, 6), (0, 7), (1, 6), (1, 7)]\n",
            "[(0, 6), (0, 7), (1, 6), (1, 7)]\n"
          ]
        }
      ]
    },
    {
      "cell_type": "markdown",
      "source": [
        "## Nested Loop within nested Loop Example\n",
        "## Create a 5 x 5 matrix using a list of lists between integers 0 - 4"
      ],
      "metadata": {
        "id": "m-QHqRXCzErB"
      },
      "id": "m-QHqRXCzErB"
    },
    {
      "cell_type": "code",
      "source": [
        "#Create a 5 x 5 matrix using a list of lists: matrix\n",
        "matrix = [[col for col in range(5)] for row in range(5)]\n",
        "\n",
        "#Print the matrix\n",
        "for row in matrix:\n",
        "    print(row)"
      ],
      "metadata": {
        "colab": {
          "base_uri": "https://localhost:8080/"
        },
        "id": "VPdBnYW8xtSh",
        "outputId": "6c3fc905-8dba-492c-832b-f389ecbe65db"
      },
      "id": "VPdBnYW8xtSh",
      "execution_count": null,
      "outputs": [
        {
          "output_type": "stream",
          "name": "stdout",
          "text": [
            "[0, 1, 2, 3, 4]\n",
            "[0, 1, 2, 3, 4]\n",
            "[0, 1, 2, 3, 4]\n",
            "[0, 1, 2, 3, 4]\n",
            "[0, 1, 2, 3, 4]\n"
          ]
        }
      ]
    },
    {
      "cell_type": "markdown",
      "source": [
        "# Conditionals in Comprehensions"
      ],
      "metadata": {
        "id": "bHPhVqiszc0F"
      },
      "id": "bHPhVqiszc0F"
    },
    {
      "cell_type": "markdown",
      "source": [
        "## Conditionals on the Iterable\n",
        "### Syntax [ output expression for iterator variable in iterable if predicate expression ]."
      ],
      "metadata": {
        "id": "36Lt22lK0aXQ"
      },
      "id": "36Lt22lK0aXQ"
    },
    {
      "cell_type": "code",
      "source": [
        "#Conditionals on the Iterable\n",
        "#List of squared values in integers 0 - 9 if even \n",
        "[num **2 for num in range (10) if num % 2 == 0]\n"
      ],
      "metadata": {
        "colab": {
          "base_uri": "https://localhost:8080/"
        },
        "id": "zW5LBMp9zlLm",
        "outputId": "ebb12fe1-1712-4f97-c90b-f48b6ee46879"
      },
      "id": "zW5LBMp9zlLm",
      "execution_count": null,
      "outputs": [
        {
          "output_type": "execute_result",
          "data": {
            "text/plain": [
              "[0, 4, 16, 36, 64]"
            ]
          },
          "metadata": {},
          "execution_count": 71
        }
      ]
    },
    {
      "cell_type": "markdown",
      "source": [
        "## Conditionals on the iterable Example with IF\n",
        "### Print members of fellowship with 7 or more characters "
      ],
      "metadata": {
        "id": "1Bj-pIk54k-9"
      },
      "id": "1Bj-pIk54k-9"
    },
    {
      "cell_type": "code",
      "source": [
        "# Create a list of strings: fellowship\n",
        "fellowship = ['frodo', 'samwise', 'merry', 'aragorn', 'legolas', 'boromir', 'gimli']\n",
        "\n",
        "# Create list comprehension: new_fellowship\n",
        "new_fellowship = [member for member in fellowship if len(member)>= 7]\n",
        "\n",
        "# Print the new list\n",
        "print(new_fellowship)\n"
      ],
      "metadata": {
        "colab": {
          "base_uri": "https://localhost:8080/"
        },
        "id": "s_ubm3t93HNc",
        "outputId": "3f484bb6-82de-4168-d39d-51630ef4af91"
      },
      "id": "s_ubm3t93HNc",
      "execution_count": null,
      "outputs": [
        {
          "output_type": "stream",
          "name": "stdout",
          "text": [
            "['samwise', 'aragorn', 'legolas', 'boromir']\n"
          ]
        }
      ]
    },
    {
      "cell_type": "markdown",
      "source": [
        "## Conditionals on the output list comprehension expression"
      ],
      "metadata": {
        "id": "t-bbZCvC0ere"
      },
      "id": "t-bbZCvC0ere"
    },
    {
      "cell_type": "code",
      "source": [
        "#Conditionals on the output expression\n",
        "#List of squared values in integers 0 - 9 if even \n",
        "[num **2 if num % 2 == 0 else 0 for num in range (10)]"
      ],
      "metadata": {
        "colab": {
          "base_uri": "https://localhost:8080/"
        },
        "id": "IFsF48am0kBJ",
        "outputId": "2cacb653-3b4a-4857-a60e-fa5dc50693b8"
      },
      "id": "IFsF48am0kBJ",
      "execution_count": null,
      "outputs": [
        {
          "output_type": "execute_result",
          "data": {
            "text/plain": [
              "[0, 0, 4, 0, 16, 0, 36, 0, 64, 0]"
            ]
          },
          "metadata": {},
          "execution_count": 73
        }
      ]
    },
    {
      "cell_type": "markdown",
      "source": [
        "## Conditionals on the output expression Example usining IF-ELSE on the output expression\n",
        "### Print members of fellowship with 7 or more characters\n",
        "### Replace others with empty string"
      ],
      "metadata": {
        "id": "hFv6_FNk5kOc"
      },
      "id": "hFv6_FNk5kOc"
    },
    {
      "cell_type": "code",
      "source": [
        "# Create a list of strings: fellowship\n",
        "fellowship = ['frodo', 'samwise', 'merry', 'aragorn', 'legolas', 'boromir', 'gimli']\n",
        "\n",
        "# Create list comprehension: new_fellowship\n",
        "new_fellowship = [member if len(member) >=7 else '' for member in fellowship]\n",
        "\n",
        "# Print the new list\n",
        "print(new_fellowship)"
      ],
      "metadata": {
        "colab": {
          "base_uri": "https://localhost:8080/"
        },
        "id": "137Po_AZ6Wag",
        "outputId": "3319662c-579a-4abb-f6f9-3d702bb83b43"
      },
      "id": "137Po_AZ6Wag",
      "execution_count": null,
      "outputs": [
        {
          "output_type": "stream",
          "name": "stdout",
          "text": [
            "['', 'samwise', '', 'aragorn', 'legolas', 'boromir', '']\n"
          ]
        }
      ]
    },
    {
      "cell_type": "markdown",
      "source": [
        "# Dictionary Comprehensions\n",
        "## Use Curly braces {}\n",
        "## Key and value seperated by colon:\n",
        "\n",
        "\n"
      ],
      "metadata": {
        "id": "DLQrFw4l1XWo"
      },
      "id": "DLQrFw4l1XWo"
    },
    {
      "cell_type": "code",
      "source": [
        "#Create a Dictionary with Key of positive integers and Value of respective negative integers between 0 - 8\n",
        "pos_neg = {num: -num for num in range (9)}\n",
        "print (pos_neg)\n",
        "print (type(pos_neg))"
      ],
      "metadata": {
        "colab": {
          "base_uri": "https://localhost:8080/"
        },
        "id": "X3Dewktw11mB",
        "outputId": "fb450d46-c732-48b3-fe84-d87c7e1d5120"
      },
      "id": "X3Dewktw11mB",
      "execution_count": null,
      "outputs": [
        {
          "output_type": "stream",
          "name": "stdout",
          "text": [
            "{0: 0, 1: -1, 2: -2, 3: -3, 4: -4, 5: -5, 6: -6, 7: -7, 8: -8}\n",
            "<class 'dict'>\n"
          ]
        }
      ]
    },
    {
      "cell_type": "markdown",
      "source": [
        "## Dict Comprehensions Example \n",
        "### Create Dict with fellowship members as key and length of string as corresponding value"
      ],
      "metadata": {
        "id": "hE9Lfh1I7YG3"
      },
      "id": "hE9Lfh1I7YG3"
    },
    {
      "cell_type": "code",
      "source": [
        "# Create a list of strings: fellowship\n",
        "fellowship = ['frodo', 'samwise', 'merry', 'aragorn', 'legolas', 'boromir', 'gimli']\n",
        "\n",
        "# Create dict comprehension: new_fellowship\n",
        "new_fellowship = {member: len (member) for member in fellowship}\n",
        "\n",
        "# Print the new dictionary\n",
        "print(new_fellowship)"
      ],
      "metadata": {
        "colab": {
          "base_uri": "https://localhost:8080/"
        },
        "id": "67ftNL3m7rzA",
        "outputId": "2b402197-162c-4a5f-c9e4-76e3f688905b"
      },
      "id": "67ftNL3m7rzA",
      "execution_count": null,
      "outputs": [
        {
          "output_type": "stream",
          "name": "stdout",
          "text": [
            "{'frodo': 5, 'samwise': 7, 'merry': 5, 'aragorn': 7, 'legolas': 7, 'boromir': 7, 'gimli': 5}\n"
          ]
        }
      ]
    },
    {
      "cell_type": "markdown",
      "source": [
        "# Generator Expressions\n",
        "\n",
        "## List Comprehensions vs Generators\n",
        "\n",
        "### - List Comprehension - returns a list\n",
        "### - Generators - returns a generator object \n",
        "### - Can be only used once - not stored in memory\n",
        "### - Both can be iterated over\n"
      ],
      "metadata": {
        "id": "HPw00CPv9Vjo"
      },
      "id": "HPw00CPv9Vjo"
    },
    {
      "cell_type": "code",
      "source": [
        "# List comprehension\n",
        "print ([2 * num for num in range (10)])\n",
        "\n",
        "#Use () instead of []\n",
        "(2 * num for num in range (10))\n",
        "\n",
        "#Smilar in syntax except parentheses () in generator expressions and brackets [] in list comprehensions\n",
        "\n",
        "# List of strings\n",
        "fellowship = ['frodo', 'samwise', 'merry', 'aragorn', 'legolas', 'boromir', 'gimli']\n",
        "\n",
        "# List comprehension\n",
        "fellow1 = [member for member in fellowship if len(member) >= 7]\n",
        "\n",
        "# Generator expression\n",
        "fellow2 = (member for member in fellowship if len(member) >= 7)"
      ],
      "metadata": {
        "colab": {
          "base_uri": "https://localhost:8080/"
        },
        "id": "o1yBm3lt9ay4",
        "outputId": "c5dc9410-48bd-4655-eaa5-edc076aa6c58"
      },
      "id": "o1yBm3lt9ay4",
      "execution_count": null,
      "outputs": [
        {
          "output_type": "stream",
          "name": "stdout",
          "text": [
            "[0, 2, 4, 6, 8, 10, 12, 14, 16, 18]\n"
          ]
        }
      ]
    },
    {
      "cell_type": "markdown",
      "source": [
        "## Printing values from Generators"
      ],
      "metadata": {
        "id": "yIftFp-4_QRv"
      },
      "id": "yIftFp-4_QRv"
    },
    {
      "cell_type": "code",
      "source": [
        "#Generate an expression integers between 0 - 5\n",
        "#Produces the elements \n",
        "result = (num for num in range(6))\n",
        "for x in result:\n",
        "  print (x)\n",
        "\n",
        "#Pass generator to List to create list\n",
        "result = (num for num in range (6))\n",
        "print (list(result))\n",
        "\n",
        "#Pass generator to Next to iterate through elements\n",
        "result = (num for num in range (6))\n",
        "print (next(result))\n",
        "print (next(result))\n",
        "print (next(result))\n",
        "print (next(result))\n",
        "print (next(result)) \n",
        "\n",
        "#Pass to for loop to print results from the Generator object\n",
        "for x in result:\n",
        "  print (x)\n",
        "\n",
        "#Lazy Evaluation - Evaluation of expresion is delayed until value is needed\n",
        "#Some lists are too large to be stored in memory, but can be analogus created with a generator\n",
        "(num for num in range (10 ** 1000000))\n",
        "\n",
        "#Can be used to filter and run conditionals \n",
        "even_nums = (num for num in range (10) if num % 2 == 0)\n",
        "print (list(even_nums))\n"
      ],
      "metadata": {
        "colab": {
          "base_uri": "https://localhost:8080/"
        },
        "id": "4isuD6lv_TnL",
        "outputId": "b8b79917-d6cd-4654-abac-a79790a93ae3"
      },
      "id": "4isuD6lv_TnL",
      "execution_count": null,
      "outputs": [
        {
          "output_type": "stream",
          "name": "stdout",
          "text": [
            "0\n",
            "1\n",
            "2\n",
            "3\n",
            "4\n",
            "5\n",
            "[0, 1, 2, 3, 4, 5]\n",
            "0\n",
            "1\n",
            "2\n",
            "3\n",
            "4\n",
            "5\n",
            "[0, 2, 4, 6, 8]\n"
          ]
        }
      ]
    },
    {
      "cell_type": "markdown",
      "source": [
        "## Generator Functions\n",
        "### - Produces Generator objects when called\n",
        "### - Defined like a regular funcion - def\n",
        "### - Yields a sequence of values instead of a single value like a regular funcion\n",
        "### - Generates a value with keyword - yield\n"
      ],
      "metadata": {
        "id": "WV0kkO4H0aKh"
      },
      "id": "WV0kkO4H0aKh"
    },
    {
      "cell_type": "code",
      "source": [
        "#Build a Generator Function\n",
        "\n",
        "#Define generator function to call integers 0 - n when called with n\n",
        "def num_sequence(n):\n",
        "  '''Generates values from 0 to n.'''\n",
        "  i = 0 \n",
        "  while i <= n:\n",
        "    yield i\n",
        "    i += 1\n",
        "\n",
        "#Print elements from Generator object\n",
        "result = num_sequence (12)\n",
        "print (type(result))\n",
        "for x in result:\n",
        "  print (x)"
      ],
      "metadata": {
        "id": "F6OyqIII0eIk",
        "outputId": "60d09976-a8a2-4349-b071-04e56662a558",
        "colab": {
          "base_uri": "https://localhost:8080/"
        }
      },
      "id": "F6OyqIII0eIk",
      "execution_count": null,
      "outputs": [
        {
          "output_type": "stream",
          "name": "stdout",
          "text": [
            "<class 'generator'>\n",
            "0\n",
            "1\n",
            "2\n",
            "3\n",
            "4\n",
            "5\n",
            "6\n",
            "7\n",
            "8\n",
            "9\n",
            "10\n",
            "11\n",
            "12\n"
          ]
        }
      ]
    },
    {
      "cell_type": "markdown",
      "source": [
        "## Generator function example\n",
        "### Generator function that yields the length of the strings in input_list"
      ],
      "metadata": {
        "id": "1_fdg_OH7oql"
      },
      "id": "1_fdg_OH7oql"
    },
    {
      "cell_type": "code",
      "source": [
        "# Create a list of strings\n",
        "lannister = ['cersei', 'jaime', 'tywin', 'tyrion', 'joffrey']\n",
        "\n",
        "# Define generator function get_lengths\n",
        "def get_lengths(input_list):\n",
        "    \"\"\"Generator function that yields the\n",
        "    length of the strings in input_list.\"\"\"\n",
        "\n",
        "    # Yield the length of a string\n",
        "    for person in input_list:\n",
        "        yield len(person)\n",
        "\n",
        "# Print the values generated by get_lengths()\n",
        "for value in get_lengths (lannister):\n",
        "    print(value)"
      ],
      "metadata": {
        "id": "uBeL63_m7u19",
        "outputId": "c6ae4c1b-6e98-4436-a3f0-c3e14b283bbc",
        "colab": {
          "base_uri": "https://localhost:8080/"
        }
      },
      "id": "uBeL63_m7u19",
      "execution_count": null,
      "outputs": [
        {
          "output_type": "stream",
          "name": "stdout",
          "text": [
            "6\n",
            "5\n",
            "5\n",
            "6\n",
            "7\n"
          ]
        }
      ]
    },
    {
      "cell_type": "markdown",
      "source": [
        "## Conditionals on the output generator expression"
      ],
      "metadata": {
        "id": "TTh2lLV-6Ox0"
      },
      "id": "TTh2lLV-6Ox0"
    },
    {
      "cell_type": "code",
      "source": [
        "#Conditionals on the output generator expression\n",
        "\n",
        "# Create a list of strings: lannister\n",
        "lannister = ['cersei', 'jaime', 'tywin', 'tyrion', 'joffrey']\n",
        "\n",
        "# Create a generator object: lengths\n",
        "lengths = (len(person) for person in lannister)\n",
        "\n",
        "# Iterate over and print the values in lengths\n",
        "for value in lengths:\n",
        "    print(value)"
      ],
      "metadata": {
        "id": "qHy57F6s6cV2",
        "outputId": "7f1ef28f-92cd-4348-e28d-1f82bf5358c5",
        "colab": {
          "base_uri": "https://localhost:8080/"
        }
      },
      "id": "qHy57F6s6cV2",
      "execution_count": null,
      "outputs": [
        {
          "output_type": "stream",
          "name": "stdout",
          "text": [
            "6\n",
            "5\n",
            "5\n",
            "6\n",
            "7\n"
          ]
        }
      ]
    }
  ],
  "metadata": {
    "kernelspec": {
      "display_name": "Python 3 (ipykernel)",
      "language": "python",
      "name": "python3"
    },
    "language_info": {
      "codemirror_mode": {
        "name": "ipython",
        "version": 3
      },
      "file_extension": ".py",
      "mimetype": "text/x-python",
      "name": "python",
      "nbconvert_exporter": "python",
      "pygments_lexer": "ipython3",
      "version": "3.9.12"
    },
    "vscode": {
      "interpreter": {
        "hash": "26de051ba29f2982a8de78e945f0abaf191376122a1563185a90213a26c5da77"
      }
    },
    "colab": {
      "name": "Python_Notes.ipynb",
      "provenance": [],
      "include_colab_link": true
    }
  },
  "nbformat": 4,
  "nbformat_minor": 5
}