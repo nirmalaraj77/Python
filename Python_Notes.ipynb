{
  "cells": [
    {
      "cell_type": "markdown",
      "metadata": {
        "id": "view-in-github",
        "colab_type": "text"
      },
      "source": [
        "<a href=\"https://colab.research.google.com/github/nirmalaraj77/Python/blob/main/Python_Notes.ipynb\" target=\"_parent\"><img src=\"https://colab.research.google.com/assets/colab-badge.svg\" alt=\"Open In Colab\"/></a>"
      ]
    },
    {
      "cell_type": "markdown",
      "id": "877cdd13",
      "metadata": {
        "id": "877cdd13"
      },
      "source": [
        "# Import Libraries"
      ]
    },
    {
      "cell_type": "code",
      "execution_count": 1,
      "id": "2adc4885",
      "metadata": {
        "id": "2adc4885"
      },
      "outputs": [],
      "source": [
        "#Import Libraries\n",
        "import math \n",
        "\n",
        "#Import Library as alias \n",
        "import numpy as np\n",
        "import matplotlib.pyplot as plt\n",
        "\n",
        "#Selective import\n",
        "from math import pi"
      ]
    },
    {
      "cell_type": "markdown",
      "id": "1664fd0c",
      "metadata": {
        "id": "1664fd0c"
      },
      "source": [
        "# Variables and Data Types"
      ]
    },
    {
      "cell_type": "code",
      "source": [
        "# Assign variables\n",
        "x = 5\n",
        "y = 3\n",
        "\n",
        "#Math Operations\n",
        "#Hightest to Lowest \n",
        "\n",
        "print (x ** y) #Exponent\n",
        "print (x % y) #Modulus \n",
        "print (x // y) #Integer division\n",
        "print (x / y) #Division\n",
        "print (x * y) #Multiply\n",
        "print (x - y) #Substract\n",
        "print (x + y) #Sum"
      ],
      "metadata": {
        "id": "PXMWvkRzt4MF",
        "colab": {
          "base_uri": "https://localhost:8080/"
        },
        "outputId": "18ddf831-b010-4ad7-e3e9-cbb4575d0e7d"
      },
      "id": "PXMWvkRzt4MF",
      "execution_count": 2,
      "outputs": [
        {
          "output_type": "stream",
          "name": "stdout",
          "text": [
            "125\n",
            "2\n",
            "1\n",
            "1.6666666666666667\n",
            "15\n",
            "2\n",
            "8\n"
          ]
        }
      ]
    },
    {
      "cell_type": "markdown",
      "id": "0e3bcc33",
      "metadata": {
        "id": "0e3bcc33"
      },
      "source": [
        "# Types and Type Conversion "
      ]
    },
    {
      "cell_type": "code",
      "execution_count": null,
      "id": "2529bef0",
      "metadata": {
        "scrolled": true,
        "id": "2529bef0",
        "outputId": "059034e3-a6f9-433b-bcd4-2e1b0bca3079",
        "colab": {
          "base_uri": "https://localhost:8080/"
        }
      },
      "outputs": [
        {
          "metadata": {
            "tags": null
          },
          "name": "stdout",
          "output_type": "stream",
          "text": [
            "5\n",
            "2.444\n",
            "Manual\n",
            "1\n",
            "2\n",
            "1\n",
            "0\n",
            "5.0\n",
            "1.7\n",
            "True\n",
            "False\n",
            "True\n",
            "False\n",
            "True\n",
            "<class 'bool'>\n"
          ]
        }
      ],
      "source": [
        "#Variables to Strings\n",
        "print (str('5'))\n",
        "print (str(2.444))\n",
        "print (str('Manual'))\n",
        "\n",
        "#Variables to Integers\n",
        "print(int (1))\n",
        "print (int (2.7))\n",
        "print (int (True))\n",
        "print (int (False))\n",
        "\n",
        "#Variables to Floats\n",
        "print (float (5))\n",
        "print (float ('1.7'))\n",
        "\n",
        "#Variables to Boolean\n",
        "print (bool (True))\n",
        "print (bool (False))\n",
        "print (bool (1))\n",
        "print (bool(0))\n",
        "print (bool ('Amma@'))\n",
        "print (type (bool ('Amma')))\n"
      ]
    },
    {
      "cell_type": "markdown",
      "id": "3d34daca",
      "metadata": {
        "scrolled": true,
        "id": "3d34daca"
      },
      "source": [
        "# String Operations"
      ]
    },
    {
      "cell_type": "code",
      "execution_count": 6,
      "id": "4754b7ba",
      "metadata": {
        "id": "4754b7ba",
        "outputId": "5207c87e-ece5-4524-f9c9-ceca26697bfe",
        "colab": {
          "base_uri": "https://localhost:8080/"
        }
      },
      "outputs": [
        {
          "output_type": "stream",
          "name": "stdout",
          "text": [
            "This String is AwesomeThis String is AwesomeThis String is Awesome\n",
            "This String is AwesomeThis String is Awesome\n",
            "This String is Awesome is it not so?\n",
            "AliceBob\n",
            "22\n",
            "True\n",
            "False\n"
          ]
        }
      ],
      "source": [
        "#Assign variable to a string\n",
        "my_string = 'This String is Awesome' \n",
        "\n",
        "print (my_string * 3) #Multiply string\n",
        "\n",
        "print (my_string + my_string) #Add strings\n",
        "\n",
        "print ((my_string) + ' ' 'is it not so?') #Add another string\n",
        "\n",
        "print ('Alice' 'Bob') #String concatenation don't use +\n",
        "\n",
        "print (len(my_string)) #Lenght of string\n",
        "\n",
        "print (('S' in my_string)) #Boolean for string character\n",
        "\n",
        "print (('y' in my_string)) #Boolean for string character"
      ]
    },
    {
      "cell_type": "markdown",
      "id": "818fadcb",
      "metadata": {
        "id": "818fadcb"
      },
      "source": [
        "# String Indexing (Index starts at 0)"
      ]
    },
    {
      "cell_type": "code",
      "execution_count": null,
      "id": "da43668b",
      "metadata": {
        "scrolled": false,
        "id": "da43668b",
        "outputId": "a0aba6c7-68ad-48ac-cb5a-39188b345d58",
        "colab": {
          "base_uri": "https://localhost:8080/"
        }
      },
      "outputs": [
        {
          "output_type": "stream",
          "name": "stdout",
          "text": [
            "2\n",
            "78\n"
          ]
        }
      ],
      "source": [
        "# Index position\n",
        "my_string = '0123456789' #Assign string \n",
        "\n",
        "print (my_string [2]) #Character at position 3 (index 2) is 2\n",
        "\n",
        "print (my_string [7 : 9]) #Index slice position 8-9 (index 7 & 8, index 9 not inclusive) is 7,8"
      ]
    },
    {
      "cell_type": "markdown",
      "id": "56865a83",
      "metadata": {
        "id": "56865a83"
      },
      "source": [
        "# String Methods"
      ]
    },
    {
      "cell_type": "code",
      "execution_count": null,
      "id": "7470e8e9",
      "metadata": {
        "scrolled": false,
        "id": "7470e8e9",
        "outputId": "7bb6b88b-b8ce-43ff-c237-1fcdcccd2c7c",
        "colab": {
          "base_uri": "https://localhost:8080/"
        }
      },
      "outputs": [
        {
          "output_type": "stream",
          "name": "stdout",
          "text": [
            "THIS STRING IS AWESOME\n",
            "this string is awesome\n",
            "1\n",
            "ThiX String iX AweXome\n",
            "amma\n"
          ]
        }
      ],
      "source": [
        "my_string = 'This String is Awesome' #Assign string\n",
        "\n",
        "print (my_string.upper ()) #String to uppercase\n",
        "\n",
        "print (my_string.lower ()) #String to lowercase\n",
        "\n",
        "print (my_string.count ('S')) #Count String elements\n",
        "\n",
        "new_string = my_string.replace ('s', 'X') #Replace String elements\n",
        "print (new_string)\n",
        "\n",
        "newnew_string = ('   amma   ') #Strip whitespaces beginning and end\n",
        "new_string = newnew_string.strip ()\n",
        "print (new_string)"
      ]
    },
    {
      "cell_type": "markdown",
      "id": "bc045a06",
      "metadata": {
        "id": "bc045a06"
      },
      "source": [
        "# List Operations"
      ]
    },
    {
      "cell_type": "code",
      "execution_count": null,
      "id": "f86f94eb",
      "metadata": {
        "id": "f86f94eb",
        "outputId": "917c689c-6c6f-4e39-ee68-209cc5ab23ff"
      },
      "outputs": [
        {
          "name": "stdout",
          "output_type": "stream",
          "text": [
            "['My', 'list', 'is', 'nice.']\n",
            "['My', 'list', 'is', 'nice.', ' !!!']\n"
          ]
        }
      ],
      "source": [
        "a = 'My'\n",
        "b = 'list'\n",
        "c = 'is'\n",
        "d = 'nice.'\n",
        "\n",
        "my_list = [a, b, c, d]\n",
        "my_list2 = [a, b, c, d, ' !!!']\n",
        "\n",
        "print (my_list)\n",
        "print (my_list2)"
      ]
    },
    {
      "cell_type": "markdown",
      "id": "c6a5db1d",
      "metadata": {
        "id": "c6a5db1d"
      },
      "source": [
        "# List Indexing and Slicing (Index starts at 0)\n",
        "## Python uses index to access information in a list. The first element has index 0, the second element has index 1, and so on. \n",
        "\n",
        "## Slicing syntax list [start : end]\n",
        "## Start index is included, end index is excluded"
      ]
    },
    {
      "cell_type": "code",
      "execution_count": null,
      "id": "4de049a8",
      "metadata": {
        "id": "4de049a8",
        "outputId": "2dd40e79-c1bb-43c2-8785-49b1bb6a83cf",
        "colab": {
          "base_uri": "https://localhost:8080/"
        }
      },
      "outputs": [
        {
          "output_type": "stream",
          "name": "stdout",
          "text": [
            "p\n",
            "q\n",
            "['my', 'list', 'xxx', 'is', 'nice']\n",
            "list\n",
            "is\n",
            "['a', 'b', 'c', 'd', 'e']\n",
            "['b', 'c']\n",
            "['c']\n",
            "['c', 'd', 'e']\n",
            "['a', 'b']\n",
            "['a', 'b', 'c', 'd', 'e']\n"
          ]
        }
      ],
      "source": [
        "#To select first element in following list l, place 0 in square brackets. The element has index 0 since it is the first element\n",
        "\n",
        "l = ['p', 'q', 'r', 's'] #Assign list\n",
        "print (l [0])\n",
        "print (l [1])\n",
        "\n",
        "a = 'is'; b = 'nice'; my_list = ['my', 'list', 'xxx', a, b] #Assign lists\n",
        "print (my_list)\n",
        "\n",
        "print (my_list [1]) #Select list element 2 (index 1)\n",
        "\n",
        "print (my_list [-2]) #Select 2nd last item \n",
        "\n",
        "\n",
        "#Select multiple elemnents with Slicing / Subsetting\n",
        "#Use syntax list [start : end]\n",
        "#Start index is included\n",
        "#End index is excluded\n",
        "\n",
        "l = ['a' ,'b', 'c', 'd', 'e'] #Assign list\n",
        "print (l)\n",
        "       \n",
        "print (l [1:3]) #Select element 2 and element 3 \n",
        "print (l [2:3]) #Select element 3 only\n",
        "\n",
        "\n",
        "#If slicing from first or last element, no need to include the index\n",
        "#Start and end indees are included if denoted with colons\n",
        "\n",
        "print (l [2:]) #Select from 2nd index to last index (2nd index included)\n",
        "print (l [:2]) #Select from start index to 1st index (2nd index excluded)\n",
        "\n",
        "\n",
        "\n",
        "#Copy list with indexing / slicing / subsetting\n",
        "#Result is new list with selected elements\n",
        "\n",
        "new_l = l [:]\n",
        "print (new_l)"
      ]
    },
    {
      "cell_type": "markdown",
      "id": "70f3adce",
      "metadata": {
        "id": "70f3adce"
      },
      "source": [
        "# Lists of Lists"
      ]
    },
    {
      "cell_type": "code",
      "execution_count": null,
      "id": "b0ccf864",
      "metadata": {
        "scrolled": true,
        "id": "b0ccf864",
        "outputId": "6cfbe650-fcee-4bbb-b221-5a4cb7b7aa14",
        "colab": {
          "base_uri": "https://localhost:8080/"
        }
      },
      "outputs": [
        {
          "output_type": "stream",
          "name": "stdout",
          "text": [
            "8\n",
            "[8, 9, 10]\n",
            "[6, 7]\n",
            "g\n",
            "['g', 'h']\n",
            "e\n"
          ]
        }
      ],
      "source": [
        "#Subset list of lists \n",
        "\n",
        "my_list = [[1, 2, 3, 4, 5], [6, 7, 8, 9, 10]] #Assign lists\n",
        "\n",
        "print (my_list [1][2]) #Select 2nd list, 3rd element \n",
        "\n",
        "print (my_list [1] [2:]) #Select 2nd 2nd element \n",
        "\n",
        "# Select list 2, items from start till index position 2 (inclusive with :) = 6, 7\n",
        "print (my_list [1] [:2])\n",
        "\n",
        "# Lists of lists can be any number of lists\n",
        "x = [[\"a\", \"b\", \"c\"],\n",
        "     [\"d\", \"e\", \"f\"],\n",
        "     [\"g\", \"h\", \"i\"]]\n",
        "\n",
        "\n",
        "print (x[2] [0])\n",
        "\n",
        "print (x[2] [:2])\n",
        "\n",
        "print (x[1] [-2])"
      ]
    },
    {
      "cell_type": "markdown",
      "id": "bd5e4cd8",
      "metadata": {
        "id": "bd5e4cd8"
      },
      "source": [
        "## List Operations"
      ]
    },
    {
      "cell_type": "code",
      "execution_count": null,
      "id": "06c8d8ff",
      "metadata": {
        "id": "06c8d8ff",
        "outputId": "03b40a71-232f-42cf-d7f9-89f12d5c4fb0"
      },
      "outputs": [
        {
          "name": "stdout",
          "output_type": "stream",
          "text": [
            "[[1, 2, 3, 4, 5], [6, 7, 8, 9, 10], [1, 2, 3, 4, 5], [6, 7, 8, 9, 10]]\n",
            "[[1, 2, 3, 4, 5], [6, 7, 8, 9, 10], [1, 2, 3, 4, 5], [6, 7, 8, 9, 10], [1, 2, 3, 4, 5], [6, 7, 8, 9, 10]]\n"
          ]
        }
      ],
      "source": [
        "# Will add or multiply whole list\n",
        "my_list = [[1, 2, 3, 4, 5], [6, 7, 8, 9, 10]]\n",
        "print (my_list + my_list)\n",
        "print (my_list * 3)"
      ]
    },
    {
      "cell_type": "markdown",
      "id": "3a8e5555",
      "metadata": {
        "id": "3a8e5555"
      },
      "source": [
        "## List Methods"
      ]
    },
    {
      "cell_type": "code",
      "execution_count": null,
      "id": "1a27698f",
      "metadata": {
        "id": "1a27698f",
        "outputId": "88ddb224-0148-4c7d-9be5-50f2e90cb888",
        "colab": {
          "base_uri": "https://localhost:8080/"
        }
      },
      "outputs": [
        {
          "output_type": "stream",
          "name": "stdout",
          "text": [
            "2\n",
            "1\n",
            "['my', 'list', 'is', 'is', 'nice', '!!!']\n",
            "['my', 'list', 'is', 'nice', '!!!']\n",
            "[['a', 'b', 'c'], ['d', 'e', 'f'], ['g', 'h', 'i']]\n",
            "[['a', 'b', 'c'], ['d', 'e'], ['g', 'h', 'i']]\n",
            "['!!!', 'nice', 'is', 'list', 'my']\n",
            "['a', 'b', 'c', '2']\n",
            "['!!!', 'nice', 'is', 'list', 'my']\n",
            "['!!!', 'NO', 'nice', 'is', 'list', 'my']\n",
            "['!!!', 'NO', 'is', 'list', 'my', 'nice']\n",
            "['nice', 'my', 'list', 'is', 'NO', '!!!']\n"
          ]
        }
      ],
      "source": [
        "x = [[\"a\", \"b\", \"c\"],\n",
        "     [\"d\", \"e\", \"f\"],\n",
        "     [\"g\", \"h\", \"i\"]]\n",
        "\n",
        "y = x [0] [:]\n",
        "\n",
        "z = ['my', 'list', 'is', 'is', 'nice']\n",
        "\n",
        "#Get the index of an item\n",
        "print (y.index ('c'))\n",
        "\n",
        "#Count an item\n",
        "print (y.count ('c'))\n",
        "\n",
        "#Append an item at a time\n",
        "z.append ('!!!')\n",
        "print (z)\n",
        "\n",
        "#Remove an item at a time\n",
        "z.remove ('is')\n",
        "print (z)\n",
        "\n",
        "#Remove items by slicing / subsetting\n",
        "print (x)\n",
        "del (x [1] [-1])\n",
        "print (x)\n",
        "       \n",
        "#Reverse the list\n",
        "z.reverse ()\n",
        "print (z)\n",
        "\n",
        "#Append items \n",
        "y.extend ('2')\n",
        "print (y)\n",
        "\n",
        "#Remove index item\n",
        "y.pop (-4)\n",
        "print (z)\n",
        "\n",
        "#Insert an item\n",
        "z.insert (-4, 'NO')\n",
        "print (z)\n",
        "\n",
        "#Sort list\n",
        "z.sort()\n",
        "print (z)\n",
        "\n",
        "#Reverse Sort\n",
        "z.sort (reverse = True)\n",
        "print (z)\n"
      ]
    },
    {
      "cell_type": "markdown",
      "id": "07f1700d",
      "metadata": {
        "id": "07f1700d"
      },
      "source": [
        "## PLOTS"
      ]
    },
    {
      "cell_type": "code",
      "execution_count": null,
      "id": "efd7bf61",
      "metadata": {
        "id": "efd7bf61"
      },
      "outputs": [],
      "source": [
        "# import numpy\n",
        "\n",
        "import numpy as np\n",
        "\n",
        "# Import pyplot in matplotlib as plt\n",
        "\n",
        "import matplotlib.pyplot as plt\n",
        "\n",
        "# Initiate year and pop for test\n",
        "\n",
        "pop= [1300,1950,2700,3000,3550,4550,6250,7500,9000,11700]\n",
        "\n",
        "year = [1940, 1950,1960,1970,1980,1990,2000,2010,2020,2030]"
      ]
    },
    {
      "cell_type": "markdown",
      "id": "0ce4d747",
      "metadata": {
        "id": "0ce4d747"
      },
      "source": [
        "### LINE PLOT  \n",
        "**SYNTAX plt.plot (x,y)**"
      ]
    },
    {
      "cell_type": "code",
      "execution_count": null,
      "id": "69d61af9",
      "metadata": {
        "scrolled": true,
        "id": "69d61af9",
        "outputId": "ad6dade3-1301-4849-dd1e-380a2c04b19d"
      },
      "outputs": [
        {
          "data": {
            "text/plain": [
              "[<matplotlib.lines.Line2D at 0x254ef5a1d90>]"
            ]
          },
          "execution_count": 534,
          "metadata": {},
          "output_type": "execute_result"
        },
        {
          "data": {
            "image/png": "[encoded data removed]",
            "text/plain": [
              "<Figure size 432x288 with 1 Axes>"
            ]
          },
          "metadata": {
            "needs_background": "light"
          },
          "output_type": "display_data"
        }
      ],
      "source": [
        "plt.plot(year,pop)"
      ]
    },
    {
      "cell_type": "markdown",
      "id": "5effeb0c",
      "metadata": {
        "id": "5effeb0c"
      },
      "source": [
        "**CAN SET X AND Y AXIS AS LOGARITHMIC**  \n",
        "**SYNTAX plt.x/yscale('log')**"
      ]
    },
    {
      "cell_type": "code",
      "execution_count": null,
      "id": "13ba8e73",
      "metadata": {
        "id": "13ba8e73",
        "outputId": "6c2a1dd7-7495-44df-9c8a-5d98e8c2504b"
      },
      "outputs": [
        {
          "data": {
            "text/plain": [
              "[<matplotlib.lines.Line2D at 0x254ef601b50>]"
            ]
          },
          "execution_count": 535,
          "metadata": {},
          "output_type": "execute_result"
        },
        {
          "data": {
            "image/png": "[encoded data removed]",
            "text/plain": [
              "<Figure size 432x288 with 1 Axes>"
            ]
          },
          "metadata": {
            "needs_background": "light"
          },
          "output_type": "display_data"
        }
      ],
      "source": [
        "plt.yscale('log')\n",
        "plt.plot(year, pop)"
      ]
    },
    {
      "cell_type": "markdown",
      "id": "d97e84ad",
      "metadata": {
        "id": "d97e84ad"
      },
      "source": [
        "### SCATTER PLOT"
      ]
    },
    {
      "cell_type": "code",
      "execution_count": null,
      "id": "e6e1a906",
      "metadata": {
        "id": "e6e1a906",
        "outputId": "3403e1cb-287e-423a-805a-209d7abf4ddf"
      },
      "outputs": [
        {
          "data": {
            "text/plain": [
              "<matplotlib.collections.PathCollection at 0x254ef424ac0>"
            ]
          },
          "execution_count": 536,
          "metadata": {},
          "output_type": "execute_result"
        },
        {
          "data": {
            "image/png": "[encoded data removed]",
            "text/plain": [
              "<Figure size 432x288 with 1 Axes>"
            ]
          },
          "metadata": {
            "needs_background": "light"
          },
          "output_type": "display_data"
        }
      ],
      "source": [
        "plt.scatter(year,pop)"
      ]
    },
    {
      "cell_type": "code",
      "execution_count": null,
      "id": "a41deff7",
      "metadata": {
        "id": "a41deff7",
        "outputId": "0d27e593-23c8-4ef7-fde2-e1d48700eb6d"
      },
      "outputs": [
        {
          "data": {
            "text/plain": [
              "<matplotlib.collections.PathCollection at 0x254ee116e50>"
            ]
          },
          "execution_count": 537,
          "metadata": {},
          "output_type": "execute_result"
        },
        {
          "data": {
            "image/png": "[encoded data removed]",
            "text/plain": [
              "<Figure size 432x288 with 1 Axes>"
            ]
          },
          "metadata": {
            "needs_background": "light"
          },
          "output_type": "display_data"
        }
      ],
      "source": [
        "# Put the y-axis on a logarithmic scale\n",
        "plt.yscale('log')\n",
        "plt.scatter(year, pop)"
      ]
    },
    {
      "cell_type": "markdown",
      "id": "47f56099",
      "metadata": {
        "id": "47f56099"
      },
      "source": [
        "#### CUSTOMISATION "
      ]
    },
    {
      "cell_type": "code",
      "execution_count": null,
      "id": "4dd3d22b",
      "metadata": {
        "id": "4dd3d22b",
        "outputId": "a8695764-e565-4f62-e6b1-891f0c32ea15"
      },
      "outputs": [
        {
          "data": {
            "text/plain": [
              "Text(0.5, 1.0, 'World DevelopmenT')"
            ]
          },
          "execution_count": 538,
          "metadata": {},
          "output_type": "execute_result"
        },
        {
          "data": {
            "image/png": "[encoded data removed]",
            "text/plain": [
              "<Figure size 432x288 with 1 Axes>"
            ]
          },
          "metadata": {
            "needs_background": "light"
          },
          "output_type": "display_data"
        }
      ],
      "source": [
        "# Call Plot\n",
        "plt.scatter(year, pop)\n",
        "\n",
        "#Label X axis\n",
        "plt.xlabel(\"Year\")\n",
        "\n",
        "#Label Y axis\n",
        "plt.ylabel('Populaton')\n",
        "\n",
        "# Label Plot\n",
        "plt.title('World DevelopmenT')\n"
      ]
    },
    {
      "cell_type": "markdown",
      "id": "3774d858",
      "metadata": {
        "id": "3774d858"
      },
      "source": [
        "### CUSTOMISATION - ticks and sizes"
      ]
    },
    {
      "cell_type": "code",
      "execution_count": null,
      "id": "45ba507a",
      "metadata": {
        "id": "45ba507a",
        "outputId": "cbb41e3f-7538-4ac9-ef88-e81107c5c6d3"
      },
      "outputs": [
        {
          "data": {
            "text/plain": [
              "<matplotlib.collections.PathCollection at 0x254ef728d90>"
            ]
          },
          "execution_count": 542,
          "metadata": {},
          "output_type": "execute_result"
        },
        {
          "data": {
            "image/png": "[encoded data removed]",
            "text/plain": [
              "<Figure size 432x288 with 1 Axes>"
            ]
          },
          "metadata": {
            "needs_background": "light"
          },
          "output_type": "display_data"
        }
      ],
      "source": [
        "# Definition of tick_val and tick_lab\n",
        "tick_val = [1000, 2000, 3000, 4000, 5000, 6000, 7000, 8000, 9000, 10000, 11000]\n",
        "tick_lab = ['1k', '2k', '3k', '4k', '5k', '6k', '7k', '8k', '9k', '10k', '11k']\n",
        "\n",
        "# Adapt the ticks on the x-axis\n",
        "plt.yticks(tick_val,tick_lab)\n",
        "\n",
        "#Call Plot\n",
        "plt.scatter(year, pop)"
      ]
    },
    {
      "cell_type": "markdown",
      "id": "4b9c2d14",
      "metadata": {
        "id": "4b9c2d14"
      },
      "source": [
        "### HISTOGRAM\n",
        "**NOTE ONLY 1 VARIABLE (Y) OVER NUMBER OF OCCURANCES**  \n",
        "**DISTRIBUTION OVERVIEW**  \n",
        "**SYNTAX plt.hist(list/array, bins =)**  \n",
        "**DEFAULT BINS ARE SET TO 10**  \n"
      ]
    },
    {
      "cell_type": "code",
      "execution_count": null,
      "id": "119931ec",
      "metadata": {
        "scrolled": true,
        "id": "119931ec",
        "outputId": "e5b6b9af-b898-4597-f758-581a2292465d"
      },
      "outputs": [
        {
          "data": {
            "text/plain": [
              "(array([3., 2., 1., 1., 0., 1., 1., 0., 0., 1.]),\n",
              " array([1300., 2070., 2840., 3610., 4380., 5150., 5920., 6690., 7460.,\n",
              "        8230., 9000.]),\n",
              " <BarContainer object of 10 artists>)"
            ]
          },
          "execution_count": 393,
          "metadata": {},
          "output_type": "execute_result"
        },
        {
          "data": {
            "image/png": "[encoded data removed]",
            "text/plain": [
              "<Figure size 432x288 with 1 Axes>"
            ]
          },
          "metadata": {
            "needs_background": "light"
          },
          "output_type": "display_data"
        }
      ],
      "source": [
        "plt.hist(pop)"
      ]
    },
    {
      "cell_type": "markdown",
      "id": "57159a6b",
      "metadata": {
        "id": "57159a6b"
      },
      "source": [
        "## ITERATORS\n",
        "\n",
        "### An iterable is an object that can return an iterator, while an iterator is an object that keeps state and produces the next value when you call next() on it.\n",
        "\n",
        "## ITERABLES \n",
        "### An object that has an associated iter () method\n",
        "#### Applying iter() to an iterable creates an iterator\n",
        "### Example: lists, strings, dicts, file connections \n",
        "\n",
        "## ITERATORS\n",
        "#### An object that produces consequtive values with next ()\n"
      ]
    },
    {
      "cell_type": "code",
      "execution_count": null,
      "id": "6dc0ea75",
      "metadata": {
        "scrolled": true,
        "id": "6dc0ea75",
        "outputId": "a7d79704-7e71-4074-db7d-e3add689d48f"
      },
      "outputs": [
        {
          "name": "stdout",
          "output_type": "stream",
          "text": [
            "D\n",
            "o\n",
            "c\n",
            "S\n",
            "t\n",
            "r\n",
            "i\n",
            "n\n",
            "g\n"
          ]
        }
      ],
      "source": [
        "# Iterate over string characters\n",
        "for x in 'DocString':\n",
        "\tprint (x)"
      ]
    },
    {
      "cell_type": "code",
      "execution_count": null,
      "id": "65f411f3",
      "metadata": {
        "id": "65f411f3",
        "outputId": "8f63ba19-57f6-4575-c4ea-6eee8bb8aa1c"
      },
      "outputs": [
        {
          "name": "stdout",
          "output_type": "stream",
          "text": [
            "Nirmal\n",
            "Raji\n",
            "Shana\n",
            "Hari\n"
          ]
        }
      ],
      "source": [
        "# Iterate over lists\n",
        "family = ['Nirmal', 'Raji', 'Shana', 'Hari']\n",
        "for members in family:\n",
        "\tprint (members)"
      ]
    },
    {
      "cell_type": "code",
      "execution_count": null,
      "id": "58eaa087",
      "metadata": {
        "id": "58eaa087",
        "outputId": "d9e72722-1cb9-4544-8f56-9b7570cf209c"
      },
      "outputs": [
        {
          "name": "stdout",
          "output_type": "stream",
          "text": [
            "0\n",
            "1\n",
            "2\n",
            "3\n"
          ]
        }
      ],
      "source": [
        "# Iterate over special range objects \n",
        "for i in range(4):\n",
        "\tprint (i)"
      ]
    },
    {
      "cell_type": "code",
      "execution_count": null,
      "id": "5efcb716",
      "metadata": {
        "scrolled": true,
        "id": "5efcb716",
        "outputId": "2fbe6831-4575-4b76-db3d-6bf67264c029"
      },
      "outputs": [
        {
          "name": "stdout",
          "output_type": "stream",
          "text": [
            "10\n",
            "11\n",
            "12\n",
            "13\n",
            "14\n",
            "15\n",
            "16\n",
            "17\n",
            "18\n",
            "19\n",
            "20\n"
          ]
        }
      ],
      "source": [
        "# Iterate over special range objects\n",
        "for i in range (10, 21):\n",
        "\tprint (i)"
      ]
    },
    {
      "cell_type": "markdown",
      "id": "5bcf2aae",
      "metadata": {
        "id": "5bcf2aae"
      },
      "source": [
        "### ITERATING OVER ITERABLES: NEXT ()"
      ]
    },
    {
      "cell_type": "code",
      "execution_count": null,
      "id": "96878525",
      "metadata": {
        "id": "96878525",
        "outputId": "c0182149-181a-46d7-c967-210db8e7d2b3"
      },
      "outputs": [
        {
          "name": "stdout",
          "output_type": "stream",
          "text": [
            "D\n",
            "a\n",
            "d\n",
            "d\n",
            "y\n"
          ]
        }
      ],
      "source": [
        "# Runs 1 by 1 until no iterators left\n",
        "word = 'Daddy'\n",
        "it = iter (word)\n",
        "\n",
        "print (next(it))\n",
        "\n",
        "print (next (it))\n",
        "\n",
        "print (next (it))\n",
        "\n",
        "print (next (it))\n",
        "\n",
        "print (next (it))"
      ]
    },
    {
      "cell_type": "markdown",
      "id": "afdea2fa",
      "metadata": {
        "id": "afdea2fa"
      },
      "source": [
        "### Iterating at once with Star or Splat *"
      ]
    },
    {
      "cell_type": "code",
      "execution_count": null,
      "id": "0c526bcf",
      "metadata": {
        "id": "0c526bcf",
        "outputId": "3ae61f30-b313-4024-f93c-b4a7825ee3fc"
      },
      "outputs": [
        {
          "name": "stdout",
          "output_type": "stream",
          "text": [
            "D a t a\n"
          ]
        }
      ],
      "source": [
        "# Unpacks all elements of iterator\n",
        "# Cannot run again as no more values - have to redefine\n",
        "word = 'Data'\n",
        "it = iter (word)\n",
        "print (*it)"
      ]
    },
    {
      "cell_type": "markdown",
      "id": "8383cd03",
      "metadata": {
        "id": "8383cd03"
      },
      "source": [
        "### ITERAING OVER DICTINONARIES"
      ]
    },
    {
      "cell_type": "code",
      "execution_count": null,
      "id": "fbf1e7bb",
      "metadata": {
        "id": "fbf1e7bb",
        "outputId": "b4ae5877-89d5-4dce-d60b-fc79e16b79c7"
      },
      "outputs": [
        {
          "name": "stdout",
          "output_type": "stream",
          "text": [
            "son Nirmal\n",
            "son Raji\n",
            "son Shana\n",
            "son Hari\n"
          ]
        }
      ],
      "source": [
        "# To unpack \n",
        "family = {'father' : 'Nirmal', 'mother' : 'Raji', 'daughter' : 'Shana', 'son' : 'Hari'}\n",
        "for X, value in family.items():\n",
        "\tprint (key, value)\n"
      ]
    },
    {
      "cell_type": "markdown",
      "id": "04580974",
      "metadata": {
        "id": "04580974"
      },
      "source": [
        "### ITERATING OVER FILE CONNECTIONS"
      ]
    },
    {
      "cell_type": "code",
      "execution_count": null,
      "id": "7529e5ea",
      "metadata": {
        "scrolled": true,
        "id": "7529e5ea",
        "outputId": "b8cdd87e-0327-4b29-d629-17b942ad0a13"
      },
      "outputs": [
        {
          "name": "stdout",
          "output_type": "stream",
          "text": [
            "shana 2003\n",
            "\n",
            "hari 2015\n",
            "\n",
            "nirmal 1977\n",
            "\n",
            "rsji 1983\n"
          ]
        }
      ],
      "source": [
        "file = open ('G:\\\\My Drive\\\\PYTHON\\\\test.txt')\n",
        "it = iter (file)\n",
        "print (next (it))\n",
        "print (next (it))\n",
        "print (next (it))\n",
        "print (next (it))\n"
      ]
    },
    {
      "cell_type": "markdown",
      "id": "0a8ff91e",
      "metadata": {
        "id": "0a8ff91e"
      },
      "source": [
        "### Functions that take iterators and iterables as arguments: list () and sum ()"
      ]
    },
    {
      "cell_type": "code",
      "execution_count": null,
      "id": "64cb7271",
      "metadata": {
        "id": "64cb7271",
        "outputId": "65655af8-985a-48e7-aaba-4cfd75b95a95"
      },
      "outputs": [
        {
          "name": "stdout",
          "output_type": "stream",
          "text": [
            "[10, 11, 12, 13, 14, 15, 16, 17, 18, 19, 20]\n",
            "165\n"
          ]
        }
      ],
      "source": [
        "# Create list \n",
        "values = range(10, 21)\n",
        "values_list = list(values)\n",
        "\n",
        "print (values_list)\n",
        "\n",
        "# Get Sum\n",
        "values_sum = sum(values)\n",
        "print (values_sum)\n"
      ]
    },
    {
      "cell_type": "markdown",
      "id": "55b59f82",
      "metadata": {
        "id": "55b59f82"
      },
      "source": [
        "## ENUMERATE \n",
        "### Add a counter to any iterable"
      ]
    },
    {
      "cell_type": "code",
      "execution_count": null,
      "id": "cab92c10",
      "metadata": {
        "id": "cab92c10",
        "outputId": "2d5ebf30-50b2-4afe-cffb-8f9be40f0580"
      },
      "outputs": [
        {
          "name": "stdout",
          "output_type": "stream",
          "text": [
            "<class 'enumerate'>\n"
          ]
        }
      ],
      "source": [
        "#Add a a counter to any iterable\n",
        "\n",
        "avengers = ['hawkeye', 'iron man', 'thor', 'quicksilver']\n",
        "e = enumerate (avengers)\n",
        "print (type(e))"
      ]
    },
    {
      "cell_type": "code",
      "execution_count": null,
      "id": "466c0a55",
      "metadata": {
        "id": "466c0a55",
        "outputId": "ae40b1c5-2ba5-482c-edd7-aec98de5aa29"
      },
      "outputs": [
        {
          "name": "stdout",
          "output_type": "stream",
          "text": [
            "[(0, 'hawkeye'), (1, 'iron man'), (2, 'thor'), (3, 'quicksilver')]\n"
          ]
        }
      ],
      "source": [
        "# Can convert to list and return tuple of indexes and objects\n",
        "\n",
        "e_list = list (e)\n",
        "print (e_list)"
      ]
    },
    {
      "cell_type": "code",
      "execution_count": null,
      "id": "489292d9",
      "metadata": {
        "id": "489292d9",
        "outputId": "03067dd6-2832-48b9-a26f-806b6fa11697"
      },
      "outputs": [
        {
          "name": "stdout",
          "output_type": "stream",
          "text": [
            "0 hawkeye\n",
            "1 iron man\n",
            "2 thor\n",
            "3 quicksilver\n"
          ]
        }
      ],
      "source": [
        "#Enumerate is itself an iterable - can unpack\n",
        "\n",
        "avengers = ['hawkeye', 'iron man', 'thor', 'quicksilver']\n",
        "for a, x in enumerate (avengers):\n",
        "\tprint (a, x)"
      ]
    },
    {
      "cell_type": "code",
      "execution_count": null,
      "id": "7850cafa",
      "metadata": {
        "id": "7850cafa",
        "outputId": "ff18972e-72f0-4bdf-ced7-1831032244ac"
      },
      "outputs": [
        {
          "name": "stdout",
          "output_type": "stream",
          "text": [
            "100 hawkeye\n",
            "101 iron man\n",
            "102 thor\n",
            "103 quicksilver\n"
          ]
        }
      ],
      "source": [
        "#Can unpack enumerate with any number (default = 0)\n",
        "\n",
        "avengers = ['hawkeye', 'iron man', 'thor', 'quicksilver']\n",
        "for a, value in enumerate (avengers, start = 100):\n",
        "\tprint (a, value)"
      ]
    },
    {
      "cell_type": "markdown",
      "id": "1dc8d88b",
      "metadata": {
        "id": "1dc8d88b"
      },
      "source": [
        "### Can use Splat *"
      ]
    },
    {
      "cell_type": "code",
      "execution_count": null,
      "id": "158b66ce",
      "metadata": {
        "id": "158b66ce",
        "outputId": "9c9321cd-7d54-4e84-f6aa-aaec3b6c080e"
      },
      "outputs": [
        {
          "name": "stdout",
          "output_type": "stream",
          "text": [
            "(222, 'hawkeye') (223, 'iron man') (224, 'thor') (225, 'quicksilver')\n"
          ]
        }
      ],
      "source": [
        "# can use Splat *\n",
        "\n",
        "avengers = ['hawkeye', 'iron man', 'thor', 'quicksilver']\n",
        "z = enumerate (avengers, start = 222)\n",
        "print (*z)"
      ]
    },
    {
      "cell_type": "markdown",
      "id": "8edb51b3",
      "metadata": {
        "id": "8edb51b3"
      },
      "source": [
        "## Zip\n",
        "### Stich together arbitary iterables - accepts arbitary number of iterables and returns an iterator of tuples"
      ]
    },
    {
      "cell_type": "code",
      "execution_count": null,
      "id": "13ec7cce",
      "metadata": {
        "id": "13ec7cce",
        "outputId": "666cc223-3d9a-4ec7-f361-55dedd18d59e"
      },
      "outputs": [
        {
          "name": "stdout",
          "output_type": "stream",
          "text": [
            "<class 'zip'>\n",
            "[('hawkeye', 'barton'), ('iron man', 'stark'), ('thor', 'odinson'), ('quicksilver', 'maximoff')]\n"
          ]
        }
      ],
      "source": [
        "# Stich together arbitary iterables - accepts arbitary number of iterables and returns an iterator of tuples\n",
        "\n",
        "avengers = ['hawkeye', 'iron man', 'thor', 'quicksilver']\n",
        "names = ['barton', 'stark', 'odinson', 'maximoff']\n",
        "\n",
        "z = zip (avengers, names)\n",
        "\n",
        "print (type(z))\n",
        "\n",
        "z_list = list(z)\n",
        "\n",
        "print (z_list)"
      ]
    },
    {
      "cell_type": "code",
      "execution_count": null,
      "id": "4140d709",
      "metadata": {
        "id": "4140d709",
        "outputId": "91649510-efd4-4310-d695-7563501f78f0"
      },
      "outputs": [
        {
          "name": "stdout",
          "output_type": "stream",
          "text": [
            "[('hawkeye', 'barton'), ('iron man', 'stark'), ('thor', 'odinson'), ('quicksilver', 'maximoff')]\n"
          ]
        }
      ],
      "source": [
        "# Can convert to list and return tuple of keys and values\n",
        "\n",
        "avengers = ['hawkeye', 'iron man', 'thor', 'quicksilver']\n",
        "names = ['barton', 'stark', 'odinson', 'maximoff']\n",
        "\n",
        "z = zip (avengers, names)\n",
        "\n",
        "z_list = list(z)\n",
        "\n",
        "print (z_list)"
      ]
    },
    {
      "cell_type": "code",
      "execution_count": null,
      "id": "724cc85e",
      "metadata": {
        "id": "724cc85e",
        "outputId": "d60f8411-ceb7-4786-f48b-9906c191d778"
      },
      "outputs": [
        {
          "name": "stdout",
          "output_type": "stream",
          "text": [
            "hawkeye barton\n",
            "iron man stark\n",
            "thor odinson\n",
            "quicksilver maximoff\n"
          ]
        }
      ],
      "source": [
        "# Use for loop to iterate over zip objects and print tuples\n",
        "\n",
        "avengers = ['hawkeye', 'iron man', 'thor', 'quicksilver']\n",
        "names = ['barton', 'stark', 'odinson', 'maximoff']\n",
        "\n",
        "for z1, z2 in zip(avengers, names):\n",
        "\tprint (z1, z2)"
      ]
    },
    {
      "cell_type": "markdown",
      "id": "c905b8a2",
      "metadata": {
        "id": "c905b8a2"
      },
      "source": [
        "### Use Splat *"
      ]
    },
    {
      "cell_type": "code",
      "execution_count": null,
      "id": "1885fac3",
      "metadata": {
        "id": "1885fac3",
        "outputId": "07ea0dc4-3146-4ec4-a52b-983523a3ea18",
        "colab": {
          "base_uri": "https://localhost:8080/"
        }
      },
      "outputs": [
        {
          "output_type": "stream",
          "name": "stdout",
          "text": [
            "('hawkeye', 'barton') ('iron man', 'stark') ('thor', 'odinson') ('quicksilver', 'maximoff')\n"
          ]
        }
      ],
      "source": [
        "# Use Splat *\n",
        "\n",
        "avengers = ['hawkeye', 'iron man', 'thor', 'quicksilver']\n",
        "names = ['barton', 'stark', 'odinson', 'maximoff']\n",
        "\n",
        "z = zip (avengers, names)\n",
        "\n",
        "print (*z)\n"
      ]
    },
    {
      "cell_type": "markdown",
      "source": [
        "### There is no unzip function for reversing zip()\n",
        "#### However, we can reverse what has been zipped by using zip() with a little help from * (Splat)\n",
        "### Unpacks an iterable such as a list or a tuple into positional arguments in a function call"
      ],
      "metadata": {
        "id": "KBXDnr9O2LWe"
      },
      "id": "KBXDnr9O2LWe"
    },
    {
      "cell_type": "code",
      "source": [
        "#Create 2 lists\n",
        "avengers = ['hawkeye', 'iron man', 'thor', 'quicksilver']\n",
        "names = ['barton', 'stark', 'odinson', 'maximoff']\n",
        "\n",
        "# Zip the lists\n",
        "z1 = zip (avengers, names)\n",
        "\n",
        "#Unzip the tuples in z1 by unpacking with * and zip(): result1, result2\n",
        "result1, result2 = zip(*z1)\n",
        "\n",
        "#Print the unzipped tuples\n",
        "print (result1)\n",
        "print (result2)\n",
        "\n",
        "# Check if unpacked tuples are equivalent to original tuples\n",
        "print(result1 == avengers)\n",
        "print(result2 == names)"
      ],
      "metadata": {
        "id": "rUnUIOJ_2Rvy",
        "outputId": "f7e77e16-ac7f-4737-fdcb-32f01f1e1327",
        "colab": {
          "base_uri": "https://localhost:8080/"
        }
      },
      "id": "rUnUIOJ_2Rvy",
      "execution_count": null,
      "outputs": [
        {
          "output_type": "stream",
          "name": "stdout",
          "text": [
            "('hawkeye', 'iron man', 'thor', 'quicksilver')\n",
            "('barton', 'stark', 'odinson', 'maximoff')\n",
            "False\n",
            "False\n"
          ]
        }
      ]
    },
    {
      "cell_type": "markdown",
      "source": [
        "# Using iterators to load large files into memory\n",
        "\n",
        "# Solution: Load data in chunks"
      ],
      "metadata": {
        "id": "8zgF6TOZ4v3U"
      },
      "id": "8zgF6TOZ4v3U"
    },
    {
      "cell_type": "code",
      "source": [
        "#Pandas function: read_csv()\n",
        "#Specify the chunk: chunk_size\n",
        "\n",
        "#Iterating over data\n",
        "\n",
        "import pandas as pd\n",
        "result = []\n",
        "for chunk in pd.read_csv('data.csv', chunksize=1000):\n",
        "\tresult.append(sum(chunk['x']))\n",
        "total = sum(result)\n",
        "print(total)\n",
        "\n",
        "#Iterating over data\n",
        "\n",
        "import pandas as pd\n",
        "\n",
        "total = 0\n",
        "\n",
        "for chunk in pd.read_csv('data.csv', chunksize=1000):\n",
        "total += sum(chunk['x'])\n",
        "print(total)"
      ],
      "metadata": {
        "id": "6n6uZfao401y",
        "outputId": "d219dba0-bfd2-4c34-ed68-871aa9dedb49",
        "colab": {
          "base_uri": "https://localhost:8080/",
          "height": 130
        }
      },
      "id": "6n6uZfao401y",
      "execution_count": null,
      "outputs": [
        {
          "output_type": "error",
          "ename": "IndentationError",
          "evalue": "ignored",
          "traceback": [
            "\u001b[0;36m  File \u001b[0;32m\"<ipython-input-32-a363eb469347>\"\u001b[0;36m, line \u001b[0;32m20\u001b[0m\n\u001b[0;31m    total += sum(chunk['x'])\u001b[0m\n\u001b[0m        ^\u001b[0m\n\u001b[0;31mIndentationError\u001b[0m\u001b[0;31m:\u001b[0m expected an indented block\n"
          ]
        }
      ]
    },
    {
      "cell_type": "code",
      "source": [
        "#UseCase - Define Function to reuse \n",
        "#Extracting information for large amounts of Twitter data\n",
        "\n",
        "# Define count_entries()\n",
        "def count_entries (csv_file, c_size, colname):\n",
        "    \"\"\"Return a dictionary with counts of\n",
        "    occurrences as value for each key.\"\"\"\n",
        "    \n",
        "    # Initialize an empty dictionary: counts_dict\n",
        "    counts_dict = {}\n",
        "\n",
        "    # Iterate over the file chunk by chunk\n",
        "    for chunk in pd.read_csv (csv_file, chunksize = c_size):\n",
        "\n",
        "        # Iterate over the column in DataFrame\n",
        "        for entry in chunk [colname]:\n",
        "            if entry in counts_dict.keys():\n",
        "                counts_dict[entry] += 1\n",
        "            else:\n",
        "                counts_dict[entry] = 1\n",
        "\n",
        "    # Return counts_dict\n",
        "    return counts_dict\n",
        "\n",
        "# Call count_entries(): result_counts\n",
        "result_counts = count_entries ('tweets.csv', 10, 'lang')\n",
        "\n",
        "# Print result_counts\n",
        "print(result_counts)\n",
        "\n",
        "_______________________________________________\n",
        "#List Comprehensions\n",
        "\n",
        "#For loop and list comprehension syntax\n",
        "\n",
        "nums = [12, 8, 21,n 3, 16]\n",
        "new_nums = [num + 1 for num in nums]\n",
        "print new_nums\n",
        " \n",
        " \n",
        "\n"
      ],
      "metadata": {
        "id": "GWH6gxah5A-0"
      },
      "id": "GWH6gxah5A-0",
      "execution_count": null,
      "outputs": []
    }
  ],
  "metadata": {
    "kernelspec": {
      "display_name": "Python 3 (ipykernel)",
      "language": "python",
      "name": "python3"
    },
    "language_info": {
      "codemirror_mode": {
        "name": "ipython",
        "version": 3
      },
      "file_extension": ".py",
      "mimetype": "text/x-python",
      "name": "python",
      "nbconvert_exporter": "python",
      "pygments_lexer": "ipython3",
      "version": "3.9.12"
    },
    "vscode": {
      "interpreter": {
        "hash": "26de051ba29f2982a8de78e945f0abaf191376122a1563185a90213a26c5da77"
      }
    },
    "colab": {
      "name": "Python_Notes.ipynb",
      "provenance": [],
      "include_colab_link": true
    }
  },
  "nbformat": 4,
  "nbformat_minor": 5
}