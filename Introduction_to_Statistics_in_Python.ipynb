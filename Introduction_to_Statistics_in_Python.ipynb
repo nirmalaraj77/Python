{
  "nbformat": 4,
  "nbformat_minor": 0,
  "metadata": {
    "colab": {
      "provenance": [],
      "authorship_tag": "ABX9TyOWMJTI/6vp16Me6zJXk7We",
      "include_colab_link": true
    },
    "kernelspec": {
      "name": "python3",
      "display_name": "Python 3"
    },
    "language_info": {
      "name": "python"
    }
  },
  "cells": [
    {
      "cell_type": "markdown",
      "metadata": {
        "id": "view-in-github",
        "colab_type": "text"
      },
      "source": [
        "<a href=\"https://colab.research.google.com/github/nirmalaraj77/Python/blob/main/Introduction_to_Statistics_in_Python.ipynb\" target=\"_parent\"><img src=\"https://colab.research.google.com/assets/colab-badge.svg\" alt=\"Open In Colab\"/></a>"
      ]
    },
    {
      "cell_type": "markdown",
      "source": [
        "# **Summary Statistics**\n",
        "* df.describe()\n",
        "\n",
        "## **Descriptive Statistics**\n",
        "* Describe and summarize data\n",
        "\n",
        "## **Inferential Statistics**\n",
        "* Use a sample of data to make inferences about a larger population\n",
        "\n",
        "## **Numeric (Quantitative Data)**\n",
        "* Summary statistics\n",
        "* Scatterplots\n",
        "\n",
        "### **Continous (Measured)**\n",
        "* Airplane speed\n",
        "* Time spent waiting in line\n",
        "\n",
        "### **Discrete (Counted)**\n",
        "* Number of pets\n",
        "* Number of packages shipped\n",
        "\n",
        "## **Categorical (Qualitative Data)**\n",
        "* **Can be represented as numbers**\n",
        "* **Does not make rthem numeric variables**\n",
        "* Countplot\n",
        "* Barplot\n",
        "\n",
        "### **Nominal (Unordered)**\n",
        "* Married / Unmarried (1 / 0)\n",
        "* Country of residence (1, 2, 3, ...)\n",
        "\n",
        "### **Ordinal (Ordered)**\n",
        "* Survey question (Strongly disagree - 1 / Neither - 2 / Strongly agree - 3)\n",
        "\n",
        "\n"
      ],
      "metadata": {
        "id": "pXnw-66K1v4u"
      }
    },
    {
      "cell_type": "code",
      "execution_count": 48,
      "metadata": {
        "id": "MNa4pK0B0ydU"
      },
      "outputs": [],
      "source": [
        "# import libraries and datasets\n",
        "import pandas as pd\n",
        "import numpy as np\n",
        "import statistics\n",
        "import matplotlib.pyplot as plt\n",
        "import seaborn as sns\n",
        "from scipy.stats import iqr\n",
        "\n",
        "deals = pd.read_csv('https://raw.githubusercontent.com/nirmalaraj77/datasets/refs/heads/main/amir_deals.csv')\n",
        "happiness = pd.read_csv('https://raw.githubusercontent.com/nirmalaraj77/datasets/refs/heads/main/world_happiness.csv')\n",
        "food = pd.read_csv('https://raw.githubusercontent.com/nirmalaraj77/datasets/refs/heads/main/food_consumption.csv')"
      ]
    },
    {
      "cell_type": "markdown",
      "source": [
        "# **Measures of Center**\n",
        "\n",
        "## **Mean**\n",
        "* Average\n",
        "* np.mean\n",
        "* More sensitive to outliers\n",
        "* Gets pulled in the direction of skew\n",
        "\n",
        "## **Median**\n",
        "* Centre\n",
        "* 50% | 50%\n",
        "* Sort and take middle\n",
        "* np.median\n",
        "* Better for skewed data\n",
        "\n",
        "## **Mode**\n",
        "* Most frequent value\n",
        "* statistics.mode\n",
        "* Often used for categtrical variables\n"
      ],
      "metadata": {
        "id": "TEGAvz2pIALz"
      }
    },
    {
      "cell_type": "code",
      "source": [
        "# Mean, Median and Mode in Numerical Variables\n",
        "\n",
        "mean = np.mean(deals['amount'])\n",
        "median = np.median(deals['amount'])\n",
        "mode = statistics.mode(deals['amount'])\n",
        "\n",
        "print(f\"Mean: {mean} | Median: {median} | Mode: {mode}\")\n",
        "\n"
      ],
      "metadata": {
        "id": "UcVBDDR5RRbo",
        "outputId": "0a114e2c-e0ce-41b8-a4de-ff7f5f5f3a52",
        "colab": {
          "base_uri": "https://localhost:8080/"
        }
      },
      "execution_count": 2,
      "outputs": [
        {
          "output_type": "stream",
          "name": "stdout",
          "text": [
            "Mean: 4812.000337078652 | Median: 4805.1900000000005 | Mode: 7389.52\n"
          ]
        }
      ]
    },
    {
      "cell_type": "code",
      "source": [
        "# Mode in Categorical Variable\n",
        "statistics.mode(deals['product'])\n"
      ],
      "metadata": {
        "id": "XF15zJjQVBPT",
        "outputId": "61537149-e8c6-44b0-cceb-7b7947663ccc",
        "colab": {
          "base_uri": "https://localhost:8080/",
          "height": 36
        }
      },
      "execution_count": 10,
      "outputs": [
        {
          "output_type": "execute_result",
          "data": {
            "text/plain": [
              "'Product B'"
            ],
            "application/vnd.google.colaboratory.intrinsic+json": {
              "type": "string"
            }
          },
          "metadata": {},
          "execution_count": 10
        }
      ]
    },
    {
      "cell_type": "code",
      "source": [
        "usa = food[food['country'] == 'USA']\n",
        "print(usa.head())\n",
        "\n",
        "usa['consumption'].hist()\n",
        "plt.show()\n",
        "\n",
        "print(food[food['country']== 'USA']['co2_emission'].agg([np.mean, np.median]))"
      ],
      "metadata": {
        "id": "qkHC_J46HEpR",
        "outputId": "afc53880-eada-4d8a-e0d5-e4e3eca40086",
        "colab": {
          "base_uri": "https://localhost:8080/",
          "height": 686
        }
      },
      "execution_count": 19,
      "outputs": [
        {
          "output_type": "stream",
          "name": "stdout",
          "text": [
            "   country food_category  consumption  co2_emission\n",
            "55     USA          pork        27.64         97.83\n",
            "56     USA       poultry        50.01         53.72\n",
            "57     USA          beef        36.24       1118.29\n",
            "58     USA     lamb_goat         0.43         15.06\n",
            "59     USA          fish        12.35         19.72\n"
          ]
        },
        {
          "output_type": "display_data",
          "data": {
            "text/plain": [
              "<Figure size 640x480 with 1 Axes>"
            ],
            "image/png": "[encoded data removed]"
          },
          "metadata": {}
        },
        {
          "output_type": "stream",
          "name": "stdout",
          "text": [
            "mean      156.26\n",
            "median     15.34\n",
            "Name: co2_emission, dtype: float64\n"
          ]
        },
        {
          "output_type": "stream",
          "name": "stderr",
          "text": [
            "<ipython-input-19-c103184923d3>:7: FutureWarning: The provided callable <function mean at 0x7cba4ede95a0> is currently using Series.mean. In a future version of pandas, the provided callable will be used directly. To keep current behavior pass the string \"mean\" instead.\n",
            "  print(food[food['country']== 'USA']['co2_emission'].agg([np.mean, np.median]))\n",
            "<ipython-input-19-c103184923d3>:7: FutureWarning: The provided callable <function median at 0x7cba4bb14ca0> is currently using Series.median. In a future version of pandas, the provided callable will be used directly. To keep current behavior pass the string \"median\" instead.\n",
            "  print(food[food['country']== 'USA']['co2_emission'].agg([np.mean, np.median]))\n"
          ]
        }
      ]
    },
    {
      "cell_type": "markdown",
      "source": [
        "# **Measures of Spread**\n",
        "\n",
        "## **Variance**\n",
        "* Average distance from each data point to mean\n",
        "* Calculate distance between each data point and mean\n",
        "* Divide sum of squared diatances by number of data points - 1\n",
        "* Higher variance = more spread out data\n",
        "* np.var\n",
        "* np.var['values], ddof=1\n",
        "* ddof = 1 for sample data\n",
        "* Population variance is calculated without ddof argument\n",
        "\n",
        "# **Standard Deviation**\n",
        "* Square root of Variance\n",
        "* np.std\n",
        "* ddof = 1\n",
        "* Easier to understand since they are not squared\n",
        "\n",
        "## **Mean absolute deviation**\n",
        "* Takes absolute value of distances to mean and takes mean of those differences\n",
        "* Similar to SD but not same\n",
        "* SD squares distances, penalizing longer distances more than shorter ones\n",
        "* MAD penalizes each distance equally\n",
        "* SD is more common than MAD\n",
        "\n",
        "## **Quantiles (Percentiles)**\n",
        "* Split data into some number of equal parts\n",
        "* np.quantile\n",
        "* np.quantile(msleep['sleep_total'], 0.5)\n",
        "* 0.5 Quantile = Median\n",
        "* Split data into 4 equal parts = Quartiles\n",
        "* np.quantile(msleep['sleep_total'], [0, 0.25, 0.05, 0.75, 1)\n",
        "* Boxplots use quartiles\n",
        "* np.linspace (start, stop, num_intervals)\n",
        "\n",
        "## **Interquartile Range (IQR)**\n",
        "* Distance between 25th and 75th percentile\n",
        "* from scipy.stats import iqr\n",
        "* iqr(msleep['sleep_total'])\n",
        "\n",
        "## **Outliers**\n",
        "* Data points substantially different from the others\n",
        "* data < Q1 - 1.5 X IQR or\n",
        "* data > Q3 + 1.5 X IQR\n",
        "* Find 1st and 3rd percentile and IQR and subset\n",
        "\n",
        "\n",
        "\n"
      ],
      "metadata": {
        "id": "Kx-h5T-YOGNY"
      }
    },
    {
      "cell_type": "code",
      "source": [
        "var = np.var(food['co2_emission'], ddof=1)\n",
        "\n",
        "std = np.std(food['co2_emission'],ddof=1)\n",
        "\n",
        "# Calculate Mean Absolute Deviation\n",
        "dists = food['co2_emission'] - np.mean(food['co2_emission'])\n",
        "mad = np.mean(np.abs(dists))\n",
        "\n",
        "\n",
        "qrt = np.quantile(food['co2_emission'], [0, 0.25, 0.5, 0.75, 1])\n",
        "iqr_value = iqr(food['co2_emission'])\n",
        "print(f\"Variance: {var} | Standard Deviation: {std}\\n Quartiles: {qrt} | IQR {iqr_value} | MAD : {mad}\")"
      ],
      "metadata": {
        "id": "O5gQo5h89XkZ",
        "outputId": "f267ed87-639e-42f5-fa1c-8e7251adde3f",
        "colab": {
          "base_uri": "https://localhost:8080/"
        }
      },
      "execution_count": 40,
      "outputs": [
        {
          "output_type": "stream",
          "name": "stdout",
          "text": [
            "Variance: 23133.973638558353 | Standard Deviation: 152.09856553747755\n",
            " Quartiles: [   0.        5.21     16.53     62.5975 1712.    ] | IQR 57.3875 | MAD : 89.68155844295565\n"
          ]
        }
      ]
    },
    {
      "cell_type": "code",
      "source": [
        "# Find Outliers\n",
        "from scipy.stats import iqr\n",
        "\n",
        "# Find IQR\n",
        "iqr = iqr(food['co2_emission'])\n",
        "\n",
        "# Find lower and upper thresholds\n",
        "lower_threshold = np.quantile(food['co2_emission'], 0.25) - 1.5 * iqr\n",
        "upper_threshold = np.quantile(food['co2_emission'], 0.75) + 1.5 * iqr\n",
        "\n",
        "# Subset to find outliers\n",
        "food_outliers = food[(food['co2_emission'] < lower_threshold) | (food['co2_emission'] > upper_threshold)]\n",
        "print(food_outliers.value_counts())\n"
      ],
      "metadata": {
        "id": "6_5K-Gh5A7xR",
        "outputId": "22c90e72-3cfe-4bcc-b3c8-0153f08b34ee",
        "colab": {
          "base_uri": "https://localhost:8080/"
        }
      },
      "execution_count": 53,
      "outputs": [
        {
          "output_type": "stream",
          "name": "stdout",
          "text": [
            "country           food_category  consumption  co2_emission\n",
            "Albania           beef           22.50        694.30          1\n",
            "                  dairy          303.72       432.62          1\n",
            "Myanmar           rice           132.80       169.94          1\n",
            "Nepal             beef           7.89         243.47          1\n",
            "Netherlands       beef           17.67        545.26          1\n",
            "                                                             ..\n",
            "French Polynesia  beef           30.90        953.51          1\n",
            "Georgia           beef           6.04         186.38          1\n",
            "                  dairy          149.26       212.61          1\n",
            "Germany           beef           13.16        406.09          1\n",
            "Zimbabwe          beef           7.37         227.42          1\n",
            "Name: count, Length: 208, dtype: int64\n"
          ]
        }
      ]
    },
    {
      "cell_type": "code",
      "source": [
        "food['co2_emission'].describe()"
      ],
      "metadata": {
        "id": "R7ZvwZbGCY4H",
        "outputId": "b72f2bf6-3488-44fb-e4ec-35d7a0330eeb",
        "colab": {
          "base_uri": "https://localhost:8080/",
          "height": 335
        }
      },
      "execution_count": 54,
      "outputs": [
        {
          "output_type": "execute_result",
          "data": {
            "text/plain": [
              "count    1430.000000\n",
              "mean       74.383993\n",
              "std       152.098566\n",
              "min         0.000000\n",
              "25%         5.210000\n",
              "50%        16.530000\n",
              "75%        62.597500\n",
              "max      1712.000000\n",
              "Name: co2_emission, dtype: float64"
            ],
            "text/html": [
              "<div>\n",
              "<style scoped>\n",
              "    .dataframe tbody tr th:only-of-type {\n",
              "        vertical-align: middle;\n",
              "    }\n",
              "\n",
              "    .dataframe tbody tr th {\n",
              "        vertical-align: top;\n",
              "    }\n",
              "\n",
              "    .dataframe thead th {\n",
              "        text-align: right;\n",
              "    }\n",
              "</style>\n",
              "<table border=\"1\" class=\"dataframe\">\n",
              "  <thead>\n",
              "    <tr style=\"text-align: right;\">\n",
              "      <th></th>\n",
              "      <th>co2_emission</th>\n",
              "    </tr>\n",
              "  </thead>\n",
              "  <tbody>\n",
              "    <tr>\n",
              "      <th>count</th>\n",
              "      <td>1430.000000</td>\n",
              "    </tr>\n",
              "    <tr>\n",
              "      <th>mean</th>\n",
              "      <td>74.383993</td>\n",
              "    </tr>\n",
              "    <tr>\n",
              "      <th>std</th>\n",
              "      <td>152.098566</td>\n",
              "    </tr>\n",
              "    <tr>\n",
              "      <th>min</th>\n",
              "      <td>0.000000</td>\n",
              "    </tr>\n",
              "    <tr>\n",
              "      <th>25%</th>\n",
              "      <td>5.210000</td>\n",
              "    </tr>\n",
              "    <tr>\n",
              "      <th>50%</th>\n",
              "      <td>16.530000</td>\n",
              "    </tr>\n",
              "    <tr>\n",
              "      <th>75%</th>\n",
              "      <td>62.597500</td>\n",
              "    </tr>\n",
              "    <tr>\n",
              "      <th>max</th>\n",
              "      <td>1712.000000</td>\n",
              "    </tr>\n",
              "  </tbody>\n",
              "</table>\n",
              "</div><br><label><b>dtype:</b> float64</label>"
            ]
          },
          "metadata": {},
          "execution_count": 54
        }
      ]
    }
  ]
}