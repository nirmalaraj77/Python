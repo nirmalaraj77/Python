{
  "nbformat": 4,
  "nbformat_minor": 0,
  "metadata": {
    "colab": {
      "provenance": [],
      "authorship_tag": "ABX9TyM4ecwsvlXoci5zaSmwrgpF",
      "include_colab_link": true
    },
    "kernelspec": {
      "name": "python3",
      "display_name": "Python 3"
    },
    "language_info": {
      "name": "python"
    }
  },
  "cells": [
    {
      "cell_type": "markdown",
      "metadata": {
        "id": "view-in-github",
        "colab_type": "text"
      },
      "source": [
        "<a href=\"https://colab.research.google.com/github/nirmalaraj77/Python/blob/main/Introduction_to_Statistics_in_Python.ipynb\" target=\"_parent\"><img src=\"https://colab.research.google.com/assets/colab-badge.svg\" alt=\"Open In Colab\"/></a>"
      ]
    },
    {
      "cell_type": "markdown",
      "source": [
        "# **Summary Statistics**\n",
        "* df.describe()\n",
        "\n",
        "## **Descriptive Statistics**\n",
        "* Describe and summarize data\n",
        "\n",
        "## **Inferential Statistics**\n",
        "* Use a sample of data to make inferences about a larger population\n",
        "\n",
        "## **Numeric (Quantitative Data)**\n",
        "* Summary statistics\n",
        "* Scatterplots\n",
        "\n",
        "### **Continous (Measured)**\n",
        "* Airplane speed\n",
        "* Time spent waiting in line\n",
        "\n",
        "### **Discrete (Counted)**\n",
        "* Number of pets\n",
        "* Number of packages shipped\n",
        "\n",
        "## **Categorical (Qualitative Data)**\n",
        "* **Can be represented as numbers**\n",
        "* **Does not make rthem numeric variables**\n",
        "* Countplot\n",
        "* Barplot\n",
        "\n",
        "### **Nominal (Unordered)**\n",
        "* Married / Unmarried (1 / 0)\n",
        "* Country of residence (1, 2, 3, ...)\n",
        "\n",
        "### **Ordinal (Ordered)**\n",
        "* Survey question (Strongly disagree - 1 / Neither - 2 / Strongly agree - 3)\n",
        "\n",
        "\n"
      ],
      "metadata": {
        "id": "pXnw-66K1v4u"
      }
    },
    {
      "cell_type": "code",
      "execution_count": 15,
      "metadata": {
        "id": "MNa4pK0B0ydU"
      },
      "outputs": [],
      "source": [
        "# import libraries and datasets\n",
        "import pandas as pd\n",
        "import numpy as np\n",
        "import statistics\n",
        "import matplotlib.pyplot as plt\n",
        "import seaborn as sns\n",
        "from scipy.stats import iqr\n",
        "from scipy.stats import uniform\n",
        "\n",
        "amir_deals = pd.read_csv('https://raw.githubusercontent.com/nirmalaraj77/datasets/refs/heads/main/amir_deals.csv')\n",
        "happiness = pd.read_csv('https://raw.githubusercontent.com/nirmalaraj77/datasets/refs/heads/main/world_happiness.csv')\n",
        "food = pd.read_csv('https://raw.githubusercontent.com/nirmalaraj77/datasets/refs/heads/main/food_consumption.csv')"
      ]
    },
    {
      "cell_type": "markdown",
      "source": [
        "# **Measures of Center**\n",
        "\n",
        "## **Mean**\n",
        "* Average\n",
        "* np.mean\n",
        "* More sensitive to outliers\n",
        "* Gets pulled in the direction of skew\n",
        "\n",
        "## **Median**\n",
        "* Centre\n",
        "* 50% | 50%\n",
        "* Sort and take middle\n",
        "* np.median\n",
        "* Better for skewed data\n",
        "\n",
        "## **Mode**\n",
        "* Most frequent value\n",
        "* statistics.mode\n",
        "* Often used for categtrical variables\n"
      ],
      "metadata": {
        "id": "TEGAvz2pIALz"
      }
    },
    {
      "cell_type": "code",
      "source": [
        "# Mean, Median and Mode in Numerical Variables\n",
        "\n",
        "mean = np.mean(amir_deals['amount'])\n",
        "median = np.median(amir_deals['amount'])\n",
        "mode = statistics.mode(amir_deals['amount'])\n",
        "\n",
        "print(f\"Mean: {mean} | Median: {median} | Mode: {mode}\")\n",
        "\n"
      ],
      "metadata": {
        "id": "UcVBDDR5RRbo",
        "outputId": "56b486b6-4219-4e54-a4a9-6b3a21033f2e",
        "colab": {
          "base_uri": "https://localhost:8080/"
        }
      },
      "execution_count": null,
      "outputs": [
        {
          "output_type": "stream",
          "name": "stdout",
          "text": [
            "Mean: 4812.000337078652 | Median: 4805.1900000000005 | Mode: 7389.52\n"
          ]
        }
      ]
    },
    {
      "cell_type": "code",
      "source": [
        "# Mode in Categorical Variable\n",
        "statistics.mode(amir_deals['product'])\n"
      ],
      "metadata": {
        "id": "XF15zJjQVBPT",
        "outputId": "9b71ddc9-2245-4154-da88-af209e7ee8a5",
        "colab": {
          "base_uri": "https://localhost:8080/",
          "height": 36
        }
      },
      "execution_count": null,
      "outputs": [
        {
          "output_type": "execute_result",
          "data": {
            "text/plain": [
              "'Product B'"
            ],
            "application/vnd.google.colaboratory.intrinsic+json": {
              "type": "string"
            }
          },
          "metadata": {},
          "execution_count": 40
        }
      ]
    },
    {
      "cell_type": "code",
      "source": [
        "usa = food[food['country'] == 'USA']\n",
        "print(usa.head())\n",
        "\n",
        "usa['consumption'].hist()\n",
        "plt.show()\n",
        "\n",
        "print(food[food['country']== 'USA']['co2_emission'].agg([np.mean, np.median]))"
      ],
      "metadata": {
        "colab": {
          "base_uri": "https://localhost:8080/",
          "height": 686
        },
        "id": "qkHC_J46HEpR",
        "outputId": "4b11c26b-1431-48f5-83b5-ed0b3f9ead47"
      },
      "execution_count": null,
      "outputs": [
        {
          "output_type": "stream",
          "name": "stdout",
          "text": [
            "   country food_category  consumption  co2_emission\n",
            "55     USA          pork        27.64         97.83\n",
            "56     USA       poultry        50.01         53.72\n",
            "57     USA          beef        36.24       1118.29\n",
            "58     USA     lamb_goat         0.43         15.06\n",
            "59     USA          fish        12.35         19.72\n"
          ]
        },
        {
          "output_type": "display_data",
          "data": {
            "text/plain": [
              "<Figure size 640x480 with 1 Axes>"
            ],
            "image/png": "[encoded data removed]"
          },
          "metadata": {}
        },
        {
          "output_type": "stream",
          "name": "stdout",
          "text": [
            "mean      156.26\n",
            "median     15.34\n",
            "Name: co2_emission, dtype: float64\n"
          ]
        },
        {
          "output_type": "stream",
          "name": "stderr",
          "text": [
            "<ipython-input-17-c103184923d3>:7: FutureWarning: The provided callable <function mean at 0x7b72abfe55a0> is currently using Series.mean. In a future version of pandas, the provided callable will be used directly. To keep current behavior pass the string \"mean\" instead.\n",
            "  print(food[food['country']== 'USA']['co2_emission'].agg([np.mean, np.median]))\n",
            "<ipython-input-17-c103184923d3>:7: FutureWarning: The provided callable <function median at 0x7b72a9214ca0> is currently using Series.median. In a future version of pandas, the provided callable will be used directly. To keep current behavior pass the string \"median\" instead.\n",
            "  print(food[food['country']== 'USA']['co2_emission'].agg([np.mean, np.median]))\n"
          ]
        }
      ]
    },
    {
      "cell_type": "markdown",
      "source": [
        "# **Measures of Spread**\n",
        "\n",
        "## **Variance**\n",
        "* Average distance from each data point to mean\n",
        "* Calculate distance between each data point and mean\n",
        "* Divide sum of squared diatances by number of data points - 1\n",
        "* Higher variance = more spread out data\n",
        "* np.var\n",
        "* np.var['values], ddof=1\n",
        "* ddof = 1 for sample data\n",
        "* Population variance is calculated without ddof argument\n",
        "\n",
        "# **Standard Deviation**\n",
        "* Square root of Variance\n",
        "* np.std\n",
        "* ddof = 1\n",
        "* Easier to understand since they are not squared\n",
        "\n",
        "## **Mean absolute deviation**\n",
        "* Takes absolute value of distances to mean and takes mean of those differences\n",
        "* Similar to SD but not same\n",
        "* SD squares distances, penalizing longer distances more than shorter ones\n",
        "* MAD penalizes each distance equally\n",
        "* SD is more common than MAD\n",
        "\n",
        "## **Quantiles (Percentiles)**\n",
        "* Split data into some number of equal parts\n",
        "* np.quantile\n",
        "* np.quantile(msleep['sleep_total'], 0.5)\n",
        "* 0.5 Quantile = Median\n",
        "* Split data into 4 equal parts = Quartiles\n",
        "* np.quantile(msleep['sleep_total'], [0, 0.25, 0.5, 0.75, 1)\n",
        "* Boxplots use quartiles\n",
        "* np.linspace (start, stop, num_intervals)\n",
        "* np.quantile(msleep['slep+otal'], np.linspace(0, 1, 5))\n",
        "\n",
        "## **Interquartile Range (IQR)**\n",
        "* Distance between 25th and 75th percentile\n",
        "* from scipy.stats import iqr\n",
        "* iqr(msleep['sleep_total'])\n",
        "\n",
        "## **Outliers**\n",
        "* Data points substantially different from the others\n",
        "* data < Q1 - 1.5 X IQR or\n",
        "* data > Q3 + 1.5 X IQR\n",
        "* Find 1st and 3rd percentile and IQR and subset\n",
        "\n",
        "\n",
        "\n"
      ],
      "metadata": {
        "id": "Kx-h5T-YOGNY"
      }
    },
    {
      "cell_type": "code",
      "source": [
        "var = np.var(food['co2_emission'], ddof=1)\n",
        "\n",
        "std = np.std(food['co2_emission'],ddof=1)\n",
        "\n",
        "# Calculate Mean Absolute Deviation\n",
        "dists = food['co2_emission'] - np.mean(food['co2_emission'])\n",
        "mad = np.mean(np.abs(dists))\n",
        "\n",
        "\n",
        "qrt = np.quantile(food['co2_emission'], [0, 0.25, 0.5, 0.75, 1])\n",
        "iqr_value = iqr(food['co2_emission'])\n",
        "print(f\"Variance: {var} | Standard Deviation: {std}\\n Quartiles: {qrt} | IQR {iqr_value} | MAD : {mad}\")"
      ],
      "metadata": {
        "colab": {
          "base_uri": "https://localhost:8080/"
        },
        "id": "O5gQo5h89XkZ",
        "outputId": "523e9643-ebfa-4f37-ffc4-e93286498d3a"
      },
      "execution_count": 2,
      "outputs": [
        {
          "output_type": "stream",
          "name": "stdout",
          "text": [
            "Variance: 23133.973638558353 | Standard Deviation: 152.09856553747755\n",
            " Quartiles: [   0.        5.21     16.53     62.5975 1712.    ] | IQR 57.3875 | MAD : 89.68155844295565\n"
          ]
        }
      ]
    },
    {
      "cell_type": "code",
      "source": [
        "# Find Outliers\n",
        "from scipy.stats import iqr\n",
        "\n",
        "# Find IQR\n",
        "iqr = iqr(food['co2_emission'])\n",
        "\n",
        "# Find lower and upper thresholds\n",
        "lower_threshold = np.quantile(food['co2_emission'], 0.25) - 1.5 * iqr\n",
        "upper_threshold = np.quantile(food['co2_emission'], 0.75) + 1.5 * iqr\n",
        "\n",
        "# Subset to find outliers\n",
        "food_outliers = food[(food['co2_emission'] < lower_threshold) | (food['co2_emission'] > upper_threshold)]\n",
        "print(food_outliers.value_counts())\n"
      ],
      "metadata": {
        "colab": {
          "base_uri": "https://localhost:8080/"
        },
        "id": "6_5K-Gh5A7xR",
        "outputId": "693a6b39-8c34-44a8-d25e-0376fb214f97"
      },
      "execution_count": 3,
      "outputs": [
        {
          "output_type": "stream",
          "name": "stdout",
          "text": [
            "country           food_category  consumption  co2_emission\n",
            "Albania           beef           22.50        694.30          1\n",
            "                  dairy          303.72       432.62          1\n",
            "Myanmar           rice           132.80       169.94          1\n",
            "Nepal             beef           7.89         243.47          1\n",
            "Netherlands       beef           17.67        545.26          1\n",
            "                                                             ..\n",
            "French Polynesia  beef           30.90        953.51          1\n",
            "Georgia           beef           6.04         186.38          1\n",
            "                  dairy          149.26       212.61          1\n",
            "Germany           beef           13.16        406.09          1\n",
            "Zimbabwe          beef           7.37         227.42          1\n",
            "Name: count, Length: 208, dtype: int64\n"
          ]
        }
      ]
    },
    {
      "cell_type": "code",
      "source": [
        "food['co2_emission'].describe()"
      ],
      "metadata": {
        "colab": {
          "base_uri": "https://localhost:8080/",
          "height": 335
        },
        "id": "R7ZvwZbGCY4H",
        "outputId": "98bf1944-62d9-451b-82fc-8ec2c0c2ad65"
      },
      "execution_count": 4,
      "outputs": [
        {
          "output_type": "execute_result",
          "data": {
            "text/plain": [
              "count    1430.000000\n",
              "mean       74.383993\n",
              "std       152.098566\n",
              "min         0.000000\n",
              "25%         5.210000\n",
              "50%        16.530000\n",
              "75%        62.597500\n",
              "max      1712.000000\n",
              "Name: co2_emission, dtype: float64"
            ],
            "text/html": [
              "<div>\n",
              "<style scoped>\n",
              "    .dataframe tbody tr th:only-of-type {\n",
              "        vertical-align: middle;\n",
              "    }\n",
              "\n",
              "    .dataframe tbody tr th {\n",
              "        vertical-align: top;\n",
              "    }\n",
              "\n",
              "    .dataframe thead th {\n",
              "        text-align: right;\n",
              "    }\n",
              "</style>\n",
              "<table border=\"1\" class=\"dataframe\">\n",
              "  <thead>\n",
              "    <tr style=\"text-align: right;\">\n",
              "      <th></th>\n",
              "      <th>co2_emission</th>\n",
              "    </tr>\n",
              "  </thead>\n",
              "  <tbody>\n",
              "    <tr>\n",
              "      <th>count</th>\n",
              "      <td>1430.000000</td>\n",
              "    </tr>\n",
              "    <tr>\n",
              "      <th>mean</th>\n",
              "      <td>74.383993</td>\n",
              "    </tr>\n",
              "    <tr>\n",
              "      <th>std</th>\n",
              "      <td>152.098566</td>\n",
              "    </tr>\n",
              "    <tr>\n",
              "      <th>min</th>\n",
              "      <td>0.000000</td>\n",
              "    </tr>\n",
              "    <tr>\n",
              "      <th>25%</th>\n",
              "      <td>5.210000</td>\n",
              "    </tr>\n",
              "    <tr>\n",
              "      <th>50%</th>\n",
              "      <td>16.530000</td>\n",
              "    </tr>\n",
              "    <tr>\n",
              "      <th>75%</th>\n",
              "      <td>62.597500</td>\n",
              "    </tr>\n",
              "    <tr>\n",
              "      <th>max</th>\n",
              "      <td>1712.000000</td>\n",
              "    </tr>\n",
              "  </tbody>\n",
              "</table>\n",
              "</div><br><label><b>dtype:</b> float64</label>"
            ]
          },
          "metadata": {},
          "execution_count": 4
        }
      ]
    },
    {
      "cell_type": "code",
      "source": [
        "# Print variance and sd of co2_emission for each food_category\n",
        "print(food.groupby('food_category')['co2_emission'].agg([np.var, np.std]))\n",
        "\n",
        "# Create histogram of co2_emission for food_category 'beef'\n",
        "food[food['food_category'] == 'beef']['co2_emission'].hist()\n",
        "plt.show()\n",
        "\n",
        "# Create histogram of co2_emission for food_category 'eggs'\n",
        "food[food['food_category'] == 'eggs']['co2_emission'].hist()\n",
        "plt.show()"
      ],
      "metadata": {
        "id": "nBCHb9uZScEj",
        "outputId": "33ae2c63-1b11-4693-fcd9-68e019ce96cb",
        "colab": {
          "base_uri": "https://localhost:8080/",
          "height": 1000
        }
      },
      "execution_count": 5,
      "outputs": [
        {
          "output_type": "stream",
          "name": "stderr",
          "text": [
            "<ipython-input-5-b003849abed0>:2: FutureWarning: The provided callable <function var at 0x7b40f0df97e0> is currently using SeriesGroupBy.var. In a future version of pandas, the provided callable will be used directly. To keep current behavior pass the string \"var\" instead.\n",
            "  print(food.groupby('food_category')['co2_emission'].agg([np.var, np.std]))\n",
            "<ipython-input-5-b003849abed0>:2: FutureWarning: The provided callable <function std at 0x7b40f0df96c0> is currently using SeriesGroupBy.std. In a future version of pandas, the provided callable will be used directly. To keep current behavior pass the string \"std\" instead.\n",
            "  print(food.groupby('food_category')['co2_emission'].agg([np.var, np.std]))\n"
          ]
        },
        {
          "output_type": "stream",
          "name": "stdout",
          "text": [
            "                        var         std\n",
            "food_category                          \n",
            "beef           88748.408132  297.906710\n",
            "dairy          17671.891985  132.935669\n",
            "eggs              21.371819    4.622966\n",
            "fish             921.637349   30.358481\n",
            "lamb_goat      16475.518363  128.356996\n",
            "nuts              35.639652    5.969895\n",
            "pork            3094.963537   55.632396\n",
            "poultry          245.026801   15.653332\n",
            "rice            2281.376243   47.763754\n",
            "soybeans           0.879882    0.938020\n",
            "wheat             71.023937    8.427570\n"
          ]
        },
        {
          "output_type": "display_data",
          "data": {
            "text/plain": [
              "<Figure size 640x480 with 1 Axes>"
            ],
            "image/png": "[encoded data removed]"
          },
          "metadata": {}
        },
        {
          "output_type": "display_data",
          "data": {
            "text/plain": [
              "<Figure size 640x480 with 1 Axes>"
            ],
            "image/png": "[encoded data removed]"
          },
          "metadata": {}
        }
      ]
    },
    {
      "cell_type": "code",
      "source": [
        "# Calculate the quintiles of co2_emission\n",
        "print(np.quantile(food['co2_emission'], np.linspace(0, 1, 6)))"
      ],
      "metadata": {
        "id": "DbFbtA2OZKbE",
        "outputId": "9ecaef41-92ca-4a6b-dd88-fb3853668a96",
        "colab": {
          "base_uri": "https://localhost:8080/"
        }
      },
      "execution_count": 6,
      "outputs": [
        {
          "output_type": "stream",
          "name": "stdout",
          "text": [
            "[   0.       3.54    11.026   25.59    99.978 1712.   ]\n"
          ]
        }
      ]
    },
    {
      "cell_type": "code",
      "source": [
        "# Calculate total co2_emission per country: emissions_by_country\n",
        "emissions_by_country = food.groupby('country')['co2_emission'].sum()\n",
        "\n",
        "print(emissions_by_country)\n",
        "\n",
        "q1 = np.quantile(emissions_by_country, 0.25)\n",
        "q3 = np.quantile(emissions_by_country, 0.75)\n",
        "iqr = q3 - q1\n",
        "print(f'q1: {q1} | q3 {q3} | IQR {iqr}')"
      ],
      "metadata": {
        "id": "lZBpIgIPexjF",
        "outputId": "ac017794-86e9-4f8d-9f0c-d8a2dbefb7b9",
        "colab": {
          "base_uri": "https://localhost:8080/"
        }
      },
      "execution_count": 7,
      "outputs": [
        {
          "output_type": "stream",
          "name": "stdout",
          "text": [
            "country\n",
            "Albania      1777.85\n",
            "Algeria       707.88\n",
            "Angola        412.99\n",
            "Argentina    2172.40\n",
            "Armenia      1109.93\n",
            "              ...   \n",
            "Uruguay      1634.91\n",
            "Venezuela    1104.10\n",
            "Vietnam       641.51\n",
            "Zambia        225.30\n",
            "Zimbabwe      350.33\n",
            "Name: co2_emission, Length: 130, dtype: float64\n",
            "q1: 446.66 | q3 1111.1525000000001 | IQR 664.4925000000001\n"
          ]
        }
      ]
    },
    {
      "cell_type": "markdown",
      "source": [
        "# **Probability**\n",
        "\n",
        "## **Sampling**\n",
        "* sample()\n",
        "* np.random.seed()\n",
        "\n",
        "## **Sampling without replacement**\n",
        "* Dependent event\n",
        "* sample(n)\n",
        "\n",
        "## **Sampling with replacement**\n",
        "* Independent event\n",
        "* sample(n, replace = True)"
      ],
      "metadata": {
        "id": "bjcZC-V9w5vy"
      }
    },
    {
      "cell_type": "code",
      "source": [
        "np.random.seed(42)\n",
        "amir_deals.sample(10)"
      ],
      "metadata": {
        "id": "jiBuyKmRzyZq",
        "outputId": "e424b524-75db-4698-8189-d206cc1e9724",
        "colab": {
          "base_uri": "https://localhost:8080/",
          "height": 363
        }
      },
      "execution_count": 8,
      "outputs": [
        {
          "output_type": "execute_result",
          "data": {
            "text/plain": [
              "       product   client status   amount  num_users\n",
              "19   Product I  Current    Won  3220.45         45\n",
              "45   Product B  Current    Won  8614.12         17\n",
              "140  Product B  Current   Lost  5856.18         45\n",
              "30   Product C      New    Won  6151.14         66\n",
              "67   Product B  Current    Won  4571.26         19\n",
              "16   Product D  Current    Won  5282.57         58\n",
              "119  Product B  Current    Won  1597.44         37\n",
              "174  Product D  Current    Won  6377.50         12\n",
              "109  Product H  Current    Won  5257.16         22\n",
              "141  Product B  Current    Won  4795.64          8"
            ],
            "text/html": [
              "\n",
              "  <div id=\"df-079b79c7-0a44-4888-8715-cf566803106c\" class=\"colab-df-container\">\n",
              "    <div>\n",
              "<style scoped>\n",
              "    .dataframe tbody tr th:only-of-type {\n",
              "        vertical-align: middle;\n",
              "    }\n",
              "\n",
              "    .dataframe tbody tr th {\n",
              "        vertical-align: top;\n",
              "    }\n",
              "\n",
              "    .dataframe thead th {\n",
              "        text-align: right;\n",
              "    }\n",
              "</style>\n",
              "<table border=\"1\" class=\"dataframe\">\n",
              "  <thead>\n",
              "    <tr style=\"text-align: right;\">\n",
              "      <th></th>\n",
              "      <th>product</th>\n",
              "      <th>client</th>\n",
              "      <th>status</th>\n",
              "      <th>amount</th>\n",
              "      <th>num_users</th>\n",
              "    </tr>\n",
              "  </thead>\n",
              "  <tbody>\n",
              "    <tr>\n",
              "      <th>19</th>\n",
              "      <td>Product I</td>\n",
              "      <td>Current</td>\n",
              "      <td>Won</td>\n",
              "      <td>3220.45</td>\n",
              "      <td>45</td>\n",
              "    </tr>\n",
              "    <tr>\n",
              "      <th>45</th>\n",
              "      <td>Product B</td>\n",
              "      <td>Current</td>\n",
              "      <td>Won</td>\n",
              "      <td>8614.12</td>\n",
              "      <td>17</td>\n",
              "    </tr>\n",
              "    <tr>\n",
              "      <th>140</th>\n",
              "      <td>Product B</td>\n",
              "      <td>Current</td>\n",
              "      <td>Lost</td>\n",
              "      <td>5856.18</td>\n",
              "      <td>45</td>\n",
              "    </tr>\n",
              "    <tr>\n",
              "      <th>30</th>\n",
              "      <td>Product C</td>\n",
              "      <td>New</td>\n",
              "      <td>Won</td>\n",
              "      <td>6151.14</td>\n",
              "      <td>66</td>\n",
              "    </tr>\n",
              "    <tr>\n",
              "      <th>67</th>\n",
              "      <td>Product B</td>\n",
              "      <td>Current</td>\n",
              "      <td>Won</td>\n",
              "      <td>4571.26</td>\n",
              "      <td>19</td>\n",
              "    </tr>\n",
              "    <tr>\n",
              "      <th>16</th>\n",
              "      <td>Product D</td>\n",
              "      <td>Current</td>\n",
              "      <td>Won</td>\n",
              "      <td>5282.57</td>\n",
              "      <td>58</td>\n",
              "    </tr>\n",
              "    <tr>\n",
              "      <th>119</th>\n",
              "      <td>Product B</td>\n",
              "      <td>Current</td>\n",
              "      <td>Won</td>\n",
              "      <td>1597.44</td>\n",
              "      <td>37</td>\n",
              "    </tr>\n",
              "    <tr>\n",
              "      <th>174</th>\n",
              "      <td>Product D</td>\n",
              "      <td>Current</td>\n",
              "      <td>Won</td>\n",
              "      <td>6377.50</td>\n",
              "      <td>12</td>\n",
              "    </tr>\n",
              "    <tr>\n",
              "      <th>109</th>\n",
              "      <td>Product H</td>\n",
              "      <td>Current</td>\n",
              "      <td>Won</td>\n",
              "      <td>5257.16</td>\n",
              "      <td>22</td>\n",
              "    </tr>\n",
              "    <tr>\n",
              "      <th>141</th>\n",
              "      <td>Product B</td>\n",
              "      <td>Current</td>\n",
              "      <td>Won</td>\n",
              "      <td>4795.64</td>\n",
              "      <td>8</td>\n",
              "    </tr>\n",
              "  </tbody>\n",
              "</table>\n",
              "</div>\n",
              "    <div class=\"colab-df-buttons\">\n",
              "\n",
              "  <div class=\"colab-df-container\">\n",
              "    <button class=\"colab-df-convert\" onclick=\"convertToInteractive('df-079b79c7-0a44-4888-8715-cf566803106c')\"\n",
              "            title=\"Convert this dataframe to an interactive table.\"\n",
              "            style=\"display:none;\">\n",
              "\n",
              "  <svg xmlns=\"http://www.w3.org/2000/svg\" height=\"24px\" viewBox=\"0 -960 960 960\">\n",
              "    <path d=\"M120-120v-720h720v720H120Zm60-500h600v-160H180v160Zm220 220h160v-160H400v160Zm0 220h160v-160H400v160ZM180-400h160v-160H180v160Zm440 0h160v-160H620v160ZM180-180h160v-160H180v160Zm440 0h160v-160H620v160Z\"/>\n",
              "  </svg>\n",
              "    </button>\n",
              "\n",
              "  <style>\n",
              "    .colab-df-container {\n",
              "      display:flex;\n",
              "      gap: 12px;\n",
              "    }\n",
              "\n",
              "    .colab-df-convert {\n",
              "      background-color: #E8F0FE;\n",
              "      border: none;\n",
              "      border-radius: 50%;\n",
              "      cursor: pointer;\n",
              "      display: none;\n",
              "      fill: #1967D2;\n",
              "      height: 32px;\n",
              "      padding: 0 0 0 0;\n",
              "      width: 32px;\n",
              "    }\n",
              "\n",
              "    .colab-df-convert:hover {\n",
              "      background-color: #E2EBFA;\n",
              "      box-shadow: 0px 1px 2px rgba(60, 64, 67, 0.3), 0px 1px 3px 1px rgba(60, 64, 67, 0.15);\n",
              "      fill: #174EA6;\n",
              "    }\n",
              "\n",
              "    .colab-df-buttons div {\n",
              "      margin-bottom: 4px;\n",
              "    }\n",
              "\n",
              "    [theme=dark] .colab-df-convert {\n",
              "      background-color: #3B4455;\n",
              "      fill: #D2E3FC;\n",
              "    }\n",
              "\n",
              "    [theme=dark] .colab-df-convert:hover {\n",
              "      background-color: #434B5C;\n",
              "      box-shadow: 0px 1px 3px 1px rgba(0, 0, 0, 0.15);\n",
              "      filter: drop-shadow(0px 1px 2px rgba(0, 0, 0, 0.3));\n",
              "      fill: #FFFFFF;\n",
              "    }\n",
              "  </style>\n",
              "\n",
              "    <script>\n",
              "      const buttonEl =\n",
              "        document.querySelector('#df-079b79c7-0a44-4888-8715-cf566803106c button.colab-df-convert');\n",
              "      buttonEl.style.display =\n",
              "        google.colab.kernel.accessAllowed ? 'block' : 'none';\n",
              "\n",
              "      async function convertToInteractive(key) {\n",
              "        const element = document.querySelector('#df-079b79c7-0a44-4888-8715-cf566803106c');\n",
              "        const dataTable =\n",
              "          await google.colab.kernel.invokeFunction('convertToInteractive',\n",
              "                                                    [key], {});\n",
              "        if (!dataTable) return;\n",
              "\n",
              "        const docLinkHtml = 'Like what you see? Visit the ' +\n",
              "          '<a target=\"_blank\" href=https://colab.research.google.com/notebooks/data_table.ipynb>data table notebook</a>'\n",
              "          + ' to learn more about interactive tables.';\n",
              "        element.innerHTML = '';\n",
              "        dataTable['output_type'] = 'display_data';\n",
              "        await google.colab.output.renderOutput(dataTable, element);\n",
              "        const docLink = document.createElement('div');\n",
              "        docLink.innerHTML = docLinkHtml;\n",
              "        element.appendChild(docLink);\n",
              "      }\n",
              "    </script>\n",
              "  </div>\n",
              "\n",
              "\n",
              "<div id=\"df-e7824f31-9ba9-4782-b948-01178ddb5b6f\">\n",
              "  <button class=\"colab-df-quickchart\" onclick=\"quickchart('df-e7824f31-9ba9-4782-b948-01178ddb5b6f')\"\n",
              "            title=\"Suggest charts\"\n",
              "            style=\"display:none;\">\n",
              "\n",
              "<svg xmlns=\"http://www.w3.org/2000/svg\" height=\"24px\"viewBox=\"0 0 24 24\"\n",
              "     width=\"24px\">\n",
              "    <g>\n",
              "        <path d=\"M19 3H5c-1.1 0-2 .9-2 2v14c0 1.1.9 2 2 2h14c1.1 0 2-.9 2-2V5c0-1.1-.9-2-2-2zM9 17H7v-7h2v7zm4 0h-2V7h2v10zm4 0h-2v-4h2v4z\"/>\n",
              "    </g>\n",
              "</svg>\n",
              "  </button>\n",
              "\n",
              "<style>\n",
              "  .colab-df-quickchart {\n",
              "      --bg-color: #E8F0FE;\n",
              "      --fill-color: #1967D2;\n",
              "      --hover-bg-color: #E2EBFA;\n",
              "      --hover-fill-color: #174EA6;\n",
              "      --disabled-fill-color: #AAA;\n",
              "      --disabled-bg-color: #DDD;\n",
              "  }\n",
              "\n",
              "  [theme=dark] .colab-df-quickchart {\n",
              "      --bg-color: #3B4455;\n",
              "      --fill-color: #D2E3FC;\n",
              "      --hover-bg-color: #434B5C;\n",
              "      --hover-fill-color: #FFFFFF;\n",
              "      --disabled-bg-color: #3B4455;\n",
              "      --disabled-fill-color: #666;\n",
              "  }\n",
              "\n",
              "  .colab-df-quickchart {\n",
              "    background-color: var(--bg-color);\n",
              "    border: none;\n",
              "    border-radius: 50%;\n",
              "    cursor: pointer;\n",
              "    display: none;\n",
              "    fill: var(--fill-color);\n",
              "    height: 32px;\n",
              "    padding: 0;\n",
              "    width: 32px;\n",
              "  }\n",
              "\n",
              "  .colab-df-quickchart:hover {\n",
              "    background-color: var(--hover-bg-color);\n",
              "    box-shadow: 0 1px 2px rgba(60, 64, 67, 0.3), 0 1px 3px 1px rgba(60, 64, 67, 0.15);\n",
              "    fill: var(--button-hover-fill-color);\n",
              "  }\n",
              "\n",
              "  .colab-df-quickchart-complete:disabled,\n",
              "  .colab-df-quickchart-complete:disabled:hover {\n",
              "    background-color: var(--disabled-bg-color);\n",
              "    fill: var(--disabled-fill-color);\n",
              "    box-shadow: none;\n",
              "  }\n",
              "\n",
              "  .colab-df-spinner {\n",
              "    border: 2px solid var(--fill-color);\n",
              "    border-color: transparent;\n",
              "    border-bottom-color: var(--fill-color);\n",
              "    animation:\n",
              "      spin 1s steps(1) infinite;\n",
              "  }\n",
              "\n",
              "  @keyframes spin {\n",
              "    0% {\n",
              "      border-color: transparent;\n",
              "      border-bottom-color: var(--fill-color);\n",
              "      border-left-color: var(--fill-color);\n",
              "    }\n",
              "    20% {\n",
              "      border-color: transparent;\n",
              "      border-left-color: var(--fill-color);\n",
              "      border-top-color: var(--fill-color);\n",
              "    }\n",
              "    30% {\n",
              "      border-color: transparent;\n",
              "      border-left-color: var(--fill-color);\n",
              "      border-top-color: var(--fill-color);\n",
              "      border-right-color: var(--fill-color);\n",
              "    }\n",
              "    40% {\n",
              "      border-color: transparent;\n",
              "      border-right-color: var(--fill-color);\n",
              "      border-top-color: var(--fill-color);\n",
              "    }\n",
              "    60% {\n",
              "      border-color: transparent;\n",
              "      border-right-color: var(--fill-color);\n",
              "    }\n",
              "    80% {\n",
              "      border-color: transparent;\n",
              "      border-right-color: var(--fill-color);\n",
              "      border-bottom-color: var(--fill-color);\n",
              "    }\n",
              "    90% {\n",
              "      border-color: transparent;\n",
              "      border-bottom-color: var(--fill-color);\n",
              "    }\n",
              "  }\n",
              "</style>\n",
              "\n",
              "  <script>\n",
              "    async function quickchart(key) {\n",
              "      const quickchartButtonEl =\n",
              "        document.querySelector('#' + key + ' button');\n",
              "      quickchartButtonEl.disabled = true;  // To prevent multiple clicks.\n",
              "      quickchartButtonEl.classList.add('colab-df-spinner');\n",
              "      try {\n",
              "        const charts = await google.colab.kernel.invokeFunction(\n",
              "            'suggestCharts', [key], {});\n",
              "      } catch (error) {\n",
              "        console.error('Error during call to suggestCharts:', error);\n",
              "      }\n",
              "      quickchartButtonEl.classList.remove('colab-df-spinner');\n",
              "      quickchartButtonEl.classList.add('colab-df-quickchart-complete');\n",
              "    }\n",
              "    (() => {\n",
              "      let quickchartButtonEl =\n",
              "        document.querySelector('#df-e7824f31-9ba9-4782-b948-01178ddb5b6f button');\n",
              "      quickchartButtonEl.style.display =\n",
              "        google.colab.kernel.accessAllowed ? 'block' : 'none';\n",
              "    })();\n",
              "  </script>\n",
              "</div>\n",
              "\n",
              "    </div>\n",
              "  </div>\n"
            ],
            "application/vnd.google.colaboratory.intrinsic+json": {
              "type": "dataframe",
              "summary": "{\n  \"name\": \"amir_deals\",\n  \"rows\": 10,\n  \"fields\": [\n    {\n      \"column\": \"product\",\n      \"properties\": {\n        \"dtype\": \"string\",\n        \"num_unique_values\": 5,\n        \"samples\": [\n          \"Product B\",\n          \"Product H\",\n          \"Product C\"\n        ],\n        \"semantic_type\": \"\",\n        \"description\": \"\"\n      }\n    },\n    {\n      \"column\": \"client\",\n      \"properties\": {\n        \"dtype\": \"category\",\n        \"num_unique_values\": 2,\n        \"samples\": [\n          \"New\",\n          \"Current\"\n        ],\n        \"semantic_type\": \"\",\n        \"description\": \"\"\n      }\n    },\n    {\n      \"column\": \"status\",\n      \"properties\": {\n        \"dtype\": \"category\",\n        \"num_unique_values\": 2,\n        \"samples\": [\n          \"Lost\",\n          \"Won\"\n        ],\n        \"semantic_type\": \"\",\n        \"description\": \"\"\n      }\n    },\n    {\n      \"column\": \"amount\",\n      \"properties\": {\n        \"dtype\": \"number\",\n        \"std\": 1880.7881475310646,\n        \"min\": 1597.44,\n        \"max\": 8614.12,\n        \"num_unique_values\": 10,\n        \"samples\": [\n          5257.16,\n          8614.12\n        ],\n        \"semantic_type\": \"\",\n        \"description\": \"\"\n      }\n    },\n    {\n      \"column\": \"num_users\",\n      \"properties\": {\n        \"dtype\": \"number\",\n        \"std\": 20,\n        \"min\": 8,\n        \"max\": 66,\n        \"num_unique_values\": 9,\n        \"samples\": [\n          22,\n          17\n        ],\n        \"semantic_type\": \"\",\n        \"description\": \"\"\n      }\n    }\n  ]\n}"
            }
          },
          "metadata": {},
          "execution_count": 8
        }
      ]
    },
    {
      "cell_type": "markdown",
      "source": [
        "# **Discrete Distributions**\n",
        "* Represent situations with discrete outcomes\n",
        "* Counted variables\n",
        "\n",
        "## **Probability Distribution**\n",
        "* Expected value of distribution = mean of distribition\n",
        "\n",
        "## **6-sided fair die**\n",
        "* Expected value = (1X1/6) + (2X1/6) +(3X1/6) +(4X1/6) +(5X1/6) +(6X1/6) = 3.5\n",
        "* Visualize with barplot and take areas\n",
        "* P(die roll) <=2 = 1/3\n",
        "* **Discrete Uniform Distribution**\n",
        "\n",
        "## **Swap 2 with 3 (no 2, 2X3)**\n",
        "* P(uneven die roll) <=2 = 1/6\n",
        "\n",
        "## **Law of Large Numbers**\n",
        "**As the size of the sample increases, the sample mean will approach the theoretical mean**\n",
        "\n",
        "\n"
      ],
      "metadata": {
        "id": "63DiiemVWsIj"
      }
    },
    {
      "cell_type": "code",
      "source": [
        "# Build 6-sided fair die dataframe with probability\n",
        "number = [1, 2, 3, 4, 5, 6]\n",
        "probability = [1/6, 1/6, 1/6, 1/6, 1/6, 1/6]\n",
        "die = pd.DataFrame({'number': number, 'probability': probability})\n",
        "\n",
        "# Expected value (mean of distribution)\n",
        "exp = np.sum(die['number'] * die['probability'])\n",
        "\n",
        "# 1000 samples with replacement\n",
        "rolls_1000 = die.sample(1000, replace = True)\n",
        "\n",
        "# Visualize with histogram\n",
        "rolls_1000['number'].hist(bins = np.linspace(1, 7, 7))\n",
        "plt.show\n",
        "\n",
        "# Mean of 1000 samples\n",
        "smp = np.mean(rolls_1000['number'])\n",
        "\n",
        "print(f\"Expected (theoratical) Value: {exp} | 1000 Sample Mean Value: {smp}\")"
      ],
      "metadata": {
        "id": "y37eMbF3Yo5J",
        "outputId": "85cacc13-9d2b-4d01-f244-860a826f5d99",
        "colab": {
          "base_uri": "https://localhost:8080/",
          "height": 448
        }
      },
      "execution_count": 13,
      "outputs": [
        {
          "output_type": "stream",
          "name": "stdout",
          "text": [
            "Expected (theoratical) Value: 3.5 | 1000 Sample Mean Value: 3.534\n"
          ]
        },
        {
          "output_type": "display_data",
          "data": {
            "text/plain": [
              "<Figure size 640x480 with 1 Axes>"
            ],
            "image/png": "[encoded data removed]"
          },
          "metadata": {}
        }
      ]
    },
    {
      "cell_type": "code",
      "source": [
        "# Create dataframe of 10 groups with different sizes\n",
        "group_id = ['A','B','C','D','E','F','G','H','I','J']\n",
        "group_size = [2,4,6,2,2,2,3,2,4,2]\n",
        "restaurant_groups=pd.DataFrame({'group_id':group_id,'group_size':group_size})\n",
        "\n",
        "\n",
        "# Create a histogram of the group_size column of restaurant_groups, setting bins to [2, 3, 4, 5, 6]\n",
        "restaurant_groups['group_size'].hist(bins=np.linspace(2,6,5))\n",
        "plt.show()\n",
        "\n",
        "# Create probability distribution\n",
        "size_dist = restaurant_groups['group_size'].value_counts() / restaurant_groups.shape[0]\n",
        "# Reset index and rename columns\n",
        "size_dist = size_dist.reset_index()\n",
        "size_dist.columns = ['group_size', 'prob']\n",
        "\n",
        "# Expected value\n",
        "expected_value = np.sum(size_dist['group_size'] * size_dist['prob'])\n",
        "\n",
        "# Subset groups of size 4 or more\n",
        "groups_4_or_more = size_dist[size_dist['group_size'] >= 4]\n",
        "\n",
        "# Sum the probabilities of groups_4_or_more\n",
        "prob_4_or_more = np.sum(groups_4_or_more['prob'])\n",
        "print(prob_4_or_more)"
      ],
      "metadata": {
        "id": "TA243Ofxdyka",
        "outputId": "caadea57-78f9-472a-8439-84b5d4da14b8",
        "colab": {
          "base_uri": "https://localhost:8080/",
          "height": 448
        }
      },
      "execution_count": 14,
      "outputs": [
        {
          "output_type": "display_data",
          "data": {
            "text/plain": [
              "<Figure size 640x480 with 1 Axes>"
            ],
            "image/png": "[encoded data removed]"
          },
          "metadata": {}
        },
        {
          "output_type": "stream",
          "name": "stdout",
          "text": [
            "0.30000000000000004\n"
          ]
        }
      ]
    }
  ]
}