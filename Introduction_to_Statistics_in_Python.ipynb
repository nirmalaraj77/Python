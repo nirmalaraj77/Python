{
  "nbformat": 4,
  "nbformat_minor": 0,
  "metadata": {
    "colab": {
      "provenance": [],
      "authorship_tag": "ABX9TyP3p0yfXz0iP95UuuYTzSkq",
      "include_colab_link": true
    },
    "kernelspec": {
      "name": "python3",
      "display_name": "Python 3"
    },
    "language_info": {
      "name": "python"
    }
  },
  "cells": [
    {
      "cell_type": "markdown",
      "metadata": {
        "id": "view-in-github",
        "colab_type": "text"
      },
      "source": [
        "<a href=\"https://colab.research.google.com/github/nirmalaraj77/Python/blob/main/Introduction_to_Statistics_in_Python.ipynb\" target=\"_parent\"><img src=\"https://colab.research.google.com/assets/colab-badge.svg\" alt=\"Open In Colab\"/></a>"
      ]
    },
    {
      "cell_type": "markdown",
      "source": [
        "# **Summary Statistics**\n",
        "\n",
        "## **Descriptive Statistics**\n",
        "* Describe and summarize data\n",
        "\n",
        "## **Inferential Statistics**\n",
        "* Use a sample of data to make inferences about a larger population\n",
        "\n",
        "## **Numeric (Qunatitative Data)**\n",
        "\n",
        "### **Continous (Measured)**\n",
        "* Airplane speed\n",
        "* Time spent waiting in line\n",
        "\n",
        "### **Discrete (Counted)**\n",
        "* Number of pets\n",
        "* Number of packages shipped\n",
        "\n",
        "## **Categorical (Qualitative Data) - Can be represented as numbers**\n",
        "\n",
        "### **Nominal (Unordered)**\n",
        "* Married / Unmarried (1 / 0)\n",
        "* Country of residence (1, 2, 3, ...)\n",
        "\n",
        "### **Ordinal (Ordered)**\n",
        "* Survey question (Strongly disagree - 1 / Neither - 2 / Strongly agree - 3)\n",
        "\n",
        "\n"
      ],
      "metadata": {
        "id": "pXnw-66K1v4u"
      }
    },
    {
      "cell_type": "markdown",
      "source": [],
      "metadata": {
        "id": "6vTaiW1F2aZs"
      }
    },
    {
      "cell_type": "code",
      "execution_count": null,
      "metadata": {
        "colab": {
          "base_uri": "https://localhost:8080/"
        },
        "id": "MNa4pK0B0ydU",
        "outputId": "017cc2be-a4cd-4f57-8eef-37e6d55615af"
      },
      "outputs": [
        {
          "output_type": "execute_result",
          "data": {
            "text/plain": [
              "3"
            ]
          },
          "metadata": {},
          "execution_count": 1
        }
      ],
      "source": [
        "a=1\n",
        "b=2\n",
        "a+b"
      ]
    }
  ]
}